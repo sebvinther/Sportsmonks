{
 "cells": [
  {
   "cell_type": "code",
   "execution_count": 3,
   "metadata": {},
   "outputs": [],
   "source": [
    "import pandas as pd\n",
    "import os"
   ]
  },
  {
   "cell_type": "code",
   "execution_count": 4,
   "metadata": {},
   "outputs": [],
   "source": [
    "#all paths to files loading\n",
    "BASE = \"/Users/sebastianvinther/Desktop/Sportsmonks\"\n",
    "paths = {\n",
    "    \"teams\": os.path.join(BASE, \"teams_full_20250501_114549.csv\"),\n",
    "    \"team_stats\": os.path.join(BASE, \"team_statistics_20250501_114549.csv\"),\n",
    "    \"teams_summary\": os.path.join(BASE, \"teams_summary_20250501_114549.csv\"),\n",
    "    \"team_players\": os.path.join(BASE, \"team_players_20250501_114549.csv\"),\n",
    "    \"fixtures\": os.path.join(BASE, \"fixtures_full.csv\"),\n",
    "    \"fixture_details\": os.path.join(BASE, \"fixture_details.csv\"),\n",
    "    \"team_coaches\": os.path.join(BASE, \"team_coaches_20250501_114549.csv\"),\n",
    "    \"team_sidelined\": os.path.join(BASE, \"team_sidelined_20250501_114549.csv\"),\n",
    "}"
   ]
  },
  {
   "cell_type": "code",
   "execution_count": 5,
   "metadata": {},
   "outputs": [
    {
     "name": "stdout",
     "output_type": "stream",
     "text": [
      "✅ Loaded teams: 2508 rows\n",
      "✅ Loaded team_stats: 80644 rows\n",
      "✅ Loaded teams_summary: 2508 rows\n",
      "✅ Loaded team_players: 34243 rows\n",
      "✅ Loaded fixtures: 155541 rows\n",
      "✅ Loaded fixture_details: 152192 rows\n",
      "✅ Loaded team_coaches: 3278 rows\n",
      "✅ Loaded team_sidelined: 1683 rows\n"
     ]
    },
    {
     "name": "stderr",
     "output_type": "stream",
     "text": [
      "/var/folders/nl/dl4x3l3x1dd8twj43d1ddkx80000gn/T/ipykernel_52342/3834057147.py:5: DtypeWarning: Columns (14) have mixed types. Specify dtype option on import or set low_memory=False.\n",
      "  dataframes[key] = pd.read_csv(path)\n"
     ]
    }
   ],
   "source": [
    "# Load the CSV files into DataFrames\n",
    "dataframes = {}\n",
    "for key, path in paths.items():\n",
    "    if os.path.exists(path):\n",
    "        dataframes[key] = pd.read_csv(path)\n",
    "        print(f\"✅ Loaded {key}: {dataframes[key].shape[0]} rows\")\n",
    "    else:\n",
    "        print(f\"❌ Missing file for {key}: {path}\")"
   ]
  },
  {
   "cell_type": "code",
   "execution_count": 6,
   "metadata": {},
   "outputs": [
    {
     "name": "stdout",
     "output_type": "stream",
     "text": [
      "\n",
      "📄 TEAMS — (2508, 21)\n"
     ]
    },
    {
     "data": {
      "application/vnd.microsoft.datawrangler.viewer.v0+json": {
       "columns": [
        {
         "name": "index",
         "rawType": "int64",
         "type": "integer"
        },
        {
         "name": "id",
         "rawType": "int64",
         "type": "integer"
        },
        {
         "name": "sport_id",
         "rawType": "int64",
         "type": "integer"
        },
        {
         "name": "country_id",
         "rawType": "float64",
         "type": "float"
        },
        {
         "name": "venue_id",
         "rawType": "float64",
         "type": "float"
        },
        {
         "name": "gender",
         "rawType": "object",
         "type": "string"
        },
        {
         "name": "name",
         "rawType": "object",
         "type": "string"
        },
        {
         "name": "short_code",
         "rawType": "object",
         "type": "string"
        },
        {
         "name": "image_path",
         "rawType": "object",
         "type": "string"
        },
        {
         "name": "founded",
         "rawType": "float64",
         "type": "float"
        },
        {
         "name": "type",
         "rawType": "object",
         "type": "string"
        },
        {
         "name": "placeholder",
         "rawType": "bool",
         "type": "boolean"
        },
        {
         "name": "last_played_at",
         "rawType": "object",
         "type": "string"
        },
        {
         "name": "sport_name",
         "rawType": "object",
         "type": "string"
        },
        {
         "name": "sport_code",
         "rawType": "object",
         "type": "string"
        },
        {
         "name": "sidelinedhistory",
         "rawType": "object",
         "type": "string"
        },
        {
         "name": "players_count",
         "rawType": "int64",
         "type": "integer"
        },
        {
         "name": "coaches_count",
         "rawType": "int64",
         "type": "integer"
        },
        {
         "name": "sidelined_count",
         "rawType": "int64",
         "type": "integer"
        },
        {
         "name": "sidelined_history_count",
         "rawType": "int64",
         "type": "integer"
        },
        {
         "name": "rivals_count",
         "rawType": "int64",
         "type": "integer"
        },
        {
         "name": "statistics_count",
         "rawType": "int64",
         "type": "integer"
        }
       ],
       "conversionMethod": "pd.DataFrame",
       "ref": "a02032da-c9d1-41d9-b9f7-2cb64e46f070",
       "rows": [
        [
         "0",
         "1",
         "1",
         "462.0",
         "214.0",
         "male",
         "West Ham United",
         "WHU",
         "https://cdn.sportmonks.com/images/soccer/teams/1/1.png",
         "1895.0",
         "domestic",
         "False",
         "2025-04-26 14:00:00",
         "Football",
         "football",
         "[{'id': 190, 'player_id': 736, 'type_id': 336, 'category': 'injury', 'team_id': 1, 'season_id': None, 'start_date': '2018-09-04', 'end_date': '2018-10-19', 'games_missed': 5, 'completed': True}, {'id': 232, 'player_id': 156, 'type_id': 1911, 'category': 'injury', 'team_id': 1, 'season_id': None, 'start_date': '2008-04-08', 'end_date': '2008-04-19', 'games_missed': 2, 'completed': True}, {'id': 239, 'player_id': 158, 'type_id': 1911, 'category': 'injury', 'team_id': 1, 'season_id': None, 'start_date': '2008-03-28', 'end_date': '2008-04-08', 'games_missed': 1, 'completed': True}, {'id': 178, 'player_id': 1416, 'type_id': 1918, 'category': 'injury', 'team_id': 1, 'season_id': None, 'start_date': '2021-11-08', 'end_date': '2022-07-21', 'games_missed': 46, 'completed': True}, {'id': 244, 'player_id': 383, 'type_id': 1911, 'category': 'injury', 'team_id': 1, 'season_id': None, 'start_date': '2018-01-10', 'end_date': '2018-02-02', 'games_missed': 5, 'completed': True}, {'id': 292, 'player_id': 736, 'type_id': 535, 'category': 'injury', 'team_id': 1, 'season_id': None, 'start_date': '2017-11-11', 'end_date': '2017-12-03', 'games_missed': 3, 'completed': True}, {'id': 324, 'player_id': 746, 'type_id': 536, 'category': 'injury', 'team_id': 1, 'season_id': None, 'start_date': '2016-08-18', 'end_date': '2016-12-02', 'games_missed': 17, 'completed': True}, {'id': 323, 'player_id': 746, 'type_id': 587, 'category': 'injury', 'team_id': 1, 'season_id': None, 'start_date': '2016-01-12', 'end_date': '2016-02-03', 'games_missed': 4, 'completed': True}, {'id': 371, 'player_id': 717, 'type_id': 537, 'category': 'injury', 'team_id': 1, 'season_id': None, 'start_date': '2018-09-09', 'end_date': '2018-11-30', 'games_missed': 11, 'completed': True}, {'id': 372, 'player_id': 717, 'type_id': 532, 'category': 'injury', 'team_id': 1, 'season_id': None, 'start_date': '2020-09-11', 'end_date': '2020-09-22', 'games_missed': 3, 'completed': True}, {'id': 411, 'player_id': 336, 'type_id': 545, 'category': 'injury', 'team_id': 1, 'season_id': None, 'start_date': '2015-03-12', 'end_date': '2015-05-24', 'games_missed': 9, 'completed': True}, {'id': 412, 'player_id': 336, 'type_id': 532, 'category': 'injury', 'team_id': 1, 'season_id': None, 'start_date': '2016-02-06', 'end_date': '2016-04-01', 'games_missed': 9, 'completed': True}, {'id': 423, 'player_id': 496, 'type_id': 535, 'category': 'injury', 'team_id': 1, 'season_id': None, 'start_date': '2015-12-05', 'end_date': '2016-01-16', 'games_missed': 8, 'completed': True}, {'id': 471, 'player_id': 754, 'type_id': 537, 'category': 'injury', 'team_id': 1, 'season_id': None, 'start_date': '2010-11-01', 'end_date': '2011-02-28', 'games_missed': 23, 'completed': True}, {'id': 619, 'player_id': 156, 'type_id': 535, 'category': 'injury', 'team_id': 1, 'season_id': None, 'start_date': '2017-12-16', 'end_date': '2017-12-31', 'games_missed': 4, 'completed': True}, {'id': 625, 'player_id': 156, 'type_id': 537, 'category': 'injury', 'team_id': 1, 'season_id': None, 'start_date': '2020-01-02', 'end_date': '2020-01-09', 'games_missed': 1, 'completed': True}, {'id': 626, 'player_id': 156, 'type_id': 535, 'category': 'injury', 'team_id': 1, 'season_id': None, 'start_date': '2020-07-01', 'end_date': '2020-07-04', 'games_missed': 1, 'completed': True}, {'id': 627, 'player_id': 156, 'type_id': 537, 'category': 'injury', 'team_id': 1, 'season_id': None, 'start_date': '2020-09-13', 'end_date': '2020-09-26', 'games_missed': 3, 'completed': True}, {'id': 692, 'player_id': 383, 'type_id': 535, 'category': 'injury', 'team_id': 1, 'season_id': None, 'start_date': '2015-01-31', 'end_date': '2015-02-22', 'games_missed': 4, 'completed': True}, {'id': 695, 'player_id': 383, 'type_id': 535, 'category': 'injury', 'team_id': 1, 'season_id': None, 'start_date': '2015-03-04', 'end_date': '2015-04-04', 'games_missed': 3, 'completed': True}, {'id': 697, 'player_id': 383, 'type_id': 535, 'category': 'injury', 'team_id': 1, 'season_id': None, 'start_date': '2015-12-09', 'end_date': '2016-01-05', 'games_missed': 5, 'completed': True}, {'id': 699, 'player_id': 383, 'type_id': 535, 'category': 'injury', 'team_id': 1, 'season_id': None, 'start_date': '2016-02-09', 'end_date': '2016-03-13', 'games_missed': 6, 'completed': True}, {'id': 701, 'player_id': 383, 'type_id': 536, 'category': 'injury', 'team_id': 1, 'season_id': None, 'start_date': '2018-03-03', 'end_date': '2019-06-30', 'games_missed': 60, 'completed': True}, {'id': 702, 'player_id': 383, 'type_id': 536, 'category': 'injury', 'team_id': 1, 'season_id': None, 'start_date': '2019-03-04', 'end_date': '2019-08-09', 'games_missed': 14, 'completed': True}, {'id': 703, 'player_id': 383, 'type_id': 536, 'category': 'injury', 'team_id': 1, 'season_id': None, 'start_date': '2019-08-17', 'end_date': '2019-10-29', 'games_missed': 11, 'completed': True}, {'id': 704, 'player_id': 383, 'type_id': 531, 'category': 'injury', 'team_id': 1, 'season_id': None, 'start_date': '2019-12-24', 'end_date': '2019-12-27', 'games_missed': 0, 'completed': True}, {'id': 1620, 'player_id': 496, 'type_id': 554, 'category': 'injury', 'team_id': 1, 'season_id': None, 'start_date': '2016-02-27', 'end_date': '2016-03-10', 'games_missed': 3, 'completed': True}, {'id': 1655, 'player_id': 733, 'type_id': 551, 'category': 'injury', 'team_id': 1, 'season_id': None, 'start_date': '2019-09-28', 'end_date': '2020-01-01', 'games_missed': 13, 'completed': True}, {'id': 1656, 'player_id': 733, 'type_id': 551, 'category': 'injury', 'team_id': 1, 'season_id': None, 'start_date': '2020-01-11', 'end_date': '2020-01-27', 'games_missed': 3, 'completed': True}, {'id': 2168, 'player_id': 1261, 'type_id': 536, 'category': 'injury', 'team_id': 1, 'season_id': None, 'start_date': '2016-07-23', 'end_date': '2016-10-15', 'games_missed': 14, 'completed': True}, {'id': 2171, 'player_id': 1261, 'type_id': 339, 'category': 'injury', 'team_id': 1, 'season_id': None, 'start_date': '2016-11-30', 'end_date': '2016-12-11', 'games_missed': 2, 'completed': True}, {'id': 2174, 'player_id': 1261, 'type_id': 532, 'category': 'injury', 'team_id': 1, 'season_id': None, 'start_date': '2018-10-28', 'end_date': '2018-11-02', 'games_missed': 1, 'completed': True}, {'id': 2175, 'player_id': 1261, 'type_id': 535, 'category': 'injury', 'team_id': 1, 'season_id': None, 'start_date': '2018-12-02', 'end_date': '2018-12-07', 'games_missed': 1, 'completed': True}, {'id': 2177, 'player_id': 1261, 'type_id': 535, 'category': 'injury', 'team_id': 1, 'season_id': None, 'start_date': '2019-01-20', 'end_date': '2019-02-03', 'games_missed': 2, 'completed': True}, {'id': 2181, 'player_id': 1261, 'type_id': 536, 'category': 'injury', 'team_id': 1, 'season_id': None, 'start_date': '2019-04-10', 'end_date': '2019-05-31', 'games_missed': 5, 'completed': True}, {'id': 2183, 'player_id': 1261, 'type_id': 531, 'category': 'injury', 'team_id': 1, 'season_id': None, 'start_date': '2020-01-02', 'end_date': '2020-01-09', 'games_missed': 1, 'completed': True}, {'id': 2184, 'player_id': 1261, 'type_id': 531, 'category': 'injury', 'team_id': 1, 'season_id': None, 'start_date': '2020-07-23', 'end_date': '2020-07-31', 'games_missed': 1, 'completed': True}, {'id': 2185, 'player_id': 1261, 'type_id': 537, 'category': 'injury', 'team_id': 1, 'season_id': None, 'start_date': '2020-12-18', 'end_date': '2020-12-21', 'games_missed': 0, 'completed': True}, {'id': 2200, 'player_id': 1166, 'type_id': 537, 'category': 'injury', 'team_id': 1, 'season_id': None, 'start_date': '2017-10-28', 'end_date': '2018-01-20', 'games_missed': 17, 'completed': True}, {'id': 2367, 'player_id': 1043, 'type_id': 540, 'category': 'injury', 'team_id': 1, 'season_id': None, 'start_date': '2018-09-26', 'end_date': '2019-04-29', 'games_missed': 34, 'completed': True}, {'id': 2369, 'player_id': 1139, 'type_id': 536, 'category': 'injury', 'team_id': 1, 'season_id': None, 'start_date': '2018-08-26', 'end_date': '2018-08-31', 'games_missed': 1, 'completed': True}, {'id': 2373, 'player_id': 1139, 'type_id': 536, 'category': 'injury', 'team_id': 1, 'season_id': None, 'start_date': '2018-09-17', 'end_date': '2018-09-28', 'games_missed': 2, 'completed': True}, {'id': 2380, 'player_id': 1139, 'type_id': 535, 'category': 'injury', 'team_id': 1, 'season_id': None, 'start_date': '2018-12-04', 'end_date': '2019-01-02', 'games_missed': 6, 'completed': True}, {'id': 2385, 'player_id': 1139, 'type_id': 549, 'category': 'injury', 'team_id': 1, 'season_id': None, 'start_date': '2019-01-30', 'end_date': '2019-02-09', 'games_missed': 1, 'completed': True}, {'id': 2387, 'player_id': 1139, 'type_id': 336, 'category': 'injury', 'team_id': 1, 'season_id': None, 'start_date': '2019-02-24', 'end_date': '2019-03-01', 'games_missed': 1, 'completed': True}, {'id': 2394, 'player_id': 1139, 'type_id': 336, 'category': 'injury', 'team_id': 1, 'season_id': None, 'start_date': '2019-04-10', 'end_date': '2019-04-19', 'games_missed': 1, 'completed': True}, {'id': 2688, 'player_id': 1243, 'type_id': 339, 'category': 'injury', 'team_id': 1, 'season_id': None, 'start_date': '2016-11-30', 'end_date': '2016-12-14', 'games_missed': 3, 'completed': True}, {'id': 2692, 'player_id': 1243, 'type_id': 536, 'category': 'injury', 'team_id': 1, 'season_id': None, 'start_date': '2017-07-15', 'end_date': '2017-08-23', 'games_missed': 8, 'completed': True}, {'id': 2696, 'player_id': 1243, 'type_id': 535, 'category': 'injury', 'team_id': 1, 'season_id': None, 'start_date': '2017-12-03', 'end_date': '2017-12-23', 'games_missed': 5, 'completed': True}, {'id': 2749, 'player_id': 1244, 'type_id': 536, 'category': 'injury', 'team_id': 1, 'season_id': None, 'start_date': '2014-11-21', 'end_date': '2014-12-05', 'games_missed': 3, 'completed': True}, {'id': 2755, 'player_id': 1244, 'type_id': 532, 'category': 'injury', 'team_id': 1, 'season_id': None, 'start_date': '2015-07-31', 'end_date': '2015-10-16', 'games_missed': 10, 'completed': True}, {'id': 2762, 'player_id': 1244, 'type_id': 537, 'category': 'injury', 'team_id': 1, 'season_id': None, 'start_date': '2015-11-09', 'end_date': '2015-12-10', 'games_missed': 3, 'completed': True}, {'id': 2765, 'player_id': 1244, 'type_id': 537, 'category': 'injury', 'team_id': 1, 'season_id': None, 'start_date': '2016-02-14', 'end_date': '2016-03-10', 'games_missed': 4, 'completed': True}, {'id': 2793, 'player_id': 1309, 'type_id': 535, 'category': 'injury', 'team_id': 1, 'season_id': None, 'start_date': '2016-08-16', 'end_date': '2016-10-25', 'games_missed': 11, 'completed': True}, {'id': 2796, 'player_id': 1309, 'type_id': 336, 'category': 'injury', 'team_id': 1, 'season_id': None, 'start_date': '2017-11-16', 'end_date': '2017-11-24', 'games_missed': 1, 'completed': True}, {'id': 2799, 'player_id': 1309, 'type_id': 535, 'category': 'injury', 'team_id': 1, 'season_id': None, 'start_date': '2018-01-16', 'end_date': '2018-02-10', 'games_missed': 5, 'completed': True}, {'id': 2845, 'player_id': 1251, 'type_id': 532, 'category': 'injury', 'team_id': 1, 'season_id': None, 'start_date': '2016-05-06', 'end_date': '2016-05-16', 'games_missed': 2, 'completed': True}, {'id': 2995, 'player_id': 1316, 'type_id': 535, 'category': 'injury', 'team_id': 1, 'season_id': None, 'start_date': '2021-12-04', 'end_date': '2022-01-16', 'games_missed': 10, 'completed': True}, {'id': 3080, 'player_id': 1286, 'type_id': 535, 'category': 'injury', 'team_id': 1, 'season_id': None, 'start_date': '2015-08-19', 'end_date': '2015-09-19', 'games_missed': 3, 'completed': True}, {'id': 3133, 'player_id': 870, 'type_id': 536, 'category': 'injury', 'team_id': 1, 'season_id': None, 'start_date': '2020-01-24', 'end_date': '2020-01-28', 'games_missed': 1, 'completed': True}, {'id': 88014, 'player_id': 736, 'type_id': 1969, 'category': 'injury', 'team_id': 1, 'season_id': None, 'start_date': '2019-04-16', 'end_date': '2019-04-26', 'games_missed': 1, 'completed': True}, {'id': 3669, 'player_id': 96799, 'type_id': 537, 'category': 'injury', 'team_id': 1, 'season_id': None, 'start_date': '2022-04-18', 'end_date': '2022-05-02', 'games_missed': 0, 'completed': True}, {'id': 5839, 'player_id': 4801, 'type_id': 531, 'category': 'injury', 'team_id': 1, 'season_id': None, 'start_date': '2018-08-09', 'end_date': '2018-08-17', 'games_missed': 1, 'completed': True}, {'id': 5841, 'player_id': 4801, 'type_id': 549, 'category': 'injury', 'team_id': 1, 'season_id': None, 'start_date': '2018-12-09', 'end_date': '2018-12-26', 'games_missed': 2, 'completed': True}, {'id': 5845, 'player_id': 4801, 'type_id': 537, 'category': 'injury', 'team_id': 1, 'season_id': None, 'start_date': '2019-01-28', 'end_date': '2019-02-03', 'games_missed': 1, 'completed': True}, {'id': 7000, 'player_id': 96426, 'type_id': 531, 'category': 'injury', 'team_id': 1, 'season_id': None, 'start_date': '2020-10-16', 'end_date': '2020-10-30', 'games_missed': 2, 'completed': True}, {'id': 7266, 'player_id': 1931, 'type_id': 537, 'category': 'injury', 'team_id': 1, 'season_id': None, 'start_date': '2017-01-13', 'end_date': '2017-02-06', 'games_missed': 4, 'completed': True}, {'id': 8187, 'player_id': 1420, 'type_id': 537, 'category': 'injury', 'team_id': 1, 'season_id': None, 'start_date': '2016-10-31', 'end_date': '2017-01-05', 'games_missed': 11, 'completed': True}, {'id': 8190, 'player_id': 1452, 'type_id': 535, 'category': 'injury', 'team_id': 1, 'season_id': None, 'start_date': '2015-12-03', 'end_date': '2015-12-24', 'games_missed': 3, 'completed': True}, {'id': 8196, 'player_id': 1452, 'type_id': 533, 'category': 'injury', 'team_id': 1, 'season_id': None, 'start_date': '2016-01-04', 'end_date': '2016-02-15', 'games_missed': 9, 'completed': True}, {'id': 8201, 'player_id': 1452, 'type_id': 536, 'category': 'injury', 'team_id': 1, 'season_id': None, 'start_date': '2016-07-25', 'end_date': '2016-09-08', 'games_missed': 8, 'completed': True}, {'id': 8203, 'player_id': 1452, 'type_id': 536, 'category': 'injury', 'team_id': 1, 'season_id': None, 'start_date': '2017-07-27', 'end_date': '2017-08-24', 'games_missed': 6, 'completed': True}, {'id': 8207, 'player_id': 1452, 'type_id': 536, 'category': 'injury', 'team_id': 1, 'season_id': None, 'start_date': '2017-08-28', 'end_date': '2017-09-28', 'games_missed': 4, 'completed': True}, {'id': 8208, 'player_id': 1452, 'type_id': 535, 'category': 'injury', 'team_id': 1, 'season_id': None, 'start_date': '2018-01-22', 'end_date': '2018-02-22', 'games_missed': 4, 'completed': True}, {'id': 8213, 'player_id': 1452, 'type_id': 537, 'category': 'injury', 'team_id': 1, 'season_id': None, 'start_date': '2019-09-17', 'end_date': '2019-09-27', 'games_missed': 2, 'completed': True}, {'id': 8217, 'player_id': 1452, 'type_id': 545, 'category': 'injury', 'team_id': 1, 'season_id': None, 'start_date': '2019-11-10', 'end_date': '2019-12-25', 'games_missed': 5, 'completed': True}, {'id': 9361, 'player_id': 1517, 'type_id': 537, 'category': 'injury', 'team_id': 1, 'season_id': None, 'start_date': '2017-03-18', 'end_date': '2017-08-10', 'games_missed': 16, 'completed': True}, {'id': 9364, 'player_id': 1517, 'type_id': 536, 'category': 'injury', 'team_id': 1, 'season_id': None, 'start_date': '2018-01-27', 'end_date': '2018-05-04', 'games_missed': 12, 'completed': True}, {'id': 10305, 'player_id': 129454, 'type_id': 537, 'category': 'injury', 'team_id': 1, 'season_id': None, 'start_date': '2019-03-28', 'end_date': '2019-04-07', 'games_missed': 1, 'completed': True}, {'id': 10309, 'player_id': 129454, 'type_id': 336, 'category': 'injury', 'team_id': 1, 'season_id': None, 'start_date': '2019-04-28', 'end_date': '2019-05-11', 'games_missed': 1, 'completed': True}, {'id': 10314, 'player_id': 129454, 'type_id': 531, 'category': 'injury', 'team_id': 1, 'season_id': None, 'start_date': '2020-07-02', 'end_date': '2020-07-16', 'games_missed': 3, 'completed': True}, {'id': 12164, 'player_id': 4815, 'type_id': 536, 'category': 'injury', 'team_id': 1, 'season_id': None, 'start_date': '2016-12-08', 'end_date': '2017-01-02', 'games_missed': 5, 'completed': True}, {'id': 16276, 'player_id': 4371, 'type_id': 537, 'category': 'injury', 'team_id': 1, 'season_id': None, 'start_date': '2018-11-10', 'end_date': '2019-01-26', 'games_missed': 13, 'completed': True}, {'id': 16280, 'player_id': 4371, 'type_id': 531, 'category': 'injury', 'team_id': 1, 'season_id': None, 'start_date': '2019-03-29', 'end_date': '2019-04-07', 'games_missed': 1, 'completed': True}, {'id': 16283, 'player_id': 4371, 'type_id': 531, 'category': 'injury', 'team_id': 1, 'season_id': None, 'start_date': '2019-09-23', 'end_date': '2019-09-27', 'games_missed': 1, 'completed': True}, {'id': 16289, 'player_id': 4371, 'type_id': 545, 'category': 'injury', 'team_id': 1, 'season_id': None, 'start_date': '2020-02-19', 'end_date': '2020-06-08', 'games_missed': 4, 'completed': True}, {'id': 16294, 'player_id': 4371, 'type_id': 532, 'category': 'injury', 'team_id': 1, 'season_id': None, 'start_date': '2020-07-16', 'end_date': '2020-07-25', 'games_missed': 2, 'completed': True}, {'id': 16322, 'player_id': 4947, 'type_id': 531, 'category': 'injury', 'team_id': 1, 'season_id': None, 'start_date': '2018-06-05', 'end_date': '2018-08-26', 'games_missed': 9, 'completed': True}, {'id': 16770, 'player_id': 1922, 'type_id': 339, 'category': 'injury', 'team_id': 1, 'season_id': None, 'start_date': '2016-11-30', 'end_date': '2016-12-11', 'games_missed': 2, 'completed': True}, {'id': 16773, 'player_id': 1922, 'type_id': 535, 'category': 'injury', 'team_id': 1, 'season_id': None, 'start_date': '2017-03-18', 'end_date': '2017-04-04', 'games_missed': 2, 'completed': True}, {'id': 16777, 'player_id': 1922, 'type_id': 535, 'category': 'injury', 'team_id': 1, 'season_id': None, 'start_date': '2017-04-08', 'end_date': '2017-08-10', 'games_missed': 13, 'completed': True}, {'id': 16784, 'player_id': 1922, 'type_id': 535, 'category': 'injury', 'team_id': 1, 'season_id': None, 'start_date': '2018-03-31', 'end_date': '2018-08-10', 'games_missed': 15, 'completed': True}, {'id': 16790, 'player_id': 1922, 'type_id': 537, 'category': 'injury', 'team_id': 1, 'season_id': None, 'start_date': '2018-08-26', 'end_date': '2018-08-31', 'games_missed': 1, 'completed': True}, {'id': 16796, 'player_id': 1922, 'type_id': 535, 'category': 'injury', 'team_id': 1, 'season_id': None, 'start_date': '2019-08-29', 'end_date': '2019-11-22', 'games_missed': 10, 'completed': True}, {'id': 16806, 'player_id': 1922, 'type_id': 535, 'category': 'injury', 'team_id': 1, 'season_id': None, 'start_date': '2020-10-25', 'end_date': '2020-11-29', 'games_missed': 3, 'completed': True}, {'id': 16810, 'player_id': 1922, 'type_id': 531, 'category': 'injury', 'team_id': 1, 'season_id': None, 'start_date': '2021-02-07', 'end_date': '2021-02-16', 'games_missed': 1, 'completed': True}, {'id': 16817, 'player_id': 1922, 'type_id': 554, 'category': 'injury', 'team_id': 1, 'season_id': None, 'start_date': '2021-04-06', 'end_date': '2021-04-29', 'games_missed': 3, 'completed': True}, {'id': 18356, 'player_id': 4852, 'type_id': 535, 'category': 'injury', 'team_id': 1, 'season_id': None, 'start_date': '2016-08-07', 'end_date': '2016-09-10', 'games_missed': 6, 'completed': True}, {'id': 18358, 'player_id': 4852, 'type_id': 544, 'category': 'injury', 'team_id': 1, 'season_id': None, 'start_date': '2017-06-11', 'end_date': '2017-08-26', 'games_missed': 9, 'completed': True}, {'id': 18945, 'player_id': 1941, 'type_id': 536, 'category': 'injury', 'team_id': 1, 'season_id': None, 'start_date': '2016-09-21', 'end_date': '2016-11-29', 'games_missed': 10, 'completed': True}, {'id': 18949, 'player_id': 1941, 'type_id': 536, 'category': 'injury', 'team_id': 1, 'season_id': None, 'start_date': '2016-12-07', 'end_date': '2017-02-24', 'games_missed': 12, 'completed': True}, {'id': 18952, 'player_id': 1941, 'type_id': 549, 'category': 'injury', 'team_id': 1, 'season_id': None, 'start_date': '2017-04-29', 'end_date': '2017-05-11', 'games_missed': 2, 'completed': True}, {'id': 18955, 'player_id': 1941, 'type_id': 531, 'category': 'injury', 'team_id': 1, 'season_id': None, 'start_date': '2018-08-31', 'end_date': '2018-09-15', 'games_missed': 1, 'completed': True}, {'id': 18965, 'player_id': 1941, 'type_id': 536, 'category': 'injury', 'team_id': 1, 'season_id': None, 'start_date': '2019-02-10', 'end_date': '2019-03-01', 'games_missed': 2, 'completed': True}, {'id': 18977, 'player_id': 1941, 'type_id': 536, 'category': 'injury', 'team_id': 1, 'season_id': None, 'start_date': '2020-01-24', 'end_date': '2020-01-28', 'games_missed': 1, 'completed': True}, {'id': 18983, 'player_id': 1941, 'type_id': 537, 'category': 'injury', 'team_id': 1, 'season_id': None, 'start_date': '2020-06-19', 'end_date': '2020-07-04', 'games_missed': 3, 'completed': True}, {'id': 18988, 'player_id': 1941, 'type_id': 540, 'category': 'injury', 'team_id': 1, 'season_id': None, 'start_date': '2020-12-10', 'end_date': '2021-03-17', 'games_missed': 20, 'completed': True}, {'id': 19485, 'player_id': 4597, 'type_id': 553, 'category': 'injury', 'team_id': 1, 'season_id': None, 'start_date': '2015-10-03', 'end_date': '2015-12-31', 'games_missed': 12, 'completed': True}, {'id': 19487, 'player_id': 4597, 'type_id': 536, 'category': 'injury', 'team_id': 1, 'season_id': None, 'start_date': '2016-07-13', 'end_date': '2016-09-22', 'games_missed': 14, 'completed': True}, {'id': 22683, 'player_id': 3544, 'type_id': 551, 'category': 'injury', 'team_id': 1, 'season_id': None, 'start_date': '2019-12-15', 'end_date': '2020-01-08', 'games_missed': 4, 'completed': True}, {'id': 23379, 'player_id': 204697, 'type_id': 538, 'category': 'injury', 'team_id': 1, 'season_id': None, 'start_date': '2020-11-13', 'end_date': '2020-12-04', 'games_missed': 2, 'completed': True}, {'id': 23380, 'player_id': 204697, 'type_id': 547, 'category': 'injury', 'team_id': 1, 'season_id': None, 'start_date': '2021-03-23', 'end_date': '2021-04-12', 'games_missed': 1, 'completed': True}, {'id': 23382, 'player_id': 204697, 'type_id': 587, 'category': 'injury', 'team_id': 1, 'season_id': None, 'start_date': '2021-11-03', 'end_date': '2021-11-08', 'games_missed': 1, 'completed': True}, {'id': 23902, 'player_id': 5273, 'type_id': 336, 'category': 'injury', 'team_id': 1, 'season_id': None, 'start_date': '2019-04-28', 'end_date': '2019-05-11', 'games_missed': 1, 'completed': True}, {'id': 25704, 'player_id': 25499, 'type_id': 536, 'category': 'injury', 'team_id': 1, 'season_id': None, 'start_date': '2019-08-11', 'end_date': '2019-08-23', 'games_missed': 1, 'completed': True}, {'id': 25709, 'player_id': 25499, 'type_id': 531, 'category': 'injury', 'team_id': 1, 'season_id': None, 'start_date': '2020-10-06', 'end_date': '2020-10-22', 'games_missed': 1, 'completed': True}, {'id': 339403, 'player_id': 80655, 'type_id': 1682, 'category': 'doubtful', 'team_id': 1, 'season_id': None, 'start_date': '2020-03-07', 'end_date': '2023-07-04', 'games_missed': None, 'completed': True}, {'id': 31649, 'player_id': 96799, 'type_id': 538, 'category': 'injury', 'team_id': 1, 'season_id': None, 'start_date': '2020-09-22', 'end_date': '2020-10-17', 'games_missed': 4, 'completed': True}, {'id': 31760, 'player_id': 1316, 'type_id': 535, 'category': 'injury', 'team_id': 1, 'season_id': None, 'start_date': '2021-12-06', 'end_date': '2022-01-17', 'games_missed': 9, 'completed': True}, {'id': 32756, 'player_id': 1413, 'type_id': 531, 'category': 'injury', 'team_id': 1, 'season_id': None, 'start_date': '2016-08-16', 'end_date': '2016-08-30', 'games_missed': 4, 'completed': True}, {'id': 33467, 'player_id': 4229, 'type_id': 550, 'category': 'injury', 'team_id': 1, 'season_id': None, 'start_date': '2013-01-23', 'end_date': '2013-02-07', 'games_missed': 3, 'completed': True}, {'id': 34954, 'player_id': 219591, 'type_id': 540, 'category': 'injury', 'team_id': 1, 'season_id': None, 'start_date': '2018-12-22', 'end_date': '2019-03-02', 'games_missed': 13, 'completed': True}, {'id': 34958, 'player_id': 219591, 'type_id': 339, 'category': 'injury', 'team_id': 1, 'season_id': None, 'start_date': '2020-12-18', 'end_date': '2020-12-21', 'games_missed': 0, 'completed': True}, {'id': 34960, 'player_id': 219591, 'type_id': 532, 'category': 'injury', 'team_id': 1, 'season_id': None, 'start_date': '2021-02-10', 'end_date': '2021-02-16', 'games_missed': 0, 'completed': True}, {'id': 35717, 'player_id': 1416, 'type_id': 540, 'category': 'injury', 'team_id': 1, 'season_id': None, 'start_date': '2017-01-22', 'end_date': '2017-08-10', 'games_missed': 22, 'completed': True}, {'id': 35720, 'player_id': 1416, 'type_id': 536, 'category': 'injury', 'team_id': 1, 'season_id': None, 'start_date': '2020-06-11', 'end_date': '2020-06-22', 'games_missed': 1, 'completed': True}, {'id': 35724, 'player_id': 1416, 'type_id': 537, 'category': 'injury', 'team_id': 1, 'season_id': None, 'start_date': '2021-02-11', 'end_date': '2021-04-12', 'games_missed': 7, 'completed': True}, {'id': 35853, 'player_id': 1928, 'type_id': 554, 'category': 'injury', 'team_id': 1, 'season_id': None, 'start_date': '2016-03-18', 'end_date': '2016-04-17', 'games_missed': 4, 'completed': True}, {'id': 35861, 'player_id': 1928, 'type_id': 535, 'category': 'injury', 'team_id': 1, 'season_id': None, 'start_date': '2016-10-01', 'end_date': '2017-01-08', 'games_missed': 17, 'completed': True}, {'id': 35865, 'player_id': 1928, 'type_id': 537, 'category': 'injury', 'team_id': 1, 'season_id': None, 'start_date': '2018-03-03', 'end_date': '2018-08-13', 'games_missed': 17, 'completed': True}, {'id': 36816, 'player_id': 1449, 'type_id': 536, 'category': 'injury', 'team_id': 1, 'season_id': None, 'start_date': '2015-11-20', 'end_date': '2015-12-05', 'games_missed': 2, 'completed': True}, {'id': 36818, 'player_id': 1449, 'type_id': 531, 'category': 'injury', 'team_id': 1, 'season_id': None, 'start_date': '2021-01-20', 'end_date': '2021-04-18', 'games_missed': 14, 'completed': True}, {'id': 39538, 'player_id': 96799, 'type_id': 538, 'category': 'injury', 'team_id': 1, 'season_id': None, 'start_date': '2020-09-21', 'end_date': '2020-10-15', 'games_missed': 4, 'completed': True}, {'id': 44788, 'player_id': 516291, 'type_id': 537, 'category': 'injury', 'team_id': 1, 'season_id': None, 'start_date': '2022-07-18', 'end_date': '2022-10-24', 'games_missed': 20, 'completed': True}, {'id': 46321, 'player_id': 736, 'type_id': 687, 'category': 'injury', 'team_id': 1, 'season_id': None, 'start_date': '2018-05-04', 'end_date': '2018-05-13', 'games_missed': 2, 'completed': True}, {'id': 47019, 'player_id': 1422, 'type_id': 535, 'category': 'injury', 'team_id': 1, 'season_id': None, 'start_date': '2015-12-03', 'end_date': '2016-03-01', 'games_missed': 17, 'completed': True}, {'id': 46986, 'player_id': 493, 'type_id': 535, 'category': 'injury', 'team_id': 1, 'season_id': None, 'start_date': '2012-12-09', 'end_date': '2013-01-16', 'games_missed': 7, 'completed': True}, {'id': 47020, 'player_id': 1422, 'type_id': 535, 'category': 'injury', 'team_id': 1, 'season_id': None, 'start_date': '2016-11-27', 'end_date': '2016-12-20', 'games_missed': 6, 'completed': True}, {'id': 47018, 'player_id': 1422, 'type_id': 1938, 'category': 'injury', 'team_id': 1, 'season_id': None, 'start_date': '2015-04-11', 'end_date': '2015-06-30', 'games_missed': 7, 'completed': True}, {'id': 74789, 'player_id': 219591, 'type_id': 1933, 'category': 'injury', 'team_id': 1, 'season_id': None, 'start_date': '2021-01-02', 'end_date': '2021-01-18', 'games_missed': 2, 'completed': True}, {'id': 47765, 'player_id': 4947, 'type_id': 531, 'category': 'injury', 'team_id': 1, 'season_id': None, 'start_date': '2018-06-04', 'end_date': '2018-08-27', 'games_missed': 10, 'completed': True}, {'id': 482616, 'player_id': 31, 'type_id': 1608, 'category': 'suspended', 'team_id': 1, 'season_id': None, 'start_date': '2003-11-09', 'end_date': '2003-11-23', 'games_missed': 0, 'completed': True}, {'id': 73234, 'player_id': 1922, 'type_id': 2002, 'category': 'injury', 'team_id': 1, 'season_id': None, 'start_date': '2017-10-20', 'end_date': '2017-11-28', 'games_missed': 6, 'completed': True}, {'id': 57365, 'player_id': 1517, 'type_id': 598, 'category': 'injury', 'team_id': 1, 'season_id': None, 'start_date': '2017-09-17', 'end_date': '2017-10-14', 'games_missed': 3, 'completed': True}, {'id': 57559, 'player_id': 129454, 'type_id': 595, 'category': 'injury', 'team_id': 1, 'season_id': None, 'start_date': '2020-01-12', 'end_date': '2020-02-24', 'games_missed': 6, 'completed': True}, {'id': 57582, 'player_id': 1422, 'type_id': 595, 'category': 'injury', 'team_id': 1, 'season_id': None, 'start_date': '2015-01-01', 'end_date': '2015-01-23', 'games_missed': 5, 'completed': True}, {'id': 57586, 'player_id': 1422, 'type_id': 595, 'category': 'injury', 'team_id': 1, 'season_id': None, 'start_date': '2016-12-21', 'end_date': '2017-03-18', 'games_missed': 12, 'completed': True}, {'id': 57588, 'player_id': 1422, 'type_id': 595, 'category': 'injury', 'team_id': 1, 'season_id': None, 'start_date': '2017-10-16', 'end_date': '2017-11-03', 'games_missed': 3, 'completed': True}, {'id': 74481, 'player_id': 4371, 'type_id': 1933, 'category': 'injury', 'team_id': 1, 'season_id': None, 'start_date': '2020-12-30', 'end_date': '2021-01-15', 'games_missed': 2, 'completed': True}, {'id': 79587, 'player_id': 4947, 'type_id': 1959, 'category': 'injury', 'team_id': 1, 'season_id': None, 'start_date': '2017-09-04', 'end_date': '2017-10-16', 'games_missed': 6, 'completed': True}, {'id': 49674, 'player_id': 383, 'type_id': 1938, 'category': 'injury', 'team_id': 1, 'season_id': None, 'start_date': '2017-03-18', 'end_date': '2017-04-20', 'games_missed': 5, 'completed': True}, {'id': 57587, 'player_id': 1422, 'type_id': 595, 'category': 'injury', 'team_id': 1, 'season_id': None, 'start_date': '2017-04-28', 'end_date': '2017-08-10', 'games_missed': 10, 'completed': True}, {'id': 57585, 'player_id': 1422, 'type_id': 595, 'category': 'injury', 'team_id': 1, 'season_id': None, 'start_date': '2016-07-05', 'end_date': '2016-11-05', 'games_missed': 22, 'completed': True}, {'id': 57976, 'player_id': 80655, 'type_id': 598, 'category': 'injury', 'team_id': 1, 'season_id': None, 'start_date': '2020-02-25', 'end_date': '2020-03-05', 'games_missed': 1, 'completed': True}, {'id': 58779, 'player_id': 4947, 'type_id': 537, 'category': 'injury', 'team_id': 1, 'season_id': None, 'start_date': '2017-12-07', 'end_date': '2018-03-19', 'games_missed': 19, 'completed': True}, {'id': 60143, 'player_id': 204697, 'type_id': 604, 'category': 'injury', 'team_id': 1, 'season_id': None, 'start_date': '2018-10-21', 'end_date': '2019-05-31', 'games_missed': 32, 'completed': True}, {'id': 60145, 'player_id': 204697, 'type_id': 595, 'category': 'injury', 'team_id': 1, 'season_id': None, 'start_date': '2019-12-06', 'end_date': '2019-12-13', 'games_missed': 1, 'completed': True}, {'id': 60785, 'player_id': 156, 'type_id': 608, 'category': 'injury', 'team_id': 1, 'season_id': None, 'start_date': '2017-05-12', 'end_date': '2017-06-30', 'games_missed': 2, 'completed': True}, {'id': 60786, 'player_id': 156, 'type_id': 595, 'category': 'injury', 'team_id': 1, 'season_id': None, 'start_date': '2018-08-20', 'end_date': '2018-08-31', 'games_missed': 2, 'completed': True}, {'id': 61765, 'player_id': 383, 'type_id': 1936, 'category': 'injury', 'team_id': 1, 'season_id': None, 'start_date': '2015-04-24', 'end_date': '2015-05-15', 'games_missed': 3, 'completed': True}, {'id': 61768, 'player_id': 383, 'type_id': 605, 'category': 'injury', 'team_id': 1, 'season_id': None, 'start_date': '2015-10-03', 'end_date': '2015-11-07', 'games_missed': 4, 'completed': True}, {'id': 62808, 'player_id': 808, 'type_id': 1913, 'category': 'injury', 'team_id': 1, 'season_id': None, 'start_date': '2016-01-23', 'end_date': '2016-10-13', 'games_missed': 39, 'completed': True}, {'id': 65077, 'player_id': 1261, 'type_id': 339, 'category': 'injury', 'team_id': 1, 'season_id': None, 'start_date': '2019-10-06', 'end_date': '2019-10-24', 'games_missed': 1, 'completed': True}, {'id': 412706, 'player_id': 254052, 'type_id': 587, 'category': 'injury', 'team_id': 1, 'season_id': None, 'start_date': '2023-08-20', 'end_date': '2023-08-20', 'games_missed': None, 'completed': True}, {'id': 56470, 'player_id': 1473, 'type_id': 1913, 'category': 'injury', 'team_id': 1, 'season_id': None, 'start_date': '2011-10-23', 'end_date': '2011-12-05', 'games_missed': 8, 'completed': True}, {'id': 56420, 'player_id': 736, 'type_id': 595, 'category': 'injury', 'team_id': 1, 'season_id': None, 'start_date': '2018-12-22', 'end_date': '2019-01-19', 'games_missed': 6, 'completed': True}, {'id': 56848, 'player_id': 746, 'type_id': 537, 'category': 'injury', 'team_id': 1, 'season_id': None, 'start_date': '2018-01-06', 'end_date': '2018-04-15', 'games_missed': 13, 'completed': True}, {'id': 62390, 'player_id': 870, 'type_id': 595, 'category': 'injury', 'team_id': 1, 'season_id': None, 'start_date': '2020-06-19', 'end_date': '2020-07-31', 'games_missed': 9, 'completed': True}, {'id': 695745, 'player_id': 9939203, 'type_id': 1682, 'category': 'doubtful', 'team_id': 1, 'season_id': None, 'start_date': '2025-01-26', 'end_date': '2025-01-26', 'games_missed': 1, 'completed': True}, {'id': 47389, 'player_id': 336, 'type_id': 687, 'category': 'injury', 'team_id': 1, 'season_id': None, 'start_date': '2008-08-18', 'end_date': '2008-09-01', 'games_missed': 3, 'completed': True}, {'id': 64472, 'player_id': 746, 'type_id': 339, 'category': 'injury', 'team_id': 1, 'season_id': None, 'start_date': '2017-02-04', 'end_date': '2017-03-06', 'games_missed': 3, 'completed': True}, {'id': 65075, 'player_id': 1261, 'type_id': 1966, 'category': 'injury', 'team_id': 1, 'season_id': None, 'start_date': '2019-02-24', 'end_date': '2019-03-01', 'games_missed': 1, 'completed': True}, {'id': 65379, 'player_id': 717, 'type_id': 339, 'category': 'injury', 'team_id': 1, 'season_id': None, 'start_date': '2019-10-23', 'end_date': '2020-05-31', 'games_missed': 22, 'completed': True}, {'id': 64823, 'player_id': 1452, 'type_id': 2048, 'category': 'injury', 'team_id': 1, 'season_id': None, 'start_date': '2020-12-18', 'end_date': '2020-12-26', 'games_missed': 1, 'completed': True}, {'id': 341464, 'player_id': 1922, 'type_id': 1682, 'category': 'doubtful', 'team_id': 1, 'season_id': None, 'start_date': '2020-12-29', 'end_date': '2020-12-29', 'games_missed': 1, 'completed': True}, {'id': 64474, 'player_id': 746, 'type_id': 339, 'category': 'injury', 'team_id': 1, 'season_id': None, 'start_date': '2017-04-15', 'end_date': '2017-09-11', 'games_missed': 16, 'completed': True}, {'id': 339826, 'player_id': 1416, 'type_id': 1682, 'category': 'doubtful', 'team_id': 1, 'season_id': None, 'start_date': '2020-06-23', 'end_date': '2023-07-04', 'games_missed': None, 'completed': True}, {'id': 65079, 'player_id': 1261, 'type_id': 339, 'category': 'injury', 'team_id': 1, 'season_id': None, 'start_date': '2020-11-01', 'end_date': '2020-11-07', 'games_missed': 0, 'completed': True}, {'id': 67198, 'player_id': 1922, 'type_id': 339, 'category': 'injury', 'team_id': 1, 'season_id': None, 'start_date': '2020-01-26', 'end_date': '2020-01-31', 'games_missed': 1, 'completed': True}, {'id': 65107, 'player_id': 1517, 'type_id': 532, 'category': 'injury', 'team_id': 1, 'season_id': None, 'start_date': '2018-10-07', 'end_date': '2018-11-02', 'games_missed': 3, 'completed': True}, {'id': 67197, 'player_id': 1922, 'type_id': 2048, 'category': 'injury', 'team_id': 1, 'season_id': None, 'start_date': '2019-12-30', 'end_date': '2020-01-21', 'games_missed': 4, 'completed': True}, {'id': 67199, 'player_id': 1922, 'type_id': 2048, 'category': 'injury', 'team_id': 1, 'season_id': None, 'start_date': '2020-12-02', 'end_date': '2020-12-28', 'games_missed': 4, 'completed': True}, {'id': 67059, 'player_id': 4371, 'type_id': 339, 'category': 'injury', 'team_id': 1, 'season_id': None, 'start_date': '2020-11-09', 'end_date': '2020-12-10', 'games_missed': 3, 'completed': True}, {'id': 67057, 'player_id': 4371, 'type_id': 2048, 'category': 'injury', 'team_id': 1, 'season_id': None, 'start_date': '2020-01-06', 'end_date': '2020-01-31', 'games_missed': 5, 'completed': True}, {'id': 415595, 'player_id': 220052, 'type_id': 545, 'category': 'injury', 'team_id': 1, 'season_id': None, 'start_date': '2022-10-17', 'end_date': '2022-11-05', 'games_missed': 5, 'completed': True}, {'id': 69563, 'player_id': 25499, 'type_id': 339, 'category': 'injury', 'team_id': 1, 'season_id': None, 'start_date': '2020-06-19', 'end_date': '2020-07-07', 'games_missed': 4, 'completed': True}, {'id': 71552, 'player_id': 1413, 'type_id': 621, 'category': 'injury', 'team_id': 1, 'season_id': None, 'start_date': '2015-11-08', 'end_date': '2016-01-01', 'games_missed': 7, 'completed': True}, {'id': 72568, 'player_id': 808, 'type_id': 1946, 'category': 'injury', 'team_id': 1, 'season_id': None, 'start_date': '2014-08-03', 'end_date': '2014-09-12', 'games_missed': 4, 'completed': True}, {'id': 341463, 'player_id': 1452, 'type_id': 1682, 'category': 'doubtful', 'team_id': 1, 'season_id': None, 'start_date': '2020-12-27', 'end_date': '2020-12-27', 'games_missed': 1, 'completed': True}, {'id': 341559, 'player_id': 96799, 'type_id': 1682, 'category': 'doubtful', 'team_id': 1, 'season_id': None, 'start_date': '2021-01-16', 'end_date': '2021-01-16', 'games_missed': 1, 'completed': True}, {'id': 69432, 'player_id': 1243, 'type_id': 339, 'category': 'injury', 'team_id': 1, 'season_id': None, 'start_date': '2014-09-20', 'end_date': '2014-10-19', 'games_missed': 3, 'completed': True}, {'id': 69786, 'player_id': 156, 'type_id': 532, 'category': 'injury', 'team_id': 1, 'season_id': None, 'start_date': '2014-09-26', 'end_date': '2014-10-16', 'games_missed': 2, 'completed': True}, {'id': 70342, 'player_id': 733, 'type_id': 2048, 'category': 'injury', 'team_id': 1, 'season_id': None, 'start_date': '2020-12-30', 'end_date': '2021-01-15', 'games_missed': 2, 'completed': True}, {'id': 69787, 'player_id': 156, 'type_id': 2048, 'category': 'injury', 'team_id': 1, 'season_id': None, 'start_date': '2019-08-08', 'end_date': '2019-08-23', 'games_missed': 2, 'completed': True}, {'id': 71150, 'player_id': 383, 'type_id': 532, 'category': 'injury', 'team_id': 1, 'season_id': None, 'start_date': '2017-08-19', 'end_date': '2017-09-11', 'games_missed': 3, 'completed': True}, {'id': 71237, 'player_id': 96799, 'type_id': 630, 'category': 'injury', 'team_id': 1, 'season_id': None, 'start_date': '2021-02-11', 'end_date': '2021-02-15', 'games_missed': 0, 'completed': True}, {'id': 415621, 'player_id': 220052, 'type_id': 545, 'category': 'injury', 'team_id': 1, 'season_id': None, 'start_date': '2023-02-11', 'end_date': '2023-02-21', 'games_missed': 2, 'completed': True}, {'id': 343407, 'player_id': 1452, 'type_id': 1682, 'category': 'doubtful', 'team_id': 1, 'season_id': None, 'start_date': '2021-05-15', 'end_date': '2023-07-05', 'games_missed': None, 'completed': True}, {'id': 257765, 'player_id': 581199, 'type_id': 1682, 'category': 'doubtful', 'team_id': 1, 'season_id': None, 'start_date': '2019-03-02', 'end_date': '2019-03-02', 'games_missed': 1, 'completed': True}, {'id': 417365, 'player_id': 30178, 'type_id': 587, 'category': 'injury', 'team_id': 1, 'season_id': None, 'start_date': '2022-11-14', 'end_date': '2022-12-27', 'games_missed': 3, 'completed': True}, {'id': 342296, 'player_id': 219591, 'type_id': 1682, 'category': 'doubtful', 'team_id': 1, 'season_id': None, 'start_date': '2021-02-21', 'end_date': '2023-07-05', 'games_missed': None, 'completed': True}, {'id': 342295, 'player_id': 1922, 'type_id': 1682, 'category': 'doubtful', 'team_id': 1, 'season_id': None, 'start_date': '2021-02-21', 'end_date': '2023-07-05', 'games_missed': None, 'completed': True}, {'id': 340375, 'player_id': 25499, 'type_id': 1682, 'category': 'doubtful', 'team_id': 1, 'season_id': None, 'start_date': '2020-09-27', 'end_date': '2023-07-04', 'games_missed': None, 'completed': True}, {'id': 340422, 'player_id': 4244, 'type_id': 587, 'category': 'injury', 'team_id': 1, 'season_id': None, 'start_date': '2023-07-04', 'end_date': '2023-07-04', 'games_missed': None, 'completed': True}, {'id': 342560, 'player_id': 733, 'type_id': 1682, 'category': 'doubtful', 'team_id': 1, 'season_id': None, 'start_date': '2021-03-08', 'end_date': '2023-07-05', 'games_missed': None, 'completed': True}, {'id': 342606, 'player_id': 820, 'type_id': 587, 'category': 'injury', 'team_id': 1, 'season_id': None, 'start_date': '2023-07-05', 'end_date': '2023-07-05', 'games_missed': None, 'completed': True}, {'id': 342691, 'player_id': 186815, 'type_id': 1682, 'category': 'doubtful', 'team_id': 1, 'season_id': None, 'start_date': '2021-03-21', 'end_date': '2023-07-05', 'games_missed': None, 'completed': True}, {'id': 342690, 'player_id': 1941, 'type_id': 587, 'category': 'injury', 'team_id': 1, 'season_id': None, 'start_date': '2023-07-05', 'end_date': '2023-07-05', 'games_missed': None, 'completed': True}, {'id': 191713, 'player_id': 30178, 'type_id': 536, 'category': 'injury', 'team_id': 1, 'season_id': None, 'start_date': '2023-01-20', 'end_date': '2023-02-19', 'games_missed': 4, 'completed': True}, {'id': 191694, 'player_id': 96642, 'type_id': 532, 'category': 'injury', 'team_id': 1, 'season_id': None, 'start_date': '2022-10-01', 'end_date': '2022-10-01', 'games_missed': 0, 'completed': True}, {'id': 344236, 'player_id': 383, 'type_id': 587, 'category': 'injury', 'team_id': 1, 'season_id': None, 'start_date': '2023-07-05', 'end_date': '2023-07-05', 'games_missed': None, 'completed': True}, {'id': 342725, 'player_id': 1941, 'type_id': 1682, 'category': 'doubtful', 'team_id': 1, 'season_id': None, 'start_date': '2021-04-05', 'end_date': '2023-07-05', 'games_missed': 139, 'completed': True}, {'id': 191687, 'player_id': 1450, 'type_id': 536, 'category': 'injury', 'team_id': 1, 'season_id': None, 'start_date': '2023-01-21', 'end_date': '2023-01-21', 'games_missed': 0, 'completed': True}, {'id': 340520, 'player_id': 4371, 'type_id': 1682, 'category': 'doubtful', 'team_id': 1, 'season_id': None, 'start_date': '2020-10-18', 'end_date': '2023-07-04', 'games_missed': None, 'completed': True}, {'id': 191704, 'player_id': 1316, 'type_id': 535, 'category': 'injury', 'team_id': 1, 'season_id': None, 'start_date': '2023-01-27', 'end_date': '2023-03-04', 'games_missed': 6, 'completed': True}, {'id': 342832, 'player_id': 5273, 'type_id': 1682, 'category': 'doubtful', 'team_id': 1, 'season_id': None, 'start_date': '2021-04-11', 'end_date': '2023-07-05', 'games_missed': None, 'completed': True}, {'id': 344409, 'player_id': 80304, 'type_id': 1682, 'category': 'doubtful', 'team_id': 1, 'season_id': None, 'start_date': '2021-10-17', 'end_date': '2023-07-05', 'games_missed': None, 'completed': True}, {'id': 75993, 'player_id': 746, 'type_id': 671, 'category': 'injury', 'team_id': 1, 'season_id': None, 'start_date': '2019-02-28', 'end_date': '2019-09-20', 'games_missed': 21, 'completed': True}, {'id': 83375, 'player_id': 1244, 'type_id': 673, 'category': 'injury', 'team_id': 1, 'season_id': None, 'start_date': '2015-03-11', 'end_date': '2015-04-10', 'games_missed': 3, 'completed': True}, {'id': 417132, 'player_id': 220052, 'type_id': 549, 'category': 'injury', 'team_id': 1, 'season_id': None, 'start_date': '2023-04-07', 'end_date': '2023-04-13', 'games_missed': 1, 'completed': True}, {'id': 546753, 'player_id': 1592, 'type_id': 672, 'category': 'injury', 'team_id': 1, 'season_id': None, 'start_date': '2024-01-07', 'end_date': '2024-01-19', 'games_missed': 2, 'completed': True}, {'id': 77199, 'player_id': 717, 'type_id': 671, 'category': 'injury', 'team_id': 1, 'season_id': None, 'start_date': '2018-12-02', 'end_date': '2019-04-19', 'games_missed': 22, 'completed': True}, {'id': 191924, 'player_id': 1316, 'type_id': 536, 'category': 'injury', 'team_id': 1, 'season_id': None, 'start_date': '2022-11-12', 'end_date': '2023-01-09', 'games_missed': 8, 'completed': True}, {'id': 75991, 'player_id': 746, 'type_id': 671, 'category': 'injury', 'team_id': 1, 'season_id': None, 'start_date': '2018-07-12', 'end_date': '2018-11-22', 'games_missed': 21, 'completed': True}, {'id': 76467, 'player_id': 1452, 'type_id': 667, 'category': 'injury', 'team_id': 1, 'season_id': None, 'start_date': '2019-04-14', 'end_date': '2019-05-03', 'games_missed': 2, 'completed': True}, {'id': 79770, 'player_id': 1922, 'type_id': 661, 'category': 'injury', 'team_id': 1, 'season_id': None, 'start_date': '2017-12-23', 'end_date': '2018-02-02', 'games_missed': 10, 'completed': True}, {'id': 83429, 'player_id': 156, 'type_id': 709, 'category': 'injury', 'team_id': 1, 'season_id': None, 'start_date': '2013-02-24', 'end_date': '2013-04-14', 'games_missed': 5, 'completed': True}, {'id': 83427, 'player_id': 156, 'type_id': 661, 'category': 'injury', 'team_id': 1, 'season_id': None, 'start_date': '2008-10-24', 'end_date': '2008-12-01', 'games_missed': 6, 'completed': True}, {'id': 83441, 'player_id': 156, 'type_id': 836, 'category': 'injury', 'team_id': 1, 'season_id': None, 'start_date': '2020-10-25', 'end_date': '2020-11-21', 'games_missed': 2, 'completed': True}, {'id': 222879, 'player_id': 30178, 'type_id': 1971, 'category': 'injury', 'team_id': 1, 'season_id': None, 'start_date': '2023-04-01', 'end_date': '2023-04-18', 'games_missed': 16, 'completed': True}, {'id': 343099, 'player_id': 1261, 'type_id': 1682, 'category': 'doubtful', 'team_id': 1, 'season_id': None, 'start_date': '2021-04-17', 'end_date': '2023-07-05', 'games_missed': None, 'completed': True}, {'id': 84105, 'player_id': 733, 'type_id': 709, 'category': 'injury', 'team_id': 1, 'season_id': None, 'start_date': '2021-02-26', 'end_date': '2021-03-05', 'games_missed': 1, 'completed': True}, {'id': 85384, 'player_id': 96799, 'type_id': 658, 'category': 'injury', 'team_id': 1, 'season_id': None, 'start_date': '2021-01-04', 'end_date': '2021-01-14', 'games_missed': 1, 'completed': True}, {'id': 84489, 'player_id': 516291, 'type_id': 677, 'category': 'injury', 'team_id': 1, 'season_id': None, 'start_date': '2022-10-27', 'end_date': '2022-10-31', 'games_missed': 1, 'completed': True}, {'id': 85279, 'player_id': 383, 'type_id': 762, 'category': 'injury', 'team_id': 1, 'season_id': None, 'start_date': '2018-02-06', 'end_date': '2018-02-11', 'games_missed': 0, 'completed': True}, {'id': 85446, 'player_id': 1316, 'type_id': 1959, 'category': 'injury', 'team_id': 1, 'season_id': None, 'start_date': '2022-04-18', 'end_date': '2022-04-25', 'games_missed': 0, 'completed': True}, {'id': 716009, 'player_id': 1261, 'type_id': 554, 'category': 'injury', 'team_id': 1, 'season_id': None, 'start_date': '2025-04-04', 'end_date': None, 'games_missed': 4, 'completed': False}, {'id': 256088, 'player_id': 1291, 'type_id': 587, 'category': 'injury', 'team_id': 1, 'season_id': None, 'start_date': '2023-05-26', 'end_date': '2023-07-03', 'games_missed': 2, 'completed': True}, {'id': 341254, 'player_id': 204697, 'type_id': 1682, 'category': 'doubtful', 'team_id': 1, 'season_id': None, 'start_date': '2020-12-05', 'end_date': '2023-07-04', 'games_missed': None, 'completed': True}, {'id': 292955, 'player_id': 30178, 'type_id': 540, 'category': 'injury', 'team_id': 1, 'season_id': None, 'start_date': '2023-04-18', 'end_date': '2023-07-09', 'games_missed': 14, 'completed': True}, {'id': 67058, 'player_id': 4371, 'type_id': 2048, 'category': 'injury', 'team_id': 1, 'season_id': None, 'start_date': '2020-09-28', 'end_date': '2020-10-17', 'games_missed': 2, 'completed': True}, {'id': 535986, 'player_id': 1922, 'type_id': 536, 'category': 'injury', 'team_id': 1, 'season_id': None, 'start_date': '2023-11-18', 'end_date': '2024-02-12', 'games_missed': 17, 'completed': True}, {'id': 430418, 'player_id': 1261, 'type_id': 1610, 'category': 'suspended', 'team_id': 1, 'season_id': None, 'start_date': '2016-10-17', 'end_date': '2016-10-24', 'games_missed': 1, 'completed': True}, {'id': 448361, 'player_id': 1922, 'type_id': 1610, 'category': 'suspended', 'team_id': 1, 'season_id': None, 'start_date': '2021-09-11', 'end_date': '2021-09-20', 'games_missed': 2, 'completed': True}, {'id': 46745, 'player_id': 1420, 'type_id': 1959, 'category': 'injury', 'team_id': 1, 'season_id': None, 'start_date': '2018-01-01', 'end_date': '2018-01-15', 'games_missed': 4, 'completed': True}, {'id': 453411, 'player_id': 1941, 'type_id': 1610, 'category': 'suspended', 'team_id': 1, 'season_id': None, 'start_date': '2019-09-17', 'end_date': '2019-09-23', 'games_missed': 0, 'completed': True}, {'id': 598950, 'player_id': 220052, 'type_id': 1611, 'category': 'suspended', 'team_id': 1, 'season_id': None, 'start_date': '2024-04-12', 'end_date': '2024-04-19', 'games_missed': 1, 'completed': True}, {'id': 430431, 'player_id': 1261, 'type_id': 1608, 'category': 'suspended', 'team_id': 1, 'season_id': None, 'start_date': '2022-04-11', 'end_date': '2022-04-18', 'games_missed': 1, 'completed': True}, {'id': 453409, 'player_id': 1941, 'type_id': 1608, 'category': 'suspended', 'team_id': 1, 'season_id': None, 'start_date': '2018-01-28', 'end_date': '2018-03-11', 'games_missed': 5, 'completed': True}, {'id': 431854, 'player_id': 2701, 'type_id': 1613, 'category': 'suspended', 'team_id': 1, 'season_id': None, 'start_date': '2012-06-20', 'end_date': '2012-07-15', 'games_missed': 2, 'completed': True}, {'id': 445382, 'player_id': 1139, 'type_id': 1608, 'category': 'suspended', 'team_id': 1, 'season_id': None, 'start_date': '2017-08-21', 'end_date': '2017-09-11', 'games_missed': 2, 'completed': True}, {'id': 452462, 'player_id': 820, 'type_id': 1612, 'category': 'suspended', 'team_id': 1, 'season_id': None, 'start_date': '2021-03-14', 'end_date': '2021-03-14', 'games_missed': 0, 'completed': True}, {'id': 463871, 'player_id': 204697, 'type_id': 1614, 'category': 'suspended', 'team_id': 1, 'season_id': None, 'start_date': '2022-02-25', 'end_date': '2022-03-11', 'games_missed': 3, 'completed': True}, {'id': 468945, 'player_id': 187, 'type_id': 1608, 'category': 'suspended', 'team_id': 1, 'season_id': None, 'start_date': '2010-06-22', 'end_date': '2010-06-26', 'games_missed': 0, 'completed': True}, {'id': 473679, 'player_id': 1309, 'type_id': 1613, 'category': 'suspended', 'team_id': 1, 'season_id': None, 'start_date': '2017-01-03', 'end_date': '2017-02-05', 'games_missed': 4, 'completed': True}, {'id': 75556, 'player_id': 513, 'type_id': 1958, 'category': 'injury', 'team_id': 1, 'season_id': None, 'start_date': '2011-01-12', 'end_date': '2011-03-01', 'games_missed': 9, 'completed': True}, {'id': 575559, 'player_id': 5640849, 'type_id': 1613, 'category': 'suspended', 'team_id': 1, 'season_id': None, 'start_date': '2024-01-02', 'end_date': '2024-01-23', 'games_missed': 4, 'completed': True}, {'id': 483022, 'player_id': 383, 'type_id': 1611, 'category': 'suspended', 'team_id': 1, 'season_id': None, 'start_date': '2017-12-14', 'end_date': '2017-12-17', 'games_missed': 0, 'completed': True}, {'id': 483010, 'player_id': 383, 'type_id': 1611, 'category': 'suspended', 'team_id': 1, 'season_id': None, 'start_date': '2016-10-31', 'end_date': '2016-11-06', 'games_missed': 0, 'completed': True}, {'id': 571125, 'player_id': 1452, 'type_id': 531, 'category': 'injury', 'team_id': 1, 'season_id': None, 'start_date': '2021-04-03', 'end_date': '2021-04-18', 'games_missed': 2, 'completed': True}, {'id': 73055, 'player_id': 1452, 'type_id': 2002, 'category': 'injury', 'team_id': 1, 'season_id': None, 'start_date': '2016-12-19', 'end_date': '2016-12-29', 'games_missed': 1, 'completed': True}, {'id': 8210, 'player_id': 1452, 'type_id': 1918, 'category': 'injury', 'team_id': 1, 'season_id': None, 'start_date': '2018-05-31', 'end_date': '2019-02-19', 'games_missed': 38, 'completed': True}, {'id': 571126, 'player_id': 1452, 'type_id': 339, 'category': 'injury', 'team_id': 1, 'season_id': None, 'start_date': '2021-05-09', 'end_date': '2021-05-30', 'games_missed': 4, 'completed': True}, {'id': 575750, 'player_id': 516291, 'type_id': 1613, 'category': 'suspended', 'team_id': 1, 'season_id': None, 'start_date': '2024-01-02', 'end_date': '2024-02-02', 'games_missed': 4, 'completed': True}, {'id': 68910, 'player_id': 204697, 'type_id': 1952, 'category': 'injury', 'team_id': 1, 'season_id': None, 'start_date': '2019-12-25', 'end_date': '2020-03-09', 'games_missed': 14, 'completed': True}, {'id': 60147, 'player_id': 204697, 'type_id': 1913, 'category': 'injury', 'team_id': 1, 'season_id': None, 'start_date': '2021-02-09', 'end_date': '2021-03-14', 'games_missed': 5, 'completed': True}, {'id': 490970, 'player_id': 870, 'type_id': 1611, 'category': 'suspended', 'team_id': 1, 'season_id': None, 'start_date': '2018-11-12', 'end_date': '2018-11-26', 'games_missed': 1, 'completed': True}, {'id': 598927, 'player_id': 129794, 'type_id': 1611, 'category': 'suspended', 'team_id': 1, 'season_id': None, 'start_date': '2023-10-22', 'end_date': '2023-10-30', 'games_missed': 2, 'completed': True}, {'id': 64471, 'player_id': 746, 'type_id': 2061, 'category': 'injury', 'team_id': 1, 'season_id': None, 'start_date': '2015-02-12', 'end_date': '2015-09-14', 'games_missed': 24, 'completed': True}, {'id': 75987, 'player_id': 746, 'type_id': 1937, 'category': 'injury', 'team_id': 1, 'season_id': None, 'start_date': '2014-07-24', 'end_date': '2014-11-03', 'games_missed': 11, 'completed': True}, {'id': 495990, 'player_id': 808, 'type_id': 1608, 'category': 'suspended', 'team_id': 1, 'season_id': None, 'start_date': '2015-08-23', 'end_date': '2015-08-30', 'games_missed': 0, 'completed': True}, {'id': 599101, 'player_id': 254052, 'type_id': 1611, 'category': 'suspended', 'team_id': 1, 'season_id': None, 'start_date': '2023-10-30', 'end_date': '2023-11-05', 'games_missed': 1, 'completed': True}, {'id': 428025, 'player_id': 1452, 'type_id': 1611, 'category': 'suspended', 'team_id': 1, 'season_id': None, 'start_date': '2022-03-21', 'end_date': '2022-04-11', 'games_missed': 2, 'completed': True}, {'id': 428020, 'player_id': 1452, 'type_id': 1615, 'category': 'suspended', 'team_id': 1, 'season_id': None, 'start_date': '2017-12-18', 'end_date': '2017-12-25', 'games_missed': 2, 'completed': True}, {'id': 594495, 'player_id': 32738, 'type_id': 336, 'category': 'injury', 'team_id': 1, 'season_id': None, 'start_date': '2023-03-03', 'end_date': '2023-03-04', 'games_missed': 0, 'completed': True}, {'id': 447031, 'player_id': 4371, 'type_id': 1611, 'category': 'suspended', 'team_id': 1, 'season_id': None, 'start_date': '2019-12-15', 'end_date': '2019-12-27', 'games_missed': 0, 'completed': True}, {'id': 448353, 'player_id': 1922, 'type_id': 1610, 'category': 'suspended', 'team_id': 1, 'season_id': None, 'start_date': '2017-02-26', 'end_date': '2017-03-07', 'games_missed': 0, 'completed': True}, {'id': 552716, 'player_id': 1261, 'type_id': 1608, 'category': 'suspended', 'team_id': 1, 'season_id': None, 'start_date': '2022-05-06', 'end_date': '2022-09-09', 'games_missed': 18, 'completed': True}, {'id': 468304, 'player_id': 1243, 'type_id': 1613, 'category': 'suspended', 'team_id': 1, 'season_id': None, 'start_date': '2017-01-03', 'end_date': '2017-01-29', 'games_missed': 3, 'completed': True}, {'id': 478002, 'player_id': 516291, 'type_id': 1608, 'category': 'suspended', 'team_id': 1, 'season_id': None, 'start_date': '2023-08-20', 'end_date': '2023-08-27', 'games_missed': 1, 'completed': True}, {'id': 85270, 'player_id': 383, 'type_id': 1959, 'category': 'injury', 'team_id': 1, 'season_id': None, 'start_date': '2013-11-04', 'end_date': '2014-01-28', 'games_missed': 16, 'completed': True}, {'id': 616778, 'player_id': 109417, 'type_id': 531, 'category': 'injury', 'team_id': 1, 'season_id': None, 'start_date': '2024-04-20', 'end_date': '2024-05-13', 'games_missed': 4, 'completed': True}, {'id': 62544, 'player_id': 4199, 'type_id': 2052, 'category': 'injury', 'team_id': 1, 'season_id': None, 'start_date': '2013-03-21', 'end_date': '2013-06-17', 'games_missed': 9, 'completed': True}, {'id': 62663, 'player_id': 1928, 'type_id': 1936, 'category': 'injury', 'team_id': 1, 'season_id': None, 'start_date': '2017-11-01', 'end_date': '2018-01-13', 'games_missed': 14, 'completed': True}, {'id': 62627, 'player_id': 1416, 'type_id': 1936, 'category': 'injury', 'team_id': 1, 'season_id': None, 'start_date': '2015-09-14', 'end_date': '2015-10-17', 'games_missed': 5, 'completed': True}, {'id': 583328, 'player_id': 1416, 'type_id': 336, 'category': 'injury', 'team_id': 1, 'season_id': None, 'start_date': '2023-05-11', 'end_date': '2023-05-12', 'games_missed': 0, 'completed': True}, {'id': 580803, 'player_id': 96642, 'type_id': 532, 'category': 'injury', 'team_id': 1, 'season_id': None, 'start_date': '2022-10-05', 'end_date': '2023-03-05', 'games_missed': 27, 'completed': True}, {'id': 582843, 'player_id': 1316, 'type_id': 687, 'category': 'injury', 'team_id': 1, 'season_id': None, 'start_date': '2023-10-30', 'end_date': '2023-11-10', 'games_missed': 2, 'completed': True}, {'id': 583327, 'player_id': 1416, 'type_id': 1935, 'category': 'injury', 'team_id': 1, 'season_id': None, 'start_date': '2023-04-14', 'end_date': '2023-04-19', 'games_missed': 1, 'completed': True}, {'id': 582506, 'player_id': 516291, 'type_id': 531, 'category': 'injury', 'team_id': 1, 'season_id': None, 'start_date': '2023-05-19', 'end_date': '2023-05-25', 'games_missed': 1, 'completed': True}, {'id': 582845, 'player_id': 1316, 'type_id': 336, 'category': 'injury', 'team_id': 1, 'season_id': None, 'start_date': '2023-12-24', 'end_date': '2023-12-29', 'games_missed': 0, 'completed': True}, {'id': 653255, 'player_id': 254052, 'type_id': 1610, 'category': 'suspended', 'team_id': 1, 'season_id': None, 'start_date': '2024-09-25', 'end_date': '2024-09-29', 'games_missed': 1, 'completed': True}, {'id': 673159, 'player_id': 220052, 'type_id': 1611, 'category': 'suspended', 'team_id': 1, 'season_id': None, 'start_date': '2024-10-12', 'end_date': '2024-11-13', 'games_missed': 4, 'completed': True}, {'id': 662575, 'player_id': 5640849, 'type_id': 1608, 'category': 'suspended', 'team_id': 1, 'season_id': None, 'start_date': '2024-10-19', 'end_date': '2024-11-10', 'games_missed': 3, 'completed': True}, {'id': 439446, 'player_id': 336, 'type_id': 1609, 'category': 'suspended', 'team_id': 1, 'season_id': None, 'start_date': '2012-07-12', 'end_date': '2012-08-12', 'games_missed': None, 'completed': True}, {'id': 676423, 'player_id': 80655, 'type_id': 1611, 'category': 'suspended', 'team_id': 1, 'season_id': None, 'start_date': '2024-11-18', 'end_date': '2024-11-20', 'games_missed': 0, 'completed': True}, {'id': 692186, 'player_id': 31532, 'type_id': 535, 'category': 'injury', 'team_id': 1, 'season_id': None, 'start_date': '2025-01-10', 'end_date': '2025-04-10', 'games_missed': 12, 'completed': True}, {'id': 668936, 'player_id': 254052, 'type_id': 1610, 'category': 'suspended', 'team_id': 1, 'season_id': None, 'start_date': '2024-11-02', 'end_date': '2024-11-10', 'games_missed': 1, 'completed': True}, {'id': 673992, 'player_id': 1922, 'type_id': 1611, 'category': 'suspended', 'team_id': 1, 'season_id': None, 'start_date': '2024-10-15', 'end_date': '2024-11-16', 'games_missed': 4, 'completed': True}, {'id': 679897, 'player_id': 31532, 'type_id': 2015, 'category': 'injury', 'team_id': 1, 'season_id': None, 'start_date': '2024-09-08', 'end_date': '2024-12-02', 'games_missed': 11, 'completed': True}, {'id': 690859, 'player_id': 129794, 'type_id': 1911, 'category': 'injury', 'team_id': 1, 'season_id': None, 'start_date': '2024-03-07', 'end_date': '2024-03-12', 'games_missed': 2, 'completed': True}, {'id': 65390, 'player_id': 129454, 'type_id': 836, 'category': 'injury', 'team_id': 1, 'season_id': None, 'start_date': '2019-08-11', 'end_date': '2019-08-23', 'games_missed': 1, 'completed': True}, {'id': 698925, 'player_id': 254052, 'type_id': 587, 'category': 'injury', 'team_id': 1, 'season_id': None, 'start_date': '2025-02-02', 'end_date': '2025-02-10', 'games_missed': 1, 'completed': True}, {'id': 689656, 'player_id': 1592, 'type_id': 549, 'category': 'injury', 'team_id': 1, 'season_id': None, 'start_date': '2024-12-29', 'end_date': '2025-01-31', 'games_missed': 6, 'completed': True}, {'id': 690807, 'player_id': 129794, 'type_id': 587, 'category': 'injury', 'team_id': 1, 'season_id': None, 'start_date': '2025-01-03', 'end_date': '2025-01-13', 'games_missed': 2, 'completed': True}, {'id': 690806, 'player_id': 529856, 'type_id': 587, 'category': 'injury', 'team_id': 1, 'season_id': None, 'start_date': '2025-01-05', 'end_date': '2025-02-10', 'games_missed': 5, 'completed': True}, {'id': 690556, 'player_id': 733, 'type_id': 630, 'category': 'injury', 'team_id': 1, 'season_id': None, 'start_date': '2024-12-27', 'end_date': '2025-01-10', 'games_missed': 2, 'completed': True}, {'id': 695051, 'player_id': 109417, 'type_id': 1610, 'category': 'suspended', 'team_id': 1, 'season_id': None, 'start_date': '2025-01-19', 'end_date': '2025-02-02', 'games_missed': 1, 'completed': True}, {'id': 697627, 'player_id': 220052, 'type_id': 551, 'category': 'injury', 'team_id': 1, 'season_id': None, 'start_date': '2025-01-30', 'end_date': '2025-02-14', 'games_missed': 1, 'completed': True}, {'id': 681549, 'player_id': 1922, 'type_id': 2046, 'category': 'injury', 'team_id': 1, 'season_id': None, 'start_date': '2024-12-07', 'end_date': '2025-06-01', 'games_missed': 21, 'completed': False}, {'id': 697684, 'player_id': 30178, 'type_id': 336, 'category': 'injury', 'team_id': 1, 'season_id': None, 'start_date': '2022-08-29', 'end_date': '2022-09-07', 'games_missed': 2, 'completed': True}, {'id': 465104, 'player_id': 5273, 'type_id': 1611, 'category': 'suspended', 'team_id': 1, 'season_id': None, 'start_date': '2021-12-27', 'end_date': '2021-12-30', 'games_missed': 1, 'completed': True}, {'id': 700151, 'player_id': 80304, 'type_id': 548, 'category': 'injury', 'team_id': 1, 'season_id': None, 'start_date': '2022-02-14', 'end_date': '2022-04-01', 'games_missed': 8, 'completed': True}, {'id': 700152, 'player_id': 80304, 'type_id': 535, 'category': 'injury', 'team_id': 1, 'season_id': None, 'start_date': '2023-05-03', 'end_date': '2023-05-16', 'games_missed': 4, 'completed': True}, {'id': 699346, 'player_id': 254052, 'type_id': 1939, 'category': 'injury', 'team_id': 1, 'season_id': None, 'start_date': '2024-06-22', 'end_date': '2024-08-18', 'games_missed': 5, 'completed': True}, {'id': 700124, 'player_id': 80304, 'type_id': 1936, 'category': 'injury', 'team_id': 1, 'season_id': None, 'start_date': '2025-02-14', 'end_date': '2025-04-01', 'games_missed': 2, 'completed': True}, {'id': 701257, 'player_id': 220052, 'type_id': 537, 'category': 'injury', 'team_id': 1, 'season_id': None, 'start_date': '2025-02-21', 'end_date': '2025-03-10', 'games_missed': 2, 'completed': True}, {'id': 692219, 'player_id': 31532, 'type_id': 535, 'category': 'injury', 'team_id': 1, 'season_id': None, 'start_date': '2025-01-11', 'end_date': '2025-04-01', 'games_missed': 9, 'completed': True}, {'id': 692360, 'player_id': 9939203, 'type_id': 533, 'category': 'injury', 'team_id': 1, 'season_id': None, 'start_date': '2025-01-10', 'end_date': '2025-04-01', 'games_missed': 2, 'completed': True}, {'id': 569072, 'player_id': 220052, 'type_id': 532, 'category': 'injury', 'team_id': 1, 'season_id': None, 'start_date': '2024-01-07', 'end_date': '2024-02-21', 'games_missed': 9, 'completed': True}, {'id': 468295, 'player_id': 1243, 'type_id': 1608, 'category': 'suspended', 'team_id': 1, 'season_id': None, 'start_date': '2016-02-22', 'end_date': '2016-02-29', 'games_missed': 1, 'completed': True}, {'id': 471349, 'player_id': 156, 'type_id': 1610, 'category': 'suspended', 'team_id': 1, 'season_id': None, 'start_date': '2008-08-24', 'end_date': '2008-08-01', 'games_missed': 0, 'completed': True}, {'id': 471358, 'player_id': 156, 'type_id': 1611, 'category': 'suspended', 'team_id': 1, 'season_id': None, 'start_date': '2016-11-06', 'end_date': '2016-11-20', 'games_missed': 0, 'completed': True}, {'id': 471360, 'player_id': 156, 'type_id': 1611, 'category': 'suspended', 'team_id': 1, 'season_id': None, 'start_date': '2017-04-09', 'end_date': '2017-04-23', 'games_missed': 1, 'completed': True}, {'id': 476112, 'player_id': 1251, 'type_id': 1608, 'category': 'suspended', 'team_id': 1, 'season_id': None, 'start_date': '2015-08-16', 'end_date': '2015-09-15', 'games_missed': 2, 'completed': True}, {'id': 483017, 'player_id': 383, 'type_id': 1610, 'category': 'suspended', 'team_id': 1, 'season_id': None, 'start_date': '2016-11-20', 'end_date': '2016-11-28', 'games_missed': 0, 'completed': True}, {'id': 484000, 'player_id': 1252, 'type_id': 1611, 'category': 'suspended', 'team_id': 1, 'season_id': None, 'start_date': '2013-12-04', 'end_date': '2013-12-08', 'games_missed': 0, 'completed': True}, {'id': 599103, 'player_id': 254052, 'type_id': 1611, 'category': 'suspended', 'team_id': 1, 'season_id': None, 'start_date': '2024-03-18', 'end_date': '2024-04-03', 'games_missed': 1, 'completed': True}, {'id': 599102, 'player_id': 254052, 'type_id': 1611, 'category': 'suspended', 'team_id': 1, 'season_id': None, 'start_date': '2024-03-15', 'end_date': '2024-04-12', 'games_missed': 4, 'completed': True}, {'id': 486649, 'player_id': 1413, 'type_id': 1610, 'category': 'suspended', 'team_id': 1, 'season_id': None, 'start_date': '2015-07-20', 'end_date': '2015-07-27', 'games_missed': 1, 'completed': True}, {'id': 494328, 'player_id': 1928, 'type_id': 1611, 'category': 'suspended', 'team_id': 1, 'season_id': None, 'start_date': '2016-02-28', 'end_date': '2016-03-06', 'games_missed': 1, 'completed': True}, {'id': 560534, 'player_id': 1416, 'type_id': 1611, 'category': 'suspended', 'team_id': 1, 'season_id': None, 'start_date': '2023-04-14', 'end_date': '2023-04-21', 'games_missed': 1, 'completed': True}, {'id': 424880, 'player_id': 96426, 'type_id': 1613, 'category': 'suspended', 'team_id': 1, 'season_id': None, 'start_date': '2022-01-03', 'end_date': '2022-02-06', 'games_missed': 4, 'completed': True}, {'id': 424701, 'player_id': 746, 'type_id': 1608, 'category': 'suspended', 'team_id': 1, 'season_id': None, 'start_date': '2014-02-04', 'end_date': '2014-02-23', 'games_missed': 2, 'completed': True}, {'id': 424707, 'player_id': 746, 'type_id': 1610, 'category': 'suspended', 'team_id': 1, 'season_id': None, 'start_date': '2017-10-15', 'end_date': '2017-10-21', 'games_missed': 0, 'completed': True}, {'id': 430424, 'player_id': 1261, 'type_id': 1611, 'category': 'suspended', 'team_id': 1, 'season_id': None, 'start_date': '2019-12-26', 'end_date': '2019-12-30', 'games_missed': 2, 'completed': True}, {'id': 433377, 'player_id': 1422, 'type_id': 1608, 'category': 'suspended', 'team_id': 1, 'season_id': None, 'start_date': '2015-07-10', 'end_date': '2015-07-31', 'games_missed': 2, 'completed': True}, {'id': 439436, 'player_id': 336, 'type_id': 1608, 'category': 'suspended', 'team_id': 1, 'season_id': None, 'start_date': '2009-05-17', 'end_date': '2009-05-25', 'games_missed': 0, 'completed': True}, {'id': 439453, 'player_id': 336, 'type_id': 1611, 'category': 'suspended', 'team_id': 1, 'season_id': None, 'start_date': '2014-12-29', 'end_date': '2015-01-02', 'games_missed': 0, 'completed': True}]",
         "27",
         "5",
         "2",
         "0",
         "3",
         "83"
        ],
        [
         "1",
         "2",
         "1",
         "462.0",
         "8.0",
         "male",
         "Blackburn Rovers",
         "BBR",
         "https://cdn.sportmonks.com/images/soccer/teams/2/2.png",
         "1875.0",
         "domestic",
         "False",
         "2025-04-26 14:00:00",
         "Football",
         "football",
         "[{'id': 197, 'player_id': 652, 'type_id': 339, 'category': 'injury', 'team_id': 2, 'season_id': None, 'start_date': '2020-10-22', 'end_date': '2020-11-22', 'games_missed': 5, 'completed': True}, {'id': 337, 'player_id': 428, 'type_id': 533, 'category': 'injury', 'team_id': 2, 'season_id': None, 'start_date': '2008-12-12', 'end_date': '2008-12-26', 'games_missed': 2, 'completed': True}, {'id': 336, 'player_id': 428, 'type_id': 587, 'category': 'injury', 'team_id': 2, 'season_id': None, 'start_date': '2008-01-13', 'end_date': '2008-04-05', 'games_missed': 11, 'completed': True}, {'id': 1604, 'player_id': 428, 'type_id': 549, 'category': 'injury', 'team_id': 2, 'season_id': None, 'start_date': '2012-02-29', 'end_date': '2012-03-03', 'games_missed': 0, 'completed': True}, {'id': 2811, 'player_id': 925, 'type_id': 537, 'category': 'injury', 'team_id': 2, 'season_id': None, 'start_date': '2020-09-13', 'end_date': '2020-09-17', 'games_missed': 1, 'completed': True}, {'id': 2815, 'player_id': 925, 'type_id': 538, 'category': 'injury', 'team_id': 2, 'season_id': None, 'start_date': '2020-10-25', 'end_date': '2020-11-15', 'games_missed': 4, 'completed': True}, {'id': 2911, 'player_id': 1246, 'type_id': 536, 'category': 'injury', 'team_id': 2, 'season_id': None, 'start_date': '2019-10-20', 'end_date': '2019-10-31', 'games_missed': 2, 'completed': True}, {'id': 2916, 'player_id': 1246, 'type_id': 536, 'category': 'injury', 'team_id': 2, 'season_id': None, 'start_date': '2019-12-27', 'end_date': '2020-01-07', 'games_missed': 3, 'completed': True}, {'id': 2920, 'player_id': 1246, 'type_id': 536, 'category': 'injury', 'team_id': 2, 'season_id': None, 'start_date': '2020-10-04', 'end_date': '2020-10-18', 'games_missed': 0, 'completed': True}, {'id': 2923, 'player_id': 1246, 'type_id': 538, 'category': 'injury', 'team_id': 2, 'season_id': None, 'start_date': '2020-11-04', 'end_date': '2020-11-22', 'games_missed': 1, 'completed': True}, {'id': 5913, 'player_id': 6049, 'type_id': 538, 'category': 'injury', 'team_id': 2, 'season_id': None, 'start_date': '2020-10-25', 'end_date': '2020-11-15', 'games_missed': 4, 'completed': True}, {'id': 6978, 'player_id': 9258, 'type_id': 535, 'category': 'injury', 'team_id': 2, 'season_id': None, 'start_date': '2020-08-30', 'end_date': '2020-09-13', 'games_missed': 1, 'completed': True}, {'id': 7630, 'player_id': 3179, 'type_id': 532, 'category': 'injury', 'team_id': 2, 'season_id': None, 'start_date': '2019-11-20', 'end_date': '2019-12-18', 'games_missed': 6, 'completed': True}, {'id': 7633, 'player_id': 3179, 'type_id': 532, 'category': 'injury', 'team_id': 2, 'season_id': None, 'start_date': '2019-12-28', 'end_date': '2020-12-30', 'games_missed': 49, 'completed': True}, {'id': 7637, 'player_id': 3179, 'type_id': 532, 'category': 'injury', 'team_id': 2, 'season_id': None, 'start_date': '2020-02-14', 'end_date': '2020-07-28', 'games_missed': 14, 'completed': True}, {'id': 7640, 'player_id': 3179, 'type_id': 538, 'category': 'injury', 'team_id': 2, 'season_id': None, 'start_date': '2020-10-11', 'end_date': '2020-10-22', 'games_missed': 1, 'completed': True}, {'id': 15231, 'player_id': 3762, 'type_id': 1918, 'category': 'injury', 'team_id': 2, 'season_id': None, 'start_date': '2019-10-06', 'end_date': '2020-09-04', 'games_missed': 39, 'completed': True}, {'id': 15228, 'player_id': 3762, 'type_id': 535, 'category': 'injury', 'team_id': 2, 'season_id': None, 'start_date': '2019-09-10', 'end_date': '2020-09-24', 'games_missed': 48, 'completed': True}, {'id': 15235, 'player_id': 3762, 'type_id': 535, 'category': 'injury', 'team_id': 2, 'season_id': None, 'start_date': '2019-10-19', 'end_date': '2020-11-29', 'games_missed': 54, 'completed': True}, {'id': 16373, 'player_id': 61107, 'type_id': 339, 'category': 'injury', 'team_id': 2, 'season_id': None, 'start_date': '2020-10-25', 'end_date': '2020-11-09', 'games_missed': 4, 'completed': True}, {'id': 16472, 'player_id': 7027, 'type_id': 536, 'category': 'injury', 'team_id': 2, 'season_id': None, 'start_date': '2018-10-27', 'end_date': '2018-11-22', 'games_missed': 3, 'completed': True}, {'id': 17201, 'player_id': 3458, 'type_id': 536, 'category': 'injury', 'team_id': 2, 'season_id': None, 'start_date': '2017-11-08', 'end_date': '2018-07-15', 'games_missed': 35, 'completed': True}, {'id': 17206, 'player_id': 3458, 'type_id': 536, 'category': 'injury', 'team_id': 2, 'season_id': None, 'start_date': '2018-08-01', 'end_date': '2019-11-01', 'games_missed': 72, 'completed': True}, {'id': 20271, 'player_id': 2823510, 'type_id': 2017, 'category': 'injury', 'team_id': 2, 'season_id': None, 'start_date': '2021-11-20', 'end_date': '2022-04-20', 'games_missed': 27, 'completed': True}, {'id': 25306, 'player_id': 155323, 'type_id': 538, 'category': 'injury', 'team_id': 2, 'season_id': None, 'start_date': '2020-10-28', 'end_date': '2020-11-15', 'games_missed': 3, 'completed': True}, {'id': 25627, 'player_id': 2299, 'type_id': 537, 'category': 'injury', 'team_id': 2, 'season_id': None, 'start_date': '2013-10-14', 'end_date': '2014-02-03', 'games_missed': 20, 'completed': True}, {'id': 25631, 'player_id': 2299, 'type_id': 549, 'category': 'injury', 'team_id': 2, 'season_id': None, 'start_date': '2020-09-13', 'end_date': '2020-10-05', 'games_missed': 4, 'completed': True}, {'id': 27875, 'player_id': 273373, 'type_id': 537, 'category': 'injury', 'team_id': 2, 'season_id': None, 'start_date': '2013-08-30', 'end_date': '2013-11-30', 'games_missed': 12, 'completed': True}, {'id': 29659, 'player_id': 1502, 'type_id': 549, 'category': 'injury', 'team_id': 2, 'season_id': None, 'start_date': '2015-09-12', 'end_date': '2016-03-11', 'games_missed': 33, 'completed': True}, {'id': 33711, 'player_id': 8485, 'type_id': 557, 'category': 'injury', 'team_id': 2, 'season_id': None, 'start_date': '2019-12-23', 'end_date': '2021-01-01', 'games_missed': 52, 'completed': True}, {'id': 33715, 'player_id': 8485, 'type_id': 557, 'category': 'injury', 'team_id': 2, 'season_id': None, 'start_date': '2021-03-12', 'end_date': '2022-01-20', 'games_missed': 46, 'completed': True}, {'id': 35097, 'player_id': 2951, 'type_id': 535, 'category': 'injury', 'team_id': 2, 'season_id': None, 'start_date': '2020-11-01', 'end_date': '2020-11-08', 'games_missed': 1, 'completed': True}, {'id': 36495, 'player_id': 581160, 'type_id': 535, 'category': 'injury', 'team_id': 2, 'season_id': None, 'start_date': '2020-02-09', 'end_date': '2020-02-24', 'games_missed': 3, 'completed': True}, {'id': 36497, 'player_id': 581160, 'type_id': 535, 'category': 'injury', 'team_id': 2, 'season_id': None, 'start_date': '2020-06-21', 'end_date': '2020-07-05', 'games_missed': 2, 'completed': True}, {'id': 36499, 'player_id': 581160, 'type_id': 535, 'category': 'injury', 'team_id': 2, 'season_id': None, 'start_date': '2020-09-27', 'end_date': '2020-10-19', 'games_missed': 2, 'completed': True}, {'id': 36508, 'player_id': 581160, 'type_id': 542, 'category': 'injury', 'team_id': 2, 'season_id': None, 'start_date': '2021-04-05', 'end_date': '2021-08-01', 'games_missed': 10, 'completed': True}, {'id': 36502, 'player_id': 581160, 'type_id': 535, 'category': 'injury', 'team_id': 2, 'season_id': None, 'start_date': '2020-11-24', 'end_date': '2021-02-03', 'games_missed': 15, 'completed': True}, {'id': 643679, 'player_id': 14726336, 'type_id': 1610, 'category': 'suspended', 'team_id': 2, 'season_id': None, 'start_date': '2024-08-31', 'end_date': '2024-09-15', 'games_missed': 1, 'completed': True}, {'id': 73265, 'player_id': 7636, 'type_id': 557, 'category': 'injury', 'team_id': 2, 'season_id': None, 'start_date': '2020-09-16', 'end_date': '2021-01-16', 'games_missed': 23, 'completed': True}, {'id': 73208, 'player_id': 25747, 'type_id': 2002, 'category': 'injury', 'team_id': 2, 'season_id': None, 'start_date': '2020-11-04', 'end_date': '2020-11-10', 'games_missed': 1, 'completed': True}, {'id': 61025, 'player_id': 253, 'type_id': 598, 'category': 'injury', 'team_id': 2, 'season_id': None, 'start_date': '2009-08-24', 'end_date': '2009-09-10', 'games_missed': 2, 'completed': True}, {'id': 62195, 'player_id': 4613, 'type_id': 595, 'category': 'injury', 'team_id': 2, 'season_id': None, 'start_date': '2020-10-04', 'end_date': '2020-11-01', 'games_missed': 4, 'completed': True}, {'id': 68093, 'player_id': 214, 'type_id': 603, 'category': 'injury', 'team_id': 2, 'season_id': None, 'start_date': '2011-08-27', 'end_date': '2011-09-24', 'games_missed': 4, 'completed': True}, {'id': 68239, 'player_id': 4246, 'type_id': 339, 'category': 'injury', 'team_id': 2, 'season_id': None, 'start_date': '2020-08-23', 'end_date': '2020-09-30', 'games_missed': 7, 'completed': True}, {'id': 68240, 'player_id': 4246, 'type_id': 339, 'category': 'injury', 'team_id': 2, 'season_id': None, 'start_date': '2020-10-18', 'end_date': '2020-10-22', 'games_missed': 0, 'completed': True}, {'id': 407342, 'player_id': 205, 'type_id': 1991, 'category': 'injury', 'team_id': 2, 'season_id': None, 'start_date': '2008-12-19', 'end_date': '2009-01-10', 'games_missed': 4, 'completed': True}, {'id': 259938, 'player_id': 37350704, 'type_id': 587, 'category': 'injury', 'team_id': 2, 'season_id': None, 'start_date': '2023-05-26', 'end_date': '2024-02-01', 'games_missed': 38, 'completed': True}, {'id': 259939, 'player_id': 18226, 'type_id': 587, 'category': 'injury', 'team_id': 2, 'season_id': None, 'start_date': '2023-05-26', 'end_date': '2023-07-08', 'games_missed': 0, 'completed': True}, {'id': 541080, 'player_id': 8485, 'type_id': 587, 'category': 'injury', 'team_id': 2, 'season_id': None, 'start_date': '2023-12-22', 'end_date': '2023-12-22', 'games_missed': 0, 'completed': True}, {'id': 541079, 'player_id': 652, 'type_id': 587, 'category': 'injury', 'team_id': 2, 'season_id': None, 'start_date': '2023-12-22', 'end_date': '2023-12-22', 'games_missed': 0, 'completed': True}, {'id': 541093, 'player_id': 61107, 'type_id': 587, 'category': 'injury', 'team_id': 2, 'season_id': None, 'start_date': '2023-12-22', 'end_date': '2023-12-22', 'games_missed': 0, 'completed': True}, {'id': 541094, 'player_id': 21412317, 'type_id': 587, 'category': 'injury', 'team_id': 2, 'season_id': None, 'start_date': '2023-12-22', 'end_date': '2023-12-22', 'games_missed': 0, 'completed': True}, {'id': 87426, 'player_id': 21437417, 'type_id': 661, 'category': 'injury', 'team_id': 2, 'season_id': None, 'start_date': '2022-03-19', 'end_date': '2022-04-26', 'games_missed': 5, 'completed': True}, {'id': 63512, 'player_id': 7835, 'type_id': 1955, 'category': 'injury', 'team_id': 2, 'season_id': None, 'start_date': '2022-02-14', 'end_date': '2022-03-27', 'games_missed': 8, 'completed': True}, {'id': 84576, 'player_id': 1246, 'type_id': 1951, 'category': 'injury', 'team_id': 2, 'season_id': None, 'start_date': '2020-02-02', 'end_date': '2020-05-10', 'games_missed': 7, 'completed': True}, {'id': 35129, 'player_id': 3111, 'type_id': 542, 'category': 'injury', 'team_id': 2, 'season_id': None, 'start_date': '2017-08-06', 'end_date': '2017-12-24', 'games_missed': 28, 'completed': True}, {'id': 587073, 'player_id': 119181, 'type_id': 587, 'category': 'injury', 'team_id': 2, 'season_id': None, 'start_date': '2024-03-22', 'end_date': '2024-05-13', 'games_missed': 8, 'completed': True}, {'id': 258426, 'player_id': 537311, 'type_id': 587, 'category': 'injury', 'team_id': 2, 'season_id': None, 'start_date': '2023-05-26', 'end_date': '2023-07-08', 'games_missed': 0, 'completed': True}, {'id': 407343, 'player_id': 205, 'type_id': 536, 'category': 'injury', 'team_id': 2, 'season_id': None, 'start_date': '2009-03-05', 'end_date': '2009-09-09', 'games_missed': 15, 'completed': True}, {'id': 87321, 'player_id': 872, 'type_id': 671, 'category': 'injury', 'team_id': 2, 'season_id': None, 'start_date': '2020-10-04', 'end_date': '2021-02-04', 'games_missed': 23, 'completed': True}, {'id': 447304, 'player_id': 61107, 'type_id': 1612, 'category': 'suspended', 'team_id': 2, 'season_id': None, 'start_date': '2020-08-26', 'end_date': '2020-08-30', 'games_missed': 0, 'completed': True}, {'id': 83090, 'player_id': 2299, 'type_id': 1567, 'category': 'injury', 'team_id': 2, 'season_id': None, 'start_date': '2020-01-11', 'end_date': '2020-06-06', 'games_missed': 11, 'completed': True}, {'id': 83093, 'player_id': 2299, 'type_id': 1973, 'category': 'injury', 'team_id': 2, 'season_id': None, 'start_date': '2020-06-21', 'end_date': '2020-08-21', 'games_missed': 8, 'completed': True}, {'id': 431639, 'player_id': 2285, 'type_id': 1610, 'category': 'suspended', 'team_id': 2, 'season_id': None, 'start_date': '2013-08-07', 'end_date': '2013-08-12', 'games_missed': 2, 'completed': True}, {'id': 259934, 'player_id': 6613, 'type_id': 587, 'category': 'injury', 'team_id': 2, 'season_id': None, 'start_date': '2023-05-26', 'end_date': '2024-05-03', 'games_missed': 56, 'completed': True}, {'id': 451894, 'player_id': 404, 'type_id': 1608, 'category': 'suspended', 'team_id': 2, 'season_id': None, 'start_date': '2010-12-28', 'end_date': '2011-01-09', 'games_missed': 3, 'completed': True}, {'id': 452320, 'player_id': 7636, 'type_id': 1611, 'category': 'suspended', 'team_id': 2, 'season_id': None, 'start_date': '2022-10-18', 'end_date': '2022-10-18', 'games_missed': 0, 'completed': True}, {'id': 439160, 'player_id': 272, 'type_id': 1615, 'category': 'suspended', 'team_id': 2, 'season_id': None, 'start_date': '2011-11-28', 'end_date': '2011-12-19', 'games_missed': 4, 'completed': True}, {'id': 447394, 'player_id': 7027, 'type_id': 561, 'category': 'suspended', 'team_id': 2, 'season_id': None, 'start_date': '2020-09-11', 'end_date': '2020-10-04', 'games_missed': 4, 'completed': True}, {'id': 456295, 'player_id': 214, 'type_id': 1610, 'category': 'suspended', 'team_id': 2, 'season_id': None, 'start_date': '2009-03-02', 'end_date': '2009-03-05', 'games_missed': 0, 'completed': True}, {'id': 447389, 'player_id': 7027, 'type_id': 561, 'category': 'suspended', 'team_id': 2, 'season_id': None, 'start_date': '2020-08-28', 'end_date': '2020-09-16', 'games_missed': 3, 'completed': True}, {'id': 493242, 'player_id': 807, 'type_id': 1610, 'category': 'suspended', 'team_id': 2, 'season_id': None, 'start_date': '2016-03-21', 'end_date': '2016-04-04', 'games_missed': 1, 'completed': True}, {'id': 492347, 'player_id': 3111, 'type_id': 1608, 'category': 'suspended', 'team_id': 2, 'season_id': None, 'start_date': '2016-12-27', 'end_date': '2017-01-09', 'games_missed': 3, 'completed': True}, {'id': 494852, 'player_id': 2536, 'type_id': 1611, 'category': 'suspended', 'team_id': 2, 'season_id': None, 'start_date': '2017-11-01', 'end_date': '2017-11-05', 'games_missed': 0, 'completed': True}, {'id': 496026, 'player_id': 872, 'type_id': 1608, 'category': 'suspended', 'team_id': 2, 'season_id': None, 'start_date': '2017-02-15', 'end_date': '2017-02-27', 'games_missed': 2, 'completed': True}, {'id': 467780, 'player_id': 537434, 'type_id': 1612, 'category': 'suspended', 'team_id': 2, 'season_id': None, 'start_date': '2020-10-16', 'end_date': '2020-10-18', 'games_missed': 0, 'completed': True}, {'id': 501571, 'player_id': 23269836, 'type_id': 1612, 'category': 'suspended', 'team_id': 2, 'season_id': None, 'start_date': '2020-10-16', 'end_date': '2020-10-18', 'games_missed': 0, 'completed': True}, {'id': 470630, 'player_id': 7835, 'type_id': 1608, 'category': 'suspended', 'team_id': 2, 'season_id': None, 'start_date': '2020-07-01', 'end_date': '2020-07-13', 'games_missed': 3, 'completed': True}, {'id': 469337, 'player_id': 2299, 'type_id': 1611, 'category': 'suspended', 'team_id': 2, 'season_id': None, 'start_date': '2018-11-05', 'end_date': '2018-11-12', 'games_missed': 1, 'completed': True}, {'id': 506071, 'player_id': 24818803, 'type_id': 1608, 'category': 'suspended', 'team_id': 2, 'season_id': None, 'start_date': '2021-11-04', 'end_date': '2021-11-25', 'games_missed': 2, 'completed': True}, {'id': 479091, 'player_id': 1502, 'type_id': 1611, 'category': 'suspended', 'team_id': 2, 'season_id': None, 'start_date': '2016-10-03', 'end_date': '2016-10-17', 'games_missed': 1, 'completed': True}, {'id': 510324, 'player_id': 2823545, 'type_id': 1610, 'category': 'suspended', 'team_id': 2, 'season_id': None, 'start_date': '2021-08-30', 'end_date': '2021-09-13', 'games_missed': 1, 'completed': True}, {'id': 72132, 'player_id': 3111, 'type_id': 1910, 'category': 'injury', 'team_id': 2, 'season_id': None, 'start_date': '2020-10-01', 'end_date': '2020-10-12', 'games_missed': 1, 'completed': True}, {'id': 569043, 'player_id': 2823545, 'type_id': 587, 'category': 'injury', 'team_id': 2, 'season_id': None, 'start_date': '2024-02-26', 'end_date': '2024-02-26', 'games_missed': None, 'completed': True}, {'id': 569044, 'player_id': 581160, 'type_id': 587, 'category': 'injury', 'team_id': 2, 'season_id': None, 'start_date': '2024-02-26', 'end_date': '2024-02-26', 'games_missed': None, 'completed': True}, {'id': 569046, 'player_id': 34455259, 'type_id': 1682, 'category': 'doubtful', 'team_id': 2, 'season_id': None, 'start_date': '2024-02-27', 'end_date': '2024-02-26', 'games_missed': None, 'completed': True}, {'id': 496044, 'player_id': 872, 'type_id': 1611, 'category': 'suspended', 'team_id': 2, 'season_id': None, 'start_date': '2018-11-26', 'end_date': '2018-11-29', 'games_missed': 0, 'completed': True}, {'id': 496041, 'player_id': 872, 'type_id': 1608, 'category': 'suspended', 'team_id': 2, 'season_id': None, 'start_date': '2017-12-04', 'end_date': '2017-12-25', 'games_missed': 4, 'completed': True}, {'id': 56983, 'player_id': 3179, 'type_id': 1936, 'category': 'injury', 'team_id': 2, 'season_id': None, 'start_date': '2020-11-04', 'end_date': '2020-11-24', 'games_missed': 2, 'completed': True}, {'id': 429608, 'player_id': 428, 'type_id': 1610, 'category': 'suspended', 'team_id': 2, 'season_id': None, 'start_date': '2008-11-23', 'end_date': '2008-12-02', 'games_missed': 2, 'completed': True}, {'id': 432132, 'player_id': 3405, 'type_id': 1608, 'category': 'suspended', 'team_id': 2, 'season_id': None, 'start_date': '2017-10-22', 'end_date': '2017-11-05', 'games_missed': 2, 'completed': True}, {'id': 446518, 'player_id': 25747, 'type_id': 1612, 'category': 'suspended', 'team_id': 2, 'season_id': None, 'start_date': '2020-10-16', 'end_date': '2020-10-18', 'games_missed': 0, 'completed': True}, {'id': 407340, 'player_id': 205, 'type_id': 2015, 'category': 'injury', 'team_id': 2, 'season_id': None, 'start_date': '2008-10-06', 'end_date': '2008-10-19', 'games_missed': 0, 'completed': True}, {'id': 407341, 'player_id': 205, 'type_id': 2015, 'category': 'injury', 'team_id': 2, 'season_id': None, 'start_date': '2008-10-26', 'end_date': '2008-11-15', 'games_missed': 4, 'completed': True}, {'id': 469334, 'player_id': 2299, 'type_id': 1611, 'category': 'suspended', 'team_id': 2, 'season_id': None, 'start_date': '2017-11-09', 'end_date': '2017-11-13', 'games_missed': 0, 'completed': True}, {'id': 469316, 'player_id': 2299, 'type_id': 1611, 'category': 'suspended', 'team_id': 2, 'season_id': None, 'start_date': '2014-12-29', 'end_date': '2015-01-05', 'games_missed': 1, 'completed': True}, {'id': 49455, 'player_id': 1246, 'type_id': 2030, 'category': 'injury', 'team_id': 2, 'season_id': None, 'start_date': '2021-02-06', 'end_date': '2021-03-17', 'games_missed': 10, 'completed': True}, {'id': 594473, 'player_id': 61107, 'type_id': 537, 'category': 'injury', 'team_id': 2, 'season_id': None, 'start_date': '2023-01-22', 'end_date': '2023-03-18', 'games_missed': 12, 'completed': True}, {'id': 672848, 'player_id': 37565028, 'type_id': 537, 'category': 'injury', 'team_id': 2, 'season_id': None, 'start_date': '2024-10-10', 'end_date': '2024-11-26', 'games_missed': 6, 'completed': True}, {'id': 651467, 'player_id': 24081647, 'type_id': 1608, 'category': 'suspended', 'team_id': 2, 'season_id': None, 'start_date': '2024-09-22', 'end_date': '2024-10-06', 'games_missed': 3, 'completed': True}, {'id': 673603, 'player_id': 119181, 'type_id': 336, 'category': 'injury', 'team_id': 2, 'season_id': None, 'start_date': '2024-09-14', 'end_date': '2024-09-30', 'games_missed': 3, 'completed': True}, {'id': 673399, 'player_id': 2823545, 'type_id': 540, 'category': 'injury', 'team_id': 2, 'season_id': None, 'start_date': '2024-10-23', 'end_date': None, 'games_missed': 37, 'completed': False}, {'id': 697681, 'player_id': 37526157, 'type_id': 535, 'category': 'injury', 'team_id': 2, 'season_id': None, 'start_date': '2024-04-04', 'end_date': '2024-04-18', 'games_missed': 3, 'completed': True}, {'id': 698092, 'player_id': 21820095, 'type_id': 537, 'category': 'injury', 'team_id': 2, 'season_id': None, 'start_date': '2025-01-03', 'end_date': '2025-02-16', 'games_missed': 10, 'completed': True}, {'id': 703623, 'player_id': 339, 'type_id': 540, 'category': 'injury', 'team_id': 2, 'season_id': None, 'start_date': '2025-03-07', 'end_date': None, 'games_missed': 10, 'completed': False}, {'id': 705574, 'player_id': 23697536, 'type_id': 709, 'category': 'injury', 'team_id': 2, 'season_id': None, 'start_date': '2023-08-12', 'end_date': '2023-09-20', 'games_missed': 6, 'completed': True}, {'id': 705310, 'player_id': 8018, 'type_id': 687, 'category': 'injury', 'team_id': 2, 'season_id': None, 'start_date': '2024-08-25', 'end_date': '2024-08-30', 'games_missed': 1, 'completed': True}, {'id': 705364, 'player_id': 5241, 'type_id': 587, 'category': 'injury', 'team_id': 2, 'season_id': None, 'start_date': '2019-08-12', 'end_date': '2019-09-09', 'games_missed': 6, 'completed': True}, {'id': 705311, 'player_id': 8018, 'type_id': 536, 'category': 'injury', 'team_id': 2, 'season_id': None, 'start_date': '2024-09-01', 'end_date': '2024-10-18', 'games_missed': 5, 'completed': True}, {'id': 673560, 'player_id': 119181, 'type_id': 1991, 'category': 'injury', 'team_id': 2, 'season_id': None, 'start_date': '2024-11-01', 'end_date': '2025-03-18', 'games_missed': 28, 'completed': True}, {'id': 6972, 'player_id': 9258, 'type_id': 535, 'category': 'injury', 'team_id': 2, 'season_id': None, 'start_date': '2017-10-29', 'end_date': '2018-07-29', 'games_missed': None, 'completed': True}, {'id': 510970, 'player_id': 2823546, 'type_id': 1608, 'category': 'suspended', 'team_id': 2, 'season_id': None, 'start_date': '2020-03-09', 'end_date': '2020-07-01', 'games_missed': 2, 'completed': True}, {'id': 468711, 'player_id': 155323, 'type_id': 1612, 'category': 'suspended', 'team_id': 2, 'season_id': None, 'start_date': '2020-10-16', 'end_date': '2020-10-18', 'games_missed': 0, 'completed': True}, {'id': 469312, 'player_id': 2299, 'type_id': 1611, 'category': 'suspended', 'team_id': 2, 'season_id': None, 'start_date': '2014-10-02', 'end_date': '2014-10-06', 'games_missed': 1, 'completed': True}, {'id': 469320, 'player_id': 2299, 'type_id': 1611, 'category': 'suspended', 'team_id': 2, 'season_id': None, 'start_date': '2015-11-02', 'end_date': '2015-11-05', 'games_missed': 1, 'completed': True}, {'id': 469326, 'player_id': 2299, 'type_id': 1611, 'category': 'suspended', 'team_id': 2, 'season_id': None, 'start_date': '2016-03-17', 'end_date': '2016-04-04', 'games_missed': 2, 'completed': True}, {'id': 470633, 'player_id': 7835, 'type_id': 1611, 'category': 'suspended', 'team_id': 2, 'season_id': None, 'start_date': '2021-11-13', 'end_date': '2021-11-18', 'games_missed': 0, 'completed': True}, {'id': 710030, 'player_id': 537434, 'type_id': 549, 'category': 'injury', 'team_id': 2, 'season_id': None, 'start_date': '2023-10-02', 'end_date': '2024-01-12', 'games_missed': 19, 'completed': True}, {'id': 475984, 'player_id': 925, 'type_id': 1611, 'category': 'suspended', 'team_id': 2, 'season_id': None, 'start_date': '2020-11-23', 'end_date': '2020-11-25', 'games_missed': 0, 'completed': True}, {'id': 479077, 'player_id': 1502, 'type_id': 1611, 'category': 'suspended', 'team_id': 2, 'season_id': None, 'start_date': '2012-02-11', 'end_date': '2012-03-03', 'games_missed': 2, 'completed': True}, {'id': 479084, 'player_id': 1502, 'type_id': 1611, 'category': 'suspended', 'team_id': 2, 'season_id': None, 'start_date': '2013-12-30', 'end_date': '2014-01-02', 'games_missed': 0, 'completed': True}, {'id': 479099, 'player_id': 1502, 'type_id': 1611, 'category': 'suspended', 'team_id': 2, 'season_id': None, 'start_date': '2016-12-19', 'end_date': '2017-01-01', 'games_missed': 1, 'completed': True}, {'id': 488610, 'player_id': 8485, 'type_id': 1610, 'category': 'suspended', 'team_id': 2, 'season_id': None, 'start_date': '2019-12-12', 'end_date': '2019-12-16', 'games_missed': 1, 'completed': True}, {'id': 491352, 'player_id': 1415, 'type_id': 1608, 'category': 'suspended', 'team_id': 2, 'season_id': None, 'start_date': '2016-04-04', 'end_date': '2016-04-07', 'games_missed': 1, 'completed': True}, {'id': 491349, 'player_id': 14119, 'type_id': 1608, 'category': 'suspended', 'team_id': 2, 'season_id': None, 'start_date': '2023-08-19', 'end_date': '2023-08-28', 'games_missed': 1, 'completed': True}, {'id': 491361, 'player_id': 1415, 'type_id': 1610, 'category': 'suspended', 'team_id': 2, 'season_id': None, 'start_date': '2016-08-18', 'end_date': '2016-08-22', 'games_missed': 1, 'completed': True}, {'id': 492341, 'player_id': 3111, 'type_id': 1611, 'category': 'suspended', 'team_id': 2, 'season_id': None, 'start_date': '2016-03-29', 'end_date': '2016-09-05', 'games_missed': 22, 'completed': True}, {'id': 492357, 'player_id': 3111, 'type_id': 1608, 'category': 'suspended', 'team_id': 2, 'season_id': None, 'start_date': '2020-12-07', 'end_date': '2020-12-10', 'games_missed': 0, 'completed': True}, {'id': 492352, 'player_id': 3111, 'type_id': 1611, 'category': 'suspended', 'team_id': 2, 'season_id': None, 'start_date': '2020-02-27', 'end_date': '2020-03-09', 'games_missed': 1, 'completed': True}, {'id': 496032, 'player_id': 872, 'type_id': 1610, 'category': 'suspended', 'team_id': 2, 'season_id': None, 'start_date': '2017-10-29', 'end_date': '2017-10-31', 'games_missed': 0, 'completed': True}, {'id': 493230, 'player_id': 807, 'type_id': 1608, 'category': 'suspended', 'team_id': 2, 'season_id': None, 'start_date': '2013-10-06', 'end_date': '2013-11-04', 'games_missed': 4, 'completed': True}, {'id': 424574, 'player_id': 5706, 'type_id': 1611, 'category': 'suspended', 'team_id': 2, 'season_id': None, 'start_date': '2013-12-04', 'end_date': '2013-12-09', 'games_missed': 1, 'completed': True}, {'id': 426492, 'player_id': 3179, 'type_id': 1608, 'category': 'suspended', 'team_id': 2, 'season_id': None, 'start_date': '2019-02-18', 'end_date': '2019-03-04', 'games_missed': 2, 'completed': True}, {'id': 426484, 'player_id': 3179, 'type_id': 1608, 'category': 'suspended', 'team_id': 2, 'season_id': None, 'start_date': '2018-09-26', 'end_date': '2018-10-01', 'games_missed': 1, 'completed': True}, {'id': 431642, 'player_id': 2285, 'type_id': 1610, 'category': 'suspended', 'team_id': 2, 'season_id': None, 'start_date': '2014-11-24', 'end_date': '2014-12-01', 'games_missed': 1, 'completed': True}]",
         "37",
         "4",
         "2",
         "0",
         "2",
         "80"
        ],
        [
         "2",
         "3",
         "1",
         "462.0",
         "212.0",
         "male",
         "Sunderland",
         "SUN",
         "https://cdn.sportmonks.com/images/soccer/teams/3/3.png",
         "1879.0",
         "domestic",
         "False",
         "2025-04-26 14:00:00",
         "Football",
         "football",
         "[{'id': 415, 'player_id': 784, 'type_id': 537, 'category': 'injury', 'team_id': 3, 'season_id': None, 'start_date': '2012-01-04', 'end_date': '2012-02-01', 'games_missed': 3, 'completed': True}, {'id': 481, 'player_id': 627, 'type_id': 533, 'category': 'injury', 'team_id': 3, 'season_id': None, 'start_date': '2011-01-06', 'end_date': '2011-01-27', 'games_missed': 3, 'completed': True}, {'id': 520, 'player_id': 629, 'type_id': 537, 'category': 'injury', 'team_id': 3, 'season_id': None, 'start_date': '2008-11-14', 'end_date': '2008-12-06', 'games_missed': 3, 'completed': True}, {'id': 548, 'player_id': 313, 'type_id': 540, 'category': 'injury', 'team_id': 3, 'season_id': None, 'start_date': '2011-04-20', 'end_date': '2012-01-01', 'games_missed': 24, 'completed': True}, {'id': 555, 'player_id': 473, 'type_id': 537, 'category': 'injury', 'team_id': 3, 'season_id': None, 'start_date': '2013-03-22', 'end_date': '2013-08-26', 'games_missed': 10, 'completed': True}, {'id': 557, 'player_id': 473, 'type_id': 545, 'category': 'injury', 'team_id': 3, 'season_id': None, 'start_date': '2013-09-21', 'end_date': '2013-10-16', 'games_missed': 4, 'completed': True}, {'id': 558, 'player_id': 473, 'type_id': 537, 'category': 'injury', 'team_id': 3, 'season_id': None, 'start_date': '2015-04-20', 'end_date': '2015-05-09', 'games_missed': 2, 'completed': True}, {'id': 607, 'player_id': 411, 'type_id': 531, 'category': 'injury', 'team_id': 3, 'season_id': None, 'start_date': '2015-12-31', 'end_date': '2016-01-12', 'games_missed': 2, 'completed': True}, {'id': 610, 'player_id': 411, 'type_id': 535, 'category': 'injury', 'team_id': 3, 'season_id': None, 'start_date': '2016-11-03', 'end_date': '2016-12-31', 'games_missed': 8, 'completed': True}, {'id': 661, 'player_id': 35, 'type_id': 533, 'category': 'injury', 'team_id': 3, 'season_id': None, 'start_date': '2009-09-10', 'end_date': '2009-09-21', 'games_missed': 2, 'completed': True}, {'id': 659, 'player_id': 35, 'type_id': 537, 'category': 'injury', 'team_id': 3, 'season_id': None, 'start_date': '2008-12-11', 'end_date': '2009-01-15', 'games_missed': 6, 'completed': True}, {'id': 665, 'player_id': 35, 'type_id': 536, 'category': 'injury', 'team_id': 3, 'season_id': None, 'start_date': '2012-04-30', 'end_date': '2014-06-30', 'games_missed': 97, 'completed': True}, {'id': 663, 'player_id': 35, 'type_id': 540, 'category': 'injury', 'team_id': 3, 'season_id': None, 'start_date': '2011-04-18', 'end_date': '2012-01-02', 'games_missed': 24, 'completed': True}, {'id': 830, 'player_id': 361, 'type_id': 537, 'category': 'injury', 'team_id': 3, 'season_id': None, 'start_date': '2008-09-26', 'end_date': '2008-10-01', 'games_missed': 4, 'completed': True}, {'id': 813, 'player_id': 712, 'type_id': 545, 'category': 'injury', 'team_id': 3, 'season_id': None, 'start_date': '2014-11-03', 'end_date': '2015-01-01', 'games_missed': 10, 'completed': True}, {'id': 831, 'player_id': 361, 'type_id': 536, 'category': 'injury', 'team_id': 3, 'season_id': None, 'start_date': '2011-03-20', 'end_date': '2011-04-10', 'games_missed': 2, 'completed': True}, {'id': 940, 'player_id': 581062, 'type_id': 535, 'category': 'injury', 'team_id': 3, 'season_id': None, 'start_date': '2021-12-21', 'end_date': '2022-04-01', 'games_missed': 17, 'completed': True}, {'id': 961, 'player_id': 5999, 'type_id': 545, 'category': 'injury', 'team_id': 3, 'season_id': None, 'start_date': '2021-11-27', 'end_date': '2022-03-07', 'games_missed': 21, 'completed': True}, {'id': 2312, 'player_id': 1329, 'type_id': 545, 'category': 'injury', 'team_id': 3, 'season_id': None, 'start_date': '2017-11-19', 'end_date': '2018-01-25', 'games_missed': 12, 'completed': True}, {'id': 2535, 'player_id': 821, 'type_id': 537, 'category': 'injury', 'team_id': 3, 'season_id': None, 'start_date': '2016-09-24', 'end_date': '2016-11-05', 'games_missed': 6, 'completed': True}, {'id': 2561, 'player_id': 822, 'type_id': 537, 'category': 'injury', 'team_id': 3, 'season_id': None, 'start_date': '2013-02-06', 'end_date': '2013-02-23', 'games_missed': 1, 'completed': True}, {'id': 2842, 'player_id': 1187, 'type_id': 553, 'category': 'injury', 'team_id': 3, 'season_id': None, 'start_date': '2016-02-02', 'end_date': '2016-03-05', 'games_missed': 5, 'completed': True}, {'id': 3024, 'player_id': 1189, 'type_id': 535, 'category': 'injury', 'team_id': 3, 'season_id': None, 'start_date': '2014-09-23', 'end_date': '2014-11-10', 'games_missed': 6, 'completed': True}, {'id': 3179, 'player_id': 1256, 'type_id': 535, 'category': 'injury', 'team_id': 3, 'season_id': None, 'start_date': '2017-04-09', 'end_date': '2017-05-13', 'games_missed': 5, 'completed': True}, {'id': 3191, 'player_id': 1001, 'type_id': 557, 'category': 'injury', 'team_id': 3, 'season_id': None, 'start_date': '2016-11-19', 'end_date': '2017-11-09', 'games_missed': 56, 'completed': True}, {'id': 3223, 'player_id': 841, 'type_id': 536, 'category': 'injury', 'team_id': 3, 'season_id': None, 'start_date': '2011-11-06', 'end_date': '2011-12-10', 'games_missed': 3, 'completed': True}, {'id': 3246, 'player_id': 905, 'type_id': 549, 'category': 'injury', 'team_id': 3, 'season_id': None, 'start_date': '2019-04-28', 'end_date': '2019-05-19', 'games_missed': 4, 'completed': True}, {'id': 3249, 'player_id': 905, 'type_id': 536, 'category': 'injury', 'team_id': 3, 'season_id': None, 'start_date': '2021-11-24', 'end_date': '2022-01-12', 'games_missed': 10, 'completed': True}, {'id': 4103, 'player_id': 1552672, 'type_id': 553, 'category': 'injury', 'team_id': 3, 'season_id': None, 'start_date': '2008-09-06', 'end_date': '2008-12-26', 'games_missed': 17, 'completed': True}, {'id': 5458, 'player_id': 23697537, 'type_id': 548, 'category': 'injury', 'team_id': 3, 'season_id': None, 'start_date': '2021-11-21', 'end_date': '2021-12-20', 'games_missed': 7, 'completed': True}, {'id': 7771, 'player_id': 37391787, 'type_id': 587, 'category': 'injury', 'team_id': 3, 'season_id': None, 'start_date': '2021-11-21', 'end_date': '2022-01-03', 'games_missed': 10, 'completed': True}, {'id': 11408, 'player_id': 1487, 'type_id': 535, 'category': 'injury', 'team_id': 3, 'season_id': None, 'start_date': '2016-12-26', 'end_date': '2017-01-06', 'games_missed': 3, 'completed': True}, {'id': 12342, 'player_id': 847, 'type_id': 545, 'category': 'injury', 'team_id': 3, 'season_id': None, 'start_date': '2013-11-21', 'end_date': '2014-06-30', 'games_missed': 35, 'completed': True}, {'id': 543321, 'player_id': 23697537, 'type_id': 554, 'category': 'injury', 'team_id': 3, 'season_id': None, 'start_date': '2022-09-07', 'end_date': '2022-10-05', 'games_missed': 3, 'completed': True}, {'id': 543322, 'player_id': 23697537, 'type_id': 587, 'category': 'injury', 'team_id': 3, 'season_id': None, 'start_date': '2022-11-10', 'end_date': '2022-11-20', 'games_missed': 1, 'completed': True}, {'id': 543323, 'player_id': 23697537, 'type_id': 536, 'category': 'injury', 'team_id': 3, 'season_id': None, 'start_date': '2022-12-27', 'end_date': '2023-02-01', 'games_missed': 6, 'completed': True}, {'id': 543324, 'player_id': 23697537, 'type_id': 630, 'category': 'injury', 'team_id': 3, 'season_id': None, 'start_date': '2023-02-05', 'end_date': '2023-02-12', 'games_missed': 1, 'completed': True}, {'id': 543325, 'player_id': 23697537, 'type_id': 550, 'category': 'injury', 'team_id': 3, 'season_id': None, 'start_date': '2023-02-22', 'end_date': '2023-03-26', 'games_missed': 5, 'completed': True}, {'id': 14692, 'player_id': 1778, 'type_id': 537, 'category': 'injury', 'team_id': 3, 'season_id': None, 'start_date': '2016-11-28', 'end_date': '2017-01-29', 'games_missed': 11, 'completed': True}, {'id': 16720, 'player_id': 1826, 'type_id': 536, 'category': 'injury', 'team_id': 3, 'season_id': None, 'start_date': '2016-12-26', 'end_date': '2017-02-27', 'games_missed': 10, 'completed': True}, {'id': 18332, 'player_id': 4148, 'type_id': 536, 'category': 'injury', 'team_id': 3, 'season_id': None, 'start_date': '2014-10-01', 'end_date': '2014-11-28', 'games_missed': 6, 'completed': True}, {'id': 18336, 'player_id': 4148, 'type_id': 536, 'category': 'injury', 'team_id': 3, 'season_id': None, 'start_date': '2015-03-14', 'end_date': '2015-06-01', 'games_missed': 10, 'completed': True}, {'id': 102412, 'player_id': 2875848, 'type_id': 549, 'category': 'injury', 'team_id': 3, 'season_id': None, 'start_date': '2022-12-25', 'end_date': '2023-01-14', 'games_missed': 4, 'completed': True}, {'id': 20974, 'player_id': 1494231, 'type_id': 587, 'category': 'injury', 'team_id': 3, 'season_id': None, 'start_date': '2021-11-21', 'end_date': '2021-12-17', 'games_missed': 6, 'completed': True}, {'id': 641414, 'player_id': 23680764, 'type_id': 1610, 'category': 'suspended', 'team_id': 3, 'season_id': None, 'start_date': '2024-08-24', 'end_date': '2024-09-01', 'games_missed': 1, 'completed': True}, {'id': 34835, 'player_id': 1799, 'type_id': 537, 'category': 'injury', 'team_id': 3, 'season_id': None, 'start_date': '2016-02-06', 'end_date': '2016-04-15', 'games_missed': 8, 'completed': True}, {'id': 34839, 'player_id': 1799, 'type_id': 536, 'category': 'injury', 'team_id': 3, 'season_id': None, 'start_date': '2016-12-03', 'end_date': '2017-09-15', 'games_missed': 44, 'completed': True}, {'id': 34845, 'player_id': 1799, 'type_id': 536, 'category': 'injury', 'team_id': 3, 'season_id': None, 'start_date': '2017-11-18', 'end_date': '2018-11-25', 'games_missed': 57, 'completed': True}, {'id': 34849, 'player_id': 1799, 'type_id': 537, 'category': 'injury', 'team_id': 3, 'season_id': None, 'start_date': '2019-03-02', 'end_date': '2019-05-15', 'games_missed': 16, 'completed': True}, {'id': 38780, 'player_id': 526225, 'type_id': 538, 'category': 'injury', 'team_id': 3, 'season_id': None, 'start_date': '2022-01-01', 'end_date': '2022-01-14', 'games_missed': 2, 'completed': True}, {'id': 73285, 'player_id': 629, 'type_id': 557, 'category': 'injury', 'team_id': 3, 'season_id': None, 'start_date': '2008-09-26', 'end_date': '2008-10-24', 'games_missed': 3, 'completed': True}, {'id': 73632, 'player_id': 6983785, 'type_id': 650, 'category': 'injury', 'team_id': 3, 'season_id': None, 'start_date': '2015-05-02', 'end_date': '2015-05-16', 'games_missed': 2, 'completed': True}, {'id': 578768, 'player_id': 10310765, 'type_id': 537, 'category': 'injury', 'team_id': 3, 'season_id': None, 'start_date': '2024-02-17', 'end_date': '2024-03-31', 'games_missed': 7, 'completed': True}, {'id': 49844, 'player_id': 1189, 'type_id': 535, 'category': 'injury', 'team_id': 3, 'season_id': None, 'start_date': '2014-09-22', 'end_date': '2014-11-10', 'games_missed': 6, 'completed': True}, {'id': 63869, 'player_id': 5696, 'type_id': 2091, 'category': 'injury', 'team_id': 3, 'season_id': None, 'start_date': '2021-02-09', 'end_date': '2023-01-01', 'games_missed': 122, 'completed': True}, {'id': 63041, 'player_id': 6983785, 'type_id': 605, 'category': 'injury', 'team_id': 3, 'season_id': None, 'start_date': '2016-08-21', 'end_date': '2016-09-09', 'games_missed': 3, 'completed': True}, {'id': 64174, 'player_id': 411, 'type_id': 532, 'category': 'injury', 'team_id': 3, 'season_id': None, 'start_date': '2017-04-28', 'end_date': '2017-05-05', 'games_missed': 1, 'completed': True}, {'id': 64210, 'player_id': 833, 'type_id': 339, 'category': 'injury', 'team_id': 3, 'season_id': None, 'start_date': '2016-08-27', 'end_date': '2016-12-09', 'games_missed': 14, 'completed': True}, {'id': 48470, 'player_id': 460311, 'type_id': 687, 'category': 'injury', 'team_id': 3, 'season_id': None, 'start_date': '2008-03-14', 'end_date': '2008-05-31', 'games_missed': 9, 'completed': True}, {'id': 103520, 'player_id': 5271, 'type_id': 587, 'category': 'injury', 'team_id': 3, 'season_id': None, 'start_date': '2020-08-23', 'end_date': '2020-10-25', 'games_missed': 11, 'completed': True}, {'id': 103518, 'player_id': 5271, 'type_id': 1987, 'category': 'injury', 'team_id': 3, 'season_id': None, 'start_date': '2022-12-18', 'end_date': '2023-09-05', 'games_missed': 39, 'completed': True}, {'id': 65330, 'player_id': 538285, 'type_id': 557, 'category': 'injury', 'team_id': 3, 'season_id': None, 'start_date': '2020-10-06', 'end_date': '2021-10-06', 'games_missed': 71, 'completed': True}, {'id': 68295, 'player_id': 822, 'type_id': 339, 'category': 'injury', 'team_id': 3, 'season_id': None, 'start_date': '2012-10-06', 'end_date': '2012-10-20', 'games_missed': 1, 'completed': True}, {'id': 66310, 'player_id': 1201, 'type_id': 1955, 'category': 'injury', 'team_id': 3, 'season_id': None, 'start_date': '2015-08-25', 'end_date': '2015-10-26', 'games_missed': 8, 'completed': True}, {'id': 70506, 'player_id': 35, 'type_id': 1950, 'category': 'injury', 'team_id': 3, 'season_id': None, 'start_date': '2010-07-15', 'end_date': '2010-09-16', 'games_missed': 5, 'completed': True}, {'id': 100743, 'player_id': 774, 'type_id': 1911, 'category': 'injury', 'team_id': 3, 'season_id': None, 'start_date': '2013-03-17', 'end_date': '2013-03-30', 'games_missed': 1, 'completed': True}, {'id': 101215, 'player_id': 175530, 'type_id': 535, 'category': 'injury', 'team_id': 3, 'season_id': None, 'start_date': '2022-09-05', 'end_date': '2022-12-07', 'games_missed': 15, 'completed': True}, {'id': 523963, 'player_id': 8485, 'type_id': 533, 'category': 'injury', 'team_id': 3, 'season_id': None, 'start_date': '2023-09-02', 'end_date': '2023-11-04', 'games_missed': 10, 'completed': True}, {'id': 207066, 'player_id': 12433171, 'type_id': 535, 'category': 'injury', 'team_id': 3, 'season_id': None, 'start_date': '2023-03-26', 'end_date': '2023-07-03', 'games_missed': 10, 'completed': True}, {'id': 102262, 'player_id': 2875848, 'type_id': 537, 'category': 'injury', 'team_id': 3, 'season_id': None, 'start_date': '2022-10-18', 'end_date': '2022-11-28', 'games_missed': 7, 'completed': True}, {'id': 417088, 'player_id': 37578963, 'type_id': 595, 'category': 'injury', 'team_id': 3, 'season_id': None, 'start_date': '2023-08-26', 'end_date': '2023-09-02', 'games_missed': 1, 'completed': True}, {'id': 75627, 'player_id': 833, 'type_id': 673, 'category': 'injury', 'team_id': 3, 'season_id': None, 'start_date': '2016-08-18', 'end_date': '2016-08-26', 'games_missed': 2, 'completed': True}, {'id': 75622, 'player_id': 833, 'type_id': 759, 'category': 'injury', 'team_id': 3, 'season_id': None, 'start_date': '2015-10-17', 'end_date': '2015-11-07', 'games_missed': 3, 'completed': True}, {'id': 77694, 'player_id': 1487, 'type_id': 1960, 'category': 'injury', 'team_id': 3, 'season_id': None, 'start_date': '2016-10-08', 'end_date': '2016-11-04', 'games_missed': 4, 'completed': True}, {'id': 78053, 'player_id': 847, 'type_id': 745, 'category': 'injury', 'team_id': 3, 'season_id': None, 'start_date': '2013-11-03', 'end_date': '2013-11-08', 'games_missed': 1, 'completed': True}, {'id': 657, 'player_id': 35, 'type_id': 537, 'category': 'injury', 'team_id': 3, 'season_id': None, 'start_date': '2008-10-23', 'end_date': '2008-11-27', 'games_missed': 7, 'completed': True}, {'id': 82432, 'player_id': 473, 'type_id': 661, 'category': 'injury', 'team_id': 3, 'season_id': None, 'start_date': '2014-09-19', 'end_date': '2014-09-26', 'games_missed': 2, 'completed': True}, {'id': 82459, 'player_id': 633, 'type_id': 1985, 'category': 'injury', 'team_id': 3, 'season_id': None, 'start_date': '2011-10-29', 'end_date': '2011-12-31', 'games_missed': 9, 'completed': True}, {'id': 528977, 'player_id': 176205, 'type_id': 537, 'category': 'injury', 'team_id': 3, 'season_id': None, 'start_date': '2008-12-11', 'end_date': '2009-01-15', 'games_missed': 6, 'completed': True}, {'id': 528978, 'player_id': 176205, 'type_id': 533, 'category': 'injury', 'team_id': 3, 'season_id': None, 'start_date': '2009-09-10', 'end_date': '2009-09-21', 'games_missed': 2, 'completed': True}, {'id': 528981, 'player_id': 176205, 'type_id': 540, 'category': 'injury', 'team_id': 3, 'season_id': None, 'start_date': '2011-04-18', 'end_date': '2012-01-02', 'games_missed': 24, 'completed': True}, {'id': 528979, 'player_id': 176205, 'type_id': 1950, 'category': 'injury', 'team_id': 3, 'season_id': None, 'start_date': '2009-11-09', 'end_date': '2010-01-25', 'games_missed': 11, 'completed': True}, {'id': 528980, 'player_id': 176205, 'type_id': 1950, 'category': 'injury', 'team_id': 3, 'season_id': None, 'start_date': '2010-07-15', 'end_date': '2010-09-16', 'games_missed': 5, 'completed': True}, {'id': 528976, 'player_id': 176205, 'type_id': 537, 'category': 'injury', 'team_id': 3, 'season_id': None, 'start_date': '2008-10-23', 'end_date': '2008-11-27', 'games_missed': 7, 'completed': True}, {'id': 528982, 'player_id': 176205, 'type_id': 536, 'category': 'injury', 'team_id': 3, 'season_id': None, 'start_date': '2012-04-30', 'end_date': '2014-06-30', 'games_missed': 97, 'completed': True}, {'id': 85884, 'player_id': 15076357, 'type_id': 673, 'category': 'injury', 'team_id': 3, 'season_id': None, 'start_date': '2022-09-14', 'end_date': '2022-10-24', 'games_missed': 8, 'completed': True}, {'id': 86533, 'player_id': 838, 'type_id': 755, 'category': 'injury', 'team_id': 3, 'season_id': None, 'start_date': '2016-08-23', 'end_date': '2016-11-18', 'games_missed': 12, 'completed': True}, {'id': 407386, 'player_id': 1778, 'type_id': 551, 'category': 'injury', 'team_id': 3, 'season_id': None, 'start_date': '2023-01-22', 'end_date': '2023-03-11', 'games_missed': 10, 'completed': True}, {'id': 407385, 'player_id': 1778, 'type_id': 551, 'category': 'injury', 'team_id': 3, 'season_id': None, 'start_date': '2023-01-20', 'end_date': '2023-03-10', 'games_missed': 10, 'completed': True}, {'id': 199151, 'player_id': 2875848, 'type_id': 533, 'category': 'injury', 'team_id': 3, 'season_id': None, 'start_date': '2023-03-04', 'end_date': '2023-05-14', 'games_missed': 14, 'completed': True}, {'id': 86961, 'player_id': 1256, 'type_id': 677, 'category': 'injury', 'team_id': 3, 'season_id': None, 'start_date': '2017-07-09', 'end_date': '2017-08-10', 'games_missed': 8, 'completed': True}, {'id': 407384, 'player_id': 1778, 'type_id': 587, 'category': 'injury', 'team_id': 3, 'season_id': None, 'start_date': '2022-12-28', 'end_date': '2023-01-06', 'games_missed': 2, 'completed': True}, {'id': 87586, 'player_id': 361, 'type_id': 667, 'category': 'injury', 'team_id': 3, 'season_id': None, 'start_date': '2012-02-29', 'end_date': '2012-03-05', 'games_missed': 0, 'completed': True}, {'id': 413471, 'player_id': 37322757, 'type_id': 540, 'category': 'injury', 'team_id': 3, 'season_id': None, 'start_date': '2023-07-25', 'end_date': '2023-12-08', 'games_missed': 22, 'completed': True}, {'id': 108626, 'player_id': 2299, 'type_id': 557, 'category': 'injury', 'team_id': 3, 'season_id': None, 'start_date': '2023-01-22', 'end_date': '2024-04-20', 'games_missed': 23, 'completed': True}, {'id': 70505, 'player_id': 35, 'type_id': 1950, 'category': 'injury', 'team_id': 3, 'season_id': None, 'start_date': '2009-11-09', 'end_date': '2010-01-25', 'games_missed': 11, 'completed': True}, {'id': 451916, 'player_id': 4148, 'type_id': 561, 'category': 'suspended', 'team_id': 3, 'season_id': None, 'start_date': '2015-07-01', 'end_date': '2015-12-31', 'games_missed': 20, 'completed': True}, {'id': 454873, 'player_id': 597, 'type_id': 1608, 'category': 'suspended', 'team_id': 3, 'season_id': None, 'start_date': '2017-04-10', 'end_date': '2017-04-27', 'games_missed': 1, 'completed': True}, {'id': 454693, 'player_id': 4821, 'type_id': 1613, 'category': 'suspended', 'team_id': 3, 'season_id': None, 'start_date': '2017-01-03', 'end_date': '2017-01-23', 'games_missed': 4, 'completed': True}, {'id': 407383, 'player_id': 1778, 'type_id': 587, 'category': 'injury', 'team_id': 3, 'season_id': None, 'start_date': '2022-10-16', 'end_date': '2022-12-02', 'games_missed': 7, 'completed': True}, {'id': 497859, 'player_id': 361, 'type_id': 1611, 'category': 'suspended', 'team_id': 3, 'season_id': None, 'start_date': '2014-04-12', 'end_date': '2014-04-20', 'games_missed': 2, 'completed': True}, {'id': 466199, 'player_id': 1818, 'type_id': 1613, 'category': 'suspended', 'team_id': 3, 'season_id': None, 'start_date': '2017-01-03', 'end_date': '2017-01-25', 'games_missed': 4, 'completed': True}, {'id': 719358, 'player_id': 5999, 'type_id': 1608, 'category': 'suspended', 'team_id': 3, 'season_id': None, 'start_date': '2023-01-15', 'end_date': '2023-02-04', 'games_missed': 2, 'completed': True}, {'id': 719359, 'player_id': 5999, 'type_id': 1611, 'category': 'suspended', 'team_id': 3, 'season_id': None, 'start_date': '2023-11-05', 'end_date': '2023-11-11', 'games_missed': 0, 'completed': True}, {'id': 537203, 'player_id': 537305, 'type_id': 1911, 'category': 'injury', 'team_id': 3, 'season_id': None, 'start_date': '2023-11-28', 'end_date': '2023-12-08', 'games_missed': 2, 'completed': True}, {'id': 470128, 'player_id': 411, 'type_id': 1610, 'category': 'suspended', 'team_id': 3, 'season_id': None, 'start_date': '2015-01-26', 'end_date': '2015-02-02', 'games_missed': 1, 'completed': True}, {'id': 462923, 'player_id': 1081, 'type_id': 1612, 'category': 'suspended', 'team_id': 3, 'season_id': None, 'start_date': '2015-09-03', 'end_date': '2016-01-01', 'games_missed': 16, 'completed': True}, {'id': 191722, 'player_id': 175530, 'type_id': 603, 'category': 'injury', 'team_id': 3, 'season_id': None, 'start_date': '2023-01-28', 'end_date': '2023-11-06', 'games_missed': 45, 'completed': True}, {'id': 573463, 'player_id': 23697537, 'type_id': 608, 'category': 'injury', 'team_id': 3, 'season_id': None, 'start_date': '2024-01-11', 'end_date': '2024-04-12', 'games_missed': 16, 'completed': True}, {'id': 445351, 'player_id': 1235, 'type_id': 1610, 'category': 'suspended', 'team_id': 3, 'season_id': None, 'start_date': '2015-01-11', 'end_date': '2015-01-18', 'games_missed': 0, 'completed': True}, {'id': 664269, 'player_id': 4223, 'type_id': 531, 'category': 'injury', 'team_id': 3, 'season_id': None, 'start_date': '2015-11-07', 'end_date': '2015-11-23', 'games_missed': 1, 'completed': True}, {'id': 418121, 'player_id': 1824, 'type_id': 1610, 'category': 'suspended', 'team_id': 3, 'season_id': None, 'start_date': '2016-10-10', 'end_date': '2017-06-19', 'games_missed': 34, 'completed': True}, {'id': 192910, 'player_id': 37578963, 'type_id': 2076, 'category': 'injury', 'team_id': 3, 'season_id': None, 'start_date': '2023-03-28', 'end_date': '2023-07-09', 'games_missed': 10, 'completed': True}, {'id': 476671, 'player_id': 1827, 'type_id': 1615, 'category': 'suspended', 'team_id': 3, 'season_id': None, 'start_date': '2017-01-27', 'end_date': '2017-02-26', 'games_missed': 3, 'completed': True}, {'id': 616656, 'player_id': 23680764, 'type_id': 537, 'category': 'injury', 'team_id': 3, 'season_id': None, 'start_date': '2024-04-20', 'end_date': '2024-06-30', 'games_missed': 3, 'completed': True}, {'id': 67969, 'player_id': 597, 'type_id': 1910, 'category': 'injury', 'team_id': 3, 'season_id': None, 'start_date': '2016-08-11', 'end_date': '2016-11-24', 'games_missed': 15, 'completed': True}, {'id': 87590, 'player_id': 361, 'type_id': 1973, 'category': 'injury', 'team_id': 3, 'season_id': None, 'start_date': '2013-08-12', 'end_date': '2013-10-17', 'games_missed': 9, 'completed': True}, {'id': 583655, 'player_id': 4277, 'type_id': 533, 'category': 'injury', 'team_id': 3, 'season_id': None, 'start_date': '2024-02-16', 'end_date': '2024-03-29', 'games_missed': 6, 'completed': True}, {'id': 573702, 'player_id': 8485, 'type_id': 533, 'category': 'injury', 'team_id': 3, 'season_id': None, 'start_date': '2023-12-28', 'end_date': '2024-03-16', 'games_missed': 14, 'completed': True}, {'id': 583939, 'player_id': 37337035, 'type_id': 552, 'category': 'injury', 'team_id': 3, 'season_id': None, 'start_date': '2022-11-01', 'end_date': '2022-12-20', 'games_missed': 7, 'completed': True}, {'id': 584744, 'player_id': 4277, 'type_id': 661, 'category': 'injury', 'team_id': 3, 'season_id': None, 'start_date': '2023-12-29', 'end_date': '2024-02-01', 'games_missed': 6, 'completed': True}, {'id': 584243, 'player_id': 37610895, 'type_id': 667, 'category': 'injury', 'team_id': 3, 'season_id': None, 'start_date': '2023-08-01', 'end_date': '2023-11-05', 'games_missed': 16, 'completed': True}, {'id': 626850, 'player_id': 12433171, 'type_id': 536, 'category': 'injury', 'team_id': 3, 'season_id': None, 'start_date': '2024-07-16', 'end_date': '2024-08-31', 'games_missed': 9, 'completed': True}, {'id': 601285, 'player_id': 537305, 'type_id': 532, 'category': 'injury', 'team_id': 3, 'season_id': None, 'start_date': '2024-03-15', 'end_date': '2024-04-04', 'games_missed': 3, 'completed': True}, {'id': 547833, 'player_id': 37391787, 'type_id': 540, 'category': 'injury', 'team_id': 3, 'season_id': None, 'start_date': '2023-12-26', 'end_date': None, 'games_missed': 24, 'completed': True}, {'id': 687808, 'player_id': 3449, 'type_id': 536, 'category': 'injury', 'team_id': 3, 'season_id': None, 'start_date': '2024-09-16', 'end_date': '2024-09-29', 'games_missed': 1, 'completed': True}, {'id': 608310, 'player_id': 37546753, 'type_id': 540, 'category': 'injury', 'team_id': 3, 'season_id': None, 'start_date': '2024-03-27', 'end_date': '2024-12-31', 'games_missed': 40, 'completed': True}, {'id': 714723, 'player_id': 2875848, 'type_id': 2046, 'category': 'injury', 'team_id': 3, 'season_id': None, 'start_date': '2025-01-11', 'end_date': None, 'games_missed': 20, 'completed': False}, {'id': 687777, 'player_id': 3449, 'type_id': 2046, 'category': 'injury', 'team_id': 3, 'season_id': None, 'start_date': '2024-11-09', 'end_date': '2025-02-13', 'games_missed': 18, 'completed': True}, {'id': 703573, 'player_id': 12433171, 'type_id': 535, 'category': 'injury', 'team_id': 3, 'season_id': None, 'start_date': '2025-02-24', 'end_date': None, 'games_missed': 11, 'completed': False}, {'id': 714797, 'player_id': 2875848, 'type_id': 533, 'category': 'injury', 'team_id': 3, 'season_id': None, 'start_date': '2023-06-01', 'end_date': '2023-12-15', 'games_missed': 29, 'completed': True}, {'id': 714799, 'player_id': 2875848, 'type_id': 537, 'category': 'injury', 'team_id': 3, 'season_id': None, 'start_date': '2024-08-26', 'end_date': '2024-11-10', 'games_missed': 11, 'completed': True}, {'id': 227, 'player_id': 313, 'type_id': 1918, 'category': 'injury', 'team_id': 3, 'season_id': None, 'start_date': '2010-08-31', 'end_date': '2011-03-20', 'games_missed': 28, 'completed': True}, {'id': 714798, 'player_id': 2875848, 'type_id': 537, 'category': 'injury', 'team_id': 3, 'season_id': None, 'start_date': '2024-01-15', 'end_date': '2024-03-20', 'games_missed': 11, 'completed': True}, {'id': 703612, 'player_id': 12433171, 'type_id': 537, 'category': 'injury', 'team_id': 3, 'season_id': None, 'start_date': '2024-09-25', 'end_date': '2024-11-03', 'games_missed': 6, 'completed': True}, {'id': 703613, 'player_id': 12433171, 'type_id': 554, 'category': 'injury', 'team_id': 3, 'season_id': None, 'start_date': '2024-12-24', 'end_date': '2025-01-10', 'games_missed': 4, 'completed': True}, {'id': 79245, 'player_id': 12433171, 'type_id': 1973, 'category': 'injury', 'team_id': 3, 'season_id': None, 'start_date': '2022-08-13', 'end_date': '2022-12-22', 'games_missed': 22, 'completed': True}, {'id': 72868, 'player_id': 841, 'type_id': 1935, 'category': 'injury', 'team_id': 3, 'season_id': None, 'start_date': '2014-09-23', 'end_date': '2014-09-26', 'games_missed': 1, 'completed': True}, {'id': 705834, 'player_id': 23697537, 'type_id': 2041, 'category': 'injury', 'team_id': 3, 'season_id': None, 'start_date': '2024-11-22', 'end_date': '2024-11-30', 'games_missed': 2, 'completed': True}, {'id': 707233, 'player_id': 23269647, 'type_id': 536, 'category': 'injury', 'team_id': 3, 'season_id': None, 'start_date': '2023-09-01', 'end_date': '2023-12-17', 'games_missed': 17, 'completed': True}, {'id': 61021, 'player_id': 24189, 'type_id': 2052, 'category': 'injury', 'team_id': 3, 'season_id': None, 'start_date': '2018-02-05', 'end_date': '2018-05-19', 'games_missed': 16, 'completed': True}, {'id': 469581, 'player_id': 2683, 'type_id': 1608, 'category': 'suspended', 'team_id': 3, 'season_id': None, 'start_date': '2018-03-12', 'end_date': '2018-03-18', 'games_missed': 0, 'completed': True}, {'id': 476666, 'player_id': 1827, 'type_id': 1610, 'category': 'suspended', 'team_id': 3, 'season_id': None, 'start_date': '2016-11-20', 'end_date': '2016-11-27', 'games_missed': 0, 'completed': True}, {'id': 703808, 'player_id': 24816771, 'type_id': 1611, 'category': 'suspended', 'team_id': 3, 'season_id': None, 'start_date': '2024-11-10', 'end_date': '2024-11-23', 'games_missed': 0, 'completed': True}, {'id': 483162, 'player_id': 4223, 'type_id': 1608, 'category': 'suspended', 'team_id': 3, 'season_id': None, 'start_date': '2015-08-18', 'end_date': '2015-09-21', 'games_missed': 5, 'completed': True}, {'id': 484343, 'player_id': 1476, 'type_id': 1610, 'category': 'suspended', 'team_id': 3, 'season_id': None, 'start_date': '2017-12-04', 'end_date': '2017-12-11', 'games_missed': 1, 'completed': True}, {'id': 490881, 'player_id': 774, 'type_id': 1608, 'category': 'suspended', 'team_id': 3, 'season_id': None, 'start_date': '2012-03-04', 'end_date': '2012-03-20', 'games_missed': 3, 'completed': True}, {'id': 498616, 'player_id': 841, 'type_id': 1611, 'category': 'suspended', 'team_id': 3, 'season_id': None, 'start_date': '2014-12-22', 'end_date': '2014-12-27', 'games_missed': 0, 'completed': True}, {'id': 422410, 'player_id': 833, 'type_id': 1612, 'category': 'suspended', 'team_id': 3, 'season_id': None, 'start_date': '2013-09-25', 'end_date': '2013-10-01', 'games_missed': 1, 'completed': True}, {'id': 696449, 'player_id': 339083, 'type_id': 1608, 'category': 'suspended', 'team_id': 3, 'season_id': None, 'start_date': '2024-11-30', 'end_date': '2024-12-07', 'games_missed': 0, 'completed': True}, {'id': 429717, 'player_id': 4620, 'type_id': 1610, 'category': 'suspended', 'team_id': 3, 'season_id': None, 'start_date': '2018-03-19', 'end_date': '2018-04-04', 'games_missed': 2, 'completed': True}, {'id': 429709, 'player_id': 4620, 'type_id': 1608, 'category': 'suspended', 'team_id': 3, 'season_id': None, 'start_date': '2018-02-26', 'end_date': '2018-03-12', 'games_missed': 3, 'completed': True}]",
         "28",
         "7",
         "2",
         "0",
         "2",
         "79"
        ]
       ],
       "shape": {
        "columns": 21,
        "rows": 3
       }
      },
      "text/html": [
       "<div>\n",
       "<style scoped>\n",
       "    .dataframe tbody tr th:only-of-type {\n",
       "        vertical-align: middle;\n",
       "    }\n",
       "\n",
       "    .dataframe tbody tr th {\n",
       "        vertical-align: top;\n",
       "    }\n",
       "\n",
       "    .dataframe thead th {\n",
       "        text-align: right;\n",
       "    }\n",
       "</style>\n",
       "<table border=\"1\" class=\"dataframe\">\n",
       "  <thead>\n",
       "    <tr style=\"text-align: right;\">\n",
       "      <th></th>\n",
       "      <th>id</th>\n",
       "      <th>sport_id</th>\n",
       "      <th>country_id</th>\n",
       "      <th>venue_id</th>\n",
       "      <th>gender</th>\n",
       "      <th>name</th>\n",
       "      <th>short_code</th>\n",
       "      <th>image_path</th>\n",
       "      <th>founded</th>\n",
       "      <th>type</th>\n",
       "      <th>...</th>\n",
       "      <th>last_played_at</th>\n",
       "      <th>sport_name</th>\n",
       "      <th>sport_code</th>\n",
       "      <th>sidelinedhistory</th>\n",
       "      <th>players_count</th>\n",
       "      <th>coaches_count</th>\n",
       "      <th>sidelined_count</th>\n",
       "      <th>sidelined_history_count</th>\n",
       "      <th>rivals_count</th>\n",
       "      <th>statistics_count</th>\n",
       "    </tr>\n",
       "  </thead>\n",
       "  <tbody>\n",
       "    <tr>\n",
       "      <th>0</th>\n",
       "      <td>1</td>\n",
       "      <td>1</td>\n",
       "      <td>462.0</td>\n",
       "      <td>214.0</td>\n",
       "      <td>male</td>\n",
       "      <td>West Ham United</td>\n",
       "      <td>WHU</td>\n",
       "      <td>https://cdn.sportmonks.com/images/soccer/teams...</td>\n",
       "      <td>1895.0</td>\n",
       "      <td>domestic</td>\n",
       "      <td>...</td>\n",
       "      <td>2025-04-26 14:00:00</td>\n",
       "      <td>Football</td>\n",
       "      <td>football</td>\n",
       "      <td>[{'id': 190, 'player_id': 736, 'type_id': 336,...</td>\n",
       "      <td>27</td>\n",
       "      <td>5</td>\n",
       "      <td>2</td>\n",
       "      <td>0</td>\n",
       "      <td>3</td>\n",
       "      <td>83</td>\n",
       "    </tr>\n",
       "    <tr>\n",
       "      <th>1</th>\n",
       "      <td>2</td>\n",
       "      <td>1</td>\n",
       "      <td>462.0</td>\n",
       "      <td>8.0</td>\n",
       "      <td>male</td>\n",
       "      <td>Blackburn Rovers</td>\n",
       "      <td>BBR</td>\n",
       "      <td>https://cdn.sportmonks.com/images/soccer/teams...</td>\n",
       "      <td>1875.0</td>\n",
       "      <td>domestic</td>\n",
       "      <td>...</td>\n",
       "      <td>2025-04-26 14:00:00</td>\n",
       "      <td>Football</td>\n",
       "      <td>football</td>\n",
       "      <td>[{'id': 197, 'player_id': 652, 'type_id': 339,...</td>\n",
       "      <td>37</td>\n",
       "      <td>4</td>\n",
       "      <td>2</td>\n",
       "      <td>0</td>\n",
       "      <td>2</td>\n",
       "      <td>80</td>\n",
       "    </tr>\n",
       "    <tr>\n",
       "      <th>2</th>\n",
       "      <td>3</td>\n",
       "      <td>1</td>\n",
       "      <td>462.0</td>\n",
       "      <td>212.0</td>\n",
       "      <td>male</td>\n",
       "      <td>Sunderland</td>\n",
       "      <td>SUN</td>\n",
       "      <td>https://cdn.sportmonks.com/images/soccer/teams...</td>\n",
       "      <td>1879.0</td>\n",
       "      <td>domestic</td>\n",
       "      <td>...</td>\n",
       "      <td>2025-04-26 14:00:00</td>\n",
       "      <td>Football</td>\n",
       "      <td>football</td>\n",
       "      <td>[{'id': 415, 'player_id': 784, 'type_id': 537,...</td>\n",
       "      <td>28</td>\n",
       "      <td>7</td>\n",
       "      <td>2</td>\n",
       "      <td>0</td>\n",
       "      <td>2</td>\n",
       "      <td>79</td>\n",
       "    </tr>\n",
       "  </tbody>\n",
       "</table>\n",
       "<p>3 rows × 21 columns</p>\n",
       "</div>"
      ],
      "text/plain": [
       "   id  sport_id  country_id  venue_id gender              name short_code  \\\n",
       "0   1         1       462.0     214.0   male   West Ham United        WHU   \n",
       "1   2         1       462.0       8.0   male  Blackburn Rovers        BBR   \n",
       "2   3         1       462.0     212.0   male        Sunderland        SUN   \n",
       "\n",
       "                                          image_path  founded      type  ...  \\\n",
       "0  https://cdn.sportmonks.com/images/soccer/teams...   1895.0  domestic  ...   \n",
       "1  https://cdn.sportmonks.com/images/soccer/teams...   1875.0  domestic  ...   \n",
       "2  https://cdn.sportmonks.com/images/soccer/teams...   1879.0  domestic  ...   \n",
       "\n",
       "        last_played_at sport_name sport_code  \\\n",
       "0  2025-04-26 14:00:00   Football   football   \n",
       "1  2025-04-26 14:00:00   Football   football   \n",
       "2  2025-04-26 14:00:00   Football   football   \n",
       "\n",
       "                                    sidelinedhistory players_count  \\\n",
       "0  [{'id': 190, 'player_id': 736, 'type_id': 336,...            27   \n",
       "1  [{'id': 197, 'player_id': 652, 'type_id': 339,...            37   \n",
       "2  [{'id': 415, 'player_id': 784, 'type_id': 537,...            28   \n",
       "\n",
       "   coaches_count  sidelined_count  sidelined_history_count  rivals_count  \\\n",
       "0              5                2                        0             3   \n",
       "1              4                2                        0             2   \n",
       "2              7                2                        0             2   \n",
       "\n",
       "   statistics_count  \n",
       "0                83  \n",
       "1                80  \n",
       "2                79  \n",
       "\n",
       "[3 rows x 21 columns]"
      ]
     },
     "metadata": {},
     "output_type": "display_data"
    },
    {
     "name": "stdout",
     "output_type": "stream",
     "text": [
      "\n",
      "📄 TEAM_STATS — (80644, 5)\n"
     ]
    },
    {
     "data": {
      "application/vnd.microsoft.datawrangler.viewer.v0+json": {
       "columns": [
        {
         "name": "index",
         "rawType": "int64",
         "type": "integer"
        },
        {
         "name": "team_id",
         "rawType": "int64",
         "type": "integer"
        },
        {
         "name": "team_name",
         "rawType": "object",
         "type": "string"
        },
        {
         "name": "id",
         "rawType": "int64",
         "type": "integer"
        },
        {
         "name": "season_id",
         "rawType": "int64",
         "type": "integer"
        },
        {
         "name": "has_values",
         "rawType": "bool",
         "type": "boolean"
        }
       ],
       "conversionMethod": "pd.DataFrame",
       "ref": "889961d4-7f3c-4170-9d96-bf5f9c5a1b91",
       "rows": [
        [
         "0",
         "1",
         "West Ham United",
         "24708",
         "2",
         "True"
        ],
        [
         "1",
         "1",
         "West Ham United",
         "24737",
         "3",
         "True"
        ],
        [
         "2",
         "1",
         "West Ham United",
         "24719",
         "6",
         "True"
        ]
       ],
       "shape": {
        "columns": 5,
        "rows": 3
       }
      },
      "text/html": [
       "<div>\n",
       "<style scoped>\n",
       "    .dataframe tbody tr th:only-of-type {\n",
       "        vertical-align: middle;\n",
       "    }\n",
       "\n",
       "    .dataframe tbody tr th {\n",
       "        vertical-align: top;\n",
       "    }\n",
       "\n",
       "    .dataframe thead th {\n",
       "        text-align: right;\n",
       "    }\n",
       "</style>\n",
       "<table border=\"1\" class=\"dataframe\">\n",
       "  <thead>\n",
       "    <tr style=\"text-align: right;\">\n",
       "      <th></th>\n",
       "      <th>team_id</th>\n",
       "      <th>team_name</th>\n",
       "      <th>id</th>\n",
       "      <th>season_id</th>\n",
       "      <th>has_values</th>\n",
       "    </tr>\n",
       "  </thead>\n",
       "  <tbody>\n",
       "    <tr>\n",
       "      <th>0</th>\n",
       "      <td>1</td>\n",
       "      <td>West Ham United</td>\n",
       "      <td>24708</td>\n",
       "      <td>2</td>\n",
       "      <td>True</td>\n",
       "    </tr>\n",
       "    <tr>\n",
       "      <th>1</th>\n",
       "      <td>1</td>\n",
       "      <td>West Ham United</td>\n",
       "      <td>24737</td>\n",
       "      <td>3</td>\n",
       "      <td>True</td>\n",
       "    </tr>\n",
       "    <tr>\n",
       "      <th>2</th>\n",
       "      <td>1</td>\n",
       "      <td>West Ham United</td>\n",
       "      <td>24719</td>\n",
       "      <td>6</td>\n",
       "      <td>True</td>\n",
       "    </tr>\n",
       "  </tbody>\n",
       "</table>\n",
       "</div>"
      ],
      "text/plain": [
       "   team_id        team_name     id  season_id  has_values\n",
       "0        1  West Ham United  24708          2        True\n",
       "1        1  West Ham United  24737          3        True\n",
       "2        1  West Ham United  24719          6        True"
      ]
     },
     "metadata": {},
     "output_type": "display_data"
    },
    {
     "name": "stdout",
     "output_type": "stream",
     "text": [
      "\n",
      "📄 TEAMS_SUMMARY — (2508, 21)\n"
     ]
    },
    {
     "data": {
      "application/vnd.microsoft.datawrangler.viewer.v0+json": {
       "columns": [
        {
         "name": "index",
         "rawType": "int64",
         "type": "integer"
        },
        {
         "name": "id",
         "rawType": "int64",
         "type": "integer"
        },
        {
         "name": "sport_id",
         "rawType": "int64",
         "type": "integer"
        },
        {
         "name": "country_id",
         "rawType": "float64",
         "type": "float"
        },
        {
         "name": "venue_id",
         "rawType": "float64",
         "type": "float"
        },
        {
         "name": "gender",
         "rawType": "object",
         "type": "string"
        },
        {
         "name": "name",
         "rawType": "object",
         "type": "string"
        },
        {
         "name": "short_code",
         "rawType": "object",
         "type": "string"
        },
        {
         "name": "image_path",
         "rawType": "object",
         "type": "string"
        },
        {
         "name": "founded",
         "rawType": "float64",
         "type": "float"
        },
        {
         "name": "type",
         "rawType": "object",
         "type": "string"
        },
        {
         "name": "placeholder",
         "rawType": "bool",
         "type": "boolean"
        },
        {
         "name": "last_played_at",
         "rawType": "object",
         "type": "string"
        },
        {
         "name": "sport_name",
         "rawType": "object",
         "type": "string"
        },
        {
         "name": "sport_code",
         "rawType": "object",
         "type": "string"
        },
        {
         "name": "sidelinedhistory",
         "rawType": "object",
         "type": "string"
        },
        {
         "name": "players_count",
         "rawType": "int64",
         "type": "integer"
        },
        {
         "name": "coaches_count",
         "rawType": "int64",
         "type": "integer"
        },
        {
         "name": "sidelined_count",
         "rawType": "int64",
         "type": "integer"
        },
        {
         "name": "sidelined_history_count",
         "rawType": "int64",
         "type": "integer"
        },
        {
         "name": "rivals_count",
         "rawType": "int64",
         "type": "integer"
        },
        {
         "name": "statistics_count",
         "rawType": "int64",
         "type": "integer"
        }
       ],
       "conversionMethod": "pd.DataFrame",
       "ref": "e9e08eef-092e-45d5-9960-d1805e982703",
       "rows": [
        [
         "0",
         "1",
         "1",
         "462.0",
         "214.0",
         "male",
         "West Ham United",
         "WHU",
         "https://cdn.sportmonks.com/images/soccer/teams/1/1.png",
         "1895.0",
         "domestic",
         "False",
         "2025-04-26 14:00:00",
         "Football",
         "football",
         "[{'id': 190, 'player_id': 736, 'type_id': 336, 'category': 'injury', 'team_id': 1, 'season_id': None, 'start_date': '2018-09-04', 'end_date': '2018-10-19', 'games_missed': 5, 'completed': True}, {'id': 232, 'player_id': 156, 'type_id': 1911, 'category': 'injury', 'team_id': 1, 'season_id': None, 'start_date': '2008-04-08', 'end_date': '2008-04-19', 'games_missed': 2, 'completed': True}, {'id': 239, 'player_id': 158, 'type_id': 1911, 'category': 'injury', 'team_id': 1, 'season_id': None, 'start_date': '2008-03-28', 'end_date': '2008-04-08', 'games_missed': 1, 'completed': True}, {'id': 178, 'player_id': 1416, 'type_id': 1918, 'category': 'injury', 'team_id': 1, 'season_id': None, 'start_date': '2021-11-08', 'end_date': '2022-07-21', 'games_missed': 46, 'completed': True}, {'id': 244, 'player_id': 383, 'type_id': 1911, 'category': 'injury', 'team_id': 1, 'season_id': None, 'start_date': '2018-01-10', 'end_date': '2018-02-02', 'games_missed': 5, 'completed': True}, {'id': 292, 'player_id': 736, 'type_id': 535, 'category': 'injury', 'team_id': 1, 'season_id': None, 'start_date': '2017-11-11', 'end_date': '2017-12-03', 'games_missed': 3, 'completed': True}, {'id': 324, 'player_id': 746, 'type_id': 536, 'category': 'injury', 'team_id': 1, 'season_id': None, 'start_date': '2016-08-18', 'end_date': '2016-12-02', 'games_missed': 17, 'completed': True}, {'id': 323, 'player_id': 746, 'type_id': 587, 'category': 'injury', 'team_id': 1, 'season_id': None, 'start_date': '2016-01-12', 'end_date': '2016-02-03', 'games_missed': 4, 'completed': True}, {'id': 371, 'player_id': 717, 'type_id': 537, 'category': 'injury', 'team_id': 1, 'season_id': None, 'start_date': '2018-09-09', 'end_date': '2018-11-30', 'games_missed': 11, 'completed': True}, {'id': 372, 'player_id': 717, 'type_id': 532, 'category': 'injury', 'team_id': 1, 'season_id': None, 'start_date': '2020-09-11', 'end_date': '2020-09-22', 'games_missed': 3, 'completed': True}, {'id': 411, 'player_id': 336, 'type_id': 545, 'category': 'injury', 'team_id': 1, 'season_id': None, 'start_date': '2015-03-12', 'end_date': '2015-05-24', 'games_missed': 9, 'completed': True}, {'id': 412, 'player_id': 336, 'type_id': 532, 'category': 'injury', 'team_id': 1, 'season_id': None, 'start_date': '2016-02-06', 'end_date': '2016-04-01', 'games_missed': 9, 'completed': True}, {'id': 423, 'player_id': 496, 'type_id': 535, 'category': 'injury', 'team_id': 1, 'season_id': None, 'start_date': '2015-12-05', 'end_date': '2016-01-16', 'games_missed': 8, 'completed': True}, {'id': 471, 'player_id': 754, 'type_id': 537, 'category': 'injury', 'team_id': 1, 'season_id': None, 'start_date': '2010-11-01', 'end_date': '2011-02-28', 'games_missed': 23, 'completed': True}, {'id': 619, 'player_id': 156, 'type_id': 535, 'category': 'injury', 'team_id': 1, 'season_id': None, 'start_date': '2017-12-16', 'end_date': '2017-12-31', 'games_missed': 4, 'completed': True}, {'id': 625, 'player_id': 156, 'type_id': 537, 'category': 'injury', 'team_id': 1, 'season_id': None, 'start_date': '2020-01-02', 'end_date': '2020-01-09', 'games_missed': 1, 'completed': True}, {'id': 626, 'player_id': 156, 'type_id': 535, 'category': 'injury', 'team_id': 1, 'season_id': None, 'start_date': '2020-07-01', 'end_date': '2020-07-04', 'games_missed': 1, 'completed': True}, {'id': 627, 'player_id': 156, 'type_id': 537, 'category': 'injury', 'team_id': 1, 'season_id': None, 'start_date': '2020-09-13', 'end_date': '2020-09-26', 'games_missed': 3, 'completed': True}, {'id': 692, 'player_id': 383, 'type_id': 535, 'category': 'injury', 'team_id': 1, 'season_id': None, 'start_date': '2015-01-31', 'end_date': '2015-02-22', 'games_missed': 4, 'completed': True}, {'id': 695, 'player_id': 383, 'type_id': 535, 'category': 'injury', 'team_id': 1, 'season_id': None, 'start_date': '2015-03-04', 'end_date': '2015-04-04', 'games_missed': 3, 'completed': True}, {'id': 697, 'player_id': 383, 'type_id': 535, 'category': 'injury', 'team_id': 1, 'season_id': None, 'start_date': '2015-12-09', 'end_date': '2016-01-05', 'games_missed': 5, 'completed': True}, {'id': 699, 'player_id': 383, 'type_id': 535, 'category': 'injury', 'team_id': 1, 'season_id': None, 'start_date': '2016-02-09', 'end_date': '2016-03-13', 'games_missed': 6, 'completed': True}, {'id': 701, 'player_id': 383, 'type_id': 536, 'category': 'injury', 'team_id': 1, 'season_id': None, 'start_date': '2018-03-03', 'end_date': '2019-06-30', 'games_missed': 60, 'completed': True}, {'id': 702, 'player_id': 383, 'type_id': 536, 'category': 'injury', 'team_id': 1, 'season_id': None, 'start_date': '2019-03-04', 'end_date': '2019-08-09', 'games_missed': 14, 'completed': True}, {'id': 703, 'player_id': 383, 'type_id': 536, 'category': 'injury', 'team_id': 1, 'season_id': None, 'start_date': '2019-08-17', 'end_date': '2019-10-29', 'games_missed': 11, 'completed': True}, {'id': 704, 'player_id': 383, 'type_id': 531, 'category': 'injury', 'team_id': 1, 'season_id': None, 'start_date': '2019-12-24', 'end_date': '2019-12-27', 'games_missed': 0, 'completed': True}, {'id': 1620, 'player_id': 496, 'type_id': 554, 'category': 'injury', 'team_id': 1, 'season_id': None, 'start_date': '2016-02-27', 'end_date': '2016-03-10', 'games_missed': 3, 'completed': True}, {'id': 1655, 'player_id': 733, 'type_id': 551, 'category': 'injury', 'team_id': 1, 'season_id': None, 'start_date': '2019-09-28', 'end_date': '2020-01-01', 'games_missed': 13, 'completed': True}, {'id': 1656, 'player_id': 733, 'type_id': 551, 'category': 'injury', 'team_id': 1, 'season_id': None, 'start_date': '2020-01-11', 'end_date': '2020-01-27', 'games_missed': 3, 'completed': True}, {'id': 2168, 'player_id': 1261, 'type_id': 536, 'category': 'injury', 'team_id': 1, 'season_id': None, 'start_date': '2016-07-23', 'end_date': '2016-10-15', 'games_missed': 14, 'completed': True}, {'id': 2171, 'player_id': 1261, 'type_id': 339, 'category': 'injury', 'team_id': 1, 'season_id': None, 'start_date': '2016-11-30', 'end_date': '2016-12-11', 'games_missed': 2, 'completed': True}, {'id': 2174, 'player_id': 1261, 'type_id': 532, 'category': 'injury', 'team_id': 1, 'season_id': None, 'start_date': '2018-10-28', 'end_date': '2018-11-02', 'games_missed': 1, 'completed': True}, {'id': 2175, 'player_id': 1261, 'type_id': 535, 'category': 'injury', 'team_id': 1, 'season_id': None, 'start_date': '2018-12-02', 'end_date': '2018-12-07', 'games_missed': 1, 'completed': True}, {'id': 2177, 'player_id': 1261, 'type_id': 535, 'category': 'injury', 'team_id': 1, 'season_id': None, 'start_date': '2019-01-20', 'end_date': '2019-02-03', 'games_missed': 2, 'completed': True}, {'id': 2181, 'player_id': 1261, 'type_id': 536, 'category': 'injury', 'team_id': 1, 'season_id': None, 'start_date': '2019-04-10', 'end_date': '2019-05-31', 'games_missed': 5, 'completed': True}, {'id': 2183, 'player_id': 1261, 'type_id': 531, 'category': 'injury', 'team_id': 1, 'season_id': None, 'start_date': '2020-01-02', 'end_date': '2020-01-09', 'games_missed': 1, 'completed': True}, {'id': 2184, 'player_id': 1261, 'type_id': 531, 'category': 'injury', 'team_id': 1, 'season_id': None, 'start_date': '2020-07-23', 'end_date': '2020-07-31', 'games_missed': 1, 'completed': True}, {'id': 2185, 'player_id': 1261, 'type_id': 537, 'category': 'injury', 'team_id': 1, 'season_id': None, 'start_date': '2020-12-18', 'end_date': '2020-12-21', 'games_missed': 0, 'completed': True}, {'id': 2200, 'player_id': 1166, 'type_id': 537, 'category': 'injury', 'team_id': 1, 'season_id': None, 'start_date': '2017-10-28', 'end_date': '2018-01-20', 'games_missed': 17, 'completed': True}, {'id': 2367, 'player_id': 1043, 'type_id': 540, 'category': 'injury', 'team_id': 1, 'season_id': None, 'start_date': '2018-09-26', 'end_date': '2019-04-29', 'games_missed': 34, 'completed': True}, {'id': 2369, 'player_id': 1139, 'type_id': 536, 'category': 'injury', 'team_id': 1, 'season_id': None, 'start_date': '2018-08-26', 'end_date': '2018-08-31', 'games_missed': 1, 'completed': True}, {'id': 2373, 'player_id': 1139, 'type_id': 536, 'category': 'injury', 'team_id': 1, 'season_id': None, 'start_date': '2018-09-17', 'end_date': '2018-09-28', 'games_missed': 2, 'completed': True}, {'id': 2380, 'player_id': 1139, 'type_id': 535, 'category': 'injury', 'team_id': 1, 'season_id': None, 'start_date': '2018-12-04', 'end_date': '2019-01-02', 'games_missed': 6, 'completed': True}, {'id': 2385, 'player_id': 1139, 'type_id': 549, 'category': 'injury', 'team_id': 1, 'season_id': None, 'start_date': '2019-01-30', 'end_date': '2019-02-09', 'games_missed': 1, 'completed': True}, {'id': 2387, 'player_id': 1139, 'type_id': 336, 'category': 'injury', 'team_id': 1, 'season_id': None, 'start_date': '2019-02-24', 'end_date': '2019-03-01', 'games_missed': 1, 'completed': True}, {'id': 2394, 'player_id': 1139, 'type_id': 336, 'category': 'injury', 'team_id': 1, 'season_id': None, 'start_date': '2019-04-10', 'end_date': '2019-04-19', 'games_missed': 1, 'completed': True}, {'id': 2688, 'player_id': 1243, 'type_id': 339, 'category': 'injury', 'team_id': 1, 'season_id': None, 'start_date': '2016-11-30', 'end_date': '2016-12-14', 'games_missed': 3, 'completed': True}, {'id': 2692, 'player_id': 1243, 'type_id': 536, 'category': 'injury', 'team_id': 1, 'season_id': None, 'start_date': '2017-07-15', 'end_date': '2017-08-23', 'games_missed': 8, 'completed': True}, {'id': 2696, 'player_id': 1243, 'type_id': 535, 'category': 'injury', 'team_id': 1, 'season_id': None, 'start_date': '2017-12-03', 'end_date': '2017-12-23', 'games_missed': 5, 'completed': True}, {'id': 2749, 'player_id': 1244, 'type_id': 536, 'category': 'injury', 'team_id': 1, 'season_id': None, 'start_date': '2014-11-21', 'end_date': '2014-12-05', 'games_missed': 3, 'completed': True}, {'id': 2755, 'player_id': 1244, 'type_id': 532, 'category': 'injury', 'team_id': 1, 'season_id': None, 'start_date': '2015-07-31', 'end_date': '2015-10-16', 'games_missed': 10, 'completed': True}, {'id': 2762, 'player_id': 1244, 'type_id': 537, 'category': 'injury', 'team_id': 1, 'season_id': None, 'start_date': '2015-11-09', 'end_date': '2015-12-10', 'games_missed': 3, 'completed': True}, {'id': 2765, 'player_id': 1244, 'type_id': 537, 'category': 'injury', 'team_id': 1, 'season_id': None, 'start_date': '2016-02-14', 'end_date': '2016-03-10', 'games_missed': 4, 'completed': True}, {'id': 2793, 'player_id': 1309, 'type_id': 535, 'category': 'injury', 'team_id': 1, 'season_id': None, 'start_date': '2016-08-16', 'end_date': '2016-10-25', 'games_missed': 11, 'completed': True}, {'id': 2796, 'player_id': 1309, 'type_id': 336, 'category': 'injury', 'team_id': 1, 'season_id': None, 'start_date': '2017-11-16', 'end_date': '2017-11-24', 'games_missed': 1, 'completed': True}, {'id': 2799, 'player_id': 1309, 'type_id': 535, 'category': 'injury', 'team_id': 1, 'season_id': None, 'start_date': '2018-01-16', 'end_date': '2018-02-10', 'games_missed': 5, 'completed': True}, {'id': 2845, 'player_id': 1251, 'type_id': 532, 'category': 'injury', 'team_id': 1, 'season_id': None, 'start_date': '2016-05-06', 'end_date': '2016-05-16', 'games_missed': 2, 'completed': True}, {'id': 2995, 'player_id': 1316, 'type_id': 535, 'category': 'injury', 'team_id': 1, 'season_id': None, 'start_date': '2021-12-04', 'end_date': '2022-01-16', 'games_missed': 10, 'completed': True}, {'id': 3080, 'player_id': 1286, 'type_id': 535, 'category': 'injury', 'team_id': 1, 'season_id': None, 'start_date': '2015-08-19', 'end_date': '2015-09-19', 'games_missed': 3, 'completed': True}, {'id': 3133, 'player_id': 870, 'type_id': 536, 'category': 'injury', 'team_id': 1, 'season_id': None, 'start_date': '2020-01-24', 'end_date': '2020-01-28', 'games_missed': 1, 'completed': True}, {'id': 88014, 'player_id': 736, 'type_id': 1969, 'category': 'injury', 'team_id': 1, 'season_id': None, 'start_date': '2019-04-16', 'end_date': '2019-04-26', 'games_missed': 1, 'completed': True}, {'id': 3669, 'player_id': 96799, 'type_id': 537, 'category': 'injury', 'team_id': 1, 'season_id': None, 'start_date': '2022-04-18', 'end_date': '2022-05-02', 'games_missed': 0, 'completed': True}, {'id': 5839, 'player_id': 4801, 'type_id': 531, 'category': 'injury', 'team_id': 1, 'season_id': None, 'start_date': '2018-08-09', 'end_date': '2018-08-17', 'games_missed': 1, 'completed': True}, {'id': 5841, 'player_id': 4801, 'type_id': 549, 'category': 'injury', 'team_id': 1, 'season_id': None, 'start_date': '2018-12-09', 'end_date': '2018-12-26', 'games_missed': 2, 'completed': True}, {'id': 5845, 'player_id': 4801, 'type_id': 537, 'category': 'injury', 'team_id': 1, 'season_id': None, 'start_date': '2019-01-28', 'end_date': '2019-02-03', 'games_missed': 1, 'completed': True}, {'id': 7000, 'player_id': 96426, 'type_id': 531, 'category': 'injury', 'team_id': 1, 'season_id': None, 'start_date': '2020-10-16', 'end_date': '2020-10-30', 'games_missed': 2, 'completed': True}, {'id': 7266, 'player_id': 1931, 'type_id': 537, 'category': 'injury', 'team_id': 1, 'season_id': None, 'start_date': '2017-01-13', 'end_date': '2017-02-06', 'games_missed': 4, 'completed': True}, {'id': 8187, 'player_id': 1420, 'type_id': 537, 'category': 'injury', 'team_id': 1, 'season_id': None, 'start_date': '2016-10-31', 'end_date': '2017-01-05', 'games_missed': 11, 'completed': True}, {'id': 8190, 'player_id': 1452, 'type_id': 535, 'category': 'injury', 'team_id': 1, 'season_id': None, 'start_date': '2015-12-03', 'end_date': '2015-12-24', 'games_missed': 3, 'completed': True}, {'id': 8196, 'player_id': 1452, 'type_id': 533, 'category': 'injury', 'team_id': 1, 'season_id': None, 'start_date': '2016-01-04', 'end_date': '2016-02-15', 'games_missed': 9, 'completed': True}, {'id': 8201, 'player_id': 1452, 'type_id': 536, 'category': 'injury', 'team_id': 1, 'season_id': None, 'start_date': '2016-07-25', 'end_date': '2016-09-08', 'games_missed': 8, 'completed': True}, {'id': 8203, 'player_id': 1452, 'type_id': 536, 'category': 'injury', 'team_id': 1, 'season_id': None, 'start_date': '2017-07-27', 'end_date': '2017-08-24', 'games_missed': 6, 'completed': True}, {'id': 8207, 'player_id': 1452, 'type_id': 536, 'category': 'injury', 'team_id': 1, 'season_id': None, 'start_date': '2017-08-28', 'end_date': '2017-09-28', 'games_missed': 4, 'completed': True}, {'id': 8208, 'player_id': 1452, 'type_id': 535, 'category': 'injury', 'team_id': 1, 'season_id': None, 'start_date': '2018-01-22', 'end_date': '2018-02-22', 'games_missed': 4, 'completed': True}, {'id': 8213, 'player_id': 1452, 'type_id': 537, 'category': 'injury', 'team_id': 1, 'season_id': None, 'start_date': '2019-09-17', 'end_date': '2019-09-27', 'games_missed': 2, 'completed': True}, {'id': 8217, 'player_id': 1452, 'type_id': 545, 'category': 'injury', 'team_id': 1, 'season_id': None, 'start_date': '2019-11-10', 'end_date': '2019-12-25', 'games_missed': 5, 'completed': True}, {'id': 9361, 'player_id': 1517, 'type_id': 537, 'category': 'injury', 'team_id': 1, 'season_id': None, 'start_date': '2017-03-18', 'end_date': '2017-08-10', 'games_missed': 16, 'completed': True}, {'id': 9364, 'player_id': 1517, 'type_id': 536, 'category': 'injury', 'team_id': 1, 'season_id': None, 'start_date': '2018-01-27', 'end_date': '2018-05-04', 'games_missed': 12, 'completed': True}, {'id': 10305, 'player_id': 129454, 'type_id': 537, 'category': 'injury', 'team_id': 1, 'season_id': None, 'start_date': '2019-03-28', 'end_date': '2019-04-07', 'games_missed': 1, 'completed': True}, {'id': 10309, 'player_id': 129454, 'type_id': 336, 'category': 'injury', 'team_id': 1, 'season_id': None, 'start_date': '2019-04-28', 'end_date': '2019-05-11', 'games_missed': 1, 'completed': True}, {'id': 10314, 'player_id': 129454, 'type_id': 531, 'category': 'injury', 'team_id': 1, 'season_id': None, 'start_date': '2020-07-02', 'end_date': '2020-07-16', 'games_missed': 3, 'completed': True}, {'id': 12164, 'player_id': 4815, 'type_id': 536, 'category': 'injury', 'team_id': 1, 'season_id': None, 'start_date': '2016-12-08', 'end_date': '2017-01-02', 'games_missed': 5, 'completed': True}, {'id': 16276, 'player_id': 4371, 'type_id': 537, 'category': 'injury', 'team_id': 1, 'season_id': None, 'start_date': '2018-11-10', 'end_date': '2019-01-26', 'games_missed': 13, 'completed': True}, {'id': 16280, 'player_id': 4371, 'type_id': 531, 'category': 'injury', 'team_id': 1, 'season_id': None, 'start_date': '2019-03-29', 'end_date': '2019-04-07', 'games_missed': 1, 'completed': True}, {'id': 16283, 'player_id': 4371, 'type_id': 531, 'category': 'injury', 'team_id': 1, 'season_id': None, 'start_date': '2019-09-23', 'end_date': '2019-09-27', 'games_missed': 1, 'completed': True}, {'id': 16289, 'player_id': 4371, 'type_id': 545, 'category': 'injury', 'team_id': 1, 'season_id': None, 'start_date': '2020-02-19', 'end_date': '2020-06-08', 'games_missed': 4, 'completed': True}, {'id': 16294, 'player_id': 4371, 'type_id': 532, 'category': 'injury', 'team_id': 1, 'season_id': None, 'start_date': '2020-07-16', 'end_date': '2020-07-25', 'games_missed': 2, 'completed': True}, {'id': 16322, 'player_id': 4947, 'type_id': 531, 'category': 'injury', 'team_id': 1, 'season_id': None, 'start_date': '2018-06-05', 'end_date': '2018-08-26', 'games_missed': 9, 'completed': True}, {'id': 16770, 'player_id': 1922, 'type_id': 339, 'category': 'injury', 'team_id': 1, 'season_id': None, 'start_date': '2016-11-30', 'end_date': '2016-12-11', 'games_missed': 2, 'completed': True}, {'id': 16773, 'player_id': 1922, 'type_id': 535, 'category': 'injury', 'team_id': 1, 'season_id': None, 'start_date': '2017-03-18', 'end_date': '2017-04-04', 'games_missed': 2, 'completed': True}, {'id': 16777, 'player_id': 1922, 'type_id': 535, 'category': 'injury', 'team_id': 1, 'season_id': None, 'start_date': '2017-04-08', 'end_date': '2017-08-10', 'games_missed': 13, 'completed': True}, {'id': 16784, 'player_id': 1922, 'type_id': 535, 'category': 'injury', 'team_id': 1, 'season_id': None, 'start_date': '2018-03-31', 'end_date': '2018-08-10', 'games_missed': 15, 'completed': True}, {'id': 16790, 'player_id': 1922, 'type_id': 537, 'category': 'injury', 'team_id': 1, 'season_id': None, 'start_date': '2018-08-26', 'end_date': '2018-08-31', 'games_missed': 1, 'completed': True}, {'id': 16796, 'player_id': 1922, 'type_id': 535, 'category': 'injury', 'team_id': 1, 'season_id': None, 'start_date': '2019-08-29', 'end_date': '2019-11-22', 'games_missed': 10, 'completed': True}, {'id': 16806, 'player_id': 1922, 'type_id': 535, 'category': 'injury', 'team_id': 1, 'season_id': None, 'start_date': '2020-10-25', 'end_date': '2020-11-29', 'games_missed': 3, 'completed': True}, {'id': 16810, 'player_id': 1922, 'type_id': 531, 'category': 'injury', 'team_id': 1, 'season_id': None, 'start_date': '2021-02-07', 'end_date': '2021-02-16', 'games_missed': 1, 'completed': True}, {'id': 16817, 'player_id': 1922, 'type_id': 554, 'category': 'injury', 'team_id': 1, 'season_id': None, 'start_date': '2021-04-06', 'end_date': '2021-04-29', 'games_missed': 3, 'completed': True}, {'id': 18356, 'player_id': 4852, 'type_id': 535, 'category': 'injury', 'team_id': 1, 'season_id': None, 'start_date': '2016-08-07', 'end_date': '2016-09-10', 'games_missed': 6, 'completed': True}, {'id': 18358, 'player_id': 4852, 'type_id': 544, 'category': 'injury', 'team_id': 1, 'season_id': None, 'start_date': '2017-06-11', 'end_date': '2017-08-26', 'games_missed': 9, 'completed': True}, {'id': 18945, 'player_id': 1941, 'type_id': 536, 'category': 'injury', 'team_id': 1, 'season_id': None, 'start_date': '2016-09-21', 'end_date': '2016-11-29', 'games_missed': 10, 'completed': True}, {'id': 18949, 'player_id': 1941, 'type_id': 536, 'category': 'injury', 'team_id': 1, 'season_id': None, 'start_date': '2016-12-07', 'end_date': '2017-02-24', 'games_missed': 12, 'completed': True}, {'id': 18952, 'player_id': 1941, 'type_id': 549, 'category': 'injury', 'team_id': 1, 'season_id': None, 'start_date': '2017-04-29', 'end_date': '2017-05-11', 'games_missed': 2, 'completed': True}, {'id': 18955, 'player_id': 1941, 'type_id': 531, 'category': 'injury', 'team_id': 1, 'season_id': None, 'start_date': '2018-08-31', 'end_date': '2018-09-15', 'games_missed': 1, 'completed': True}, {'id': 18965, 'player_id': 1941, 'type_id': 536, 'category': 'injury', 'team_id': 1, 'season_id': None, 'start_date': '2019-02-10', 'end_date': '2019-03-01', 'games_missed': 2, 'completed': True}, {'id': 18977, 'player_id': 1941, 'type_id': 536, 'category': 'injury', 'team_id': 1, 'season_id': None, 'start_date': '2020-01-24', 'end_date': '2020-01-28', 'games_missed': 1, 'completed': True}, {'id': 18983, 'player_id': 1941, 'type_id': 537, 'category': 'injury', 'team_id': 1, 'season_id': None, 'start_date': '2020-06-19', 'end_date': '2020-07-04', 'games_missed': 3, 'completed': True}, {'id': 18988, 'player_id': 1941, 'type_id': 540, 'category': 'injury', 'team_id': 1, 'season_id': None, 'start_date': '2020-12-10', 'end_date': '2021-03-17', 'games_missed': 20, 'completed': True}, {'id': 19485, 'player_id': 4597, 'type_id': 553, 'category': 'injury', 'team_id': 1, 'season_id': None, 'start_date': '2015-10-03', 'end_date': '2015-12-31', 'games_missed': 12, 'completed': True}, {'id': 19487, 'player_id': 4597, 'type_id': 536, 'category': 'injury', 'team_id': 1, 'season_id': None, 'start_date': '2016-07-13', 'end_date': '2016-09-22', 'games_missed': 14, 'completed': True}, {'id': 22683, 'player_id': 3544, 'type_id': 551, 'category': 'injury', 'team_id': 1, 'season_id': None, 'start_date': '2019-12-15', 'end_date': '2020-01-08', 'games_missed': 4, 'completed': True}, {'id': 23379, 'player_id': 204697, 'type_id': 538, 'category': 'injury', 'team_id': 1, 'season_id': None, 'start_date': '2020-11-13', 'end_date': '2020-12-04', 'games_missed': 2, 'completed': True}, {'id': 23380, 'player_id': 204697, 'type_id': 547, 'category': 'injury', 'team_id': 1, 'season_id': None, 'start_date': '2021-03-23', 'end_date': '2021-04-12', 'games_missed': 1, 'completed': True}, {'id': 23382, 'player_id': 204697, 'type_id': 587, 'category': 'injury', 'team_id': 1, 'season_id': None, 'start_date': '2021-11-03', 'end_date': '2021-11-08', 'games_missed': 1, 'completed': True}, {'id': 23902, 'player_id': 5273, 'type_id': 336, 'category': 'injury', 'team_id': 1, 'season_id': None, 'start_date': '2019-04-28', 'end_date': '2019-05-11', 'games_missed': 1, 'completed': True}, {'id': 25704, 'player_id': 25499, 'type_id': 536, 'category': 'injury', 'team_id': 1, 'season_id': None, 'start_date': '2019-08-11', 'end_date': '2019-08-23', 'games_missed': 1, 'completed': True}, {'id': 25709, 'player_id': 25499, 'type_id': 531, 'category': 'injury', 'team_id': 1, 'season_id': None, 'start_date': '2020-10-06', 'end_date': '2020-10-22', 'games_missed': 1, 'completed': True}, {'id': 339403, 'player_id': 80655, 'type_id': 1682, 'category': 'doubtful', 'team_id': 1, 'season_id': None, 'start_date': '2020-03-07', 'end_date': '2023-07-04', 'games_missed': None, 'completed': True}, {'id': 31649, 'player_id': 96799, 'type_id': 538, 'category': 'injury', 'team_id': 1, 'season_id': None, 'start_date': '2020-09-22', 'end_date': '2020-10-17', 'games_missed': 4, 'completed': True}, {'id': 31760, 'player_id': 1316, 'type_id': 535, 'category': 'injury', 'team_id': 1, 'season_id': None, 'start_date': '2021-12-06', 'end_date': '2022-01-17', 'games_missed': 9, 'completed': True}, {'id': 32756, 'player_id': 1413, 'type_id': 531, 'category': 'injury', 'team_id': 1, 'season_id': None, 'start_date': '2016-08-16', 'end_date': '2016-08-30', 'games_missed': 4, 'completed': True}, {'id': 33467, 'player_id': 4229, 'type_id': 550, 'category': 'injury', 'team_id': 1, 'season_id': None, 'start_date': '2013-01-23', 'end_date': '2013-02-07', 'games_missed': 3, 'completed': True}, {'id': 34954, 'player_id': 219591, 'type_id': 540, 'category': 'injury', 'team_id': 1, 'season_id': None, 'start_date': '2018-12-22', 'end_date': '2019-03-02', 'games_missed': 13, 'completed': True}, {'id': 34958, 'player_id': 219591, 'type_id': 339, 'category': 'injury', 'team_id': 1, 'season_id': None, 'start_date': '2020-12-18', 'end_date': '2020-12-21', 'games_missed': 0, 'completed': True}, {'id': 34960, 'player_id': 219591, 'type_id': 532, 'category': 'injury', 'team_id': 1, 'season_id': None, 'start_date': '2021-02-10', 'end_date': '2021-02-16', 'games_missed': 0, 'completed': True}, {'id': 35717, 'player_id': 1416, 'type_id': 540, 'category': 'injury', 'team_id': 1, 'season_id': None, 'start_date': '2017-01-22', 'end_date': '2017-08-10', 'games_missed': 22, 'completed': True}, {'id': 35720, 'player_id': 1416, 'type_id': 536, 'category': 'injury', 'team_id': 1, 'season_id': None, 'start_date': '2020-06-11', 'end_date': '2020-06-22', 'games_missed': 1, 'completed': True}, {'id': 35724, 'player_id': 1416, 'type_id': 537, 'category': 'injury', 'team_id': 1, 'season_id': None, 'start_date': '2021-02-11', 'end_date': '2021-04-12', 'games_missed': 7, 'completed': True}, {'id': 35853, 'player_id': 1928, 'type_id': 554, 'category': 'injury', 'team_id': 1, 'season_id': None, 'start_date': '2016-03-18', 'end_date': '2016-04-17', 'games_missed': 4, 'completed': True}, {'id': 35861, 'player_id': 1928, 'type_id': 535, 'category': 'injury', 'team_id': 1, 'season_id': None, 'start_date': '2016-10-01', 'end_date': '2017-01-08', 'games_missed': 17, 'completed': True}, {'id': 35865, 'player_id': 1928, 'type_id': 537, 'category': 'injury', 'team_id': 1, 'season_id': None, 'start_date': '2018-03-03', 'end_date': '2018-08-13', 'games_missed': 17, 'completed': True}, {'id': 36816, 'player_id': 1449, 'type_id': 536, 'category': 'injury', 'team_id': 1, 'season_id': None, 'start_date': '2015-11-20', 'end_date': '2015-12-05', 'games_missed': 2, 'completed': True}, {'id': 36818, 'player_id': 1449, 'type_id': 531, 'category': 'injury', 'team_id': 1, 'season_id': None, 'start_date': '2021-01-20', 'end_date': '2021-04-18', 'games_missed': 14, 'completed': True}, {'id': 39538, 'player_id': 96799, 'type_id': 538, 'category': 'injury', 'team_id': 1, 'season_id': None, 'start_date': '2020-09-21', 'end_date': '2020-10-15', 'games_missed': 4, 'completed': True}, {'id': 44788, 'player_id': 516291, 'type_id': 537, 'category': 'injury', 'team_id': 1, 'season_id': None, 'start_date': '2022-07-18', 'end_date': '2022-10-24', 'games_missed': 20, 'completed': True}, {'id': 46321, 'player_id': 736, 'type_id': 687, 'category': 'injury', 'team_id': 1, 'season_id': None, 'start_date': '2018-05-04', 'end_date': '2018-05-13', 'games_missed': 2, 'completed': True}, {'id': 47019, 'player_id': 1422, 'type_id': 535, 'category': 'injury', 'team_id': 1, 'season_id': None, 'start_date': '2015-12-03', 'end_date': '2016-03-01', 'games_missed': 17, 'completed': True}, {'id': 46986, 'player_id': 493, 'type_id': 535, 'category': 'injury', 'team_id': 1, 'season_id': None, 'start_date': '2012-12-09', 'end_date': '2013-01-16', 'games_missed': 7, 'completed': True}, {'id': 47020, 'player_id': 1422, 'type_id': 535, 'category': 'injury', 'team_id': 1, 'season_id': None, 'start_date': '2016-11-27', 'end_date': '2016-12-20', 'games_missed': 6, 'completed': True}, {'id': 47018, 'player_id': 1422, 'type_id': 1938, 'category': 'injury', 'team_id': 1, 'season_id': None, 'start_date': '2015-04-11', 'end_date': '2015-06-30', 'games_missed': 7, 'completed': True}, {'id': 74789, 'player_id': 219591, 'type_id': 1933, 'category': 'injury', 'team_id': 1, 'season_id': None, 'start_date': '2021-01-02', 'end_date': '2021-01-18', 'games_missed': 2, 'completed': True}, {'id': 47765, 'player_id': 4947, 'type_id': 531, 'category': 'injury', 'team_id': 1, 'season_id': None, 'start_date': '2018-06-04', 'end_date': '2018-08-27', 'games_missed': 10, 'completed': True}, {'id': 482616, 'player_id': 31, 'type_id': 1608, 'category': 'suspended', 'team_id': 1, 'season_id': None, 'start_date': '2003-11-09', 'end_date': '2003-11-23', 'games_missed': 0, 'completed': True}, {'id': 73234, 'player_id': 1922, 'type_id': 2002, 'category': 'injury', 'team_id': 1, 'season_id': None, 'start_date': '2017-10-20', 'end_date': '2017-11-28', 'games_missed': 6, 'completed': True}, {'id': 57365, 'player_id': 1517, 'type_id': 598, 'category': 'injury', 'team_id': 1, 'season_id': None, 'start_date': '2017-09-17', 'end_date': '2017-10-14', 'games_missed': 3, 'completed': True}, {'id': 57559, 'player_id': 129454, 'type_id': 595, 'category': 'injury', 'team_id': 1, 'season_id': None, 'start_date': '2020-01-12', 'end_date': '2020-02-24', 'games_missed': 6, 'completed': True}, {'id': 57582, 'player_id': 1422, 'type_id': 595, 'category': 'injury', 'team_id': 1, 'season_id': None, 'start_date': '2015-01-01', 'end_date': '2015-01-23', 'games_missed': 5, 'completed': True}, {'id': 57586, 'player_id': 1422, 'type_id': 595, 'category': 'injury', 'team_id': 1, 'season_id': None, 'start_date': '2016-12-21', 'end_date': '2017-03-18', 'games_missed': 12, 'completed': True}, {'id': 57588, 'player_id': 1422, 'type_id': 595, 'category': 'injury', 'team_id': 1, 'season_id': None, 'start_date': '2017-10-16', 'end_date': '2017-11-03', 'games_missed': 3, 'completed': True}, {'id': 74481, 'player_id': 4371, 'type_id': 1933, 'category': 'injury', 'team_id': 1, 'season_id': None, 'start_date': '2020-12-30', 'end_date': '2021-01-15', 'games_missed': 2, 'completed': True}, {'id': 79587, 'player_id': 4947, 'type_id': 1959, 'category': 'injury', 'team_id': 1, 'season_id': None, 'start_date': '2017-09-04', 'end_date': '2017-10-16', 'games_missed': 6, 'completed': True}, {'id': 49674, 'player_id': 383, 'type_id': 1938, 'category': 'injury', 'team_id': 1, 'season_id': None, 'start_date': '2017-03-18', 'end_date': '2017-04-20', 'games_missed': 5, 'completed': True}, {'id': 57587, 'player_id': 1422, 'type_id': 595, 'category': 'injury', 'team_id': 1, 'season_id': None, 'start_date': '2017-04-28', 'end_date': '2017-08-10', 'games_missed': 10, 'completed': True}, {'id': 57585, 'player_id': 1422, 'type_id': 595, 'category': 'injury', 'team_id': 1, 'season_id': None, 'start_date': '2016-07-05', 'end_date': '2016-11-05', 'games_missed': 22, 'completed': True}, {'id': 57976, 'player_id': 80655, 'type_id': 598, 'category': 'injury', 'team_id': 1, 'season_id': None, 'start_date': '2020-02-25', 'end_date': '2020-03-05', 'games_missed': 1, 'completed': True}, {'id': 58779, 'player_id': 4947, 'type_id': 537, 'category': 'injury', 'team_id': 1, 'season_id': None, 'start_date': '2017-12-07', 'end_date': '2018-03-19', 'games_missed': 19, 'completed': True}, {'id': 60143, 'player_id': 204697, 'type_id': 604, 'category': 'injury', 'team_id': 1, 'season_id': None, 'start_date': '2018-10-21', 'end_date': '2019-05-31', 'games_missed': 32, 'completed': True}, {'id': 60145, 'player_id': 204697, 'type_id': 595, 'category': 'injury', 'team_id': 1, 'season_id': None, 'start_date': '2019-12-06', 'end_date': '2019-12-13', 'games_missed': 1, 'completed': True}, {'id': 60785, 'player_id': 156, 'type_id': 608, 'category': 'injury', 'team_id': 1, 'season_id': None, 'start_date': '2017-05-12', 'end_date': '2017-06-30', 'games_missed': 2, 'completed': True}, {'id': 60786, 'player_id': 156, 'type_id': 595, 'category': 'injury', 'team_id': 1, 'season_id': None, 'start_date': '2018-08-20', 'end_date': '2018-08-31', 'games_missed': 2, 'completed': True}, {'id': 61765, 'player_id': 383, 'type_id': 1936, 'category': 'injury', 'team_id': 1, 'season_id': None, 'start_date': '2015-04-24', 'end_date': '2015-05-15', 'games_missed': 3, 'completed': True}, {'id': 61768, 'player_id': 383, 'type_id': 605, 'category': 'injury', 'team_id': 1, 'season_id': None, 'start_date': '2015-10-03', 'end_date': '2015-11-07', 'games_missed': 4, 'completed': True}, {'id': 62808, 'player_id': 808, 'type_id': 1913, 'category': 'injury', 'team_id': 1, 'season_id': None, 'start_date': '2016-01-23', 'end_date': '2016-10-13', 'games_missed': 39, 'completed': True}, {'id': 65077, 'player_id': 1261, 'type_id': 339, 'category': 'injury', 'team_id': 1, 'season_id': None, 'start_date': '2019-10-06', 'end_date': '2019-10-24', 'games_missed': 1, 'completed': True}, {'id': 412706, 'player_id': 254052, 'type_id': 587, 'category': 'injury', 'team_id': 1, 'season_id': None, 'start_date': '2023-08-20', 'end_date': '2023-08-20', 'games_missed': None, 'completed': True}, {'id': 56470, 'player_id': 1473, 'type_id': 1913, 'category': 'injury', 'team_id': 1, 'season_id': None, 'start_date': '2011-10-23', 'end_date': '2011-12-05', 'games_missed': 8, 'completed': True}, {'id': 56420, 'player_id': 736, 'type_id': 595, 'category': 'injury', 'team_id': 1, 'season_id': None, 'start_date': '2018-12-22', 'end_date': '2019-01-19', 'games_missed': 6, 'completed': True}, {'id': 56848, 'player_id': 746, 'type_id': 537, 'category': 'injury', 'team_id': 1, 'season_id': None, 'start_date': '2018-01-06', 'end_date': '2018-04-15', 'games_missed': 13, 'completed': True}, {'id': 62390, 'player_id': 870, 'type_id': 595, 'category': 'injury', 'team_id': 1, 'season_id': None, 'start_date': '2020-06-19', 'end_date': '2020-07-31', 'games_missed': 9, 'completed': True}, {'id': 695745, 'player_id': 9939203, 'type_id': 1682, 'category': 'doubtful', 'team_id': 1, 'season_id': None, 'start_date': '2025-01-26', 'end_date': '2025-01-26', 'games_missed': 1, 'completed': True}, {'id': 47389, 'player_id': 336, 'type_id': 687, 'category': 'injury', 'team_id': 1, 'season_id': None, 'start_date': '2008-08-18', 'end_date': '2008-09-01', 'games_missed': 3, 'completed': True}, {'id': 64472, 'player_id': 746, 'type_id': 339, 'category': 'injury', 'team_id': 1, 'season_id': None, 'start_date': '2017-02-04', 'end_date': '2017-03-06', 'games_missed': 3, 'completed': True}, {'id': 65075, 'player_id': 1261, 'type_id': 1966, 'category': 'injury', 'team_id': 1, 'season_id': None, 'start_date': '2019-02-24', 'end_date': '2019-03-01', 'games_missed': 1, 'completed': True}, {'id': 65379, 'player_id': 717, 'type_id': 339, 'category': 'injury', 'team_id': 1, 'season_id': None, 'start_date': '2019-10-23', 'end_date': '2020-05-31', 'games_missed': 22, 'completed': True}, {'id': 64823, 'player_id': 1452, 'type_id': 2048, 'category': 'injury', 'team_id': 1, 'season_id': None, 'start_date': '2020-12-18', 'end_date': '2020-12-26', 'games_missed': 1, 'completed': True}, {'id': 341464, 'player_id': 1922, 'type_id': 1682, 'category': 'doubtful', 'team_id': 1, 'season_id': None, 'start_date': '2020-12-29', 'end_date': '2020-12-29', 'games_missed': 1, 'completed': True}, {'id': 64474, 'player_id': 746, 'type_id': 339, 'category': 'injury', 'team_id': 1, 'season_id': None, 'start_date': '2017-04-15', 'end_date': '2017-09-11', 'games_missed': 16, 'completed': True}, {'id': 339826, 'player_id': 1416, 'type_id': 1682, 'category': 'doubtful', 'team_id': 1, 'season_id': None, 'start_date': '2020-06-23', 'end_date': '2023-07-04', 'games_missed': None, 'completed': True}, {'id': 65079, 'player_id': 1261, 'type_id': 339, 'category': 'injury', 'team_id': 1, 'season_id': None, 'start_date': '2020-11-01', 'end_date': '2020-11-07', 'games_missed': 0, 'completed': True}, {'id': 67198, 'player_id': 1922, 'type_id': 339, 'category': 'injury', 'team_id': 1, 'season_id': None, 'start_date': '2020-01-26', 'end_date': '2020-01-31', 'games_missed': 1, 'completed': True}, {'id': 65107, 'player_id': 1517, 'type_id': 532, 'category': 'injury', 'team_id': 1, 'season_id': None, 'start_date': '2018-10-07', 'end_date': '2018-11-02', 'games_missed': 3, 'completed': True}, {'id': 67197, 'player_id': 1922, 'type_id': 2048, 'category': 'injury', 'team_id': 1, 'season_id': None, 'start_date': '2019-12-30', 'end_date': '2020-01-21', 'games_missed': 4, 'completed': True}, {'id': 67199, 'player_id': 1922, 'type_id': 2048, 'category': 'injury', 'team_id': 1, 'season_id': None, 'start_date': '2020-12-02', 'end_date': '2020-12-28', 'games_missed': 4, 'completed': True}, {'id': 67059, 'player_id': 4371, 'type_id': 339, 'category': 'injury', 'team_id': 1, 'season_id': None, 'start_date': '2020-11-09', 'end_date': '2020-12-10', 'games_missed': 3, 'completed': True}, {'id': 67057, 'player_id': 4371, 'type_id': 2048, 'category': 'injury', 'team_id': 1, 'season_id': None, 'start_date': '2020-01-06', 'end_date': '2020-01-31', 'games_missed': 5, 'completed': True}, {'id': 415595, 'player_id': 220052, 'type_id': 545, 'category': 'injury', 'team_id': 1, 'season_id': None, 'start_date': '2022-10-17', 'end_date': '2022-11-05', 'games_missed': 5, 'completed': True}, {'id': 69563, 'player_id': 25499, 'type_id': 339, 'category': 'injury', 'team_id': 1, 'season_id': None, 'start_date': '2020-06-19', 'end_date': '2020-07-07', 'games_missed': 4, 'completed': True}, {'id': 71552, 'player_id': 1413, 'type_id': 621, 'category': 'injury', 'team_id': 1, 'season_id': None, 'start_date': '2015-11-08', 'end_date': '2016-01-01', 'games_missed': 7, 'completed': True}, {'id': 72568, 'player_id': 808, 'type_id': 1946, 'category': 'injury', 'team_id': 1, 'season_id': None, 'start_date': '2014-08-03', 'end_date': '2014-09-12', 'games_missed': 4, 'completed': True}, {'id': 341463, 'player_id': 1452, 'type_id': 1682, 'category': 'doubtful', 'team_id': 1, 'season_id': None, 'start_date': '2020-12-27', 'end_date': '2020-12-27', 'games_missed': 1, 'completed': True}, {'id': 341559, 'player_id': 96799, 'type_id': 1682, 'category': 'doubtful', 'team_id': 1, 'season_id': None, 'start_date': '2021-01-16', 'end_date': '2021-01-16', 'games_missed': 1, 'completed': True}, {'id': 69432, 'player_id': 1243, 'type_id': 339, 'category': 'injury', 'team_id': 1, 'season_id': None, 'start_date': '2014-09-20', 'end_date': '2014-10-19', 'games_missed': 3, 'completed': True}, {'id': 69786, 'player_id': 156, 'type_id': 532, 'category': 'injury', 'team_id': 1, 'season_id': None, 'start_date': '2014-09-26', 'end_date': '2014-10-16', 'games_missed': 2, 'completed': True}, {'id': 70342, 'player_id': 733, 'type_id': 2048, 'category': 'injury', 'team_id': 1, 'season_id': None, 'start_date': '2020-12-30', 'end_date': '2021-01-15', 'games_missed': 2, 'completed': True}, {'id': 69787, 'player_id': 156, 'type_id': 2048, 'category': 'injury', 'team_id': 1, 'season_id': None, 'start_date': '2019-08-08', 'end_date': '2019-08-23', 'games_missed': 2, 'completed': True}, {'id': 71150, 'player_id': 383, 'type_id': 532, 'category': 'injury', 'team_id': 1, 'season_id': None, 'start_date': '2017-08-19', 'end_date': '2017-09-11', 'games_missed': 3, 'completed': True}, {'id': 71237, 'player_id': 96799, 'type_id': 630, 'category': 'injury', 'team_id': 1, 'season_id': None, 'start_date': '2021-02-11', 'end_date': '2021-02-15', 'games_missed': 0, 'completed': True}, {'id': 415621, 'player_id': 220052, 'type_id': 545, 'category': 'injury', 'team_id': 1, 'season_id': None, 'start_date': '2023-02-11', 'end_date': '2023-02-21', 'games_missed': 2, 'completed': True}, {'id': 343407, 'player_id': 1452, 'type_id': 1682, 'category': 'doubtful', 'team_id': 1, 'season_id': None, 'start_date': '2021-05-15', 'end_date': '2023-07-05', 'games_missed': None, 'completed': True}, {'id': 257765, 'player_id': 581199, 'type_id': 1682, 'category': 'doubtful', 'team_id': 1, 'season_id': None, 'start_date': '2019-03-02', 'end_date': '2019-03-02', 'games_missed': 1, 'completed': True}, {'id': 417365, 'player_id': 30178, 'type_id': 587, 'category': 'injury', 'team_id': 1, 'season_id': None, 'start_date': '2022-11-14', 'end_date': '2022-12-27', 'games_missed': 3, 'completed': True}, {'id': 342296, 'player_id': 219591, 'type_id': 1682, 'category': 'doubtful', 'team_id': 1, 'season_id': None, 'start_date': '2021-02-21', 'end_date': '2023-07-05', 'games_missed': None, 'completed': True}, {'id': 342295, 'player_id': 1922, 'type_id': 1682, 'category': 'doubtful', 'team_id': 1, 'season_id': None, 'start_date': '2021-02-21', 'end_date': '2023-07-05', 'games_missed': None, 'completed': True}, {'id': 340375, 'player_id': 25499, 'type_id': 1682, 'category': 'doubtful', 'team_id': 1, 'season_id': None, 'start_date': '2020-09-27', 'end_date': '2023-07-04', 'games_missed': None, 'completed': True}, {'id': 340422, 'player_id': 4244, 'type_id': 587, 'category': 'injury', 'team_id': 1, 'season_id': None, 'start_date': '2023-07-04', 'end_date': '2023-07-04', 'games_missed': None, 'completed': True}, {'id': 342560, 'player_id': 733, 'type_id': 1682, 'category': 'doubtful', 'team_id': 1, 'season_id': None, 'start_date': '2021-03-08', 'end_date': '2023-07-05', 'games_missed': None, 'completed': True}, {'id': 342606, 'player_id': 820, 'type_id': 587, 'category': 'injury', 'team_id': 1, 'season_id': None, 'start_date': '2023-07-05', 'end_date': '2023-07-05', 'games_missed': None, 'completed': True}, {'id': 342691, 'player_id': 186815, 'type_id': 1682, 'category': 'doubtful', 'team_id': 1, 'season_id': None, 'start_date': '2021-03-21', 'end_date': '2023-07-05', 'games_missed': None, 'completed': True}, {'id': 342690, 'player_id': 1941, 'type_id': 587, 'category': 'injury', 'team_id': 1, 'season_id': None, 'start_date': '2023-07-05', 'end_date': '2023-07-05', 'games_missed': None, 'completed': True}, {'id': 191713, 'player_id': 30178, 'type_id': 536, 'category': 'injury', 'team_id': 1, 'season_id': None, 'start_date': '2023-01-20', 'end_date': '2023-02-19', 'games_missed': 4, 'completed': True}, {'id': 191694, 'player_id': 96642, 'type_id': 532, 'category': 'injury', 'team_id': 1, 'season_id': None, 'start_date': '2022-10-01', 'end_date': '2022-10-01', 'games_missed': 0, 'completed': True}, {'id': 344236, 'player_id': 383, 'type_id': 587, 'category': 'injury', 'team_id': 1, 'season_id': None, 'start_date': '2023-07-05', 'end_date': '2023-07-05', 'games_missed': None, 'completed': True}, {'id': 342725, 'player_id': 1941, 'type_id': 1682, 'category': 'doubtful', 'team_id': 1, 'season_id': None, 'start_date': '2021-04-05', 'end_date': '2023-07-05', 'games_missed': 139, 'completed': True}, {'id': 191687, 'player_id': 1450, 'type_id': 536, 'category': 'injury', 'team_id': 1, 'season_id': None, 'start_date': '2023-01-21', 'end_date': '2023-01-21', 'games_missed': 0, 'completed': True}, {'id': 340520, 'player_id': 4371, 'type_id': 1682, 'category': 'doubtful', 'team_id': 1, 'season_id': None, 'start_date': '2020-10-18', 'end_date': '2023-07-04', 'games_missed': None, 'completed': True}, {'id': 191704, 'player_id': 1316, 'type_id': 535, 'category': 'injury', 'team_id': 1, 'season_id': None, 'start_date': '2023-01-27', 'end_date': '2023-03-04', 'games_missed': 6, 'completed': True}, {'id': 342832, 'player_id': 5273, 'type_id': 1682, 'category': 'doubtful', 'team_id': 1, 'season_id': None, 'start_date': '2021-04-11', 'end_date': '2023-07-05', 'games_missed': None, 'completed': True}, {'id': 344409, 'player_id': 80304, 'type_id': 1682, 'category': 'doubtful', 'team_id': 1, 'season_id': None, 'start_date': '2021-10-17', 'end_date': '2023-07-05', 'games_missed': None, 'completed': True}, {'id': 75993, 'player_id': 746, 'type_id': 671, 'category': 'injury', 'team_id': 1, 'season_id': None, 'start_date': '2019-02-28', 'end_date': '2019-09-20', 'games_missed': 21, 'completed': True}, {'id': 83375, 'player_id': 1244, 'type_id': 673, 'category': 'injury', 'team_id': 1, 'season_id': None, 'start_date': '2015-03-11', 'end_date': '2015-04-10', 'games_missed': 3, 'completed': True}, {'id': 417132, 'player_id': 220052, 'type_id': 549, 'category': 'injury', 'team_id': 1, 'season_id': None, 'start_date': '2023-04-07', 'end_date': '2023-04-13', 'games_missed': 1, 'completed': True}, {'id': 546753, 'player_id': 1592, 'type_id': 672, 'category': 'injury', 'team_id': 1, 'season_id': None, 'start_date': '2024-01-07', 'end_date': '2024-01-19', 'games_missed': 2, 'completed': True}, {'id': 77199, 'player_id': 717, 'type_id': 671, 'category': 'injury', 'team_id': 1, 'season_id': None, 'start_date': '2018-12-02', 'end_date': '2019-04-19', 'games_missed': 22, 'completed': True}, {'id': 191924, 'player_id': 1316, 'type_id': 536, 'category': 'injury', 'team_id': 1, 'season_id': None, 'start_date': '2022-11-12', 'end_date': '2023-01-09', 'games_missed': 8, 'completed': True}, {'id': 75991, 'player_id': 746, 'type_id': 671, 'category': 'injury', 'team_id': 1, 'season_id': None, 'start_date': '2018-07-12', 'end_date': '2018-11-22', 'games_missed': 21, 'completed': True}, {'id': 76467, 'player_id': 1452, 'type_id': 667, 'category': 'injury', 'team_id': 1, 'season_id': None, 'start_date': '2019-04-14', 'end_date': '2019-05-03', 'games_missed': 2, 'completed': True}, {'id': 79770, 'player_id': 1922, 'type_id': 661, 'category': 'injury', 'team_id': 1, 'season_id': None, 'start_date': '2017-12-23', 'end_date': '2018-02-02', 'games_missed': 10, 'completed': True}, {'id': 83429, 'player_id': 156, 'type_id': 709, 'category': 'injury', 'team_id': 1, 'season_id': None, 'start_date': '2013-02-24', 'end_date': '2013-04-14', 'games_missed': 5, 'completed': True}, {'id': 83427, 'player_id': 156, 'type_id': 661, 'category': 'injury', 'team_id': 1, 'season_id': None, 'start_date': '2008-10-24', 'end_date': '2008-12-01', 'games_missed': 6, 'completed': True}, {'id': 83441, 'player_id': 156, 'type_id': 836, 'category': 'injury', 'team_id': 1, 'season_id': None, 'start_date': '2020-10-25', 'end_date': '2020-11-21', 'games_missed': 2, 'completed': True}, {'id': 222879, 'player_id': 30178, 'type_id': 1971, 'category': 'injury', 'team_id': 1, 'season_id': None, 'start_date': '2023-04-01', 'end_date': '2023-04-18', 'games_missed': 16, 'completed': True}, {'id': 343099, 'player_id': 1261, 'type_id': 1682, 'category': 'doubtful', 'team_id': 1, 'season_id': None, 'start_date': '2021-04-17', 'end_date': '2023-07-05', 'games_missed': None, 'completed': True}, {'id': 84105, 'player_id': 733, 'type_id': 709, 'category': 'injury', 'team_id': 1, 'season_id': None, 'start_date': '2021-02-26', 'end_date': '2021-03-05', 'games_missed': 1, 'completed': True}, {'id': 85384, 'player_id': 96799, 'type_id': 658, 'category': 'injury', 'team_id': 1, 'season_id': None, 'start_date': '2021-01-04', 'end_date': '2021-01-14', 'games_missed': 1, 'completed': True}, {'id': 84489, 'player_id': 516291, 'type_id': 677, 'category': 'injury', 'team_id': 1, 'season_id': None, 'start_date': '2022-10-27', 'end_date': '2022-10-31', 'games_missed': 1, 'completed': True}, {'id': 85279, 'player_id': 383, 'type_id': 762, 'category': 'injury', 'team_id': 1, 'season_id': None, 'start_date': '2018-02-06', 'end_date': '2018-02-11', 'games_missed': 0, 'completed': True}, {'id': 85446, 'player_id': 1316, 'type_id': 1959, 'category': 'injury', 'team_id': 1, 'season_id': None, 'start_date': '2022-04-18', 'end_date': '2022-04-25', 'games_missed': 0, 'completed': True}, {'id': 716009, 'player_id': 1261, 'type_id': 554, 'category': 'injury', 'team_id': 1, 'season_id': None, 'start_date': '2025-04-04', 'end_date': None, 'games_missed': 4, 'completed': False}, {'id': 256088, 'player_id': 1291, 'type_id': 587, 'category': 'injury', 'team_id': 1, 'season_id': None, 'start_date': '2023-05-26', 'end_date': '2023-07-03', 'games_missed': 2, 'completed': True}, {'id': 341254, 'player_id': 204697, 'type_id': 1682, 'category': 'doubtful', 'team_id': 1, 'season_id': None, 'start_date': '2020-12-05', 'end_date': '2023-07-04', 'games_missed': None, 'completed': True}, {'id': 292955, 'player_id': 30178, 'type_id': 540, 'category': 'injury', 'team_id': 1, 'season_id': None, 'start_date': '2023-04-18', 'end_date': '2023-07-09', 'games_missed': 14, 'completed': True}, {'id': 67058, 'player_id': 4371, 'type_id': 2048, 'category': 'injury', 'team_id': 1, 'season_id': None, 'start_date': '2020-09-28', 'end_date': '2020-10-17', 'games_missed': 2, 'completed': True}, {'id': 535986, 'player_id': 1922, 'type_id': 536, 'category': 'injury', 'team_id': 1, 'season_id': None, 'start_date': '2023-11-18', 'end_date': '2024-02-12', 'games_missed': 17, 'completed': True}, {'id': 430418, 'player_id': 1261, 'type_id': 1610, 'category': 'suspended', 'team_id': 1, 'season_id': None, 'start_date': '2016-10-17', 'end_date': '2016-10-24', 'games_missed': 1, 'completed': True}, {'id': 448361, 'player_id': 1922, 'type_id': 1610, 'category': 'suspended', 'team_id': 1, 'season_id': None, 'start_date': '2021-09-11', 'end_date': '2021-09-20', 'games_missed': 2, 'completed': True}, {'id': 46745, 'player_id': 1420, 'type_id': 1959, 'category': 'injury', 'team_id': 1, 'season_id': None, 'start_date': '2018-01-01', 'end_date': '2018-01-15', 'games_missed': 4, 'completed': True}, {'id': 453411, 'player_id': 1941, 'type_id': 1610, 'category': 'suspended', 'team_id': 1, 'season_id': None, 'start_date': '2019-09-17', 'end_date': '2019-09-23', 'games_missed': 0, 'completed': True}, {'id': 598950, 'player_id': 220052, 'type_id': 1611, 'category': 'suspended', 'team_id': 1, 'season_id': None, 'start_date': '2024-04-12', 'end_date': '2024-04-19', 'games_missed': 1, 'completed': True}, {'id': 430431, 'player_id': 1261, 'type_id': 1608, 'category': 'suspended', 'team_id': 1, 'season_id': None, 'start_date': '2022-04-11', 'end_date': '2022-04-18', 'games_missed': 1, 'completed': True}, {'id': 453409, 'player_id': 1941, 'type_id': 1608, 'category': 'suspended', 'team_id': 1, 'season_id': None, 'start_date': '2018-01-28', 'end_date': '2018-03-11', 'games_missed': 5, 'completed': True}, {'id': 431854, 'player_id': 2701, 'type_id': 1613, 'category': 'suspended', 'team_id': 1, 'season_id': None, 'start_date': '2012-06-20', 'end_date': '2012-07-15', 'games_missed': 2, 'completed': True}, {'id': 445382, 'player_id': 1139, 'type_id': 1608, 'category': 'suspended', 'team_id': 1, 'season_id': None, 'start_date': '2017-08-21', 'end_date': '2017-09-11', 'games_missed': 2, 'completed': True}, {'id': 452462, 'player_id': 820, 'type_id': 1612, 'category': 'suspended', 'team_id': 1, 'season_id': None, 'start_date': '2021-03-14', 'end_date': '2021-03-14', 'games_missed': 0, 'completed': True}, {'id': 463871, 'player_id': 204697, 'type_id': 1614, 'category': 'suspended', 'team_id': 1, 'season_id': None, 'start_date': '2022-02-25', 'end_date': '2022-03-11', 'games_missed': 3, 'completed': True}, {'id': 468945, 'player_id': 187, 'type_id': 1608, 'category': 'suspended', 'team_id': 1, 'season_id': None, 'start_date': '2010-06-22', 'end_date': '2010-06-26', 'games_missed': 0, 'completed': True}, {'id': 473679, 'player_id': 1309, 'type_id': 1613, 'category': 'suspended', 'team_id': 1, 'season_id': None, 'start_date': '2017-01-03', 'end_date': '2017-02-05', 'games_missed': 4, 'completed': True}, {'id': 75556, 'player_id': 513, 'type_id': 1958, 'category': 'injury', 'team_id': 1, 'season_id': None, 'start_date': '2011-01-12', 'end_date': '2011-03-01', 'games_missed': 9, 'completed': True}, {'id': 575559, 'player_id': 5640849, 'type_id': 1613, 'category': 'suspended', 'team_id': 1, 'season_id': None, 'start_date': '2024-01-02', 'end_date': '2024-01-23', 'games_missed': 4, 'completed': True}, {'id': 483022, 'player_id': 383, 'type_id': 1611, 'category': 'suspended', 'team_id': 1, 'season_id': None, 'start_date': '2017-12-14', 'end_date': '2017-12-17', 'games_missed': 0, 'completed': True}, {'id': 483010, 'player_id': 383, 'type_id': 1611, 'category': 'suspended', 'team_id': 1, 'season_id': None, 'start_date': '2016-10-31', 'end_date': '2016-11-06', 'games_missed': 0, 'completed': True}, {'id': 571125, 'player_id': 1452, 'type_id': 531, 'category': 'injury', 'team_id': 1, 'season_id': None, 'start_date': '2021-04-03', 'end_date': '2021-04-18', 'games_missed': 2, 'completed': True}, {'id': 73055, 'player_id': 1452, 'type_id': 2002, 'category': 'injury', 'team_id': 1, 'season_id': None, 'start_date': '2016-12-19', 'end_date': '2016-12-29', 'games_missed': 1, 'completed': True}, {'id': 8210, 'player_id': 1452, 'type_id': 1918, 'category': 'injury', 'team_id': 1, 'season_id': None, 'start_date': '2018-05-31', 'end_date': '2019-02-19', 'games_missed': 38, 'completed': True}, {'id': 571126, 'player_id': 1452, 'type_id': 339, 'category': 'injury', 'team_id': 1, 'season_id': None, 'start_date': '2021-05-09', 'end_date': '2021-05-30', 'games_missed': 4, 'completed': True}, {'id': 575750, 'player_id': 516291, 'type_id': 1613, 'category': 'suspended', 'team_id': 1, 'season_id': None, 'start_date': '2024-01-02', 'end_date': '2024-02-02', 'games_missed': 4, 'completed': True}, {'id': 68910, 'player_id': 204697, 'type_id': 1952, 'category': 'injury', 'team_id': 1, 'season_id': None, 'start_date': '2019-12-25', 'end_date': '2020-03-09', 'games_missed': 14, 'completed': True}, {'id': 60147, 'player_id': 204697, 'type_id': 1913, 'category': 'injury', 'team_id': 1, 'season_id': None, 'start_date': '2021-02-09', 'end_date': '2021-03-14', 'games_missed': 5, 'completed': True}, {'id': 490970, 'player_id': 870, 'type_id': 1611, 'category': 'suspended', 'team_id': 1, 'season_id': None, 'start_date': '2018-11-12', 'end_date': '2018-11-26', 'games_missed': 1, 'completed': True}, {'id': 598927, 'player_id': 129794, 'type_id': 1611, 'category': 'suspended', 'team_id': 1, 'season_id': None, 'start_date': '2023-10-22', 'end_date': '2023-10-30', 'games_missed': 2, 'completed': True}, {'id': 64471, 'player_id': 746, 'type_id': 2061, 'category': 'injury', 'team_id': 1, 'season_id': None, 'start_date': '2015-02-12', 'end_date': '2015-09-14', 'games_missed': 24, 'completed': True}, {'id': 75987, 'player_id': 746, 'type_id': 1937, 'category': 'injury', 'team_id': 1, 'season_id': None, 'start_date': '2014-07-24', 'end_date': '2014-11-03', 'games_missed': 11, 'completed': True}, {'id': 495990, 'player_id': 808, 'type_id': 1608, 'category': 'suspended', 'team_id': 1, 'season_id': None, 'start_date': '2015-08-23', 'end_date': '2015-08-30', 'games_missed': 0, 'completed': True}, {'id': 599101, 'player_id': 254052, 'type_id': 1611, 'category': 'suspended', 'team_id': 1, 'season_id': None, 'start_date': '2023-10-30', 'end_date': '2023-11-05', 'games_missed': 1, 'completed': True}, {'id': 428025, 'player_id': 1452, 'type_id': 1611, 'category': 'suspended', 'team_id': 1, 'season_id': None, 'start_date': '2022-03-21', 'end_date': '2022-04-11', 'games_missed': 2, 'completed': True}, {'id': 428020, 'player_id': 1452, 'type_id': 1615, 'category': 'suspended', 'team_id': 1, 'season_id': None, 'start_date': '2017-12-18', 'end_date': '2017-12-25', 'games_missed': 2, 'completed': True}, {'id': 594495, 'player_id': 32738, 'type_id': 336, 'category': 'injury', 'team_id': 1, 'season_id': None, 'start_date': '2023-03-03', 'end_date': '2023-03-04', 'games_missed': 0, 'completed': True}, {'id': 447031, 'player_id': 4371, 'type_id': 1611, 'category': 'suspended', 'team_id': 1, 'season_id': None, 'start_date': '2019-12-15', 'end_date': '2019-12-27', 'games_missed': 0, 'completed': True}, {'id': 448353, 'player_id': 1922, 'type_id': 1610, 'category': 'suspended', 'team_id': 1, 'season_id': None, 'start_date': '2017-02-26', 'end_date': '2017-03-07', 'games_missed': 0, 'completed': True}, {'id': 552716, 'player_id': 1261, 'type_id': 1608, 'category': 'suspended', 'team_id': 1, 'season_id': None, 'start_date': '2022-05-06', 'end_date': '2022-09-09', 'games_missed': 18, 'completed': True}, {'id': 468304, 'player_id': 1243, 'type_id': 1613, 'category': 'suspended', 'team_id': 1, 'season_id': None, 'start_date': '2017-01-03', 'end_date': '2017-01-29', 'games_missed': 3, 'completed': True}, {'id': 478002, 'player_id': 516291, 'type_id': 1608, 'category': 'suspended', 'team_id': 1, 'season_id': None, 'start_date': '2023-08-20', 'end_date': '2023-08-27', 'games_missed': 1, 'completed': True}, {'id': 85270, 'player_id': 383, 'type_id': 1959, 'category': 'injury', 'team_id': 1, 'season_id': None, 'start_date': '2013-11-04', 'end_date': '2014-01-28', 'games_missed': 16, 'completed': True}, {'id': 616778, 'player_id': 109417, 'type_id': 531, 'category': 'injury', 'team_id': 1, 'season_id': None, 'start_date': '2024-04-20', 'end_date': '2024-05-13', 'games_missed': 4, 'completed': True}, {'id': 62544, 'player_id': 4199, 'type_id': 2052, 'category': 'injury', 'team_id': 1, 'season_id': None, 'start_date': '2013-03-21', 'end_date': '2013-06-17', 'games_missed': 9, 'completed': True}, {'id': 62663, 'player_id': 1928, 'type_id': 1936, 'category': 'injury', 'team_id': 1, 'season_id': None, 'start_date': '2017-11-01', 'end_date': '2018-01-13', 'games_missed': 14, 'completed': True}, {'id': 62627, 'player_id': 1416, 'type_id': 1936, 'category': 'injury', 'team_id': 1, 'season_id': None, 'start_date': '2015-09-14', 'end_date': '2015-10-17', 'games_missed': 5, 'completed': True}, {'id': 583328, 'player_id': 1416, 'type_id': 336, 'category': 'injury', 'team_id': 1, 'season_id': None, 'start_date': '2023-05-11', 'end_date': '2023-05-12', 'games_missed': 0, 'completed': True}, {'id': 580803, 'player_id': 96642, 'type_id': 532, 'category': 'injury', 'team_id': 1, 'season_id': None, 'start_date': '2022-10-05', 'end_date': '2023-03-05', 'games_missed': 27, 'completed': True}, {'id': 582843, 'player_id': 1316, 'type_id': 687, 'category': 'injury', 'team_id': 1, 'season_id': None, 'start_date': '2023-10-30', 'end_date': '2023-11-10', 'games_missed': 2, 'completed': True}, {'id': 583327, 'player_id': 1416, 'type_id': 1935, 'category': 'injury', 'team_id': 1, 'season_id': None, 'start_date': '2023-04-14', 'end_date': '2023-04-19', 'games_missed': 1, 'completed': True}, {'id': 582506, 'player_id': 516291, 'type_id': 531, 'category': 'injury', 'team_id': 1, 'season_id': None, 'start_date': '2023-05-19', 'end_date': '2023-05-25', 'games_missed': 1, 'completed': True}, {'id': 582845, 'player_id': 1316, 'type_id': 336, 'category': 'injury', 'team_id': 1, 'season_id': None, 'start_date': '2023-12-24', 'end_date': '2023-12-29', 'games_missed': 0, 'completed': True}, {'id': 653255, 'player_id': 254052, 'type_id': 1610, 'category': 'suspended', 'team_id': 1, 'season_id': None, 'start_date': '2024-09-25', 'end_date': '2024-09-29', 'games_missed': 1, 'completed': True}, {'id': 673159, 'player_id': 220052, 'type_id': 1611, 'category': 'suspended', 'team_id': 1, 'season_id': None, 'start_date': '2024-10-12', 'end_date': '2024-11-13', 'games_missed': 4, 'completed': True}, {'id': 662575, 'player_id': 5640849, 'type_id': 1608, 'category': 'suspended', 'team_id': 1, 'season_id': None, 'start_date': '2024-10-19', 'end_date': '2024-11-10', 'games_missed': 3, 'completed': True}, {'id': 439446, 'player_id': 336, 'type_id': 1609, 'category': 'suspended', 'team_id': 1, 'season_id': None, 'start_date': '2012-07-12', 'end_date': '2012-08-12', 'games_missed': None, 'completed': True}, {'id': 676423, 'player_id': 80655, 'type_id': 1611, 'category': 'suspended', 'team_id': 1, 'season_id': None, 'start_date': '2024-11-18', 'end_date': '2024-11-20', 'games_missed': 0, 'completed': True}, {'id': 692186, 'player_id': 31532, 'type_id': 535, 'category': 'injury', 'team_id': 1, 'season_id': None, 'start_date': '2025-01-10', 'end_date': '2025-04-10', 'games_missed': 12, 'completed': True}, {'id': 668936, 'player_id': 254052, 'type_id': 1610, 'category': 'suspended', 'team_id': 1, 'season_id': None, 'start_date': '2024-11-02', 'end_date': '2024-11-10', 'games_missed': 1, 'completed': True}, {'id': 673992, 'player_id': 1922, 'type_id': 1611, 'category': 'suspended', 'team_id': 1, 'season_id': None, 'start_date': '2024-10-15', 'end_date': '2024-11-16', 'games_missed': 4, 'completed': True}, {'id': 679897, 'player_id': 31532, 'type_id': 2015, 'category': 'injury', 'team_id': 1, 'season_id': None, 'start_date': '2024-09-08', 'end_date': '2024-12-02', 'games_missed': 11, 'completed': True}, {'id': 690859, 'player_id': 129794, 'type_id': 1911, 'category': 'injury', 'team_id': 1, 'season_id': None, 'start_date': '2024-03-07', 'end_date': '2024-03-12', 'games_missed': 2, 'completed': True}, {'id': 65390, 'player_id': 129454, 'type_id': 836, 'category': 'injury', 'team_id': 1, 'season_id': None, 'start_date': '2019-08-11', 'end_date': '2019-08-23', 'games_missed': 1, 'completed': True}, {'id': 698925, 'player_id': 254052, 'type_id': 587, 'category': 'injury', 'team_id': 1, 'season_id': None, 'start_date': '2025-02-02', 'end_date': '2025-02-10', 'games_missed': 1, 'completed': True}, {'id': 689656, 'player_id': 1592, 'type_id': 549, 'category': 'injury', 'team_id': 1, 'season_id': None, 'start_date': '2024-12-29', 'end_date': '2025-01-31', 'games_missed': 6, 'completed': True}, {'id': 690807, 'player_id': 129794, 'type_id': 587, 'category': 'injury', 'team_id': 1, 'season_id': None, 'start_date': '2025-01-03', 'end_date': '2025-01-13', 'games_missed': 2, 'completed': True}, {'id': 690806, 'player_id': 529856, 'type_id': 587, 'category': 'injury', 'team_id': 1, 'season_id': None, 'start_date': '2025-01-05', 'end_date': '2025-02-10', 'games_missed': 5, 'completed': True}, {'id': 690556, 'player_id': 733, 'type_id': 630, 'category': 'injury', 'team_id': 1, 'season_id': None, 'start_date': '2024-12-27', 'end_date': '2025-01-10', 'games_missed': 2, 'completed': True}, {'id': 695051, 'player_id': 109417, 'type_id': 1610, 'category': 'suspended', 'team_id': 1, 'season_id': None, 'start_date': '2025-01-19', 'end_date': '2025-02-02', 'games_missed': 1, 'completed': True}, {'id': 697627, 'player_id': 220052, 'type_id': 551, 'category': 'injury', 'team_id': 1, 'season_id': None, 'start_date': '2025-01-30', 'end_date': '2025-02-14', 'games_missed': 1, 'completed': True}, {'id': 681549, 'player_id': 1922, 'type_id': 2046, 'category': 'injury', 'team_id': 1, 'season_id': None, 'start_date': '2024-12-07', 'end_date': '2025-06-01', 'games_missed': 21, 'completed': False}, {'id': 697684, 'player_id': 30178, 'type_id': 336, 'category': 'injury', 'team_id': 1, 'season_id': None, 'start_date': '2022-08-29', 'end_date': '2022-09-07', 'games_missed': 2, 'completed': True}, {'id': 465104, 'player_id': 5273, 'type_id': 1611, 'category': 'suspended', 'team_id': 1, 'season_id': None, 'start_date': '2021-12-27', 'end_date': '2021-12-30', 'games_missed': 1, 'completed': True}, {'id': 700151, 'player_id': 80304, 'type_id': 548, 'category': 'injury', 'team_id': 1, 'season_id': None, 'start_date': '2022-02-14', 'end_date': '2022-04-01', 'games_missed': 8, 'completed': True}, {'id': 700152, 'player_id': 80304, 'type_id': 535, 'category': 'injury', 'team_id': 1, 'season_id': None, 'start_date': '2023-05-03', 'end_date': '2023-05-16', 'games_missed': 4, 'completed': True}, {'id': 699346, 'player_id': 254052, 'type_id': 1939, 'category': 'injury', 'team_id': 1, 'season_id': None, 'start_date': '2024-06-22', 'end_date': '2024-08-18', 'games_missed': 5, 'completed': True}, {'id': 700124, 'player_id': 80304, 'type_id': 1936, 'category': 'injury', 'team_id': 1, 'season_id': None, 'start_date': '2025-02-14', 'end_date': '2025-04-01', 'games_missed': 2, 'completed': True}, {'id': 701257, 'player_id': 220052, 'type_id': 537, 'category': 'injury', 'team_id': 1, 'season_id': None, 'start_date': '2025-02-21', 'end_date': '2025-03-10', 'games_missed': 2, 'completed': True}, {'id': 692219, 'player_id': 31532, 'type_id': 535, 'category': 'injury', 'team_id': 1, 'season_id': None, 'start_date': '2025-01-11', 'end_date': '2025-04-01', 'games_missed': 9, 'completed': True}, {'id': 692360, 'player_id': 9939203, 'type_id': 533, 'category': 'injury', 'team_id': 1, 'season_id': None, 'start_date': '2025-01-10', 'end_date': '2025-04-01', 'games_missed': 2, 'completed': True}, {'id': 569072, 'player_id': 220052, 'type_id': 532, 'category': 'injury', 'team_id': 1, 'season_id': None, 'start_date': '2024-01-07', 'end_date': '2024-02-21', 'games_missed': 9, 'completed': True}, {'id': 468295, 'player_id': 1243, 'type_id': 1608, 'category': 'suspended', 'team_id': 1, 'season_id': None, 'start_date': '2016-02-22', 'end_date': '2016-02-29', 'games_missed': 1, 'completed': True}, {'id': 471349, 'player_id': 156, 'type_id': 1610, 'category': 'suspended', 'team_id': 1, 'season_id': None, 'start_date': '2008-08-24', 'end_date': '2008-08-01', 'games_missed': 0, 'completed': True}, {'id': 471358, 'player_id': 156, 'type_id': 1611, 'category': 'suspended', 'team_id': 1, 'season_id': None, 'start_date': '2016-11-06', 'end_date': '2016-11-20', 'games_missed': 0, 'completed': True}, {'id': 471360, 'player_id': 156, 'type_id': 1611, 'category': 'suspended', 'team_id': 1, 'season_id': None, 'start_date': '2017-04-09', 'end_date': '2017-04-23', 'games_missed': 1, 'completed': True}, {'id': 476112, 'player_id': 1251, 'type_id': 1608, 'category': 'suspended', 'team_id': 1, 'season_id': None, 'start_date': '2015-08-16', 'end_date': '2015-09-15', 'games_missed': 2, 'completed': True}, {'id': 483017, 'player_id': 383, 'type_id': 1610, 'category': 'suspended', 'team_id': 1, 'season_id': None, 'start_date': '2016-11-20', 'end_date': '2016-11-28', 'games_missed': 0, 'completed': True}, {'id': 484000, 'player_id': 1252, 'type_id': 1611, 'category': 'suspended', 'team_id': 1, 'season_id': None, 'start_date': '2013-12-04', 'end_date': '2013-12-08', 'games_missed': 0, 'completed': True}, {'id': 599103, 'player_id': 254052, 'type_id': 1611, 'category': 'suspended', 'team_id': 1, 'season_id': None, 'start_date': '2024-03-18', 'end_date': '2024-04-03', 'games_missed': 1, 'completed': True}, {'id': 599102, 'player_id': 254052, 'type_id': 1611, 'category': 'suspended', 'team_id': 1, 'season_id': None, 'start_date': '2024-03-15', 'end_date': '2024-04-12', 'games_missed': 4, 'completed': True}, {'id': 486649, 'player_id': 1413, 'type_id': 1610, 'category': 'suspended', 'team_id': 1, 'season_id': None, 'start_date': '2015-07-20', 'end_date': '2015-07-27', 'games_missed': 1, 'completed': True}, {'id': 494328, 'player_id': 1928, 'type_id': 1611, 'category': 'suspended', 'team_id': 1, 'season_id': None, 'start_date': '2016-02-28', 'end_date': '2016-03-06', 'games_missed': 1, 'completed': True}, {'id': 560534, 'player_id': 1416, 'type_id': 1611, 'category': 'suspended', 'team_id': 1, 'season_id': None, 'start_date': '2023-04-14', 'end_date': '2023-04-21', 'games_missed': 1, 'completed': True}, {'id': 424880, 'player_id': 96426, 'type_id': 1613, 'category': 'suspended', 'team_id': 1, 'season_id': None, 'start_date': '2022-01-03', 'end_date': '2022-02-06', 'games_missed': 4, 'completed': True}, {'id': 424701, 'player_id': 746, 'type_id': 1608, 'category': 'suspended', 'team_id': 1, 'season_id': None, 'start_date': '2014-02-04', 'end_date': '2014-02-23', 'games_missed': 2, 'completed': True}, {'id': 424707, 'player_id': 746, 'type_id': 1610, 'category': 'suspended', 'team_id': 1, 'season_id': None, 'start_date': '2017-10-15', 'end_date': '2017-10-21', 'games_missed': 0, 'completed': True}, {'id': 430424, 'player_id': 1261, 'type_id': 1611, 'category': 'suspended', 'team_id': 1, 'season_id': None, 'start_date': '2019-12-26', 'end_date': '2019-12-30', 'games_missed': 2, 'completed': True}, {'id': 433377, 'player_id': 1422, 'type_id': 1608, 'category': 'suspended', 'team_id': 1, 'season_id': None, 'start_date': '2015-07-10', 'end_date': '2015-07-31', 'games_missed': 2, 'completed': True}, {'id': 439436, 'player_id': 336, 'type_id': 1608, 'category': 'suspended', 'team_id': 1, 'season_id': None, 'start_date': '2009-05-17', 'end_date': '2009-05-25', 'games_missed': 0, 'completed': True}, {'id': 439453, 'player_id': 336, 'type_id': 1611, 'category': 'suspended', 'team_id': 1, 'season_id': None, 'start_date': '2014-12-29', 'end_date': '2015-01-02', 'games_missed': 0, 'completed': True}]",
         "27",
         "5",
         "2",
         "0",
         "3",
         "83"
        ],
        [
         "1",
         "2",
         "1",
         "462.0",
         "8.0",
         "male",
         "Blackburn Rovers",
         "BBR",
         "https://cdn.sportmonks.com/images/soccer/teams/2/2.png",
         "1875.0",
         "domestic",
         "False",
         "2025-04-26 14:00:00",
         "Football",
         "football",
         "[{'id': 197, 'player_id': 652, 'type_id': 339, 'category': 'injury', 'team_id': 2, 'season_id': None, 'start_date': '2020-10-22', 'end_date': '2020-11-22', 'games_missed': 5, 'completed': True}, {'id': 337, 'player_id': 428, 'type_id': 533, 'category': 'injury', 'team_id': 2, 'season_id': None, 'start_date': '2008-12-12', 'end_date': '2008-12-26', 'games_missed': 2, 'completed': True}, {'id': 336, 'player_id': 428, 'type_id': 587, 'category': 'injury', 'team_id': 2, 'season_id': None, 'start_date': '2008-01-13', 'end_date': '2008-04-05', 'games_missed': 11, 'completed': True}, {'id': 1604, 'player_id': 428, 'type_id': 549, 'category': 'injury', 'team_id': 2, 'season_id': None, 'start_date': '2012-02-29', 'end_date': '2012-03-03', 'games_missed': 0, 'completed': True}, {'id': 2811, 'player_id': 925, 'type_id': 537, 'category': 'injury', 'team_id': 2, 'season_id': None, 'start_date': '2020-09-13', 'end_date': '2020-09-17', 'games_missed': 1, 'completed': True}, {'id': 2815, 'player_id': 925, 'type_id': 538, 'category': 'injury', 'team_id': 2, 'season_id': None, 'start_date': '2020-10-25', 'end_date': '2020-11-15', 'games_missed': 4, 'completed': True}, {'id': 2911, 'player_id': 1246, 'type_id': 536, 'category': 'injury', 'team_id': 2, 'season_id': None, 'start_date': '2019-10-20', 'end_date': '2019-10-31', 'games_missed': 2, 'completed': True}, {'id': 2916, 'player_id': 1246, 'type_id': 536, 'category': 'injury', 'team_id': 2, 'season_id': None, 'start_date': '2019-12-27', 'end_date': '2020-01-07', 'games_missed': 3, 'completed': True}, {'id': 2920, 'player_id': 1246, 'type_id': 536, 'category': 'injury', 'team_id': 2, 'season_id': None, 'start_date': '2020-10-04', 'end_date': '2020-10-18', 'games_missed': 0, 'completed': True}, {'id': 2923, 'player_id': 1246, 'type_id': 538, 'category': 'injury', 'team_id': 2, 'season_id': None, 'start_date': '2020-11-04', 'end_date': '2020-11-22', 'games_missed': 1, 'completed': True}, {'id': 5913, 'player_id': 6049, 'type_id': 538, 'category': 'injury', 'team_id': 2, 'season_id': None, 'start_date': '2020-10-25', 'end_date': '2020-11-15', 'games_missed': 4, 'completed': True}, {'id': 6978, 'player_id': 9258, 'type_id': 535, 'category': 'injury', 'team_id': 2, 'season_id': None, 'start_date': '2020-08-30', 'end_date': '2020-09-13', 'games_missed': 1, 'completed': True}, {'id': 7630, 'player_id': 3179, 'type_id': 532, 'category': 'injury', 'team_id': 2, 'season_id': None, 'start_date': '2019-11-20', 'end_date': '2019-12-18', 'games_missed': 6, 'completed': True}, {'id': 7633, 'player_id': 3179, 'type_id': 532, 'category': 'injury', 'team_id': 2, 'season_id': None, 'start_date': '2019-12-28', 'end_date': '2020-12-30', 'games_missed': 49, 'completed': True}, {'id': 7637, 'player_id': 3179, 'type_id': 532, 'category': 'injury', 'team_id': 2, 'season_id': None, 'start_date': '2020-02-14', 'end_date': '2020-07-28', 'games_missed': 14, 'completed': True}, {'id': 7640, 'player_id': 3179, 'type_id': 538, 'category': 'injury', 'team_id': 2, 'season_id': None, 'start_date': '2020-10-11', 'end_date': '2020-10-22', 'games_missed': 1, 'completed': True}, {'id': 15231, 'player_id': 3762, 'type_id': 1918, 'category': 'injury', 'team_id': 2, 'season_id': None, 'start_date': '2019-10-06', 'end_date': '2020-09-04', 'games_missed': 39, 'completed': True}, {'id': 15228, 'player_id': 3762, 'type_id': 535, 'category': 'injury', 'team_id': 2, 'season_id': None, 'start_date': '2019-09-10', 'end_date': '2020-09-24', 'games_missed': 48, 'completed': True}, {'id': 15235, 'player_id': 3762, 'type_id': 535, 'category': 'injury', 'team_id': 2, 'season_id': None, 'start_date': '2019-10-19', 'end_date': '2020-11-29', 'games_missed': 54, 'completed': True}, {'id': 16373, 'player_id': 61107, 'type_id': 339, 'category': 'injury', 'team_id': 2, 'season_id': None, 'start_date': '2020-10-25', 'end_date': '2020-11-09', 'games_missed': 4, 'completed': True}, {'id': 16472, 'player_id': 7027, 'type_id': 536, 'category': 'injury', 'team_id': 2, 'season_id': None, 'start_date': '2018-10-27', 'end_date': '2018-11-22', 'games_missed': 3, 'completed': True}, {'id': 17201, 'player_id': 3458, 'type_id': 536, 'category': 'injury', 'team_id': 2, 'season_id': None, 'start_date': '2017-11-08', 'end_date': '2018-07-15', 'games_missed': 35, 'completed': True}, {'id': 17206, 'player_id': 3458, 'type_id': 536, 'category': 'injury', 'team_id': 2, 'season_id': None, 'start_date': '2018-08-01', 'end_date': '2019-11-01', 'games_missed': 72, 'completed': True}, {'id': 20271, 'player_id': 2823510, 'type_id': 2017, 'category': 'injury', 'team_id': 2, 'season_id': None, 'start_date': '2021-11-20', 'end_date': '2022-04-20', 'games_missed': 27, 'completed': True}, {'id': 25306, 'player_id': 155323, 'type_id': 538, 'category': 'injury', 'team_id': 2, 'season_id': None, 'start_date': '2020-10-28', 'end_date': '2020-11-15', 'games_missed': 3, 'completed': True}, {'id': 25627, 'player_id': 2299, 'type_id': 537, 'category': 'injury', 'team_id': 2, 'season_id': None, 'start_date': '2013-10-14', 'end_date': '2014-02-03', 'games_missed': 20, 'completed': True}, {'id': 25631, 'player_id': 2299, 'type_id': 549, 'category': 'injury', 'team_id': 2, 'season_id': None, 'start_date': '2020-09-13', 'end_date': '2020-10-05', 'games_missed': 4, 'completed': True}, {'id': 27875, 'player_id': 273373, 'type_id': 537, 'category': 'injury', 'team_id': 2, 'season_id': None, 'start_date': '2013-08-30', 'end_date': '2013-11-30', 'games_missed': 12, 'completed': True}, {'id': 29659, 'player_id': 1502, 'type_id': 549, 'category': 'injury', 'team_id': 2, 'season_id': None, 'start_date': '2015-09-12', 'end_date': '2016-03-11', 'games_missed': 33, 'completed': True}, {'id': 33711, 'player_id': 8485, 'type_id': 557, 'category': 'injury', 'team_id': 2, 'season_id': None, 'start_date': '2019-12-23', 'end_date': '2021-01-01', 'games_missed': 52, 'completed': True}, {'id': 33715, 'player_id': 8485, 'type_id': 557, 'category': 'injury', 'team_id': 2, 'season_id': None, 'start_date': '2021-03-12', 'end_date': '2022-01-20', 'games_missed': 46, 'completed': True}, {'id': 35097, 'player_id': 2951, 'type_id': 535, 'category': 'injury', 'team_id': 2, 'season_id': None, 'start_date': '2020-11-01', 'end_date': '2020-11-08', 'games_missed': 1, 'completed': True}, {'id': 36495, 'player_id': 581160, 'type_id': 535, 'category': 'injury', 'team_id': 2, 'season_id': None, 'start_date': '2020-02-09', 'end_date': '2020-02-24', 'games_missed': 3, 'completed': True}, {'id': 36497, 'player_id': 581160, 'type_id': 535, 'category': 'injury', 'team_id': 2, 'season_id': None, 'start_date': '2020-06-21', 'end_date': '2020-07-05', 'games_missed': 2, 'completed': True}, {'id': 36499, 'player_id': 581160, 'type_id': 535, 'category': 'injury', 'team_id': 2, 'season_id': None, 'start_date': '2020-09-27', 'end_date': '2020-10-19', 'games_missed': 2, 'completed': True}, {'id': 36508, 'player_id': 581160, 'type_id': 542, 'category': 'injury', 'team_id': 2, 'season_id': None, 'start_date': '2021-04-05', 'end_date': '2021-08-01', 'games_missed': 10, 'completed': True}, {'id': 36502, 'player_id': 581160, 'type_id': 535, 'category': 'injury', 'team_id': 2, 'season_id': None, 'start_date': '2020-11-24', 'end_date': '2021-02-03', 'games_missed': 15, 'completed': True}, {'id': 643679, 'player_id': 14726336, 'type_id': 1610, 'category': 'suspended', 'team_id': 2, 'season_id': None, 'start_date': '2024-08-31', 'end_date': '2024-09-15', 'games_missed': 1, 'completed': True}, {'id': 73265, 'player_id': 7636, 'type_id': 557, 'category': 'injury', 'team_id': 2, 'season_id': None, 'start_date': '2020-09-16', 'end_date': '2021-01-16', 'games_missed': 23, 'completed': True}, {'id': 73208, 'player_id': 25747, 'type_id': 2002, 'category': 'injury', 'team_id': 2, 'season_id': None, 'start_date': '2020-11-04', 'end_date': '2020-11-10', 'games_missed': 1, 'completed': True}, {'id': 61025, 'player_id': 253, 'type_id': 598, 'category': 'injury', 'team_id': 2, 'season_id': None, 'start_date': '2009-08-24', 'end_date': '2009-09-10', 'games_missed': 2, 'completed': True}, {'id': 62195, 'player_id': 4613, 'type_id': 595, 'category': 'injury', 'team_id': 2, 'season_id': None, 'start_date': '2020-10-04', 'end_date': '2020-11-01', 'games_missed': 4, 'completed': True}, {'id': 68093, 'player_id': 214, 'type_id': 603, 'category': 'injury', 'team_id': 2, 'season_id': None, 'start_date': '2011-08-27', 'end_date': '2011-09-24', 'games_missed': 4, 'completed': True}, {'id': 68239, 'player_id': 4246, 'type_id': 339, 'category': 'injury', 'team_id': 2, 'season_id': None, 'start_date': '2020-08-23', 'end_date': '2020-09-30', 'games_missed': 7, 'completed': True}, {'id': 68240, 'player_id': 4246, 'type_id': 339, 'category': 'injury', 'team_id': 2, 'season_id': None, 'start_date': '2020-10-18', 'end_date': '2020-10-22', 'games_missed': 0, 'completed': True}, {'id': 407342, 'player_id': 205, 'type_id': 1991, 'category': 'injury', 'team_id': 2, 'season_id': None, 'start_date': '2008-12-19', 'end_date': '2009-01-10', 'games_missed': 4, 'completed': True}, {'id': 259938, 'player_id': 37350704, 'type_id': 587, 'category': 'injury', 'team_id': 2, 'season_id': None, 'start_date': '2023-05-26', 'end_date': '2024-02-01', 'games_missed': 38, 'completed': True}, {'id': 259939, 'player_id': 18226, 'type_id': 587, 'category': 'injury', 'team_id': 2, 'season_id': None, 'start_date': '2023-05-26', 'end_date': '2023-07-08', 'games_missed': 0, 'completed': True}, {'id': 541080, 'player_id': 8485, 'type_id': 587, 'category': 'injury', 'team_id': 2, 'season_id': None, 'start_date': '2023-12-22', 'end_date': '2023-12-22', 'games_missed': 0, 'completed': True}, {'id': 541079, 'player_id': 652, 'type_id': 587, 'category': 'injury', 'team_id': 2, 'season_id': None, 'start_date': '2023-12-22', 'end_date': '2023-12-22', 'games_missed': 0, 'completed': True}, {'id': 541093, 'player_id': 61107, 'type_id': 587, 'category': 'injury', 'team_id': 2, 'season_id': None, 'start_date': '2023-12-22', 'end_date': '2023-12-22', 'games_missed': 0, 'completed': True}, {'id': 541094, 'player_id': 21412317, 'type_id': 587, 'category': 'injury', 'team_id': 2, 'season_id': None, 'start_date': '2023-12-22', 'end_date': '2023-12-22', 'games_missed': 0, 'completed': True}, {'id': 87426, 'player_id': 21437417, 'type_id': 661, 'category': 'injury', 'team_id': 2, 'season_id': None, 'start_date': '2022-03-19', 'end_date': '2022-04-26', 'games_missed': 5, 'completed': True}, {'id': 63512, 'player_id': 7835, 'type_id': 1955, 'category': 'injury', 'team_id': 2, 'season_id': None, 'start_date': '2022-02-14', 'end_date': '2022-03-27', 'games_missed': 8, 'completed': True}, {'id': 84576, 'player_id': 1246, 'type_id': 1951, 'category': 'injury', 'team_id': 2, 'season_id': None, 'start_date': '2020-02-02', 'end_date': '2020-05-10', 'games_missed': 7, 'completed': True}, {'id': 35129, 'player_id': 3111, 'type_id': 542, 'category': 'injury', 'team_id': 2, 'season_id': None, 'start_date': '2017-08-06', 'end_date': '2017-12-24', 'games_missed': 28, 'completed': True}, {'id': 587073, 'player_id': 119181, 'type_id': 587, 'category': 'injury', 'team_id': 2, 'season_id': None, 'start_date': '2024-03-22', 'end_date': '2024-05-13', 'games_missed': 8, 'completed': True}, {'id': 258426, 'player_id': 537311, 'type_id': 587, 'category': 'injury', 'team_id': 2, 'season_id': None, 'start_date': '2023-05-26', 'end_date': '2023-07-08', 'games_missed': 0, 'completed': True}, {'id': 407343, 'player_id': 205, 'type_id': 536, 'category': 'injury', 'team_id': 2, 'season_id': None, 'start_date': '2009-03-05', 'end_date': '2009-09-09', 'games_missed': 15, 'completed': True}, {'id': 87321, 'player_id': 872, 'type_id': 671, 'category': 'injury', 'team_id': 2, 'season_id': None, 'start_date': '2020-10-04', 'end_date': '2021-02-04', 'games_missed': 23, 'completed': True}, {'id': 447304, 'player_id': 61107, 'type_id': 1612, 'category': 'suspended', 'team_id': 2, 'season_id': None, 'start_date': '2020-08-26', 'end_date': '2020-08-30', 'games_missed': 0, 'completed': True}, {'id': 83090, 'player_id': 2299, 'type_id': 1567, 'category': 'injury', 'team_id': 2, 'season_id': None, 'start_date': '2020-01-11', 'end_date': '2020-06-06', 'games_missed': 11, 'completed': True}, {'id': 83093, 'player_id': 2299, 'type_id': 1973, 'category': 'injury', 'team_id': 2, 'season_id': None, 'start_date': '2020-06-21', 'end_date': '2020-08-21', 'games_missed': 8, 'completed': True}, {'id': 431639, 'player_id': 2285, 'type_id': 1610, 'category': 'suspended', 'team_id': 2, 'season_id': None, 'start_date': '2013-08-07', 'end_date': '2013-08-12', 'games_missed': 2, 'completed': True}, {'id': 259934, 'player_id': 6613, 'type_id': 587, 'category': 'injury', 'team_id': 2, 'season_id': None, 'start_date': '2023-05-26', 'end_date': '2024-05-03', 'games_missed': 56, 'completed': True}, {'id': 451894, 'player_id': 404, 'type_id': 1608, 'category': 'suspended', 'team_id': 2, 'season_id': None, 'start_date': '2010-12-28', 'end_date': '2011-01-09', 'games_missed': 3, 'completed': True}, {'id': 452320, 'player_id': 7636, 'type_id': 1611, 'category': 'suspended', 'team_id': 2, 'season_id': None, 'start_date': '2022-10-18', 'end_date': '2022-10-18', 'games_missed': 0, 'completed': True}, {'id': 439160, 'player_id': 272, 'type_id': 1615, 'category': 'suspended', 'team_id': 2, 'season_id': None, 'start_date': '2011-11-28', 'end_date': '2011-12-19', 'games_missed': 4, 'completed': True}, {'id': 447394, 'player_id': 7027, 'type_id': 561, 'category': 'suspended', 'team_id': 2, 'season_id': None, 'start_date': '2020-09-11', 'end_date': '2020-10-04', 'games_missed': 4, 'completed': True}, {'id': 456295, 'player_id': 214, 'type_id': 1610, 'category': 'suspended', 'team_id': 2, 'season_id': None, 'start_date': '2009-03-02', 'end_date': '2009-03-05', 'games_missed': 0, 'completed': True}, {'id': 447389, 'player_id': 7027, 'type_id': 561, 'category': 'suspended', 'team_id': 2, 'season_id': None, 'start_date': '2020-08-28', 'end_date': '2020-09-16', 'games_missed': 3, 'completed': True}, {'id': 493242, 'player_id': 807, 'type_id': 1610, 'category': 'suspended', 'team_id': 2, 'season_id': None, 'start_date': '2016-03-21', 'end_date': '2016-04-04', 'games_missed': 1, 'completed': True}, {'id': 492347, 'player_id': 3111, 'type_id': 1608, 'category': 'suspended', 'team_id': 2, 'season_id': None, 'start_date': '2016-12-27', 'end_date': '2017-01-09', 'games_missed': 3, 'completed': True}, {'id': 494852, 'player_id': 2536, 'type_id': 1611, 'category': 'suspended', 'team_id': 2, 'season_id': None, 'start_date': '2017-11-01', 'end_date': '2017-11-05', 'games_missed': 0, 'completed': True}, {'id': 496026, 'player_id': 872, 'type_id': 1608, 'category': 'suspended', 'team_id': 2, 'season_id': None, 'start_date': '2017-02-15', 'end_date': '2017-02-27', 'games_missed': 2, 'completed': True}, {'id': 467780, 'player_id': 537434, 'type_id': 1612, 'category': 'suspended', 'team_id': 2, 'season_id': None, 'start_date': '2020-10-16', 'end_date': '2020-10-18', 'games_missed': 0, 'completed': True}, {'id': 501571, 'player_id': 23269836, 'type_id': 1612, 'category': 'suspended', 'team_id': 2, 'season_id': None, 'start_date': '2020-10-16', 'end_date': '2020-10-18', 'games_missed': 0, 'completed': True}, {'id': 470630, 'player_id': 7835, 'type_id': 1608, 'category': 'suspended', 'team_id': 2, 'season_id': None, 'start_date': '2020-07-01', 'end_date': '2020-07-13', 'games_missed': 3, 'completed': True}, {'id': 469337, 'player_id': 2299, 'type_id': 1611, 'category': 'suspended', 'team_id': 2, 'season_id': None, 'start_date': '2018-11-05', 'end_date': '2018-11-12', 'games_missed': 1, 'completed': True}, {'id': 506071, 'player_id': 24818803, 'type_id': 1608, 'category': 'suspended', 'team_id': 2, 'season_id': None, 'start_date': '2021-11-04', 'end_date': '2021-11-25', 'games_missed': 2, 'completed': True}, {'id': 479091, 'player_id': 1502, 'type_id': 1611, 'category': 'suspended', 'team_id': 2, 'season_id': None, 'start_date': '2016-10-03', 'end_date': '2016-10-17', 'games_missed': 1, 'completed': True}, {'id': 510324, 'player_id': 2823545, 'type_id': 1610, 'category': 'suspended', 'team_id': 2, 'season_id': None, 'start_date': '2021-08-30', 'end_date': '2021-09-13', 'games_missed': 1, 'completed': True}, {'id': 72132, 'player_id': 3111, 'type_id': 1910, 'category': 'injury', 'team_id': 2, 'season_id': None, 'start_date': '2020-10-01', 'end_date': '2020-10-12', 'games_missed': 1, 'completed': True}, {'id': 569043, 'player_id': 2823545, 'type_id': 587, 'category': 'injury', 'team_id': 2, 'season_id': None, 'start_date': '2024-02-26', 'end_date': '2024-02-26', 'games_missed': None, 'completed': True}, {'id': 569044, 'player_id': 581160, 'type_id': 587, 'category': 'injury', 'team_id': 2, 'season_id': None, 'start_date': '2024-02-26', 'end_date': '2024-02-26', 'games_missed': None, 'completed': True}, {'id': 569046, 'player_id': 34455259, 'type_id': 1682, 'category': 'doubtful', 'team_id': 2, 'season_id': None, 'start_date': '2024-02-27', 'end_date': '2024-02-26', 'games_missed': None, 'completed': True}, {'id': 496044, 'player_id': 872, 'type_id': 1611, 'category': 'suspended', 'team_id': 2, 'season_id': None, 'start_date': '2018-11-26', 'end_date': '2018-11-29', 'games_missed': 0, 'completed': True}, {'id': 496041, 'player_id': 872, 'type_id': 1608, 'category': 'suspended', 'team_id': 2, 'season_id': None, 'start_date': '2017-12-04', 'end_date': '2017-12-25', 'games_missed': 4, 'completed': True}, {'id': 56983, 'player_id': 3179, 'type_id': 1936, 'category': 'injury', 'team_id': 2, 'season_id': None, 'start_date': '2020-11-04', 'end_date': '2020-11-24', 'games_missed': 2, 'completed': True}, {'id': 429608, 'player_id': 428, 'type_id': 1610, 'category': 'suspended', 'team_id': 2, 'season_id': None, 'start_date': '2008-11-23', 'end_date': '2008-12-02', 'games_missed': 2, 'completed': True}, {'id': 432132, 'player_id': 3405, 'type_id': 1608, 'category': 'suspended', 'team_id': 2, 'season_id': None, 'start_date': '2017-10-22', 'end_date': '2017-11-05', 'games_missed': 2, 'completed': True}, {'id': 446518, 'player_id': 25747, 'type_id': 1612, 'category': 'suspended', 'team_id': 2, 'season_id': None, 'start_date': '2020-10-16', 'end_date': '2020-10-18', 'games_missed': 0, 'completed': True}, {'id': 407340, 'player_id': 205, 'type_id': 2015, 'category': 'injury', 'team_id': 2, 'season_id': None, 'start_date': '2008-10-06', 'end_date': '2008-10-19', 'games_missed': 0, 'completed': True}, {'id': 407341, 'player_id': 205, 'type_id': 2015, 'category': 'injury', 'team_id': 2, 'season_id': None, 'start_date': '2008-10-26', 'end_date': '2008-11-15', 'games_missed': 4, 'completed': True}, {'id': 469334, 'player_id': 2299, 'type_id': 1611, 'category': 'suspended', 'team_id': 2, 'season_id': None, 'start_date': '2017-11-09', 'end_date': '2017-11-13', 'games_missed': 0, 'completed': True}, {'id': 469316, 'player_id': 2299, 'type_id': 1611, 'category': 'suspended', 'team_id': 2, 'season_id': None, 'start_date': '2014-12-29', 'end_date': '2015-01-05', 'games_missed': 1, 'completed': True}, {'id': 49455, 'player_id': 1246, 'type_id': 2030, 'category': 'injury', 'team_id': 2, 'season_id': None, 'start_date': '2021-02-06', 'end_date': '2021-03-17', 'games_missed': 10, 'completed': True}, {'id': 594473, 'player_id': 61107, 'type_id': 537, 'category': 'injury', 'team_id': 2, 'season_id': None, 'start_date': '2023-01-22', 'end_date': '2023-03-18', 'games_missed': 12, 'completed': True}, {'id': 672848, 'player_id': 37565028, 'type_id': 537, 'category': 'injury', 'team_id': 2, 'season_id': None, 'start_date': '2024-10-10', 'end_date': '2024-11-26', 'games_missed': 6, 'completed': True}, {'id': 651467, 'player_id': 24081647, 'type_id': 1608, 'category': 'suspended', 'team_id': 2, 'season_id': None, 'start_date': '2024-09-22', 'end_date': '2024-10-06', 'games_missed': 3, 'completed': True}, {'id': 673603, 'player_id': 119181, 'type_id': 336, 'category': 'injury', 'team_id': 2, 'season_id': None, 'start_date': '2024-09-14', 'end_date': '2024-09-30', 'games_missed': 3, 'completed': True}, {'id': 673399, 'player_id': 2823545, 'type_id': 540, 'category': 'injury', 'team_id': 2, 'season_id': None, 'start_date': '2024-10-23', 'end_date': None, 'games_missed': 37, 'completed': False}, {'id': 697681, 'player_id': 37526157, 'type_id': 535, 'category': 'injury', 'team_id': 2, 'season_id': None, 'start_date': '2024-04-04', 'end_date': '2024-04-18', 'games_missed': 3, 'completed': True}, {'id': 698092, 'player_id': 21820095, 'type_id': 537, 'category': 'injury', 'team_id': 2, 'season_id': None, 'start_date': '2025-01-03', 'end_date': '2025-02-16', 'games_missed': 10, 'completed': True}, {'id': 703623, 'player_id': 339, 'type_id': 540, 'category': 'injury', 'team_id': 2, 'season_id': None, 'start_date': '2025-03-07', 'end_date': None, 'games_missed': 10, 'completed': False}, {'id': 705574, 'player_id': 23697536, 'type_id': 709, 'category': 'injury', 'team_id': 2, 'season_id': None, 'start_date': '2023-08-12', 'end_date': '2023-09-20', 'games_missed': 6, 'completed': True}, {'id': 705310, 'player_id': 8018, 'type_id': 687, 'category': 'injury', 'team_id': 2, 'season_id': None, 'start_date': '2024-08-25', 'end_date': '2024-08-30', 'games_missed': 1, 'completed': True}, {'id': 705364, 'player_id': 5241, 'type_id': 587, 'category': 'injury', 'team_id': 2, 'season_id': None, 'start_date': '2019-08-12', 'end_date': '2019-09-09', 'games_missed': 6, 'completed': True}, {'id': 705311, 'player_id': 8018, 'type_id': 536, 'category': 'injury', 'team_id': 2, 'season_id': None, 'start_date': '2024-09-01', 'end_date': '2024-10-18', 'games_missed': 5, 'completed': True}, {'id': 673560, 'player_id': 119181, 'type_id': 1991, 'category': 'injury', 'team_id': 2, 'season_id': None, 'start_date': '2024-11-01', 'end_date': '2025-03-18', 'games_missed': 28, 'completed': True}, {'id': 6972, 'player_id': 9258, 'type_id': 535, 'category': 'injury', 'team_id': 2, 'season_id': None, 'start_date': '2017-10-29', 'end_date': '2018-07-29', 'games_missed': None, 'completed': True}, {'id': 510970, 'player_id': 2823546, 'type_id': 1608, 'category': 'suspended', 'team_id': 2, 'season_id': None, 'start_date': '2020-03-09', 'end_date': '2020-07-01', 'games_missed': 2, 'completed': True}, {'id': 468711, 'player_id': 155323, 'type_id': 1612, 'category': 'suspended', 'team_id': 2, 'season_id': None, 'start_date': '2020-10-16', 'end_date': '2020-10-18', 'games_missed': 0, 'completed': True}, {'id': 469312, 'player_id': 2299, 'type_id': 1611, 'category': 'suspended', 'team_id': 2, 'season_id': None, 'start_date': '2014-10-02', 'end_date': '2014-10-06', 'games_missed': 1, 'completed': True}, {'id': 469320, 'player_id': 2299, 'type_id': 1611, 'category': 'suspended', 'team_id': 2, 'season_id': None, 'start_date': '2015-11-02', 'end_date': '2015-11-05', 'games_missed': 1, 'completed': True}, {'id': 469326, 'player_id': 2299, 'type_id': 1611, 'category': 'suspended', 'team_id': 2, 'season_id': None, 'start_date': '2016-03-17', 'end_date': '2016-04-04', 'games_missed': 2, 'completed': True}, {'id': 470633, 'player_id': 7835, 'type_id': 1611, 'category': 'suspended', 'team_id': 2, 'season_id': None, 'start_date': '2021-11-13', 'end_date': '2021-11-18', 'games_missed': 0, 'completed': True}, {'id': 710030, 'player_id': 537434, 'type_id': 549, 'category': 'injury', 'team_id': 2, 'season_id': None, 'start_date': '2023-10-02', 'end_date': '2024-01-12', 'games_missed': 19, 'completed': True}, {'id': 475984, 'player_id': 925, 'type_id': 1611, 'category': 'suspended', 'team_id': 2, 'season_id': None, 'start_date': '2020-11-23', 'end_date': '2020-11-25', 'games_missed': 0, 'completed': True}, {'id': 479077, 'player_id': 1502, 'type_id': 1611, 'category': 'suspended', 'team_id': 2, 'season_id': None, 'start_date': '2012-02-11', 'end_date': '2012-03-03', 'games_missed': 2, 'completed': True}, {'id': 479084, 'player_id': 1502, 'type_id': 1611, 'category': 'suspended', 'team_id': 2, 'season_id': None, 'start_date': '2013-12-30', 'end_date': '2014-01-02', 'games_missed': 0, 'completed': True}, {'id': 479099, 'player_id': 1502, 'type_id': 1611, 'category': 'suspended', 'team_id': 2, 'season_id': None, 'start_date': '2016-12-19', 'end_date': '2017-01-01', 'games_missed': 1, 'completed': True}, {'id': 488610, 'player_id': 8485, 'type_id': 1610, 'category': 'suspended', 'team_id': 2, 'season_id': None, 'start_date': '2019-12-12', 'end_date': '2019-12-16', 'games_missed': 1, 'completed': True}, {'id': 491352, 'player_id': 1415, 'type_id': 1608, 'category': 'suspended', 'team_id': 2, 'season_id': None, 'start_date': '2016-04-04', 'end_date': '2016-04-07', 'games_missed': 1, 'completed': True}, {'id': 491349, 'player_id': 14119, 'type_id': 1608, 'category': 'suspended', 'team_id': 2, 'season_id': None, 'start_date': '2023-08-19', 'end_date': '2023-08-28', 'games_missed': 1, 'completed': True}, {'id': 491361, 'player_id': 1415, 'type_id': 1610, 'category': 'suspended', 'team_id': 2, 'season_id': None, 'start_date': '2016-08-18', 'end_date': '2016-08-22', 'games_missed': 1, 'completed': True}, {'id': 492341, 'player_id': 3111, 'type_id': 1611, 'category': 'suspended', 'team_id': 2, 'season_id': None, 'start_date': '2016-03-29', 'end_date': '2016-09-05', 'games_missed': 22, 'completed': True}, {'id': 492357, 'player_id': 3111, 'type_id': 1608, 'category': 'suspended', 'team_id': 2, 'season_id': None, 'start_date': '2020-12-07', 'end_date': '2020-12-10', 'games_missed': 0, 'completed': True}, {'id': 492352, 'player_id': 3111, 'type_id': 1611, 'category': 'suspended', 'team_id': 2, 'season_id': None, 'start_date': '2020-02-27', 'end_date': '2020-03-09', 'games_missed': 1, 'completed': True}, {'id': 496032, 'player_id': 872, 'type_id': 1610, 'category': 'suspended', 'team_id': 2, 'season_id': None, 'start_date': '2017-10-29', 'end_date': '2017-10-31', 'games_missed': 0, 'completed': True}, {'id': 493230, 'player_id': 807, 'type_id': 1608, 'category': 'suspended', 'team_id': 2, 'season_id': None, 'start_date': '2013-10-06', 'end_date': '2013-11-04', 'games_missed': 4, 'completed': True}, {'id': 424574, 'player_id': 5706, 'type_id': 1611, 'category': 'suspended', 'team_id': 2, 'season_id': None, 'start_date': '2013-12-04', 'end_date': '2013-12-09', 'games_missed': 1, 'completed': True}, {'id': 426492, 'player_id': 3179, 'type_id': 1608, 'category': 'suspended', 'team_id': 2, 'season_id': None, 'start_date': '2019-02-18', 'end_date': '2019-03-04', 'games_missed': 2, 'completed': True}, {'id': 426484, 'player_id': 3179, 'type_id': 1608, 'category': 'suspended', 'team_id': 2, 'season_id': None, 'start_date': '2018-09-26', 'end_date': '2018-10-01', 'games_missed': 1, 'completed': True}, {'id': 431642, 'player_id': 2285, 'type_id': 1610, 'category': 'suspended', 'team_id': 2, 'season_id': None, 'start_date': '2014-11-24', 'end_date': '2014-12-01', 'games_missed': 1, 'completed': True}]",
         "37",
         "4",
         "2",
         "0",
         "2",
         "80"
        ],
        [
         "2",
         "3",
         "1",
         "462.0",
         "212.0",
         "male",
         "Sunderland",
         "SUN",
         "https://cdn.sportmonks.com/images/soccer/teams/3/3.png",
         "1879.0",
         "domestic",
         "False",
         "2025-04-26 14:00:00",
         "Football",
         "football",
         "[{'id': 415, 'player_id': 784, 'type_id': 537, 'category': 'injury', 'team_id': 3, 'season_id': None, 'start_date': '2012-01-04', 'end_date': '2012-02-01', 'games_missed': 3, 'completed': True}, {'id': 481, 'player_id': 627, 'type_id': 533, 'category': 'injury', 'team_id': 3, 'season_id': None, 'start_date': '2011-01-06', 'end_date': '2011-01-27', 'games_missed': 3, 'completed': True}, {'id': 520, 'player_id': 629, 'type_id': 537, 'category': 'injury', 'team_id': 3, 'season_id': None, 'start_date': '2008-11-14', 'end_date': '2008-12-06', 'games_missed': 3, 'completed': True}, {'id': 548, 'player_id': 313, 'type_id': 540, 'category': 'injury', 'team_id': 3, 'season_id': None, 'start_date': '2011-04-20', 'end_date': '2012-01-01', 'games_missed': 24, 'completed': True}, {'id': 555, 'player_id': 473, 'type_id': 537, 'category': 'injury', 'team_id': 3, 'season_id': None, 'start_date': '2013-03-22', 'end_date': '2013-08-26', 'games_missed': 10, 'completed': True}, {'id': 557, 'player_id': 473, 'type_id': 545, 'category': 'injury', 'team_id': 3, 'season_id': None, 'start_date': '2013-09-21', 'end_date': '2013-10-16', 'games_missed': 4, 'completed': True}, {'id': 558, 'player_id': 473, 'type_id': 537, 'category': 'injury', 'team_id': 3, 'season_id': None, 'start_date': '2015-04-20', 'end_date': '2015-05-09', 'games_missed': 2, 'completed': True}, {'id': 607, 'player_id': 411, 'type_id': 531, 'category': 'injury', 'team_id': 3, 'season_id': None, 'start_date': '2015-12-31', 'end_date': '2016-01-12', 'games_missed': 2, 'completed': True}, {'id': 610, 'player_id': 411, 'type_id': 535, 'category': 'injury', 'team_id': 3, 'season_id': None, 'start_date': '2016-11-03', 'end_date': '2016-12-31', 'games_missed': 8, 'completed': True}, {'id': 661, 'player_id': 35, 'type_id': 533, 'category': 'injury', 'team_id': 3, 'season_id': None, 'start_date': '2009-09-10', 'end_date': '2009-09-21', 'games_missed': 2, 'completed': True}, {'id': 659, 'player_id': 35, 'type_id': 537, 'category': 'injury', 'team_id': 3, 'season_id': None, 'start_date': '2008-12-11', 'end_date': '2009-01-15', 'games_missed': 6, 'completed': True}, {'id': 665, 'player_id': 35, 'type_id': 536, 'category': 'injury', 'team_id': 3, 'season_id': None, 'start_date': '2012-04-30', 'end_date': '2014-06-30', 'games_missed': 97, 'completed': True}, {'id': 663, 'player_id': 35, 'type_id': 540, 'category': 'injury', 'team_id': 3, 'season_id': None, 'start_date': '2011-04-18', 'end_date': '2012-01-02', 'games_missed': 24, 'completed': True}, {'id': 830, 'player_id': 361, 'type_id': 537, 'category': 'injury', 'team_id': 3, 'season_id': None, 'start_date': '2008-09-26', 'end_date': '2008-10-01', 'games_missed': 4, 'completed': True}, {'id': 813, 'player_id': 712, 'type_id': 545, 'category': 'injury', 'team_id': 3, 'season_id': None, 'start_date': '2014-11-03', 'end_date': '2015-01-01', 'games_missed': 10, 'completed': True}, {'id': 831, 'player_id': 361, 'type_id': 536, 'category': 'injury', 'team_id': 3, 'season_id': None, 'start_date': '2011-03-20', 'end_date': '2011-04-10', 'games_missed': 2, 'completed': True}, {'id': 940, 'player_id': 581062, 'type_id': 535, 'category': 'injury', 'team_id': 3, 'season_id': None, 'start_date': '2021-12-21', 'end_date': '2022-04-01', 'games_missed': 17, 'completed': True}, {'id': 961, 'player_id': 5999, 'type_id': 545, 'category': 'injury', 'team_id': 3, 'season_id': None, 'start_date': '2021-11-27', 'end_date': '2022-03-07', 'games_missed': 21, 'completed': True}, {'id': 2312, 'player_id': 1329, 'type_id': 545, 'category': 'injury', 'team_id': 3, 'season_id': None, 'start_date': '2017-11-19', 'end_date': '2018-01-25', 'games_missed': 12, 'completed': True}, {'id': 2535, 'player_id': 821, 'type_id': 537, 'category': 'injury', 'team_id': 3, 'season_id': None, 'start_date': '2016-09-24', 'end_date': '2016-11-05', 'games_missed': 6, 'completed': True}, {'id': 2561, 'player_id': 822, 'type_id': 537, 'category': 'injury', 'team_id': 3, 'season_id': None, 'start_date': '2013-02-06', 'end_date': '2013-02-23', 'games_missed': 1, 'completed': True}, {'id': 2842, 'player_id': 1187, 'type_id': 553, 'category': 'injury', 'team_id': 3, 'season_id': None, 'start_date': '2016-02-02', 'end_date': '2016-03-05', 'games_missed': 5, 'completed': True}, {'id': 3024, 'player_id': 1189, 'type_id': 535, 'category': 'injury', 'team_id': 3, 'season_id': None, 'start_date': '2014-09-23', 'end_date': '2014-11-10', 'games_missed': 6, 'completed': True}, {'id': 3179, 'player_id': 1256, 'type_id': 535, 'category': 'injury', 'team_id': 3, 'season_id': None, 'start_date': '2017-04-09', 'end_date': '2017-05-13', 'games_missed': 5, 'completed': True}, {'id': 3191, 'player_id': 1001, 'type_id': 557, 'category': 'injury', 'team_id': 3, 'season_id': None, 'start_date': '2016-11-19', 'end_date': '2017-11-09', 'games_missed': 56, 'completed': True}, {'id': 3223, 'player_id': 841, 'type_id': 536, 'category': 'injury', 'team_id': 3, 'season_id': None, 'start_date': '2011-11-06', 'end_date': '2011-12-10', 'games_missed': 3, 'completed': True}, {'id': 3246, 'player_id': 905, 'type_id': 549, 'category': 'injury', 'team_id': 3, 'season_id': None, 'start_date': '2019-04-28', 'end_date': '2019-05-19', 'games_missed': 4, 'completed': True}, {'id': 3249, 'player_id': 905, 'type_id': 536, 'category': 'injury', 'team_id': 3, 'season_id': None, 'start_date': '2021-11-24', 'end_date': '2022-01-12', 'games_missed': 10, 'completed': True}, {'id': 4103, 'player_id': 1552672, 'type_id': 553, 'category': 'injury', 'team_id': 3, 'season_id': None, 'start_date': '2008-09-06', 'end_date': '2008-12-26', 'games_missed': 17, 'completed': True}, {'id': 5458, 'player_id': 23697537, 'type_id': 548, 'category': 'injury', 'team_id': 3, 'season_id': None, 'start_date': '2021-11-21', 'end_date': '2021-12-20', 'games_missed': 7, 'completed': True}, {'id': 7771, 'player_id': 37391787, 'type_id': 587, 'category': 'injury', 'team_id': 3, 'season_id': None, 'start_date': '2021-11-21', 'end_date': '2022-01-03', 'games_missed': 10, 'completed': True}, {'id': 11408, 'player_id': 1487, 'type_id': 535, 'category': 'injury', 'team_id': 3, 'season_id': None, 'start_date': '2016-12-26', 'end_date': '2017-01-06', 'games_missed': 3, 'completed': True}, {'id': 12342, 'player_id': 847, 'type_id': 545, 'category': 'injury', 'team_id': 3, 'season_id': None, 'start_date': '2013-11-21', 'end_date': '2014-06-30', 'games_missed': 35, 'completed': True}, {'id': 543321, 'player_id': 23697537, 'type_id': 554, 'category': 'injury', 'team_id': 3, 'season_id': None, 'start_date': '2022-09-07', 'end_date': '2022-10-05', 'games_missed': 3, 'completed': True}, {'id': 543322, 'player_id': 23697537, 'type_id': 587, 'category': 'injury', 'team_id': 3, 'season_id': None, 'start_date': '2022-11-10', 'end_date': '2022-11-20', 'games_missed': 1, 'completed': True}, {'id': 543323, 'player_id': 23697537, 'type_id': 536, 'category': 'injury', 'team_id': 3, 'season_id': None, 'start_date': '2022-12-27', 'end_date': '2023-02-01', 'games_missed': 6, 'completed': True}, {'id': 543324, 'player_id': 23697537, 'type_id': 630, 'category': 'injury', 'team_id': 3, 'season_id': None, 'start_date': '2023-02-05', 'end_date': '2023-02-12', 'games_missed': 1, 'completed': True}, {'id': 543325, 'player_id': 23697537, 'type_id': 550, 'category': 'injury', 'team_id': 3, 'season_id': None, 'start_date': '2023-02-22', 'end_date': '2023-03-26', 'games_missed': 5, 'completed': True}, {'id': 14692, 'player_id': 1778, 'type_id': 537, 'category': 'injury', 'team_id': 3, 'season_id': None, 'start_date': '2016-11-28', 'end_date': '2017-01-29', 'games_missed': 11, 'completed': True}, {'id': 16720, 'player_id': 1826, 'type_id': 536, 'category': 'injury', 'team_id': 3, 'season_id': None, 'start_date': '2016-12-26', 'end_date': '2017-02-27', 'games_missed': 10, 'completed': True}, {'id': 18332, 'player_id': 4148, 'type_id': 536, 'category': 'injury', 'team_id': 3, 'season_id': None, 'start_date': '2014-10-01', 'end_date': '2014-11-28', 'games_missed': 6, 'completed': True}, {'id': 18336, 'player_id': 4148, 'type_id': 536, 'category': 'injury', 'team_id': 3, 'season_id': None, 'start_date': '2015-03-14', 'end_date': '2015-06-01', 'games_missed': 10, 'completed': True}, {'id': 102412, 'player_id': 2875848, 'type_id': 549, 'category': 'injury', 'team_id': 3, 'season_id': None, 'start_date': '2022-12-25', 'end_date': '2023-01-14', 'games_missed': 4, 'completed': True}, {'id': 20974, 'player_id': 1494231, 'type_id': 587, 'category': 'injury', 'team_id': 3, 'season_id': None, 'start_date': '2021-11-21', 'end_date': '2021-12-17', 'games_missed': 6, 'completed': True}, {'id': 641414, 'player_id': 23680764, 'type_id': 1610, 'category': 'suspended', 'team_id': 3, 'season_id': None, 'start_date': '2024-08-24', 'end_date': '2024-09-01', 'games_missed': 1, 'completed': True}, {'id': 34835, 'player_id': 1799, 'type_id': 537, 'category': 'injury', 'team_id': 3, 'season_id': None, 'start_date': '2016-02-06', 'end_date': '2016-04-15', 'games_missed': 8, 'completed': True}, {'id': 34839, 'player_id': 1799, 'type_id': 536, 'category': 'injury', 'team_id': 3, 'season_id': None, 'start_date': '2016-12-03', 'end_date': '2017-09-15', 'games_missed': 44, 'completed': True}, {'id': 34845, 'player_id': 1799, 'type_id': 536, 'category': 'injury', 'team_id': 3, 'season_id': None, 'start_date': '2017-11-18', 'end_date': '2018-11-25', 'games_missed': 57, 'completed': True}, {'id': 34849, 'player_id': 1799, 'type_id': 537, 'category': 'injury', 'team_id': 3, 'season_id': None, 'start_date': '2019-03-02', 'end_date': '2019-05-15', 'games_missed': 16, 'completed': True}, {'id': 38780, 'player_id': 526225, 'type_id': 538, 'category': 'injury', 'team_id': 3, 'season_id': None, 'start_date': '2022-01-01', 'end_date': '2022-01-14', 'games_missed': 2, 'completed': True}, {'id': 73285, 'player_id': 629, 'type_id': 557, 'category': 'injury', 'team_id': 3, 'season_id': None, 'start_date': '2008-09-26', 'end_date': '2008-10-24', 'games_missed': 3, 'completed': True}, {'id': 73632, 'player_id': 6983785, 'type_id': 650, 'category': 'injury', 'team_id': 3, 'season_id': None, 'start_date': '2015-05-02', 'end_date': '2015-05-16', 'games_missed': 2, 'completed': True}, {'id': 578768, 'player_id': 10310765, 'type_id': 537, 'category': 'injury', 'team_id': 3, 'season_id': None, 'start_date': '2024-02-17', 'end_date': '2024-03-31', 'games_missed': 7, 'completed': True}, {'id': 49844, 'player_id': 1189, 'type_id': 535, 'category': 'injury', 'team_id': 3, 'season_id': None, 'start_date': '2014-09-22', 'end_date': '2014-11-10', 'games_missed': 6, 'completed': True}, {'id': 63869, 'player_id': 5696, 'type_id': 2091, 'category': 'injury', 'team_id': 3, 'season_id': None, 'start_date': '2021-02-09', 'end_date': '2023-01-01', 'games_missed': 122, 'completed': True}, {'id': 63041, 'player_id': 6983785, 'type_id': 605, 'category': 'injury', 'team_id': 3, 'season_id': None, 'start_date': '2016-08-21', 'end_date': '2016-09-09', 'games_missed': 3, 'completed': True}, {'id': 64174, 'player_id': 411, 'type_id': 532, 'category': 'injury', 'team_id': 3, 'season_id': None, 'start_date': '2017-04-28', 'end_date': '2017-05-05', 'games_missed': 1, 'completed': True}, {'id': 64210, 'player_id': 833, 'type_id': 339, 'category': 'injury', 'team_id': 3, 'season_id': None, 'start_date': '2016-08-27', 'end_date': '2016-12-09', 'games_missed': 14, 'completed': True}, {'id': 48470, 'player_id': 460311, 'type_id': 687, 'category': 'injury', 'team_id': 3, 'season_id': None, 'start_date': '2008-03-14', 'end_date': '2008-05-31', 'games_missed': 9, 'completed': True}, {'id': 103520, 'player_id': 5271, 'type_id': 587, 'category': 'injury', 'team_id': 3, 'season_id': None, 'start_date': '2020-08-23', 'end_date': '2020-10-25', 'games_missed': 11, 'completed': True}, {'id': 103518, 'player_id': 5271, 'type_id': 1987, 'category': 'injury', 'team_id': 3, 'season_id': None, 'start_date': '2022-12-18', 'end_date': '2023-09-05', 'games_missed': 39, 'completed': True}, {'id': 65330, 'player_id': 538285, 'type_id': 557, 'category': 'injury', 'team_id': 3, 'season_id': None, 'start_date': '2020-10-06', 'end_date': '2021-10-06', 'games_missed': 71, 'completed': True}, {'id': 68295, 'player_id': 822, 'type_id': 339, 'category': 'injury', 'team_id': 3, 'season_id': None, 'start_date': '2012-10-06', 'end_date': '2012-10-20', 'games_missed': 1, 'completed': True}, {'id': 66310, 'player_id': 1201, 'type_id': 1955, 'category': 'injury', 'team_id': 3, 'season_id': None, 'start_date': '2015-08-25', 'end_date': '2015-10-26', 'games_missed': 8, 'completed': True}, {'id': 70506, 'player_id': 35, 'type_id': 1950, 'category': 'injury', 'team_id': 3, 'season_id': None, 'start_date': '2010-07-15', 'end_date': '2010-09-16', 'games_missed': 5, 'completed': True}, {'id': 100743, 'player_id': 774, 'type_id': 1911, 'category': 'injury', 'team_id': 3, 'season_id': None, 'start_date': '2013-03-17', 'end_date': '2013-03-30', 'games_missed': 1, 'completed': True}, {'id': 101215, 'player_id': 175530, 'type_id': 535, 'category': 'injury', 'team_id': 3, 'season_id': None, 'start_date': '2022-09-05', 'end_date': '2022-12-07', 'games_missed': 15, 'completed': True}, {'id': 523963, 'player_id': 8485, 'type_id': 533, 'category': 'injury', 'team_id': 3, 'season_id': None, 'start_date': '2023-09-02', 'end_date': '2023-11-04', 'games_missed': 10, 'completed': True}, {'id': 207066, 'player_id': 12433171, 'type_id': 535, 'category': 'injury', 'team_id': 3, 'season_id': None, 'start_date': '2023-03-26', 'end_date': '2023-07-03', 'games_missed': 10, 'completed': True}, {'id': 102262, 'player_id': 2875848, 'type_id': 537, 'category': 'injury', 'team_id': 3, 'season_id': None, 'start_date': '2022-10-18', 'end_date': '2022-11-28', 'games_missed': 7, 'completed': True}, {'id': 417088, 'player_id': 37578963, 'type_id': 595, 'category': 'injury', 'team_id': 3, 'season_id': None, 'start_date': '2023-08-26', 'end_date': '2023-09-02', 'games_missed': 1, 'completed': True}, {'id': 75627, 'player_id': 833, 'type_id': 673, 'category': 'injury', 'team_id': 3, 'season_id': None, 'start_date': '2016-08-18', 'end_date': '2016-08-26', 'games_missed': 2, 'completed': True}, {'id': 75622, 'player_id': 833, 'type_id': 759, 'category': 'injury', 'team_id': 3, 'season_id': None, 'start_date': '2015-10-17', 'end_date': '2015-11-07', 'games_missed': 3, 'completed': True}, {'id': 77694, 'player_id': 1487, 'type_id': 1960, 'category': 'injury', 'team_id': 3, 'season_id': None, 'start_date': '2016-10-08', 'end_date': '2016-11-04', 'games_missed': 4, 'completed': True}, {'id': 78053, 'player_id': 847, 'type_id': 745, 'category': 'injury', 'team_id': 3, 'season_id': None, 'start_date': '2013-11-03', 'end_date': '2013-11-08', 'games_missed': 1, 'completed': True}, {'id': 657, 'player_id': 35, 'type_id': 537, 'category': 'injury', 'team_id': 3, 'season_id': None, 'start_date': '2008-10-23', 'end_date': '2008-11-27', 'games_missed': 7, 'completed': True}, {'id': 82432, 'player_id': 473, 'type_id': 661, 'category': 'injury', 'team_id': 3, 'season_id': None, 'start_date': '2014-09-19', 'end_date': '2014-09-26', 'games_missed': 2, 'completed': True}, {'id': 82459, 'player_id': 633, 'type_id': 1985, 'category': 'injury', 'team_id': 3, 'season_id': None, 'start_date': '2011-10-29', 'end_date': '2011-12-31', 'games_missed': 9, 'completed': True}, {'id': 528977, 'player_id': 176205, 'type_id': 537, 'category': 'injury', 'team_id': 3, 'season_id': None, 'start_date': '2008-12-11', 'end_date': '2009-01-15', 'games_missed': 6, 'completed': True}, {'id': 528978, 'player_id': 176205, 'type_id': 533, 'category': 'injury', 'team_id': 3, 'season_id': None, 'start_date': '2009-09-10', 'end_date': '2009-09-21', 'games_missed': 2, 'completed': True}, {'id': 528981, 'player_id': 176205, 'type_id': 540, 'category': 'injury', 'team_id': 3, 'season_id': None, 'start_date': '2011-04-18', 'end_date': '2012-01-02', 'games_missed': 24, 'completed': True}, {'id': 528979, 'player_id': 176205, 'type_id': 1950, 'category': 'injury', 'team_id': 3, 'season_id': None, 'start_date': '2009-11-09', 'end_date': '2010-01-25', 'games_missed': 11, 'completed': True}, {'id': 528980, 'player_id': 176205, 'type_id': 1950, 'category': 'injury', 'team_id': 3, 'season_id': None, 'start_date': '2010-07-15', 'end_date': '2010-09-16', 'games_missed': 5, 'completed': True}, {'id': 528976, 'player_id': 176205, 'type_id': 537, 'category': 'injury', 'team_id': 3, 'season_id': None, 'start_date': '2008-10-23', 'end_date': '2008-11-27', 'games_missed': 7, 'completed': True}, {'id': 528982, 'player_id': 176205, 'type_id': 536, 'category': 'injury', 'team_id': 3, 'season_id': None, 'start_date': '2012-04-30', 'end_date': '2014-06-30', 'games_missed': 97, 'completed': True}, {'id': 85884, 'player_id': 15076357, 'type_id': 673, 'category': 'injury', 'team_id': 3, 'season_id': None, 'start_date': '2022-09-14', 'end_date': '2022-10-24', 'games_missed': 8, 'completed': True}, {'id': 86533, 'player_id': 838, 'type_id': 755, 'category': 'injury', 'team_id': 3, 'season_id': None, 'start_date': '2016-08-23', 'end_date': '2016-11-18', 'games_missed': 12, 'completed': True}, {'id': 407386, 'player_id': 1778, 'type_id': 551, 'category': 'injury', 'team_id': 3, 'season_id': None, 'start_date': '2023-01-22', 'end_date': '2023-03-11', 'games_missed': 10, 'completed': True}, {'id': 407385, 'player_id': 1778, 'type_id': 551, 'category': 'injury', 'team_id': 3, 'season_id': None, 'start_date': '2023-01-20', 'end_date': '2023-03-10', 'games_missed': 10, 'completed': True}, {'id': 199151, 'player_id': 2875848, 'type_id': 533, 'category': 'injury', 'team_id': 3, 'season_id': None, 'start_date': '2023-03-04', 'end_date': '2023-05-14', 'games_missed': 14, 'completed': True}, {'id': 86961, 'player_id': 1256, 'type_id': 677, 'category': 'injury', 'team_id': 3, 'season_id': None, 'start_date': '2017-07-09', 'end_date': '2017-08-10', 'games_missed': 8, 'completed': True}, {'id': 407384, 'player_id': 1778, 'type_id': 587, 'category': 'injury', 'team_id': 3, 'season_id': None, 'start_date': '2022-12-28', 'end_date': '2023-01-06', 'games_missed': 2, 'completed': True}, {'id': 87586, 'player_id': 361, 'type_id': 667, 'category': 'injury', 'team_id': 3, 'season_id': None, 'start_date': '2012-02-29', 'end_date': '2012-03-05', 'games_missed': 0, 'completed': True}, {'id': 413471, 'player_id': 37322757, 'type_id': 540, 'category': 'injury', 'team_id': 3, 'season_id': None, 'start_date': '2023-07-25', 'end_date': '2023-12-08', 'games_missed': 22, 'completed': True}, {'id': 108626, 'player_id': 2299, 'type_id': 557, 'category': 'injury', 'team_id': 3, 'season_id': None, 'start_date': '2023-01-22', 'end_date': '2024-04-20', 'games_missed': 23, 'completed': True}, {'id': 70505, 'player_id': 35, 'type_id': 1950, 'category': 'injury', 'team_id': 3, 'season_id': None, 'start_date': '2009-11-09', 'end_date': '2010-01-25', 'games_missed': 11, 'completed': True}, {'id': 451916, 'player_id': 4148, 'type_id': 561, 'category': 'suspended', 'team_id': 3, 'season_id': None, 'start_date': '2015-07-01', 'end_date': '2015-12-31', 'games_missed': 20, 'completed': True}, {'id': 454873, 'player_id': 597, 'type_id': 1608, 'category': 'suspended', 'team_id': 3, 'season_id': None, 'start_date': '2017-04-10', 'end_date': '2017-04-27', 'games_missed': 1, 'completed': True}, {'id': 454693, 'player_id': 4821, 'type_id': 1613, 'category': 'suspended', 'team_id': 3, 'season_id': None, 'start_date': '2017-01-03', 'end_date': '2017-01-23', 'games_missed': 4, 'completed': True}, {'id': 407383, 'player_id': 1778, 'type_id': 587, 'category': 'injury', 'team_id': 3, 'season_id': None, 'start_date': '2022-10-16', 'end_date': '2022-12-02', 'games_missed': 7, 'completed': True}, {'id': 497859, 'player_id': 361, 'type_id': 1611, 'category': 'suspended', 'team_id': 3, 'season_id': None, 'start_date': '2014-04-12', 'end_date': '2014-04-20', 'games_missed': 2, 'completed': True}, {'id': 466199, 'player_id': 1818, 'type_id': 1613, 'category': 'suspended', 'team_id': 3, 'season_id': None, 'start_date': '2017-01-03', 'end_date': '2017-01-25', 'games_missed': 4, 'completed': True}, {'id': 719358, 'player_id': 5999, 'type_id': 1608, 'category': 'suspended', 'team_id': 3, 'season_id': None, 'start_date': '2023-01-15', 'end_date': '2023-02-04', 'games_missed': 2, 'completed': True}, {'id': 719359, 'player_id': 5999, 'type_id': 1611, 'category': 'suspended', 'team_id': 3, 'season_id': None, 'start_date': '2023-11-05', 'end_date': '2023-11-11', 'games_missed': 0, 'completed': True}, {'id': 537203, 'player_id': 537305, 'type_id': 1911, 'category': 'injury', 'team_id': 3, 'season_id': None, 'start_date': '2023-11-28', 'end_date': '2023-12-08', 'games_missed': 2, 'completed': True}, {'id': 470128, 'player_id': 411, 'type_id': 1610, 'category': 'suspended', 'team_id': 3, 'season_id': None, 'start_date': '2015-01-26', 'end_date': '2015-02-02', 'games_missed': 1, 'completed': True}, {'id': 462923, 'player_id': 1081, 'type_id': 1612, 'category': 'suspended', 'team_id': 3, 'season_id': None, 'start_date': '2015-09-03', 'end_date': '2016-01-01', 'games_missed': 16, 'completed': True}, {'id': 191722, 'player_id': 175530, 'type_id': 603, 'category': 'injury', 'team_id': 3, 'season_id': None, 'start_date': '2023-01-28', 'end_date': '2023-11-06', 'games_missed': 45, 'completed': True}, {'id': 573463, 'player_id': 23697537, 'type_id': 608, 'category': 'injury', 'team_id': 3, 'season_id': None, 'start_date': '2024-01-11', 'end_date': '2024-04-12', 'games_missed': 16, 'completed': True}, {'id': 445351, 'player_id': 1235, 'type_id': 1610, 'category': 'suspended', 'team_id': 3, 'season_id': None, 'start_date': '2015-01-11', 'end_date': '2015-01-18', 'games_missed': 0, 'completed': True}, {'id': 664269, 'player_id': 4223, 'type_id': 531, 'category': 'injury', 'team_id': 3, 'season_id': None, 'start_date': '2015-11-07', 'end_date': '2015-11-23', 'games_missed': 1, 'completed': True}, {'id': 418121, 'player_id': 1824, 'type_id': 1610, 'category': 'suspended', 'team_id': 3, 'season_id': None, 'start_date': '2016-10-10', 'end_date': '2017-06-19', 'games_missed': 34, 'completed': True}, {'id': 192910, 'player_id': 37578963, 'type_id': 2076, 'category': 'injury', 'team_id': 3, 'season_id': None, 'start_date': '2023-03-28', 'end_date': '2023-07-09', 'games_missed': 10, 'completed': True}, {'id': 476671, 'player_id': 1827, 'type_id': 1615, 'category': 'suspended', 'team_id': 3, 'season_id': None, 'start_date': '2017-01-27', 'end_date': '2017-02-26', 'games_missed': 3, 'completed': True}, {'id': 616656, 'player_id': 23680764, 'type_id': 537, 'category': 'injury', 'team_id': 3, 'season_id': None, 'start_date': '2024-04-20', 'end_date': '2024-06-30', 'games_missed': 3, 'completed': True}, {'id': 67969, 'player_id': 597, 'type_id': 1910, 'category': 'injury', 'team_id': 3, 'season_id': None, 'start_date': '2016-08-11', 'end_date': '2016-11-24', 'games_missed': 15, 'completed': True}, {'id': 87590, 'player_id': 361, 'type_id': 1973, 'category': 'injury', 'team_id': 3, 'season_id': None, 'start_date': '2013-08-12', 'end_date': '2013-10-17', 'games_missed': 9, 'completed': True}, {'id': 583655, 'player_id': 4277, 'type_id': 533, 'category': 'injury', 'team_id': 3, 'season_id': None, 'start_date': '2024-02-16', 'end_date': '2024-03-29', 'games_missed': 6, 'completed': True}, {'id': 573702, 'player_id': 8485, 'type_id': 533, 'category': 'injury', 'team_id': 3, 'season_id': None, 'start_date': '2023-12-28', 'end_date': '2024-03-16', 'games_missed': 14, 'completed': True}, {'id': 583939, 'player_id': 37337035, 'type_id': 552, 'category': 'injury', 'team_id': 3, 'season_id': None, 'start_date': '2022-11-01', 'end_date': '2022-12-20', 'games_missed': 7, 'completed': True}, {'id': 584744, 'player_id': 4277, 'type_id': 661, 'category': 'injury', 'team_id': 3, 'season_id': None, 'start_date': '2023-12-29', 'end_date': '2024-02-01', 'games_missed': 6, 'completed': True}, {'id': 584243, 'player_id': 37610895, 'type_id': 667, 'category': 'injury', 'team_id': 3, 'season_id': None, 'start_date': '2023-08-01', 'end_date': '2023-11-05', 'games_missed': 16, 'completed': True}, {'id': 626850, 'player_id': 12433171, 'type_id': 536, 'category': 'injury', 'team_id': 3, 'season_id': None, 'start_date': '2024-07-16', 'end_date': '2024-08-31', 'games_missed': 9, 'completed': True}, {'id': 601285, 'player_id': 537305, 'type_id': 532, 'category': 'injury', 'team_id': 3, 'season_id': None, 'start_date': '2024-03-15', 'end_date': '2024-04-04', 'games_missed': 3, 'completed': True}, {'id': 547833, 'player_id': 37391787, 'type_id': 540, 'category': 'injury', 'team_id': 3, 'season_id': None, 'start_date': '2023-12-26', 'end_date': None, 'games_missed': 24, 'completed': True}, {'id': 687808, 'player_id': 3449, 'type_id': 536, 'category': 'injury', 'team_id': 3, 'season_id': None, 'start_date': '2024-09-16', 'end_date': '2024-09-29', 'games_missed': 1, 'completed': True}, {'id': 608310, 'player_id': 37546753, 'type_id': 540, 'category': 'injury', 'team_id': 3, 'season_id': None, 'start_date': '2024-03-27', 'end_date': '2024-12-31', 'games_missed': 40, 'completed': True}, {'id': 714723, 'player_id': 2875848, 'type_id': 2046, 'category': 'injury', 'team_id': 3, 'season_id': None, 'start_date': '2025-01-11', 'end_date': None, 'games_missed': 20, 'completed': False}, {'id': 687777, 'player_id': 3449, 'type_id': 2046, 'category': 'injury', 'team_id': 3, 'season_id': None, 'start_date': '2024-11-09', 'end_date': '2025-02-13', 'games_missed': 18, 'completed': True}, {'id': 703573, 'player_id': 12433171, 'type_id': 535, 'category': 'injury', 'team_id': 3, 'season_id': None, 'start_date': '2025-02-24', 'end_date': None, 'games_missed': 11, 'completed': False}, {'id': 714797, 'player_id': 2875848, 'type_id': 533, 'category': 'injury', 'team_id': 3, 'season_id': None, 'start_date': '2023-06-01', 'end_date': '2023-12-15', 'games_missed': 29, 'completed': True}, {'id': 714799, 'player_id': 2875848, 'type_id': 537, 'category': 'injury', 'team_id': 3, 'season_id': None, 'start_date': '2024-08-26', 'end_date': '2024-11-10', 'games_missed': 11, 'completed': True}, {'id': 227, 'player_id': 313, 'type_id': 1918, 'category': 'injury', 'team_id': 3, 'season_id': None, 'start_date': '2010-08-31', 'end_date': '2011-03-20', 'games_missed': 28, 'completed': True}, {'id': 714798, 'player_id': 2875848, 'type_id': 537, 'category': 'injury', 'team_id': 3, 'season_id': None, 'start_date': '2024-01-15', 'end_date': '2024-03-20', 'games_missed': 11, 'completed': True}, {'id': 703612, 'player_id': 12433171, 'type_id': 537, 'category': 'injury', 'team_id': 3, 'season_id': None, 'start_date': '2024-09-25', 'end_date': '2024-11-03', 'games_missed': 6, 'completed': True}, {'id': 703613, 'player_id': 12433171, 'type_id': 554, 'category': 'injury', 'team_id': 3, 'season_id': None, 'start_date': '2024-12-24', 'end_date': '2025-01-10', 'games_missed': 4, 'completed': True}, {'id': 79245, 'player_id': 12433171, 'type_id': 1973, 'category': 'injury', 'team_id': 3, 'season_id': None, 'start_date': '2022-08-13', 'end_date': '2022-12-22', 'games_missed': 22, 'completed': True}, {'id': 72868, 'player_id': 841, 'type_id': 1935, 'category': 'injury', 'team_id': 3, 'season_id': None, 'start_date': '2014-09-23', 'end_date': '2014-09-26', 'games_missed': 1, 'completed': True}, {'id': 705834, 'player_id': 23697537, 'type_id': 2041, 'category': 'injury', 'team_id': 3, 'season_id': None, 'start_date': '2024-11-22', 'end_date': '2024-11-30', 'games_missed': 2, 'completed': True}, {'id': 707233, 'player_id': 23269647, 'type_id': 536, 'category': 'injury', 'team_id': 3, 'season_id': None, 'start_date': '2023-09-01', 'end_date': '2023-12-17', 'games_missed': 17, 'completed': True}, {'id': 61021, 'player_id': 24189, 'type_id': 2052, 'category': 'injury', 'team_id': 3, 'season_id': None, 'start_date': '2018-02-05', 'end_date': '2018-05-19', 'games_missed': 16, 'completed': True}, {'id': 469581, 'player_id': 2683, 'type_id': 1608, 'category': 'suspended', 'team_id': 3, 'season_id': None, 'start_date': '2018-03-12', 'end_date': '2018-03-18', 'games_missed': 0, 'completed': True}, {'id': 476666, 'player_id': 1827, 'type_id': 1610, 'category': 'suspended', 'team_id': 3, 'season_id': None, 'start_date': '2016-11-20', 'end_date': '2016-11-27', 'games_missed': 0, 'completed': True}, {'id': 703808, 'player_id': 24816771, 'type_id': 1611, 'category': 'suspended', 'team_id': 3, 'season_id': None, 'start_date': '2024-11-10', 'end_date': '2024-11-23', 'games_missed': 0, 'completed': True}, {'id': 483162, 'player_id': 4223, 'type_id': 1608, 'category': 'suspended', 'team_id': 3, 'season_id': None, 'start_date': '2015-08-18', 'end_date': '2015-09-21', 'games_missed': 5, 'completed': True}, {'id': 484343, 'player_id': 1476, 'type_id': 1610, 'category': 'suspended', 'team_id': 3, 'season_id': None, 'start_date': '2017-12-04', 'end_date': '2017-12-11', 'games_missed': 1, 'completed': True}, {'id': 490881, 'player_id': 774, 'type_id': 1608, 'category': 'suspended', 'team_id': 3, 'season_id': None, 'start_date': '2012-03-04', 'end_date': '2012-03-20', 'games_missed': 3, 'completed': True}, {'id': 498616, 'player_id': 841, 'type_id': 1611, 'category': 'suspended', 'team_id': 3, 'season_id': None, 'start_date': '2014-12-22', 'end_date': '2014-12-27', 'games_missed': 0, 'completed': True}, {'id': 422410, 'player_id': 833, 'type_id': 1612, 'category': 'suspended', 'team_id': 3, 'season_id': None, 'start_date': '2013-09-25', 'end_date': '2013-10-01', 'games_missed': 1, 'completed': True}, {'id': 696449, 'player_id': 339083, 'type_id': 1608, 'category': 'suspended', 'team_id': 3, 'season_id': None, 'start_date': '2024-11-30', 'end_date': '2024-12-07', 'games_missed': 0, 'completed': True}, {'id': 429717, 'player_id': 4620, 'type_id': 1610, 'category': 'suspended', 'team_id': 3, 'season_id': None, 'start_date': '2018-03-19', 'end_date': '2018-04-04', 'games_missed': 2, 'completed': True}, {'id': 429709, 'player_id': 4620, 'type_id': 1608, 'category': 'suspended', 'team_id': 3, 'season_id': None, 'start_date': '2018-02-26', 'end_date': '2018-03-12', 'games_missed': 3, 'completed': True}]",
         "28",
         "7",
         "2",
         "0",
         "2",
         "79"
        ]
       ],
       "shape": {
        "columns": 21,
        "rows": 3
       }
      },
      "text/html": [
       "<div>\n",
       "<style scoped>\n",
       "    .dataframe tbody tr th:only-of-type {\n",
       "        vertical-align: middle;\n",
       "    }\n",
       "\n",
       "    .dataframe tbody tr th {\n",
       "        vertical-align: top;\n",
       "    }\n",
       "\n",
       "    .dataframe thead th {\n",
       "        text-align: right;\n",
       "    }\n",
       "</style>\n",
       "<table border=\"1\" class=\"dataframe\">\n",
       "  <thead>\n",
       "    <tr style=\"text-align: right;\">\n",
       "      <th></th>\n",
       "      <th>id</th>\n",
       "      <th>sport_id</th>\n",
       "      <th>country_id</th>\n",
       "      <th>venue_id</th>\n",
       "      <th>gender</th>\n",
       "      <th>name</th>\n",
       "      <th>short_code</th>\n",
       "      <th>image_path</th>\n",
       "      <th>founded</th>\n",
       "      <th>type</th>\n",
       "      <th>...</th>\n",
       "      <th>last_played_at</th>\n",
       "      <th>sport_name</th>\n",
       "      <th>sport_code</th>\n",
       "      <th>sidelinedhistory</th>\n",
       "      <th>players_count</th>\n",
       "      <th>coaches_count</th>\n",
       "      <th>sidelined_count</th>\n",
       "      <th>sidelined_history_count</th>\n",
       "      <th>rivals_count</th>\n",
       "      <th>statistics_count</th>\n",
       "    </tr>\n",
       "  </thead>\n",
       "  <tbody>\n",
       "    <tr>\n",
       "      <th>0</th>\n",
       "      <td>1</td>\n",
       "      <td>1</td>\n",
       "      <td>462.0</td>\n",
       "      <td>214.0</td>\n",
       "      <td>male</td>\n",
       "      <td>West Ham United</td>\n",
       "      <td>WHU</td>\n",
       "      <td>https://cdn.sportmonks.com/images/soccer/teams...</td>\n",
       "      <td>1895.0</td>\n",
       "      <td>domestic</td>\n",
       "      <td>...</td>\n",
       "      <td>2025-04-26 14:00:00</td>\n",
       "      <td>Football</td>\n",
       "      <td>football</td>\n",
       "      <td>[{'id': 190, 'player_id': 736, 'type_id': 336,...</td>\n",
       "      <td>27</td>\n",
       "      <td>5</td>\n",
       "      <td>2</td>\n",
       "      <td>0</td>\n",
       "      <td>3</td>\n",
       "      <td>83</td>\n",
       "    </tr>\n",
       "    <tr>\n",
       "      <th>1</th>\n",
       "      <td>2</td>\n",
       "      <td>1</td>\n",
       "      <td>462.0</td>\n",
       "      <td>8.0</td>\n",
       "      <td>male</td>\n",
       "      <td>Blackburn Rovers</td>\n",
       "      <td>BBR</td>\n",
       "      <td>https://cdn.sportmonks.com/images/soccer/teams...</td>\n",
       "      <td>1875.0</td>\n",
       "      <td>domestic</td>\n",
       "      <td>...</td>\n",
       "      <td>2025-04-26 14:00:00</td>\n",
       "      <td>Football</td>\n",
       "      <td>football</td>\n",
       "      <td>[{'id': 197, 'player_id': 652, 'type_id': 339,...</td>\n",
       "      <td>37</td>\n",
       "      <td>4</td>\n",
       "      <td>2</td>\n",
       "      <td>0</td>\n",
       "      <td>2</td>\n",
       "      <td>80</td>\n",
       "    </tr>\n",
       "    <tr>\n",
       "      <th>2</th>\n",
       "      <td>3</td>\n",
       "      <td>1</td>\n",
       "      <td>462.0</td>\n",
       "      <td>212.0</td>\n",
       "      <td>male</td>\n",
       "      <td>Sunderland</td>\n",
       "      <td>SUN</td>\n",
       "      <td>https://cdn.sportmonks.com/images/soccer/teams...</td>\n",
       "      <td>1879.0</td>\n",
       "      <td>domestic</td>\n",
       "      <td>...</td>\n",
       "      <td>2025-04-26 14:00:00</td>\n",
       "      <td>Football</td>\n",
       "      <td>football</td>\n",
       "      <td>[{'id': 415, 'player_id': 784, 'type_id': 537,...</td>\n",
       "      <td>28</td>\n",
       "      <td>7</td>\n",
       "      <td>2</td>\n",
       "      <td>0</td>\n",
       "      <td>2</td>\n",
       "      <td>79</td>\n",
       "    </tr>\n",
       "  </tbody>\n",
       "</table>\n",
       "<p>3 rows × 21 columns</p>\n",
       "</div>"
      ],
      "text/plain": [
       "   id  sport_id  country_id  venue_id gender              name short_code  \\\n",
       "0   1         1       462.0     214.0   male   West Ham United        WHU   \n",
       "1   2         1       462.0       8.0   male  Blackburn Rovers        BBR   \n",
       "2   3         1       462.0     212.0   male        Sunderland        SUN   \n",
       "\n",
       "                                          image_path  founded      type  ...  \\\n",
       "0  https://cdn.sportmonks.com/images/soccer/teams...   1895.0  domestic  ...   \n",
       "1  https://cdn.sportmonks.com/images/soccer/teams...   1875.0  domestic  ...   \n",
       "2  https://cdn.sportmonks.com/images/soccer/teams...   1879.0  domestic  ...   \n",
       "\n",
       "        last_played_at sport_name sport_code  \\\n",
       "0  2025-04-26 14:00:00   Football   football   \n",
       "1  2025-04-26 14:00:00   Football   football   \n",
       "2  2025-04-26 14:00:00   Football   football   \n",
       "\n",
       "                                    sidelinedhistory players_count  \\\n",
       "0  [{'id': 190, 'player_id': 736, 'type_id': 336,...            27   \n",
       "1  [{'id': 197, 'player_id': 652, 'type_id': 339,...            37   \n",
       "2  [{'id': 415, 'player_id': 784, 'type_id': 537,...            28   \n",
       "\n",
       "   coaches_count  sidelined_count  sidelined_history_count  rivals_count  \\\n",
       "0              5                2                        0             3   \n",
       "1              4                2                        0             2   \n",
       "2              7                2                        0             2   \n",
       "\n",
       "   statistics_count  \n",
       "0                83  \n",
       "1                80  \n",
       "2                79  \n",
       "\n",
       "[3 rows x 21 columns]"
      ]
     },
     "metadata": {},
     "output_type": "display_data"
    },
    {
     "name": "stdout",
     "output_type": "stream",
     "text": [
      "\n",
      "📄 TEAM_PLAYERS — (34243, 11)\n"
     ]
    },
    {
     "data": {
      "application/vnd.microsoft.datawrangler.viewer.v0+json": {
       "columns": [
        {
         "name": "index",
         "rawType": "int64",
         "type": "integer"
        },
        {
         "name": "team_id",
         "rawType": "int64",
         "type": "integer"
        },
        {
         "name": "team_name",
         "rawType": "object",
         "type": "string"
        },
        {
         "name": "id",
         "rawType": "int64",
         "type": "integer"
        },
        {
         "name": "transfer_id",
         "rawType": "float64",
         "type": "float"
        },
        {
         "name": "player_id",
         "rawType": "int64",
         "type": "integer"
        },
        {
         "name": "position_id",
         "rawType": "float64",
         "type": "float"
        },
        {
         "name": "detailed_position_id",
         "rawType": "float64",
         "type": "float"
        },
        {
         "name": "start",
         "rawType": "object",
         "type": "string"
        },
        {
         "name": "end",
         "rawType": "object",
         "type": "string"
        },
        {
         "name": "captain",
         "rawType": "bool",
         "type": "boolean"
        },
        {
         "name": "jersey_number",
         "rawType": "float64",
         "type": "float"
        }
       ],
       "conversionMethod": "pd.DataFrame",
       "ref": "e3963de6-e2a6-4031-aa90-b61c998445a5",
       "rows": [
        [
         "0",
         "1",
         "West Ham United",
         "633783",
         "183841.0",
         "1450",
         "27.0",
         "151.0",
         "2023-01-20",
         "2025-06-30",
         "False",
         "18.0"
        ],
        [
         "1",
         "1",
         "West Ham United",
         "773470",
         "235687.0",
         "5640849",
         "27.0",
         "156.0",
         "2023-08-27",
         "2028-06-30",
         "False",
         "14.0"
        ],
        [
         "2",
         "1",
         "West Ham United",
         "1112082",
         null,
         "1155",
         "26.0",
         "153.0",
         "2023-08-14",
         "2027-06-30",
         "False",
         "8.0"
        ]
       ],
       "shape": {
        "columns": 11,
        "rows": 3
       }
      },
      "text/html": [
       "<div>\n",
       "<style scoped>\n",
       "    .dataframe tbody tr th:only-of-type {\n",
       "        vertical-align: middle;\n",
       "    }\n",
       "\n",
       "    .dataframe tbody tr th {\n",
       "        vertical-align: top;\n",
       "    }\n",
       "\n",
       "    .dataframe thead th {\n",
       "        text-align: right;\n",
       "    }\n",
       "</style>\n",
       "<table border=\"1\" class=\"dataframe\">\n",
       "  <thead>\n",
       "    <tr style=\"text-align: right;\">\n",
       "      <th></th>\n",
       "      <th>team_id</th>\n",
       "      <th>team_name</th>\n",
       "      <th>id</th>\n",
       "      <th>transfer_id</th>\n",
       "      <th>player_id</th>\n",
       "      <th>position_id</th>\n",
       "      <th>detailed_position_id</th>\n",
       "      <th>start</th>\n",
       "      <th>end</th>\n",
       "      <th>captain</th>\n",
       "      <th>jersey_number</th>\n",
       "    </tr>\n",
       "  </thead>\n",
       "  <tbody>\n",
       "    <tr>\n",
       "      <th>0</th>\n",
       "      <td>1</td>\n",
       "      <td>West Ham United</td>\n",
       "      <td>633783</td>\n",
       "      <td>183841.0</td>\n",
       "      <td>1450</td>\n",
       "      <td>27.0</td>\n",
       "      <td>151.0</td>\n",
       "      <td>2023-01-20</td>\n",
       "      <td>2025-06-30</td>\n",
       "      <td>False</td>\n",
       "      <td>18.0</td>\n",
       "    </tr>\n",
       "    <tr>\n",
       "      <th>1</th>\n",
       "      <td>1</td>\n",
       "      <td>West Ham United</td>\n",
       "      <td>773470</td>\n",
       "      <td>235687.0</td>\n",
       "      <td>5640849</td>\n",
       "      <td>27.0</td>\n",
       "      <td>156.0</td>\n",
       "      <td>2023-08-27</td>\n",
       "      <td>2028-06-30</td>\n",
       "      <td>False</td>\n",
       "      <td>14.0</td>\n",
       "    </tr>\n",
       "    <tr>\n",
       "      <th>2</th>\n",
       "      <td>1</td>\n",
       "      <td>West Ham United</td>\n",
       "      <td>1112082</td>\n",
       "      <td>NaN</td>\n",
       "      <td>1155</td>\n",
       "      <td>26.0</td>\n",
       "      <td>153.0</td>\n",
       "      <td>2023-08-14</td>\n",
       "      <td>2027-06-30</td>\n",
       "      <td>False</td>\n",
       "      <td>8.0</td>\n",
       "    </tr>\n",
       "  </tbody>\n",
       "</table>\n",
       "</div>"
      ],
      "text/plain": [
       "   team_id        team_name       id  transfer_id  player_id  position_id  \\\n",
       "0        1  West Ham United   633783     183841.0       1450         27.0   \n",
       "1        1  West Ham United   773470     235687.0    5640849         27.0   \n",
       "2        1  West Ham United  1112082          NaN       1155         26.0   \n",
       "\n",
       "   detailed_position_id       start         end  captain  jersey_number  \n",
       "0                 151.0  2023-01-20  2025-06-30    False           18.0  \n",
       "1                 156.0  2023-08-27  2028-06-30    False           14.0  \n",
       "2                 153.0  2023-08-14  2027-06-30    False            8.0  "
      ]
     },
     "metadata": {},
     "output_type": "display_data"
    },
    {
     "name": "stdout",
     "output_type": "stream",
     "text": [
      "\n",
      "📄 FIXTURES — (155541, 20)\n"
     ]
    },
    {
     "data": {
      "application/vnd.microsoft.datawrangler.viewer.v0+json": {
       "columns": [
        {
         "name": "index",
         "rawType": "int64",
         "type": "integer"
        },
        {
         "name": "id",
         "rawType": "int64",
         "type": "integer"
        },
        {
         "name": "sport_id",
         "rawType": "int64",
         "type": "integer"
        },
        {
         "name": "league_id",
         "rawType": "int64",
         "type": "integer"
        },
        {
         "name": "season_id",
         "rawType": "int64",
         "type": "integer"
        },
        {
         "name": "stage_id",
         "rawType": "int64",
         "type": "integer"
        },
        {
         "name": "group_id",
         "rawType": "float64",
         "type": "float"
        },
        {
         "name": "aggregate_id",
         "rawType": "float64",
         "type": "float"
        },
        {
         "name": "round_id",
         "rawType": "float64",
         "type": "float"
        },
        {
         "name": "state_id",
         "rawType": "int64",
         "type": "integer"
        },
        {
         "name": "venue_id",
         "rawType": "float64",
         "type": "float"
        },
        {
         "name": "name",
         "rawType": "object",
         "type": "string"
        },
        {
         "name": "starting_at",
         "rawType": "object",
         "type": "string"
        },
        {
         "name": "result_info",
         "rawType": "object",
         "type": "string"
        },
        {
         "name": "leg",
         "rawType": "object",
         "type": "string"
        },
        {
         "name": "details",
         "rawType": "object",
         "type": "unknown"
        },
        {
         "name": "length",
         "rawType": "int64",
         "type": "integer"
        },
        {
         "name": "placeholder",
         "rawType": "bool",
         "type": "boolean"
        },
        {
         "name": "has_odds",
         "rawType": "bool",
         "type": "boolean"
        },
        {
         "name": "has_premium_odds",
         "rawType": "bool",
         "type": "boolean"
        },
        {
         "name": "starting_at_timestamp",
         "rawType": "int64",
         "type": "integer"
        }
       ],
       "conversionMethod": "pd.DataFrame",
       "ref": "df655ce6-fe2c-462d-b492-710f1277a726",
       "rows": [
        [
         "0",
         "463",
         "1",
         "8",
         "2",
         "2",
         null,
         null,
         "43.0",
         "5",
         "209.0",
         "Tottenham Hotspur vs Manchester City",
         "2010-08-14 11:45:00",
         "Game ended in draw.",
         "1/1",
         null,
         "90",
         "False",
         "False",
         "False",
         "1281786300"
        ],
        [
         "1",
         "464",
         "1",
         "8",
         "3",
         "3",
         null,
         null,
         "44.0",
         "5",
         "230.0",
         "Liverpool vs Stoke City",
         "2013-08-17 11:45:00",
         "Liverpool won after full-time.",
         "1/1",
         null,
         "90",
         "False",
         "False",
         "False",
         "1376739900"
        ],
        [
         "2",
         "465",
         "1",
         "8",
         "2",
         "2",
         null,
         null,
         "43.0",
         "5",
         "5.0",
         "Aston Villa vs West Ham United",
         "2010-08-14 14:00:00",
         "Aston Villa won after full-time.",
         "1/1",
         null,
         "90",
         "False",
         "False",
         "False",
         "1281794400"
        ]
       ],
       "shape": {
        "columns": 20,
        "rows": 3
       }
      },
      "text/html": [
       "<div>\n",
       "<style scoped>\n",
       "    .dataframe tbody tr th:only-of-type {\n",
       "        vertical-align: middle;\n",
       "    }\n",
       "\n",
       "    .dataframe tbody tr th {\n",
       "        vertical-align: top;\n",
       "    }\n",
       "\n",
       "    .dataframe thead th {\n",
       "        text-align: right;\n",
       "    }\n",
       "</style>\n",
       "<table border=\"1\" class=\"dataframe\">\n",
       "  <thead>\n",
       "    <tr style=\"text-align: right;\">\n",
       "      <th></th>\n",
       "      <th>id</th>\n",
       "      <th>sport_id</th>\n",
       "      <th>league_id</th>\n",
       "      <th>season_id</th>\n",
       "      <th>stage_id</th>\n",
       "      <th>group_id</th>\n",
       "      <th>aggregate_id</th>\n",
       "      <th>round_id</th>\n",
       "      <th>state_id</th>\n",
       "      <th>venue_id</th>\n",
       "      <th>name</th>\n",
       "      <th>starting_at</th>\n",
       "      <th>result_info</th>\n",
       "      <th>leg</th>\n",
       "      <th>details</th>\n",
       "      <th>length</th>\n",
       "      <th>placeholder</th>\n",
       "      <th>has_odds</th>\n",
       "      <th>has_premium_odds</th>\n",
       "      <th>starting_at_timestamp</th>\n",
       "    </tr>\n",
       "  </thead>\n",
       "  <tbody>\n",
       "    <tr>\n",
       "      <th>0</th>\n",
       "      <td>463</td>\n",
       "      <td>1</td>\n",
       "      <td>8</td>\n",
       "      <td>2</td>\n",
       "      <td>2</td>\n",
       "      <td>NaN</td>\n",
       "      <td>NaN</td>\n",
       "      <td>43.0</td>\n",
       "      <td>5</td>\n",
       "      <td>209.0</td>\n",
       "      <td>Tottenham Hotspur vs Manchester City</td>\n",
       "      <td>2010-08-14 11:45:00</td>\n",
       "      <td>Game ended in draw.</td>\n",
       "      <td>1/1</td>\n",
       "      <td>NaN</td>\n",
       "      <td>90</td>\n",
       "      <td>False</td>\n",
       "      <td>False</td>\n",
       "      <td>False</td>\n",
       "      <td>1281786300</td>\n",
       "    </tr>\n",
       "    <tr>\n",
       "      <th>1</th>\n",
       "      <td>464</td>\n",
       "      <td>1</td>\n",
       "      <td>8</td>\n",
       "      <td>3</td>\n",
       "      <td>3</td>\n",
       "      <td>NaN</td>\n",
       "      <td>NaN</td>\n",
       "      <td>44.0</td>\n",
       "      <td>5</td>\n",
       "      <td>230.0</td>\n",
       "      <td>Liverpool vs Stoke City</td>\n",
       "      <td>2013-08-17 11:45:00</td>\n",
       "      <td>Liverpool won after full-time.</td>\n",
       "      <td>1/1</td>\n",
       "      <td>NaN</td>\n",
       "      <td>90</td>\n",
       "      <td>False</td>\n",
       "      <td>False</td>\n",
       "      <td>False</td>\n",
       "      <td>1376739900</td>\n",
       "    </tr>\n",
       "    <tr>\n",
       "      <th>2</th>\n",
       "      <td>465</td>\n",
       "      <td>1</td>\n",
       "      <td>8</td>\n",
       "      <td>2</td>\n",
       "      <td>2</td>\n",
       "      <td>NaN</td>\n",
       "      <td>NaN</td>\n",
       "      <td>43.0</td>\n",
       "      <td>5</td>\n",
       "      <td>5.0</td>\n",
       "      <td>Aston Villa vs West Ham United</td>\n",
       "      <td>2010-08-14 14:00:00</td>\n",
       "      <td>Aston Villa won after full-time.</td>\n",
       "      <td>1/1</td>\n",
       "      <td>NaN</td>\n",
       "      <td>90</td>\n",
       "      <td>False</td>\n",
       "      <td>False</td>\n",
       "      <td>False</td>\n",
       "      <td>1281794400</td>\n",
       "    </tr>\n",
       "  </tbody>\n",
       "</table>\n",
       "</div>"
      ],
      "text/plain": [
       "    id  sport_id  league_id  season_id  stage_id  group_id  aggregate_id  \\\n",
       "0  463         1          8          2         2       NaN           NaN   \n",
       "1  464         1          8          3         3       NaN           NaN   \n",
       "2  465         1          8          2         2       NaN           NaN   \n",
       "\n",
       "   round_id  state_id  venue_id                                  name  \\\n",
       "0      43.0         5     209.0  Tottenham Hotspur vs Manchester City   \n",
       "1      44.0         5     230.0               Liverpool vs Stoke City   \n",
       "2      43.0         5       5.0        Aston Villa vs West Ham United   \n",
       "\n",
       "           starting_at                       result_info  leg details  length  \\\n",
       "0  2010-08-14 11:45:00               Game ended in draw.  1/1     NaN      90   \n",
       "1  2013-08-17 11:45:00    Liverpool won after full-time.  1/1     NaN      90   \n",
       "2  2010-08-14 14:00:00  Aston Villa won after full-time.  1/1     NaN      90   \n",
       "\n",
       "   placeholder  has_odds  has_premium_odds  starting_at_timestamp  \n",
       "0        False     False             False             1281786300  \n",
       "1        False     False             False             1376739900  \n",
       "2        False     False             False             1281794400  "
      ]
     },
     "metadata": {},
     "output_type": "display_data"
    },
    {
     "name": "stdout",
     "output_type": "stream",
     "text": [
      "\n",
      "📄 FIXTURE_DETAILS — (152192, 14)\n"
     ]
    },
    {
     "data": {
      "application/vnd.microsoft.datawrangler.viewer.v0+json": {
       "columns": [
        {
         "name": "index",
         "rawType": "int64",
         "type": "integer"
        },
        {
         "name": "id",
         "rawType": "int64",
         "type": "integer"
        },
        {
         "name": "name",
         "rawType": "object",
         "type": "string"
        },
        {
         "name": "starting_at",
         "rawType": "object",
         "type": "string"
        },
        {
         "name": "league_id",
         "rawType": "int64",
         "type": "integer"
        },
        {
         "name": "league_name",
         "rawType": "object",
         "type": "string"
        },
        {
         "name": "venue_id",
         "rawType": "int64",
         "type": "integer"
        },
        {
         "name": "venue_name",
         "rawType": "object",
         "type": "string"
        },
        {
         "name": "state_id",
         "rawType": "int64",
         "type": "integer"
        },
        {
         "name": "state_name",
         "rawType": "object",
         "type": "string"
        },
        {
         "name": "weather_temp",
         "rawType": "float64",
         "type": "float"
        },
        {
         "name": "away_team_id",
         "rawType": "int64",
         "type": "integer"
        },
        {
         "name": "away_team_name",
         "rawType": "object",
         "type": "string"
        },
        {
         "name": "home_team_id",
         "rawType": "int64",
         "type": "integer"
        },
        {
         "name": "home_team_name",
         "rawType": "object",
         "type": "string"
        }
       ],
       "conversionMethod": "pd.DataFrame",
       "ref": "ab00ff15-8b9f-42ba-b2c7-d470a4438569",
       "rows": [
        [
         "0",
         "465",
         "Aston Villa vs West Ham United",
         "2010-08-14 14:00:00",
         "8",
         "Premier League",
         "5",
         "Villa Park",
         "5",
         "Full Time",
         null,
         "1",
         "West Ham United",
         "15",
         "Aston Villa"
        ],
        [
         "1",
         "463",
         "Tottenham Hotspur vs Manchester City",
         "2010-08-14 11:45:00",
         "8",
         "Premier League",
         "209",
         "White Hart Lane",
         "5",
         "Full Time",
         null,
         "9",
         "Manchester City",
         "6",
         "Tottenham Hotspur"
        ],
        [
         "2",
         "466",
         "Arsenal vs Aston Villa",
         "2013-08-17 14:00:00",
         "8",
         "Premier League",
         "204",
         "Emirates Stadium",
         "5",
         "Full Time",
         null,
         "15",
         "Aston Villa",
         "19",
         "Arsenal"
        ]
       ],
       "shape": {
        "columns": 14,
        "rows": 3
       }
      },
      "text/html": [
       "<div>\n",
       "<style scoped>\n",
       "    .dataframe tbody tr th:only-of-type {\n",
       "        vertical-align: middle;\n",
       "    }\n",
       "\n",
       "    .dataframe tbody tr th {\n",
       "        vertical-align: top;\n",
       "    }\n",
       "\n",
       "    .dataframe thead th {\n",
       "        text-align: right;\n",
       "    }\n",
       "</style>\n",
       "<table border=\"1\" class=\"dataframe\">\n",
       "  <thead>\n",
       "    <tr style=\"text-align: right;\">\n",
       "      <th></th>\n",
       "      <th>id</th>\n",
       "      <th>name</th>\n",
       "      <th>starting_at</th>\n",
       "      <th>league_id</th>\n",
       "      <th>league_name</th>\n",
       "      <th>venue_id</th>\n",
       "      <th>venue_name</th>\n",
       "      <th>state_id</th>\n",
       "      <th>state_name</th>\n",
       "      <th>weather_temp</th>\n",
       "      <th>away_team_id</th>\n",
       "      <th>away_team_name</th>\n",
       "      <th>home_team_id</th>\n",
       "      <th>home_team_name</th>\n",
       "    </tr>\n",
       "  </thead>\n",
       "  <tbody>\n",
       "    <tr>\n",
       "      <th>0</th>\n",
       "      <td>465</td>\n",
       "      <td>Aston Villa vs West Ham United</td>\n",
       "      <td>2010-08-14 14:00:00</td>\n",
       "      <td>8</td>\n",
       "      <td>Premier League</td>\n",
       "      <td>5</td>\n",
       "      <td>Villa Park</td>\n",
       "      <td>5</td>\n",
       "      <td>Full Time</td>\n",
       "      <td>NaN</td>\n",
       "      <td>1</td>\n",
       "      <td>West Ham United</td>\n",
       "      <td>15</td>\n",
       "      <td>Aston Villa</td>\n",
       "    </tr>\n",
       "    <tr>\n",
       "      <th>1</th>\n",
       "      <td>463</td>\n",
       "      <td>Tottenham Hotspur vs Manchester City</td>\n",
       "      <td>2010-08-14 11:45:00</td>\n",
       "      <td>8</td>\n",
       "      <td>Premier League</td>\n",
       "      <td>209</td>\n",
       "      <td>White Hart Lane</td>\n",
       "      <td>5</td>\n",
       "      <td>Full Time</td>\n",
       "      <td>NaN</td>\n",
       "      <td>9</td>\n",
       "      <td>Manchester City</td>\n",
       "      <td>6</td>\n",
       "      <td>Tottenham Hotspur</td>\n",
       "    </tr>\n",
       "    <tr>\n",
       "      <th>2</th>\n",
       "      <td>466</td>\n",
       "      <td>Arsenal vs Aston Villa</td>\n",
       "      <td>2013-08-17 14:00:00</td>\n",
       "      <td>8</td>\n",
       "      <td>Premier League</td>\n",
       "      <td>204</td>\n",
       "      <td>Emirates Stadium</td>\n",
       "      <td>5</td>\n",
       "      <td>Full Time</td>\n",
       "      <td>NaN</td>\n",
       "      <td>15</td>\n",
       "      <td>Aston Villa</td>\n",
       "      <td>19</td>\n",
       "      <td>Arsenal</td>\n",
       "    </tr>\n",
       "  </tbody>\n",
       "</table>\n",
       "</div>"
      ],
      "text/plain": [
       "    id                                  name          starting_at  league_id  \\\n",
       "0  465        Aston Villa vs West Ham United  2010-08-14 14:00:00          8   \n",
       "1  463  Tottenham Hotspur vs Manchester City  2010-08-14 11:45:00          8   \n",
       "2  466                Arsenal vs Aston Villa  2013-08-17 14:00:00          8   \n",
       "\n",
       "      league_name  venue_id        venue_name  state_id state_name  \\\n",
       "0  Premier League         5        Villa Park         5  Full Time   \n",
       "1  Premier League       209   White Hart Lane         5  Full Time   \n",
       "2  Premier League       204  Emirates Stadium         5  Full Time   \n",
       "\n",
       "   weather_temp  away_team_id   away_team_name  home_team_id  \\\n",
       "0           NaN             1  West Ham United            15   \n",
       "1           NaN             9  Manchester City             6   \n",
       "2           NaN            15      Aston Villa            19   \n",
       "\n",
       "      home_team_name  \n",
       "0        Aston Villa  \n",
       "1  Tottenham Hotspur  \n",
       "2            Arsenal  "
      ]
     },
     "metadata": {},
     "output_type": "display_data"
    },
    {
     "name": "stdout",
     "output_type": "stream",
     "text": [
      "\n",
      "📄 TEAM_COACHES — (3278, 9)\n"
     ]
    },
    {
     "data": {
      "application/vnd.microsoft.datawrangler.viewer.v0+json": {
       "columns": [
        {
         "name": "index",
         "rawType": "int64",
         "type": "integer"
        },
        {
         "name": "team_id",
         "rawType": "int64",
         "type": "integer"
        },
        {
         "name": "team_name",
         "rawType": "object",
         "type": "string"
        },
        {
         "name": "id",
         "rawType": "int64",
         "type": "integer"
        },
        {
         "name": "coach_id",
         "rawType": "int64",
         "type": "integer"
        },
        {
         "name": "position_id",
         "rawType": "int64",
         "type": "integer"
        },
        {
         "name": "active",
         "rawType": "bool",
         "type": "boolean"
        },
        {
         "name": "start",
         "rawType": "object",
         "type": "unknown"
        },
        {
         "name": "end",
         "rawType": "object",
         "type": "string"
        },
        {
         "name": "temporary",
         "rawType": "bool",
         "type": "boolean"
        }
       ],
       "conversionMethod": "pd.DataFrame",
       "ref": "d831cacd-95cb-49ee-90de-a74af9318942",
       "rows": [
        [
         "0",
         "1",
         "West Ham United",
         "2279827",
         "472",
         "221",
         "False",
         "2023-09-05",
         "2024-06-30",
         "False"
        ],
        [
         "1",
         "1",
         "West Ham United",
         "22",
         "455355",
         "221",
         "False",
         null,
         "2019-12-28",
         "False"
        ],
        [
         "2",
         "1",
         "West Ham United",
         "23051",
         "455355",
         "221",
         "False",
         "2019-12-29",
         "2024-06-30",
         "False"
        ]
       ],
       "shape": {
        "columns": 9,
        "rows": 3
       }
      },
      "text/html": [
       "<div>\n",
       "<style scoped>\n",
       "    .dataframe tbody tr th:only-of-type {\n",
       "        vertical-align: middle;\n",
       "    }\n",
       "\n",
       "    .dataframe tbody tr th {\n",
       "        vertical-align: top;\n",
       "    }\n",
       "\n",
       "    .dataframe thead th {\n",
       "        text-align: right;\n",
       "    }\n",
       "</style>\n",
       "<table border=\"1\" class=\"dataframe\">\n",
       "  <thead>\n",
       "    <tr style=\"text-align: right;\">\n",
       "      <th></th>\n",
       "      <th>team_id</th>\n",
       "      <th>team_name</th>\n",
       "      <th>id</th>\n",
       "      <th>coach_id</th>\n",
       "      <th>position_id</th>\n",
       "      <th>active</th>\n",
       "      <th>start</th>\n",
       "      <th>end</th>\n",
       "      <th>temporary</th>\n",
       "    </tr>\n",
       "  </thead>\n",
       "  <tbody>\n",
       "    <tr>\n",
       "      <th>0</th>\n",
       "      <td>1</td>\n",
       "      <td>West Ham United</td>\n",
       "      <td>2279827</td>\n",
       "      <td>472</td>\n",
       "      <td>221</td>\n",
       "      <td>False</td>\n",
       "      <td>2023-09-05</td>\n",
       "      <td>2024-06-30</td>\n",
       "      <td>False</td>\n",
       "    </tr>\n",
       "    <tr>\n",
       "      <th>1</th>\n",
       "      <td>1</td>\n",
       "      <td>West Ham United</td>\n",
       "      <td>22</td>\n",
       "      <td>455355</td>\n",
       "      <td>221</td>\n",
       "      <td>False</td>\n",
       "      <td>NaN</td>\n",
       "      <td>2019-12-28</td>\n",
       "      <td>False</td>\n",
       "    </tr>\n",
       "    <tr>\n",
       "      <th>2</th>\n",
       "      <td>1</td>\n",
       "      <td>West Ham United</td>\n",
       "      <td>23051</td>\n",
       "      <td>455355</td>\n",
       "      <td>221</td>\n",
       "      <td>False</td>\n",
       "      <td>2019-12-29</td>\n",
       "      <td>2024-06-30</td>\n",
       "      <td>False</td>\n",
       "    </tr>\n",
       "  </tbody>\n",
       "</table>\n",
       "</div>"
      ],
      "text/plain": [
       "   team_id        team_name       id  coach_id  position_id  active  \\\n",
       "0        1  West Ham United  2279827       472          221   False   \n",
       "1        1  West Ham United       22    455355          221   False   \n",
       "2        1  West Ham United    23051    455355          221   False   \n",
       "\n",
       "        start         end  temporary  \n",
       "0  2023-09-05  2024-06-30      False  \n",
       "1         NaN  2019-12-28      False  \n",
       "2  2019-12-29  2024-06-30      False  "
      ]
     },
     "metadata": {},
     "output_type": "display_data"
    },
    {
     "name": "stdout",
     "output_type": "stream",
     "text": [
      "\n",
      "📄 TEAM_SIDELINED — (1683, 12)\n"
     ]
    },
    {
     "data": {
      "application/vnd.microsoft.datawrangler.viewer.v0+json": {
       "columns": [
        {
         "name": "index",
         "rawType": "int64",
         "type": "integer"
        },
        {
         "name": "team_id",
         "rawType": "int64",
         "type": "integer"
        },
        {
         "name": "team_name",
         "rawType": "object",
         "type": "string"
        },
        {
         "name": "type",
         "rawType": "object",
         "type": "string"
        },
        {
         "name": "id",
         "rawType": "int64",
         "type": "integer"
        },
        {
         "name": "player_id",
         "rawType": "int64",
         "type": "integer"
        },
        {
         "name": "type_id",
         "rawType": "int64",
         "type": "integer"
        },
        {
         "name": "category",
         "rawType": "object",
         "type": "string"
        },
        {
         "name": "season_id",
         "rawType": "float64",
         "type": "float"
        },
        {
         "name": "start_date",
         "rawType": "object",
         "type": "string"
        },
        {
         "name": "end_date",
         "rawType": "object",
         "type": "unknown"
        },
        {
         "name": "games_missed",
         "rawType": "float64",
         "type": "float"
        },
        {
         "name": "completed",
         "rawType": "bool",
         "type": "boolean"
        }
       ],
       "conversionMethod": "pd.DataFrame",
       "ref": "61ee22e8-5ce8-49ee-8acb-65d48950b9f4",
       "rows": [
        [
         "0",
         "1",
         "West Ham United",
         "current",
         "716009",
         "1261",
         "554",
         "injury",
         null,
         "2025-04-04",
         null,
         "4.0",
         "False"
        ],
        [
         "1",
         "1",
         "West Ham United",
         "current",
         "681549",
         "1922",
         "2046",
         "injury",
         null,
         "2024-12-07",
         "2025-06-01",
         "21.0",
         "False"
        ],
        [
         "2",
         "2",
         "Blackburn Rovers",
         "current",
         "673399",
         "2823545",
         "540",
         "injury",
         null,
         "2024-10-23",
         null,
         "37.0",
         "False"
        ]
       ],
       "shape": {
        "columns": 12,
        "rows": 3
       }
      },
      "text/html": [
       "<div>\n",
       "<style scoped>\n",
       "    .dataframe tbody tr th:only-of-type {\n",
       "        vertical-align: middle;\n",
       "    }\n",
       "\n",
       "    .dataframe tbody tr th {\n",
       "        vertical-align: top;\n",
       "    }\n",
       "\n",
       "    .dataframe thead th {\n",
       "        text-align: right;\n",
       "    }\n",
       "</style>\n",
       "<table border=\"1\" class=\"dataframe\">\n",
       "  <thead>\n",
       "    <tr style=\"text-align: right;\">\n",
       "      <th></th>\n",
       "      <th>team_id</th>\n",
       "      <th>team_name</th>\n",
       "      <th>type</th>\n",
       "      <th>id</th>\n",
       "      <th>player_id</th>\n",
       "      <th>type_id</th>\n",
       "      <th>category</th>\n",
       "      <th>season_id</th>\n",
       "      <th>start_date</th>\n",
       "      <th>end_date</th>\n",
       "      <th>games_missed</th>\n",
       "      <th>completed</th>\n",
       "    </tr>\n",
       "  </thead>\n",
       "  <tbody>\n",
       "    <tr>\n",
       "      <th>0</th>\n",
       "      <td>1</td>\n",
       "      <td>West Ham United</td>\n",
       "      <td>current</td>\n",
       "      <td>716009</td>\n",
       "      <td>1261</td>\n",
       "      <td>554</td>\n",
       "      <td>injury</td>\n",
       "      <td>NaN</td>\n",
       "      <td>2025-04-04</td>\n",
       "      <td>NaN</td>\n",
       "      <td>4.0</td>\n",
       "      <td>False</td>\n",
       "    </tr>\n",
       "    <tr>\n",
       "      <th>1</th>\n",
       "      <td>1</td>\n",
       "      <td>West Ham United</td>\n",
       "      <td>current</td>\n",
       "      <td>681549</td>\n",
       "      <td>1922</td>\n",
       "      <td>2046</td>\n",
       "      <td>injury</td>\n",
       "      <td>NaN</td>\n",
       "      <td>2024-12-07</td>\n",
       "      <td>2025-06-01</td>\n",
       "      <td>21.0</td>\n",
       "      <td>False</td>\n",
       "    </tr>\n",
       "    <tr>\n",
       "      <th>2</th>\n",
       "      <td>2</td>\n",
       "      <td>Blackburn Rovers</td>\n",
       "      <td>current</td>\n",
       "      <td>673399</td>\n",
       "      <td>2823545</td>\n",
       "      <td>540</td>\n",
       "      <td>injury</td>\n",
       "      <td>NaN</td>\n",
       "      <td>2024-10-23</td>\n",
       "      <td>NaN</td>\n",
       "      <td>37.0</td>\n",
       "      <td>False</td>\n",
       "    </tr>\n",
       "  </tbody>\n",
       "</table>\n",
       "</div>"
      ],
      "text/plain": [
       "   team_id         team_name     type      id  player_id  type_id category  \\\n",
       "0        1   West Ham United  current  716009       1261      554   injury   \n",
       "1        1   West Ham United  current  681549       1922     2046   injury   \n",
       "2        2  Blackburn Rovers  current  673399    2823545      540   injury   \n",
       "\n",
       "   season_id  start_date    end_date  games_missed  completed  \n",
       "0        NaN  2025-04-04         NaN           4.0      False  \n",
       "1        NaN  2024-12-07  2025-06-01          21.0      False  \n",
       "2        NaN  2024-10-23         NaN          37.0      False  "
      ]
     },
     "metadata": {},
     "output_type": "display_data"
    }
   ],
   "source": [
    "for key, df in dataframes.items():\n",
    "    print(f\"\\n📄 {key.upper()} — {df.shape}\")\n",
    "    display(df.head(3))"
   ]
  },
  {
   "cell_type": "code",
   "execution_count": 7,
   "metadata": {},
   "outputs": [
    {
     "name": "stdout",
     "output_type": "stream",
     "text": [
      "\n",
      "🔍 Column: team_id\n",
      "   - team_stats: ✅ present (2,465 unique)\n",
      "   - team_players: ✅ present (1,553 unique)\n",
      "   - team_coaches: ✅ present (1,304 unique)\n",
      "   - team_sidelined: ✅ present (566 unique)\n",
      "\n",
      "🔍 Column: season_id\n",
      "   - team_stats: ✅ present (4,585 unique)\n",
      "   - fixtures: ✅ present (531 unique)\n",
      "   - team_sidelined: ✅ present (0 unique)\n",
      "\n",
      "🔍 Column: fixture_id\n",
      "\n",
      "🔍 Column: player_id\n",
      "   - team_players: ✅ present (33,843 unique)\n",
      "   - team_sidelined: ✅ present (1,624 unique)\n"
     ]
    }
   ],
   "source": [
    "# Check common ID columns\n",
    "columns_to_check = ['team_id', 'season_id', 'fixture_id', 'player_id']\n",
    "\n",
    "# See which DataFrames contain each ID\n",
    "for col in columns_to_check:\n",
    "    print(f\"\\n🔍 Column: {col}\")\n",
    "    for key, df in dataframes.items():\n",
    "        if col in df.columns:\n",
    "            unique_count = df[col].nunique()\n",
    "            print(f\"   - {key}: ✅ present ({unique_count:,} unique)\")"
   ]
  },
  {
   "cell_type": "code",
   "execution_count": 9,
   "metadata": {},
   "outputs": [
    {
     "name": "stdout",
     "output_type": "stream",
     "text": [
      "🔁 Re-checking fixture_id...\n",
      "\n",
      "📄 fixtures:\n",
      "   ✅ 'fixture_id' found with 155541 unique IDs (out of 155541)\n",
      "📄 fixture_details:\n",
      "   ❌ 'fixture_id' not found\n"
     ]
    }
   ],
   "source": [
    "# Rename 'id' to 'fixture_id' in fixtures dataframe\n",
    "fixtures = fixtures.rename(columns={\"id\": \"fixture_id\"})\n",
    "dataframes[\"fixtures\"] = fixtures  # update in main dict\n",
    "\n",
    "# Re-run the fixture_id check\n",
    "print(\"🔁 Re-checking fixture_id...\\n\")\n",
    "\n",
    "for name, df in [(\"fixtures\", fixtures), (\"fixture_details\", dataframes[\"fixture_details\"])]:\n",
    "    print(f\"📄 {name}:\")\n",
    "    if \"fixture_id\" in df.columns:\n",
    "        print(f\"   ✅ 'fixture_id' found with {df['fixture_id'].nunique()} unique IDs (out of {len(df)})\")\n",
    "    else:\n",
    "        print(\"   ❌ 'fixture_id' not found\")"
   ]
  },
  {
   "cell_type": "code",
   "execution_count": 10,
   "metadata": {},
   "outputs": [
    {
     "name": "stdout",
     "output_type": "stream",
     "text": [
      "['id', 'name', 'starting_at', 'league_id', 'league_name', 'venue_id', 'venue_name', 'state_id', 'state_name', 'weather_temp', 'away_team_id', 'away_team_name', 'home_team_id', 'home_team_name']\n"
     ]
    }
   ],
   "source": [
    "# Check if there's a likely column that represents fixture_id\n",
    "print(fixture_details.columns.tolist())\n"
   ]
  },
  {
   "cell_type": "code",
   "execution_count": 11,
   "metadata": {},
   "outputs": [],
   "source": [
    "# Rename 'id' to 'fixture_id' for consistency\n",
    "fixture_details.rename(columns={'id': 'fixture_id'}, inplace=True)"
   ]
  },
  {
   "cell_type": "code",
   "execution_count": 15,
   "metadata": {},
   "outputs": [],
   "source": [
    "# Load all base datasets\n",
    "teams_df = pd.read_csv(\"/Users/sebastianvinther/Desktop/Sportsmonks/teams_full_20250501_114549.csv\")\n",
    "team_stats_df = pd.read_csv(\"/Users/sebastianvinther/Desktop/Sportsmonks/team_statistics_20250501_114549.csv\")\n",
    "team_summaries_df = pd.read_csv(\"/Users/sebastianvinther/Desktop/Sportsmonks/teams_summary_20250501_114549.csv\")\n",
    "team_coaches_df = pd.read_csv(\"/Users/sebastianvinther/Desktop/Sportsmonks/team_coaches_20250501_114549.csv\")"
   ]
  },
  {
   "cell_type": "code",
   "execution_count": 17,
   "metadata": {},
   "outputs": [
    {
     "name": "stdout",
     "output_type": "stream",
     "text": [
      "🔍 teams_df: ['id', 'sport_id', 'country_id', 'venue_id', 'gender', 'name', 'short_code', 'image_path', 'founded', 'type', 'placeholder', 'last_played_at', 'sport_name', 'sport_code', 'sidelinedhistory', 'players_count', 'coaches_count', 'sidelined_count', 'sidelined_history_count', 'rivals_count', 'statistics_count']\n",
      "🔍 team_stats_df: ['team_id', 'team_name', 'id', 'season_id', 'has_values']\n",
      "🔍 team_summaries_df: ['id', 'sport_id', 'country_id', 'venue_id', 'gender', 'name', 'short_code', 'image_path', 'founded', 'type', 'placeholder', 'last_played_at', 'sport_name', 'sport_code', 'sidelinedhistory', 'players_count', 'coaches_count', 'sidelined_count', 'sidelined_history_count', 'rivals_count', 'statistics_count']\n",
      "🔍 team_coaches_df: ['team_id', 'team_name', 'id', 'coach_id', 'position_id', 'active', 'start', 'end', 'temporary']\n"
     ]
    }
   ],
   "source": [
    "print(\"🔍 teams_df:\", teams_df.columns.tolist())\n",
    "print(\"🔍 team_stats_df:\", team_stats_df.columns.tolist())\n",
    "print(\"🔍 team_summaries_df:\", team_summaries_df.columns.tolist())\n",
    "print(\"🔍 team_coaches_df:\", team_coaches_df.columns.tolist())\n"
   ]
  },
  {
   "cell_type": "code",
   "execution_count": 18,
   "metadata": {},
   "outputs": [
    {
     "name": "stdout",
     "output_type": "stream",
     "text": [
      "✅ Final merged shape: (203800, 53)\n"
     ]
    }
   ],
   "source": [
    "# Fix team ID column in teams and summaries\n",
    "teams_df = teams_df.rename(columns={\"id\": \"team_id\"})\n",
    "team_summaries_df = team_summaries_df.rename(columns={\"id\": \"team_id\"})\n",
    "\n",
    "# Fix team ID column in team_coaches if needed\n",
    "# (don't rename 'id' there; it's not the team id)\n",
    "\n",
    "# Merge teams with team_statistics (uses season_id)\n",
    "teams_merged_df = pd.merge(teams_df, team_stats_df, on=['team_id'], how='left', suffixes=('', '_stats'))\n",
    "\n",
    "# Merge with teams_summary (no season_id available)\n",
    "teams_merged_df = pd.merge(teams_merged_df, team_summaries_df, on='team_id', how='left', suffixes=('', '_summary'))\n",
    "\n",
    "# Merge with team_coaches (uses team_id only)\n",
    "teams_merged_df = pd.merge(teams_merged_df, team_coaches_df, on='team_id', how='left', suffixes=('', '_coach'))\n",
    "\n",
    "print(f\"✅ Final merged shape: {teams_merged_df.shape}\")"
   ]
  },
  {
   "cell_type": "code",
   "execution_count": 19,
   "metadata": {},
   "outputs": [
    {
     "name": "stdout",
     "output_type": "stream",
     "text": [
      "✅ Merged players: 34243 rows, 31 columns\n"
     ]
    }
   ],
   "source": [
    "# Load team_players\n",
    "team_players_df = pd.read_csv(\"/Users/sebastianvinther/Desktop/Sportsmonks/team_players_20250501_114549.csv\")\n",
    "\n",
    "# Ensure correct column names\n",
    "if \"id\" in team_players_df.columns:\n",
    "    team_players_df = team_players_df.rename(columns={\"id\": \"player_id\"})\n",
    "\n",
    "# Merge players with teams on 'team_id'\n",
    "players_merged_df = pd.merge(team_players_df, teams_df, on=\"team_id\", how=\"left\")\n",
    "\n",
    "print(f\"✅ Merged players: {players_merged_df.shape[0]} rows, {players_merged_df.shape[1]} columns\")"
   ]
  },
  {
   "cell_type": "code",
   "execution_count": 24,
   "metadata": {},
   "outputs": [
    {
     "name": "stdout",
     "output_type": "stream",
     "text": [
      "✅ Fixture details merged shape: (152192, 54)\n"
     ]
    }
   ],
   "source": [
    "import pandas as pd\n",
    "\n",
    "# === Load fixture details ===\n",
    "fixture_details_df = pd.read_csv(\"/Users/sebastianvinther/Desktop/Sportsmonks/fixture_details.csv\")\n",
    "fixture_details_df.columns = fixture_details_df.columns.str.strip().str.lower()\n",
    "fixture_details_df = fixture_details_df.rename(columns={\"id\": \"fixture_id\"})\n",
    "\n",
    "# Ensure teams_df is ready\n",
    "teams_df = teams_df.rename(columns={\"id\": \"team_id\"})\n",
    "\n",
    "# === Merge with home team data ===\n",
    "home_teams_df = teams_df.add_prefix(\"home_\")\n",
    "fixture_details_merged = pd.merge(\n",
    "    fixture_details_df,\n",
    "    home_teams_df,\n",
    "    left_on=\"home_team_id\",\n",
    "    right_on=\"home_team_id\",\n",
    "    how=\"left\"\n",
    ")\n",
    "\n",
    "# === Merge with away team data ===\n",
    "away_teams_df = teams_df.add_prefix(\"away_\")\n",
    "fixture_details_merged = pd.merge(\n",
    "    fixture_details_merged,\n",
    "    away_teams_df,\n",
    "    left_on=\"away_team_id\",\n",
    "    right_on=\"away_team_id\",\n",
    "    how=\"left\"\n",
    ")\n",
    "\n",
    "print(f\"✅ Fixture details merged shape: {fixture_details_merged.shape}\")"
   ]
  },
  {
   "cell_type": "code",
   "execution_count": 29,
   "metadata": {},
   "outputs": [
    {
     "name": "stdout",
     "output_type": "stream",
     "text": [
      "📄 fixture_stats_df columns: ['fixture_id', 'id', 'type_id', 'participant_id', 'data_value', 'location']\n"
     ]
    }
   ],
   "source": [
    "# === Load fixture stats ===\n",
    "fixture_stats_df = pd.read_csv(\"/Users/sebastianvinther/Desktop/Sportsmonks/fixture_statistics_parallel.csv\")\n",
    "\n",
    "# Confirm column used as key\n",
    "print(\"📄 fixture_stats_df columns:\", fixture_stats_df.columns.tolist())"
   ]
  },
  {
   "cell_type": "code",
   "execution_count": 30,
   "metadata": {},
   "outputs": [
    {
     "name": "stdout",
     "output_type": "stream",
     "text": [
      "✅ Pivoted fixture stats shape: (163975, 10)\n"
     ]
    },
    {
     "data": {
      "application/vnd.microsoft.datawrangler.viewer.v0+json": {
       "columns": [
        {
         "name": "index",
         "rawType": "int64",
         "type": "integer"
        },
        {
         "name": "fixture_id",
         "rawType": "int64",
         "type": "integer"
        },
        {
         "name": "participant_id",
         "rawType": "int64",
         "type": "integer"
        },
        {
         "name": "stat_34",
         "rawType": "float64",
         "type": "float"
        },
        {
         "name": "stat_45",
         "rawType": "float64",
         "type": "float"
        },
        {
         "name": "stat_52",
         "rawType": "float64",
         "type": "float"
        },
        {
         "name": "stat_79",
         "rawType": "float64",
         "type": "float"
        },
        {
         "name": "stat_83",
         "rawType": "float64",
         "type": "float"
        },
        {
         "name": "stat_84",
         "rawType": "float64",
         "type": "float"
        },
        {
         "name": "stat_85",
         "rawType": "float64",
         "type": "float"
        },
        {
         "name": "stat_1605",
         "rawType": "float64",
         "type": "float"
        }
       ],
       "conversionMethod": "pd.DataFrame",
       "ref": "36eb1ac5-d7f2-45e6-a67f-a5271f609111",
       "rows": [
        [
         "0",
         "468",
         "13",
         null,
         null,
         "2.0",
         null,
         null,
         null,
         null,
         null
        ],
        [
         "1",
         "468",
         "33",
         null,
         null,
         "2.0",
         null,
         null,
         null,
         null,
         null
        ],
        [
         "2",
         "486",
         "16",
         "4.0",
         "55.0",
         null,
         null,
         null,
         "1.0",
         null,
         "54.0"
        ]
       ],
       "shape": {
        "columns": 10,
        "rows": 3
       }
      },
      "text/html": [
       "<div>\n",
       "<style scoped>\n",
       "    .dataframe tbody tr th:only-of-type {\n",
       "        vertical-align: middle;\n",
       "    }\n",
       "\n",
       "    .dataframe tbody tr th {\n",
       "        vertical-align: top;\n",
       "    }\n",
       "\n",
       "    .dataframe thead th {\n",
       "        text-align: right;\n",
       "    }\n",
       "</style>\n",
       "<table border=\"1\" class=\"dataframe\">\n",
       "  <thead>\n",
       "    <tr style=\"text-align: right;\">\n",
       "      <th></th>\n",
       "      <th>fixture_id</th>\n",
       "      <th>participant_id</th>\n",
       "      <th>stat_34</th>\n",
       "      <th>stat_45</th>\n",
       "      <th>stat_52</th>\n",
       "      <th>stat_79</th>\n",
       "      <th>stat_83</th>\n",
       "      <th>stat_84</th>\n",
       "      <th>stat_85</th>\n",
       "      <th>stat_1605</th>\n",
       "    </tr>\n",
       "  </thead>\n",
       "  <tbody>\n",
       "    <tr>\n",
       "      <th>0</th>\n",
       "      <td>468</td>\n",
       "      <td>13</td>\n",
       "      <td>NaN</td>\n",
       "      <td>NaN</td>\n",
       "      <td>2.0</td>\n",
       "      <td>NaN</td>\n",
       "      <td>NaN</td>\n",
       "      <td>NaN</td>\n",
       "      <td>NaN</td>\n",
       "      <td>NaN</td>\n",
       "    </tr>\n",
       "    <tr>\n",
       "      <th>1</th>\n",
       "      <td>468</td>\n",
       "      <td>33</td>\n",
       "      <td>NaN</td>\n",
       "      <td>NaN</td>\n",
       "      <td>2.0</td>\n",
       "      <td>NaN</td>\n",
       "      <td>NaN</td>\n",
       "      <td>NaN</td>\n",
       "      <td>NaN</td>\n",
       "      <td>NaN</td>\n",
       "    </tr>\n",
       "    <tr>\n",
       "      <th>2</th>\n",
       "      <td>486</td>\n",
       "      <td>16</td>\n",
       "      <td>4.0</td>\n",
       "      <td>55.0</td>\n",
       "      <td>NaN</td>\n",
       "      <td>NaN</td>\n",
       "      <td>NaN</td>\n",
       "      <td>1.0</td>\n",
       "      <td>NaN</td>\n",
       "      <td>54.0</td>\n",
       "    </tr>\n",
       "  </tbody>\n",
       "</table>\n",
       "</div>"
      ],
      "text/plain": [
       "   fixture_id  participant_id  stat_34  stat_45  stat_52  stat_79  stat_83  \\\n",
       "0         468              13      NaN      NaN      2.0      NaN      NaN   \n",
       "1         468              33      NaN      NaN      2.0      NaN      NaN   \n",
       "2         486              16      4.0     55.0      NaN      NaN      NaN   \n",
       "\n",
       "   stat_84  stat_85  stat_1605  \n",
       "0      NaN      NaN        NaN  \n",
       "1      NaN      NaN        NaN  \n",
       "2      1.0      NaN       54.0  "
      ]
     },
     "metadata": {},
     "output_type": "display_data"
    }
   ],
   "source": [
    "# === Pivot stats: one row per fixture_id and participant_id, stats as columns ===\n",
    "pivoted_stats_df = fixture_stats_df.pivot_table(\n",
    "    index=[\"fixture_id\", \"participant_id\"],\n",
    "    columns=\"type_id\",\n",
    "    values=\"data_value\",\n",
    "    aggfunc=\"first\"\n",
    ").reset_index()\n",
    "\n",
    "# Optional: Rename stat columns for clarity (e.g., stat_1, stat_2...)\n",
    "pivoted_stats_df.columns = ['fixture_id', 'participant_id'] + [f\"stat_{int(col)}\" for col in pivoted_stats_df.columns[2:]]\n",
    "\n",
    "print(\"✅ Pivoted fixture stats shape:\", pivoted_stats_df.shape)\n",
    "display(pivoted_stats_df.head(3))"
   ]
  },
  {
   "cell_type": "code",
   "execution_count": 31,
   "metadata": {},
   "outputs": [
    {
     "name": "stdout",
     "output_type": "stream",
     "text": [
      "Unique fixture_ids in fixture_stats_df: 81987\n",
      "Unique participant_ids: 1693\n",
      "Unique type_ids: 8\n",
      "Total rows in fixture_stats_df: 923716\n"
     ]
    }
   ],
   "source": [
    "print(\"Unique fixture_ids in fixture_stats_df:\", fixture_stats_df['fixture_id'].nunique())\n",
    "print(\"Unique participant_ids:\", fixture_stats_df['participant_id'].nunique())\n",
    "print(\"Unique type_ids:\", fixture_stats_df['type_id'].nunique())\n",
    "print(\"Total rows in fixture_stats_df:\", fixture_stats_df.shape[0])"
   ]
  },
  {
   "cell_type": "code",
   "execution_count": 33,
   "metadata": {},
   "outputs": [
    {
     "name": "stdout",
     "output_type": "stream",
     "text": [
      "📊 Unique stat types (type_id) and their counts:\n",
      "type_id\n",
      "34      157936\n",
      "45      155320\n",
      "52      145120\n",
      "79       43888\n",
      "83      121446\n",
      "84      133266\n",
      "85       72188\n",
      "1605     94552\n",
      "Name: count, dtype: int64\n"
     ]
    }
   ],
   "source": [
    "import pandas as pd\n",
    "\n",
    "# Load fixture statistics\n",
    "fixture_stats_df = pd.read_csv(\"/Users/sebastianvinther/Desktop/Sportsmonks/fixture_statistics_parallel.csv\")\n",
    "\n",
    "# Show unique type_id values and how many times each appears\n",
    "type_id_counts = fixture_stats_df['type_id'].value_counts().sort_index()\n",
    "\n",
    "print(\"📊 Unique stat types (type_id) and their counts:\")\n",
    "print(type_id_counts)\n"
   ]
  },
  {
   "cell_type": "code",
   "execution_count": 34,
   "metadata": {},
   "outputs": [],
   "source": [
    "# Define the corrected mapping\n",
    "type_id_mapping = {\n",
    "    34: \"corners\",\n",
    "    45: \"ball_possession_percent\",\n",
    "    52: \"total_shots\",\n",
    "    79: \"yellow_cards\",\n",
    "    83: \"total_passes\",\n",
    "    84: \"fouls\",\n",
    "    85: \"offsides\",\n",
    "    1605: \"ball_recoveries\"\n",
    "}\n",
    "\n",
    "# Apply the mapping to create a new column with descriptive names\n",
    "fixture_stats_df['stat_name'] = fixture_stats_df['type_id'].map(type_id_mapping)\n",
    "\n",
    "# Optional: Filter out rows with unmapped type_ids\n",
    "fixture_stats_df = fixture_stats_df[fixture_stats_df['stat_name'].notna()]"
   ]
  },
  {
   "cell_type": "code",
   "execution_count": 35,
   "metadata": {},
   "outputs": [
    {
     "name": "stdout",
     "output_type": "stream",
     "text": [
      "✅ Pivoted fixture stats shape: (163975, 10)\n"
     ]
    },
    {
     "data": {
      "application/vnd.microsoft.datawrangler.viewer.v0+json": {
       "columns": [
        {
         "name": "index",
         "rawType": "int64",
         "type": "integer"
        },
        {
         "name": "fixture_id",
         "rawType": "int64",
         "type": "integer"
        },
        {
         "name": "participant_id",
         "rawType": "int64",
         "type": "integer"
        },
        {
         "name": "ball_possession_percent",
         "rawType": "float64",
         "type": "float"
        },
        {
         "name": "ball_recoveries",
         "rawType": "float64",
         "type": "float"
        },
        {
         "name": "corners",
         "rawType": "float64",
         "type": "float"
        },
        {
         "name": "fouls",
         "rawType": "float64",
         "type": "float"
        },
        {
         "name": "offsides",
         "rawType": "float64",
         "type": "float"
        },
        {
         "name": "total_passes",
         "rawType": "float64",
         "type": "float"
        },
        {
         "name": "total_shots",
         "rawType": "float64",
         "type": "float"
        },
        {
         "name": "yellow_cards",
         "rawType": "float64",
         "type": "float"
        }
       ],
       "conversionMethod": "pd.DataFrame",
       "ref": "a1260877-da54-4428-a194-aefdc1aa861f",
       "rows": [
        [
         "0",
         "468",
         "13",
         null,
         null,
         null,
         null,
         null,
         null,
         "2.0",
         null
        ],
        [
         "1",
         "468",
         "33",
         null,
         null,
         null,
         null,
         null,
         null,
         "2.0",
         null
        ],
        [
         "2",
         "486",
         "16",
         "55.0",
         "54.0",
         "4.0",
         "1.0",
         null,
         null,
         null,
         null
        ],
        [
         "3",
         "486",
         "26",
         "45.0",
         "33.0",
         "3.0",
         "2.0",
         null,
         null,
         null,
         null
        ],
        [
         "4",
         "518",
         "2",
         "62.0",
         "37.0",
         "6.0",
         "0.0",
         null,
         null,
         null,
         null
        ]
       ],
       "shape": {
        "columns": 10,
        "rows": 5
       }
      },
      "text/html": [
       "<div>\n",
       "<style scoped>\n",
       "    .dataframe tbody tr th:only-of-type {\n",
       "        vertical-align: middle;\n",
       "    }\n",
       "\n",
       "    .dataframe tbody tr th {\n",
       "        vertical-align: top;\n",
       "    }\n",
       "\n",
       "    .dataframe thead th {\n",
       "        text-align: right;\n",
       "    }\n",
       "</style>\n",
       "<table border=\"1\" class=\"dataframe\">\n",
       "  <thead>\n",
       "    <tr style=\"text-align: right;\">\n",
       "      <th></th>\n",
       "      <th>fixture_id</th>\n",
       "      <th>participant_id</th>\n",
       "      <th>ball_possession_percent</th>\n",
       "      <th>ball_recoveries</th>\n",
       "      <th>corners</th>\n",
       "      <th>fouls</th>\n",
       "      <th>offsides</th>\n",
       "      <th>total_passes</th>\n",
       "      <th>total_shots</th>\n",
       "      <th>yellow_cards</th>\n",
       "    </tr>\n",
       "  </thead>\n",
       "  <tbody>\n",
       "    <tr>\n",
       "      <th>0</th>\n",
       "      <td>468</td>\n",
       "      <td>13</td>\n",
       "      <td>NaN</td>\n",
       "      <td>NaN</td>\n",
       "      <td>NaN</td>\n",
       "      <td>NaN</td>\n",
       "      <td>NaN</td>\n",
       "      <td>NaN</td>\n",
       "      <td>2.0</td>\n",
       "      <td>NaN</td>\n",
       "    </tr>\n",
       "    <tr>\n",
       "      <th>1</th>\n",
       "      <td>468</td>\n",
       "      <td>33</td>\n",
       "      <td>NaN</td>\n",
       "      <td>NaN</td>\n",
       "      <td>NaN</td>\n",
       "      <td>NaN</td>\n",
       "      <td>NaN</td>\n",
       "      <td>NaN</td>\n",
       "      <td>2.0</td>\n",
       "      <td>NaN</td>\n",
       "    </tr>\n",
       "    <tr>\n",
       "      <th>2</th>\n",
       "      <td>486</td>\n",
       "      <td>16</td>\n",
       "      <td>55.0</td>\n",
       "      <td>54.0</td>\n",
       "      <td>4.0</td>\n",
       "      <td>1.0</td>\n",
       "      <td>NaN</td>\n",
       "      <td>NaN</td>\n",
       "      <td>NaN</td>\n",
       "      <td>NaN</td>\n",
       "    </tr>\n",
       "    <tr>\n",
       "      <th>3</th>\n",
       "      <td>486</td>\n",
       "      <td>26</td>\n",
       "      <td>45.0</td>\n",
       "      <td>33.0</td>\n",
       "      <td>3.0</td>\n",
       "      <td>2.0</td>\n",
       "      <td>NaN</td>\n",
       "      <td>NaN</td>\n",
       "      <td>NaN</td>\n",
       "      <td>NaN</td>\n",
       "    </tr>\n",
       "    <tr>\n",
       "      <th>4</th>\n",
       "      <td>518</td>\n",
       "      <td>2</td>\n",
       "      <td>62.0</td>\n",
       "      <td>37.0</td>\n",
       "      <td>6.0</td>\n",
       "      <td>0.0</td>\n",
       "      <td>NaN</td>\n",
       "      <td>NaN</td>\n",
       "      <td>NaN</td>\n",
       "      <td>NaN</td>\n",
       "    </tr>\n",
       "  </tbody>\n",
       "</table>\n",
       "</div>"
      ],
      "text/plain": [
       "   fixture_id  participant_id  ball_possession_percent  ball_recoveries  \\\n",
       "0         468              13                      NaN              NaN   \n",
       "1         468              33                      NaN              NaN   \n",
       "2         486              16                     55.0             54.0   \n",
       "3         486              26                     45.0             33.0   \n",
       "4         518               2                     62.0             37.0   \n",
       "\n",
       "   corners  fouls  offsides  total_passes  total_shots  yellow_cards  \n",
       "0      NaN    NaN       NaN           NaN          2.0           NaN  \n",
       "1      NaN    NaN       NaN           NaN          2.0           NaN  \n",
       "2      4.0    1.0       NaN           NaN          NaN           NaN  \n",
       "3      3.0    2.0       NaN           NaN          NaN           NaN  \n",
       "4      6.0    0.0       NaN           NaN          NaN           NaN  "
      ]
     },
     "execution_count": 35,
     "metadata": {},
     "output_type": "execute_result"
    }
   ],
   "source": [
    "# Pivot the statistics: rows = fixture_id + participant_id, columns = stat_name\n",
    "fixture_stats_pivoted_df = fixture_stats_df.pivot_table(\n",
    "    index=['fixture_id', 'participant_id'],\n",
    "    columns='stat_name',\n",
    "    values='data_value',\n",
    "    aggfunc='first'  # assumes one value per stat per fixture/team\n",
    ").reset_index()\n",
    "\n",
    "# Flatten MultiIndex columns (in case they exist after pivot)\n",
    "fixture_stats_pivoted_df.columns.name = None\n",
    "fixture_stats_pivoted_df.columns = [str(col) for col in fixture_stats_pivoted_df.columns]\n",
    "\n",
    "print(f\"✅ Pivoted fixture stats shape: {fixture_stats_pivoted_df.shape}\")\n",
    "fixture_stats_pivoted_df.head()"
   ]
  },
  {
   "cell_type": "code",
   "execution_count": 36,
   "metadata": {},
   "outputs": [
    {
     "name": "stdout",
     "output_type": "stream",
     "text": [
      "🔍 Unique type_ids: [  52 1605   34   45   84   83   85   79]\n",
      "📊 Sample rows:\n"
     ]
    },
    {
     "data": {
      "application/vnd.microsoft.datawrangler.viewer.v0+json": {
       "columns": [
        {
         "name": "index",
         "rawType": "int64",
         "type": "integer"
        },
        {
         "name": "fixture_id",
         "rawType": "int64",
         "type": "integer"
        },
        {
         "name": "id",
         "rawType": "int64",
         "type": "integer"
        },
        {
         "name": "type_id",
         "rawType": "int64",
         "type": "integer"
        },
        {
         "name": "participant_id",
         "rawType": "int64",
         "type": "integer"
        },
        {
         "name": "data_value",
         "rawType": "float64",
         "type": "float"
        },
        {
         "name": "location",
         "rawType": "object",
         "type": "string"
        }
       ],
       "conversionMethod": "pd.DataFrame",
       "ref": "a73a7432-7a8f-4f6e-8654-aa7805d254bc",
       "rows": [
        [
         "0",
         "468",
         "22501328",
         "52",
         "13",
         "2.0",
         "away"
        ],
        [
         "1",
         "468",
         "22501327",
         "52",
         "33",
         "2.0",
         "home"
        ],
        [
         "2",
         "486",
         "17278081",
         "1605",
         "16",
         "54.0",
         "home"
        ],
        [
         "3",
         "486",
         "17278082",
         "34",
         "26",
         "3.0",
         "away"
        ],
        [
         "4",
         "486",
         "17278095",
         "45",
         "16",
         "55.0",
         "home"
        ],
        [
         "5",
         "486",
         "17278097",
         "45",
         "26",
         "45.0",
         "away"
        ],
        [
         "6",
         "486",
         "17278122",
         "1605",
         "26",
         "33.0",
         "away"
        ],
        [
         "7",
         "486",
         "17278125",
         "34",
         "16",
         "4.0",
         "home"
        ],
        [
         "8",
         "486",
         "52391006",
         "84",
         "26",
         "2.0",
         "away"
        ],
        [
         "9",
         "486",
         "52391004",
         "84",
         "16",
         "1.0",
         "home"
        ]
       ],
       "shape": {
        "columns": 6,
        "rows": 10
       }
      },
      "text/html": [
       "<div>\n",
       "<style scoped>\n",
       "    .dataframe tbody tr th:only-of-type {\n",
       "        vertical-align: middle;\n",
       "    }\n",
       "\n",
       "    .dataframe tbody tr th {\n",
       "        vertical-align: top;\n",
       "    }\n",
       "\n",
       "    .dataframe thead th {\n",
       "        text-align: right;\n",
       "    }\n",
       "</style>\n",
       "<table border=\"1\" class=\"dataframe\">\n",
       "  <thead>\n",
       "    <tr style=\"text-align: right;\">\n",
       "      <th></th>\n",
       "      <th>fixture_id</th>\n",
       "      <th>id</th>\n",
       "      <th>type_id</th>\n",
       "      <th>participant_id</th>\n",
       "      <th>data_value</th>\n",
       "      <th>location</th>\n",
       "    </tr>\n",
       "  </thead>\n",
       "  <tbody>\n",
       "    <tr>\n",
       "      <th>0</th>\n",
       "      <td>468</td>\n",
       "      <td>22501328</td>\n",
       "      <td>52</td>\n",
       "      <td>13</td>\n",
       "      <td>2.0</td>\n",
       "      <td>away</td>\n",
       "    </tr>\n",
       "    <tr>\n",
       "      <th>1</th>\n",
       "      <td>468</td>\n",
       "      <td>22501327</td>\n",
       "      <td>52</td>\n",
       "      <td>33</td>\n",
       "      <td>2.0</td>\n",
       "      <td>home</td>\n",
       "    </tr>\n",
       "    <tr>\n",
       "      <th>2</th>\n",
       "      <td>486</td>\n",
       "      <td>17278081</td>\n",
       "      <td>1605</td>\n",
       "      <td>16</td>\n",
       "      <td>54.0</td>\n",
       "      <td>home</td>\n",
       "    </tr>\n",
       "    <tr>\n",
       "      <th>3</th>\n",
       "      <td>486</td>\n",
       "      <td>17278082</td>\n",
       "      <td>34</td>\n",
       "      <td>26</td>\n",
       "      <td>3.0</td>\n",
       "      <td>away</td>\n",
       "    </tr>\n",
       "    <tr>\n",
       "      <th>4</th>\n",
       "      <td>486</td>\n",
       "      <td>17278095</td>\n",
       "      <td>45</td>\n",
       "      <td>16</td>\n",
       "      <td>55.0</td>\n",
       "      <td>home</td>\n",
       "    </tr>\n",
       "    <tr>\n",
       "      <th>5</th>\n",
       "      <td>486</td>\n",
       "      <td>17278097</td>\n",
       "      <td>45</td>\n",
       "      <td>26</td>\n",
       "      <td>45.0</td>\n",
       "      <td>away</td>\n",
       "    </tr>\n",
       "    <tr>\n",
       "      <th>6</th>\n",
       "      <td>486</td>\n",
       "      <td>17278122</td>\n",
       "      <td>1605</td>\n",
       "      <td>26</td>\n",
       "      <td>33.0</td>\n",
       "      <td>away</td>\n",
       "    </tr>\n",
       "    <tr>\n",
       "      <th>7</th>\n",
       "      <td>486</td>\n",
       "      <td>17278125</td>\n",
       "      <td>34</td>\n",
       "      <td>16</td>\n",
       "      <td>4.0</td>\n",
       "      <td>home</td>\n",
       "    </tr>\n",
       "    <tr>\n",
       "      <th>8</th>\n",
       "      <td>486</td>\n",
       "      <td>52391006</td>\n",
       "      <td>84</td>\n",
       "      <td>26</td>\n",
       "      <td>2.0</td>\n",
       "      <td>away</td>\n",
       "    </tr>\n",
       "    <tr>\n",
       "      <th>9</th>\n",
       "      <td>486</td>\n",
       "      <td>52391004</td>\n",
       "      <td>84</td>\n",
       "      <td>16</td>\n",
       "      <td>1.0</td>\n",
       "      <td>home</td>\n",
       "    </tr>\n",
       "  </tbody>\n",
       "</table>\n",
       "</div>"
      ],
      "text/plain": [
       "   fixture_id        id  type_id  participant_id  data_value location\n",
       "0         468  22501328       52              13         2.0     away\n",
       "1         468  22501327       52              33         2.0     home\n",
       "2         486  17278081     1605              16        54.0     home\n",
       "3         486  17278082       34              26         3.0     away\n",
       "4         486  17278095       45              16        55.0     home\n",
       "5         486  17278097       45              26        45.0     away\n",
       "6         486  17278122     1605              26        33.0     away\n",
       "7         486  17278125       34              16         4.0     home\n",
       "8         486  52391006       84              26         2.0     away\n",
       "9         486  52391004       84              16         1.0     home"
      ]
     },
     "metadata": {},
     "output_type": "display_data"
    }
   ],
   "source": [
    "# Load the stats file\n",
    "stats_parallel_df = pd.read_csv(\"/Users/sebastianvinther/Desktop/Sportsmonks/fixture_statistics_parallel.csv\")\n",
    "\n",
    "# Show unique stat types\n",
    "print(\"🔍 Unique type_ids:\", stats_parallel_df['type_id'].unique())\n",
    "print(\"📊 Sample rows:\")\n",
    "display(stats_parallel_df.head(10))\n"
   ]
  },
  {
   "cell_type": "code",
   "execution_count": 39,
   "metadata": {},
   "outputs": [
    {
     "name": "stdout",
     "output_type": "stream",
     "text": [
      "✅ Saved: merged_teams.csv\n",
      "✅ Saved: merged_players.csv\n",
      "✅ Saved: merged_fixtures.csv\n",
      "✅ Saved: fixture_stats_pivoted.csv\n"
     ]
    }
   ],
   "source": [
    "# Save full merged teams dataset\n",
    "teams_merged_df.to_csv(\"/Users/sebastianvinther/Desktop/Sportsmonks/merged_teams.csv\", index=False)\n",
    "print(\"✅ Saved: merged_teams.csv\")\n",
    "\n",
    "# Save merged players dataset\n",
    "players_merged_df.to_csv(\"/Users/sebastianvinther/Desktop/Sportsmonks/merged_players.csv\", index=False)\n",
    "print(\"✅ Saved: merged_players.csv\")\n",
    "\n",
    "\n",
    "# Save merged fixtures dataset\n",
    "fixture_details_merged.to_csv(\"/Users/sebastianvinther/Desktop/Sportsmonks/merged_fixtures.csv\", index=False)\n",
    "print(\"✅ Saved: merged_fixtures.csv\")\n",
    "\n",
    "# Save pivoted fixture stats\n",
    "fixture_stats_pivoted_df.to_csv(\"/Users/sebastianvinther/Desktop/Sportsmonks/fixture_stats_pivoted.csv\", index=False)\n",
    "print(\"✅ Saved: fixture_stats_pivoted.csv\")"
   ]
  },
  {
   "cell_type": "code",
   "execution_count": 38,
   "metadata": {},
   "outputs": [
    {
     "name": "stdout",
     "output_type": "stream",
     "text": [
      "Variable                   Type         Data/Info\n",
      "-------------------------------------------------\n",
      "away_teams_df              DataFrame          away_team_id  away_<...>n[2508 rows x 21 columns]\n",
      "df                         DataFrame            fixture_id       <...>152192 rows x 14 columns]\n",
      "fixture_details            DataFrame            fixture_id       <...>152192 rows x 14 columns]\n",
      "fixture_details_df         DataFrame            fixture_id       <...>152192 rows x 14 columns]\n",
      "fixture_details_merged     DataFrame            fixture_id       <...>152192 rows x 54 columns]\n",
      "fixture_stats_df           DataFrame            fixture_id       <...>[923716 rows x 7 columns]\n",
      "fixture_stats_pivoted_df   DataFrame            fixture_id  parti<...>163975 rows x 10 columns]\n",
      "fixtures                   DataFrame            fixture_id  sport<...>155541 rows x 20 columns]\n",
      "fixtures_df                DataFrame            fixture_id  sport<...>155541 rows x 20 columns]\n",
      "home_teams_df              DataFrame          home_team_id  home_<...>n[2508 rows x 21 columns]\n",
      "pivoted_stats_df           DataFrame            fixture_id  parti<...>163975 rows x 10 columns]\n",
      "players_merged_df          DataFrame           team_id         te<...>[34243 rows x 31 columns]\n",
      "stats_parallel_df          DataFrame            fixture_id       <...>[923716 rows x 6 columns]\n",
      "team_coaches_df            DataFrame          team_id         tea<...>\\n[3278 rows x 9 columns]\n",
      "team_players_df            DataFrame           team_id         te<...>[34243 rows x 11 columns]\n",
      "team_stats_df              DataFrame           team_id           <...>n[80644 rows x 5 columns]\n",
      "team_summaries_df          DataFrame          team_id  sport_id  <...>n[2508 rows x 21 columns]\n",
      "teams_df                   DataFrame          team_id  sport_id  <...>n[2508 rows x 21 columns]\n",
      "teams_merged_df            DataFrame            team_id  sport_id<...>203800 rows x 53 columns]\n"
     ]
    }
   ],
   "source": [
    "%whos DataFrame\n"
   ]
  }
 ],
 "metadata": {
  "kernelspec": {
   "display_name": "base",
   "language": "python",
   "name": "python3"
  },
  "language_info": {
   "codemirror_mode": {
    "name": "ipython",
    "version": 3
   },
   "file_extension": ".py",
   "mimetype": "text/x-python",
   "name": "python",
   "nbconvert_exporter": "python",
   "pygments_lexer": "ipython3",
   "version": "3.12.7"
  }
 },
 "nbformat": 4,
 "nbformat_minor": 2
}
