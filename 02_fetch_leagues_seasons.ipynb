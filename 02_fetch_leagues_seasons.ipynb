{
 "cells": [
  {
   "cell_type": "code",
   "execution_count": 3,
   "metadata": {},
   "outputs": [
    {
     "name": "stdout",
     "output_type": "stream",
     "text": [
      "Fetching leagues...\n",
      "Fetched 27 leagues!\n"
     ]
    },
    {
     "data": {
      "application/vnd.microsoft.datawrangler.viewer.v0+json": {
       "columns": [
        {
         "name": "index",
         "rawType": "int64",
         "type": "integer"
        },
        {
         "name": "id",
         "rawType": "int64",
         "type": "integer"
        },
        {
         "name": "sport_id",
         "rawType": "int64",
         "type": "integer"
        },
        {
         "name": "country_id",
         "rawType": "int64",
         "type": "integer"
        },
        {
         "name": "name",
         "rawType": "object",
         "type": "string"
        },
        {
         "name": "active",
         "rawType": "bool",
         "type": "boolean"
        },
        {
         "name": "short_code",
         "rawType": "object",
         "type": "unknown"
        },
        {
         "name": "image_path",
         "rawType": "object",
         "type": "string"
        },
        {
         "name": "type",
         "rawType": "object",
         "type": "string"
        },
        {
         "name": "sub_type",
         "rawType": "object",
         "type": "string"
        },
        {
         "name": "last_played_at",
         "rawType": "object",
         "type": "string"
        },
        {
         "name": "category",
         "rawType": "int64",
         "type": "integer"
        },
        {
         "name": "has_jerseys",
         "rawType": "bool",
         "type": "boolean"
        }
       ],
       "conversionMethod": "pd.DataFrame",
       "ref": "3bd98c67-f18e-4e30-a80e-577d2b00a8e2",
       "rows": [
        [
         "0",
         "8",
         "1",
         "462",
         "Premier League",
         "True",
         "UK PL",
         "https://cdn.sportmonks.com/images/soccer/leagues/8/8.png",
         "league",
         "domestic",
         "2025-04-27 15:30:00",
         "1",
         "False"
        ],
        [
         "1",
         "9",
         "1",
         "462",
         "Championship",
         "True",
         "UK Champ",
         "https://cdn.sportmonks.com/images/soccer/leagues/9/9.png",
         "league",
         "domestic",
         "2025-04-28 19:00:00",
         "2",
         "False"
        ],
        [
         "2",
         "24",
         "1",
         "462",
         "FA Cup",
         "True",
         "UK FA Cup",
         "https://cdn.sportmonks.com/images/soccer/leagues/24/24.png",
         "league",
         "domestic_cup",
         "2025-04-27 15:30:00",
         "2",
         "False"
        ],
        [
         "3",
         "27",
         "1",
         "462",
         "Carabao Cup",
         "True",
         null,
         "https://cdn.sportmonks.com/images/soccer/leagues/27/27.png",
         "league",
         "domestic_cup",
         "2025-03-16 16:30:00",
         "2",
         "False"
        ],
        [
         "4",
         "72",
         "1",
         "38",
         "Eredivisie",
         "True",
         "NLD E",
         "https://cdn.sportmonks.com/images/soccer/leagues/72.png",
         "league",
         "domestic",
         "2025-04-27 14:45:00",
         "1",
         "False"
        ]
       ],
       "shape": {
        "columns": 12,
        "rows": 5
       }
      },
      "text/html": [
       "<div>\n",
       "<style scoped>\n",
       "    .dataframe tbody tr th:only-of-type {\n",
       "        vertical-align: middle;\n",
       "    }\n",
       "\n",
       "    .dataframe tbody tr th {\n",
       "        vertical-align: top;\n",
       "    }\n",
       "\n",
       "    .dataframe thead th {\n",
       "        text-align: right;\n",
       "    }\n",
       "</style>\n",
       "<table border=\"1\" class=\"dataframe\">\n",
       "  <thead>\n",
       "    <tr style=\"text-align: right;\">\n",
       "      <th></th>\n",
       "      <th>id</th>\n",
       "      <th>sport_id</th>\n",
       "      <th>country_id</th>\n",
       "      <th>name</th>\n",
       "      <th>active</th>\n",
       "      <th>short_code</th>\n",
       "      <th>image_path</th>\n",
       "      <th>type</th>\n",
       "      <th>sub_type</th>\n",
       "      <th>last_played_at</th>\n",
       "      <th>category</th>\n",
       "      <th>has_jerseys</th>\n",
       "    </tr>\n",
       "  </thead>\n",
       "  <tbody>\n",
       "    <tr>\n",
       "      <th>0</th>\n",
       "      <td>8</td>\n",
       "      <td>1</td>\n",
       "      <td>462</td>\n",
       "      <td>Premier League</td>\n",
       "      <td>True</td>\n",
       "      <td>UK PL</td>\n",
       "      <td>https://cdn.sportmonks.com/images/soccer/leagu...</td>\n",
       "      <td>league</td>\n",
       "      <td>domestic</td>\n",
       "      <td>2025-04-27 15:30:00</td>\n",
       "      <td>1</td>\n",
       "      <td>False</td>\n",
       "    </tr>\n",
       "    <tr>\n",
       "      <th>1</th>\n",
       "      <td>9</td>\n",
       "      <td>1</td>\n",
       "      <td>462</td>\n",
       "      <td>Championship</td>\n",
       "      <td>True</td>\n",
       "      <td>UK Champ</td>\n",
       "      <td>https://cdn.sportmonks.com/images/soccer/leagu...</td>\n",
       "      <td>league</td>\n",
       "      <td>domestic</td>\n",
       "      <td>2025-04-28 19:00:00</td>\n",
       "      <td>2</td>\n",
       "      <td>False</td>\n",
       "    </tr>\n",
       "    <tr>\n",
       "      <th>2</th>\n",
       "      <td>24</td>\n",
       "      <td>1</td>\n",
       "      <td>462</td>\n",
       "      <td>FA Cup</td>\n",
       "      <td>True</td>\n",
       "      <td>UK FA Cup</td>\n",
       "      <td>https://cdn.sportmonks.com/images/soccer/leagu...</td>\n",
       "      <td>league</td>\n",
       "      <td>domestic_cup</td>\n",
       "      <td>2025-04-27 15:30:00</td>\n",
       "      <td>2</td>\n",
       "      <td>False</td>\n",
       "    </tr>\n",
       "    <tr>\n",
       "      <th>3</th>\n",
       "      <td>27</td>\n",
       "      <td>1</td>\n",
       "      <td>462</td>\n",
       "      <td>Carabao Cup</td>\n",
       "      <td>True</td>\n",
       "      <td>None</td>\n",
       "      <td>https://cdn.sportmonks.com/images/soccer/leagu...</td>\n",
       "      <td>league</td>\n",
       "      <td>domestic_cup</td>\n",
       "      <td>2025-03-16 16:30:00</td>\n",
       "      <td>2</td>\n",
       "      <td>False</td>\n",
       "    </tr>\n",
       "    <tr>\n",
       "      <th>4</th>\n",
       "      <td>72</td>\n",
       "      <td>1</td>\n",
       "      <td>38</td>\n",
       "      <td>Eredivisie</td>\n",
       "      <td>True</td>\n",
       "      <td>NLD E</td>\n",
       "      <td>https://cdn.sportmonks.com/images/soccer/leagu...</td>\n",
       "      <td>league</td>\n",
       "      <td>domestic</td>\n",
       "      <td>2025-04-27 14:45:00</td>\n",
       "      <td>1</td>\n",
       "      <td>False</td>\n",
       "    </tr>\n",
       "  </tbody>\n",
       "</table>\n",
       "</div>"
      ],
      "text/plain": [
       "   id  sport_id  country_id            name  active short_code  \\\n",
       "0   8         1         462  Premier League    True      UK PL   \n",
       "1   9         1         462    Championship    True   UK Champ   \n",
       "2  24         1         462          FA Cup    True  UK FA Cup   \n",
       "3  27         1         462     Carabao Cup    True       None   \n",
       "4  72         1          38      Eredivisie    True      NLD E   \n",
       "\n",
       "                                          image_path    type      sub_type  \\\n",
       "0  https://cdn.sportmonks.com/images/soccer/leagu...  league      domestic   \n",
       "1  https://cdn.sportmonks.com/images/soccer/leagu...  league      domestic   \n",
       "2  https://cdn.sportmonks.com/images/soccer/leagu...  league  domestic_cup   \n",
       "3  https://cdn.sportmonks.com/images/soccer/leagu...  league  domestic_cup   \n",
       "4  https://cdn.sportmonks.com/images/soccer/leagu...  league      domestic   \n",
       "\n",
       "        last_played_at  category  has_jerseys  \n",
       "0  2025-04-27 15:30:00         1        False  \n",
       "1  2025-04-28 19:00:00         2        False  \n",
       "2  2025-04-27 15:30:00         2        False  \n",
       "3  2025-03-16 16:30:00         2        False  \n",
       "4  2025-04-27 14:45:00         1        False  "
      ]
     },
     "metadata": {},
     "output_type": "display_data"
    },
    {
     "name": "stdout",
     "output_type": "stream",
     "text": [
      "Active leagues: 27\n",
      "Fetching seasons for League ID 8 - Premier League\n",
      "Fetching seasons for League ID 9 - Championship\n",
      "Fetching seasons for League ID 24 - FA Cup\n",
      "Fetching seasons for League ID 27 - Carabao Cup\n",
      "Fetching seasons for League ID 72 - Eredivisie\n",
      "Fetching seasons for League ID 82 - Bundesliga\n",
      "Fetching seasons for League ID 181 - Admiral Bundesliga\n",
      "Fetching seasons for League ID 208 - Pro League\n",
      "Fetching seasons for League ID 244 - 1. HNL\n",
      "Fetching seasons for League ID 271 - Superliga\n",
      "Fetching seasons for League ID 301 - Ligue 1\n",
      "Fetching seasons for League ID 384 - Serie A\n",
      "Fetching seasons for League ID 387 - Serie B\n",
      "Fetching seasons for League ID 390 - Coppa Italia\n",
      "Fetching seasons for League ID 444 - Eliteserien\n",
      "Fetching seasons for League ID 453 - Ekstraklasa\n",
      "Fetching seasons for League ID 462 - Liga Portugal\n",
      "Fetching seasons for League ID 486 - Premier League\n",
      "Fetching seasons for League ID 501 - Premiership\n",
      "Fetching seasons for League ID 564 - La Liga\n",
      "Fetching seasons for League ID 567 - La Liga 2\n",
      "Fetching seasons for League ID 570 - Copa Del Rey\n",
      "Fetching seasons for League ID 573 - Allsvenskan\n",
      "Fetching seasons for League ID 591 - Super League\n",
      "Fetching seasons for League ID 600 - Super Lig\n",
      "Fetching seasons for League ID 609 - Premier League\n",
      "Fetching seasons for League ID 1371 - UEFA Europa League Play-offs\n",
      "Total seasons fetched: 531\n"
     ]
    },
    {
     "data": {
      "application/vnd.microsoft.datawrangler.viewer.v0+json": {
       "columns": [
        {
         "name": "index",
         "rawType": "int64",
         "type": "integer"
        },
        {
         "name": "league_id",
         "rawType": "int64",
         "type": "integer"
        },
        {
         "name": "league_name",
         "rawType": "object",
         "type": "string"
        },
        {
         "name": "season_id",
         "rawType": "int64",
         "type": "integer"
        },
        {
         "name": "season_name",
         "rawType": "object",
         "type": "string"
        },
        {
         "name": "is_current",
         "rawType": "object",
         "type": "unknown"
        }
       ],
       "conversionMethod": "pd.DataFrame",
       "ref": "03bc47ad-9a7b-429f-af0d-9a3868a3935f",
       "rows": [
        [
         "0",
         "8",
         "Premier League",
         "2",
         "2010/2011",
         null
        ],
        [
         "1",
         "8",
         "Premier League",
         "3",
         "2013/2014",
         null
        ],
        [
         "2",
         "8",
         "Premier League",
         "6",
         "2008/2009",
         null
        ],
        [
         "3",
         "8",
         "Premier League",
         "7",
         "2012/2013",
         null
        ],
        [
         "4",
         "8",
         "Premier League",
         "8",
         "2006/2007",
         null
        ]
       ],
       "shape": {
        "columns": 5,
        "rows": 5
       }
      },
      "text/html": [
       "<div>\n",
       "<style scoped>\n",
       "    .dataframe tbody tr th:only-of-type {\n",
       "        vertical-align: middle;\n",
       "    }\n",
       "\n",
       "    .dataframe tbody tr th {\n",
       "        vertical-align: top;\n",
       "    }\n",
       "\n",
       "    .dataframe thead th {\n",
       "        text-align: right;\n",
       "    }\n",
       "</style>\n",
       "<table border=\"1\" class=\"dataframe\">\n",
       "  <thead>\n",
       "    <tr style=\"text-align: right;\">\n",
       "      <th></th>\n",
       "      <th>league_id</th>\n",
       "      <th>league_name</th>\n",
       "      <th>season_id</th>\n",
       "      <th>season_name</th>\n",
       "      <th>is_current</th>\n",
       "    </tr>\n",
       "  </thead>\n",
       "  <tbody>\n",
       "    <tr>\n",
       "      <th>0</th>\n",
       "      <td>8</td>\n",
       "      <td>Premier League</td>\n",
       "      <td>2</td>\n",
       "      <td>2010/2011</td>\n",
       "      <td>None</td>\n",
       "    </tr>\n",
       "    <tr>\n",
       "      <th>1</th>\n",
       "      <td>8</td>\n",
       "      <td>Premier League</td>\n",
       "      <td>3</td>\n",
       "      <td>2013/2014</td>\n",
       "      <td>None</td>\n",
       "    </tr>\n",
       "    <tr>\n",
       "      <th>2</th>\n",
       "      <td>8</td>\n",
       "      <td>Premier League</td>\n",
       "      <td>6</td>\n",
       "      <td>2008/2009</td>\n",
       "      <td>None</td>\n",
       "    </tr>\n",
       "    <tr>\n",
       "      <th>3</th>\n",
       "      <td>8</td>\n",
       "      <td>Premier League</td>\n",
       "      <td>7</td>\n",
       "      <td>2012/2013</td>\n",
       "      <td>None</td>\n",
       "    </tr>\n",
       "    <tr>\n",
       "      <th>4</th>\n",
       "      <td>8</td>\n",
       "      <td>Premier League</td>\n",
       "      <td>8</td>\n",
       "      <td>2006/2007</td>\n",
       "      <td>None</td>\n",
       "    </tr>\n",
       "  </tbody>\n",
       "</table>\n",
       "</div>"
      ],
      "text/plain": [
       "   league_id     league_name  season_id season_name is_current\n",
       "0          8  Premier League          2   2010/2011       None\n",
       "1          8  Premier League          3   2013/2014       None\n",
       "2          8  Premier League          6   2008/2009       None\n",
       "3          8  Premier League          7   2012/2013       None\n",
       "4          8  Premier League          8   2006/2007       None"
      ]
     },
     "metadata": {},
     "output_type": "display_data"
    }
   ],
   "source": [
    "# 1. Imports\n",
    "import sys\n",
    "sys.path.append('./sportmonks_api')\n",
    "\n",
    "import pandas as pd\n",
    "from sportmonks_calls import Leagues, Seasons\n",
    "\n",
    "# 2. API Key\n",
    "API_KEY = \"oYeoAVFUTQpu7MfoFqbvyiYfgRRkuBWW0p2atkZnySe4X3xrHkjgGhOvI0pd\"\n",
    "\n",
    "# 3. Initialize classes\n",
    "leagues_api = Leagues(API_KEY)\n",
    "seasons_api = Seasons(API_KEY)\n",
    "\n",
    "# 4. Fetch leagues\n",
    "print(\"Fetching leagues...\")\n",
    "success = leagues_api.get_all()\n",
    "\n",
    "if not success:\n",
    "    print(\"Failed to fetch leagues.\")\n",
    "else:\n",
    "    leagues_list = leagues_api.request.results\n",
    "    print(f\"Fetched {len(leagues_list)} leagues!\")\n",
    "\n",
    "    # Convert to dataframe\n",
    "    leagues_df = pd.DataFrame(leagues_list)\n",
    "    display(leagues_df.head())\n",
    "\n",
    "# 5. (Optional) Filter leagues\n",
    "# Example: Only show active leagues\n",
    "active_leagues_df = leagues_df[leagues_df['active'] == True]\n",
    "print(f\"Active leagues: {len(active_leagues_df)}\")\n",
    "\n",
    "# 6. Fetch seasons for each active league\n",
    "seasons_data = []\n",
    "\n",
    "for idx, league_row in active_leagues_df.iterrows():\n",
    "    league_id = league_row['id']\n",
    "    print(f\"Fetching seasons for League ID {league_id} - {league_row['name']}\")\n",
    "\n",
    "    success = seasons_api.get_all()\n",
    "    if not success:\n",
    "        print(f\"Failed to fetch seasons for League ID {league_id}\")\n",
    "        continue\n",
    "\n",
    "    all_seasons = seasons_api.request.results\n",
    "\n",
    "    # Only select seasons matching the current league\n",
    "    matching_seasons = [season for season in all_seasons if season.get('league_id') == league_id]\n",
    "\n",
    "    for season in matching_seasons:\n",
    "        seasons_data.append({\n",
    "        \"league_id\": league_id,\n",
    "        \"league_name\": league_row['name'],\n",
    "        \"season_id\": season['id'],\n",
    "        \"season_name\": season['name'],\n",
    "        \"is_current\": season.get('is_current_season', None)  # <--- FIXED\n",
    "    })\n",
    "\n",
    "\n",
    "# 7. Convert to dataframe\n",
    "seasons_df = pd.DataFrame(seasons_data)\n",
    "print(f\"Total seasons fetched: {len(seasons_df)}\")\n",
    "display(seasons_df.head())\n",
    "\n",
    "# 8. (Later) Save to CSV or Database - NOT YET\n"
   ]
  },
  {
   "cell_type": "code",
   "execution_count": 4,
   "metadata": {},
   "outputs": [
    {
     "name": "stdout",
     "output_type": "stream",
     "text": [
      "Saved leagues to leagues.csv!\n",
      "Saved seasons to seasons.csv!\n"
     ]
    }
   ],
   "source": [
    "# 1. Save leagues\n",
    "leagues_df.to_csv(\"leagues.csv\", index=False)\n",
    "print(\"Saved leagues to leagues.csv!\")\n",
    "\n",
    "# 2. Save seasons\n",
    "seasons_df.to_csv(\"seasons.csv\", index=False)\n",
    "print(\"Saved seasons to seasons.csv!\")\n"
   ]
  }
 ],
 "metadata": {
  "kernelspec": {
   "display_name": "base",
   "language": "python",
   "name": "python3"
  },
  "language_info": {
   "codemirror_mode": {
    "name": "ipython",
    "version": 3
   },
   "file_extension": ".py",
   "mimetype": "text/x-python",
   "name": "python",
   "nbconvert_exporter": "python",
   "pygments_lexer": "ipython3",
   "version": "3.12.7"
  }
 },
 "nbformat": 4,
 "nbformat_minor": 2
}
