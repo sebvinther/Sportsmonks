{
 "cells": [
  {
   "cell_type": "code",
   "execution_count": 1,
   "metadata": {},
   "outputs": [
    {
     "name": "stdout",
     "output_type": "stream",
     "text": [
      "[{'id': 8, 'sport_id': 1, 'country_id': 462, 'name': 'Premier League', 'active': True, 'short_code': 'UK PL', 'image_path': 'https://cdn.sportmonks.com/images/soccer/leagues/8/8.png', 'type': 'league', 'sub_type': 'domestic', 'last_played_at': '2025-04-27 15:30:00', 'category': 1, 'has_jerseys': False}, {'id': 9, 'sport_id': 1, 'country_id': 462, 'name': 'Championship', 'active': True, 'short_code': 'UK Champ', 'image_path': 'https://cdn.sportmonks.com/images/soccer/leagues/9/9.png', 'type': 'league', 'sub_type': 'domestic', 'last_played_at': '2025-04-28 19:00:00', 'category': 2, 'has_jerseys': False}]\n"
     ]
    }
   ],
   "source": [
    "# 1. Tell Python where to find your wrapper\n",
    "import sys\n",
    "sys.path.append('./sportmonks_api')\n",
    "\n",
    "# 2. Import the classes from the wrapper\n",
    "from sportmonks_calls import Fixtures, Leagues\n",
    "\n",
    "# 3. Set your API key\n",
    "API_KEY = \"oYeoAVFUTQpu7MfoFqbvyiYfgRRkuBWW0p2atkZnySe4X3xrHkjgGhOvI0pd\"\n",
    "\n",
    "# 4. Initialize a Leagues object\n",
    "leagues = Leagues(API_KEY)\n",
    "\n",
    "# 5. Fetch leagues\n",
    "success = leagues.get_all()\n",
    "\n",
    "# 6. Check results\n",
    "if success:\n",
    "    print(leagues.request.results[:2])\n",
    "else:\n",
    "    print(\"Failed to fetch leagues. Error was already printed above.\")"
   ]
  }
 ],
 "metadata": {
  "kernelspec": {
   "display_name": "base",
   "language": "python",
   "name": "python3"
  },
  "language_info": {
   "codemirror_mode": {
    "name": "ipython",
    "version": 3
   },
   "file_extension": ".py",
   "mimetype": "text/x-python",
   "name": "python",
   "nbconvert_exporter": "python",
   "pygments_lexer": "ipython3",
   "version": "3.12.7"
  }
 },
 "nbformat": 4,
 "nbformat_minor": 2
}
