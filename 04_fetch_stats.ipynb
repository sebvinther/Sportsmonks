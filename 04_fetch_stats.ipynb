{
 "cells": [
  {
   "cell_type": "code",
   "execution_count": 1,
   "metadata": {},
   "outputs": [
    {
     "name": "stdout",
     "output_type": "stream",
     "text": [
      "Loaded 155541 fixture IDs.\n"
     ]
    }
   ],
   "source": [
    "import pandas as pd\n",
    "\n",
    "# Path to your full fixture list\n",
    "FIXTURE_FILE = '/Users/sebastianvinther/Desktop/Sportsmonks/fixtures_full.csv'\n",
    "\n",
    "# Load fixture data\n",
    "fixtures_df = pd.read_csv(FIXTURE_FILE, low_memory=False)\n",
    "fixture_ids = fixtures_df['id'].dropna().astype(int).tolist()\n",
    "\n",
    "print(f\"Loaded {len(fixture_ids)} fixture IDs.\")"
   ]
  },
  {
   "cell_type": "code",
   "execution_count": 1,
   "metadata": {},
   "outputs": [
    {
     "name": "stderr",
     "output_type": "stream",
     "text": [
      "/var/folders/nl/dl4x3l3x1dd8twj43d1ddkx80000gn/T/ipykernel_36958/452919072.py:18: DtypeWarning: Columns (14) have mixed types. Specify dtype option on import or set low_memory=False.\n",
      "  all_fixture_ids = pd.read_csv(FIXTURE_FILE)['id'].dropna().astype(int).tolist()\n"
     ]
    },
    {
     "name": "stdout",
     "output_type": "stream",
     "text": [
      "🔁 Resuming: 9456 done, 146085 remaining.\n"
     ]
    },
    {
     "name": "stderr",
     "output_type": "stream",
     "text": [
      "Fetching stats:  13%|█▎        | 19100/146085 [27:55<3:23:51, 10.38it/s] "
     ]
    },
    {
     "name": "stdout",
     "output_type": "stream",
     "text": [
      "🔄 Autosaved 12 rows after 19100 new fixtures. [Calls: 19100]\n"
     ]
    },
    {
     "name": "stderr",
     "output_type": "stream",
     "text": [
      "Fetching stats:  13%|█▎        | 19202/146085 [28:04<3:03:19, 11.54it/s]"
     ]
    },
    {
     "name": "stdout",
     "output_type": "stream",
     "text": [
      "🔄 Autosaved 20 rows after 19200 new fixtures. [Calls: 19200]\n"
     ]
    },
    {
     "name": "stderr",
     "output_type": "stream",
     "text": [
      "Fetching stats:  13%|█▎        | 19302/146085 [28:13<3:02:26, 11.58it/s]"
     ]
    },
    {
     "name": "stdout",
     "output_type": "stream",
     "text": [
      "🔄 Autosaved 28 rows after 19300 new fixtures. [Calls: 19300]\n"
     ]
    },
    {
     "name": "stderr",
     "output_type": "stream",
     "text": [
      "Fetching stats:  13%|█▎        | 19402/146085 [28:22<3:33:16,  9.90it/s]"
     ]
    },
    {
     "name": "stdout",
     "output_type": "stream",
     "text": [
      "🔄 Autosaved 78 rows after 19400 new fixtures. [Calls: 19400]\n"
     ]
    },
    {
     "name": "stderr",
     "output_type": "stream",
     "text": [
      "Fetching stats:  13%|█▎        | 19502/146085 [28:31<3:12:19, 10.97it/s]"
     ]
    },
    {
     "name": "stdout",
     "output_type": "stream",
     "text": [
      "🔄 Autosaved 112 rows after 19500 new fixtures. [Calls: 19500]\n"
     ]
    },
    {
     "name": "stderr",
     "output_type": "stream",
     "text": [
      "Fetching stats:  13%|█▎        | 19602/146085 [28:40<3:13:16, 10.91it/s]"
     ]
    },
    {
     "name": "stdout",
     "output_type": "stream",
     "text": [
      "🔄 Autosaved 126 rows after 19600 new fixtures. [Calls: 19600]\n"
     ]
    },
    {
     "name": "stderr",
     "output_type": "stream",
     "text": [
      "Fetching stats:  13%|█▎        | 19702/146085 [28:49<3:03:45, 11.46it/s]"
     ]
    },
    {
     "name": "stdout",
     "output_type": "stream",
     "text": [
      "🔄 Autosaved 154 rows after 19700 new fixtures. [Calls: 19700]\n"
     ]
    },
    {
     "name": "stderr",
     "output_type": "stream",
     "text": [
      "Fetching stats:  14%|█▎        | 19802/146085 [28:58<3:11:26, 10.99it/s]"
     ]
    },
    {
     "name": "stdout",
     "output_type": "stream",
     "text": [
      "🔄 Autosaved 138 rows after 19800 new fixtures. [Calls: 19800]\n"
     ]
    },
    {
     "name": "stderr",
     "output_type": "stream",
     "text": [
      "Fetching stats:  14%|█▎        | 19902/146085 [29:07<2:57:45, 11.83it/s]"
     ]
    },
    {
     "name": "stdout",
     "output_type": "stream",
     "text": [
      "🔄 Autosaved 138 rows after 19900 new fixtures. [Calls: 19900]\n"
     ]
    },
    {
     "name": "stderr",
     "output_type": "stream",
     "text": [
      "Fetching stats:  14%|█▎        | 20000/146085 [29:16<3:14:30, 10.80it/s]"
     ]
    },
    {
     "name": "stdout",
     "output_type": "stream",
     "text": [
      "🔄 Autosaved 148 rows after 20000 new fixtures. [Calls: 20000]\n"
     ]
    },
    {
     "name": "stderr",
     "output_type": "stream",
     "text": [
      "Fetching stats:  14%|█▍        | 20102/146085 [29:25<2:52:34, 12.17it/s]"
     ]
    },
    {
     "name": "stdout",
     "output_type": "stream",
     "text": [
      "🔄 Autosaved 144 rows after 20100 new fixtures. [Calls: 20100]\n"
     ]
    },
    {
     "name": "stderr",
     "output_type": "stream",
     "text": [
      "Fetching stats:  14%|█▍        | 20202/146085 [29:33<2:53:18, 12.11it/s]"
     ]
    },
    {
     "name": "stdout",
     "output_type": "stream",
     "text": [
      "🔄 Autosaved 130 rows after 20200 new fixtures. [Calls: 20200]\n"
     ]
    },
    {
     "name": "stderr",
     "output_type": "stream",
     "text": [
      "Fetching stats:  14%|█▍        | 20302/146085 [29:42<2:51:26, 12.23it/s]"
     ]
    },
    {
     "name": "stdout",
     "output_type": "stream",
     "text": [
      "🔄 Autosaved 168 rows after 20300 new fixtures. [Calls: 20300]\n"
     ]
    },
    {
     "name": "stderr",
     "output_type": "stream",
     "text": [
      "Fetching stats:  14%|█▍        | 20402/146085 [29:50<3:04:47, 11.34it/s]"
     ]
    },
    {
     "name": "stdout",
     "output_type": "stream",
     "text": [
      "🔄 Autosaved 138 rows after 20400 new fixtures. [Calls: 20400]\n"
     ]
    },
    {
     "name": "stderr",
     "output_type": "stream",
     "text": [
      "Fetching stats:  14%|█▍        | 20502/146085 [29:58<2:47:40, 12.48it/s]"
     ]
    },
    {
     "name": "stdout",
     "output_type": "stream",
     "text": [
      "🔄 Autosaved 148 rows after 20500 new fixtures. [Calls: 20500]\n"
     ]
    },
    {
     "name": "stderr",
     "output_type": "stream",
     "text": [
      "Fetching stats:  14%|█▍        | 20602/146085 [30:06<2:46:14, 12.58it/s]"
     ]
    },
    {
     "name": "stdout",
     "output_type": "stream",
     "text": [
      "🔄 Autosaved 142 rows after 20600 new fixtures. [Calls: 20600]\n"
     ]
    },
    {
     "name": "stderr",
     "output_type": "stream",
     "text": [
      "Fetching stats:  14%|█▍        | 20702/146085 [30:15<2:52:45, 12.10it/s]"
     ]
    },
    {
     "name": "stdout",
     "output_type": "stream",
     "text": [
      "🔄 Autosaved 138 rows after 20700 new fixtures. [Calls: 20700]\n"
     ]
    },
    {
     "name": "stderr",
     "output_type": "stream",
     "text": [
      "Fetching stats:  14%|█▍        | 20802/146085 [30:23<2:45:31, 12.62it/s]"
     ]
    },
    {
     "name": "stdout",
     "output_type": "stream",
     "text": [
      "🔄 Autosaved 158 rows after 20800 new fixtures. [Calls: 20800]\n"
     ]
    },
    {
     "name": "stderr",
     "output_type": "stream",
     "text": [
      "Fetching stats:  14%|█▍        | 20902/146085 [30:31<2:47:53, 12.43it/s]"
     ]
    },
    {
     "name": "stdout",
     "output_type": "stream",
     "text": [
      "🔄 Autosaved 134 rows after 20900 new fixtures. [Calls: 20900]\n"
     ]
    },
    {
     "name": "stderr",
     "output_type": "stream",
     "text": [
      "Fetching stats:  14%|█▍        | 21000/146085 [30:39<2:54:14, 11.97it/s]"
     ]
    },
    {
     "name": "stdout",
     "output_type": "stream",
     "text": [
      "🔄 Autosaved 154 rows after 21000 new fixtures. [Calls: 21000]\n"
     ]
    },
    {
     "name": "stderr",
     "output_type": "stream",
     "text": [
      "Fetching stats:  14%|█▍        | 21102/146085 [30:49<3:09:07, 11.01it/s]"
     ]
    },
    {
     "name": "stdout",
     "output_type": "stream",
     "text": [
      "🔄 Autosaved 164 rows after 21100 new fixtures. [Calls: 21100]\n"
     ]
    },
    {
     "name": "stderr",
     "output_type": "stream",
     "text": [
      "Fetching stats:  15%|█▍        | 21202/146085 [30:57<3:08:55, 11.02it/s]"
     ]
    },
    {
     "name": "stdout",
     "output_type": "stream",
     "text": [
      "🔄 Autosaved 140 rows after 21200 new fixtures. [Calls: 21200]\n"
     ]
    },
    {
     "name": "stderr",
     "output_type": "stream",
     "text": [
      "Fetching stats:  15%|█▍        | 21302/146085 [31:06<3:04:06, 11.30it/s]"
     ]
    },
    {
     "name": "stdout",
     "output_type": "stream",
     "text": [
      "🔄 Autosaved 152 rows after 21300 new fixtures. [Calls: 21300]\n"
     ]
    },
    {
     "name": "stderr",
     "output_type": "stream",
     "text": [
      "Fetching stats:  15%|█▍        | 21402/146085 [31:15<2:54:57, 11.88it/s]"
     ]
    },
    {
     "name": "stdout",
     "output_type": "stream",
     "text": [
      "🔄 Autosaved 172 rows after 21400 new fixtures. [Calls: 21400]\n"
     ]
    },
    {
     "name": "stderr",
     "output_type": "stream",
     "text": [
      "Fetching stats:  15%|█▍        | 21502/146085 [31:24<3:01:41, 11.43it/s]"
     ]
    },
    {
     "name": "stdout",
     "output_type": "stream",
     "text": [
      "🔄 Autosaved 146 rows after 21500 new fixtures. [Calls: 21500]\n"
     ]
    },
    {
     "name": "stderr",
     "output_type": "stream",
     "text": [
      "Fetching stats:  15%|█▍        | 21602/146085 [31:33<3:01:21, 11.44it/s]"
     ]
    },
    {
     "name": "stdout",
     "output_type": "stream",
     "text": [
      "🔄 Autosaved 156 rows after 21600 new fixtures. [Calls: 21600]\n"
     ]
    },
    {
     "name": "stderr",
     "output_type": "stream",
     "text": [
      "Fetching stats:  15%|█▍        | 21702/146085 [31:42<3:16:23, 10.56it/s]"
     ]
    },
    {
     "name": "stdout",
     "output_type": "stream",
     "text": [
      "🔄 Autosaved 176 rows after 21700 new fixtures. [Calls: 21700]\n"
     ]
    },
    {
     "name": "stderr",
     "output_type": "stream",
     "text": [
      "Fetching stats:  15%|█▍        | 21800/146085 [31:51<3:03:21, 11.30it/s]"
     ]
    },
    {
     "name": "stdout",
     "output_type": "stream",
     "text": [
      "🔄 Autosaved 162 rows after 21800 new fixtures. [Calls: 21800]\n"
     ]
    },
    {
     "name": "stderr",
     "output_type": "stream",
     "text": [
      "Fetching stats:  15%|█▍        | 21902/146085 [32:00<2:55:32, 11.79it/s]"
     ]
    },
    {
     "name": "stdout",
     "output_type": "stream",
     "text": [
      "🔄 Autosaved 160 rows after 21900 new fixtures. [Calls: 21900]\n"
     ]
    },
    {
     "name": "stderr",
     "output_type": "stream",
     "text": [
      "Fetching stats:  15%|█▌        | 22000/146085 [32:08<3:02:46, 11.31it/s]"
     ]
    },
    {
     "name": "stdout",
     "output_type": "stream",
     "text": [
      "🔄 Autosaved 200 rows after 22000 new fixtures. [Calls: 22000]\n"
     ]
    },
    {
     "name": "stderr",
     "output_type": "stream",
     "text": [
      "Fetching stats:  15%|█▌        | 22102/146085 [32:17<2:56:06, 11.73it/s]"
     ]
    },
    {
     "name": "stdout",
     "output_type": "stream",
     "text": [
      "🔄 Autosaved 164 rows after 22100 new fixtures. [Calls: 22100]\n"
     ]
    },
    {
     "name": "stderr",
     "output_type": "stream",
     "text": [
      "Fetching stats:  15%|█▌        | 22202/146085 [32:26<2:52:06, 12.00it/s]"
     ]
    },
    {
     "name": "stdout",
     "output_type": "stream",
     "text": [
      "🔄 Autosaved 222 rows after 22200 new fixtures. [Calls: 22200]\n"
     ]
    },
    {
     "name": "stderr",
     "output_type": "stream",
     "text": [
      "Fetching stats:  15%|█▌        | 22302/146085 [32:34<2:53:50, 11.87it/s]"
     ]
    },
    {
     "name": "stdout",
     "output_type": "stream",
     "text": [
      "🔄 Autosaved 242 rows after 22300 new fixtures. [Calls: 22300]\n"
     ]
    },
    {
     "name": "stderr",
     "output_type": "stream",
     "text": [
      "Fetching stats:  15%|█▌        | 22402/146085 [32:43<2:55:00, 11.78it/s]"
     ]
    },
    {
     "name": "stdout",
     "output_type": "stream",
     "text": [
      "🔄 Autosaved 194 rows after 22400 new fixtures. [Calls: 22400]\n"
     ]
    },
    {
     "name": "stderr",
     "output_type": "stream",
     "text": [
      "Fetching stats:  15%|█▌        | 22502/146085 [32:52<2:53:36, 11.86it/s]"
     ]
    },
    {
     "name": "stdout",
     "output_type": "stream",
     "text": [
      "🔄 Autosaved 222 rows after 22500 new fixtures. [Calls: 22500]\n"
     ]
    },
    {
     "name": "stderr",
     "output_type": "stream",
     "text": [
      "Fetching stats:  15%|█▌        | 22602/146085 [33:01<2:54:20, 11.80it/s]"
     ]
    },
    {
     "name": "stdout",
     "output_type": "stream",
     "text": [
      "🔄 Autosaved 266 rows after 22600 new fixtures. [Calls: 22600]\n"
     ]
    },
    {
     "name": "stderr",
     "output_type": "stream",
     "text": [
      "Fetching stats:  16%|█▌        | 22702/146085 [33:09<2:57:49, 11.56it/s]"
     ]
    },
    {
     "name": "stdout",
     "output_type": "stream",
     "text": [
      "🔄 Autosaved 384 rows after 22700 new fixtures. [Calls: 22700]\n"
     ]
    },
    {
     "name": "stderr",
     "output_type": "stream",
     "text": [
      "Fetching stats:  16%|█▌        | 22802/146085 [33:18<2:56:03, 11.67it/s]"
     ]
    },
    {
     "name": "stdout",
     "output_type": "stream",
     "text": [
      "🔄 Autosaved 458 rows after 22800 new fixtures. [Calls: 22800]\n"
     ]
    },
    {
     "name": "stderr",
     "output_type": "stream",
     "text": [
      "Fetching stats:  16%|█▌        | 23602/146085 [34:27<2:51:16, 11.92it/s]"
     ]
    },
    {
     "name": "stdout",
     "output_type": "stream",
     "text": [
      "🔄 Autosaved 2 rows after 23600 new fixtures. [Calls: 23600]\n"
     ]
    },
    {
     "name": "stderr",
     "output_type": "stream",
     "text": [
      "Fetching stats:  16%|█▌        | 23701/146085 [34:36<3:37:02,  9.40it/s]"
     ]
    },
    {
     "name": "stdout",
     "output_type": "stream",
     "text": [
      "🔄 Autosaved 138 rows after 23700 new fixtures. [Calls: 23700]\n"
     ]
    },
    {
     "name": "stderr",
     "output_type": "stream",
     "text": [
      "Fetching stats:  16%|█▋        | 23802/146085 [34:45<2:58:30, 11.42it/s]"
     ]
    },
    {
     "name": "stdout",
     "output_type": "stream",
     "text": [
      "🔄 Autosaved 182 rows after 23800 new fixtures. [Calls: 23800]\n"
     ]
    },
    {
     "name": "stderr",
     "output_type": "stream",
     "text": [
      "Fetching stats:  16%|█▋        | 23902/146085 [34:54<2:55:40, 11.59it/s]"
     ]
    },
    {
     "name": "stdout",
     "output_type": "stream",
     "text": [
      "🔄 Autosaved 200 rows after 23900 new fixtures. [Calls: 23900]\n"
     ]
    },
    {
     "name": "stderr",
     "output_type": "stream",
     "text": [
      "Fetching stats:  16%|█▋        | 24000/146085 [35:02<2:54:11, 11.68it/s]"
     ]
    },
    {
     "name": "stdout",
     "output_type": "stream",
     "text": [
      "🔄 Autosaved 204 rows after 24000 new fixtures. [Calls: 24000]\n"
     ]
    },
    {
     "name": "stderr",
     "output_type": "stream",
     "text": [
      "Fetching stats:  16%|█▋        | 24102/146085 [35:12<3:12:23, 10.57it/s]"
     ]
    },
    {
     "name": "stdout",
     "output_type": "stream",
     "text": [
      "🔄 Autosaved 220 rows after 24100 new fixtures. [Calls: 24100]\n"
     ]
    },
    {
     "name": "stderr",
     "output_type": "stream",
     "text": [
      "Fetching stats:  17%|█▋        | 24202/146085 [35:21<3:01:32, 11.19it/s]"
     ]
    },
    {
     "name": "stdout",
     "output_type": "stream",
     "text": [
      "🔄 Autosaved 212 rows after 24200 new fixtures. [Calls: 24200]\n"
     ]
    },
    {
     "name": "stderr",
     "output_type": "stream",
     "text": [
      "Fetching stats:  17%|█▋        | 24302/146085 [35:31<3:00:58, 11.21it/s]"
     ]
    },
    {
     "name": "stdout",
     "output_type": "stream",
     "text": [
      "🔄 Autosaved 212 rows after 24300 new fixtures. [Calls: 24300]\n"
     ]
    },
    {
     "name": "stderr",
     "output_type": "stream",
     "text": [
      "Fetching stats:  17%|█▋        | 24401/146085 [35:40<3:11:03, 10.62it/s]"
     ]
    },
    {
     "name": "stdout",
     "output_type": "stream",
     "text": [
      "🔄 Autosaved 220 rows after 24400 new fixtures. [Calls: 24400]\n"
     ]
    },
    {
     "name": "stderr",
     "output_type": "stream",
     "text": [
      "Fetching stats:  17%|█▋        | 24501/146085 [35:49<2:50:53, 11.86it/s]"
     ]
    },
    {
     "name": "stdout",
     "output_type": "stream",
     "text": [
      "🔄 Autosaved 234 rows after 24500 new fixtures. [Calls: 24500]\n"
     ]
    },
    {
     "name": "stderr",
     "output_type": "stream",
     "text": [
      "Fetching stats:  17%|█▋        | 24601/146085 [35:58<2:58:38, 11.33it/s]"
     ]
    },
    {
     "name": "stdout",
     "output_type": "stream",
     "text": [
      "🔄 Autosaved 224 rows after 24600 new fixtures. [Calls: 24600]\n"
     ]
    },
    {
     "name": "stderr",
     "output_type": "stream",
     "text": [
      "Fetching stats:  17%|█▋        | 24701/146085 [36:07<2:59:03, 11.30it/s]"
     ]
    },
    {
     "name": "stdout",
     "output_type": "stream",
     "text": [
      "🔄 Autosaved 290 rows after 24700 new fixtures. [Calls: 24700]\n"
     ]
    },
    {
     "name": "stderr",
     "output_type": "stream",
     "text": [
      "Fetching stats:  17%|█▋        | 24801/146085 [36:16<2:51:07, 11.81it/s]"
     ]
    },
    {
     "name": "stdout",
     "output_type": "stream",
     "text": [
      "🔄 Autosaved 472 rows after 24800 new fixtures. [Calls: 24800]\n"
     ]
    },
    {
     "name": "stderr",
     "output_type": "stream",
     "text": [
      "Fetching stats:  17%|█▋        | 24901/146085 [36:24<3:03:27, 11.01it/s]"
     ]
    },
    {
     "name": "stdout",
     "output_type": "stream",
     "text": [
      "🔄 Autosaved 508 rows after 24900 new fixtures. [Calls: 24900]\n"
     ]
    },
    {
     "name": "stderr",
     "output_type": "stream",
     "text": [
      "Fetching stats:  17%|█▋        | 25001/146085 [36:33<3:15:21, 10.33it/s]"
     ]
    },
    {
     "name": "stdout",
     "output_type": "stream",
     "text": [
      "🔄 Autosaved 134 rows after 25000 new fixtures. [Calls: 25000]\n"
     ]
    },
    {
     "name": "stderr",
     "output_type": "stream",
     "text": [
      "Fetching stats:  17%|█▋        | 25201/146085 [36:50<2:48:10, 11.98it/s]"
     ]
    },
    {
     "name": "stdout",
     "output_type": "stream",
     "text": [
      "🔄 Autosaved 4 rows after 25200 new fixtures. [Calls: 25200]\n"
     ]
    },
    {
     "name": "stderr",
     "output_type": "stream",
     "text": [
      "Fetching stats:  17%|█▋        | 25401/146085 [37:07<2:47:45, 11.99it/s]"
     ]
    },
    {
     "name": "stdout",
     "output_type": "stream",
     "text": [
      "🔄 Autosaved 10 rows after 25400 new fixtures. [Calls: 25400]\n"
     ]
    },
    {
     "name": "stderr",
     "output_type": "stream",
     "text": [
      "Fetching stats:  17%|█▋        | 25501/146085 [37:15<2:50:07, 11.81it/s]"
     ]
    },
    {
     "name": "stdout",
     "output_type": "stream",
     "text": [
      "🔄 Autosaved 46 rows after 25500 new fixtures. [Calls: 25500]\n"
     ]
    },
    {
     "name": "stderr",
     "output_type": "stream",
     "text": [
      "Fetching stats:  18%|█▊        | 25601/146085 [37:24<2:47:42, 11.97it/s]"
     ]
    },
    {
     "name": "stdout",
     "output_type": "stream",
     "text": [
      "🔄 Autosaved 28 rows after 25600 new fixtures. [Calls: 25600]\n"
     ]
    },
    {
     "name": "stderr",
     "output_type": "stream",
     "text": [
      "Fetching stats:  18%|█▊        | 26701/146085 [38:59<2:58:28, 11.15it/s]"
     ]
    },
    {
     "name": "stdout",
     "output_type": "stream",
     "text": [
      "🔄 Autosaved 80 rows after 26700 new fixtures. [Calls: 26700]\n"
     ]
    },
    {
     "name": "stderr",
     "output_type": "stream",
     "text": [
      "Fetching stats:  18%|█▊        | 26801/146085 [39:07<2:49:35, 11.72it/s]"
     ]
    },
    {
     "name": "stdout",
     "output_type": "stream",
     "text": [
      "🔄 Autosaved 106 rows after 26800 new fixtures. [Calls: 26800]\n"
     ]
    },
    {
     "name": "stderr",
     "output_type": "stream",
     "text": [
      "Fetching stats:  18%|█▊        | 26901/146085 [39:16<2:52:51, 11.49it/s]"
     ]
    },
    {
     "name": "stdout",
     "output_type": "stream",
     "text": [
      "🔄 Autosaved 94 rows after 26900 new fixtures. [Calls: 26900]\n"
     ]
    },
    {
     "name": "stderr",
     "output_type": "stream",
     "text": [
      "Fetching stats:  18%|█▊        | 27001/146085 [39:25<3:09:23, 10.48it/s]"
     ]
    },
    {
     "name": "stdout",
     "output_type": "stream",
     "text": [
      "🔄 Autosaved 170 rows after 27000 new fixtures. [Calls: 27000]\n"
     ]
    },
    {
     "name": "stderr",
     "output_type": "stream",
     "text": [
      "Fetching stats:  19%|█▊        | 27101/146085 [39:34<2:49:40, 11.69it/s]"
     ]
    },
    {
     "name": "stdout",
     "output_type": "stream",
     "text": [
      "🔄 Autosaved 250 rows after 27100 new fixtures. [Calls: 27100]\n"
     ]
    },
    {
     "name": "stderr",
     "output_type": "stream",
     "text": [
      "Fetching stats:  19%|█▊        | 27201/146085 [39:43<3:30:54,  9.39it/s]"
     ]
    },
    {
     "name": "stdout",
     "output_type": "stream",
     "text": [
      "🔄 Autosaved 358 rows after 27200 new fixtures. [Calls: 27200]\n"
     ]
    },
    {
     "name": "stderr",
     "output_type": "stream",
     "text": [
      "Fetching stats:  19%|█▊        | 27301/146085 [39:52<2:57:53, 11.13it/s]"
     ]
    },
    {
     "name": "stdout",
     "output_type": "stream",
     "text": [
      "🔄 Autosaved 458 rows after 27300 new fixtures. [Calls: 27300]\n"
     ]
    },
    {
     "name": "stderr",
     "output_type": "stream",
     "text": [
      "Fetching stats:  19%|█▉        | 27401/146085 [40:01<2:59:24, 11.03it/s]"
     ]
    },
    {
     "name": "stdout",
     "output_type": "stream",
     "text": [
      "🔄 Autosaved 534 rows after 27400 new fixtures. [Calls: 27400]\n"
     ]
    },
    {
     "name": "stderr",
     "output_type": "stream",
     "text": [
      "Fetching stats:  19%|█▉        | 27501/146085 [40:11<3:00:57, 10.92it/s]"
     ]
    },
    {
     "name": "stdout",
     "output_type": "stream",
     "text": [
      "🔄 Autosaved 536 rows after 27500 new fixtures. [Calls: 27500]\n"
     ]
    },
    {
     "name": "stderr",
     "output_type": "stream",
     "text": [
      "Fetching stats:  19%|█▉        | 27601/146085 [40:19<2:54:07, 11.34it/s]"
     ]
    },
    {
     "name": "stdout",
     "output_type": "stream",
     "text": [
      "🔄 Autosaved 536 rows after 27600 new fixtures. [Calls: 27600]\n"
     ]
    },
    {
     "name": "stderr",
     "output_type": "stream",
     "text": [
      "Fetching stats:  19%|█▉        | 27701/146085 [40:28<2:48:56, 11.68it/s]"
     ]
    },
    {
     "name": "stdout",
     "output_type": "stream",
     "text": [
      "🔄 Autosaved 540 rows after 27700 new fixtures. [Calls: 27700]\n"
     ]
    },
    {
     "name": "stderr",
     "output_type": "stream",
     "text": [
      "Fetching stats:  19%|█▉        | 27801/146085 [40:38<3:10:27, 10.35it/s]"
     ]
    },
    {
     "name": "stdout",
     "output_type": "stream",
     "text": [
      "🔄 Autosaved 608 rows after 27800 new fixtures. [Calls: 27800]\n"
     ]
    },
    {
     "name": "stderr",
     "output_type": "stream",
     "text": [
      "Fetching stats:  19%|█▉        | 27901/146085 [40:46<2:55:55, 11.20it/s]"
     ]
    },
    {
     "name": "stdout",
     "output_type": "stream",
     "text": [
      "🔄 Autosaved 458 rows after 27900 new fixtures. [Calls: 27900]\n"
     ]
    },
    {
     "name": "stderr",
     "output_type": "stream",
     "text": [
      "Fetching stats:  19%|█▉        | 28301/146085 [41:22<2:48:11, 11.67it/s]"
     ]
    },
    {
     "name": "stdout",
     "output_type": "stream",
     "text": [
      "🔄 Autosaved 4 rows after 28300 new fixtures. [Calls: 28300]\n"
     ]
    },
    {
     "name": "stderr",
     "output_type": "stream",
     "text": [
      "Fetching stats:  20%|█▉        | 28501/146085 [41:40<2:52:36, 11.35it/s]"
     ]
    },
    {
     "name": "stdout",
     "output_type": "stream",
     "text": [
      "🔄 Autosaved 12 rows after 28500 new fixtures. [Calls: 28500]\n"
     ]
    },
    {
     "name": "stderr",
     "output_type": "stream",
     "text": [
      "Fetching stats:  20%|█▉        | 28601/146085 [41:49<2:46:18, 11.77it/s]"
     ]
    },
    {
     "name": "stdout",
     "output_type": "stream",
     "text": [
      "🔄 Autosaved 20 rows after 28600 new fixtures. [Calls: 28600]\n"
     ]
    },
    {
     "name": "stderr",
     "output_type": "stream",
     "text": [
      "Fetching stats:  20%|█▉        | 28701/146085 [41:58<2:49:39, 11.53it/s]"
     ]
    },
    {
     "name": "stdout",
     "output_type": "stream",
     "text": [
      "🔄 Autosaved 20 rows after 28700 new fixtures. [Calls: 28700]\n"
     ]
    },
    {
     "name": "stderr",
     "output_type": "stream",
     "text": [
      "Fetching stats:  20%|█▉        | 28801/146085 [42:07<2:53:01, 11.30it/s]"
     ]
    },
    {
     "name": "stdout",
     "output_type": "stream",
     "text": [
      "🔄 Autosaved 16 rows after 28800 new fixtures. [Calls: 28800]\n"
     ]
    },
    {
     "name": "stderr",
     "output_type": "stream",
     "text": [
      "Fetching stats:  20%|█▉        | 28901/146085 [42:16<3:04:17, 10.60it/s]"
     ]
    },
    {
     "name": "stdout",
     "output_type": "stream",
     "text": [
      "🔄 Autosaved 46 rows after 28900 new fixtures. [Calls: 28900]\n"
     ]
    },
    {
     "name": "stderr",
     "output_type": "stream",
     "text": [
      "Fetching stats:  20%|█▉        | 29001/146085 [42:25<3:13:44, 10.07it/s]"
     ]
    },
    {
     "name": "stdout",
     "output_type": "stream",
     "text": [
      "🔄 Autosaved 150 rows after 29000 new fixtures. [Calls: 29000]\n"
     ]
    },
    {
     "name": "stderr",
     "output_type": "stream",
     "text": [
      "Fetching stats:  20%|█▉        | 29101/146085 [42:34<2:39:19, 12.24it/s]"
     ]
    },
    {
     "name": "stdout",
     "output_type": "stream",
     "text": [
      "🔄 Autosaved 134 rows after 29100 new fixtures. [Calls: 29100]\n"
     ]
    },
    {
     "name": "stderr",
     "output_type": "stream",
     "text": [
      "Fetching stats:  20%|█▉        | 29201/146085 [42:42<2:57:34, 10.97it/s]"
     ]
    },
    {
     "name": "stdout",
     "output_type": "stream",
     "text": [
      "🔄 Autosaved 132 rows after 29200 new fixtures. [Calls: 29200]\n"
     ]
    },
    {
     "name": "stderr",
     "output_type": "stream",
     "text": [
      "Fetching stats:  20%|██        | 29301/146085 [42:51<2:39:00, 12.24it/s]"
     ]
    },
    {
     "name": "stdout",
     "output_type": "stream",
     "text": [
      "🔄 Autosaved 132 rows after 29300 new fixtures. [Calls: 29300]\n"
     ]
    },
    {
     "name": "stderr",
     "output_type": "stream",
     "text": [
      "Fetching stats:  20%|██        | 29401/146085 [42:59<2:42:16, 11.98it/s]"
     ]
    },
    {
     "name": "stdout",
     "output_type": "stream",
     "text": [
      "🔄 Autosaved 208 rows after 29400 new fixtures. [Calls: 29400]\n"
     ]
    },
    {
     "name": "stderr",
     "output_type": "stream",
     "text": [
      "Fetching stats:  20%|██        | 29501/146085 [43:07<2:44:59, 11.78it/s]"
     ]
    },
    {
     "name": "stdout",
     "output_type": "stream",
     "text": [
      "🔄 Autosaved 222 rows after 29500 new fixtures. [Calls: 29500]\n"
     ]
    },
    {
     "name": "stderr",
     "output_type": "stream",
     "text": [
      "Fetching stats:  20%|██        | 29601/146085 [43:16<2:35:35, 12.48it/s]"
     ]
    },
    {
     "name": "stdout",
     "output_type": "stream",
     "text": [
      "🔄 Autosaved 228 rows after 29600 new fixtures. [Calls: 29600]\n"
     ]
    },
    {
     "name": "stderr",
     "output_type": "stream",
     "text": [
      "Fetching stats:  20%|██        | 29701/146085 [43:24<2:35:31, 12.47it/s]"
     ]
    },
    {
     "name": "stdout",
     "output_type": "stream",
     "text": [
      "🔄 Autosaved 270 rows after 29700 new fixtures. [Calls: 29700]\n"
     ]
    },
    {
     "name": "stderr",
     "output_type": "stream",
     "text": [
      "Fetching stats:  20%|██        | 29801/146085 [43:32<2:42:26, 11.93it/s]"
     ]
    },
    {
     "name": "stdout",
     "output_type": "stream",
     "text": [
      "🔄 Autosaved 284 rows after 29800 new fixtures. [Calls: 29800]\n"
     ]
    },
    {
     "name": "stderr",
     "output_type": "stream",
     "text": [
      "Fetching stats:  20%|██        | 29901/146085 [43:41<2:39:47, 12.12it/s]"
     ]
    },
    {
     "name": "stdout",
     "output_type": "stream",
     "text": [
      "🔄 Autosaved 258 rows after 29900 new fixtures. [Calls: 29900]\n"
     ]
    },
    {
     "name": "stderr",
     "output_type": "stream",
     "text": [
      "Fetching stats:  21%|██        | 30001/146085 [43:49<2:52:45, 11.20it/s]"
     ]
    },
    {
     "name": "stdout",
     "output_type": "stream",
     "text": [
      "🔄 Autosaved 298 rows after 30000 new fixtures. [Calls: 30000]\n"
     ]
    },
    {
     "name": "stderr",
     "output_type": "stream",
     "text": [
      "Fetching stats:  21%|██        | 30101/146085 [43:57<2:43:14, 11.84it/s]"
     ]
    },
    {
     "name": "stdout",
     "output_type": "stream",
     "text": [
      "🔄 Autosaved 318 rows after 30100 new fixtures. [Calls: 30100]\n"
     ]
    },
    {
     "name": "stderr",
     "output_type": "stream",
     "text": [
      "Fetching stats:  21%|██        | 30201/146085 [44:06<3:05:57, 10.39it/s]"
     ]
    },
    {
     "name": "stdout",
     "output_type": "stream",
     "text": [
      "🔄 Autosaved 330 rows after 30200 new fixtures. [Calls: 30200]\n"
     ]
    },
    {
     "name": "stderr",
     "output_type": "stream",
     "text": [
      "Fetching stats:  21%|██        | 30301/146085 [44:14<2:41:49, 11.92it/s]"
     ]
    },
    {
     "name": "stdout",
     "output_type": "stream",
     "text": [
      "🔄 Autosaved 328 rows after 30300 new fixtures. [Calls: 30300]\n"
     ]
    },
    {
     "name": "stderr",
     "output_type": "stream",
     "text": [
      "Fetching stats:  21%|██        | 30401/146085 [44:23<2:47:40, 11.50it/s]"
     ]
    },
    {
     "name": "stdout",
     "output_type": "stream",
     "text": [
      "🔄 Autosaved 418 rows after 30400 new fixtures. [Calls: 30400]\n"
     ]
    },
    {
     "name": "stderr",
     "output_type": "stream",
     "text": [
      "Fetching stats:  21%|██        | 30501/146085 [44:31<2:42:31, 11.85it/s]"
     ]
    },
    {
     "name": "stdout",
     "output_type": "stream",
     "text": [
      "🔄 Autosaved 642 rows after 30500 new fixtures. [Calls: 30500]\n"
     ]
    },
    {
     "name": "stderr",
     "output_type": "stream",
     "text": [
      "Fetching stats:  21%|██        | 30601/146085 [44:40<2:44:12, 11.72it/s]"
     ]
    },
    {
     "name": "stdout",
     "output_type": "stream",
     "text": [
      "🔄 Autosaved 634 rows after 30600 new fixtures. [Calls: 30600]\n"
     ]
    },
    {
     "name": "stderr",
     "output_type": "stream",
     "text": [
      "Fetching stats:  21%|██        | 30701/146085 [44:48<2:48:11, 11.43it/s]"
     ]
    },
    {
     "name": "stdout",
     "output_type": "stream",
     "text": [
      "🔄 Autosaved 688 rows after 30700 new fixtures. [Calls: 30700]\n"
     ]
    },
    {
     "name": "stderr",
     "output_type": "stream",
     "text": [
      "Fetching stats:  21%|██        | 30801/146085 [44:57<3:00:52, 10.62it/s]"
     ]
    },
    {
     "name": "stdout",
     "output_type": "stream",
     "text": [
      "🔄 Autosaved 662 rows after 30800 new fixtures. [Calls: 30800]\n"
     ]
    },
    {
     "name": "stderr",
     "output_type": "stream",
     "text": [
      "Fetching stats:  21%|██        | 30901/146085 [45:06<2:48:36, 11.39it/s]"
     ]
    },
    {
     "name": "stdout",
     "output_type": "stream",
     "text": [
      "🔄 Autosaved 270 rows after 30900 new fixtures. [Calls: 30900]\n"
     ]
    },
    {
     "name": "stderr",
     "output_type": "stream",
     "text": [
      "Fetching stats:  21%|██        | 31001/146085 [45:14<2:51:55, 11.16it/s]"
     ]
    },
    {
     "name": "stdout",
     "output_type": "stream",
     "text": [
      "🔄 Autosaved 260 rows after 31000 new fixtures. [Calls: 31000]\n"
     ]
    },
    {
     "name": "stderr",
     "output_type": "stream",
     "text": [
      "Fetching stats:  21%|██▏       | 31101/146085 [45:23<2:40:20, 11.95it/s]"
     ]
    },
    {
     "name": "stdout",
     "output_type": "stream",
     "text": [
      "🔄 Autosaved 260 rows after 31100 new fixtures. [Calls: 31100]\n"
     ]
    },
    {
     "name": "stderr",
     "output_type": "stream",
     "text": [
      "Fetching stats:  21%|██▏       | 31201/146085 [45:31<2:46:51, 11.47it/s]"
     ]
    },
    {
     "name": "stdout",
     "output_type": "stream",
     "text": [
      "🔄 Autosaved 248 rows after 31200 new fixtures. [Calls: 31200]\n"
     ]
    },
    {
     "name": "stderr",
     "output_type": "stream",
     "text": [
      "Fetching stats:  21%|██▏       | 31301/146085 [45:40<2:47:59, 11.39it/s]"
     ]
    },
    {
     "name": "stdout",
     "output_type": "stream",
     "text": [
      "🔄 Autosaved 124 rows after 31300 new fixtures. [Calls: 31300]\n"
     ]
    },
    {
     "name": "stderr",
     "output_type": "stream",
     "text": [
      "Fetching stats:  21%|██▏       | 31401/146085 [45:49<2:42:07, 11.79it/s]"
     ]
    },
    {
     "name": "stdout",
     "output_type": "stream",
     "text": [
      "🔄 Autosaved 152 rows after 31400 new fixtures. [Calls: 31400]\n"
     ]
    },
    {
     "name": "stderr",
     "output_type": "stream",
     "text": [
      "Fetching stats:  22%|██▏       | 31501/146085 [45:57<2:38:02, 12.08it/s]"
     ]
    },
    {
     "name": "stdout",
     "output_type": "stream",
     "text": [
      "🔄 Autosaved 200 rows after 31500 new fixtures. [Calls: 31500]\n"
     ]
    },
    {
     "name": "stderr",
     "output_type": "stream",
     "text": [
      "Fetching stats:  22%|██▏       | 31601/146085 [46:06<2:49:23, 11.26it/s]"
     ]
    },
    {
     "name": "stdout",
     "output_type": "stream",
     "text": [
      "🔄 Autosaved 152 rows after 31600 new fixtures. [Calls: 31600]\n"
     ]
    },
    {
     "name": "stderr",
     "output_type": "stream",
     "text": [
      "Fetching stats:  22%|██▏       | 31701/146085 [46:14<2:42:37, 11.72it/s]"
     ]
    },
    {
     "name": "stdout",
     "output_type": "stream",
     "text": [
      "🔄 Autosaved 2 rows after 31700 new fixtures. [Calls: 31700]\n"
     ]
    },
    {
     "name": "stderr",
     "output_type": "stream",
     "text": [
      "Fetching stats:  22%|██▏       | 31801/146085 [46:23<2:53:34, 10.97it/s]"
     ]
    },
    {
     "name": "stdout",
     "output_type": "stream",
     "text": [
      "🔄 Autosaved 28 rows after 31800 new fixtures. [Calls: 31800]\n"
     ]
    },
    {
     "name": "stderr",
     "output_type": "stream",
     "text": [
      "Fetching stats:  22%|██▏       | 31901/146085 [46:31<2:38:11, 12.03it/s]"
     ]
    },
    {
     "name": "stdout",
     "output_type": "stream",
     "text": [
      "🔄 Autosaved 8 rows after 31900 new fixtures. [Calls: 31900]\n"
     ]
    },
    {
     "name": "stderr",
     "output_type": "stream",
     "text": [
      "Fetching stats:  22%|██▏       | 32001/146085 [46:40<2:55:18, 10.85it/s]"
     ]
    },
    {
     "name": "stdout",
     "output_type": "stream",
     "text": [
      "🔄 Autosaved 164 rows after 32000 new fixtures. [Calls: 32000]\n"
     ]
    },
    {
     "name": "stderr",
     "output_type": "stream",
     "text": [
      "Fetching stats:  22%|██▏       | 32101/146085 [46:49<2:46:45, 11.39it/s]"
     ]
    },
    {
     "name": "stdout",
     "output_type": "stream",
     "text": [
      "🔄 Autosaved 164 rows after 32100 new fixtures. [Calls: 32100]\n"
     ]
    },
    {
     "name": "stderr",
     "output_type": "stream",
     "text": [
      "Fetching stats:  22%|██▏       | 32201/146085 [46:58<3:05:23, 10.24it/s]"
     ]
    },
    {
     "name": "stdout",
     "output_type": "stream",
     "text": [
      "🔄 Autosaved 100 rows after 32200 new fixtures. [Calls: 32200]\n"
     ]
    },
    {
     "name": "stderr",
     "output_type": "stream",
     "text": [
      "Fetching stats:  22%|██▏       | 32301/146085 [47:07<2:45:29, 11.46it/s]"
     ]
    },
    {
     "name": "stdout",
     "output_type": "stream",
     "text": [
      "🔄 Autosaved 158 rows after 32300 new fixtures. [Calls: 32300]\n"
     ]
    },
    {
     "name": "stderr",
     "output_type": "stream",
     "text": [
      "Fetching stats:  22%|██▏       | 32401/146085 [47:16<2:57:06, 10.70it/s]"
     ]
    },
    {
     "name": "stdout",
     "output_type": "stream",
     "text": [
      "🔄 Autosaved 258 rows after 32400 new fixtures. [Calls: 32400]\n"
     ]
    },
    {
     "name": "stderr",
     "output_type": "stream",
     "text": [
      "Fetching stats:  22%|██▏       | 32501/146085 [47:25<2:51:52, 11.01it/s]"
     ]
    },
    {
     "name": "stdout",
     "output_type": "stream",
     "text": [
      "🔄 Autosaved 246 rows after 32500 new fixtures. [Calls: 32500]\n"
     ]
    },
    {
     "name": "stderr",
     "output_type": "stream",
     "text": [
      "Fetching stats:  22%|██▏       | 32601/146085 [47:33<2:44:49, 11.48it/s]"
     ]
    },
    {
     "name": "stdout",
     "output_type": "stream",
     "text": [
      "🔄 Autosaved 264 rows after 32600 new fixtures. [Calls: 32600]\n"
     ]
    },
    {
     "name": "stderr",
     "output_type": "stream",
     "text": [
      "Fetching stats:  22%|██▏       | 32701/146085 [47:43<2:53:53, 10.87it/s]"
     ]
    },
    {
     "name": "stdout",
     "output_type": "stream",
     "text": [
      "🔄 Autosaved 216 rows after 32700 new fixtures. [Calls: 32700]\n"
     ]
    },
    {
     "name": "stderr",
     "output_type": "stream",
     "text": [
      "Fetching stats:  22%|██▏       | 32801/146085 [47:52<2:45:08, 11.43it/s]"
     ]
    },
    {
     "name": "stdout",
     "output_type": "stream",
     "text": [
      "🔄 Autosaved 242 rows after 32800 new fixtures. [Calls: 32800]\n"
     ]
    },
    {
     "name": "stderr",
     "output_type": "stream",
     "text": [
      "Fetching stats:  23%|██▎       | 32901/146085 [48:01<2:52:56, 10.91it/s]"
     ]
    },
    {
     "name": "stdout",
     "output_type": "stream",
     "text": [
      "🔄 Autosaved 234 rows after 32900 new fixtures. [Calls: 32900]\n"
     ]
    },
    {
     "name": "stderr",
     "output_type": "stream",
     "text": [
      "Fetching stats:  23%|██▎       | 33001/146085 [48:10<3:02:04, 10.35it/s]"
     ]
    },
    {
     "name": "stdout",
     "output_type": "stream",
     "text": [
      "🔄 Autosaved 296 rows after 33000 new fixtures. [Calls: 33000]\n"
     ]
    },
    {
     "name": "stderr",
     "output_type": "stream",
     "text": [
      "Fetching stats:  23%|██▎       | 33101/146085 [48:18<2:41:16, 11.68it/s]"
     ]
    },
    {
     "name": "stdout",
     "output_type": "stream",
     "text": [
      "🔄 Autosaved 322 rows after 33100 new fixtures. [Calls: 33100]\n"
     ]
    },
    {
     "name": "stderr",
     "output_type": "stream",
     "text": [
      "Fetching stats:  23%|██▎       | 33201/146085 [48:27<2:47:53, 11.21it/s]"
     ]
    },
    {
     "name": "stdout",
     "output_type": "stream",
     "text": [
      "🔄 Autosaved 308 rows after 33200 new fixtures. [Calls: 33200]\n"
     ]
    },
    {
     "name": "stderr",
     "output_type": "stream",
     "text": [
      "Fetching stats:  23%|██▎       | 33302/146085 [48:36<2:47:28, 11.22it/s]"
     ]
    },
    {
     "name": "stdout",
     "output_type": "stream",
     "text": [
      "🔄 Autosaved 234 rows after 33300 new fixtures. [Calls: 33300]\n"
     ]
    },
    {
     "name": "stderr",
     "output_type": "stream",
     "text": [
      "Fetching stats:  23%|██▎       | 33402/146085 [48:46<2:45:25, 11.35it/s]"
     ]
    },
    {
     "name": "stdout",
     "output_type": "stream",
     "text": [
      "🔄 Autosaved 188 rows after 33400 new fixtures. [Calls: 33400]\n"
     ]
    },
    {
     "name": "stderr",
     "output_type": "stream",
     "text": [
      "Fetching stats:  23%|██▎       | 33502/146085 [48:54<2:43:14, 11.49it/s]"
     ]
    },
    {
     "name": "stdout",
     "output_type": "stream",
     "text": [
      "🔄 Autosaved 130 rows after 33500 new fixtures. [Calls: 33500]\n"
     ]
    },
    {
     "name": "stderr",
     "output_type": "stream",
     "text": [
      "Fetching stats:  23%|██▎       | 33602/146085 [49:03<2:50:07, 11.02it/s]"
     ]
    },
    {
     "name": "stdout",
     "output_type": "stream",
     "text": [
      "🔄 Autosaved 92 rows after 33600 new fixtures. [Calls: 33600]\n"
     ]
    },
    {
     "name": "stderr",
     "output_type": "stream",
     "text": [
      "Fetching stats:  23%|██▎       | 33702/146085 [49:12<2:43:06, 11.48it/s]"
     ]
    },
    {
     "name": "stdout",
     "output_type": "stream",
     "text": [
      "🔄 Autosaved 52 rows after 33700 new fixtures. [Calls: 33700]\n"
     ]
    },
    {
     "name": "stderr",
     "output_type": "stream",
     "text": [
      "Fetching stats:  23%|██▎       | 33801/146085 [49:21<3:43:20,  8.38it/s]"
     ]
    },
    {
     "name": "stdout",
     "output_type": "stream",
     "text": [
      "🔄 Autosaved 164 rows after 33800 new fixtures. [Calls: 33800]\n"
     ]
    },
    {
     "name": "stderr",
     "output_type": "stream",
     "text": [
      "Fetching stats:  23%|██▎       | 33901/146085 [49:30<2:50:25, 10.97it/s]"
     ]
    },
    {
     "name": "stdout",
     "output_type": "stream",
     "text": [
      "🔄 Autosaved 160 rows after 33900 new fixtures. [Calls: 33900]\n"
     ]
    },
    {
     "name": "stderr",
     "output_type": "stream",
     "text": [
      "Fetching stats:  23%|██▎       | 33999/146085 [49:40<2:44:00, 11.39it/s]"
     ]
    },
    {
     "name": "stdout",
     "output_type": "stream",
     "text": [
      "🔄 Autosaved 160 rows after 34000 new fixtures. [Calls: 34000]\n"
     ]
    },
    {
     "name": "stderr",
     "output_type": "stream",
     "text": [
      "Fetching stats:  23%|██▎       | 34101/146085 [49:48<2:37:41, 11.84it/s]"
     ]
    },
    {
     "name": "stdout",
     "output_type": "stream",
     "text": [
      "🔄 Autosaved 186 rows after 34100 new fixtures. [Calls: 34100]\n"
     ]
    },
    {
     "name": "stderr",
     "output_type": "stream",
     "text": [
      "Fetching stats:  23%|██▎       | 34201/146085 [49:57<2:31:13, 12.33it/s]"
     ]
    },
    {
     "name": "stdout",
     "output_type": "stream",
     "text": [
      "🔄 Autosaved 156 rows after 34200 new fixtures. [Calls: 34200]\n"
     ]
    },
    {
     "name": "stderr",
     "output_type": "stream",
     "text": [
      "Fetching stats:  23%|██▎       | 34301/146085 [50:06<2:51:24, 10.87it/s]"
     ]
    },
    {
     "name": "stdout",
     "output_type": "stream",
     "text": [
      "🔄 Autosaved 182 rows after 34300 new fixtures. [Calls: 34300]\n"
     ]
    },
    {
     "name": "stderr",
     "output_type": "stream",
     "text": [
      "Fetching stats:  24%|██▎       | 34401/146085 [50:14<2:43:14, 11.40it/s]"
     ]
    },
    {
     "name": "stdout",
     "output_type": "stream",
     "text": [
      "🔄 Autosaved 188 rows after 34400 new fixtures. [Calls: 34400]\n"
     ]
    },
    {
     "name": "stderr",
     "output_type": "stream",
     "text": [
      "Fetching stats:  24%|██▎       | 34501/146085 [50:23<2:32:33, 12.19it/s]"
     ]
    },
    {
     "name": "stdout",
     "output_type": "stream",
     "text": [
      "🔄 Autosaved 176 rows after 34500 new fixtures. [Calls: 34500]\n"
     ]
    },
    {
     "name": "stderr",
     "output_type": "stream",
     "text": [
      "Fetching stats:  24%|██▎       | 34601/146085 [50:31<2:57:35, 10.46it/s]"
     ]
    },
    {
     "name": "stdout",
     "output_type": "stream",
     "text": [
      "🔄 Autosaved 208 rows after 34600 new fixtures. [Calls: 34600]\n"
     ]
    },
    {
     "name": "stderr",
     "output_type": "stream",
     "text": [
      "Fetching stats:  24%|██▍       | 34701/146085 [50:40<2:45:30, 11.22it/s]"
     ]
    },
    {
     "name": "stdout",
     "output_type": "stream",
     "text": [
      "🔄 Autosaved 228 rows after 34700 new fixtures. [Calls: 34700]\n"
     ]
    },
    {
     "name": "stderr",
     "output_type": "stream",
     "text": [
      "Fetching stats:  24%|██▍       | 34801/146085 [50:48<2:33:21, 12.09it/s]"
     ]
    },
    {
     "name": "stdout",
     "output_type": "stream",
     "text": [
      "🔄 Autosaved 218 rows after 34800 new fixtures. [Calls: 34800]\n"
     ]
    },
    {
     "name": "stderr",
     "output_type": "stream",
     "text": [
      "Fetching stats:  24%|██▍       | 35301/146085 [51:32<2:50:05, 10.86it/s]"
     ]
    },
    {
     "name": "stdout",
     "output_type": "stream",
     "text": [
      "🔄 Autosaved 24 rows after 35300 new fixtures. [Calls: 35300]\n"
     ]
    },
    {
     "name": "stderr",
     "output_type": "stream",
     "text": [
      "Fetching stats:  24%|██▍       | 35401/146085 [51:41<2:43:07, 11.31it/s]"
     ]
    },
    {
     "name": "stdout",
     "output_type": "stream",
     "text": [
      "🔄 Autosaved 38 rows after 35400 new fixtures. [Calls: 35400]\n"
     ]
    },
    {
     "name": "stderr",
     "output_type": "stream",
     "text": [
      "Fetching stats:  24%|██▍       | 35501/146085 [51:50<3:06:21,  9.89it/s]"
     ]
    },
    {
     "name": "stdout",
     "output_type": "stream",
     "text": [
      "🔄 Autosaved 6 rows after 35500 new fixtures. [Calls: 35500]\n"
     ]
    },
    {
     "name": "stderr",
     "output_type": "stream",
     "text": [
      "Fetching stats:  24%|██▍       | 35601/146085 [51:59<2:34:32, 11.91it/s]"
     ]
    },
    {
     "name": "stdout",
     "output_type": "stream",
     "text": [
      "🔄 Autosaved 36 rows after 35600 new fixtures. [Calls: 35600]\n"
     ]
    },
    {
     "name": "stderr",
     "output_type": "stream",
     "text": [
      "Fetching stats:  24%|██▍       | 35701/146085 [52:08<2:37:38, 11.67it/s]"
     ]
    },
    {
     "name": "stdout",
     "output_type": "stream",
     "text": [
      "🔄 Autosaved 36 rows after 35700 new fixtures. [Calls: 35700]\n"
     ]
    },
    {
     "name": "stderr",
     "output_type": "stream",
     "text": [
      "Fetching stats:  25%|██▍       | 35801/146085 [52:16<2:39:37, 11.51it/s]"
     ]
    },
    {
     "name": "stdout",
     "output_type": "stream",
     "text": [
      "🔄 Autosaved 38 rows after 35800 new fixtures. [Calls: 35800]\n"
     ]
    },
    {
     "name": "stderr",
     "output_type": "stream",
     "text": [
      "Fetching stats:  25%|██▍       | 35901/146085 [52:25<2:37:10, 11.68it/s]"
     ]
    },
    {
     "name": "stdout",
     "output_type": "stream",
     "text": [
      "🔄 Autosaved 100 rows after 35900 new fixtures. [Calls: 35900]\n"
     ]
    },
    {
     "name": "stderr",
     "output_type": "stream",
     "text": [
      "Fetching stats:  25%|██▍       | 36001/146085 [52:34<3:02:12, 10.07it/s]"
     ]
    },
    {
     "name": "stdout",
     "output_type": "stream",
     "text": [
      "🔄 Autosaved 156 rows after 36000 new fixtures. [Calls: 36000]\n"
     ]
    },
    {
     "name": "stderr",
     "output_type": "stream",
     "text": [
      "Fetching stats:  25%|██▍       | 36101/146085 [52:43<2:37:01, 11.67it/s]"
     ]
    },
    {
     "name": "stdout",
     "output_type": "stream",
     "text": [
      "🔄 Autosaved 160 rows after 36100 new fixtures. [Calls: 36100]\n"
     ]
    },
    {
     "name": "stderr",
     "output_type": "stream",
     "text": [
      "Fetching stats:  25%|██▍       | 36201/146085 [52:52<2:39:55, 11.45it/s]"
     ]
    },
    {
     "name": "stdout",
     "output_type": "stream",
     "text": [
      "🔄 Autosaved 150 rows after 36200 new fixtures. [Calls: 36200]\n"
     ]
    },
    {
     "name": "stderr",
     "output_type": "stream",
     "text": [
      "Fetching stats:  25%|██▍       | 36301/146085 [53:01<2:45:52, 11.03it/s]"
     ]
    },
    {
     "name": "stdout",
     "output_type": "stream",
     "text": [
      "🔄 Autosaved 166 rows after 36300 new fixtures. [Calls: 36300]\n"
     ]
    },
    {
     "name": "stderr",
     "output_type": "stream",
     "text": [
      "Fetching stats:  25%|██▍       | 36401/146085 [53:09<2:35:53, 11.73it/s]"
     ]
    },
    {
     "name": "stdout",
     "output_type": "stream",
     "text": [
      "🔄 Autosaved 178 rows after 36400 new fixtures. [Calls: 36400]\n"
     ]
    },
    {
     "name": "stderr",
     "output_type": "stream",
     "text": [
      "Fetching stats:  25%|██▍       | 36501/146085 [53:18<2:45:11, 11.06it/s]"
     ]
    },
    {
     "name": "stdout",
     "output_type": "stream",
     "text": [
      "🔄 Autosaved 156 rows after 36500 new fixtures. [Calls: 36500]\n"
     ]
    },
    {
     "name": "stderr",
     "output_type": "stream",
     "text": [
      "Fetching stats:  25%|██▌       | 36601/146085 [53:27<2:39:55, 11.41it/s]"
     ]
    },
    {
     "name": "stdout",
     "output_type": "stream",
     "text": [
      "🔄 Autosaved 164 rows after 36600 new fixtures. [Calls: 36600]\n"
     ]
    },
    {
     "name": "stderr",
     "output_type": "stream",
     "text": [
      "Fetching stats:  25%|██▌       | 36702/146085 [53:36<2:54:07, 10.47it/s]"
     ]
    },
    {
     "name": "stdout",
     "output_type": "stream",
     "text": [
      "🔄 Autosaved 134 rows after 36700 new fixtures. [Calls: 36700]\n"
     ]
    },
    {
     "name": "stderr",
     "output_type": "stream",
     "text": [
      "Fetching stats:  25%|██▌       | 36802/146085 [53:45<2:36:17, 11.65it/s]"
     ]
    },
    {
     "name": "stdout",
     "output_type": "stream",
     "text": [
      "🔄 Autosaved 162 rows after 36800 new fixtures. [Calls: 36800]\n"
     ]
    },
    {
     "name": "stderr",
     "output_type": "stream",
     "text": [
      "Fetching stats:  25%|██▌       | 36902/146085 [53:54<2:35:52, 11.67it/s]"
     ]
    },
    {
     "name": "stdout",
     "output_type": "stream",
     "text": [
      "🔄 Autosaved 164 rows after 36900 new fixtures. [Calls: 36900]\n"
     ]
    },
    {
     "name": "stderr",
     "output_type": "stream",
     "text": [
      "Fetching stats:  25%|██▌       | 37000/146085 [54:02<2:34:03, 11.80it/s]"
     ]
    },
    {
     "name": "stdout",
     "output_type": "stream",
     "text": [
      "🔄 Autosaved 164 rows after 37000 new fixtures. [Calls: 37000]\n"
     ]
    },
    {
     "name": "stderr",
     "output_type": "stream",
     "text": [
      "Fetching stats:  25%|██▌       | 37102/146085 [54:11<2:46:20, 10.92it/s]"
     ]
    },
    {
     "name": "stdout",
     "output_type": "stream",
     "text": [
      "🔄 Autosaved 154 rows after 37100 new fixtures. [Calls: 37100]\n"
     ]
    },
    {
     "name": "stderr",
     "output_type": "stream",
     "text": [
      "Fetching stats:  25%|██▌       | 37202/146085 [54:20<2:45:22, 10.97it/s]"
     ]
    },
    {
     "name": "stdout",
     "output_type": "stream",
     "text": [
      "🔄 Autosaved 176 rows after 37200 new fixtures. [Calls: 37200]\n"
     ]
    },
    {
     "name": "stderr",
     "output_type": "stream",
     "text": [
      "Fetching stats:  26%|██▌       | 37302/146085 [54:29<2:30:34, 12.04it/s]"
     ]
    },
    {
     "name": "stdout",
     "output_type": "stream",
     "text": [
      "🔄 Autosaved 256 rows after 37300 new fixtures. [Calls: 37300]\n"
     ]
    },
    {
     "name": "stderr",
     "output_type": "stream",
     "text": [
      "Fetching stats:  26%|██▌       | 37401/146085 [54:41<3:17:57,  9.15it/s] "
     ]
    },
    {
     "name": "stdout",
     "output_type": "stream",
     "text": [
      "🔄 Autosaved 290 rows after 37400 new fixtures. [Calls: 37400]\n"
     ]
    },
    {
     "name": "stderr",
     "output_type": "stream",
     "text": [
      "Fetching stats:  26%|██▌       | 37501/146085 [54:52<2:57:54, 10.17it/s]"
     ]
    },
    {
     "name": "stdout",
     "output_type": "stream",
     "text": [
      "🔄 Autosaved 88 rows after 37500 new fixtures. [Calls: 37500]\n"
     ]
    },
    {
     "name": "stderr",
     "output_type": "stream",
     "text": [
      "Fetching stats:  26%|██▌       | 37602/146085 [55:02<3:19:37,  9.06it/s]"
     ]
    },
    {
     "name": "stdout",
     "output_type": "stream",
     "text": [
      "🔄 Autosaved 6 rows after 37600 new fixtures. [Calls: 37600]\n"
     ]
    },
    {
     "name": "stderr",
     "output_type": "stream",
     "text": [
      "Fetching stats:  26%|██▌       | 37702/146085 [55:11<2:46:44, 10.83it/s]"
     ]
    },
    {
     "name": "stdout",
     "output_type": "stream",
     "text": [
      "🔄 Autosaved 2 rows after 37700 new fixtures. [Calls: 37700]\n"
     ]
    },
    {
     "name": "stderr",
     "output_type": "stream",
     "text": [
      "Fetching stats:  26%|██▌       | 37902/146085 [55:30<2:45:05, 10.92it/s]"
     ]
    },
    {
     "name": "stdout",
     "output_type": "stream",
     "text": [
      "🔄 Autosaved 20 rows after 37900 new fixtures. [Calls: 37900]\n"
     ]
    },
    {
     "name": "stderr",
     "output_type": "stream",
     "text": [
      "Fetching stats:  26%|██▌       | 38001/146085 [55:41<4:14:20,  7.08it/s]"
     ]
    },
    {
     "name": "stdout",
     "output_type": "stream",
     "text": [
      "🔄 Autosaved 4 rows after 38000 new fixtures. [Calls: 38000]\n"
     ]
    },
    {
     "name": "stderr",
     "output_type": "stream",
     "text": [
      "Fetching stats:  26%|██▌       | 38302/146085 [56:09<2:41:59, 11.09it/s]"
     ]
    },
    {
     "name": "stdout",
     "output_type": "stream",
     "text": [
      "🔄 Autosaved 6 rows after 38300 new fixtures. [Calls: 38300]\n"
     ]
    },
    {
     "name": "stderr",
     "output_type": "stream",
     "text": [
      "Fetching stats:  26%|██▋       | 38402/146085 [56:17<2:33:10, 11.72it/s]"
     ]
    },
    {
     "name": "stdout",
     "output_type": "stream",
     "text": [
      "🔄 Autosaved 18 rows after 38400 new fixtures. [Calls: 38400]\n"
     ]
    },
    {
     "name": "stderr",
     "output_type": "stream",
     "text": [
      "Fetching stats:  26%|██▋       | 38702/146085 [56:44<2:35:57, 11.48it/s]"
     ]
    },
    {
     "name": "stdout",
     "output_type": "stream",
     "text": [
      "🔄 Autosaved 4 rows after 38700 new fixtures. [Calls: 38700]\n"
     ]
    },
    {
     "name": "stderr",
     "output_type": "stream",
     "text": [
      "Fetching stats:  27%|██▋       | 38902/146085 [57:02<2:33:53, 11.61it/s]"
     ]
    },
    {
     "name": "stdout",
     "output_type": "stream",
     "text": [
      "🔄 Autosaved 264 rows after 38900 new fixtures. [Calls: 38900]\n"
     ]
    },
    {
     "name": "stderr",
     "output_type": "stream",
     "text": [
      "Fetching stats:  27%|██▋       | 39001/146085 [57:11<3:46:15,  7.89it/s]"
     ]
    },
    {
     "name": "stdout",
     "output_type": "stream",
     "text": [
      "🔄 Autosaved 330 rows after 39000 new fixtures. [Calls: 39000]\n"
     ]
    },
    {
     "name": "stderr",
     "output_type": "stream",
     "text": [
      "Fetching stats:  27%|██▋       | 39101/146085 [57:20<2:51:55, 10.37it/s]"
     ]
    },
    {
     "name": "stdout",
     "output_type": "stream",
     "text": [
      "🔄 Autosaved 310 rows after 39100 new fixtures. [Calls: 39100]\n"
     ]
    },
    {
     "name": "stderr",
     "output_type": "stream",
     "text": [
      "Fetching stats:  27%|██▋       | 39201/146085 [57:29<2:42:05, 10.99it/s]"
     ]
    },
    {
     "name": "stdout",
     "output_type": "stream",
     "text": [
      "🔄 Autosaved 306 rows after 39200 new fixtures. [Calls: 39200]\n"
     ]
    },
    {
     "name": "stderr",
     "output_type": "stream",
     "text": [
      "Fetching stats:  27%|██▋       | 39301/146085 [57:38<2:46:48, 10.67it/s]"
     ]
    },
    {
     "name": "stdout",
     "output_type": "stream",
     "text": [
      "🔄 Autosaved 308 rows after 39300 new fixtures. [Calls: 39300]\n"
     ]
    },
    {
     "name": "stderr",
     "output_type": "stream",
     "text": [
      "Fetching stats:  27%|██▋       | 39401/146085 [57:47<2:35:29, 11.44it/s]"
     ]
    },
    {
     "name": "stdout",
     "output_type": "stream",
     "text": [
      "🔄 Autosaved 306 rows after 39400 new fixtures. [Calls: 39400]\n"
     ]
    },
    {
     "name": "stderr",
     "output_type": "stream",
     "text": [
      "Fetching stats:  27%|██▋       | 39501/146085 [57:57<2:38:52, 11.18it/s]"
     ]
    },
    {
     "name": "stdout",
     "output_type": "stream",
     "text": [
      "🔄 Autosaved 314 rows after 39500 new fixtures. [Calls: 39500]\n"
     ]
    },
    {
     "name": "stderr",
     "output_type": "stream",
     "text": [
      "Fetching stats:  27%|██▋       | 39601/146085 [58:05<2:38:54, 11.17it/s]"
     ]
    },
    {
     "name": "stdout",
     "output_type": "stream",
     "text": [
      "🔄 Autosaved 328 rows after 39600 new fixtures. [Calls: 39600]\n"
     ]
    },
    {
     "name": "stderr",
     "output_type": "stream",
     "text": [
      "Fetching stats:  27%|██▋       | 39701/146085 [58:14<2:37:41, 11.24it/s]"
     ]
    },
    {
     "name": "stdout",
     "output_type": "stream",
     "text": [
      "🔄 Autosaved 266 rows after 39700 new fixtures. [Calls: 39700]\n"
     ]
    },
    {
     "name": "stderr",
     "output_type": "stream",
     "text": [
      "Fetching stats:  27%|██▋       | 39801/146085 [58:23<2:39:23, 11.11it/s]"
     ]
    },
    {
     "name": "stdout",
     "output_type": "stream",
     "text": [
      "🔄 Autosaved 272 rows after 39800 new fixtures. [Calls: 39800]\n"
     ]
    },
    {
     "name": "stderr",
     "output_type": "stream",
     "text": [
      "Fetching stats:  27%|██▋       | 39902/146085 [58:33<2:47:30, 10.56it/s]"
     ]
    },
    {
     "name": "stdout",
     "output_type": "stream",
     "text": [
      "🔄 Autosaved 234 rows after 39900 new fixtures. [Calls: 39900]\n"
     ]
    },
    {
     "name": "stderr",
     "output_type": "stream",
     "text": [
      "Fetching stats:  27%|██▋       | 40000/146085 [58:41<2:45:38, 10.67it/s]"
     ]
    },
    {
     "name": "stdout",
     "output_type": "stream",
     "text": [
      "🔄 Autosaved 192 rows after 40000 new fixtures. [Calls: 40000]\n"
     ]
    },
    {
     "name": "stderr",
     "output_type": "stream",
     "text": [
      "Fetching stats:  27%|██▋       | 40102/146085 [58:50<2:45:49, 10.65it/s]"
     ]
    },
    {
     "name": "stdout",
     "output_type": "stream",
     "text": [
      "🔄 Autosaved 224 rows after 40100 new fixtures. [Calls: 40100]\n"
     ]
    },
    {
     "name": "stderr",
     "output_type": "stream",
     "text": [
      "Fetching stats:  28%|██▊       | 40202/146085 [58:59<2:27:42, 11.95it/s]"
     ]
    },
    {
     "name": "stdout",
     "output_type": "stream",
     "text": [
      "🔄 Autosaved 188 rows after 40200 new fixtures. [Calls: 40200]\n"
     ]
    },
    {
     "name": "stderr",
     "output_type": "stream",
     "text": [
      "Fetching stats:  28%|██▊       | 40302/146085 [59:08<2:31:30, 11.64it/s]"
     ]
    },
    {
     "name": "stdout",
     "output_type": "stream",
     "text": [
      "🔄 Autosaved 232 rows after 40300 new fixtures. [Calls: 40300]\n"
     ]
    },
    {
     "name": "stderr",
     "output_type": "stream",
     "text": [
      "Fetching stats:  28%|██▊       | 40402/146085 [59:17<2:37:26, 11.19it/s]"
     ]
    },
    {
     "name": "stdout",
     "output_type": "stream",
     "text": [
      "🔄 Autosaved 222 rows after 40400 new fixtures. [Calls: 40400]\n"
     ]
    },
    {
     "name": "stderr",
     "output_type": "stream",
     "text": [
      "Fetching stats:  28%|██▊       | 40502/146085 [59:26<2:27:07, 11.96it/s]"
     ]
    },
    {
     "name": "stdout",
     "output_type": "stream",
     "text": [
      "🔄 Autosaved 200 rows after 40500 new fixtures. [Calls: 40500]\n"
     ]
    },
    {
     "name": "stderr",
     "output_type": "stream",
     "text": [
      "Fetching stats:  28%|██▊       | 40600/146085 [59:34<2:40:28, 10.96it/s]"
     ]
    },
    {
     "name": "stdout",
     "output_type": "stream",
     "text": [
      "🔄 Autosaved 206 rows after 40600 new fixtures. [Calls: 40600]\n"
     ]
    },
    {
     "name": "stderr",
     "output_type": "stream",
     "text": [
      "Fetching stats:  28%|██▊       | 40702/146085 [59:44<2:38:02, 11.11it/s]"
     ]
    },
    {
     "name": "stdout",
     "output_type": "stream",
     "text": [
      "🔄 Autosaved 208 rows after 40700 new fixtures. [Calls: 40700]\n"
     ]
    },
    {
     "name": "stderr",
     "output_type": "stream",
     "text": [
      "Fetching stats:  28%|██▊       | 40802/146085 [59:53<2:31:56, 11.55it/s]"
     ]
    },
    {
     "name": "stdout",
     "output_type": "stream",
     "text": [
      "🔄 Autosaved 204 rows after 40800 new fixtures. [Calls: 40800]\n"
     ]
    },
    {
     "name": "stderr",
     "output_type": "stream",
     "text": [
      "Fetching stats:  28%|██▊       | 40902/146085 [1:00:02<2:36:45, 11.18it/s]"
     ]
    },
    {
     "name": "stdout",
     "output_type": "stream",
     "text": [
      "🔄 Autosaved 210 rows after 40900 new fixtures. [Calls: 40900]\n"
     ]
    },
    {
     "name": "stderr",
     "output_type": "stream",
     "text": [
      "Fetching stats:  28%|██▊       | 41000/146085 [1:00:11<2:38:54, 11.02it/s]"
     ]
    },
    {
     "name": "stdout",
     "output_type": "stream",
     "text": [
      "🔄 Autosaved 200 rows after 41000 new fixtures. [Calls: 41000]\n"
     ]
    },
    {
     "name": "stderr",
     "output_type": "stream",
     "text": [
      "Fetching stats:  28%|██▊       | 41100/146085 [1:00:20<2:36:11, 11.20it/s]"
     ]
    },
    {
     "name": "stdout",
     "output_type": "stream",
     "text": [
      "🔄 Autosaved 234 rows after 41100 new fixtures. [Calls: 41100]\n"
     ]
    },
    {
     "name": "stderr",
     "output_type": "stream",
     "text": [
      "Fetching stats:  28%|██▊       | 41202/146085 [1:00:29<2:37:32, 11.10it/s]"
     ]
    },
    {
     "name": "stdout",
     "output_type": "stream",
     "text": [
      "🔄 Autosaved 202 rows after 41200 new fixtures. [Calls: 41200]\n"
     ]
    },
    {
     "name": "stderr",
     "output_type": "stream",
     "text": [
      "Fetching stats:  28%|██▊       | 41300/146085 [1:00:38<2:40:58, 10.85it/s]"
     ]
    },
    {
     "name": "stdout",
     "output_type": "stream",
     "text": [
      "🔄 Autosaved 222 rows after 41300 new fixtures. [Calls: 41300]\n"
     ]
    },
    {
     "name": "stderr",
     "output_type": "stream",
     "text": [
      "Fetching stats:  28%|██▊       | 41402/146085 [1:00:47<2:31:43, 11.50it/s]"
     ]
    },
    {
     "name": "stdout",
     "output_type": "stream",
     "text": [
      "🔄 Autosaved 200 rows after 41400 new fixtures. [Calls: 41400]\n"
     ]
    },
    {
     "name": "stderr",
     "output_type": "stream",
     "text": [
      "Fetching stats:  28%|██▊       | 41502/146085 [1:00:56<2:33:11, 11.38it/s]"
     ]
    },
    {
     "name": "stdout",
     "output_type": "stream",
     "text": [
      "🔄 Autosaved 238 rows after 41500 new fixtures. [Calls: 41500]\n"
     ]
    },
    {
     "name": "stderr",
     "output_type": "stream",
     "text": [
      "Fetching stats:  28%|██▊       | 41602/146085 [1:01:04<2:28:43, 11.71it/s]"
     ]
    },
    {
     "name": "stdout",
     "output_type": "stream",
     "text": [
      "🔄 Autosaved 198 rows after 41600 new fixtures. [Calls: 41600]\n"
     ]
    },
    {
     "name": "stderr",
     "output_type": "stream",
     "text": [
      "Fetching stats:  29%|██▊       | 41702/146085 [1:01:13<2:23:50, 12.09it/s]"
     ]
    },
    {
     "name": "stdout",
     "output_type": "stream",
     "text": [
      "🔄 Autosaved 194 rows after 41700 new fixtures. [Calls: 41700]\n"
     ]
    },
    {
     "name": "stderr",
     "output_type": "stream",
     "text": [
      "Fetching stats:  29%|██▊       | 41802/146085 [1:01:22<2:30:21, 11.56it/s]"
     ]
    },
    {
     "name": "stdout",
     "output_type": "stream",
     "text": [
      "🔄 Autosaved 214 rows after 41800 new fixtures. [Calls: 41800]\n"
     ]
    },
    {
     "name": "stderr",
     "output_type": "stream",
     "text": [
      "Fetching stats:  29%|██▊       | 41902/146085 [1:01:31<2:53:06, 10.03it/s]"
     ]
    },
    {
     "name": "stdout",
     "output_type": "stream",
     "text": [
      "🔄 Autosaved 204 rows after 41900 new fixtures. [Calls: 41900]\n"
     ]
    },
    {
     "name": "stderr",
     "output_type": "stream",
     "text": [
      "Fetching stats:  29%|██▉       | 42000/146085 [1:01:40<2:34:53, 11.20it/s]"
     ]
    },
    {
     "name": "stdout",
     "output_type": "stream",
     "text": [
      "🔄 Autosaved 108 rows after 42000 new fixtures. [Calls: 42000]\n"
     ]
    },
    {
     "name": "stderr",
     "output_type": "stream",
     "text": [
      "Fetching stats:  29%|██▉       | 42102/146085 [1:01:49<2:31:05, 11.47it/s]"
     ]
    },
    {
     "name": "stdout",
     "output_type": "stream",
     "text": [
      "🔄 Autosaved 124 rows after 42100 new fixtures. [Calls: 42100]\n"
     ]
    },
    {
     "name": "stderr",
     "output_type": "stream",
     "text": [
      "Fetching stats:  29%|██▉       | 42202/146085 [1:01:58<2:42:53, 10.63it/s]"
     ]
    },
    {
     "name": "stdout",
     "output_type": "stream",
     "text": [
      "🔄 Autosaved 132 rows after 42200 new fixtures. [Calls: 42200]\n"
     ]
    },
    {
     "name": "stderr",
     "output_type": "stream",
     "text": [
      "Fetching stats:  29%|██▉       | 42302/146085 [1:02:07<2:31:07, 11.45it/s]"
     ]
    },
    {
     "name": "stdout",
     "output_type": "stream",
     "text": [
      "🔄 Autosaved 176 rows after 42300 new fixtures. [Calls: 42300]\n"
     ]
    },
    {
     "name": "stderr",
     "output_type": "stream",
     "text": [
      "Fetching stats:  29%|██▉       | 42402/146085 [1:02:15<2:30:07, 11.51it/s]"
     ]
    },
    {
     "name": "stdout",
     "output_type": "stream",
     "text": [
      "🔄 Autosaved 202 rows after 42400 new fixtures. [Calls: 42400]\n"
     ]
    },
    {
     "name": "stderr",
     "output_type": "stream",
     "text": [
      "Fetching stats:  29%|██▉       | 42502/146085 [1:02:25<2:36:02, 11.06it/s]"
     ]
    },
    {
     "name": "stdout",
     "output_type": "stream",
     "text": [
      "🔄 Autosaved 266 rows after 42500 new fixtures. [Calls: 42500]\n"
     ]
    },
    {
     "name": "stderr",
     "output_type": "stream",
     "text": [
      "Fetching stats:  29%|██▉       | 42602/146085 [1:02:34<2:33:41, 11.22it/s]"
     ]
    },
    {
     "name": "stdout",
     "output_type": "stream",
     "text": [
      "🔄 Autosaved 246 rows after 42600 new fixtures. [Calls: 42600]\n"
     ]
    },
    {
     "name": "stderr",
     "output_type": "stream",
     "text": [
      "Fetching stats:  29%|██▉       | 42702/146085 [1:02:43<2:26:30, 11.76it/s]"
     ]
    },
    {
     "name": "stdout",
     "output_type": "stream",
     "text": [
      "🔄 Autosaved 214 rows after 42700 new fixtures. [Calls: 42700]\n"
     ]
    },
    {
     "name": "stderr",
     "output_type": "stream",
     "text": [
      "Fetching stats:  29%|██▉       | 42802/146085 [1:02:52<2:27:24, 11.68it/s]"
     ]
    },
    {
     "name": "stdout",
     "output_type": "stream",
     "text": [
      "🔄 Autosaved 258 rows after 42800 new fixtures. [Calls: 42800]\n"
     ]
    },
    {
     "name": "stderr",
     "output_type": "stream",
     "text": [
      "Fetching stats:  29%|██▉       | 42902/146085 [1:03:01<2:36:05, 11.02it/s]"
     ]
    },
    {
     "name": "stdout",
     "output_type": "stream",
     "text": [
      "🔄 Autosaved 252 rows after 42900 new fixtures. [Calls: 42900]\n"
     ]
    },
    {
     "name": "stderr",
     "output_type": "stream",
     "text": [
      "Fetching stats:  29%|██▉       | 43000/146085 [1:03:09<2:30:40, 11.40it/s]"
     ]
    },
    {
     "name": "stdout",
     "output_type": "stream",
     "text": [
      "🔄 Autosaved 246 rows after 43000 new fixtures. [Calls: 43000]\n"
     ]
    },
    {
     "name": "stderr",
     "output_type": "stream",
     "text": [
      "Fetching stats:  30%|██▉       | 43102/146085 [1:03:18<2:29:35, 11.47it/s]"
     ]
    },
    {
     "name": "stdout",
     "output_type": "stream",
     "text": [
      "🔄 Autosaved 228 rows after 43100 new fixtures. [Calls: 43100]\n"
     ]
    },
    {
     "name": "stderr",
     "output_type": "stream",
     "text": [
      "Fetching stats:  30%|██▉       | 43202/146085 [1:03:27<2:27:24, 11.63it/s]"
     ]
    },
    {
     "name": "stdout",
     "output_type": "stream",
     "text": [
      "🔄 Autosaved 236 rows after 43200 new fixtures. [Calls: 43200]\n"
     ]
    },
    {
     "name": "stderr",
     "output_type": "stream",
     "text": [
      "Fetching stats:  30%|██▉       | 43302/146085 [1:03:35<2:30:03, 11.42it/s]"
     ]
    },
    {
     "name": "stdout",
     "output_type": "stream",
     "text": [
      "🔄 Autosaved 254 rows after 43300 new fixtures. [Calls: 43300]\n"
     ]
    },
    {
     "name": "stderr",
     "output_type": "stream",
     "text": [
      "Fetching stats:  30%|██▉       | 43402/146085 [1:03:44<2:30:41, 11.36it/s]"
     ]
    },
    {
     "name": "stdout",
     "output_type": "stream",
     "text": [
      "🔄 Autosaved 278 rows after 43400 new fixtures. [Calls: 43400]\n"
     ]
    },
    {
     "name": "stderr",
     "output_type": "stream",
     "text": [
      "Fetching stats:  30%|██▉       | 43502/146085 [1:03:53<2:29:18, 11.45it/s]"
     ]
    },
    {
     "name": "stdout",
     "output_type": "stream",
     "text": [
      "🔄 Autosaved 314 rows after 43500 new fixtures. [Calls: 43500]\n"
     ]
    },
    {
     "name": "stderr",
     "output_type": "stream",
     "text": [
      "Fetching stats:  30%|██▉       | 43602/146085 [1:04:01<2:27:18, 11.60it/s]"
     ]
    },
    {
     "name": "stdout",
     "output_type": "stream",
     "text": [
      "🔄 Autosaved 494 rows after 43600 new fixtures. [Calls: 43600]\n"
     ]
    },
    {
     "name": "stderr",
     "output_type": "stream",
     "text": [
      "Fetching stats:  30%|██▉       | 43702/146085 [1:04:10<2:33:51, 11.09it/s]"
     ]
    },
    {
     "name": "stdout",
     "output_type": "stream",
     "text": [
      "🔄 Autosaved 538 rows after 43700 new fixtures. [Calls: 43700]\n"
     ]
    },
    {
     "name": "stderr",
     "output_type": "stream",
     "text": [
      "Fetching stats:  30%|██▉       | 43802/146085 [1:04:19<2:23:43, 11.86it/s]"
     ]
    },
    {
     "name": "stdout",
     "output_type": "stream",
     "text": [
      "🔄 Autosaved 722 rows after 43800 new fixtures. [Calls: 43800]\n"
     ]
    },
    {
     "name": "stderr",
     "output_type": "stream",
     "text": [
      "Fetching stats:  30%|███       | 43902/146085 [1:04:28<2:22:04, 11.99it/s]"
     ]
    },
    {
     "name": "stdout",
     "output_type": "stream",
     "text": [
      "🔄 Autosaved 702 rows after 43900 new fixtures. [Calls: 43900]\n"
     ]
    },
    {
     "name": "stderr",
     "output_type": "stream",
     "text": [
      "Fetching stats:  30%|███       | 44001/146085 [1:04:37<3:03:59,  9.25it/s]"
     ]
    },
    {
     "name": "stdout",
     "output_type": "stream",
     "text": [
      "🔄 Autosaved 688 rows after 44000 new fixtures. [Calls: 44000]\n"
     ]
    },
    {
     "name": "stderr",
     "output_type": "stream",
     "text": [
      "Fetching stats:  30%|███       | 44102/146085 [1:04:46<2:36:49, 10.84it/s]"
     ]
    },
    {
     "name": "stdout",
     "output_type": "stream",
     "text": [
      "🔄 Autosaved 220 rows after 44100 new fixtures. [Calls: 44100]\n"
     ]
    },
    {
     "name": "stderr",
     "output_type": "stream",
     "text": [
      "Fetching stats:  31%|███       | 44702/146085 [1:05:39<2:27:56, 11.42it/s]"
     ]
    },
    {
     "name": "stdout",
     "output_type": "stream",
     "text": [
      "🔄 Autosaved 4 rows after 44700 new fixtures. [Calls: 44700]\n"
     ]
    },
    {
     "name": "stderr",
     "output_type": "stream",
     "text": [
      "Fetching stats:  31%|███       | 44902/146085 [1:05:57<2:19:27, 12.09it/s]"
     ]
    },
    {
     "name": "stdout",
     "output_type": "stream",
     "text": [
      "🔄 Autosaved 12 rows after 44900 new fixtures. [Calls: 44900]\n"
     ]
    },
    {
     "name": "stderr",
     "output_type": "stream",
     "text": [
      "Fetching stats:  31%|███       | 45000/146085 [1:06:06<2:21:10, 11.93it/s]"
     ]
    },
    {
     "name": "stdout",
     "output_type": "stream",
     "text": [
      "🔄 Autosaved 24 rows after 45000 new fixtures. [Calls: 45000]\n"
     ]
    },
    {
     "name": "stderr",
     "output_type": "stream",
     "text": [
      "Fetching stats:  31%|███       | 45102/146085 [1:06:14<2:19:02, 12.11it/s]"
     ]
    },
    {
     "name": "stdout",
     "output_type": "stream",
     "text": [
      "🔄 Autosaved 40 rows after 45100 new fixtures. [Calls: 45100]\n"
     ]
    },
    {
     "name": "stderr",
     "output_type": "stream",
     "text": [
      "Fetching stats:  31%|███       | 45202/146085 [1:06:23<2:14:15, 12.52it/s]"
     ]
    },
    {
     "name": "stdout",
     "output_type": "stream",
     "text": [
      "🔄 Autosaved 46 rows after 45200 new fixtures. [Calls: 45200]\n"
     ]
    },
    {
     "name": "stderr",
     "output_type": "stream",
     "text": [
      "Fetching stats:  31%|███       | 45302/146085 [1:06:31<2:21:47, 11.85it/s]"
     ]
    },
    {
     "name": "stdout",
     "output_type": "stream",
     "text": [
      "🔄 Autosaved 84 rows after 45300 new fixtures. [Calls: 45300]\n"
     ]
    },
    {
     "name": "stderr",
     "output_type": "stream",
     "text": [
      "Fetching stats:  31%|███       | 45402/146085 [1:06:40<2:19:25, 12.04it/s]"
     ]
    },
    {
     "name": "stdout",
     "output_type": "stream",
     "text": [
      "🔄 Autosaved 194 rows after 45400 new fixtures. [Calls: 45400]\n"
     ]
    },
    {
     "name": "stderr",
     "output_type": "stream",
     "text": [
      "Fetching stats:  31%|███       | 45502/146085 [1:06:48<2:19:31, 12.01it/s]"
     ]
    },
    {
     "name": "stdout",
     "output_type": "stream",
     "text": [
      "🔄 Autosaved 224 rows after 45500 new fixtures. [Calls: 45500]\n"
     ]
    },
    {
     "name": "stderr",
     "output_type": "stream",
     "text": [
      "Fetching stats:  31%|███       | 45602/146085 [1:06:57<2:21:29, 11.84it/s]"
     ]
    },
    {
     "name": "stdout",
     "output_type": "stream",
     "text": [
      "🔄 Autosaved 274 rows after 45600 new fixtures. [Calls: 45600]\n"
     ]
    },
    {
     "name": "stderr",
     "output_type": "stream",
     "text": [
      "Fetching stats:  31%|███▏      | 45702/146085 [1:07:05<2:21:06, 11.86it/s]"
     ]
    },
    {
     "name": "stdout",
     "output_type": "stream",
     "text": [
      "🔄 Autosaved 272 rows after 45700 new fixtures. [Calls: 45700]\n"
     ]
    },
    {
     "name": "stderr",
     "output_type": "stream",
     "text": [
      "Fetching stats:  31%|███▏      | 45802/146085 [1:07:13<2:27:27, 11.33it/s]"
     ]
    },
    {
     "name": "stdout",
     "output_type": "stream",
     "text": [
      "🔄 Autosaved 282 rows after 45800 new fixtures. [Calls: 45800]\n"
     ]
    },
    {
     "name": "stderr",
     "output_type": "stream",
     "text": [
      "Fetching stats:  31%|███▏      | 45902/146085 [1:07:22<2:17:55, 12.11it/s]"
     ]
    },
    {
     "name": "stdout",
     "output_type": "stream",
     "text": [
      "🔄 Autosaved 288 rows after 45900 new fixtures. [Calls: 45900]\n"
     ]
    },
    {
     "name": "stderr",
     "output_type": "stream",
     "text": [
      "Fetching stats:  31%|███▏      | 46000/146085 [1:07:30<2:26:26, 11.39it/s]"
     ]
    },
    {
     "name": "stdout",
     "output_type": "stream",
     "text": [
      "🔄 Autosaved 294 rows after 46000 new fixtures. [Calls: 46000]\n"
     ]
    },
    {
     "name": "stderr",
     "output_type": "stream",
     "text": [
      "Fetching stats:  32%|███▏      | 46102/146085 [1:07:39<2:15:09, 12.33it/s]"
     ]
    },
    {
     "name": "stdout",
     "output_type": "stream",
     "text": [
      "🔄 Autosaved 376 rows after 46100 new fixtures. [Calls: 46100]\n"
     ]
    },
    {
     "name": "stderr",
     "output_type": "stream",
     "text": [
      "Fetching stats:  32%|███▏      | 46202/146085 [1:07:47<2:15:03, 12.33it/s]"
     ]
    },
    {
     "name": "stdout",
     "output_type": "stream",
     "text": [
      "🔄 Autosaved 202 rows after 46200 new fixtures. [Calls: 46200]\n"
     ]
    },
    {
     "name": "stderr",
     "output_type": "stream",
     "text": [
      "Fetching stats:  32%|███▏      | 46402/146085 [1:08:04<2:23:16, 11.60it/s]"
     ]
    },
    {
     "name": "stdout",
     "output_type": "stream",
     "text": [
      "🔄 Autosaved 86 rows after 46400 new fixtures. [Calls: 46400]\n"
     ]
    },
    {
     "name": "stderr",
     "output_type": "stream",
     "text": [
      "Fetching stats:  32%|███▏      | 46502/146085 [1:08:13<2:29:30, 11.10it/s]"
     ]
    },
    {
     "name": "stdout",
     "output_type": "stream",
     "text": [
      "🔄 Autosaved 168 rows after 46500 new fixtures. [Calls: 46500]\n"
     ]
    },
    {
     "name": "stderr",
     "output_type": "stream",
     "text": [
      "Fetching stats:  32%|███▏      | 46602/146085 [1:08:21<2:30:00, 11.05it/s]"
     ]
    },
    {
     "name": "stdout",
     "output_type": "stream",
     "text": [
      "🔄 Autosaved 216 rows after 46600 new fixtures. [Calls: 46600]\n"
     ]
    },
    {
     "name": "stderr",
     "output_type": "stream",
     "text": [
      "Fetching stats:  32%|███▏      | 46702/146085 [1:08:30<2:20:03, 11.83it/s]"
     ]
    },
    {
     "name": "stdout",
     "output_type": "stream",
     "text": [
      "🔄 Autosaved 240 rows after 46700 new fixtures. [Calls: 46700]\n"
     ]
    },
    {
     "name": "stderr",
     "output_type": "stream",
     "text": [
      "Fetching stats:  32%|███▏      | 46802/146085 [1:08:38<2:22:20, 11.63it/s]"
     ]
    },
    {
     "name": "stdout",
     "output_type": "stream",
     "text": [
      "🔄 Autosaved 290 rows after 46800 new fixtures. [Calls: 46800]\n"
     ]
    },
    {
     "name": "stderr",
     "output_type": "stream",
     "text": [
      "Fetching stats:  32%|███▏      | 46902/146085 [1:08:47<2:19:35, 11.84it/s]"
     ]
    },
    {
     "name": "stdout",
     "output_type": "stream",
     "text": [
      "🔄 Autosaved 288 rows after 46900 new fixtures. [Calls: 46900]\n"
     ]
    },
    {
     "name": "stderr",
     "output_type": "stream",
     "text": [
      "Fetching stats:  32%|███▏      | 47000/146085 [1:08:55<2:20:44, 11.73it/s]"
     ]
    },
    {
     "name": "stdout",
     "output_type": "stream",
     "text": [
      "🔄 Autosaved 282 rows after 47000 new fixtures. [Calls: 47000]\n"
     ]
    },
    {
     "name": "stderr",
     "output_type": "stream",
     "text": [
      "Fetching stats:  32%|███▏      | 47102/146085 [1:09:04<2:23:41, 11.48it/s]"
     ]
    },
    {
     "name": "stdout",
     "output_type": "stream",
     "text": [
      "🔄 Autosaved 294 rows after 47100 new fixtures. [Calls: 47100]\n"
     ]
    },
    {
     "name": "stderr",
     "output_type": "stream",
     "text": [
      "Fetching stats:  32%|███▏      | 47202/146085 [1:09:13<2:17:59, 11.94it/s]"
     ]
    },
    {
     "name": "stdout",
     "output_type": "stream",
     "text": [
      "🔄 Autosaved 292 rows after 47200 new fixtures. [Calls: 47200]\n"
     ]
    },
    {
     "name": "stderr",
     "output_type": "stream",
     "text": [
      "Fetching stats:  32%|███▏      | 47302/146085 [1:09:22<2:18:12, 11.91it/s]"
     ]
    },
    {
     "name": "stdout",
     "output_type": "stream",
     "text": [
      "🔄 Autosaved 310 rows after 47300 new fixtures. [Calls: 47300]\n"
     ]
    },
    {
     "name": "stderr",
     "output_type": "stream",
     "text": [
      "Fetching stats:  32%|███▏      | 47402/146085 [1:09:31<2:21:04, 11.66it/s]"
     ]
    },
    {
     "name": "stdout",
     "output_type": "stream",
     "text": [
      "🔄 Autosaved 368 rows after 47400 new fixtures. [Calls: 47400]\n"
     ]
    },
    {
     "name": "stderr",
     "output_type": "stream",
     "text": [
      "Fetching stats:  33%|███▎      | 47502/146085 [1:09:40<2:36:00, 10.53it/s]"
     ]
    },
    {
     "name": "stdout",
     "output_type": "stream",
     "text": [
      "🔄 Autosaved 360 rows after 47500 new fixtures. [Calls: 47500]\n"
     ]
    },
    {
     "name": "stderr",
     "output_type": "stream",
     "text": [
      "Fetching stats:  33%|███▎      | 47602/146085 [1:09:49<2:35:28, 10.56it/s]"
     ]
    },
    {
     "name": "stdout",
     "output_type": "stream",
     "text": [
      "🔄 Autosaved 362 rows after 47600 new fixtures. [Calls: 47600]\n"
     ]
    },
    {
     "name": "stderr",
     "output_type": "stream",
     "text": [
      "Fetching stats:  33%|███▎      | 47702/146085 [1:09:58<2:23:45, 11.41it/s]"
     ]
    },
    {
     "name": "stdout",
     "output_type": "stream",
     "text": [
      "🔄 Autosaved 378 rows after 47700 new fixtures. [Calls: 47700]\n"
     ]
    },
    {
     "name": "stderr",
     "output_type": "stream",
     "text": [
      "Fetching stats:  33%|███▎      | 47802/146085 [1:10:07<2:20:21, 11.67it/s]"
     ]
    },
    {
     "name": "stdout",
     "output_type": "stream",
     "text": [
      "🔄 Autosaved 376 rows after 47800 new fixtures. [Calls: 47800]\n"
     ]
    },
    {
     "name": "stderr",
     "output_type": "stream",
     "text": [
      "Fetching stats:  33%|███▎      | 47902/146085 [1:10:16<2:19:54, 11.70it/s]"
     ]
    },
    {
     "name": "stdout",
     "output_type": "stream",
     "text": [
      "🔄 Autosaved 446 rows after 47900 new fixtures. [Calls: 47900]\n"
     ]
    },
    {
     "name": "stderr",
     "output_type": "stream",
     "text": [
      "Fetching stats:  33%|███▎      | 48000/146085 [1:10:25<2:28:36, 11.00it/s]"
     ]
    },
    {
     "name": "stdout",
     "output_type": "stream",
     "text": [
      "🔄 Autosaved 302 rows after 48000 new fixtures. [Calls: 48000]\n"
     ]
    },
    {
     "name": "stderr",
     "output_type": "stream",
     "text": [
      "Fetching stats:  33%|███▎      | 48202/146085 [1:10:43<2:23:57, 11.33it/s]"
     ]
    },
    {
     "name": "stdout",
     "output_type": "stream",
     "text": [
      "🔄 Autosaved 6 rows after 48200 new fixtures. [Calls: 48200]\n"
     ]
    },
    {
     "name": "stderr",
     "output_type": "stream",
     "text": [
      "Fetching stats:  33%|███▎      | 48702/146085 [1:11:29<2:25:02, 11.19it/s]"
     ]
    },
    {
     "name": "stdout",
     "output_type": "stream",
     "text": [
      "🔄 Autosaved 16 rows after 48700 new fixtures. [Calls: 48700]\n"
     ]
    },
    {
     "name": "stderr",
     "output_type": "stream",
     "text": [
      "Fetching stats:  33%|███▎      | 48802/146085 [1:11:38<2:23:38, 11.29it/s]"
     ]
    },
    {
     "name": "stdout",
     "output_type": "stream",
     "text": [
      "🔄 Autosaved 18 rows after 48800 new fixtures. [Calls: 48800]\n"
     ]
    },
    {
     "name": "stderr",
     "output_type": "stream",
     "text": [
      "Fetching stats:  33%|███▎      | 48902/146085 [1:11:47<2:23:28, 11.29it/s]"
     ]
    },
    {
     "name": "stdout",
     "output_type": "stream",
     "text": [
      "🔄 Autosaved 20 rows after 48900 new fixtures. [Calls: 48900]\n"
     ]
    },
    {
     "name": "stderr",
     "output_type": "stream",
     "text": [
      "Fetching stats:  34%|███▎      | 49000/146085 [1:11:56<2:30:29, 10.75it/s]"
     ]
    },
    {
     "name": "stdout",
     "output_type": "stream",
     "text": [
      "🔄 Autosaved 24 rows after 49000 new fixtures. [Calls: 49000]\n"
     ]
    },
    {
     "name": "stderr",
     "output_type": "stream",
     "text": [
      "Fetching stats:  34%|███▎      | 49102/146085 [1:12:04<2:20:38, 11.49it/s]"
     ]
    },
    {
     "name": "stdout",
     "output_type": "stream",
     "text": [
      "🔄 Autosaved 22 rows after 49100 new fixtures. [Calls: 49100]\n"
     ]
    },
    {
     "name": "stderr",
     "output_type": "stream",
     "text": [
      "Fetching stats:  34%|███▎      | 49202/146085 [1:12:13<2:13:35, 12.09it/s]"
     ]
    },
    {
     "name": "stdout",
     "output_type": "stream",
     "text": [
      "🔄 Autosaved 32 rows after 49200 new fixtures. [Calls: 49200]\n"
     ]
    },
    {
     "name": "stderr",
     "output_type": "stream",
     "text": [
      "Fetching stats:  34%|███▎      | 49302/146085 [1:12:22<2:20:55, 11.45it/s]"
     ]
    },
    {
     "name": "stdout",
     "output_type": "stream",
     "text": [
      "🔄 Autosaved 46 rows after 49300 new fixtures. [Calls: 49300]\n"
     ]
    },
    {
     "name": "stderr",
     "output_type": "stream",
     "text": [
      "Fetching stats:  34%|███▍      | 49402/146085 [1:12:30<2:19:46, 11.53it/s]"
     ]
    },
    {
     "name": "stdout",
     "output_type": "stream",
     "text": [
      "🔄 Autosaved 20 rows after 49400 new fixtures. [Calls: 49400]\n"
     ]
    },
    {
     "name": "stderr",
     "output_type": "stream",
     "text": [
      "Fetching stats:  34%|███▍      | 49502/146085 [1:12:39<2:21:08, 11.41it/s]"
     ]
    },
    {
     "name": "stdout",
     "output_type": "stream",
     "text": [
      "🔄 Autosaved 22 rows after 49500 new fixtures. [Calls: 49500]\n"
     ]
    },
    {
     "name": "stderr",
     "output_type": "stream",
     "text": [
      "Fetching stats:  34%|███▍      | 49602/146085 [1:12:48<2:20:39, 11.43it/s]"
     ]
    },
    {
     "name": "stdout",
     "output_type": "stream",
     "text": [
      "🔄 Autosaved 100 rows after 49600 new fixtures. [Calls: 49600]\n"
     ]
    },
    {
     "name": "stderr",
     "output_type": "stream",
     "text": [
      "Fetching stats:  34%|███▍      | 49702/146085 [1:12:57<2:17:53, 11.65it/s]"
     ]
    },
    {
     "name": "stdout",
     "output_type": "stream",
     "text": [
      "🔄 Autosaved 118 rows after 49700 new fixtures. [Calls: 49700]\n"
     ]
    },
    {
     "name": "stderr",
     "output_type": "stream",
     "text": [
      "Fetching stats:  34%|███▍      | 49802/146085 [1:13:05<2:28:11, 10.83it/s]"
     ]
    },
    {
     "name": "stdout",
     "output_type": "stream",
     "text": [
      "🔄 Autosaved 90 rows after 49800 new fixtures. [Calls: 49800]\n"
     ]
    },
    {
     "name": "stderr",
     "output_type": "stream",
     "text": [
      "Fetching stats:  34%|███▍      | 49902/146085 [1:13:14<2:20:12, 11.43it/s]"
     ]
    },
    {
     "name": "stdout",
     "output_type": "stream",
     "text": [
      "🔄 Autosaved 98 rows after 49900 new fixtures. [Calls: 49900]\n"
     ]
    },
    {
     "name": "stderr",
     "output_type": "stream",
     "text": [
      "Fetching stats:  34%|███▍      | 50000/146085 [1:13:23<2:19:50, 11.45it/s]"
     ]
    },
    {
     "name": "stdout",
     "output_type": "stream",
     "text": [
      "🔄 Autosaved 84 rows after 50000 new fixtures. [Calls: 50000]\n"
     ]
    },
    {
     "name": "stderr",
     "output_type": "stream",
     "text": [
      "Fetching stats:  34%|███▍      | 50102/146085 [1:13:32<2:16:16, 11.74it/s]"
     ]
    },
    {
     "name": "stdout",
     "output_type": "stream",
     "text": [
      "🔄 Autosaved 160 rows after 50100 new fixtures. [Calls: 50100]\n"
     ]
    },
    {
     "name": "stderr",
     "output_type": "stream",
     "text": [
      "Fetching stats:  34%|███▍      | 50202/146085 [1:13:40<2:16:25, 11.71it/s]"
     ]
    },
    {
     "name": "stdout",
     "output_type": "stream",
     "text": [
      "🔄 Autosaved 108 rows after 50200 new fixtures. [Calls: 50200]\n"
     ]
    },
    {
     "name": "stderr",
     "output_type": "stream",
     "text": [
      "Fetching stats:  34%|███▍      | 50302/146085 [1:13:49<2:16:27, 11.70it/s]"
     ]
    },
    {
     "name": "stdout",
     "output_type": "stream",
     "text": [
      "🔄 Autosaved 144 rows after 50300 new fixtures. [Calls: 50300]\n"
     ]
    },
    {
     "name": "stderr",
     "output_type": "stream",
     "text": [
      "Fetching stats:  35%|███▍      | 50400/146085 [1:13:58<2:21:31, 11.27it/s]"
     ]
    },
    {
     "name": "stdout",
     "output_type": "stream",
     "text": [
      "🔄 Autosaved 158 rows after 50400 new fixtures. [Calls: 50400]\n"
     ]
    },
    {
     "name": "stderr",
     "output_type": "stream",
     "text": [
      "Fetching stats:  35%|███▍      | 50502/146085 [1:14:06<2:08:10, 12.43it/s]"
     ]
    },
    {
     "name": "stdout",
     "output_type": "stream",
     "text": [
      "🔄 Autosaved 192 rows after 50500 new fixtures. [Calls: 50500]\n"
     ]
    },
    {
     "name": "stderr",
     "output_type": "stream",
     "text": [
      "Fetching stats:  35%|███▍      | 50602/146085 [1:14:15<2:16:45, 11.64it/s]"
     ]
    },
    {
     "name": "stdout",
     "output_type": "stream",
     "text": [
      "🔄 Autosaved 114 rows after 50600 new fixtures. [Calls: 50600]\n"
     ]
    },
    {
     "name": "stderr",
     "output_type": "stream",
     "text": [
      "Fetching stats:  35%|███▍      | 50702/146085 [1:14:24<2:19:48, 11.37it/s]"
     ]
    },
    {
     "name": "stdout",
     "output_type": "stream",
     "text": [
      "🔄 Autosaved 8 rows after 50700 new fixtures. [Calls: 50700]\n"
     ]
    },
    {
     "name": "stderr",
     "output_type": "stream",
     "text": [
      "Fetching stats:  35%|███▌      | 51201/146085 [1:15:07<2:12:32, 11.93it/s]"
     ]
    },
    {
     "name": "stdout",
     "output_type": "stream",
     "text": [
      "🔄 Autosaved 6 rows after 51200 new fixtures. [Calls: 51200]\n"
     ]
    },
    {
     "name": "stderr",
     "output_type": "stream",
     "text": [
      "Fetching stats:  35%|███▌      | 51301/146085 [1:15:16<2:14:59, 11.70it/s]"
     ]
    },
    {
     "name": "stdout",
     "output_type": "stream",
     "text": [
      "🔄 Autosaved 24 rows after 51300 new fixtures. [Calls: 51300]\n"
     ]
    },
    {
     "name": "stderr",
     "output_type": "stream",
     "text": [
      "Fetching stats:  35%|███▌      | 51701/146085 [1:15:50<2:29:57, 10.49it/s]"
     ]
    },
    {
     "name": "stdout",
     "output_type": "stream",
     "text": [
      "🔄 Autosaved 20 rows after 51700 new fixtures. [Calls: 51700]\n"
     ]
    },
    {
     "name": "stderr",
     "output_type": "stream",
     "text": [
      "Fetching stats:  35%|███▌      | 51801/146085 [1:15:58<2:19:53, 11.23it/s]"
     ]
    },
    {
     "name": "stdout",
     "output_type": "stream",
     "text": [
      "🔄 Autosaved 20 rows after 51800 new fixtures. [Calls: 51800]\n"
     ]
    },
    {
     "name": "stderr",
     "output_type": "stream",
     "text": [
      "Fetching stats:  36%|███▌      | 51901/146085 [1:16:07<2:23:28, 10.94it/s]"
     ]
    },
    {
     "name": "stdout",
     "output_type": "stream",
     "text": [
      "🔄 Autosaved 6 rows after 51900 new fixtures. [Calls: 51900]\n"
     ]
    },
    {
     "name": "stderr",
     "output_type": "stream",
     "text": [
      "Fetching stats:  36%|███▌      | 52001/146085 [1:16:15<2:29:03, 10.52it/s]"
     ]
    },
    {
     "name": "stdout",
     "output_type": "stream",
     "text": [
      "🔄 Autosaved 12 rows after 52000 new fixtures. [Calls: 52000]\n"
     ]
    },
    {
     "name": "stderr",
     "output_type": "stream",
     "text": [
      "Fetching stats:  36%|███▌      | 52101/146085 [1:16:24<2:15:26, 11.57it/s]"
     ]
    },
    {
     "name": "stdout",
     "output_type": "stream",
     "text": [
      "🔄 Autosaved 8 rows after 52100 new fixtures. [Calls: 52100]\n"
     ]
    },
    {
     "name": "stderr",
     "output_type": "stream",
     "text": [
      "Fetching stats:  36%|███▌      | 52201/146085 [1:16:33<2:11:49, 11.87it/s]"
     ]
    },
    {
     "name": "stdout",
     "output_type": "stream",
     "text": [
      "🔄 Autosaved 6 rows after 52200 new fixtures. [Calls: 52200]\n"
     ]
    },
    {
     "name": "stderr",
     "output_type": "stream",
     "text": [
      "Fetching stats:  36%|███▌      | 52701/146085 [1:17:16<2:14:17, 11.59it/s]"
     ]
    },
    {
     "name": "stdout",
     "output_type": "stream",
     "text": [
      "🔄 Autosaved 38 rows after 52700 new fixtures. [Calls: 52700]\n"
     ]
    },
    {
     "name": "stderr",
     "output_type": "stream",
     "text": [
      "Fetching stats:  36%|███▌      | 52801/146085 [1:17:24<2:18:56, 11.19it/s]"
     ]
    },
    {
     "name": "stdout",
     "output_type": "stream",
     "text": [
      "🔄 Autosaved 10 rows after 52800 new fixtures. [Calls: 52800]\n"
     ]
    },
    {
     "name": "stderr",
     "output_type": "stream",
     "text": [
      "Fetching stats:  36%|███▋      | 53101/146085 [1:17:51<2:22:38, 10.87it/s]"
     ]
    },
    {
     "name": "stdout",
     "output_type": "stream",
     "text": [
      "🔄 Autosaved 100 rows after 53100 new fixtures. [Calls: 53100]\n"
     ]
    },
    {
     "name": "stderr",
     "output_type": "stream",
     "text": [
      "Fetching stats:  36%|███▋      | 53201/146085 [1:18:00<2:15:49, 11.40it/s]"
     ]
    },
    {
     "name": "stdout",
     "output_type": "stream",
     "text": [
      "🔄 Autosaved 58 rows after 53200 new fixtures. [Calls: 53200]\n"
     ]
    },
    {
     "name": "stderr",
     "output_type": "stream",
     "text": [
      "Fetching stats:  37%|███▋      | 54000/146085 [1:19:11<2:17:46, 11.14it/s]"
     ]
    },
    {
     "name": "stdout",
     "output_type": "stream",
     "text": [
      "🔄 Autosaved 28 rows after 54000 new fixtures. [Calls: 54000]\n"
     ]
    },
    {
     "name": "stderr",
     "output_type": "stream",
     "text": [
      "Fetching stats:  37%|███▋      | 54102/146085 [1:19:19<2:07:26, 12.03it/s]"
     ]
    },
    {
     "name": "stdout",
     "output_type": "stream",
     "text": [
      "🔄 Autosaved 24 rows after 54100 new fixtures. [Calls: 54100]\n"
     ]
    },
    {
     "name": "stderr",
     "output_type": "stream",
     "text": [
      "Fetching stats:  37%|███▋      | 54202/146085 [1:19:28<2:08:45, 11.89it/s]"
     ]
    },
    {
     "name": "stdout",
     "output_type": "stream",
     "text": [
      "🔄 Autosaved 160 rows after 54200 new fixtures. [Calls: 54200]\n"
     ]
    },
    {
     "name": "stderr",
     "output_type": "stream",
     "text": [
      "Fetching stats:  37%|███▋      | 54302/146085 [1:19:36<2:10:27, 11.73it/s]"
     ]
    },
    {
     "name": "stdout",
     "output_type": "stream",
     "text": [
      "🔄 Autosaved 176 rows after 54300 new fixtures. [Calls: 54300]\n"
     ]
    },
    {
     "name": "stderr",
     "output_type": "stream",
     "text": [
      "Fetching stats:  37%|███▋      | 54402/146085 [1:19:45<2:09:17, 11.82it/s]"
     ]
    },
    {
     "name": "stdout",
     "output_type": "stream",
     "text": [
      "🔄 Autosaved 118 rows after 54400 new fixtures. [Calls: 54400]\n"
     ]
    },
    {
     "name": "stderr",
     "output_type": "stream",
     "text": [
      "Fetching stats:  37%|███▋      | 54502/146085 [1:19:53<2:03:59, 12.31it/s]"
     ]
    },
    {
     "name": "stdout",
     "output_type": "stream",
     "text": [
      "🔄 Autosaved 126 rows after 54500 new fixtures. [Calls: 54500]\n"
     ]
    },
    {
     "name": "stderr",
     "output_type": "stream",
     "text": [
      "Fetching stats:  37%|███▋      | 54602/146085 [1:20:03<2:02:08, 12.48it/s]"
     ]
    },
    {
     "name": "stdout",
     "output_type": "stream",
     "text": [
      "🔄 Autosaved 128 rows after 54600 new fixtures. [Calls: 54600]\n"
     ]
    },
    {
     "name": "stderr",
     "output_type": "stream",
     "text": [
      "Fetching stats:  37%|███▋      | 54702/146085 [1:20:11<2:04:37, 12.22it/s]"
     ]
    },
    {
     "name": "stdout",
     "output_type": "stream",
     "text": [
      "🔄 Autosaved 102 rows after 54700 new fixtures. [Calls: 54700]\n"
     ]
    },
    {
     "name": "stderr",
     "output_type": "stream",
     "text": [
      "Fetching stats:  38%|███▊      | 54802/146085 [1:20:21<2:05:49, 12.09it/s]"
     ]
    },
    {
     "name": "stdout",
     "output_type": "stream",
     "text": [
      "🔄 Autosaved 114 rows after 54800 new fixtures. [Calls: 54800]\n"
     ]
    },
    {
     "name": "stderr",
     "output_type": "stream",
     "text": [
      "Fetching stats:  38%|███▊      | 54902/146085 [1:20:29<2:07:43, 11.90it/s]"
     ]
    },
    {
     "name": "stdout",
     "output_type": "stream",
     "text": [
      "🔄 Autosaved 96 rows after 54900 new fixtures. [Calls: 54900]\n"
     ]
    },
    {
     "name": "stderr",
     "output_type": "stream",
     "text": [
      "Fetching stats:  38%|███▊      | 55000/146085 [1:20:37<2:06:11, 12.03it/s]"
     ]
    },
    {
     "name": "stdout",
     "output_type": "stream",
     "text": [
      "🔄 Autosaved 154 rows after 55000 new fixtures. [Calls: 55000]\n"
     ]
    },
    {
     "name": "stderr",
     "output_type": "stream",
     "text": [
      "Fetching stats:  38%|███▊      | 55101/146085 [1:20:47<2:15:49, 11.16it/s]"
     ]
    },
    {
     "name": "stdout",
     "output_type": "stream",
     "text": [
      "🔄 Autosaved 46 rows after 55100 new fixtures. [Calls: 55100]\n"
     ]
    },
    {
     "name": "stderr",
     "output_type": "stream",
     "text": [
      "Fetching stats:  38%|███▊      | 55201/146085 [1:20:56<2:19:22, 10.87it/s]"
     ]
    },
    {
     "name": "stdout",
     "output_type": "stream",
     "text": [
      "🔄 Autosaved 4 rows after 55200 new fixtures. [Calls: 55200]\n"
     ]
    },
    {
     "name": "stderr",
     "output_type": "stream",
     "text": [
      "Fetching stats:  38%|███▊      | 55502/146085 [1:21:24<2:12:42, 11.38it/s]"
     ]
    },
    {
     "name": "stdout",
     "output_type": "stream",
     "text": [
      "🔄 Autosaved 10 rows after 55500 new fixtures. [Calls: 55500]\n"
     ]
    },
    {
     "name": "stderr",
     "output_type": "stream",
     "text": [
      "Fetching stats:  38%|███▊      | 55801/146085 [1:21:51<2:12:40, 11.34it/s]"
     ]
    },
    {
     "name": "stdout",
     "output_type": "stream",
     "text": [
      "🔄 Autosaved 118 rows after 55800 new fixtures. [Calls: 55800]\n"
     ]
    },
    {
     "name": "stderr",
     "output_type": "stream",
     "text": [
      "Fetching stats:  38%|███▊      | 55901/146085 [1:22:00<2:09:17, 11.63it/s]"
     ]
    },
    {
     "name": "stdout",
     "output_type": "stream",
     "text": [
      "🔄 Autosaved 314 rows after 55900 new fixtures. [Calls: 55900]\n"
     ]
    },
    {
     "name": "stderr",
     "output_type": "stream",
     "text": [
      "Fetching stats:  38%|███▊      | 56001/146085 [1:22:09<2:21:40, 10.60it/s]"
     ]
    },
    {
     "name": "stdout",
     "output_type": "stream",
     "text": [
      "🔄 Autosaved 244 rows after 56000 new fixtures. [Calls: 56000]\n"
     ]
    },
    {
     "name": "stderr",
     "output_type": "stream",
     "text": [
      "Fetching stats:  38%|███▊      | 56202/146085 [1:22:27<2:08:41, 11.64it/s]"
     ]
    },
    {
     "name": "stdout",
     "output_type": "stream",
     "text": [
      "🔄 Autosaved 10 rows after 56200 new fixtures. [Calls: 56200]\n"
     ]
    },
    {
     "name": "stderr",
     "output_type": "stream",
     "text": [
      "Fetching stats:  39%|███▉      | 56801/146085 [1:23:22<2:11:58, 11.27it/s]"
     ]
    },
    {
     "name": "stdout",
     "output_type": "stream",
     "text": [
      "🔄 Autosaved 214 rows after 56800 new fixtures. [Calls: 56800]\n"
     ]
    },
    {
     "name": "stderr",
     "output_type": "stream",
     "text": [
      "Fetching stats:  39%|███▉      | 56901/146085 [1:23:31<2:13:44, 11.11it/s]"
     ]
    },
    {
     "name": "stdout",
     "output_type": "stream",
     "text": [
      "🔄 Autosaved 108 rows after 56900 new fixtures. [Calls: 56900]\n"
     ]
    },
    {
     "name": "stderr",
     "output_type": "stream",
     "text": [
      "Fetching stats:  39%|███▉      | 57001/146085 [1:23:40<2:31:34,  9.80it/s]"
     ]
    },
    {
     "name": "stdout",
     "output_type": "stream",
     "text": [
      "🔄 Autosaved 30 rows after 57000 new fixtures. [Calls: 57000]\n"
     ]
    },
    {
     "name": "stderr",
     "output_type": "stream",
     "text": [
      "Fetching stats:  39%|███▉      | 57702/146085 [1:24:42<2:15:50, 10.84it/s]"
     ]
    },
    {
     "name": "stdout",
     "output_type": "stream",
     "text": [
      "🔄 Autosaved 56 rows after 57700 new fixtures. [Calls: 57700]\n"
     ]
    },
    {
     "name": "stderr",
     "output_type": "stream",
     "text": [
      "Fetching stats:  40%|███▉      | 57802/146085 [1:24:52<3:06:20,  7.90it/s]"
     ]
    },
    {
     "name": "stdout",
     "output_type": "stream",
     "text": [
      "🔄 Autosaved 38 rows after 57800 new fixtures. [Calls: 57800]\n"
     ]
    },
    {
     "name": "stderr",
     "output_type": "stream",
     "text": [
      "Fetching stats:  40%|███▉      | 57902/146085 [1:25:00<2:06:28, 11.62it/s]"
     ]
    },
    {
     "name": "stdout",
     "output_type": "stream",
     "text": [
      "🔄 Autosaved 50 rows after 57900 new fixtures. [Calls: 57900]\n"
     ]
    },
    {
     "name": "stderr",
     "output_type": "stream",
     "text": [
      "Fetching stats:  40%|███▉      | 58402/146085 [1:25:46<2:09:45, 11.26it/s]"
     ]
    },
    {
     "name": "stdout",
     "output_type": "stream",
     "text": [
      "🔄 Autosaved 28 rows after 58400 new fixtures. [Calls: 58400]\n"
     ]
    },
    {
     "name": "stderr",
     "output_type": "stream",
     "text": [
      "Fetching stats:  40%|████      | 58502/146085 [1:25:56<2:22:22, 10.25it/s]"
     ]
    },
    {
     "name": "stdout",
     "output_type": "stream",
     "text": [
      "🔄 Autosaved 56 rows after 58500 new fixtures. [Calls: 58500]\n"
     ]
    },
    {
     "name": "stderr",
     "output_type": "stream",
     "text": [
      "Fetching stats:  40%|████      | 58602/146085 [1:26:05<2:15:10, 10.79it/s]"
     ]
    },
    {
     "name": "stdout",
     "output_type": "stream",
     "text": [
      "🔄 Autosaved 266 rows after 58600 new fixtures. [Calls: 58600]\n"
     ]
    },
    {
     "name": "stderr",
     "output_type": "stream",
     "text": [
      "Fetching stats:  40%|████      | 58702/146085 [1:26:14<2:01:25, 11.99it/s]"
     ]
    },
    {
     "name": "stdout",
     "output_type": "stream",
     "text": [
      "🔄 Autosaved 146 rows after 58700 new fixtures. [Calls: 58700]\n"
     ]
    },
    {
     "name": "stderr",
     "output_type": "stream",
     "text": [
      "Fetching stats:  40%|████      | 58902/146085 [1:26:32<2:03:10, 11.80it/s]"
     ]
    },
    {
     "name": "stdout",
     "output_type": "stream",
     "text": [
      "🔄 Autosaved 2 rows after 58900 new fixtures. [Calls: 58900]\n"
     ]
    },
    {
     "name": "stderr",
     "output_type": "stream",
     "text": [
      "Fetching stats:  40%|████      | 59000/146085 [1:26:41<2:09:47, 11.18it/s]"
     ]
    },
    {
     "name": "stdout",
     "output_type": "stream",
     "text": [
      "🔄 Autosaved 2 rows after 59000 new fixtures. [Calls: 59000]\n"
     ]
    },
    {
     "name": "stderr",
     "output_type": "stream",
     "text": [
      "Fetching stats:  41%|████      | 59301/146085 [1:27:08<2:05:08, 11.56it/s]"
     ]
    },
    {
     "name": "stdout",
     "output_type": "stream",
     "text": [
      "🔄 Autosaved 106 rows after 59300 new fixtures. [Calls: 59300]\n"
     ]
    },
    {
     "name": "stderr",
     "output_type": "stream",
     "text": [
      "Fetching stats:  41%|████      | 59401/146085 [1:27:16<1:58:07, 12.23it/s]"
     ]
    },
    {
     "name": "stdout",
     "output_type": "stream",
     "text": [
      "🔄 Autosaved 86 rows after 59400 new fixtures. [Calls: 59400]\n"
     ]
    },
    {
     "name": "stderr",
     "output_type": "stream",
     "text": [
      "Fetching stats:  41%|████      | 59501/146085 [1:27:24<1:58:32, 12.17it/s]"
     ]
    },
    {
     "name": "stdout",
     "output_type": "stream",
     "text": [
      "🔄 Autosaved 252 rows after 59500 new fixtures. [Calls: 59500]\n"
     ]
    },
    {
     "name": "stderr",
     "output_type": "stream",
     "text": [
      "Fetching stats:  41%|████      | 59601/146085 [1:27:32<1:57:16, 12.29it/s]"
     ]
    },
    {
     "name": "stdout",
     "output_type": "stream",
     "text": [
      "🔄 Autosaved 240 rows after 59600 new fixtures. [Calls: 59600]\n"
     ]
    },
    {
     "name": "stderr",
     "output_type": "stream",
     "text": [
      "Fetching stats:  41%|████      | 59701/146085 [1:27:41<2:01:29, 11.85it/s]"
     ]
    },
    {
     "name": "stdout",
     "output_type": "stream",
     "text": [
      "🔄 Autosaved 238 rows after 59700 new fixtures. [Calls: 59700]\n"
     ]
    },
    {
     "name": "stderr",
     "output_type": "stream",
     "text": [
      "Fetching stats:  41%|████      | 59801/146085 [1:27:50<2:15:05, 10.64it/s]"
     ]
    },
    {
     "name": "stdout",
     "output_type": "stream",
     "text": [
      "🔄 Autosaved 230 rows after 59800 new fixtures. [Calls: 59800]\n"
     ]
    },
    {
     "name": "stderr",
     "output_type": "stream",
     "text": [
      "Fetching stats:  41%|████      | 59901/146085 [1:27:58<1:59:48, 11.99it/s]"
     ]
    },
    {
     "name": "stdout",
     "output_type": "stream",
     "text": [
      "🔄 Autosaved 94 rows after 59900 new fixtures. [Calls: 59900]\n"
     ]
    },
    {
     "name": "stderr",
     "output_type": "stream",
     "text": [
      "Fetching stats:  41%|████      | 60001/146085 [1:28:07<2:16:06, 10.54it/s]"
     ]
    },
    {
     "name": "stdout",
     "output_type": "stream",
     "text": [
      "🔄 Autosaved 300 rows after 60000 new fixtures. [Calls: 60000]\n"
     ]
    },
    {
     "name": "stderr",
     "output_type": "stream",
     "text": [
      "Fetching stats:  41%|████      | 60101/146085 [1:28:15<2:02:50, 11.67it/s]"
     ]
    },
    {
     "name": "stdout",
     "output_type": "stream",
     "text": [
      "🔄 Autosaved 812 rows after 60100 new fixtures. [Calls: 60100]\n"
     ]
    },
    {
     "name": "stderr",
     "output_type": "stream",
     "text": [
      "Fetching stats:  41%|████      | 60201/146085 [1:28:24<2:03:27, 11.59it/s]"
     ]
    },
    {
     "name": "stdout",
     "output_type": "stream",
     "text": [
      "🔄 Autosaved 1050 rows after 60200 new fixtures. [Calls: 60200]\n"
     ]
    },
    {
     "name": "stderr",
     "output_type": "stream",
     "text": [
      "Fetching stats:  41%|████▏     | 60301/146085 [1:28:33<2:11:01, 10.91it/s]"
     ]
    },
    {
     "name": "stdout",
     "output_type": "stream",
     "text": [
      "🔄 Autosaved 1038 rows after 60300 new fixtures. [Calls: 60300]\n"
     ]
    },
    {
     "name": "stderr",
     "output_type": "stream",
     "text": [
      "Fetching stats:  41%|████▏     | 60401/146085 [1:28:41<2:31:48,  9.41it/s]"
     ]
    },
    {
     "name": "stdout",
     "output_type": "stream",
     "text": [
      "🔄 Autosaved 956 rows after 60400 new fixtures. [Calls: 60400]\n"
     ]
    },
    {
     "name": "stderr",
     "output_type": "stream",
     "text": [
      "Fetching stats:  41%|████▏     | 60501/146085 [1:28:50<2:04:23, 11.47it/s]"
     ]
    },
    {
     "name": "stdout",
     "output_type": "stream",
     "text": [
      "🔄 Autosaved 1064 rows after 60500 new fixtures. [Calls: 60500]\n"
     ]
    },
    {
     "name": "stderr",
     "output_type": "stream",
     "text": [
      "Fetching stats:  41%|████▏     | 60601/146085 [1:28:59<1:58:57, 11.98it/s]"
     ]
    },
    {
     "name": "stdout",
     "output_type": "stream",
     "text": [
      "🔄 Autosaved 1028 rows after 60600 new fixtures. [Calls: 60600]\n"
     ]
    },
    {
     "name": "stderr",
     "output_type": "stream",
     "text": [
      "Fetching stats:  42%|████▏     | 60701/146085 [1:29:08<2:08:17, 11.09it/s]"
     ]
    },
    {
     "name": "stdout",
     "output_type": "stream",
     "text": [
      "🔄 Autosaved 1084 rows after 60700 new fixtures. [Calls: 60700]\n"
     ]
    },
    {
     "name": "stderr",
     "output_type": "stream",
     "text": [
      "Fetching stats:  42%|████▏     | 60801/146085 [1:29:16<2:04:32, 11.41it/s]"
     ]
    },
    {
     "name": "stdout",
     "output_type": "stream",
     "text": [
      "🔄 Autosaved 1006 rows after 60800 new fixtures. [Calls: 60800]\n"
     ]
    },
    {
     "name": "stderr",
     "output_type": "stream",
     "text": [
      "Fetching stats:  42%|████▏     | 60901/146085 [1:29:25<2:04:59, 11.36it/s]"
     ]
    },
    {
     "name": "stdout",
     "output_type": "stream",
     "text": [
      "🔄 Autosaved 1118 rows after 60900 new fixtures. [Calls: 60900]\n"
     ]
    },
    {
     "name": "stderr",
     "output_type": "stream",
     "text": [
      "Fetching stats:  42%|████▏     | 61001/146085 [1:29:34<2:09:54, 10.92it/s]"
     ]
    },
    {
     "name": "stdout",
     "output_type": "stream",
     "text": [
      "🔄 Autosaved 1158 rows after 61000 new fixtures. [Calls: 61000]\n"
     ]
    },
    {
     "name": "stderr",
     "output_type": "stream",
     "text": [
      "Fetching stats:  42%|████▏     | 61101/146085 [1:29:43<2:02:52, 11.53it/s]"
     ]
    },
    {
     "name": "stdout",
     "output_type": "stream",
     "text": [
      "🔄 Autosaved 1042 rows after 61100 new fixtures. [Calls: 61100]\n"
     ]
    },
    {
     "name": "stderr",
     "output_type": "stream",
     "text": [
      "Fetching stats:  42%|████▏     | 61201/146085 [1:29:52<2:06:30, 11.18it/s]"
     ]
    },
    {
     "name": "stdout",
     "output_type": "stream",
     "text": [
      "🔄 Autosaved 1272 rows after 61200 new fixtures. [Calls: 61200]\n"
     ]
    },
    {
     "name": "stderr",
     "output_type": "stream",
     "text": [
      "Fetching stats:  42%|████▏     | 61301/146085 [1:30:01<2:01:56, 11.59it/s]"
     ]
    },
    {
     "name": "stdout",
     "output_type": "stream",
     "text": [
      "🔄 Autosaved 1218 rows after 61300 new fixtures. [Calls: 61300]\n"
     ]
    },
    {
     "name": "stderr",
     "output_type": "stream",
     "text": [
      "Fetching stats:  42%|████▏     | 61401/146085 [1:30:10<2:11:10, 10.76it/s]"
     ]
    },
    {
     "name": "stdout",
     "output_type": "stream",
     "text": [
      "🔄 Autosaved 1010 rows after 61400 new fixtures. [Calls: 61400]\n"
     ]
    },
    {
     "name": "stderr",
     "output_type": "stream",
     "text": [
      "Fetching stats:  42%|████▏     | 61501/146085 [1:30:19<2:00:53, 11.66it/s]"
     ]
    },
    {
     "name": "stdout",
     "output_type": "stream",
     "text": [
      "🔄 Autosaved 1044 rows after 61500 new fixtures. [Calls: 61500]\n"
     ]
    },
    {
     "name": "stderr",
     "output_type": "stream",
     "text": [
      "Fetching stats:  42%|████▏     | 61602/146085 [1:30:28<2:18:45, 10.15it/s]"
     ]
    },
    {
     "name": "stdout",
     "output_type": "stream",
     "text": [
      "🔄 Autosaved 782 rows after 61600 new fixtures. [Calls: 61600]\n"
     ]
    },
    {
     "name": "stderr",
     "output_type": "stream",
     "text": [
      "Fetching stats:  42%|████▏     | 61702/146085 [1:30:37<2:09:22, 10.87it/s]"
     ]
    },
    {
     "name": "stdout",
     "output_type": "stream",
     "text": [
      "🔄 Autosaved 1036 rows after 61700 new fixtures. [Calls: 61700]\n"
     ]
    },
    {
     "name": "stderr",
     "output_type": "stream",
     "text": [
      "Fetching stats:  42%|████▏     | 61802/146085 [1:30:46<2:04:20, 11.30it/s]"
     ]
    },
    {
     "name": "stdout",
     "output_type": "stream",
     "text": [
      "🔄 Autosaved 1132 rows after 61800 new fixtures. [Calls: 61800]\n"
     ]
    },
    {
     "name": "stderr",
     "output_type": "stream",
     "text": [
      "Fetching stats:  42%|████▏     | 61902/146085 [1:30:55<2:05:03, 11.22it/s]"
     ]
    },
    {
     "name": "stdout",
     "output_type": "stream",
     "text": [
      "🔄 Autosaved 1330 rows after 61900 new fixtures. [Calls: 61900]\n"
     ]
    },
    {
     "name": "stderr",
     "output_type": "stream",
     "text": [
      "Fetching stats:  42%|████▏     | 62000/146085 [1:31:04<2:10:55, 10.70it/s]"
     ]
    },
    {
     "name": "stdout",
     "output_type": "stream",
     "text": [
      "🔄 Autosaved 1216 rows after 62000 new fixtures. [Calls: 62000]\n"
     ]
    },
    {
     "name": "stderr",
     "output_type": "stream",
     "text": [
      "Fetching stats:  43%|████▎     | 62102/146085 [1:31:13<1:59:52, 11.68it/s]"
     ]
    },
    {
     "name": "stdout",
     "output_type": "stream",
     "text": [
      "🔄 Autosaved 1080 rows after 62100 new fixtures. [Calls: 62100]\n"
     ]
    },
    {
     "name": "stderr",
     "output_type": "stream",
     "text": [
      "Fetching stats:  43%|████▎     | 62202/146085 [1:31:22<2:06:04, 11.09it/s]"
     ]
    },
    {
     "name": "stdout",
     "output_type": "stream",
     "text": [
      "🔄 Autosaved 1230 rows after 62200 new fixtures. [Calls: 62200]\n"
     ]
    },
    {
     "name": "stderr",
     "output_type": "stream",
     "text": [
      "Fetching stats:  43%|████▎     | 62302/146085 [1:31:31<1:58:28, 11.79it/s]"
     ]
    },
    {
     "name": "stdout",
     "output_type": "stream",
     "text": [
      "🔄 Autosaved 1316 rows after 62300 new fixtures. [Calls: 62300]\n"
     ]
    },
    {
     "name": "stderr",
     "output_type": "stream",
     "text": [
      "Fetching stats:  43%|████▎     | 62402/146085 [1:31:39<2:01:01, 11.52it/s]"
     ]
    },
    {
     "name": "stdout",
     "output_type": "stream",
     "text": [
      "🔄 Autosaved 1084 rows after 62400 new fixtures. [Calls: 62400]\n"
     ]
    },
    {
     "name": "stderr",
     "output_type": "stream",
     "text": [
      "Fetching stats:  43%|████▎     | 62502/146085 [1:31:48<1:54:10, 12.20it/s]"
     ]
    },
    {
     "name": "stdout",
     "output_type": "stream",
     "text": [
      "🔄 Autosaved 1016 rows after 62500 new fixtures. [Calls: 62500]\n"
     ]
    },
    {
     "name": "stderr",
     "output_type": "stream",
     "text": [
      "Fetching stats:  43%|████▎     | 62602/146085 [1:31:57<1:57:22, 11.85it/s]"
     ]
    },
    {
     "name": "stdout",
     "output_type": "stream",
     "text": [
      "🔄 Autosaved 1028 rows after 62600 new fixtures. [Calls: 62600]\n"
     ]
    },
    {
     "name": "stderr",
     "output_type": "stream",
     "text": [
      "Fetching stats:  43%|████▎     | 62702/146085 [1:32:05<2:09:33, 10.73it/s]"
     ]
    },
    {
     "name": "stdout",
     "output_type": "stream",
     "text": [
      "🔄 Autosaved 1178 rows after 62700 new fixtures. [Calls: 62700]\n"
     ]
    },
    {
     "name": "stderr",
     "output_type": "stream",
     "text": [
      "Fetching stats:  43%|████▎     | 62802/146085 [1:32:13<2:03:19, 11.25it/s]"
     ]
    },
    {
     "name": "stdout",
     "output_type": "stream",
     "text": [
      "🔄 Autosaved 1300 rows after 62800 new fixtures. [Calls: 62800]\n"
     ]
    },
    {
     "name": "stderr",
     "output_type": "stream",
     "text": [
      "Fetching stats:  43%|████▎     | 62902/146085 [1:32:22<1:51:42, 12.41it/s]"
     ]
    },
    {
     "name": "stdout",
     "output_type": "stream",
     "text": [
      "🔄 Autosaved 1354 rows after 62900 new fixtures. [Calls: 62900]\n"
     ]
    },
    {
     "name": "stderr",
     "output_type": "stream",
     "text": [
      "Fetching stats:  43%|████▎     | 63000/146085 [1:32:30<1:59:12, 11.62it/s]"
     ]
    },
    {
     "name": "stdout",
     "output_type": "stream",
     "text": [
      "🔄 Autosaved 958 rows after 63000 new fixtures. [Calls: 63000]\n"
     ]
    },
    {
     "name": "stderr",
     "output_type": "stream",
     "text": [
      "Fetching stats:  43%|████▎     | 63102/146085 [1:32:39<2:13:10, 10.39it/s]"
     ]
    },
    {
     "name": "stdout",
     "output_type": "stream",
     "text": [
      "🔄 Autosaved 1256 rows after 63100 new fixtures. [Calls: 63100]\n"
     ]
    },
    {
     "name": "stderr",
     "output_type": "stream",
     "text": [
      "Fetching stats:  43%|████▎     | 63202/146085 [1:32:49<2:06:58, 10.88it/s]"
     ]
    },
    {
     "name": "stdout",
     "output_type": "stream",
     "text": [
      "🔄 Autosaved 1066 rows after 63200 new fixtures. [Calls: 63200]\n"
     ]
    },
    {
     "name": "stderr",
     "output_type": "stream",
     "text": [
      "Fetching stats:  43%|████▎     | 63302/146085 [1:32:58<2:02:24, 11.27it/s]"
     ]
    },
    {
     "name": "stdout",
     "output_type": "stream",
     "text": [
      "🔄 Autosaved 1088 rows after 63300 new fixtures. [Calls: 63300]\n"
     ]
    },
    {
     "name": "stderr",
     "output_type": "stream",
     "text": [
      "Fetching stats:  43%|████▎     | 63402/146085 [1:33:07<2:03:07, 11.19it/s]"
     ]
    },
    {
     "name": "stdout",
     "output_type": "stream",
     "text": [
      "🔄 Autosaved 1010 rows after 63400 new fixtures. [Calls: 63400]\n"
     ]
    },
    {
     "name": "stderr",
     "output_type": "stream",
     "text": [
      "Fetching stats:  43%|████▎     | 63501/146085 [1:33:16<2:06:14, 10.90it/s]"
     ]
    },
    {
     "name": "stdout",
     "output_type": "stream",
     "text": [
      "🔄 Autosaved 1086 rows after 63500 new fixtures. [Calls: 63500]\n"
     ]
    },
    {
     "name": "stderr",
     "output_type": "stream",
     "text": [
      "Fetching stats:  44%|████▎     | 63601/146085 [1:33:25<2:02:10, 11.25it/s]"
     ]
    },
    {
     "name": "stdout",
     "output_type": "stream",
     "text": [
      "🔄 Autosaved 1214 rows after 63600 new fixtures. [Calls: 63600]\n"
     ]
    },
    {
     "name": "stderr",
     "output_type": "stream",
     "text": [
      "Fetching stats:  44%|████▎     | 63701/146085 [1:33:34<2:00:55, 11.35it/s]"
     ]
    },
    {
     "name": "stdout",
     "output_type": "stream",
     "text": [
      "🔄 Autosaved 1282 rows after 63700 new fixtures. [Calls: 63700]\n"
     ]
    },
    {
     "name": "stderr",
     "output_type": "stream",
     "text": [
      "Fetching stats:  44%|████▎     | 63801/146085 [1:33:43<2:01:17, 11.31it/s]"
     ]
    },
    {
     "name": "stdout",
     "output_type": "stream",
     "text": [
      "🔄 Autosaved 1318 rows after 63800 new fixtures. [Calls: 63800]\n"
     ]
    },
    {
     "name": "stderr",
     "output_type": "stream",
     "text": [
      "Fetching stats:  44%|████▎     | 63901/146085 [1:33:52<1:59:01, 11.51it/s]"
     ]
    },
    {
     "name": "stdout",
     "output_type": "stream",
     "text": [
      "🔄 Autosaved 1064 rows after 63900 new fixtures. [Calls: 63900]\n"
     ]
    },
    {
     "name": "stderr",
     "output_type": "stream",
     "text": [
      "Fetching stats:  44%|████▍     | 64001/146085 [1:34:01<2:14:51, 10.14it/s]"
     ]
    },
    {
     "name": "stdout",
     "output_type": "stream",
     "text": [
      "🔄 Autosaved 1074 rows after 64000 new fixtures. [Calls: 64000]\n"
     ]
    },
    {
     "name": "stderr",
     "output_type": "stream",
     "text": [
      "Fetching stats:  44%|████▍     | 64101/146085 [1:34:10<2:02:38, 11.14it/s]"
     ]
    },
    {
     "name": "stdout",
     "output_type": "stream",
     "text": [
      "🔄 Autosaved 1080 rows after 64100 new fixtures. [Calls: 64100]\n"
     ]
    },
    {
     "name": "stderr",
     "output_type": "stream",
     "text": [
      "Fetching stats:  44%|████▍     | 64201/146085 [1:34:19<2:11:53, 10.35it/s]"
     ]
    },
    {
     "name": "stdout",
     "output_type": "stream",
     "text": [
      "🔄 Autosaved 1246 rows after 64200 new fixtures. [Calls: 64200]\n"
     ]
    },
    {
     "name": "stderr",
     "output_type": "stream",
     "text": [
      "Fetching stats:  44%|████▍     | 64301/146085 [1:34:28<1:56:53, 11.66it/s]"
     ]
    },
    {
     "name": "stdout",
     "output_type": "stream",
     "text": [
      "🔄 Autosaved 1208 rows after 64300 new fixtures. [Calls: 64300]\n"
     ]
    },
    {
     "name": "stderr",
     "output_type": "stream",
     "text": [
      "Fetching stats:  44%|████▍     | 64401/146085 [1:34:37<2:08:45, 10.57it/s]"
     ]
    },
    {
     "name": "stdout",
     "output_type": "stream",
     "text": [
      "🔄 Autosaved 1034 rows after 64400 new fixtures. [Calls: 64400]\n"
     ]
    },
    {
     "name": "stderr",
     "output_type": "stream",
     "text": [
      "Fetching stats:  44%|████▍     | 64501/146085 [1:34:46<1:56:38, 11.66it/s]"
     ]
    },
    {
     "name": "stdout",
     "output_type": "stream",
     "text": [
      "🔄 Autosaved 1240 rows after 64500 new fixtures. [Calls: 64500]\n"
     ]
    },
    {
     "name": "stderr",
     "output_type": "stream",
     "text": [
      "Fetching stats:  44%|████▍     | 64601/146085 [1:34:55<1:53:17, 11.99it/s]"
     ]
    },
    {
     "name": "stdout",
     "output_type": "stream",
     "text": [
      "🔄 Autosaved 908 rows after 64600 new fixtures. [Calls: 64600]\n"
     ]
    },
    {
     "name": "stderr",
     "output_type": "stream",
     "text": [
      "Fetching stats:  44%|████▍     | 64801/146085 [1:35:13<1:57:41, 11.51it/s]"
     ]
    },
    {
     "name": "stdout",
     "output_type": "stream",
     "text": [
      "🔄 Autosaved 164 rows after 64800 new fixtures. [Calls: 64800]\n"
     ]
    },
    {
     "name": "stderr",
     "output_type": "stream",
     "text": [
      "Fetching stats:  44%|████▍     | 64901/146085 [1:35:21<2:00:43, 11.21it/s]"
     ]
    },
    {
     "name": "stdout",
     "output_type": "stream",
     "text": [
      "🔄 Autosaved 1038 rows after 64900 new fixtures. [Calls: 64900]\n"
     ]
    },
    {
     "name": "stderr",
     "output_type": "stream",
     "text": [
      "Fetching stats:  44%|████▍     | 64999/146085 [1:35:30<1:55:21, 11.71it/s]"
     ]
    },
    {
     "name": "stdout",
     "output_type": "stream",
     "text": [
      "🔄 Autosaved 1148 rows after 65000 new fixtures. [Calls: 65000]\n"
     ]
    },
    {
     "name": "stderr",
     "output_type": "stream",
     "text": [
      "Fetching stats:  45%|████▍     | 65101/146085 [1:35:39<1:57:41, 11.47it/s]"
     ]
    },
    {
     "name": "stdout",
     "output_type": "stream",
     "text": [
      "🔄 Autosaved 1268 rows after 65100 new fixtures. [Calls: 65100]\n"
     ]
    },
    {
     "name": "stderr",
     "output_type": "stream",
     "text": [
      "Fetching stats:  45%|████▍     | 65201/146085 [1:35:49<1:53:41, 11.86it/s]"
     ]
    },
    {
     "name": "stdout",
     "output_type": "stream",
     "text": [
      "🔄 Autosaved 1260 rows after 65200 new fixtures. [Calls: 65200]\n"
     ]
    },
    {
     "name": "stderr",
     "output_type": "stream",
     "text": [
      "Fetching stats:  45%|████▍     | 65301/146085 [1:35:57<1:57:56, 11.42it/s]"
     ]
    },
    {
     "name": "stdout",
     "output_type": "stream",
     "text": [
      "🔄 Autosaved 994 rows after 65300 new fixtures. [Calls: 65300]\n"
     ]
    },
    {
     "name": "stderr",
     "output_type": "stream",
     "text": [
      "Fetching stats:  45%|████▍     | 65401/146085 [1:36:06<1:58:18, 11.37it/s]"
     ]
    },
    {
     "name": "stdout",
     "output_type": "stream",
     "text": [
      "🔄 Autosaved 1078 rows after 65400 new fixtures. [Calls: 65400]\n"
     ]
    },
    {
     "name": "stderr",
     "output_type": "stream",
     "text": [
      "Fetching stats:  45%|████▍     | 65501/146085 [1:36:15<1:53:55, 11.79it/s]"
     ]
    },
    {
     "name": "stdout",
     "output_type": "stream",
     "text": [
      "🔄 Autosaved 1244 rows after 65500 new fixtures. [Calls: 65500]\n"
     ]
    },
    {
     "name": "stderr",
     "output_type": "stream",
     "text": [
      "Fetching stats:  45%|████▍     | 65601/146085 [1:36:23<1:56:39, 11.50it/s]"
     ]
    },
    {
     "name": "stdout",
     "output_type": "stream",
     "text": [
      "🔄 Autosaved 1290 rows after 65600 new fixtures. [Calls: 65600]\n"
     ]
    },
    {
     "name": "stderr",
     "output_type": "stream",
     "text": [
      "Fetching stats:  45%|████▍     | 65701/146085 [1:36:32<1:57:58, 11.36it/s]"
     ]
    },
    {
     "name": "stdout",
     "output_type": "stream",
     "text": [
      "🔄 Autosaved 1170 rows after 65700 new fixtures. [Calls: 65700]\n"
     ]
    },
    {
     "name": "stderr",
     "output_type": "stream",
     "text": [
      "Fetching stats:  45%|████▌     | 65802/146085 [1:36:42<2:01:19, 11.03it/s]"
     ]
    },
    {
     "name": "stdout",
     "output_type": "stream",
     "text": [
      "🔄 Autosaved 1048 rows after 65800 new fixtures. [Calls: 65800]\n"
     ]
    },
    {
     "name": "stderr",
     "output_type": "stream",
     "text": [
      "Fetching stats:  45%|████▌     | 65901/146085 [1:36:51<2:27:04,  9.09it/s]"
     ]
    },
    {
     "name": "stdout",
     "output_type": "stream",
     "text": [
      "🔄 Autosaved 1234 rows after 65900 new fixtures. [Calls: 65900]\n"
     ]
    },
    {
     "name": "stderr",
     "output_type": "stream",
     "text": [
      "Fetching stats:  45%|████▌     | 66001/146085 [1:36:59<2:03:04, 10.84it/s]"
     ]
    },
    {
     "name": "stdout",
     "output_type": "stream",
     "text": [
      "🔄 Autosaved 1338 rows after 66000 new fixtures. [Calls: 66000]\n"
     ]
    },
    {
     "name": "stderr",
     "output_type": "stream",
     "text": [
      "Fetching stats:  45%|████▌     | 66101/146085 [1:37:08<1:56:42, 11.42it/s]"
     ]
    },
    {
     "name": "stdout",
     "output_type": "stream",
     "text": [
      "🔄 Autosaved 1064 rows after 66100 new fixtures. [Calls: 66100]\n"
     ]
    },
    {
     "name": "stderr",
     "output_type": "stream",
     "text": [
      "Fetching stats:  45%|████▌     | 66201/146085 [1:37:16<1:50:03, 12.10it/s]"
     ]
    },
    {
     "name": "stdout",
     "output_type": "stream",
     "text": [
      "🔄 Autosaved 1024 rows after 66200 new fixtures. [Calls: 66200]\n"
     ]
    },
    {
     "name": "stderr",
     "output_type": "stream",
     "text": [
      "Fetching stats:  45%|████▌     | 66301/146085 [1:37:25<1:48:04, 12.30it/s]"
     ]
    },
    {
     "name": "stdout",
     "output_type": "stream",
     "text": [
      "🔄 Autosaved 1038 rows after 66300 new fixtures. [Calls: 66300]\n"
     ]
    },
    {
     "name": "stderr",
     "output_type": "stream",
     "text": [
      "Fetching stats:  45%|████▌     | 66401/146085 [1:37:33<1:49:55, 12.08it/s]"
     ]
    },
    {
     "name": "stdout",
     "output_type": "stream",
     "text": [
      "🔄 Autosaved 1052 rows after 66400 new fixtures. [Calls: 66400]\n"
     ]
    },
    {
     "name": "stderr",
     "output_type": "stream",
     "text": [
      "Fetching stats:  46%|████▌     | 66501/146085 [1:37:41<1:51:35, 11.89it/s]"
     ]
    },
    {
     "name": "stdout",
     "output_type": "stream",
     "text": [
      "🔄 Autosaved 1164 rows after 66500 new fixtures. [Calls: 66500]\n"
     ]
    },
    {
     "name": "stderr",
     "output_type": "stream",
     "text": [
      "Fetching stats:  46%|████▌     | 66601/146085 [1:37:50<2:11:10, 10.10it/s]"
     ]
    },
    {
     "name": "stdout",
     "output_type": "stream",
     "text": [
      "🔄 Autosaved 564 rows after 66600 new fixtures. [Calls: 66600]\n"
     ]
    },
    {
     "name": "stderr",
     "output_type": "stream",
     "text": [
      "Fetching stats:  46%|████▌     | 66701/146085 [1:37:58<1:50:31, 11.97it/s]"
     ]
    },
    {
     "name": "stdout",
     "output_type": "stream",
     "text": [
      "🔄 Autosaved 240 rows after 66700 new fixtures. [Calls: 66700]\n"
     ]
    },
    {
     "name": "stderr",
     "output_type": "stream",
     "text": [
      "Fetching stats:  46%|████▌     | 66801/146085 [1:38:07<1:52:13, 11.77it/s]"
     ]
    },
    {
     "name": "stdout",
     "output_type": "stream",
     "text": [
      "🔄 Autosaved 96 rows after 66800 new fixtures. [Calls: 66800]\n"
     ]
    },
    {
     "name": "stderr",
     "output_type": "stream",
     "text": [
      "Fetching stats:  46%|████▌     | 66901/146085 [1:38:15<1:59:55, 11.00it/s]"
     ]
    },
    {
     "name": "stdout",
     "output_type": "stream",
     "text": [
      "🔄 Autosaved 206 rows after 66900 new fixtures. [Calls: 66900]\n"
     ]
    },
    {
     "name": "stderr",
     "output_type": "stream",
     "text": [
      "Fetching stats:  46%|████▌     | 67001/146085 [1:38:24<2:04:51, 10.56it/s]"
     ]
    },
    {
     "name": "stdout",
     "output_type": "stream",
     "text": [
      "🔄 Autosaved 290 rows after 67000 new fixtures. [Calls: 67000]\n"
     ]
    },
    {
     "name": "stderr",
     "output_type": "stream",
     "text": [
      "Fetching stats:  46%|████▌     | 67101/146085 [1:38:32<1:53:02, 11.65it/s]"
     ]
    },
    {
     "name": "stdout",
     "output_type": "stream",
     "text": [
      "🔄 Autosaved 518 rows after 67100 new fixtures. [Calls: 67100]\n"
     ]
    },
    {
     "name": "stderr",
     "output_type": "stream",
     "text": [
      "Fetching stats:  46%|████▌     | 67201/146085 [1:38:40<1:54:15, 11.51it/s]"
     ]
    },
    {
     "name": "stdout",
     "output_type": "stream",
     "text": [
      "🔄 Autosaved 816 rows after 67200 new fixtures. [Calls: 67200]\n"
     ]
    },
    {
     "name": "stderr",
     "output_type": "stream",
     "text": [
      "Fetching stats:  46%|████▌     | 67301/146085 [1:38:49<1:53:16, 11.59it/s]"
     ]
    },
    {
     "name": "stdout",
     "output_type": "stream",
     "text": [
      "🔄 Autosaved 1124 rows after 67300 new fixtures. [Calls: 67300]\n"
     ]
    },
    {
     "name": "stderr",
     "output_type": "stream",
     "text": [
      "Fetching stats:  46%|████▌     | 67401/146085 [1:38:58<1:54:22, 11.47it/s]"
     ]
    },
    {
     "name": "stdout",
     "output_type": "stream",
     "text": [
      "🔄 Autosaved 1350 rows after 67400 new fixtures. [Calls: 67400]\n"
     ]
    },
    {
     "name": "stderr",
     "output_type": "stream",
     "text": [
      "Fetching stats:  46%|████▌     | 67501/146085 [1:39:06<1:54:59, 11.39it/s]"
     ]
    },
    {
     "name": "stdout",
     "output_type": "stream",
     "text": [
      "🔄 Autosaved 1398 rows after 67500 new fixtures. [Calls: 67500]\n"
     ]
    },
    {
     "name": "stderr",
     "output_type": "stream",
     "text": [
      "Fetching stats:  46%|████▋     | 67601/146085 [1:39:14<1:52:34, 11.62it/s]"
     ]
    },
    {
     "name": "stdout",
     "output_type": "stream",
     "text": [
      "🔄 Autosaved 1320 rows after 67600 new fixtures. [Calls: 67600]\n"
     ]
    },
    {
     "name": "stderr",
     "output_type": "stream",
     "text": [
      "Fetching stats:  46%|████▋     | 67702/146085 [1:39:23<1:45:57, 12.33it/s]"
     ]
    },
    {
     "name": "stdout",
     "output_type": "stream",
     "text": [
      "🔄 Autosaved 1392 rows after 67700 new fixtures. [Calls: 67700]\n"
     ]
    },
    {
     "name": "stderr",
     "output_type": "stream",
     "text": [
      "Fetching stats:  46%|████▋     | 67802/146085 [1:39:31<1:48:19, 12.05it/s]"
     ]
    },
    {
     "name": "stdout",
     "output_type": "stream",
     "text": [
      "🔄 Autosaved 1360 rows after 67800 new fixtures. [Calls: 67800]\n"
     ]
    },
    {
     "name": "stderr",
     "output_type": "stream",
     "text": [
      "Fetching stats:  46%|████▋     | 67902/146085 [1:39:41<2:00:57, 10.77it/s]"
     ]
    },
    {
     "name": "stdout",
     "output_type": "stream",
     "text": [
      "🔄 Autosaved 1142 rows after 67900 new fixtures. [Calls: 67900]\n"
     ]
    },
    {
     "name": "stderr",
     "output_type": "stream",
     "text": [
      "Fetching stats:  47%|████▋     | 68000/146085 [1:39:50<2:12:07,  9.85it/s]"
     ]
    },
    {
     "name": "stdout",
     "output_type": "stream",
     "text": [
      "🔄 Autosaved 1074 rows after 68000 new fixtures. [Calls: 68000]\n"
     ]
    },
    {
     "name": "stderr",
     "output_type": "stream",
     "text": [
      "Fetching stats:  47%|████▋     | 68102/146085 [1:39:59<1:50:03, 11.81it/s]"
     ]
    },
    {
     "name": "stdout",
     "output_type": "stream",
     "text": [
      "🔄 Autosaved 1118 rows after 68100 new fixtures. [Calls: 68100]\n"
     ]
    },
    {
     "name": "stderr",
     "output_type": "stream",
     "text": [
      "Fetching stats:  47%|████▋     | 68202/146085 [1:40:08<1:58:02, 11.00it/s]"
     ]
    },
    {
     "name": "stdout",
     "output_type": "stream",
     "text": [
      "🔄 Autosaved 1180 rows after 68200 new fixtures. [Calls: 68200]\n"
     ]
    },
    {
     "name": "stderr",
     "output_type": "stream",
     "text": [
      "Fetching stats:  47%|████▋     | 68302/146085 [1:40:17<1:49:37, 11.83it/s]"
     ]
    },
    {
     "name": "stdout",
     "output_type": "stream",
     "text": [
      "🔄 Autosaved 1200 rows after 68300 new fixtures. [Calls: 68300]\n"
     ]
    },
    {
     "name": "stderr",
     "output_type": "stream",
     "text": [
      "Fetching stats:  47%|████▋     | 68402/146085 [1:40:26<1:56:42, 11.09it/s]"
     ]
    },
    {
     "name": "stdout",
     "output_type": "stream",
     "text": [
      "🔄 Autosaved 1190 rows after 68400 new fixtures. [Calls: 68400]\n"
     ]
    },
    {
     "name": "stderr",
     "output_type": "stream",
     "text": [
      "Fetching stats:  47%|████▋     | 68502/146085 [1:40:34<1:52:00, 11.54it/s]"
     ]
    },
    {
     "name": "stdout",
     "output_type": "stream",
     "text": [
      "🔄 Autosaved 1258 rows after 68500 new fixtures. [Calls: 68500]\n"
     ]
    },
    {
     "name": "stderr",
     "output_type": "stream",
     "text": [
      "Fetching stats:  47%|████▋     | 68602/146085 [1:40:43<1:50:05, 11.73it/s]"
     ]
    },
    {
     "name": "stdout",
     "output_type": "stream",
     "text": [
      "🔄 Autosaved 1384 rows after 68600 new fixtures. [Calls: 68600]\n"
     ]
    },
    {
     "name": "stderr",
     "output_type": "stream",
     "text": [
      "Fetching stats:  47%|████▋     | 68702/146085 [1:40:52<1:51:38, 11.55it/s]"
     ]
    },
    {
     "name": "stdout",
     "output_type": "stream",
     "text": [
      "🔄 Autosaved 1394 rows after 68700 new fixtures. [Calls: 68700]\n"
     ]
    },
    {
     "name": "stderr",
     "output_type": "stream",
     "text": [
      "Fetching stats:  47%|████▋     | 68802/146085 [1:41:01<1:52:28, 11.45it/s]"
     ]
    },
    {
     "name": "stdout",
     "output_type": "stream",
     "text": [
      "🔄 Autosaved 1358 rows after 68800 new fixtures. [Calls: 68800]\n"
     ]
    },
    {
     "name": "stderr",
     "output_type": "stream",
     "text": [
      "Fetching stats:  47%|████▋     | 68902/146085 [1:41:10<1:47:10, 12.00it/s]"
     ]
    },
    {
     "name": "stdout",
     "output_type": "stream",
     "text": [
      "🔄 Autosaved 1146 rows after 68900 new fixtures. [Calls: 68900]\n"
     ]
    },
    {
     "name": "stderr",
     "output_type": "stream",
     "text": [
      "Fetching stats:  47%|████▋     | 69000/146085 [1:41:18<1:52:31, 11.42it/s]"
     ]
    },
    {
     "name": "stdout",
     "output_type": "stream",
     "text": [
      "🔄 Autosaved 1390 rows after 69000 new fixtures. [Calls: 69000]\n"
     ]
    },
    {
     "name": "stderr",
     "output_type": "stream",
     "text": [
      "Fetching stats:  47%|████▋     | 69102/146085 [1:41:27<1:53:43, 11.28it/s]"
     ]
    },
    {
     "name": "stdout",
     "output_type": "stream",
     "text": [
      "🔄 Autosaved 1400 rows after 69100 new fixtures. [Calls: 69100]\n"
     ]
    },
    {
     "name": "stderr",
     "output_type": "stream",
     "text": [
      "Fetching stats:  47%|████▋     | 69202/146085 [1:41:36<1:58:50, 10.78it/s]"
     ]
    },
    {
     "name": "stdout",
     "output_type": "stream",
     "text": [
      "🔄 Autosaved 1384 rows after 69200 new fixtures. [Calls: 69200]\n"
     ]
    },
    {
     "name": "stderr",
     "output_type": "stream",
     "text": [
      "Fetching stats:  47%|████▋     | 69302/146085 [1:41:45<1:49:39, 11.67it/s]"
     ]
    },
    {
     "name": "stdout",
     "output_type": "stream",
     "text": [
      "🔄 Autosaved 1268 rows after 69300 new fixtures. [Calls: 69300]\n"
     ]
    },
    {
     "name": "stderr",
     "output_type": "stream",
     "text": [
      "Fetching stats:  48%|████▊     | 69402/146085 [1:41:54<1:47:58, 11.84it/s]"
     ]
    },
    {
     "name": "stdout",
     "output_type": "stream",
     "text": [
      "🔄 Autosaved 1092 rows after 69400 new fixtures. [Calls: 69400]\n"
     ]
    },
    {
     "name": "stderr",
     "output_type": "stream",
     "text": [
      "Fetching stats:  48%|████▊     | 69502/146085 [1:42:02<1:55:01, 11.10it/s]"
     ]
    },
    {
     "name": "stdout",
     "output_type": "stream",
     "text": [
      "🔄 Autosaved 1112 rows after 69500 new fixtures. [Calls: 69500]\n"
     ]
    },
    {
     "name": "stderr",
     "output_type": "stream",
     "text": [
      "Fetching stats:  48%|████▊     | 69602/146085 [1:42:11<1:51:51, 11.40it/s]"
     ]
    },
    {
     "name": "stdout",
     "output_type": "stream",
     "text": [
      "🔄 Autosaved 1190 rows after 69600 new fixtures. [Calls: 69600]\n"
     ]
    },
    {
     "name": "stderr",
     "output_type": "stream",
     "text": [
      "Fetching stats:  48%|████▊     | 69700/146085 [1:42:19<1:55:07, 11.06it/s]"
     ]
    },
    {
     "name": "stdout",
     "output_type": "stream",
     "text": [
      "🔄 Autosaved 1148 rows after 69700 new fixtures. [Calls: 69700]\n"
     ]
    },
    {
     "name": "stderr",
     "output_type": "stream",
     "text": [
      "Fetching stats:  48%|████▊     | 69802/146085 [1:42:29<1:47:22, 11.84it/s]"
     ]
    },
    {
     "name": "stdout",
     "output_type": "stream",
     "text": [
      "🔄 Autosaved 1310 rows after 69800 new fixtures. [Calls: 69800]\n"
     ]
    },
    {
     "name": "stderr",
     "output_type": "stream",
     "text": [
      "Fetching stats:  48%|████▊     | 69902/146085 [1:42:37<1:53:33, 11.18it/s]"
     ]
    },
    {
     "name": "stdout",
     "output_type": "stream",
     "text": [
      "🔄 Autosaved 1360 rows after 69900 new fixtures. [Calls: 69900]\n"
     ]
    },
    {
     "name": "stderr",
     "output_type": "stream",
     "text": [
      "Fetching stats:  48%|████▊     | 70000/146085 [1:42:46<1:51:35, 11.36it/s]"
     ]
    },
    {
     "name": "stdout",
     "output_type": "stream",
     "text": [
      "🔄 Autosaved 1390 rows after 70000 new fixtures. [Calls: 70000]\n"
     ]
    },
    {
     "name": "stderr",
     "output_type": "stream",
     "text": [
      "Fetching stats:  48%|████▊     | 70102/146085 [1:42:55<1:41:50, 12.43it/s]"
     ]
    },
    {
     "name": "stdout",
     "output_type": "stream",
     "text": [
      "🔄 Autosaved 1398 rows after 70100 new fixtures. [Calls: 70100]\n"
     ]
    },
    {
     "name": "stderr",
     "output_type": "stream",
     "text": [
      "Fetching stats:  48%|████▊     | 70202/146085 [1:43:03<1:41:24, 12.47it/s]"
     ]
    },
    {
     "name": "stdout",
     "output_type": "stream",
     "text": [
      "🔄 Autosaved 1364 rows after 70200 new fixtures. [Calls: 70200]\n"
     ]
    },
    {
     "name": "stderr",
     "output_type": "stream",
     "text": [
      "Fetching stats:  48%|████▊     | 70302/146085 [1:43:11<1:45:18, 11.99it/s]"
     ]
    },
    {
     "name": "stdout",
     "output_type": "stream",
     "text": [
      "🔄 Autosaved 1256 rows after 70300 new fixtures. [Calls: 70300]\n"
     ]
    },
    {
     "name": "stderr",
     "output_type": "stream",
     "text": [
      "Fetching stats:  48%|████▊     | 70402/146085 [1:43:19<1:38:41, 12.78it/s]"
     ]
    },
    {
     "name": "stdout",
     "output_type": "stream",
     "text": [
      "🔄 Autosaved 1250 rows after 70400 new fixtures. [Calls: 70400]\n"
     ]
    },
    {
     "name": "stderr",
     "output_type": "stream",
     "text": [
      "Fetching stats:  48%|████▊     | 70502/146085 [1:43:28<1:42:30, 12.29it/s]"
     ]
    },
    {
     "name": "stdout",
     "output_type": "stream",
     "text": [
      "🔄 Autosaved 1256 rows after 70500 new fixtures. [Calls: 70500]\n"
     ]
    },
    {
     "name": "stderr",
     "output_type": "stream",
     "text": [
      "Fetching stats:  48%|████▊     | 70602/146085 [1:43:36<1:44:04, 12.09it/s]"
     ]
    },
    {
     "name": "stdout",
     "output_type": "stream",
     "text": [
      "🔄 Autosaved 1236 rows after 70600 new fixtures. [Calls: 70600]\n"
     ]
    },
    {
     "name": "stderr",
     "output_type": "stream",
     "text": [
      "Fetching stats:  48%|████▊     | 70702/146085 [1:43:44<1:44:47, 11.99it/s]"
     ]
    },
    {
     "name": "stdout",
     "output_type": "stream",
     "text": [
      "🔄 Autosaved 1226 rows after 70700 new fixtures. [Calls: 70700]\n"
     ]
    },
    {
     "name": "stderr",
     "output_type": "stream",
     "text": [
      "Fetching stats:  48%|████▊     | 70802/146085 [1:43:53<1:40:43, 12.46it/s]"
     ]
    },
    {
     "name": "stdout",
     "output_type": "stream",
     "text": [
      "🔄 Autosaved 1264 rows after 70800 new fixtures. [Calls: 70800]\n"
     ]
    },
    {
     "name": "stderr",
     "output_type": "stream",
     "text": [
      "Fetching stats:  49%|████▊     | 70902/146085 [1:44:01<1:40:12, 12.50it/s]"
     ]
    },
    {
     "name": "stdout",
     "output_type": "stream",
     "text": [
      "🔄 Autosaved 1350 rows after 70900 new fixtures. [Calls: 70900]\n"
     ]
    },
    {
     "name": "stderr",
     "output_type": "stream",
     "text": [
      "Fetching stats:  49%|████▊     | 71000/146085 [1:44:09<1:43:23, 12.10it/s]"
     ]
    },
    {
     "name": "stdout",
     "output_type": "stream",
     "text": [
      "🔄 Autosaved 1346 rows after 71000 new fixtures. [Calls: 71000]\n"
     ]
    },
    {
     "name": "stderr",
     "output_type": "stream",
     "text": [
      "Fetching stats:  49%|████▊     | 71102/146085 [1:44:18<1:49:52, 11.37it/s]"
     ]
    },
    {
     "name": "stdout",
     "output_type": "stream",
     "text": [
      "🔄 Autosaved 1328 rows after 71100 new fixtures. [Calls: 71100]\n"
     ]
    },
    {
     "name": "stderr",
     "output_type": "stream",
     "text": [
      "Fetching stats:  49%|████▊     | 71202/146085 [1:44:26<1:52:11, 11.12it/s]"
     ]
    },
    {
     "name": "stdout",
     "output_type": "stream",
     "text": [
      "🔄 Autosaved 1386 rows after 71200 new fixtures. [Calls: 71200]\n"
     ]
    },
    {
     "name": "stderr",
     "output_type": "stream",
     "text": [
      "Fetching stats:  49%|████▉     | 71301/146085 [1:44:35<2:25:05,  8.59it/s]"
     ]
    },
    {
     "name": "stdout",
     "output_type": "stream",
     "text": [
      "🔄 Autosaved 1366 rows after 71300 new fixtures. [Calls: 71300]\n"
     ]
    },
    {
     "name": "stderr",
     "output_type": "stream",
     "text": [
      "Fetching stats:  49%|████▉     | 71401/146085 [1:44:44<1:46:16, 11.71it/s]"
     ]
    },
    {
     "name": "stdout",
     "output_type": "stream",
     "text": [
      "🔄 Autosaved 1076 rows after 71400 new fixtures. [Calls: 71400]\n"
     ]
    },
    {
     "name": "stderr",
     "output_type": "stream",
     "text": [
      "Fetching stats:  49%|████▉     | 71601/146085 [1:45:01<1:46:42, 11.63it/s]"
     ]
    },
    {
     "name": "stdout",
     "output_type": "stream",
     "text": [
      "🔄 Autosaved 122 rows after 71600 new fixtures. [Calls: 71600]\n"
     ]
    },
    {
     "name": "stderr",
     "output_type": "stream",
     "text": [
      "Fetching stats:  49%|████▉     | 71701/146085 [1:45:10<1:54:47, 10.80it/s]"
     ]
    },
    {
     "name": "stdout",
     "output_type": "stream",
     "text": [
      "🔄 Autosaved 1310 rows after 71700 new fixtures. [Calls: 71700]\n"
     ]
    },
    {
     "name": "stderr",
     "output_type": "stream",
     "text": [
      "Fetching stats:  49%|████▉     | 71801/146085 [1:45:19<1:55:21, 10.73it/s]"
     ]
    },
    {
     "name": "stdout",
     "output_type": "stream",
     "text": [
      "🔄 Autosaved 1214 rows after 71800 new fixtures. [Calls: 71800]\n"
     ]
    },
    {
     "name": "stderr",
     "output_type": "stream",
     "text": [
      "Fetching stats:  49%|████▉     | 71901/146085 [1:45:28<1:46:33, 11.60it/s]"
     ]
    },
    {
     "name": "stdout",
     "output_type": "stream",
     "text": [
      "🔄 Autosaved 1390 rows after 71900 new fixtures. [Calls: 71900]\n"
     ]
    },
    {
     "name": "stderr",
     "output_type": "stream",
     "text": [
      "Fetching stats:  49%|████▉     | 72000/146085 [1:45:37<1:51:42, 11.05it/s]"
     ]
    },
    {
     "name": "stdout",
     "output_type": "stream",
     "text": [
      "🔄 Autosaved 1372 rows after 72000 new fixtures. [Calls: 72000]\n"
     ]
    },
    {
     "name": "stderr",
     "output_type": "stream",
     "text": [
      "Fetching stats:  49%|████▉     | 72102/146085 [1:45:46<1:46:47, 11.55it/s]"
     ]
    },
    {
     "name": "stdout",
     "output_type": "stream",
     "text": [
      "🔄 Autosaved 1326 rows after 72100 new fixtures. [Calls: 72100]\n"
     ]
    },
    {
     "name": "stderr",
     "output_type": "stream",
     "text": [
      "Fetching stats:  49%|████▉     | 72202/146085 [1:45:55<1:50:33, 11.14it/s]"
     ]
    },
    {
     "name": "stdout",
     "output_type": "stream",
     "text": [
      "🔄 Autosaved 1102 rows after 72200 new fixtures. [Calls: 72200]\n"
     ]
    },
    {
     "name": "stderr",
     "output_type": "stream",
     "text": [
      "Fetching stats:  49%|████▉     | 72302/146085 [1:46:04<1:48:30, 11.33it/s]"
     ]
    },
    {
     "name": "stdout",
     "output_type": "stream",
     "text": [
      "🔄 Autosaved 1144 rows after 72300 new fixtures. [Calls: 72300]\n"
     ]
    },
    {
     "name": "stderr",
     "output_type": "stream",
     "text": [
      "Fetching stats:  50%|████▉     | 72402/146085 [1:46:12<1:44:52, 11.71it/s]"
     ]
    },
    {
     "name": "stdout",
     "output_type": "stream",
     "text": [
      "🔄 Autosaved 1384 rows after 72400 new fixtures. [Calls: 72400]\n"
     ]
    },
    {
     "name": "stderr",
     "output_type": "stream",
     "text": [
      "Fetching stats:  50%|████▉     | 72502/146085 [1:46:21<1:48:23, 11.32it/s]"
     ]
    },
    {
     "name": "stdout",
     "output_type": "stream",
     "text": [
      "🔄 Autosaved 1368 rows after 72500 new fixtures. [Calls: 72500]\n"
     ]
    },
    {
     "name": "stderr",
     "output_type": "stream",
     "text": [
      "Fetching stats:  50%|████▉     | 72602/146085 [1:46:30<1:49:38, 11.17it/s]"
     ]
    },
    {
     "name": "stdout",
     "output_type": "stream",
     "text": [
      "🔄 Autosaved 1372 rows after 72600 new fixtures. [Calls: 72600]\n"
     ]
    },
    {
     "name": "stderr",
     "output_type": "stream",
     "text": [
      "Fetching stats:  50%|████▉     | 72702/146085 [1:46:39<1:47:47, 11.35it/s]"
     ]
    },
    {
     "name": "stdout",
     "output_type": "stream",
     "text": [
      "🔄 Autosaved 1372 rows after 72700 new fixtures. [Calls: 72700]\n"
     ]
    },
    {
     "name": "stderr",
     "output_type": "stream",
     "text": [
      "Fetching stats:  50%|████▉     | 72802/146085 [1:46:48<1:46:17, 11.49it/s]"
     ]
    },
    {
     "name": "stdout",
     "output_type": "stream",
     "text": [
      "🔄 Autosaved 1384 rows after 72800 new fixtures. [Calls: 72800]\n"
     ]
    },
    {
     "name": "stderr",
     "output_type": "stream",
     "text": [
      "Fetching stats:  50%|████▉     | 72902/146085 [1:46:57<1:48:21, 11.26it/s]"
     ]
    },
    {
     "name": "stdout",
     "output_type": "stream",
     "text": [
      "🔄 Autosaved 1346 rows after 72900 new fixtures. [Calls: 72900]\n"
     ]
    },
    {
     "name": "stderr",
     "output_type": "stream",
     "text": [
      "Fetching stats:  50%|████▉     | 73000/146085 [1:47:06<1:56:35, 10.45it/s]"
     ]
    },
    {
     "name": "stdout",
     "output_type": "stream",
     "text": [
      "🔄 Autosaved 1338 rows after 73000 new fixtures. [Calls: 73000]\n"
     ]
    },
    {
     "name": "stderr",
     "output_type": "stream",
     "text": [
      "Fetching stats:  50%|█████     | 73102/146085 [1:47:15<1:41:18, 12.01it/s]"
     ]
    },
    {
     "name": "stdout",
     "output_type": "stream",
     "text": [
      "🔄 Autosaved 1346 rows after 73100 new fixtures. [Calls: 73100]\n"
     ]
    },
    {
     "name": "stderr",
     "output_type": "stream",
     "text": [
      "Fetching stats:  50%|█████     | 73202/146085 [1:47:23<1:46:14, 11.43it/s]"
     ]
    },
    {
     "name": "stdout",
     "output_type": "stream",
     "text": [
      "🔄 Autosaved 1272 rows after 73200 new fixtures. [Calls: 73200]\n"
     ]
    },
    {
     "name": "stderr",
     "output_type": "stream",
     "text": [
      "Fetching stats:  50%|█████     | 73302/146085 [1:47:31<1:38:41, 12.29it/s]"
     ]
    },
    {
     "name": "stdout",
     "output_type": "stream",
     "text": [
      "🔄 Autosaved 868 rows after 73300 new fixtures. [Calls: 73300]\n"
     ]
    },
    {
     "name": "stderr",
     "output_type": "stream",
     "text": [
      "Fetching stats:  50%|█████     | 73402/146085 [1:47:40<1:42:12, 11.85it/s]"
     ]
    },
    {
     "name": "stdout",
     "output_type": "stream",
     "text": [
      "🔄 Autosaved 1340 rows after 73400 new fixtures. [Calls: 73400]\n"
     ]
    },
    {
     "name": "stderr",
     "output_type": "stream",
     "text": [
      "Fetching stats:  50%|█████     | 73502/146085 [1:47:48<1:36:51, 12.49it/s]"
     ]
    },
    {
     "name": "stdout",
     "output_type": "stream",
     "text": [
      "🔄 Autosaved 1336 rows after 73500 new fixtures. [Calls: 73500]\n"
     ]
    },
    {
     "name": "stderr",
     "output_type": "stream",
     "text": [
      "Fetching stats:  50%|█████     | 73600/146085 [1:47:57<1:40:29, 12.02it/s]"
     ]
    },
    {
     "name": "stdout",
     "output_type": "stream",
     "text": [
      "🔄 Autosaved 1224 rows after 73600 new fixtures. [Calls: 73600]\n"
     ]
    },
    {
     "name": "stderr",
     "output_type": "stream",
     "text": [
      "Fetching stats:  50%|█████     | 73702/146085 [1:48:06<1:49:29, 11.02it/s]"
     ]
    },
    {
     "name": "stdout",
     "output_type": "stream",
     "text": [
      "🔄 Autosaved 1200 rows after 73700 new fixtures. [Calls: 73700]\n"
     ]
    },
    {
     "name": "stderr",
     "output_type": "stream",
     "text": [
      "Fetching stats:  51%|█████     | 73802/146085 [1:48:14<1:42:41, 11.73it/s]"
     ]
    },
    {
     "name": "stdout",
     "output_type": "stream",
     "text": [
      "🔄 Autosaved 1208 rows after 73800 new fixtures. [Calls: 73800]\n"
     ]
    },
    {
     "name": "stderr",
     "output_type": "stream",
     "text": [
      "Fetching stats:  51%|█████     | 73902/146085 [1:48:22<1:43:17, 11.65it/s]"
     ]
    },
    {
     "name": "stdout",
     "output_type": "stream",
     "text": [
      "🔄 Autosaved 1188 rows after 73900 new fixtures. [Calls: 73900]\n"
     ]
    },
    {
     "name": "stderr",
     "output_type": "stream",
     "text": [
      "Fetching stats:  51%|█████     | 74000/146085 [1:48:30<1:39:56, 12.02it/s]"
     ]
    },
    {
     "name": "stdout",
     "output_type": "stream",
     "text": [
      "🔄 Autosaved 1238 rows after 74000 new fixtures. [Calls: 74000]\n"
     ]
    },
    {
     "name": "stderr",
     "output_type": "stream",
     "text": [
      "Fetching stats:  51%|█████     | 74102/146085 [1:48:39<1:41:45, 11.79it/s]"
     ]
    },
    {
     "name": "stdout",
     "output_type": "stream",
     "text": [
      "🔄 Autosaved 1164 rows after 74100 new fixtures. [Calls: 74100]\n"
     ]
    },
    {
     "name": "stderr",
     "output_type": "stream",
     "text": [
      "Fetching stats:  51%|█████     | 74202/146085 [1:48:48<1:37:15, 12.32it/s]"
     ]
    },
    {
     "name": "stdout",
     "output_type": "stream",
     "text": [
      "🔄 Autosaved 1196 rows after 74200 new fixtures. [Calls: 74200]\n"
     ]
    },
    {
     "name": "stderr",
     "output_type": "stream",
     "text": [
      "Fetching stats:  51%|█████     | 74302/146085 [1:48:56<1:35:05, 12.58it/s]"
     ]
    },
    {
     "name": "stdout",
     "output_type": "stream",
     "text": [
      "🔄 Autosaved 1184 rows after 74300 new fixtures. [Calls: 74300]\n"
     ]
    },
    {
     "name": "stderr",
     "output_type": "stream",
     "text": [
      "Fetching stats:  51%|█████     | 74402/146085 [1:49:04<1:41:06, 11.82it/s]"
     ]
    },
    {
     "name": "stdout",
     "output_type": "stream",
     "text": [
      "🔄 Autosaved 1178 rows after 74400 new fixtures. [Calls: 74400]\n"
     ]
    },
    {
     "name": "stderr",
     "output_type": "stream",
     "text": [
      "Fetching stats:  51%|█████     | 74502/146085 [1:49:13<1:36:55, 12.31it/s]"
     ]
    },
    {
     "name": "stdout",
     "output_type": "stream",
     "text": [
      "🔄 Autosaved 46 rows after 74500 new fixtures. [Calls: 74500]\n"
     ]
    },
    {
     "name": "stderr",
     "output_type": "stream",
     "text": [
      "Fetching stats:  51%|█████     | 74602/146085 [1:49:21<1:36:35, 12.34it/s]"
     ]
    },
    {
     "name": "stdout",
     "output_type": "stream",
     "text": [
      "🔄 Autosaved 318 rows after 74600 new fixtures. [Calls: 74600]\n"
     ]
    },
    {
     "name": "stderr",
     "output_type": "stream",
     "text": [
      "Fetching stats:  51%|█████     | 74702/146085 [1:49:29<1:40:40, 11.82it/s]"
     ]
    },
    {
     "name": "stdout",
     "output_type": "stream",
     "text": [
      "🔄 Autosaved 340 rows after 74700 new fixtures. [Calls: 74700]\n"
     ]
    },
    {
     "name": "stderr",
     "output_type": "stream",
     "text": [
      "Fetching stats:  51%|█████     | 74802/146085 [1:49:38<1:48:25, 10.96it/s]"
     ]
    },
    {
     "name": "stdout",
     "output_type": "stream",
     "text": [
      "🔄 Autosaved 438 rows after 74800 new fixtures. [Calls: 74800]\n"
     ]
    },
    {
     "name": "stderr",
     "output_type": "stream",
     "text": [
      "Fetching stats:  51%|█████▏    | 74902/146085 [1:49:47<1:48:14, 10.96it/s]"
     ]
    },
    {
     "name": "stdout",
     "output_type": "stream",
     "text": [
      "🔄 Autosaved 532 rows after 74900 new fixtures. [Calls: 74900]\n"
     ]
    },
    {
     "name": "stderr",
     "output_type": "stream",
     "text": [
      "Fetching stats:  51%|█████▏    | 75000/146085 [1:49:56<1:51:13, 10.65it/s]"
     ]
    },
    {
     "name": "stdout",
     "output_type": "stream",
     "text": [
      "🔄 Autosaved 888 rows after 75000 new fixtures. [Calls: 75000]\n"
     ]
    },
    {
     "name": "stderr",
     "output_type": "stream",
     "text": [
      "Fetching stats:  51%|█████▏    | 75102/146085 [1:50:05<1:55:04, 10.28it/s]"
     ]
    },
    {
     "name": "stdout",
     "output_type": "stream",
     "text": [
      "🔄 Autosaved 1096 rows after 75100 new fixtures. [Calls: 75100]\n"
     ]
    },
    {
     "name": "stderr",
     "output_type": "stream",
     "text": [
      "Fetching stats:  52%|█████▏    | 75402/146085 [1:50:30<1:38:47, 11.92it/s]"
     ]
    },
    {
     "name": "stdout",
     "output_type": "stream",
     "text": [
      "🔄 Autosaved 840 rows after 75400 new fixtures. [Calls: 75400]\n"
     ]
    },
    {
     "name": "stderr",
     "output_type": "stream",
     "text": [
      "Fetching stats:  52%|█████▏    | 75502/146085 [1:50:39<1:36:10, 12.23it/s]"
     ]
    },
    {
     "name": "stdout",
     "output_type": "stream",
     "text": [
      "🔄 Autosaved 1340 rows after 75500 new fixtures. [Calls: 75500]\n"
     ]
    },
    {
     "name": "stderr",
     "output_type": "stream",
     "text": [
      "Fetching stats:  52%|█████▏    | 75602/146085 [1:50:47<1:42:21, 11.48it/s]"
     ]
    },
    {
     "name": "stdout",
     "output_type": "stream",
     "text": [
      "🔄 Autosaved 1372 rows after 75600 new fixtures. [Calls: 75600]\n"
     ]
    },
    {
     "name": "stderr",
     "output_type": "stream",
     "text": [
      "Fetching stats:  52%|█████▏    | 75702/146085 [1:50:56<1:39:16, 11.82it/s]"
     ]
    },
    {
     "name": "stdout",
     "output_type": "stream",
     "text": [
      "🔄 Autosaved 1342 rows after 75700 new fixtures. [Calls: 75700]\n"
     ]
    },
    {
     "name": "stderr",
     "output_type": "stream",
     "text": [
      "Fetching stats:  52%|█████▏    | 75802/146085 [1:51:04<1:35:31, 12.26it/s]"
     ]
    },
    {
     "name": "stdout",
     "output_type": "stream",
     "text": [
      "🔄 Autosaved 1336 rows after 75800 new fixtures. [Calls: 75800]\n"
     ]
    },
    {
     "name": "stderr",
     "output_type": "stream",
     "text": [
      "Fetching stats:  52%|█████▏    | 75902/146085 [1:51:13<1:35:19, 12.27it/s]"
     ]
    },
    {
     "name": "stdout",
     "output_type": "stream",
     "text": [
      "🔄 Autosaved 1078 rows after 75900 new fixtures. [Calls: 75900]\n"
     ]
    },
    {
     "name": "stderr",
     "output_type": "stream",
     "text": [
      "Fetching stats:  52%|█████▏    | 76000/146085 [1:51:21<1:36:47, 12.07it/s]"
     ]
    },
    {
     "name": "stdout",
     "output_type": "stream",
     "text": [
      "🔄 Autosaved 702 rows after 76000 new fixtures. [Calls: 76000]\n"
     ]
    },
    {
     "name": "stderr",
     "output_type": "stream",
     "text": [
      "Fetching stats:  52%|█████▏    | 76399/146085 [1:51:55<1:35:34, 12.15it/s]"
     ]
    },
    {
     "name": "stdout",
     "output_type": "stream",
     "text": [
      "🔄 Autosaved 28 rows after 76400 new fixtures. [Calls: 76400]\n"
     ]
    },
    {
     "name": "stderr",
     "output_type": "stream",
     "text": [
      "Fetching stats:  52%|█████▏    | 76501/146085 [1:52:04<1:37:43, 11.87it/s]"
     ]
    },
    {
     "name": "stdout",
     "output_type": "stream",
     "text": [
      "🔄 Autosaved 1204 rows after 76500 new fixtures. [Calls: 76500]\n"
     ]
    },
    {
     "name": "stderr",
     "output_type": "stream",
     "text": [
      "Fetching stats:  52%|█████▏    | 76601/146085 [1:52:12<1:36:14, 12.03it/s]"
     ]
    },
    {
     "name": "stdout",
     "output_type": "stream",
     "text": [
      "🔄 Autosaved 1144 rows after 76600 new fixtures. [Calls: 76600]\n"
     ]
    },
    {
     "name": "stderr",
     "output_type": "stream",
     "text": [
      "Fetching stats:  53%|█████▎    | 76701/146085 [1:52:21<1:38:16, 11.77it/s]"
     ]
    },
    {
     "name": "stdout",
     "output_type": "stream",
     "text": [
      "🔄 Autosaved 1104 rows after 76700 new fixtures. [Calls: 76700]\n"
     ]
    },
    {
     "name": "stderr",
     "output_type": "stream",
     "text": [
      "Fetching stats:  53%|█████▎    | 76801/146085 [1:52:30<1:48:37, 10.63it/s]"
     ]
    },
    {
     "name": "stdout",
     "output_type": "stream",
     "text": [
      "🔄 Autosaved 1182 rows after 76800 new fixtures. [Calls: 76800]\n"
     ]
    },
    {
     "name": "stderr",
     "output_type": "stream",
     "text": [
      "Fetching stats:  53%|█████▎    | 76901/146085 [1:52:38<1:44:23, 11.05it/s]"
     ]
    },
    {
     "name": "stdout",
     "output_type": "stream",
     "text": [
      "🔄 Autosaved 1170 rows after 76900 new fixtures. [Calls: 76900]\n"
     ]
    },
    {
     "name": "stderr",
     "output_type": "stream",
     "text": [
      "Fetching stats:  53%|█████▎    | 77001/146085 [1:52:47<1:50:22, 10.43it/s]"
     ]
    },
    {
     "name": "stdout",
     "output_type": "stream",
     "text": [
      "🔄 Autosaved 1148 rows after 77000 new fixtures. [Calls: 77000]\n"
     ]
    },
    {
     "name": "stderr",
     "output_type": "stream",
     "text": [
      "Fetching stats:  53%|█████▎    | 77101/146085 [1:52:56<1:44:08, 11.04it/s]"
     ]
    },
    {
     "name": "stdout",
     "output_type": "stream",
     "text": [
      "🔄 Autosaved 1276 rows after 77100 new fixtures. [Calls: 77100]\n"
     ]
    },
    {
     "name": "stderr",
     "output_type": "stream",
     "text": [
      "Fetching stats:  53%|█████▎    | 77201/146085 [1:53:04<1:35:32, 12.02it/s]"
     ]
    },
    {
     "name": "stdout",
     "output_type": "stream",
     "text": [
      "🔄 Autosaved 1352 rows after 77200 new fixtures. [Calls: 77200]\n"
     ]
    },
    {
     "name": "stderr",
     "output_type": "stream",
     "text": [
      "Fetching stats:  53%|█████▎    | 77301/146085 [1:53:13<1:35:50, 11.96it/s]"
     ]
    },
    {
     "name": "stdout",
     "output_type": "stream",
     "text": [
      "🔄 Autosaved 1338 rows after 77300 new fixtures. [Calls: 77300]\n"
     ]
    },
    {
     "name": "stderr",
     "output_type": "stream",
     "text": [
      "Fetching stats:  53%|█████▎    | 77401/146085 [1:53:21<1:38:26, 11.63it/s]"
     ]
    },
    {
     "name": "stdout",
     "output_type": "stream",
     "text": [
      "🔄 Autosaved 1334 rows after 77400 new fixtures. [Calls: 77400]\n"
     ]
    },
    {
     "name": "stderr",
     "output_type": "stream",
     "text": [
      "Fetching stats:  53%|█████▎    | 77501/146085 [1:53:30<1:35:02, 12.03it/s]"
     ]
    },
    {
     "name": "stdout",
     "output_type": "stream",
     "text": [
      "🔄 Autosaved 1316 rows after 77500 new fixtures. [Calls: 77500]\n"
     ]
    },
    {
     "name": "stderr",
     "output_type": "stream",
     "text": [
      "Fetching stats:  53%|█████▎    | 77601/146085 [1:53:38<1:44:31, 10.92it/s]"
     ]
    },
    {
     "name": "stdout",
     "output_type": "stream",
     "text": [
      "🔄 Autosaved 1378 rows after 77600 new fixtures. [Calls: 77600]\n"
     ]
    },
    {
     "name": "stderr",
     "output_type": "stream",
     "text": [
      "Fetching stats:  53%|█████▎    | 77701/146085 [1:53:47<1:37:19, 11.71it/s]"
     ]
    },
    {
     "name": "stdout",
     "output_type": "stream",
     "text": [
      "🔄 Autosaved 1362 rows after 77700 new fixtures. [Calls: 77700]\n"
     ]
    },
    {
     "name": "stderr",
     "output_type": "stream",
     "text": [
      "Fetching stats:  53%|█████▎    | 77801/146085 [1:53:55<1:36:24, 11.80it/s]"
     ]
    },
    {
     "name": "stdout",
     "output_type": "stream",
     "text": [
      "🔄 Autosaved 1366 rows after 77800 new fixtures. [Calls: 77800]\n"
     ]
    },
    {
     "name": "stderr",
     "output_type": "stream",
     "text": [
      "Fetching stats:  53%|█████▎    | 77901/146085 [1:54:03<1:38:43, 11.51it/s]"
     ]
    },
    {
     "name": "stdout",
     "output_type": "stream",
     "text": [
      "🔄 Autosaved 1168 rows after 77900 new fixtures. [Calls: 77900]\n"
     ]
    },
    {
     "name": "stderr",
     "output_type": "stream",
     "text": [
      "Fetching stats:  53%|█████▎    | 78001/146085 [1:54:12<1:42:27, 11.07it/s]"
     ]
    },
    {
     "name": "stdout",
     "output_type": "stream",
     "text": [
      "🔄 Autosaved 1010 rows after 78000 new fixtures. [Calls: 78000]\n"
     ]
    },
    {
     "name": "stderr",
     "output_type": "stream",
     "text": [
      "Fetching stats:  53%|█████▎    | 78101/146085 [1:54:20<1:40:42, 11.25it/s]"
     ]
    },
    {
     "name": "stdout",
     "output_type": "stream",
     "text": [
      "🔄 Autosaved 1268 rows after 78100 new fixtures. [Calls: 78100]\n"
     ]
    },
    {
     "name": "stderr",
     "output_type": "stream",
     "text": [
      "Fetching stats:  54%|█████▎    | 78201/146085 [1:54:29<1:35:51, 11.80it/s]"
     ]
    },
    {
     "name": "stdout",
     "output_type": "stream",
     "text": [
      "🔄 Autosaved 1346 rows after 78200 new fixtures. [Calls: 78200]\n"
     ]
    },
    {
     "name": "stderr",
     "output_type": "stream",
     "text": [
      "Fetching stats:  54%|█████▎    | 78302/146085 [1:54:41<2:14:11,  8.42it/s]"
     ]
    },
    {
     "name": "stdout",
     "output_type": "stream",
     "text": [
      "🔄 Autosaved 1288 rows after 78300 new fixtures. [Calls: 78300]\n"
     ]
    },
    {
     "name": "stderr",
     "output_type": "stream",
     "text": [
      "Fetching stats:  54%|█████▎    | 78402/146085 [1:54:51<1:46:30, 10.59it/s]"
     ]
    },
    {
     "name": "stdout",
     "output_type": "stream",
     "text": [
      "🔄 Autosaved 64 rows after 78400 new fixtures. [Calls: 78400]\n"
     ]
    },
    {
     "name": "stderr",
     "output_type": "stream",
     "text": [
      "Fetching stats:  54%|█████▎    | 78500/146085 [1:55:01<1:44:50, 10.74it/s]"
     ]
    },
    {
     "name": "stdout",
     "output_type": "stream",
     "text": [
      "🔄 Autosaved 1286 rows after 78500 new fixtures. [Calls: 78500]\n"
     ]
    },
    {
     "name": "stderr",
     "output_type": "stream",
     "text": [
      "Fetching stats:  54%|█████▍    | 78602/146085 [1:55:10<1:40:19, 11.21it/s]"
     ]
    },
    {
     "name": "stdout",
     "output_type": "stream",
     "text": [
      "🔄 Autosaved 1348 rows after 78600 new fixtures. [Calls: 78600]\n"
     ]
    },
    {
     "name": "stderr",
     "output_type": "stream",
     "text": [
      "Fetching stats:  54%|█████▍    | 78702/146085 [1:55:19<1:41:15, 11.09it/s]"
     ]
    },
    {
     "name": "stdout",
     "output_type": "stream",
     "text": [
      "🔄 Autosaved 508 rows after 78700 new fixtures. [Calls: 78700]\n"
     ]
    },
    {
     "name": "stderr",
     "output_type": "stream",
     "text": [
      "Fetching stats:  54%|█████▍    | 78802/146085 [1:55:29<1:53:58,  9.84it/s]"
     ]
    },
    {
     "name": "stdout",
     "output_type": "stream",
     "text": [
      "🔄 Autosaved 1180 rows after 78800 new fixtures. [Calls: 78800]\n"
     ]
    },
    {
     "name": "stderr",
     "output_type": "stream",
     "text": [
      "Fetching stats:  54%|█████▍    | 78902/146085 [1:55:38<1:43:40, 10.80it/s]"
     ]
    },
    {
     "name": "stdout",
     "output_type": "stream",
     "text": [
      "🔄 Autosaved 1274 rows after 78900 new fixtures. [Calls: 78900]\n"
     ]
    },
    {
     "name": "stderr",
     "output_type": "stream",
     "text": [
      "Fetching stats:  54%|█████▍    | 79000/146085 [1:55:48<1:42:08, 10.95it/s]"
     ]
    },
    {
     "name": "stdout",
     "output_type": "stream",
     "text": [
      "🔄 Autosaved 1212 rows after 79000 new fixtures. [Calls: 79000]\n"
     ]
    },
    {
     "name": "stderr",
     "output_type": "stream",
     "text": [
      "Fetching stats:  54%|█████▍    | 79102/146085 [1:55:57<1:38:04, 11.38it/s]"
     ]
    },
    {
     "name": "stdout",
     "output_type": "stream",
     "text": [
      "🔄 Autosaved 1208 rows after 79100 new fixtures. [Calls: 79100]\n"
     ]
    },
    {
     "name": "stderr",
     "output_type": "stream",
     "text": [
      "Fetching stats:  54%|█████▍    | 79202/146085 [1:56:06<1:42:56, 10.83it/s]"
     ]
    },
    {
     "name": "stdout",
     "output_type": "stream",
     "text": [
      "🔄 Autosaved 1206 rows after 79200 new fixtures. [Calls: 79200]\n"
     ]
    },
    {
     "name": "stderr",
     "output_type": "stream",
     "text": [
      "Fetching stats:  54%|█████▍    | 79302/146085 [1:56:15<1:34:55, 11.73it/s]"
     ]
    },
    {
     "name": "stdout",
     "output_type": "stream",
     "text": [
      "🔄 Autosaved 1204 rows after 79300 new fixtures. [Calls: 79300]\n"
     ]
    },
    {
     "name": "stderr",
     "output_type": "stream",
     "text": [
      "Fetching stats:  54%|█████▍    | 79402/146085 [1:56:23<1:39:50, 11.13it/s]"
     ]
    },
    {
     "name": "stdout",
     "output_type": "stream",
     "text": [
      "🔄 Autosaved 1348 rows after 79400 new fixtures. [Calls: 79400]\n"
     ]
    },
    {
     "name": "stderr",
     "output_type": "stream",
     "text": [
      "Fetching stats:  54%|█████▍    | 79502/146085 [1:56:33<1:37:05, 11.43it/s]"
     ]
    },
    {
     "name": "stdout",
     "output_type": "stream",
     "text": [
      "🔄 Autosaved 986 rows after 79500 new fixtures. [Calls: 79500]\n"
     ]
    },
    {
     "name": "stderr",
     "output_type": "stream",
     "text": [
      "Fetching stats:  54%|█████▍    | 79602/146085 [1:56:42<1:42:35, 10.80it/s]"
     ]
    },
    {
     "name": "stdout",
     "output_type": "stream",
     "text": [
      "🔄 Autosaved 1268 rows after 79600 new fixtures. [Calls: 79600]\n"
     ]
    },
    {
     "name": "stderr",
     "output_type": "stream",
     "text": [
      "Fetching stats:  55%|█████▍    | 79702/146085 [1:56:51<1:36:34, 11.46it/s]"
     ]
    },
    {
     "name": "stdout",
     "output_type": "stream",
     "text": [
      "🔄 Autosaved 1360 rows after 79700 new fixtures. [Calls: 79700]\n"
     ]
    },
    {
     "name": "stderr",
     "output_type": "stream",
     "text": [
      "Fetching stats:  55%|█████▍    | 79802/146085 [1:57:00<1:33:36, 11.80it/s]"
     ]
    },
    {
     "name": "stdout",
     "output_type": "stream",
     "text": [
      "🔄 Autosaved 1182 rows after 79800 new fixtures. [Calls: 79800]\n"
     ]
    },
    {
     "name": "stderr",
     "output_type": "stream",
     "text": [
      "Fetching stats:  55%|█████▍    | 79902/146085 [1:57:08<1:34:53, 11.62it/s]"
     ]
    },
    {
     "name": "stdout",
     "output_type": "stream",
     "text": [
      "🔄 Autosaved 1224 rows after 79900 new fixtures. [Calls: 79900]\n"
     ]
    },
    {
     "name": "stderr",
     "output_type": "stream",
     "text": [
      "Fetching stats:  55%|█████▍    | 80000/146085 [1:57:17<1:37:49, 11.26it/s]"
     ]
    },
    {
     "name": "stdout",
     "output_type": "stream",
     "text": [
      "🔄 Autosaved 1106 rows after 80000 new fixtures. [Calls: 80000]\n"
     ]
    },
    {
     "name": "stderr",
     "output_type": "stream",
     "text": [
      "Fetching stats:  55%|█████▍    | 80102/146085 [1:57:26<1:31:51, 11.97it/s]"
     ]
    },
    {
     "name": "stdout",
     "output_type": "stream",
     "text": [
      "🔄 Autosaved 1334 rows after 80100 new fixtures. [Calls: 80100]\n"
     ]
    },
    {
     "name": "stderr",
     "output_type": "stream",
     "text": [
      "Fetching stats:  55%|█████▍    | 80202/146085 [1:57:34<1:41:46, 10.79it/s]"
     ]
    },
    {
     "name": "stdout",
     "output_type": "stream",
     "text": [
      "🔄 Autosaved 1358 rows after 80200 new fixtures. [Calls: 80200]\n"
     ]
    },
    {
     "name": "stderr",
     "output_type": "stream",
     "text": [
      "Fetching stats:  55%|█████▍    | 80302/146085 [1:57:43<1:29:39, 12.23it/s]"
     ]
    },
    {
     "name": "stdout",
     "output_type": "stream",
     "text": [
      "🔄 Autosaved 1112 rows after 80300 new fixtures. [Calls: 80300]\n"
     ]
    },
    {
     "name": "stderr",
     "output_type": "stream",
     "text": [
      "Fetching stats:  55%|█████▌    | 80402/146085 [1:57:52<1:32:44, 11.80it/s]"
     ]
    },
    {
     "name": "stdout",
     "output_type": "stream",
     "text": [
      "🔄 Autosaved 1046 rows after 80400 new fixtures. [Calls: 80400]\n"
     ]
    },
    {
     "name": "stderr",
     "output_type": "stream",
     "text": [
      "Fetching stats:  55%|█████▌    | 80502/146085 [1:58:00<1:30:31, 12.07it/s]"
     ]
    },
    {
     "name": "stdout",
     "output_type": "stream",
     "text": [
      "🔄 Autosaved 998 rows after 80500 new fixtures. [Calls: 80500]\n"
     ]
    },
    {
     "name": "stderr",
     "output_type": "stream",
     "text": [
      "Fetching stats:  55%|█████▌    | 80602/146085 [1:58:09<1:28:40, 12.31it/s]"
     ]
    },
    {
     "name": "stdout",
     "output_type": "stream",
     "text": [
      "🔄 Autosaved 1356 rows after 80600 new fixtures. [Calls: 80600]\n"
     ]
    },
    {
     "name": "stderr",
     "output_type": "stream",
     "text": [
      "Fetching stats:  55%|█████▌    | 80702/146085 [1:58:17<1:31:13, 11.94it/s]"
     ]
    },
    {
     "name": "stdout",
     "output_type": "stream",
     "text": [
      "🔄 Autosaved 1350 rows after 80700 new fixtures. [Calls: 80700]\n"
     ]
    },
    {
     "name": "stderr",
     "output_type": "stream",
     "text": [
      "Fetching stats:  55%|█████▌    | 80801/146085 [1:58:26<1:53:20,  9.60it/s]"
     ]
    },
    {
     "name": "stdout",
     "output_type": "stream",
     "text": [
      "🔄 Autosaved 1346 rows after 80800 new fixtures. [Calls: 80800]\n"
     ]
    },
    {
     "name": "stderr",
     "output_type": "stream",
     "text": [
      "Fetching stats:  55%|█████▌    | 80901/146085 [1:58:34<1:33:45, 11.59it/s]"
     ]
    },
    {
     "name": "stdout",
     "output_type": "stream",
     "text": [
      "🔄 Autosaved 1356 rows after 80900 new fixtures. [Calls: 80900]\n"
     ]
    },
    {
     "name": "stderr",
     "output_type": "stream",
     "text": [
      "Fetching stats:  55%|█████▌    | 81001/146085 [1:58:43<1:39:21, 10.92it/s]"
     ]
    },
    {
     "name": "stdout",
     "output_type": "stream",
     "text": [
      "🔄 Autosaved 1340 rows after 81000 new fixtures. [Calls: 81000]\n"
     ]
    },
    {
     "name": "stderr",
     "output_type": "stream",
     "text": [
      "Fetching stats:  56%|█████▌    | 81101/146085 [1:58:52<1:32:39, 11.69it/s]"
     ]
    },
    {
     "name": "stdout",
     "output_type": "stream",
     "text": [
      "🔄 Autosaved 1314 rows after 81100 new fixtures. [Calls: 81100]\n"
     ]
    },
    {
     "name": "stderr",
     "output_type": "stream",
     "text": [
      "Fetching stats:  56%|█████▌    | 81201/146085 [1:59:01<1:34:11, 11.48it/s]"
     ]
    },
    {
     "name": "stdout",
     "output_type": "stream",
     "text": [
      "🔄 Autosaved 1328 rows after 81200 new fixtures. [Calls: 81200]\n"
     ]
    },
    {
     "name": "stderr",
     "output_type": "stream",
     "text": [
      "Fetching stats:  56%|█████▌    | 81301/146085 [1:59:10<1:33:29, 11.55it/s]"
     ]
    },
    {
     "name": "stdout",
     "output_type": "stream",
     "text": [
      "🔄 Autosaved 1322 rows after 81300 new fixtures. [Calls: 81300]\n"
     ]
    },
    {
     "name": "stderr",
     "output_type": "stream",
     "text": [
      "Fetching stats:  56%|█████▌    | 81401/146085 [1:59:19<1:33:58, 11.47it/s]"
     ]
    },
    {
     "name": "stdout",
     "output_type": "stream",
     "text": [
      "🔄 Autosaved 294 rows after 81400 new fixtures. [Calls: 81400]\n"
     ]
    },
    {
     "name": "stderr",
     "output_type": "stream",
     "text": [
      "Fetching stats:  56%|█████▌    | 81501/146085 [1:59:28<1:29:17, 12.05it/s]"
     ]
    },
    {
     "name": "stdout",
     "output_type": "stream",
     "text": [
      "🔄 Autosaved 18 rows after 81500 new fixtures. [Calls: 81500]\n"
     ]
    },
    {
     "name": "stderr",
     "output_type": "stream",
     "text": [
      "Fetching stats:  56%|█████▌    | 81601/146085 [1:59:36<1:40:36, 10.68it/s]"
     ]
    },
    {
     "name": "stdout",
     "output_type": "stream",
     "text": [
      "🔄 Autosaved 6 rows after 81600 new fixtures. [Calls: 81600]\n"
     ]
    },
    {
     "name": "stderr",
     "output_type": "stream",
     "text": [
      "Fetching stats:  56%|█████▌    | 81801/146085 [1:59:54<1:36:03, 11.15it/s]"
     ]
    },
    {
     "name": "stdout",
     "output_type": "stream",
     "text": [
      "🔄 Autosaved 6 rows after 81800 new fixtures. [Calls: 81800]\n"
     ]
    },
    {
     "name": "stderr",
     "output_type": "stream",
     "text": [
      "Fetching stats:  57%|█████▋    | 83001/146085 [2:01:35<1:44:04, 10.10it/s]"
     ]
    },
    {
     "name": "stdout",
     "output_type": "stream",
     "text": [
      "🔄 Autosaved 80 rows after 83000 new fixtures. [Calls: 83000]\n"
     ]
    },
    {
     "name": "stderr",
     "output_type": "stream",
     "text": [
      "Fetching stats:  57%|█████▋    | 83101/146085 [2:01:44<1:32:09, 11.39it/s]"
     ]
    },
    {
     "name": "stdout",
     "output_type": "stream",
     "text": [
      "🔄 Autosaved 1304 rows after 83100 new fixtures. [Calls: 83100]\n"
     ]
    },
    {
     "name": "stderr",
     "output_type": "stream",
     "text": [
      "Fetching stats:  57%|█████▋    | 83201/146085 [2:01:53<1:38:40, 10.62it/s]"
     ]
    },
    {
     "name": "stdout",
     "output_type": "stream",
     "text": [
      "🔄 Autosaved 1320 rows after 83200 new fixtures. [Calls: 83200]\n"
     ]
    },
    {
     "name": "stderr",
     "output_type": "stream",
     "text": [
      "Fetching stats:  57%|█████▋    | 83301/146085 [2:02:02<1:28:01, 11.89it/s]"
     ]
    },
    {
     "name": "stdout",
     "output_type": "stream",
     "text": [
      "🔄 Autosaved 1348 rows after 83300 new fixtures. [Calls: 83300]\n"
     ]
    },
    {
     "name": "stderr",
     "output_type": "stream",
     "text": [
      "Fetching stats:  57%|█████▋    | 83401/146085 [2:02:11<1:31:08, 11.46it/s]"
     ]
    },
    {
     "name": "stdout",
     "output_type": "stream",
     "text": [
      "🔄 Autosaved 8 rows after 83400 new fixtures. [Calls: 83400]\n"
     ]
    },
    {
     "name": "stderr",
     "output_type": "stream",
     "text": [
      "Fetching stats:  57%|█████▋    | 83501/146085 [2:02:20<1:37:07, 10.74it/s]"
     ]
    },
    {
     "name": "stdout",
     "output_type": "stream",
     "text": [
      "🔄 Autosaved 36 rows after 83500 new fixtures. [Calls: 83500]\n"
     ]
    },
    {
     "name": "stderr",
     "output_type": "stream",
     "text": [
      "Fetching stats:  57%|█████▋    | 83601/146085 [2:02:29<1:37:13, 10.71it/s]"
     ]
    },
    {
     "name": "stdout",
     "output_type": "stream",
     "text": [
      "🔄 Autosaved 1256 rows after 83600 new fixtures. [Calls: 83600]\n"
     ]
    },
    {
     "name": "stderr",
     "output_type": "stream",
     "text": [
      "Fetching stats:  57%|█████▋    | 83701/146085 [2:02:38<1:35:41, 10.87it/s]"
     ]
    },
    {
     "name": "stdout",
     "output_type": "stream",
     "text": [
      "🔄 Autosaved 1328 rows after 83700 new fixtures. [Calls: 83700]\n"
     ]
    },
    {
     "name": "stderr",
     "output_type": "stream",
     "text": [
      "Fetching stats:  57%|█████▋    | 83801/146085 [2:02:47<1:35:31, 10.87it/s]"
     ]
    },
    {
     "name": "stdout",
     "output_type": "stream",
     "text": [
      "🔄 Autosaved 1346 rows after 83800 new fixtures. [Calls: 83800]\n"
     ]
    },
    {
     "name": "stderr",
     "output_type": "stream",
     "text": [
      "Fetching stats:  57%|█████▋    | 83901/146085 [2:02:56<1:30:08, 11.50it/s]"
     ]
    },
    {
     "name": "stdout",
     "output_type": "stream",
     "text": [
      "🔄 Autosaved 1268 rows after 83900 new fixtures. [Calls: 83900]\n"
     ]
    },
    {
     "name": "stderr",
     "output_type": "stream",
     "text": [
      "Fetching stats:  58%|█████▊    | 84001/146085 [2:03:04<1:38:25, 10.51it/s]"
     ]
    },
    {
     "name": "stdout",
     "output_type": "stream",
     "text": [
      "🔄 Autosaved 1336 rows after 84000 new fixtures. [Calls: 84000]\n"
     ]
    },
    {
     "name": "stderr",
     "output_type": "stream",
     "text": [
      "Fetching stats:  58%|█████▊    | 84101/146085 [2:03:13<1:27:30, 11.81it/s]"
     ]
    },
    {
     "name": "stdout",
     "output_type": "stream",
     "text": [
      "🔄 Autosaved 1314 rows after 84100 new fixtures. [Calls: 84100]\n"
     ]
    },
    {
     "name": "stderr",
     "output_type": "stream",
     "text": [
      "Fetching stats:  58%|█████▊    | 84201/146085 [2:03:22<1:26:47, 11.88it/s]"
     ]
    },
    {
     "name": "stdout",
     "output_type": "stream",
     "text": [
      "🔄 Autosaved 1344 rows after 84200 new fixtures. [Calls: 84200]\n"
     ]
    },
    {
     "name": "stderr",
     "output_type": "stream",
     "text": [
      "Fetching stats:  58%|█████▊    | 84301/146085 [2:03:30<1:24:16, 12.22it/s]"
     ]
    },
    {
     "name": "stdout",
     "output_type": "stream",
     "text": [
      "🔄 Autosaved 180 rows after 84300 new fixtures. [Calls: 84300]\n"
     ]
    },
    {
     "name": "stderr",
     "output_type": "stream",
     "text": [
      "Fetching stats:  58%|█████▊    | 84401/146085 [2:03:38<1:25:50, 11.98it/s]"
     ]
    },
    {
     "name": "stdout",
     "output_type": "stream",
     "text": [
      "🔄 Autosaved 48 rows after 84400 new fixtures. [Calls: 84400]\n"
     ]
    },
    {
     "name": "stderr",
     "output_type": "stream",
     "text": [
      "Fetching stats:  58%|█████▊    | 84501/146085 [2:03:47<1:24:43, 12.11it/s]"
     ]
    },
    {
     "name": "stdout",
     "output_type": "stream",
     "text": [
      "🔄 Autosaved 1292 rows after 84500 new fixtures. [Calls: 84500]\n"
     ]
    },
    {
     "name": "stderr",
     "output_type": "stream",
     "text": [
      "Fetching stats:  58%|█████▊    | 84601/146085 [2:03:56<1:26:34, 11.84it/s]"
     ]
    },
    {
     "name": "stdout",
     "output_type": "stream",
     "text": [
      "🔄 Autosaved 1326 rows after 84600 new fixtures. [Calls: 84600]\n"
     ]
    },
    {
     "name": "stderr",
     "output_type": "stream",
     "text": [
      "Fetching stats:  58%|█████▊    | 84701/146085 [2:04:04<1:25:46, 11.93it/s]"
     ]
    },
    {
     "name": "stdout",
     "output_type": "stream",
     "text": [
      "🔄 Autosaved 1330 rows after 84700 new fixtures. [Calls: 84700]\n"
     ]
    },
    {
     "name": "stderr",
     "output_type": "stream",
     "text": [
      "Fetching stats:  58%|█████▊    | 84801/146085 [2:04:13<1:25:00, 12.01it/s]"
     ]
    },
    {
     "name": "stdout",
     "output_type": "stream",
     "text": [
      "🔄 Autosaved 1282 rows after 84800 new fixtures. [Calls: 84800]\n"
     ]
    },
    {
     "name": "stderr",
     "output_type": "stream",
     "text": [
      "Fetching stats:  58%|█████▊    | 85001/146085 [2:04:29<1:30:34, 11.24it/s]"
     ]
    },
    {
     "name": "stdout",
     "output_type": "stream",
     "text": [
      "🔄 Autosaved 498 rows after 85000 new fixtures. [Calls: 85000]\n"
     ]
    },
    {
     "name": "stderr",
     "output_type": "stream",
     "text": [
      "Fetching stats:  58%|█████▊    | 85102/146085 [2:04:39<1:26:41, 11.72it/s]"
     ]
    },
    {
     "name": "stdout",
     "output_type": "stream",
     "text": [
      "🔄 Autosaved 280 rows after 85100 new fixtures. [Calls: 85100]\n"
     ]
    },
    {
     "name": "stderr",
     "output_type": "stream",
     "text": [
      "Fetching stats:  58%|█████▊    | 85202/146085 [2:04:47<1:29:14, 11.37it/s]"
     ]
    },
    {
     "name": "stdout",
     "output_type": "stream",
     "text": [
      "🔄 Autosaved 392 rows after 85200 new fixtures. [Calls: 85200]\n"
     ]
    },
    {
     "name": "stderr",
     "output_type": "stream",
     "text": [
      "Fetching stats:  58%|█████▊    | 85302/146085 [2:04:56<1:24:45, 11.95it/s]"
     ]
    },
    {
     "name": "stdout",
     "output_type": "stream",
     "text": [
      "🔄 Autosaved 554 rows after 85300 new fixtures. [Calls: 85300]\n"
     ]
    },
    {
     "name": "stderr",
     "output_type": "stream",
     "text": [
      "Fetching stats:  58%|█████▊    | 85402/146085 [2:05:05<1:31:00, 11.11it/s]"
     ]
    },
    {
     "name": "stdout",
     "output_type": "stream",
     "text": [
      "🔄 Autosaved 334 rows after 85400 new fixtures. [Calls: 85400]\n"
     ]
    },
    {
     "name": "stderr",
     "output_type": "stream",
     "text": [
      "Fetching stats:  59%|█████▊    | 85602/146085 [2:05:22<1:33:46, 10.75it/s]"
     ]
    },
    {
     "name": "stdout",
     "output_type": "stream",
     "text": [
      "🔄 Autosaved 42 rows after 85600 new fixtures. [Calls: 85600]\n"
     ]
    },
    {
     "name": "stderr",
     "output_type": "stream",
     "text": [
      "Fetching stats:  59%|█████▊    | 85702/146085 [2:05:31<1:25:16, 11.80it/s]"
     ]
    },
    {
     "name": "stdout",
     "output_type": "stream",
     "text": [
      "🔄 Autosaved 556 rows after 85700 new fixtures. [Calls: 85700]\n"
     ]
    },
    {
     "name": "stderr",
     "output_type": "stream",
     "text": [
      "Fetching stats:  59%|█████▊    | 85802/146085 [2:05:39<1:34:06, 10.68it/s]"
     ]
    },
    {
     "name": "stdout",
     "output_type": "stream",
     "text": [
      "🔄 Autosaved 1022 rows after 85800 new fixtures. [Calls: 85800]\n"
     ]
    },
    {
     "name": "stderr",
     "output_type": "stream",
     "text": [
      "Fetching stats:  59%|█████▉    | 85902/146085 [2:05:48<1:31:18, 10.99it/s]"
     ]
    },
    {
     "name": "stdout",
     "output_type": "stream",
     "text": [
      "🔄 Autosaved 1134 rows after 85900 new fixtures. [Calls: 85900]\n"
     ]
    },
    {
     "name": "stderr",
     "output_type": "stream",
     "text": [
      "Fetching stats:  59%|█████▉    | 86000/146085 [2:05:57<1:27:23, 11.46it/s]"
     ]
    },
    {
     "name": "stdout",
     "output_type": "stream",
     "text": [
      "🔄 Autosaved 1292 rows after 86000 new fixtures. [Calls: 86000]\n"
     ]
    },
    {
     "name": "stderr",
     "output_type": "stream",
     "text": [
      "Fetching stats:  59%|█████▉    | 86102/146085 [2:06:06<1:27:34, 11.41it/s]"
     ]
    },
    {
     "name": "stdout",
     "output_type": "stream",
     "text": [
      "🔄 Autosaved 1236 rows after 86100 new fixtures. [Calls: 86100]\n"
     ]
    },
    {
     "name": "stderr",
     "output_type": "stream",
     "text": [
      "Fetching stats:  59%|█████▉    | 86202/146085 [2:06:15<1:22:58, 12.03it/s]"
     ]
    },
    {
     "name": "stdout",
     "output_type": "stream",
     "text": [
      "🔄 Autosaved 1076 rows after 86200 new fixtures. [Calls: 86200]\n"
     ]
    },
    {
     "name": "stderr",
     "output_type": "stream",
     "text": [
      "Fetching stats:  59%|█████▉    | 86302/146085 [2:06:23<1:20:58, 12.31it/s]"
     ]
    },
    {
     "name": "stdout",
     "output_type": "stream",
     "text": [
      "🔄 Autosaved 1292 rows after 86300 new fixtures. [Calls: 86300]\n"
     ]
    },
    {
     "name": "stderr",
     "output_type": "stream",
     "text": [
      "Fetching stats:  59%|█████▉    | 86402/146085 [2:06:31<1:24:04, 11.83it/s]"
     ]
    },
    {
     "name": "stdout",
     "output_type": "stream",
     "text": [
      "🔄 Autosaved 1230 rows after 86400 new fixtures. [Calls: 86400]\n"
     ]
    },
    {
     "name": "stderr",
     "output_type": "stream",
     "text": [
      "Fetching stats:  59%|█████▉    | 86502/146085 [2:06:40<1:25:16, 11.65it/s]"
     ]
    },
    {
     "name": "stdout",
     "output_type": "stream",
     "text": [
      "🔄 Autosaved 1338 rows after 86500 new fixtures. [Calls: 86500]\n"
     ]
    },
    {
     "name": "stderr",
     "output_type": "stream",
     "text": [
      "Fetching stats:  59%|█████▉    | 86602/146085 [2:06:49<1:24:48, 11.69it/s]"
     ]
    },
    {
     "name": "stdout",
     "output_type": "stream",
     "text": [
      "🔄 Autosaved 1332 rows after 86600 new fixtures. [Calls: 86600]\n"
     ]
    },
    {
     "name": "stderr",
     "output_type": "stream",
     "text": [
      "Fetching stats:  59%|█████▉    | 86702/146085 [2:06:57<1:24:53, 11.66it/s]"
     ]
    },
    {
     "name": "stdout",
     "output_type": "stream",
     "text": [
      "🔄 Autosaved 530 rows after 86700 new fixtures. [Calls: 86700]\n"
     ]
    },
    {
     "name": "stderr",
     "output_type": "stream",
     "text": [
      "Fetching stats:  59%|█████▉    | 86802/146085 [2:07:06<1:22:47, 11.93it/s]"
     ]
    },
    {
     "name": "stdout",
     "output_type": "stream",
     "text": [
      "🔄 Autosaved 248 rows after 86800 new fixtures. [Calls: 86800]\n"
     ]
    },
    {
     "name": "stderr",
     "output_type": "stream",
     "text": [
      "Fetching stats:  59%|█████▉    | 86902/146085 [2:07:14<1:19:20, 12.43it/s]"
     ]
    },
    {
     "name": "stdout",
     "output_type": "stream",
     "text": [
      "🔄 Autosaved 304 rows after 86900 new fixtures. [Calls: 86900]\n"
     ]
    },
    {
     "name": "stderr",
     "output_type": "stream",
     "text": [
      "Fetching stats:  60%|█████▉    | 87000/146085 [2:07:22<1:20:25, 12.24it/s]"
     ]
    },
    {
     "name": "stdout",
     "output_type": "stream",
     "text": [
      "🔄 Autosaved 766 rows after 87000 new fixtures. [Calls: 87000]\n"
     ]
    },
    {
     "name": "stderr",
     "output_type": "stream",
     "text": [
      "Fetching stats:  60%|█████▉    | 87102/146085 [2:07:31<1:25:11, 11.54it/s]"
     ]
    },
    {
     "name": "stdout",
     "output_type": "stream",
     "text": [
      "🔄 Autosaved 1256 rows after 87100 new fixtures. [Calls: 87100]\n"
     ]
    },
    {
     "name": "stderr",
     "output_type": "stream",
     "text": [
      "Fetching stats:  60%|█████▉    | 87200/146085 [2:07:40<1:35:51, 10.24it/s]"
     ]
    },
    {
     "name": "stdout",
     "output_type": "stream",
     "text": [
      "🔄 Autosaved 1356 rows after 87200 new fixtures. [Calls: 87200]\n"
     ]
    },
    {
     "name": "stderr",
     "output_type": "stream",
     "text": [
      "Fetching stats:  60%|█████▉    | 87300/146085 [2:07:49<1:30:55, 10.77it/s]"
     ]
    },
    {
     "name": "stdout",
     "output_type": "stream",
     "text": [
      "🔄 Autosaved 1326 rows after 87300 new fixtures. [Calls: 87300]\n"
     ]
    },
    {
     "name": "stderr",
     "output_type": "stream",
     "text": [
      "Fetching stats:  60%|█████▉    | 87402/146085 [2:07:58<1:27:18, 11.20it/s]"
     ]
    },
    {
     "name": "stdout",
     "output_type": "stream",
     "text": [
      "🔄 Autosaved 1438 rows after 87400 new fixtures. [Calls: 87400]\n"
     ]
    },
    {
     "name": "stderr",
     "output_type": "stream",
     "text": [
      "Fetching stats:  60%|█████▉    | 87502/146085 [2:08:07<1:25:21, 11.44it/s]"
     ]
    },
    {
     "name": "stdout",
     "output_type": "stream",
     "text": [
      "🔄 Autosaved 1546 rows after 87500 new fixtures. [Calls: 87500]\n"
     ]
    },
    {
     "name": "stderr",
     "output_type": "stream",
     "text": [
      "Fetching stats:  60%|█████▉    | 87602/146085 [2:08:16<1:23:27, 11.68it/s]"
     ]
    },
    {
     "name": "stdout",
     "output_type": "stream",
     "text": [
      "🔄 Autosaved 496 rows after 87600 new fixtures. [Calls: 87600]\n"
     ]
    },
    {
     "name": "stderr",
     "output_type": "stream",
     "text": [
      "Fetching stats:  60%|██████    | 87702/146085 [2:08:25<1:23:22, 11.67it/s]"
     ]
    },
    {
     "name": "stdout",
     "output_type": "stream",
     "text": [
      "🔄 Autosaved 880 rows after 87700 new fixtures. [Calls: 87700]\n"
     ]
    },
    {
     "name": "stderr",
     "output_type": "stream",
     "text": [
      "Fetching stats:  60%|██████    | 87802/146085 [2:08:34<1:25:30, 11.36it/s]"
     ]
    },
    {
     "name": "stdout",
     "output_type": "stream",
     "text": [
      "🔄 Autosaved 1206 rows after 87800 new fixtures. [Calls: 87800]\n"
     ]
    },
    {
     "name": "stderr",
     "output_type": "stream",
     "text": [
      "Fetching stats:  60%|██████    | 87902/146085 [2:08:43<1:22:57, 11.69it/s]"
     ]
    },
    {
     "name": "stdout",
     "output_type": "stream",
     "text": [
      "🔄 Autosaved 1314 rows after 87900 new fixtures. [Calls: 87900]\n"
     ]
    },
    {
     "name": "stderr",
     "output_type": "stream",
     "text": [
      "Fetching stats:  60%|██████    | 88000/146085 [2:08:52<1:29:01, 10.87it/s]"
     ]
    },
    {
     "name": "stdout",
     "output_type": "stream",
     "text": [
      "🔄 Autosaved 1130 rows after 88000 new fixtures. [Calls: 88000]\n"
     ]
    },
    {
     "name": "stderr",
     "output_type": "stream",
     "text": [
      "Fetching stats:  60%|██████    | 88102/146085 [2:09:01<1:21:57, 11.79it/s]"
     ]
    },
    {
     "name": "stdout",
     "output_type": "stream",
     "text": [
      "🔄 Autosaved 1142 rows after 88100 new fixtures. [Calls: 88100]\n"
     ]
    },
    {
     "name": "stderr",
     "output_type": "stream",
     "text": [
      "Fetching stats:  60%|██████    | 88201/146085 [2:09:10<1:24:25, 11.43it/s]"
     ]
    },
    {
     "name": "stdout",
     "output_type": "stream",
     "text": [
      "🔄 Autosaved 1252 rows after 88200 new fixtures. [Calls: 88200]\n"
     ]
    },
    {
     "name": "stderr",
     "output_type": "stream",
     "text": [
      "Fetching stats:  60%|██████    | 88301/146085 [2:09:19<1:23:17, 11.56it/s]"
     ]
    },
    {
     "name": "stdout",
     "output_type": "stream",
     "text": [
      "🔄 Autosaved 1294 rows after 88300 new fixtures. [Calls: 88300]\n"
     ]
    },
    {
     "name": "stderr",
     "output_type": "stream",
     "text": [
      "Fetching stats:  61%|██████    | 88401/146085 [2:09:28<1:23:35, 11.50it/s]"
     ]
    },
    {
     "name": "stdout",
     "output_type": "stream",
     "text": [
      "🔄 Autosaved 1456 rows after 88400 new fixtures. [Calls: 88400]\n"
     ]
    },
    {
     "name": "stderr",
     "output_type": "stream",
     "text": [
      "Fetching stats:  61%|██████    | 88501/146085 [2:09:37<1:35:25, 10.06it/s]"
     ]
    },
    {
     "name": "stdout",
     "output_type": "stream",
     "text": [
      "🔄 Autosaved 102 rows after 88500 new fixtures. [Calls: 88500]\n"
     ]
    },
    {
     "name": "stderr",
     "output_type": "stream",
     "text": [
      "Fetching stats:  61%|██████    | 89001/146085 [2:10:22<1:31:50, 10.36it/s]"
     ]
    },
    {
     "name": "stdout",
     "output_type": "stream",
     "text": [
      "🔄 Autosaved 450 rows after 89000 new fixtures. [Calls: 89000]\n"
     ]
    },
    {
     "name": "stderr",
     "output_type": "stream",
     "text": [
      "Fetching stats:  61%|██████    | 89101/146085 [2:10:31<1:19:12, 11.99it/s]"
     ]
    },
    {
     "name": "stdout",
     "output_type": "stream",
     "text": [
      "🔄 Autosaved 1184 rows after 89100 new fixtures. [Calls: 89100]\n"
     ]
    },
    {
     "name": "stderr",
     "output_type": "stream",
     "text": [
      "Fetching stats:  61%|██████    | 89201/146085 [2:10:39<1:17:23, 12.25it/s]"
     ]
    },
    {
     "name": "stdout",
     "output_type": "stream",
     "text": [
      "🔄 Autosaved 1216 rows after 89200 new fixtures. [Calls: 89200]\n"
     ]
    },
    {
     "name": "stderr",
     "output_type": "stream",
     "text": [
      "Fetching stats:  61%|██████    | 89301/146085 [2:10:48<1:22:28, 11.47it/s]"
     ]
    },
    {
     "name": "stdout",
     "output_type": "stream",
     "text": [
      "🔄 Autosaved 1318 rows after 89300 new fixtures. [Calls: 89300]\n"
     ]
    },
    {
     "name": "stderr",
     "output_type": "stream",
     "text": [
      "Fetching stats:  61%|██████    | 89401/146085 [2:10:56<1:18:35, 12.02it/s]"
     ]
    },
    {
     "name": "stdout",
     "output_type": "stream",
     "text": [
      "🔄 Autosaved 1344 rows after 89400 new fixtures. [Calls: 89400]\n"
     ]
    },
    {
     "name": "stderr",
     "output_type": "stream",
     "text": [
      "Fetching stats:  61%|██████▏   | 89501/146085 [2:11:04<1:18:02, 12.08it/s]"
     ]
    },
    {
     "name": "stdout",
     "output_type": "stream",
     "text": [
      "🔄 Autosaved 504 rows after 89500 new fixtures. [Calls: 89500]\n"
     ]
    },
    {
     "name": "stderr",
     "output_type": "stream",
     "text": [
      "Fetching stats:  62%|██████▏   | 91201/146085 [2:13:30<1:13:33, 12.44it/s]"
     ]
    },
    {
     "name": "stdout",
     "output_type": "stream",
     "text": [
      "🔄 Autosaved 6 rows after 91200 new fixtures. [Calls: 91200]\n"
     ]
    },
    {
     "name": "stderr",
     "output_type": "stream",
     "text": [
      "Fetching stats:  63%|██████▎   | 91401/146085 [2:13:46<1:13:41, 12.37it/s]"
     ]
    },
    {
     "name": "stdout",
     "output_type": "stream",
     "text": [
      "🔄 Autosaved 6 rows after 91400 new fixtures. [Calls: 91400]\n"
     ]
    },
    {
     "name": "stderr",
     "output_type": "stream",
     "text": [
      "Fetching stats:  63%|██████▎   | 91701/146085 [2:14:10<1:13:36, 12.31it/s]"
     ]
    },
    {
     "name": "stdout",
     "output_type": "stream",
     "text": [
      "🔄 Autosaved 6 rows after 91700 new fixtures. [Calls: 91700]\n"
     ]
    },
    {
     "name": "stderr",
     "output_type": "stream",
     "text": [
      "Fetching stats:  64%|██████▍   | 93402/146085 [2:16:39<1:18:38, 11.16it/s]"
     ]
    },
    {
     "name": "stdout",
     "output_type": "stream",
     "text": [
      "🔄 Autosaved 84 rows after 93400 new fixtures. [Calls: 93400]\n"
     ]
    },
    {
     "name": "stderr",
     "output_type": "stream",
     "text": [
      "Fetching stats:  64%|██████▍   | 93502/146085 [2:16:48<1:16:23, 11.47it/s]"
     ]
    },
    {
     "name": "stdout",
     "output_type": "stream",
     "text": [
      "🔄 Autosaved 68 rows after 93500 new fixtures. [Calls: 93500]\n"
     ]
    },
    {
     "name": "stderr",
     "output_type": "stream",
     "text": [
      "Fetching stats:  64%|██████▍   | 93602/146085 [2:16:57<1:15:08, 11.64it/s]"
     ]
    },
    {
     "name": "stdout",
     "output_type": "stream",
     "text": [
      "🔄 Autosaved 264 rows after 93600 new fixtures. [Calls: 93600]\n"
     ]
    },
    {
     "name": "stderr",
     "output_type": "stream",
     "text": [
      "Fetching stats:  64%|██████▍   | 93702/146085 [2:17:06<1:21:10, 10.75it/s]"
     ]
    },
    {
     "name": "stdout",
     "output_type": "stream",
     "text": [
      "🔄 Autosaved 302 rows after 93700 new fixtures. [Calls: 93700]\n"
     ]
    },
    {
     "name": "stderr",
     "output_type": "stream",
     "text": [
      "Fetching stats:  64%|██████▍   | 93802/146085 [2:17:15<1:15:47, 11.50it/s]"
     ]
    },
    {
     "name": "stdout",
     "output_type": "stream",
     "text": [
      "🔄 Autosaved 276 rows after 93800 new fixtures. [Calls: 93800]\n"
     ]
    },
    {
     "name": "stderr",
     "output_type": "stream",
     "text": [
      "Fetching stats:  64%|██████▍   | 93902/146085 [2:17:23<1:14:18, 11.70it/s]"
     ]
    },
    {
     "name": "stdout",
     "output_type": "stream",
     "text": [
      "🔄 Autosaved 304 rows after 93900 new fixtures. [Calls: 93900]\n"
     ]
    },
    {
     "name": "stderr",
     "output_type": "stream",
     "text": [
      "Fetching stats:  64%|██████▍   | 94000/146085 [2:17:32<1:19:11, 10.96it/s]"
     ]
    },
    {
     "name": "stdout",
     "output_type": "stream",
     "text": [
      "🔄 Autosaved 286 rows after 94000 new fixtures. [Calls: 94000]\n"
     ]
    },
    {
     "name": "stderr",
     "output_type": "stream",
     "text": [
      "Fetching stats:  64%|██████▍   | 94102/146085 [2:17:41<1:16:08, 11.38it/s]"
     ]
    },
    {
     "name": "stdout",
     "output_type": "stream",
     "text": [
      "🔄 Autosaved 272 rows after 94100 new fixtures. [Calls: 94100]\n"
     ]
    },
    {
     "name": "stderr",
     "output_type": "stream",
     "text": [
      "Fetching stats:  64%|██████▍   | 94201/146085 [2:17:52<1:40:33,  8.60it/s]"
     ]
    },
    {
     "name": "stdout",
     "output_type": "stream",
     "text": [
      "🔄 Autosaved 278 rows after 94200 new fixtures. [Calls: 94200]\n"
     ]
    },
    {
     "name": "stderr",
     "output_type": "stream",
     "text": [
      "Fetching stats:  65%|██████▍   | 94301/146085 [2:18:01<1:14:08, 11.64it/s]"
     ]
    },
    {
     "name": "stdout",
     "output_type": "stream",
     "text": [
      "🔄 Autosaved 302 rows after 94300 new fixtures. [Calls: 94300]\n"
     ]
    },
    {
     "name": "stderr",
     "output_type": "stream",
     "text": [
      "Fetching stats:  65%|██████▍   | 94401/146085 [2:18:10<1:18:08, 11.02it/s]"
     ]
    },
    {
     "name": "stdout",
     "output_type": "stream",
     "text": [
      "🔄 Autosaved 286 rows after 94400 new fixtures. [Calls: 94400]\n"
     ]
    },
    {
     "name": "stderr",
     "output_type": "stream",
     "text": [
      "Fetching stats:  65%|██████▍   | 94501/146085 [2:18:19<1:17:24, 11.11it/s]"
     ]
    },
    {
     "name": "stdout",
     "output_type": "stream",
     "text": [
      "🔄 Autosaved 260 rows after 94500 new fixtures. [Calls: 94500]\n"
     ]
    },
    {
     "name": "stderr",
     "output_type": "stream",
     "text": [
      "Fetching stats:  65%|██████▍   | 94801/146085 [2:18:46<1:13:04, 11.70it/s]"
     ]
    },
    {
     "name": "stdout",
     "output_type": "stream",
     "text": [
      "🔄 Autosaved 20 rows after 94800 new fixtures. [Calls: 94800]\n"
     ]
    },
    {
     "name": "stderr",
     "output_type": "stream",
     "text": [
      "Fetching stats:  65%|██████▍   | 94900/146085 [2:18:55<1:14:08, 11.51it/s]"
     ]
    },
    {
     "name": "stdout",
     "output_type": "stream",
     "text": [
      "🔄 Autosaved 84 rows after 94900 new fixtures. [Calls: 94900]\n"
     ]
    },
    {
     "name": "stderr",
     "output_type": "stream",
     "text": [
      "Fetching stats:  65%|██████▌   | 95000/146085 [2:19:04<1:16:17, 11.16it/s]"
     ]
    },
    {
     "name": "stdout",
     "output_type": "stream",
     "text": [
      "🔄 Autosaved 206 rows after 95000 new fixtures. [Calls: 95000]\n"
     ]
    },
    {
     "name": "stderr",
     "output_type": "stream",
     "text": [
      "Fetching stats:  65%|██████▌   | 95102/146085 [2:19:13<1:10:03, 12.13it/s]"
     ]
    },
    {
     "name": "stdout",
     "output_type": "stream",
     "text": [
      "🔄 Autosaved 30 rows after 95100 new fixtures. [Calls: 95100]\n"
     ]
    },
    {
     "name": "stderr",
     "output_type": "stream",
     "text": [
      "Fetching stats:  65%|██████▌   | 95202/146085 [2:19:21<1:09:26, 12.21it/s]"
     ]
    },
    {
     "name": "stdout",
     "output_type": "stream",
     "text": [
      "🔄 Autosaved 12 rows after 95200 new fixtures. [Calls: 95200]\n"
     ]
    },
    {
     "name": "stderr",
     "output_type": "stream",
     "text": [
      "Fetching stats:  65%|██████▌   | 95302/146085 [2:19:29<1:10:27, 12.01it/s]"
     ]
    },
    {
     "name": "stdout",
     "output_type": "stream",
     "text": [
      "🔄 Autosaved 70 rows after 95300 new fixtures. [Calls: 95300]\n"
     ]
    },
    {
     "name": "stderr",
     "output_type": "stream",
     "text": [
      "Fetching stats:  65%|██████▌   | 95402/146085 [2:19:38<1:12:07, 11.71it/s]"
     ]
    },
    {
     "name": "stdout",
     "output_type": "stream",
     "text": [
      "🔄 Autosaved 42 rows after 95400 new fixtures. [Calls: 95400]\n"
     ]
    },
    {
     "name": "stderr",
     "output_type": "stream",
     "text": [
      "Fetching stats:  65%|██████▌   | 95502/146085 [2:19:46<1:08:49, 12.25it/s]"
     ]
    },
    {
     "name": "stdout",
     "output_type": "stream",
     "text": [
      "🔄 Autosaved 2 rows after 95500 new fixtures. [Calls: 95500]\n"
     ]
    },
    {
     "name": "stderr",
     "output_type": "stream",
     "text": [
      "Fetching stats:  65%|██████▌   | 95602/146085 [2:19:55<1:11:03, 11.84it/s]"
     ]
    },
    {
     "name": "stdout",
     "output_type": "stream",
     "text": [
      "🔄 Autosaved 76 rows after 95600 new fixtures. [Calls: 95600]\n"
     ]
    },
    {
     "name": "stderr",
     "output_type": "stream",
     "text": [
      "Fetching stats:  66%|██████▌   | 95702/146085 [2:20:05<1:11:18, 11.78it/s]"
     ]
    },
    {
     "name": "stdout",
     "output_type": "stream",
     "text": [
      "🔄 Autosaved 42 rows after 95700 new fixtures. [Calls: 95700]\n"
     ]
    },
    {
     "name": "stderr",
     "output_type": "stream",
     "text": [
      "Fetching stats:  66%|██████▌   | 95802/146085 [2:20:13<1:06:55, 12.52it/s]"
     ]
    },
    {
     "name": "stdout",
     "output_type": "stream",
     "text": [
      "🔄 Autosaved 450 rows after 95800 new fixtures. [Calls: 95800]\n"
     ]
    },
    {
     "name": "stderr",
     "output_type": "stream",
     "text": [
      "Fetching stats:  66%|██████▌   | 95902/146085 [2:20:22<1:07:10, 12.45it/s]"
     ]
    },
    {
     "name": "stdout",
     "output_type": "stream",
     "text": [
      "🔄 Autosaved 450 rows after 95900 new fixtures. [Calls: 95900]\n"
     ]
    },
    {
     "name": "stderr",
     "output_type": "stream",
     "text": [
      "Fetching stats:  66%|██████▌   | 96000/146085 [2:20:31<1:14:15, 11.24it/s]"
     ]
    },
    {
     "name": "stdout",
     "output_type": "stream",
     "text": [
      "🔄 Autosaved 464 rows after 96000 new fixtures. [Calls: 96000]\n"
     ]
    },
    {
     "name": "stderr",
     "output_type": "stream",
     "text": [
      "Fetching stats:  66%|██████▌   | 96102/146085 [2:20:41<1:26:03,  9.68it/s]"
     ]
    },
    {
     "name": "stdout",
     "output_type": "stream",
     "text": [
      "🔄 Autosaved 466 rows after 96100 new fixtures. [Calls: 96100]\n"
     ]
    },
    {
     "name": "stderr",
     "output_type": "stream",
     "text": [
      "Fetching stats:  66%|██████▌   | 96202/146085 [2:20:50<1:08:41, 12.10it/s]"
     ]
    },
    {
     "name": "stdout",
     "output_type": "stream",
     "text": [
      "🔄 Autosaved 506 rows after 96200 new fixtures. [Calls: 96200]\n"
     ]
    },
    {
     "name": "stderr",
     "output_type": "stream",
     "text": [
      "Fetching stats:  66%|██████▌   | 96302/146085 [2:20:58<1:08:36, 12.09it/s]"
     ]
    },
    {
     "name": "stdout",
     "output_type": "stream",
     "text": [
      "🔄 Autosaved 514 rows after 96300 new fixtures. [Calls: 96300]\n"
     ]
    },
    {
     "name": "stderr",
     "output_type": "stream",
     "text": [
      "Fetching stats:  66%|██████▌   | 96401/146085 [2:21:07<1:09:30, 11.91it/s]"
     ]
    },
    {
     "name": "stdout",
     "output_type": "stream",
     "text": [
      "🔄 Autosaved 134 rows after 96400 new fixtures. [Calls: 96400]\n"
     ]
    },
    {
     "name": "stderr",
     "output_type": "stream",
     "text": [
      "Fetching stats:  67%|██████▋   | 97701/146085 [2:23:01<1:09:20, 11.63it/s]"
     ]
    },
    {
     "name": "stdout",
     "output_type": "stream",
     "text": [
      "🔄 Autosaved 12 rows after 97700 new fixtures. [Calls: 97700]\n"
     ]
    },
    {
     "name": "stderr",
     "output_type": "stream",
     "text": [
      "Fetching stats:  67%|██████▋   | 97801/146085 [2:23:11<1:11:25, 11.27it/s]"
     ]
    },
    {
     "name": "stdout",
     "output_type": "stream",
     "text": [
      "🔄 Autosaved 12 rows after 97800 new fixtures. [Calls: 97800]\n"
     ]
    },
    {
     "name": "stderr",
     "output_type": "stream",
     "text": [
      "Fetching stats:  67%|██████▋   | 97899/146085 [2:23:20<1:09:28, 11.56it/s]"
     ]
    },
    {
     "name": "stdout",
     "output_type": "stream",
     "text": [
      "🔄 Autosaved 24 rows after 97900 new fixtures. [Calls: 97900]\n"
     ]
    },
    {
     "name": "stderr",
     "output_type": "stream",
     "text": [
      "Fetching stats:  67%|██████▋   | 98102/146085 [2:23:38<1:05:09, 12.27it/s]"
     ]
    },
    {
     "name": "stdout",
     "output_type": "stream",
     "text": [
      "🔄 Autosaved 12 rows after 98100 new fixtures. [Calls: 98100]\n"
     ]
    },
    {
     "name": "stderr",
     "output_type": "stream",
     "text": [
      "Fetching stats:  67%|██████▋   | 98202/146085 [2:23:46<1:04:51, 12.30it/s]"
     ]
    },
    {
     "name": "stdout",
     "output_type": "stream",
     "text": [
      "🔄 Autosaved 18 rows after 98200 new fixtures. [Calls: 98200]\n"
     ]
    },
    {
     "name": "stderr",
     "output_type": "stream",
     "text": [
      "Fetching stats:  70%|██████▉   | 102000/146085 [2:29:27<1:01:08, 12.02it/s]"
     ]
    },
    {
     "name": "stdout",
     "output_type": "stream",
     "text": [
      "🔄 Autosaved 188 rows after 102000 new fixtures. [Calls: 102000]\n"
     ]
    },
    {
     "name": "stderr",
     "output_type": "stream",
     "text": [
      "Fetching stats:  70%|██████▉   | 102102/146085 [2:29:36<1:02:17, 11.77it/s]"
     ]
    },
    {
     "name": "stdout",
     "output_type": "stream",
     "text": [
      "🔄 Autosaved 208 rows after 102100 new fixtures. [Calls: 102100]\n"
     ]
    },
    {
     "name": "stderr",
     "output_type": "stream",
     "text": [
      "Fetching stats:  70%|██████▉   | 102202/146085 [2:29:45<1:02:13, 11.75it/s]"
     ]
    },
    {
     "name": "stdout",
     "output_type": "stream",
     "text": [
      "🔄 Autosaved 204 rows after 102200 new fixtures. [Calls: 102200]\n"
     ]
    },
    {
     "name": "stderr",
     "output_type": "stream",
     "text": [
      "Fetching stats:  70%|███████   | 102302/146085 [2:29:54<1:00:18, 12.10it/s]"
     ]
    },
    {
     "name": "stdout",
     "output_type": "stream",
     "text": [
      "🔄 Autosaved 200 rows after 102300 new fixtures. [Calls: 102300]\n"
     ]
    },
    {
     "name": "stderr",
     "output_type": "stream",
     "text": [
      "Fetching stats:  70%|███████   | 102402/146085 [2:30:02<1:01:50, 11.77it/s]"
     ]
    },
    {
     "name": "stdout",
     "output_type": "stream",
     "text": [
      "🔄 Autosaved 208 rows after 102400 new fixtures. [Calls: 102400]\n"
     ]
    },
    {
     "name": "stderr",
     "output_type": "stream",
     "text": [
      "Fetching stats:  70%|███████   | 102502/146085 [2:30:11<1:02:05, 11.70it/s]"
     ]
    },
    {
     "name": "stdout",
     "output_type": "stream",
     "text": [
      "🔄 Autosaved 204 rows after 102500 new fixtures. [Calls: 102500]\n"
     ]
    },
    {
     "name": "stderr",
     "output_type": "stream",
     "text": [
      "Fetching stats:  70%|███████   | 102602/146085 [2:30:20<1:01:42, 11.74it/s]"
     ]
    },
    {
     "name": "stdout",
     "output_type": "stream",
     "text": [
      "🔄 Autosaved 224 rows after 102600 new fixtures. [Calls: 102600]\n"
     ]
    },
    {
     "name": "stderr",
     "output_type": "stream",
     "text": [
      "Fetching stats:  70%|███████   | 102702/146085 [2:30:28<1:00:00, 12.05it/s]"
     ]
    },
    {
     "name": "stdout",
     "output_type": "stream",
     "text": [
      "🔄 Autosaved 364 rows after 102700 new fixtures. [Calls: 102700]\n"
     ]
    },
    {
     "name": "stderr",
     "output_type": "stream",
     "text": [
      "Fetching stats:  70%|███████   | 102802/146085 [2:30:37<1:02:23, 11.56it/s]"
     ]
    },
    {
     "name": "stdout",
     "output_type": "stream",
     "text": [
      "🔄 Autosaved 394 rows after 102800 new fixtures. [Calls: 102800]\n"
     ]
    },
    {
     "name": "stderr",
     "output_type": "stream",
     "text": [
      "Fetching stats:  70%|███████   | 102902/146085 [2:30:46<1:01:57, 11.62it/s]"
     ]
    },
    {
     "name": "stdout",
     "output_type": "stream",
     "text": [
      "🔄 Autosaved 408 rows after 102900 new fixtures. [Calls: 102900]\n"
     ]
    },
    {
     "name": "stderr",
     "output_type": "stream",
     "text": [
      "Fetching stats:  71%|███████   | 103000/146085 [2:30:54<1:01:12, 11.73it/s]"
     ]
    },
    {
     "name": "stdout",
     "output_type": "stream",
     "text": [
      "🔄 Autosaved 686 rows after 103000 new fixtures. [Calls: 103000]\n"
     ]
    },
    {
     "name": "stderr",
     "output_type": "stream",
     "text": [
      "Fetching stats:  71%|███████   | 103102/146085 [2:31:03<1:01:06, 11.72it/s]"
     ]
    },
    {
     "name": "stdout",
     "output_type": "stream",
     "text": [
      "🔄 Autosaved 348 rows after 103100 new fixtures. [Calls: 103100]\n"
     ]
    },
    {
     "name": "stderr",
     "output_type": "stream",
     "text": [
      "Fetching stats:  72%|███████▏  | 104502/146085 [2:33:07<56:41, 12.23it/s]  "
     ]
    },
    {
     "name": "stdout",
     "output_type": "stream",
     "text": [
      "🔄 Autosaved 2 rows after 104500 new fixtures. [Calls: 104500]\n"
     ]
    },
    {
     "name": "stderr",
     "output_type": "stream",
     "text": [
      "Fetching stats:  72%|███████▏  | 104602/146085 [2:33:15<1:00:05, 11.51it/s]"
     ]
    },
    {
     "name": "stdout",
     "output_type": "stream",
     "text": [
      "🔄 Autosaved 22 rows after 104600 new fixtures. [Calls: 104600]\n"
     ]
    },
    {
     "name": "stderr",
     "output_type": "stream",
     "text": [
      "Fetching stats:  72%|███████▏  | 104702/146085 [2:33:24<55:27, 12.44it/s]  "
     ]
    },
    {
     "name": "stdout",
     "output_type": "stream",
     "text": [
      "🔄 Autosaved 72 rows after 104700 new fixtures. [Calls: 104700]\n"
     ]
    },
    {
     "name": "stderr",
     "output_type": "stream",
     "text": [
      "Fetching stats:  72%|███████▏  | 104802/146085 [2:33:32<56:33, 12.17it/s]  "
     ]
    },
    {
     "name": "stdout",
     "output_type": "stream",
     "text": [
      "🔄 Autosaved 86 rows after 104800 new fixtures. [Calls: 104800]\n"
     ]
    },
    {
     "name": "stderr",
     "output_type": "stream",
     "text": [
      "Fetching stats:  72%|███████▏  | 104902/146085 [2:33:41<57:17, 11.98it/s]  "
     ]
    },
    {
     "name": "stdout",
     "output_type": "stream",
     "text": [
      "🔄 Autosaved 106 rows after 104900 new fixtures. [Calls: 104900]\n"
     ]
    },
    {
     "name": "stderr",
     "output_type": "stream",
     "text": [
      "Fetching stats:  72%|███████▏  | 105000/146085 [2:33:49<57:29, 11.91it/s]  "
     ]
    },
    {
     "name": "stdout",
     "output_type": "stream",
     "text": [
      "🔄 Autosaved 142 rows after 105000 new fixtures. [Calls: 105000]\n"
     ]
    },
    {
     "name": "stderr",
     "output_type": "stream",
     "text": [
      "Fetching stats:  72%|███████▏  | 105102/146085 [2:33:58<1:00:50, 11.23it/s]"
     ]
    },
    {
     "name": "stdout",
     "output_type": "stream",
     "text": [
      "🔄 Autosaved 116 rows after 105100 new fixtures. [Calls: 105100]\n"
     ]
    },
    {
     "name": "stderr",
     "output_type": "stream",
     "text": [
      "Fetching stats:  72%|███████▏  | 105202/146085 [2:34:07<59:57, 11.36it/s]  "
     ]
    },
    {
     "name": "stdout",
     "output_type": "stream",
     "text": [
      "🔄 Autosaved 118 rows after 105200 new fixtures. [Calls: 105200]\n"
     ]
    },
    {
     "name": "stderr",
     "output_type": "stream",
     "text": [
      "Fetching stats:  72%|███████▏  | 105302/146085 [2:34:16<1:01:26, 11.06it/s]"
     ]
    },
    {
     "name": "stdout",
     "output_type": "stream",
     "text": [
      "🔄 Autosaved 154 rows after 105300 new fixtures. [Calls: 105300]\n"
     ]
    },
    {
     "name": "stderr",
     "output_type": "stream",
     "text": [
      "Fetching stats:  72%|███████▏  | 105402/146085 [2:34:25<59:35, 11.38it/s]  "
     ]
    },
    {
     "name": "stdout",
     "output_type": "stream",
     "text": [
      "🔄 Autosaved 160 rows after 105400 new fixtures. [Calls: 105400]\n"
     ]
    },
    {
     "name": "stderr",
     "output_type": "stream",
     "text": [
      "Fetching stats:  72%|███████▏  | 105502/146085 [2:34:33<57:18, 11.80it/s]  "
     ]
    },
    {
     "name": "stdout",
     "output_type": "stream",
     "text": [
      "🔄 Autosaved 152 rows after 105500 new fixtures. [Calls: 105500]\n"
     ]
    },
    {
     "name": "stderr",
     "output_type": "stream",
     "text": [
      "Fetching stats:  72%|███████▏  | 105602/146085 [2:34:42<59:16, 11.38it/s]  "
     ]
    },
    {
     "name": "stdout",
     "output_type": "stream",
     "text": [
      "🔄 Autosaved 170 rows after 105600 new fixtures. [Calls: 105600]\n"
     ]
    },
    {
     "name": "stderr",
     "output_type": "stream",
     "text": [
      "Fetching stats:  72%|███████▏  | 105702/146085 [2:34:51<1:03:32, 10.59it/s]"
     ]
    },
    {
     "name": "stdout",
     "output_type": "stream",
     "text": [
      "🔄 Autosaved 150 rows after 105700 new fixtures. [Calls: 105700]\n"
     ]
    },
    {
     "name": "stderr",
     "output_type": "stream",
     "text": [
      "Fetching stats:  72%|███████▏  | 105802/146085 [2:35:00<1:00:02, 11.18it/s]"
     ]
    },
    {
     "name": "stdout",
     "output_type": "stream",
     "text": [
      "🔄 Autosaved 586 rows after 105800 new fixtures. [Calls: 105800]\n"
     ]
    },
    {
     "name": "stderr",
     "output_type": "stream",
     "text": [
      "Fetching stats:  72%|███████▏  | 105902/146085 [2:35:09<1:02:34, 10.70it/s]"
     ]
    },
    {
     "name": "stdout",
     "output_type": "stream",
     "text": [
      "🔄 Autosaved 1344 rows after 105900 new fixtures. [Calls: 105900]\n"
     ]
    },
    {
     "name": "stderr",
     "output_type": "stream",
     "text": [
      "Fetching stats:  73%|███████▎  | 106000/146085 [2:35:18<59:05, 11.31it/s]  "
     ]
    },
    {
     "name": "stdout",
     "output_type": "stream",
     "text": [
      "🔄 Autosaved 1506 rows after 106000 new fixtures. [Calls: 106000]\n"
     ]
    },
    {
     "name": "stderr",
     "output_type": "stream",
     "text": [
      "Fetching stats:  73%|███████▎  | 106102/146085 [2:35:28<58:23, 11.41it/s]  "
     ]
    },
    {
     "name": "stdout",
     "output_type": "stream",
     "text": [
      "🔄 Autosaved 1468 rows after 106100 new fixtures. [Calls: 106100]\n"
     ]
    },
    {
     "name": "stderr",
     "output_type": "stream",
     "text": [
      "Fetching stats:  73%|███████▎  | 106202/146085 [2:35:37<1:02:41, 10.60it/s]"
     ]
    },
    {
     "name": "stdout",
     "output_type": "stream",
     "text": [
      "🔄 Autosaved 1184 rows after 106200 new fixtures. [Calls: 106200]\n"
     ]
    },
    {
     "name": "stderr",
     "output_type": "stream",
     "text": [
      "Fetching stats:  73%|███████▎  | 106302/146085 [2:35:46<1:01:46, 10.73it/s]"
     ]
    },
    {
     "name": "stdout",
     "output_type": "stream",
     "text": [
      "🔄 Autosaved 1220 rows after 106300 new fixtures. [Calls: 106300]\n"
     ]
    },
    {
     "name": "stderr",
     "output_type": "stream",
     "text": [
      "Fetching stats:  73%|███████▎  | 106402/146085 [2:35:55<59:02, 11.20it/s]  "
     ]
    },
    {
     "name": "stdout",
     "output_type": "stream",
     "text": [
      "🔄 Autosaved 1004 rows after 106400 new fixtures. [Calls: 106400]\n"
     ]
    },
    {
     "name": "stderr",
     "output_type": "stream",
     "text": [
      "Fetching stats:  73%|███████▎  | 106502/146085 [2:36:04<1:01:01, 10.81it/s]"
     ]
    },
    {
     "name": "stdout",
     "output_type": "stream",
     "text": [
      "🔄 Autosaved 1058 rows after 106500 new fixtures. [Calls: 106500]\n"
     ]
    },
    {
     "name": "stderr",
     "output_type": "stream",
     "text": [
      "Fetching stats:  73%|███████▎  | 106602/146085 [2:36:13<59:05, 11.14it/s]  "
     ]
    },
    {
     "name": "stdout",
     "output_type": "stream",
     "text": [
      "🔄 Autosaved 106 rows after 106600 new fixtures. [Calls: 106600]\n"
     ]
    },
    {
     "name": "stderr",
     "output_type": "stream",
     "text": [
      "Fetching stats:  73%|███████▎  | 106700/146085 [2:36:22<59:30, 11.03it/s]  "
     ]
    },
    {
     "name": "stdout",
     "output_type": "stream",
     "text": [
      "🔄 Autosaved 164 rows after 106700 new fixtures. [Calls: 106700]\n"
     ]
    },
    {
     "name": "stderr",
     "output_type": "stream",
     "text": [
      "Fetching stats:  73%|███████▎  | 106802/146085 [2:36:32<1:01:41, 10.61it/s]"
     ]
    },
    {
     "name": "stdout",
     "output_type": "stream",
     "text": [
      "🔄 Autosaved 1332 rows after 106800 new fixtures. [Calls: 106800]\n"
     ]
    },
    {
     "name": "stderr",
     "output_type": "stream",
     "text": [
      "Fetching stats:  73%|███████▎  | 106902/146085 [2:36:42<1:00:45, 10.75it/s]"
     ]
    },
    {
     "name": "stdout",
     "output_type": "stream",
     "text": [
      "🔄 Autosaved 1316 rows after 106900 new fixtures. [Calls: 106900]\n"
     ]
    },
    {
     "name": "stderr",
     "output_type": "stream",
     "text": [
      "Fetching stats:  73%|███████▎  | 107000/146085 [2:36:51<1:01:45, 10.55it/s]"
     ]
    },
    {
     "name": "stdout",
     "output_type": "stream",
     "text": [
      "🔄 Autosaved 1338 rows after 107000 new fixtures. [Calls: 107000]\n"
     ]
    },
    {
     "name": "stderr",
     "output_type": "stream",
     "text": [
      "Fetching stats:  73%|███████▎  | 107102/146085 [2:37:00<57:22, 11.32it/s]  "
     ]
    },
    {
     "name": "stdout",
     "output_type": "stream",
     "text": [
      "🔄 Autosaved 1504 rows after 107100 new fixtures. [Calls: 107100]\n"
     ]
    },
    {
     "name": "stderr",
     "output_type": "stream",
     "text": [
      "Fetching stats:  73%|███████▎  | 107202/146085 [2:37:09<57:04, 11.35it/s]  "
     ]
    },
    {
     "name": "stdout",
     "output_type": "stream",
     "text": [
      "🔄 Autosaved 1556 rows after 107200 new fixtures. [Calls: 107200]\n"
     ]
    },
    {
     "name": "stderr",
     "output_type": "stream",
     "text": [
      "Fetching stats:  73%|███████▎  | 107302/146085 [2:37:18<57:34, 11.23it/s]  "
     ]
    },
    {
     "name": "stdout",
     "output_type": "stream",
     "text": [
      "🔄 Autosaved 1204 rows after 107300 new fixtures. [Calls: 107300]\n"
     ]
    },
    {
     "name": "stderr",
     "output_type": "stream",
     "text": [
      "Fetching stats:  74%|███████▎  | 107401/146085 [2:37:27<56:38, 11.38it/s]  "
     ]
    },
    {
     "name": "stdout",
     "output_type": "stream",
     "text": [
      "🔄 Autosaved 1200 rows after 107400 new fixtures. [Calls: 107400]\n"
     ]
    },
    {
     "name": "stderr",
     "output_type": "stream",
     "text": [
      "Fetching stats:  74%|███████▎  | 107502/146085 [2:37:36<57:42, 11.14it/s]  "
     ]
    },
    {
     "name": "stdout",
     "output_type": "stream",
     "text": [
      "🔄 Autosaved 1220 rows after 107500 new fixtures. [Calls: 107500]\n"
     ]
    },
    {
     "name": "stderr",
     "output_type": "stream",
     "text": [
      "Fetching stats:  74%|███████▎  | 107602/146085 [2:37:44<53:03, 12.09it/s]"
     ]
    },
    {
     "name": "stdout",
     "output_type": "stream",
     "text": [
      "🔄 Autosaved 1342 rows after 107600 new fixtures. [Calls: 107600]\n"
     ]
    },
    {
     "name": "stderr",
     "output_type": "stream",
     "text": [
      "Fetching stats:  74%|███████▎  | 107702/146085 [2:37:53<54:41, 11.70it/s]  "
     ]
    },
    {
     "name": "stdout",
     "output_type": "stream",
     "text": [
      "🔄 Autosaved 1354 rows after 107700 new fixtures. [Calls: 107700]\n"
     ]
    },
    {
     "name": "stderr",
     "output_type": "stream",
     "text": [
      "Fetching stats:  74%|███████▍  | 107802/146085 [2:38:02<56:20, 11.33it/s]"
     ]
    },
    {
     "name": "stdout",
     "output_type": "stream",
     "text": [
      "🔄 Autosaved 1194 rows after 107800 new fixtures. [Calls: 107800]\n"
     ]
    },
    {
     "name": "stderr",
     "output_type": "stream",
     "text": [
      "Fetching stats:  74%|███████▍  | 107902/146085 [2:38:11<57:33, 11.06it/s]  "
     ]
    },
    {
     "name": "stdout",
     "output_type": "stream",
     "text": [
      "🔄 Autosaved 1304 rows after 107900 new fixtures. [Calls: 107900]\n"
     ]
    },
    {
     "name": "stderr",
     "output_type": "stream",
     "text": [
      "Fetching stats:  74%|███████▍  | 108000/146085 [2:38:19<53:37, 11.84it/s]  "
     ]
    },
    {
     "name": "stdout",
     "output_type": "stream",
     "text": [
      "🔄 Autosaved 1388 rows after 108000 new fixtures. [Calls: 108000]\n"
     ]
    },
    {
     "name": "stderr",
     "output_type": "stream",
     "text": [
      "Fetching stats:  74%|███████▍  | 108102/146085 [2:38:28<50:56, 12.43it/s]  "
     ]
    },
    {
     "name": "stdout",
     "output_type": "stream",
     "text": [
      "🔄 Autosaved 1546 rows after 108100 new fixtures. [Calls: 108100]\n"
     ]
    },
    {
     "name": "stderr",
     "output_type": "stream",
     "text": [
      "Fetching stats:  74%|███████▍  | 108200/146085 [2:38:36<56:04, 11.26it/s]"
     ]
    },
    {
     "name": "stdout",
     "output_type": "stream",
     "text": [
      "🔄 Autosaved 1532 rows after 108200 new fixtures. [Calls: 108200]\n"
     ]
    },
    {
     "name": "stderr",
     "output_type": "stream",
     "text": [
      "Fetching stats:  74%|███████▍  | 108302/146085 [2:38:45<51:45, 12.17it/s]  "
     ]
    },
    {
     "name": "stdout",
     "output_type": "stream",
     "text": [
      "🔄 Autosaved 1282 rows after 108300 new fixtures. [Calls: 108300]\n"
     ]
    },
    {
     "name": "stderr",
     "output_type": "stream",
     "text": [
      "Fetching stats:  74%|███████▍  | 108402/146085 [2:38:53<52:26, 11.97it/s]  "
     ]
    },
    {
     "name": "stdout",
     "output_type": "stream",
     "text": [
      "🔄 Autosaved 1414 rows after 108400 new fixtures. [Calls: 108400]\n"
     ]
    },
    {
     "name": "stderr",
     "output_type": "stream",
     "text": [
      "Fetching stats:  74%|███████▍  | 108502/146085 [2:39:02<51:50, 12.08it/s]"
     ]
    },
    {
     "name": "stdout",
     "output_type": "stream",
     "text": [
      "🔄 Autosaved 1526 rows after 108500 new fixtures. [Calls: 108500]\n"
     ]
    },
    {
     "name": "stderr",
     "output_type": "stream",
     "text": [
      "Fetching stats:  74%|███████▍  | 108602/146085 [2:39:10<53:38, 11.64it/s]  "
     ]
    },
    {
     "name": "stdout",
     "output_type": "stream",
     "text": [
      "🔄 Autosaved 1340 rows after 108600 new fixtures. [Calls: 108600]\n"
     ]
    },
    {
     "name": "stderr",
     "output_type": "stream",
     "text": [
      "Fetching stats:  74%|███████▍  | 108702/146085 [2:39:19<50:20, 12.38it/s]"
     ]
    },
    {
     "name": "stdout",
     "output_type": "stream",
     "text": [
      "🔄 Autosaved 1358 rows after 108700 new fixtures. [Calls: 108700]\n"
     ]
    },
    {
     "name": "stderr",
     "output_type": "stream",
     "text": [
      "Fetching stats:  74%|███████▍  | 108802/146085 [2:39:27<53:00, 11.72it/s]"
     ]
    },
    {
     "name": "stdout",
     "output_type": "stream",
     "text": [
      "🔄 Autosaved 1536 rows after 108800 new fixtures. [Calls: 108800]\n"
     ]
    },
    {
     "name": "stderr",
     "output_type": "stream",
     "text": [
      "Fetching stats:  75%|███████▍  | 108901/146085 [2:39:36<1:01:57, 10.00it/s]"
     ]
    },
    {
     "name": "stdout",
     "output_type": "stream",
     "text": [
      "🔄 Autosaved 1504 rows after 108900 new fixtures. [Calls: 108900]\n"
     ]
    },
    {
     "name": "stderr",
     "output_type": "stream",
     "text": [
      "Fetching stats:  75%|███████▍  | 109001/146085 [2:39:45<1:08:12,  9.06it/s]"
     ]
    },
    {
     "name": "stdout",
     "output_type": "stream",
     "text": [
      "🔄 Autosaved 1304 rows after 109000 new fixtures. [Calls: 109000]\n"
     ]
    },
    {
     "name": "stderr",
     "output_type": "stream",
     "text": [
      "Fetching stats:  75%|███████▍  | 109102/146085 [2:39:55<54:42, 11.27it/s]  "
     ]
    },
    {
     "name": "stdout",
     "output_type": "stream",
     "text": [
      "🔄 Autosaved 1312 rows after 109100 new fixtures. [Calls: 109100]\n"
     ]
    },
    {
     "name": "stderr",
     "output_type": "stream",
     "text": [
      "Fetching stats:  75%|███████▍  | 109202/146085 [2:40:04<54:31, 11.27it/s]  "
     ]
    },
    {
     "name": "stdout",
     "output_type": "stream",
     "text": [
      "🔄 Autosaved 1378 rows after 109200 new fixtures. [Calls: 109200]\n"
     ]
    },
    {
     "name": "stderr",
     "output_type": "stream",
     "text": [
      "Fetching stats:  75%|███████▍  | 109302/146085 [2:40:12<53:38, 11.43it/s]"
     ]
    },
    {
     "name": "stdout",
     "output_type": "stream",
     "text": [
      "🔄 Autosaved 1392 rows after 109300 new fixtures. [Calls: 109300]\n"
     ]
    },
    {
     "name": "stderr",
     "output_type": "stream",
     "text": [
      "Fetching stats:  75%|███████▍  | 109402/146085 [2:40:21<55:55, 10.93it/s]  "
     ]
    },
    {
     "name": "stdout",
     "output_type": "stream",
     "text": [
      "🔄 Autosaved 1362 rows after 109400 new fixtures. [Calls: 109400]\n"
     ]
    },
    {
     "name": "stderr",
     "output_type": "stream",
     "text": [
      "Fetching stats:  75%|███████▍  | 109502/146085 [2:40:30<56:45, 10.74it/s]  "
     ]
    },
    {
     "name": "stdout",
     "output_type": "stream",
     "text": [
      "🔄 Autosaved 1258 rows after 109500 new fixtures. [Calls: 109500]\n"
     ]
    },
    {
     "name": "stderr",
     "output_type": "stream",
     "text": [
      "Fetching stats:  75%|███████▌  | 109602/146085 [2:40:39<55:53, 10.88it/s]"
     ]
    },
    {
     "name": "stdout",
     "output_type": "stream",
     "text": [
      "🔄 Autosaved 528 rows after 109600 new fixtures. [Calls: 109600]\n"
     ]
    },
    {
     "name": "stderr",
     "output_type": "stream",
     "text": [
      "Fetching stats:  75%|███████▌  | 109702/146085 [2:40:48<51:32, 11.77it/s]  "
     ]
    },
    {
     "name": "stdout",
     "output_type": "stream",
     "text": [
      "🔄 Autosaved 828 rows after 109700 new fixtures. [Calls: 109700]\n"
     ]
    },
    {
     "name": "stderr",
     "output_type": "stream",
     "text": [
      "Fetching stats:  75%|███████▌  | 109802/146085 [2:40:57<52:53, 11.43it/s]"
     ]
    },
    {
     "name": "stdout",
     "output_type": "stream",
     "text": [
      "🔄 Autosaved 1510 rows after 109800 new fixtures. [Calls: 109800]\n"
     ]
    },
    {
     "name": "stderr",
     "output_type": "stream",
     "text": [
      "Fetching stats:  75%|███████▌  | 109902/146085 [2:41:05<55:14, 10.92it/s]"
     ]
    },
    {
     "name": "stdout",
     "output_type": "stream",
     "text": [
      "🔄 Autosaved 1556 rows after 109900 new fixtures. [Calls: 109900]\n"
     ]
    },
    {
     "name": "stderr",
     "output_type": "stream",
     "text": [
      "Fetching stats:  75%|███████▌  | 110000/146085 [2:41:14<51:43, 11.63it/s]"
     ]
    },
    {
     "name": "stdout",
     "output_type": "stream",
     "text": [
      "🔄 Autosaved 854 rows after 110000 new fixtures. [Calls: 110000]\n"
     ]
    },
    {
     "name": "stderr",
     "output_type": "stream",
     "text": [
      "Fetching stats:  75%|███████▌  | 110102/146085 [2:41:24<53:39, 11.18it/s]  "
     ]
    },
    {
     "name": "stdout",
     "output_type": "stream",
     "text": [
      "🔄 Autosaved 1318 rows after 110100 new fixtures. [Calls: 110100]\n"
     ]
    },
    {
     "name": "stderr",
     "output_type": "stream",
     "text": [
      "Fetching stats:  75%|███████▌  | 110202/146085 [2:41:32<53:11, 11.24it/s]  "
     ]
    },
    {
     "name": "stdout",
     "output_type": "stream",
     "text": [
      "🔄 Autosaved 1348 rows after 110200 new fixtures. [Calls: 110200]\n"
     ]
    },
    {
     "name": "stderr",
     "output_type": "stream",
     "text": [
      "Fetching stats:  76%|███████▌  | 110300/146085 [2:41:41<55:28, 10.75it/s]"
     ]
    },
    {
     "name": "stdout",
     "output_type": "stream",
     "text": [
      "🔄 Autosaved 1396 rows after 110300 new fixtures. [Calls: 110300]\n"
     ]
    },
    {
     "name": "stderr",
     "output_type": "stream",
     "text": [
      "Fetching stats:  76%|███████▌  | 110402/146085 [2:41:50<55:35, 10.70it/s]  "
     ]
    },
    {
     "name": "stdout",
     "output_type": "stream",
     "text": [
      "🔄 Autosaved 1374 rows after 110400 new fixtures. [Calls: 110400]\n"
     ]
    },
    {
     "name": "stderr",
     "output_type": "stream",
     "text": [
      "Fetching stats:  76%|███████▌  | 110502/146085 [2:41:59<50:24, 11.77it/s]"
     ]
    },
    {
     "name": "stdout",
     "output_type": "stream",
     "text": [
      "🔄 Autosaved 1008 rows after 110500 new fixtures. [Calls: 110500]\n"
     ]
    },
    {
     "name": "stderr",
     "output_type": "stream",
     "text": [
      "Fetching stats:  76%|███████▌  | 110602/146085 [2:42:08<49:55, 11.84it/s]"
     ]
    },
    {
     "name": "stdout",
     "output_type": "stream",
     "text": [
      "🔄 Autosaved 292 rows after 110600 new fixtures. [Calls: 110600]\n"
     ]
    },
    {
     "name": "stderr",
     "output_type": "stream",
     "text": [
      "Fetching stats:  76%|███████▌  | 110702/146085 [2:42:16<54:11, 10.88it/s]"
     ]
    },
    {
     "name": "stdout",
     "output_type": "stream",
     "text": [
      "🔄 Autosaved 358 rows after 110700 new fixtures. [Calls: 110700]\n"
     ]
    },
    {
     "name": "stderr",
     "output_type": "stream",
     "text": [
      "Fetching stats:  76%|███████▌  | 110802/146085 [2:42:25<53:19, 11.03it/s]"
     ]
    },
    {
     "name": "stdout",
     "output_type": "stream",
     "text": [
      "🔄 Autosaved 648 rows after 110800 new fixtures. [Calls: 110800]\n"
     ]
    },
    {
     "name": "stderr",
     "output_type": "stream",
     "text": [
      "Fetching stats:  76%|███████▌  | 110902/146085 [2:42:34<49:18, 11.89it/s]"
     ]
    },
    {
     "name": "stdout",
     "output_type": "stream",
     "text": [
      "🔄 Autosaved 790 rows after 110900 new fixtures. [Calls: 110900]\n"
     ]
    },
    {
     "name": "stderr",
     "output_type": "stream",
     "text": [
      "Fetching stats:  76%|███████▌  | 111000/146085 [2:42:43<55:03, 10.62it/s]  "
     ]
    },
    {
     "name": "stdout",
     "output_type": "stream",
     "text": [
      "🔄 Autosaved 550 rows after 111000 new fixtures. [Calls: 111000]\n"
     ]
    },
    {
     "name": "stderr",
     "output_type": "stream",
     "text": [
      "Fetching stats:  76%|███████▌  | 111102/146085 [2:42:52<50:11, 11.62it/s]  "
     ]
    },
    {
     "name": "stdout",
     "output_type": "stream",
     "text": [
      "🔄 Autosaved 932 rows after 111100 new fixtures. [Calls: 111100]\n"
     ]
    },
    {
     "name": "stderr",
     "output_type": "stream",
     "text": [
      "Fetching stats:  76%|███████▌  | 111202/146085 [2:43:01<47:39, 12.20it/s]"
     ]
    },
    {
     "name": "stdout",
     "output_type": "stream",
     "text": [
      "🔄 Autosaved 1326 rows after 111200 new fixtures. [Calls: 111200]\n"
     ]
    },
    {
     "name": "stderr",
     "output_type": "stream",
     "text": [
      "Fetching stats:  76%|███████▌  | 111300/146085 [2:43:09<50:19, 11.52it/s]"
     ]
    },
    {
     "name": "stdout",
     "output_type": "stream",
     "text": [
      "🔄 Autosaved 1382 rows after 111300 new fixtures. [Calls: 111300]\n"
     ]
    },
    {
     "name": "stderr",
     "output_type": "stream",
     "text": [
      "Fetching stats:  76%|███████▋  | 111402/146085 [2:43:18<50:37, 11.42it/s]  "
     ]
    },
    {
     "name": "stdout",
     "output_type": "stream",
     "text": [
      "🔄 Autosaved 1400 rows after 111400 new fixtures. [Calls: 111400]\n"
     ]
    },
    {
     "name": "stderr",
     "output_type": "stream",
     "text": [
      "Fetching stats:  76%|███████▋  | 111502/146085 [2:43:26<48:49, 11.80it/s]"
     ]
    },
    {
     "name": "stdout",
     "output_type": "stream",
     "text": [
      "🔄 Autosaved 1396 rows after 111500 new fixtures. [Calls: 111500]\n"
     ]
    },
    {
     "name": "stderr",
     "output_type": "stream",
     "text": [
      "Fetching stats:  76%|███████▋  | 111602/146085 [2:43:35<52:31, 10.94it/s]"
     ]
    },
    {
     "name": "stdout",
     "output_type": "stream",
     "text": [
      "🔄 Autosaved 1406 rows after 111600 new fixtures. [Calls: 111600]\n"
     ]
    },
    {
     "name": "stderr",
     "output_type": "stream",
     "text": [
      "Fetching stats:  76%|███████▋  | 111702/146085 [2:43:44<48:52, 11.72it/s]"
     ]
    },
    {
     "name": "stdout",
     "output_type": "stream",
     "text": [
      "🔄 Autosaved 1376 rows after 111700 new fixtures. [Calls: 111700]\n"
     ]
    },
    {
     "name": "stderr",
     "output_type": "stream",
     "text": [
      "Fetching stats:  77%|███████▋  | 111802/146085 [2:43:52<49:50, 11.46it/s]  "
     ]
    },
    {
     "name": "stdout",
     "output_type": "stream",
     "text": [
      "🔄 Autosaved 1400 rows after 111800 new fixtures. [Calls: 111800]\n"
     ]
    },
    {
     "name": "stderr",
     "output_type": "stream",
     "text": [
      "Fetching stats:  77%|███████▋  | 111902/146085 [2:44:01<48:03, 11.85it/s]"
     ]
    },
    {
     "name": "stdout",
     "output_type": "stream",
     "text": [
      "🔄 Autosaved 1400 rows after 111900 new fixtures. [Calls: 111900]\n"
     ]
    },
    {
     "name": "stderr",
     "output_type": "stream",
     "text": [
      "Fetching stats:  77%|███████▋  | 112000/146085 [2:44:09<52:10, 10.89it/s]"
     ]
    },
    {
     "name": "stdout",
     "output_type": "stream",
     "text": [
      "🔄 Autosaved 1386 rows after 112000 new fixtures. [Calls: 112000]\n"
     ]
    },
    {
     "name": "stderr",
     "output_type": "stream",
     "text": [
      "Fetching stats:  77%|███████▋  | 112102/146085 [2:44:19<49:29, 11.44it/s]  "
     ]
    },
    {
     "name": "stdout",
     "output_type": "stream",
     "text": [
      "🔄 Autosaved 1394 rows after 112100 new fixtures. [Calls: 112100]\n"
     ]
    },
    {
     "name": "stderr",
     "output_type": "stream",
     "text": [
      "Fetching stats:  77%|███████▋  | 112202/146085 [2:44:28<55:11, 10.23it/s]"
     ]
    },
    {
     "name": "stdout",
     "output_type": "stream",
     "text": [
      "🔄 Autosaved 1370 rows after 112200 new fixtures. [Calls: 112200]\n"
     ]
    },
    {
     "name": "stderr",
     "output_type": "stream",
     "text": [
      "Fetching stats:  77%|███████▋  | 112302/146085 [2:44:37<54:36, 10.31it/s]  "
     ]
    },
    {
     "name": "stdout",
     "output_type": "stream",
     "text": [
      "🔄 Autosaved 1380 rows after 112300 new fixtures. [Calls: 112300]\n"
     ]
    },
    {
     "name": "stderr",
     "output_type": "stream",
     "text": [
      "Fetching stats:  77%|███████▋  | 112401/146085 [2:44:47<50:30, 11.12it/s]  "
     ]
    },
    {
     "name": "stdout",
     "output_type": "stream",
     "text": [
      "🔄 Autosaved 1332 rows after 112400 new fixtures. [Calls: 112400]\n"
     ]
    },
    {
     "name": "stderr",
     "output_type": "stream",
     "text": [
      "Fetching stats:  77%|███████▋  | 112501/146085 [2:44:56<52:07, 10.74it/s]  "
     ]
    },
    {
     "name": "stdout",
     "output_type": "stream",
     "text": [
      "🔄 Autosaved 1456 rows after 112500 new fixtures. [Calls: 112500]\n"
     ]
    },
    {
     "name": "stderr",
     "output_type": "stream",
     "text": [
      "Fetching stats:  77%|███████▋  | 112602/146085 [2:45:05<52:05, 10.71it/s]"
     ]
    },
    {
     "name": "stdout",
     "output_type": "stream",
     "text": [
      "🔄 Autosaved 1512 rows after 112600 new fixtures. [Calls: 112600]\n"
     ]
    },
    {
     "name": "stderr",
     "output_type": "stream",
     "text": [
      "Fetching stats:  77%|███████▋  | 112702/146085 [2:45:15<51:03, 10.90it/s]  "
     ]
    },
    {
     "name": "stdout",
     "output_type": "stream",
     "text": [
      "🔄 Autosaved 1544 rows after 112700 new fixtures. [Calls: 112700]\n"
     ]
    },
    {
     "name": "stderr",
     "output_type": "stream",
     "text": [
      "Fetching stats:  77%|███████▋  | 112802/146085 [2:45:24<49:19, 11.24it/s]"
     ]
    },
    {
     "name": "stdout",
     "output_type": "stream",
     "text": [
      "🔄 Autosaved 1328 rows after 112800 new fixtures. [Calls: 112800]\n"
     ]
    },
    {
     "name": "stderr",
     "output_type": "stream",
     "text": [
      "Fetching stats:  77%|███████▋  | 112902/146085 [2:45:33<50:57, 10.85it/s]"
     ]
    },
    {
     "name": "stdout",
     "output_type": "stream",
     "text": [
      "🔄 Autosaved 1200 rows after 112900 new fixtures. [Calls: 112900]\n"
     ]
    },
    {
     "name": "stderr",
     "output_type": "stream",
     "text": [
      "Fetching stats:  77%|███████▋  | 113000/146085 [2:45:42<50:49, 10.85it/s]"
     ]
    },
    {
     "name": "stdout",
     "output_type": "stream",
     "text": [
      "🔄 Autosaved 1372 rows after 113000 new fixtures. [Calls: 113000]\n"
     ]
    },
    {
     "name": "stderr",
     "output_type": "stream",
     "text": [
      "Fetching stats:  77%|███████▋  | 113102/146085 [2:45:51<46:11, 11.90it/s]"
     ]
    },
    {
     "name": "stdout",
     "output_type": "stream",
     "text": [
      "🔄 Autosaved 1408 rows after 113100 new fixtures. [Calls: 113100]\n"
     ]
    },
    {
     "name": "stderr",
     "output_type": "stream",
     "text": [
      "Fetching stats:  77%|███████▋  | 113202/146085 [2:45:59<48:37, 11.27it/s]"
     ]
    },
    {
     "name": "stdout",
     "output_type": "stream",
     "text": [
      "🔄 Autosaved 1510 rows after 113200 new fixtures. [Calls: 113200]\n"
     ]
    },
    {
     "name": "stderr",
     "output_type": "stream",
     "text": [
      "Fetching stats:  78%|███████▊  | 113302/146085 [2:46:08<46:01, 11.87it/s]"
     ]
    },
    {
     "name": "stdout",
     "output_type": "stream",
     "text": [
      "🔄 Autosaved 1528 rows after 113300 new fixtures. [Calls: 113300]\n"
     ]
    },
    {
     "name": "stderr",
     "output_type": "stream",
     "text": [
      "Fetching stats:  78%|███████▊  | 113400/146085 [2:46:16<46:27, 11.73it/s]"
     ]
    },
    {
     "name": "stdout",
     "output_type": "stream",
     "text": [
      "🔄 Autosaved 1494 rows after 113400 new fixtures. [Calls: 113400]\n"
     ]
    },
    {
     "name": "stderr",
     "output_type": "stream",
     "text": [
      "Fetching stats:  78%|███████▊  | 113502/146085 [2:46:25<46:04, 11.79it/s]"
     ]
    },
    {
     "name": "stdout",
     "output_type": "stream",
     "text": [
      "🔄 Autosaved 1564 rows after 113500 new fixtures. [Calls: 113500]\n"
     ]
    },
    {
     "name": "stderr",
     "output_type": "stream",
     "text": [
      "Fetching stats:  78%|███████▊  | 113602/146085 [2:46:34<45:54, 11.79it/s]"
     ]
    },
    {
     "name": "stdout",
     "output_type": "stream",
     "text": [
      "🔄 Autosaved 1566 rows after 113600 new fixtures. [Calls: 113600]\n"
     ]
    },
    {
     "name": "stderr",
     "output_type": "stream",
     "text": [
      "Fetching stats:  78%|███████▊  | 113702/146085 [2:46:42<45:53, 11.76it/s]"
     ]
    },
    {
     "name": "stdout",
     "output_type": "stream",
     "text": [
      "🔄 Autosaved 1536 rows after 113700 new fixtures. [Calls: 113700]\n"
     ]
    },
    {
     "name": "stderr",
     "output_type": "stream",
     "text": [
      "Fetching stats:  78%|███████▊  | 113802/146085 [2:46:51<45:27, 11.84it/s]"
     ]
    },
    {
     "name": "stdout",
     "output_type": "stream",
     "text": [
      "🔄 Autosaved 1438 rows after 113800 new fixtures. [Calls: 113800]\n"
     ]
    },
    {
     "name": "stderr",
     "output_type": "stream",
     "text": [
      "Fetching stats:  78%|███████▊  | 113902/146085 [2:46:59<45:58, 11.67it/s]"
     ]
    },
    {
     "name": "stdout",
     "output_type": "stream",
     "text": [
      "🔄 Autosaved 1392 rows after 113900 new fixtures. [Calls: 113900]\n"
     ]
    },
    {
     "name": "stderr",
     "output_type": "stream",
     "text": [
      "Fetching stats:  78%|███████▊  | 114000/146085 [2:47:07<46:32, 11.49it/s]"
     ]
    },
    {
     "name": "stdout",
     "output_type": "stream",
     "text": [
      "🔄 Autosaved 1398 rows after 114000 new fixtures. [Calls: 114000]\n"
     ]
    },
    {
     "name": "stderr",
     "output_type": "stream",
     "text": [
      "Fetching stats:  78%|███████▊  | 114102/146085 [2:47:16<42:57, 12.41it/s]"
     ]
    },
    {
     "name": "stdout",
     "output_type": "stream",
     "text": [
      "🔄 Autosaved 1396 rows after 114100 new fixtures. [Calls: 114100]\n"
     ]
    },
    {
     "name": "stderr",
     "output_type": "stream",
     "text": [
      "Fetching stats:  78%|███████▊  | 114202/146085 [2:47:24<43:13, 12.29it/s]"
     ]
    },
    {
     "name": "stdout",
     "output_type": "stream",
     "text": [
      "🔄 Autosaved 1378 rows after 114200 new fixtures. [Calls: 114200]\n"
     ]
    },
    {
     "name": "stderr",
     "output_type": "stream",
     "text": [
      "Fetching stats:  78%|███████▊  | 114302/146085 [2:47:32<43:03, 12.30it/s]"
     ]
    },
    {
     "name": "stdout",
     "output_type": "stream",
     "text": [
      "🔄 Autosaved 1322 rows after 114300 new fixtures. [Calls: 114300]\n"
     ]
    },
    {
     "name": "stderr",
     "output_type": "stream",
     "text": [
      "Fetching stats:  78%|███████▊  | 114402/146085 [2:47:41<45:07, 11.70it/s]"
     ]
    },
    {
     "name": "stdout",
     "output_type": "stream",
     "text": [
      "🔄 Autosaved 1376 rows after 114400 new fixtures. [Calls: 114400]\n"
     ]
    },
    {
     "name": "stderr",
     "output_type": "stream",
     "text": [
      "Fetching stats:  78%|███████▊  | 114500/146085 [2:47:49<41:35, 12.66it/s]"
     ]
    },
    {
     "name": "stdout",
     "output_type": "stream",
     "text": [
      "🔄 Autosaved 1380 rows after 114500 new fixtures. [Calls: 114500]\n"
     ]
    },
    {
     "name": "stderr",
     "output_type": "stream",
     "text": [
      "Fetching stats:  78%|███████▊  | 114602/146085 [2:47:57<43:14, 12.13it/s]"
     ]
    },
    {
     "name": "stdout",
     "output_type": "stream",
     "text": [
      "🔄 Autosaved 1370 rows after 114600 new fixtures. [Calls: 114600]\n"
     ]
    },
    {
     "name": "stderr",
     "output_type": "stream",
     "text": [
      "Fetching stats:  79%|███████▊  | 114702/146085 [2:48:06<43:44, 11.96it/s]"
     ]
    },
    {
     "name": "stdout",
     "output_type": "stream",
     "text": [
      "🔄 Autosaved 1354 rows after 114700 new fixtures. [Calls: 114700]\n"
     ]
    },
    {
     "name": "stderr",
     "output_type": "stream",
     "text": [
      "Fetching stats:  79%|███████▊  | 114802/146085 [2:48:14<42:27, 12.28it/s]"
     ]
    },
    {
     "name": "stdout",
     "output_type": "stream",
     "text": [
      "🔄 Autosaved 1390 rows after 114800 new fixtures. [Calls: 114800]\n"
     ]
    },
    {
     "name": "stderr",
     "output_type": "stream",
     "text": [
      "Fetching stats:  79%|███████▊  | 114902/146085 [2:48:22<43:00, 12.08it/s]"
     ]
    },
    {
     "name": "stdout",
     "output_type": "stream",
     "text": [
      "🔄 Autosaved 1394 rows after 114900 new fixtures. [Calls: 114900]\n"
     ]
    },
    {
     "name": "stderr",
     "output_type": "stream",
     "text": [
      "Fetching stats:  79%|███████▊  | 115000/146085 [2:48:30<42:36, 12.16it/s]"
     ]
    },
    {
     "name": "stdout",
     "output_type": "stream",
     "text": [
      "🔄 Autosaved 1464 rows after 115000 new fixtures. [Calls: 115000]\n"
     ]
    },
    {
     "name": "stderr",
     "output_type": "stream",
     "text": [
      "Fetching stats:  79%|███████▉  | 115102/146085 [2:48:40<46:21, 11.14it/s]"
     ]
    },
    {
     "name": "stdout",
     "output_type": "stream",
     "text": [
      "🔄 Autosaved 1548 rows after 115100 new fixtures. [Calls: 115100]\n"
     ]
    },
    {
     "name": "stderr",
     "output_type": "stream",
     "text": [
      "Fetching stats:  79%|███████▉  | 115202/146085 [2:48:49<46:23, 11.09it/s]"
     ]
    },
    {
     "name": "stdout",
     "output_type": "stream",
     "text": [
      "🔄 Autosaved 1518 rows after 115200 new fixtures. [Calls: 115200]\n"
     ]
    },
    {
     "name": "stderr",
     "output_type": "stream",
     "text": [
      "Fetching stats:  79%|███████▉  | 115302/146085 [2:48:57<44:45, 11.46it/s]"
     ]
    },
    {
     "name": "stdout",
     "output_type": "stream",
     "text": [
      "🔄 Autosaved 1558 rows after 115300 new fixtures. [Calls: 115300]\n"
     ]
    },
    {
     "name": "stderr",
     "output_type": "stream",
     "text": [
      "Fetching stats:  79%|███████▉  | 115401/146085 [2:49:06<47:07, 10.85it/s]"
     ]
    },
    {
     "name": "stdout",
     "output_type": "stream",
     "text": [
      "🔄 Autosaved 1582 rows after 115400 new fixtures. [Calls: 115400]\n"
     ]
    },
    {
     "name": "stderr",
     "output_type": "stream",
     "text": [
      "Fetching stats:  79%|███████▉  | 115501/146085 [2:49:15<42:55, 11.88it/s]"
     ]
    },
    {
     "name": "stdout",
     "output_type": "stream",
     "text": [
      "🔄 Autosaved 1544 rows after 115500 new fixtures. [Calls: 115500]\n"
     ]
    },
    {
     "name": "stderr",
     "output_type": "stream",
     "text": [
      "Fetching stats:  79%|███████▉  | 115601/146085 [2:49:24<46:21, 10.96it/s]"
     ]
    },
    {
     "name": "stdout",
     "output_type": "stream",
     "text": [
      "🔄 Autosaved 1530 rows after 115600 new fixtures. [Calls: 115600]\n"
     ]
    },
    {
     "name": "stderr",
     "output_type": "stream",
     "text": [
      "Fetching stats:  79%|███████▉  | 115701/146085 [2:49:33<45:06, 11.23it/s]"
     ]
    },
    {
     "name": "stdout",
     "output_type": "stream",
     "text": [
      "🔄 Autosaved 1530 rows after 115700 new fixtures. [Calls: 115700]\n"
     ]
    },
    {
     "name": "stderr",
     "output_type": "stream",
     "text": [
      "Fetching stats:  79%|███████▉  | 115802/146085 [2:49:42<43:54, 11.49it/s]"
     ]
    },
    {
     "name": "stdout",
     "output_type": "stream",
     "text": [
      "🔄 Autosaved 1542 rows after 115800 new fixtures. [Calls: 115800]\n"
     ]
    },
    {
     "name": "stderr",
     "output_type": "stream",
     "text": [
      "Fetching stats:  79%|███████▉  | 115902/146085 [2:49:51<45:42, 11.00it/s]"
     ]
    },
    {
     "name": "stdout",
     "output_type": "stream",
     "text": [
      "🔄 Autosaved 1546 rows after 115900 new fixtures. [Calls: 115900]\n"
     ]
    },
    {
     "name": "stderr",
     "output_type": "stream",
     "text": [
      "Fetching stats:  79%|███████▉  | 116000/146085 [2:50:00<46:22, 10.81it/s]"
     ]
    },
    {
     "name": "stdout",
     "output_type": "stream",
     "text": [
      "🔄 Autosaved 1516 rows after 116000 new fixtures. [Calls: 116000]\n"
     ]
    },
    {
     "name": "stderr",
     "output_type": "stream",
     "text": [
      "Fetching stats:  79%|███████▉  | 116102/146085 [2:50:09<41:56, 11.92it/s]"
     ]
    },
    {
     "name": "stdout",
     "output_type": "stream",
     "text": [
      "🔄 Autosaved 1394 rows after 116100 new fixtures. [Calls: 116100]\n"
     ]
    },
    {
     "name": "stderr",
     "output_type": "stream",
     "text": [
      "Fetching stats:  80%|███████▉  | 116202/146085 [2:50:17<43:30, 11.45it/s]"
     ]
    },
    {
     "name": "stdout",
     "output_type": "stream",
     "text": [
      "🔄 Autosaved 1392 rows after 116200 new fixtures. [Calls: 116200]\n"
     ]
    },
    {
     "name": "stderr",
     "output_type": "stream",
     "text": [
      "Fetching stats:  80%|███████▉  | 116302/146085 [2:50:25<41:51, 11.86it/s]"
     ]
    },
    {
     "name": "stdout",
     "output_type": "stream",
     "text": [
      "🔄 Autosaved 1384 rows after 116300 new fixtures. [Calls: 116300]\n"
     ]
    },
    {
     "name": "stderr",
     "output_type": "stream",
     "text": [
      "Fetching stats:  80%|███████▉  | 116402/146085 [2:50:34<42:38, 11.60it/s]"
     ]
    },
    {
     "name": "stdout",
     "output_type": "stream",
     "text": [
      "🔄 Autosaved 1394 rows after 116400 new fixtures. [Calls: 116400]\n"
     ]
    },
    {
     "name": "stderr",
     "output_type": "stream",
     "text": [
      "Fetching stats:  80%|███████▉  | 116501/146085 [2:50:43<43:27, 11.34it/s]"
     ]
    },
    {
     "name": "stdout",
     "output_type": "stream",
     "text": [
      "🔄 Autosaved 1254 rows after 116500 new fixtures. [Calls: 116500]\n"
     ]
    },
    {
     "name": "stderr",
     "output_type": "stream",
     "text": [
      "Fetching stats:  80%|███████▉  | 116601/146085 [2:50:52<41:58, 11.71it/s]"
     ]
    },
    {
     "name": "stdout",
     "output_type": "stream",
     "text": [
      "🔄 Autosaved 990 rows after 116600 new fixtures. [Calls: 116600]\n"
     ]
    },
    {
     "name": "stderr",
     "output_type": "stream",
     "text": [
      "Fetching stats:  80%|███████▉  | 116701/146085 [2:51:00<41:02, 11.93it/s]"
     ]
    },
    {
     "name": "stdout",
     "output_type": "stream",
     "text": [
      "🔄 Autosaved 100 rows after 116700 new fixtures. [Calls: 116700]\n"
     ]
    },
    {
     "name": "stderr",
     "output_type": "stream",
     "text": [
      "Fetching stats:  80%|███████▉  | 116801/146085 [2:51:08<41:05, 11.88it/s]"
     ]
    },
    {
     "name": "stdout",
     "output_type": "stream",
     "text": [
      "🔄 Autosaved 1414 rows after 116800 new fixtures. [Calls: 116800]\n"
     ]
    },
    {
     "name": "stderr",
     "output_type": "stream",
     "text": [
      "Fetching stats:  80%|████████  | 116901/146085 [2:51:17<41:16, 11.78it/s]"
     ]
    },
    {
     "name": "stdout",
     "output_type": "stream",
     "text": [
      "🔄 Autosaved 1500 rows after 116900 new fixtures. [Calls: 116900]\n"
     ]
    },
    {
     "name": "stderr",
     "output_type": "stream",
     "text": [
      "Fetching stats:  80%|████████  | 117001/146085 [2:51:25<43:43, 11.09it/s]"
     ]
    },
    {
     "name": "stdout",
     "output_type": "stream",
     "text": [
      "🔄 Autosaved 1472 rows after 117000 new fixtures. [Calls: 117000]\n"
     ]
    },
    {
     "name": "stderr",
     "output_type": "stream",
     "text": [
      "Fetching stats:  80%|████████  | 117101/146085 [2:51:34<39:57, 12.09it/s]"
     ]
    },
    {
     "name": "stdout",
     "output_type": "stream",
     "text": [
      "🔄 Autosaved 208 rows after 117100 new fixtures. [Calls: 117100]\n"
     ]
    },
    {
     "name": "stderr",
     "output_type": "stream",
     "text": [
      "Fetching stats:  80%|████████  | 117201/146085 [2:51:42<40:38, 11.85it/s]"
     ]
    },
    {
     "name": "stdout",
     "output_type": "stream",
     "text": [
      "🔄 Autosaved 60 rows after 117200 new fixtures. [Calls: 117200]\n"
     ]
    },
    {
     "name": "stderr",
     "output_type": "stream",
     "text": [
      "Fetching stats:  80%|████████  | 117301/146085 [2:51:51<41:28, 11.57it/s]"
     ]
    },
    {
     "name": "stdout",
     "output_type": "stream",
     "text": [
      "🔄 Autosaved 1304 rows after 117300 new fixtures. [Calls: 117300]\n"
     ]
    },
    {
     "name": "stderr",
     "output_type": "stream",
     "text": [
      "Fetching stats:  80%|████████  | 117401/146085 [2:51:59<41:34, 11.50it/s]"
     ]
    },
    {
     "name": "stdout",
     "output_type": "stream",
     "text": [
      "🔄 Autosaved 1534 rows after 117400 new fixtures. [Calls: 117400]\n"
     ]
    },
    {
     "name": "stderr",
     "output_type": "stream",
     "text": [
      "Fetching stats:  80%|████████  | 117501/146085 [2:52:08<39:20, 12.11it/s]"
     ]
    },
    {
     "name": "stdout",
     "output_type": "stream",
     "text": [
      "🔄 Autosaved 1580 rows after 117500 new fixtures. [Calls: 117500]\n"
     ]
    },
    {
     "name": "stderr",
     "output_type": "stream",
     "text": [
      "Fetching stats:  81%|████████  | 117601/146085 [2:52:16<39:22, 12.06it/s]"
     ]
    },
    {
     "name": "stdout",
     "output_type": "stream",
     "text": [
      "🔄 Autosaved 1538 rows after 117600 new fixtures. [Calls: 117600]\n"
     ]
    },
    {
     "name": "stderr",
     "output_type": "stream",
     "text": [
      "Fetching stats:  81%|████████  | 117701/146085 [2:52:24<39:27, 11.99it/s]"
     ]
    },
    {
     "name": "stdout",
     "output_type": "stream",
     "text": [
      "🔄 Autosaved 1558 rows after 117700 new fixtures. [Calls: 117700]\n"
     ]
    },
    {
     "name": "stderr",
     "output_type": "stream",
     "text": [
      "Fetching stats:  81%|████████  | 117801/146085 [2:52:33<39:42, 11.87it/s]"
     ]
    },
    {
     "name": "stdout",
     "output_type": "stream",
     "text": [
      "🔄 Autosaved 1560 rows after 117800 new fixtures. [Calls: 117800]\n"
     ]
    },
    {
     "name": "stderr",
     "output_type": "stream",
     "text": [
      "Fetching stats:  81%|████████  | 117901/146085 [2:52:41<39:33, 11.88it/s]"
     ]
    },
    {
     "name": "stdout",
     "output_type": "stream",
     "text": [
      "🔄 Autosaved 1536 rows after 117900 new fixtures. [Calls: 117900]\n"
     ]
    },
    {
     "name": "stderr",
     "output_type": "stream",
     "text": [
      "Fetching stats:  81%|████████  | 118001/146085 [2:52:50<43:10, 10.84it/s]"
     ]
    },
    {
     "name": "stdout",
     "output_type": "stream",
     "text": [
      "🔄 Autosaved 1360 rows after 118000 new fixtures. [Calls: 118000]\n"
     ]
    },
    {
     "name": "stderr",
     "output_type": "stream",
     "text": [
      "Fetching stats:  81%|████████  | 118101/146085 [2:52:58<37:46, 12.35it/s]"
     ]
    },
    {
     "name": "stdout",
     "output_type": "stream",
     "text": [
      "🔄 Autosaved 12 rows after 118100 new fixtures. [Calls: 118100]\n"
     ]
    },
    {
     "name": "stderr",
     "output_type": "stream",
     "text": [
      "Fetching stats:  81%|████████  | 118401/146085 [2:53:23<38:09, 12.09it/s]"
     ]
    },
    {
     "name": "stdout",
     "output_type": "stream",
     "text": [
      "🔄 Autosaved 394 rows after 118400 new fixtures. [Calls: 118400]\n"
     ]
    },
    {
     "name": "stderr",
     "output_type": "stream",
     "text": [
      "Fetching stats:  81%|████████  | 118501/146085 [2:53:31<39:43, 11.57it/s]"
     ]
    },
    {
     "name": "stdout",
     "output_type": "stream",
     "text": [
      "🔄 Autosaved 1384 rows after 118500 new fixtures. [Calls: 118500]\n"
     ]
    },
    {
     "name": "stderr",
     "output_type": "stream",
     "text": [
      "Fetching stats:  81%|████████  | 118601/146085 [2:53:40<39:01, 11.74it/s]"
     ]
    },
    {
     "name": "stdout",
     "output_type": "stream",
     "text": [
      "🔄 Autosaved 1392 rows after 118600 new fixtures. [Calls: 118600]\n"
     ]
    },
    {
     "name": "stderr",
     "output_type": "stream",
     "text": [
      "Fetching stats:  81%|████████▏ | 118701/146085 [2:53:48<37:32, 12.16it/s]"
     ]
    },
    {
     "name": "stdout",
     "output_type": "stream",
     "text": [
      "🔄 Autosaved 1400 rows after 118700 new fixtures. [Calls: 118700]\n"
     ]
    },
    {
     "name": "stderr",
     "output_type": "stream",
     "text": [
      "Fetching stats:  81%|████████▏ | 118801/146085 [2:53:56<37:03, 12.27it/s]"
     ]
    },
    {
     "name": "stdout",
     "output_type": "stream",
     "text": [
      "🔄 Autosaved 794 rows after 118800 new fixtures. [Calls: 118800]\n"
     ]
    },
    {
     "name": "stderr",
     "output_type": "stream",
     "text": [
      "Fetching stats:  81%|████████▏ | 118901/146085 [2:54:04<36:47, 12.31it/s]"
     ]
    },
    {
     "name": "stdout",
     "output_type": "stream",
     "text": [
      "🔄 Autosaved 194 rows after 118900 new fixtures. [Calls: 118900]\n"
     ]
    },
    {
     "name": "stderr",
     "output_type": "stream",
     "text": [
      "Fetching stats:  81%|████████▏ | 119001/146085 [2:54:13<40:36, 11.12it/s]"
     ]
    },
    {
     "name": "stdout",
     "output_type": "stream",
     "text": [
      "🔄 Autosaved 520 rows after 119000 new fixtures. [Calls: 119000]\n"
     ]
    },
    {
     "name": "stderr",
     "output_type": "stream",
     "text": [
      "Fetching stats:  82%|████████▏ | 119101/146085 [2:54:21<39:26, 11.40it/s]"
     ]
    },
    {
     "name": "stdout",
     "output_type": "stream",
     "text": [
      "🔄 Autosaved 268 rows after 119100 new fixtures. [Calls: 119100]\n"
     ]
    },
    {
     "name": "stderr",
     "output_type": "stream",
     "text": [
      "Fetching stats:  82%|████████▏ | 119201/146085 [2:54:30<38:57, 11.50it/s]"
     ]
    },
    {
     "name": "stdout",
     "output_type": "stream",
     "text": [
      "🔄 Autosaved 722 rows after 119200 new fixtures. [Calls: 119200]\n"
     ]
    },
    {
     "name": "stderr",
     "output_type": "stream",
     "text": [
      "Fetching stats:  82%|████████▏ | 119301/146085 [2:54:44<49:15,  9.06it/s]  "
     ]
    },
    {
     "name": "stdout",
     "output_type": "stream",
     "text": [
      "🔄 Autosaved 816 rows after 119300 new fixtures. [Calls: 119300]\n"
     ]
    },
    {
     "name": "stderr",
     "output_type": "stream",
     "text": [
      "Fetching stats:  82%|████████▏ | 119400/146085 [2:54:55<42:55, 10.36it/s]  "
     ]
    },
    {
     "name": "stdout",
     "output_type": "stream",
     "text": [
      "🔄 Autosaved 1030 rows after 119400 new fixtures. [Calls: 119400]\n"
     ]
    },
    {
     "name": "stderr",
     "output_type": "stream",
     "text": [
      "Fetching stats:  82%|████████▏ | 119502/146085 [2:55:05<42:46, 10.36it/s]"
     ]
    },
    {
     "name": "stdout",
     "output_type": "stream",
     "text": [
      "🔄 Autosaved 1200 rows after 119500 new fixtures. [Calls: 119500]\n"
     ]
    },
    {
     "name": "stderr",
     "output_type": "stream",
     "text": [
      "Fetching stats:  82%|████████▏ | 119600/146085 [2:55:15<44:48,  9.85it/s]"
     ]
    },
    {
     "name": "stdout",
     "output_type": "stream",
     "text": [
      "🔄 Autosaved 1356 rows after 119600 new fixtures. [Calls: 119600]\n"
     ]
    },
    {
     "name": "stderr",
     "output_type": "stream",
     "text": [
      "Fetching stats:  82%|████████▏ | 119701/146085 [2:55:25<43:01, 10.22it/s]"
     ]
    },
    {
     "name": "stdout",
     "output_type": "stream",
     "text": [
      "🔄 Autosaved 1392 rows after 119700 new fixtures. [Calls: 119700]\n"
     ]
    },
    {
     "name": "stderr",
     "output_type": "stream",
     "text": [
      "Fetching stats:  82%|████████▏ | 119801/146085 [2:55:36<45:00,  9.73it/s]"
     ]
    },
    {
     "name": "stdout",
     "output_type": "stream",
     "text": [
      "🔄 Autosaved 1564 rows after 119800 new fixtures. [Calls: 119800]\n"
     ]
    },
    {
     "name": "stderr",
     "output_type": "stream",
     "text": [
      "Fetching stats:  82%|████████▏ | 119902/146085 [2:55:46<40:33, 10.76it/s]  "
     ]
    },
    {
     "name": "stdout",
     "output_type": "stream",
     "text": [
      "🔄 Autosaved 1478 rows after 119900 new fixtures. [Calls: 119900]\n"
     ]
    },
    {
     "name": "stderr",
     "output_type": "stream",
     "text": [
      "Fetching stats:  82%|████████▏ | 120001/146085 [2:55:56<43:20, 10.03it/s]"
     ]
    },
    {
     "name": "stdout",
     "output_type": "stream",
     "text": [
      "🔄 Autosaved 1518 rows after 120000 new fixtures. [Calls: 120000]\n"
     ]
    },
    {
     "name": "stderr",
     "output_type": "stream",
     "text": [
      "Fetching stats:  82%|████████▏ | 120101/146085 [2:56:05<37:28, 11.56it/s]"
     ]
    },
    {
     "name": "stdout",
     "output_type": "stream",
     "text": [
      "🔄 Autosaved 1262 rows after 120100 new fixtures. [Calls: 120100]\n"
     ]
    },
    {
     "name": "stderr",
     "output_type": "stream",
     "text": [
      "Fetching stats:  82%|████████▏ | 120201/146085 [2:56:13<36:22, 11.86it/s]"
     ]
    },
    {
     "name": "stdout",
     "output_type": "stream",
     "text": [
      "🔄 Autosaved 1220 rows after 120200 new fixtures. [Calls: 120200]\n"
     ]
    },
    {
     "name": "stderr",
     "output_type": "stream",
     "text": [
      "Fetching stats:  82%|████████▏ | 120301/146085 [2:56:22<36:52, 11.65it/s]"
     ]
    },
    {
     "name": "stdout",
     "output_type": "stream",
     "text": [
      "🔄 Autosaved 1386 rows after 120300 new fixtures. [Calls: 120300]\n"
     ]
    },
    {
     "name": "stderr",
     "output_type": "stream",
     "text": [
      "Fetching stats:  82%|████████▏ | 120401/146085 [2:56:31<36:25, 11.75it/s]"
     ]
    },
    {
     "name": "stdout",
     "output_type": "stream",
     "text": [
      "🔄 Autosaved 1470 rows after 120400 new fixtures. [Calls: 120400]\n"
     ]
    },
    {
     "name": "stderr",
     "output_type": "stream",
     "text": [
      "Fetching stats:  82%|████████▏ | 120501/146085 [2:56:40<37:15, 11.44it/s]"
     ]
    },
    {
     "name": "stdout",
     "output_type": "stream",
     "text": [
      "🔄 Autosaved 1590 rows after 120500 new fixtures. [Calls: 120500]\n"
     ]
    },
    {
     "name": "stderr",
     "output_type": "stream",
     "text": [
      "Fetching stats:  83%|████████▎ | 120601/146085 [2:56:49<38:58, 10.90it/s]"
     ]
    },
    {
     "name": "stdout",
     "output_type": "stream",
     "text": [
      "🔄 Autosaved 1560 rows after 120600 new fixtures. [Calls: 120600]\n"
     ]
    },
    {
     "name": "stderr",
     "output_type": "stream",
     "text": [
      "Fetching stats:  83%|████████▎ | 120701/146085 [2:56:58<37:04, 11.41it/s]"
     ]
    },
    {
     "name": "stdout",
     "output_type": "stream",
     "text": [
      "🔄 Autosaved 1566 rows after 120700 new fixtures. [Calls: 120700]\n"
     ]
    },
    {
     "name": "stderr",
     "output_type": "stream",
     "text": [
      "Fetching stats:  83%|████████▎ | 120801/146085 [2:57:07<37:29, 11.24it/s]"
     ]
    },
    {
     "name": "stdout",
     "output_type": "stream",
     "text": [
      "🔄 Autosaved 1548 rows after 120800 new fixtures. [Calls: 120800]\n"
     ]
    },
    {
     "name": "stderr",
     "output_type": "stream",
     "text": [
      "Fetching stats:  83%|████████▎ | 120901/146085 [2:57:16<35:56, 11.68it/s]"
     ]
    },
    {
     "name": "stdout",
     "output_type": "stream",
     "text": [
      "🔄 Autosaved 1390 rows after 120900 new fixtures. [Calls: 120900]\n"
     ]
    },
    {
     "name": "stderr",
     "output_type": "stream",
     "text": [
      "Fetching stats:  83%|████████▎ | 121001/146085 [2:57:25<42:12,  9.91it/s]"
     ]
    },
    {
     "name": "stdout",
     "output_type": "stream",
     "text": [
      "🔄 Autosaved 1420 rows after 121000 new fixtures. [Calls: 121000]\n"
     ]
    },
    {
     "name": "stderr",
     "output_type": "stream",
     "text": [
      "Fetching stats:  83%|████████▎ | 121100/146085 [2:57:35<48:25,  8.60it/s]  "
     ]
    },
    {
     "name": "stdout",
     "output_type": "stream",
     "text": [
      "🔄 Autosaved 1568 rows after 121100 new fixtures. [Calls: 121100]\n"
     ]
    },
    {
     "name": "stderr",
     "output_type": "stream",
     "text": [
      "Fetching stats:  83%|████████▎ | 121202/146085 [2:57:45<38:56, 10.65it/s]"
     ]
    },
    {
     "name": "stdout",
     "output_type": "stream",
     "text": [
      "🔄 Autosaved 1582 rows after 121200 new fixtures. [Calls: 121200]\n"
     ]
    },
    {
     "name": "stderr",
     "output_type": "stream",
     "text": [
      "Fetching stats:  83%|████████▎ | 121302/146085 [2:57:54<38:04, 10.85it/s]"
     ]
    },
    {
     "name": "stdout",
     "output_type": "stream",
     "text": [
      "🔄 Autosaved 1564 rows after 121300 new fixtures. [Calls: 121300]\n"
     ]
    },
    {
     "name": "stderr",
     "output_type": "stream",
     "text": [
      "Fetching stats:  83%|████████▎ | 121402/146085 [2:58:03<38:37, 10.65it/s]"
     ]
    },
    {
     "name": "stdout",
     "output_type": "stream",
     "text": [
      "🔄 Autosaved 1600 rows after 121400 new fixtures. [Calls: 121400]\n"
     ]
    },
    {
     "name": "stderr",
     "output_type": "stream",
     "text": [
      "Fetching stats:  83%|████████▎ | 121500/146085 [2:58:13<38:02, 10.77it/s]"
     ]
    },
    {
     "name": "stdout",
     "output_type": "stream",
     "text": [
      "🔄 Autosaved 1570 rows after 121500 new fixtures. [Calls: 121500]\n"
     ]
    },
    {
     "name": "stderr",
     "output_type": "stream",
     "text": [
      "Fetching stats:  83%|████████▎ | 121602/146085 [2:58:23<37:25, 10.90it/s]"
     ]
    },
    {
     "name": "stdout",
     "output_type": "stream",
     "text": [
      "🔄 Autosaved 1586 rows after 121600 new fixtures. [Calls: 121600]\n"
     ]
    },
    {
     "name": "stderr",
     "output_type": "stream",
     "text": [
      "Fetching stats:  83%|████████▎ | 121702/146085 [2:58:32<36:45, 11.06it/s]"
     ]
    },
    {
     "name": "stdout",
     "output_type": "stream",
     "text": [
      "🔄 Autosaved 1510 rows after 121700 new fixtures. [Calls: 121700]\n"
     ]
    },
    {
     "name": "stderr",
     "output_type": "stream",
     "text": [
      "Fetching stats:  83%|████████▎ | 121802/146085 [2:58:41<37:44, 10.73it/s]"
     ]
    },
    {
     "name": "stdout",
     "output_type": "stream",
     "text": [
      "🔄 Autosaved 1458 rows after 121800 new fixtures. [Calls: 121800]\n"
     ]
    },
    {
     "name": "stderr",
     "output_type": "stream",
     "text": [
      "Fetching stats:  83%|████████▎ | 121902/146085 [2:58:51<38:47, 10.39it/s]"
     ]
    },
    {
     "name": "stdout",
     "output_type": "stream",
     "text": [
      "🔄 Autosaved 1592 rows after 121900 new fixtures. [Calls: 121900]\n"
     ]
    },
    {
     "name": "stderr",
     "output_type": "stream",
     "text": [
      "Fetching stats:  84%|████████▎ | 122001/146085 [2:59:00<44:47,  8.96it/s]"
     ]
    },
    {
     "name": "stdout",
     "output_type": "stream",
     "text": [
      "🔄 Autosaved 1576 rows after 122000 new fixtures. [Calls: 122000]\n"
     ]
    },
    {
     "name": "stderr",
     "output_type": "stream",
     "text": [
      "Fetching stats:  84%|████████▎ | 122101/146085 [2:59:09<35:36, 11.22it/s]"
     ]
    },
    {
     "name": "stdout",
     "output_type": "stream",
     "text": [
      "🔄 Autosaved 1582 rows after 122100 new fixtures. [Calls: 122100]\n"
     ]
    },
    {
     "name": "stderr",
     "output_type": "stream",
     "text": [
      "Fetching stats:  84%|████████▎ | 122201/146085 [2:59:18<36:00, 11.05it/s]"
     ]
    },
    {
     "name": "stdout",
     "output_type": "stream",
     "text": [
      "🔄 Autosaved 1590 rows after 122200 new fixtures. [Calls: 122200]\n"
     ]
    },
    {
     "name": "stderr",
     "output_type": "stream",
     "text": [
      "Fetching stats:  84%|████████▎ | 122301/146085 [2:59:28<35:42, 11.10it/s]"
     ]
    },
    {
     "name": "stdout",
     "output_type": "stream",
     "text": [
      "🔄 Autosaved 1554 rows after 122300 new fixtures. [Calls: 122300]\n"
     ]
    },
    {
     "name": "stderr",
     "output_type": "stream",
     "text": [
      "Fetching stats:  84%|████████▍ | 122401/146085 [2:59:37<43:28,  9.08it/s]"
     ]
    },
    {
     "name": "stdout",
     "output_type": "stream",
     "text": [
      "🔄 Autosaved 1440 rows after 122400 new fixtures. [Calls: 122400]\n"
     ]
    },
    {
     "name": "stderr",
     "output_type": "stream",
     "text": [
      "Fetching stats:  84%|████████▍ | 122501/146085 [2:59:47<35:58, 10.93it/s]"
     ]
    },
    {
     "name": "stdout",
     "output_type": "stream",
     "text": [
      "🔄 Autosaved 1578 rows after 122500 new fixtures. [Calls: 122500]\n"
     ]
    },
    {
     "name": "stderr",
     "output_type": "stream",
     "text": [
      "Fetching stats:  84%|████████▍ | 122601/146085 [2:59:56<34:47, 11.25it/s]"
     ]
    },
    {
     "name": "stdout",
     "output_type": "stream",
     "text": [
      "🔄 Autosaved 1576 rows after 122600 new fixtures. [Calls: 122600]\n"
     ]
    },
    {
     "name": "stderr",
     "output_type": "stream",
     "text": [
      "Fetching stats:  84%|████████▍ | 122701/146085 [3:00:06<37:35, 10.37it/s]"
     ]
    },
    {
     "name": "stdout",
     "output_type": "stream",
     "text": [
      "🔄 Autosaved 1556 rows after 122700 new fixtures. [Calls: 122700]\n"
     ]
    },
    {
     "name": "stderr",
     "output_type": "stream",
     "text": [
      "Fetching stats:  84%|████████▍ | 122801/146085 [3:00:15<35:35, 10.90it/s]"
     ]
    },
    {
     "name": "stdout",
     "output_type": "stream",
     "text": [
      "🔄 Autosaved 1590 rows after 122800 new fixtures. [Calls: 122800]\n"
     ]
    },
    {
     "name": "stderr",
     "output_type": "stream",
     "text": [
      "Fetching stats:  84%|████████▍ | 122901/146085 [3:00:24<35:35, 10.86it/s]"
     ]
    },
    {
     "name": "stdout",
     "output_type": "stream",
     "text": [
      "🔄 Autosaved 1580 rows after 122900 new fixtures. [Calls: 122900]\n"
     ]
    },
    {
     "name": "stderr",
     "output_type": "stream",
     "text": [
      "Fetching stats:  84%|████████▍ | 122999/146085 [3:00:33<36:57, 10.41it/s]"
     ]
    },
    {
     "name": "stdout",
     "output_type": "stream",
     "text": [
      "🔄 Autosaved 1494 rows after 123000 new fixtures. [Calls: 123000]\n"
     ]
    },
    {
     "name": "stderr",
     "output_type": "stream",
     "text": [
      "Fetching stats:  84%|████████▍ | 123101/146085 [3:00:43<34:30, 11.10it/s]"
     ]
    },
    {
     "name": "stdout",
     "output_type": "stream",
     "text": [
      "🔄 Autosaved 1394 rows after 123100 new fixtures. [Calls: 123100]\n"
     ]
    },
    {
     "name": "stderr",
     "output_type": "stream",
     "text": [
      "Fetching stats:  84%|████████▍ | 123202/146085 [3:00:52<35:25, 10.77it/s]"
     ]
    },
    {
     "name": "stdout",
     "output_type": "stream",
     "text": [
      "🔄 Autosaved 1378 rows after 123200 new fixtures. [Calls: 123200]\n"
     ]
    },
    {
     "name": "stderr",
     "output_type": "stream",
     "text": [
      "Fetching stats:  84%|████████▍ | 123302/146085 [3:01:01<34:09, 11.12it/s]"
     ]
    },
    {
     "name": "stdout",
     "output_type": "stream",
     "text": [
      "🔄 Autosaved 1450 rows after 123300 new fixtures. [Calls: 123300]\n"
     ]
    },
    {
     "name": "stderr",
     "output_type": "stream",
     "text": [
      "Fetching stats:  84%|████████▍ | 123401/146085 [3:01:11<35:08, 10.76it/s]  "
     ]
    },
    {
     "name": "stdout",
     "output_type": "stream",
     "text": [
      "🔄 Autosaved 1558 rows after 123400 new fixtures. [Calls: 123400]\n"
     ]
    },
    {
     "name": "stderr",
     "output_type": "stream",
     "text": [
      "Fetching stats:  85%|████████▍ | 123501/146085 [3:01:20<35:06, 10.72it/s]"
     ]
    },
    {
     "name": "stdout",
     "output_type": "stream",
     "text": [
      "🔄 Autosaved 1396 rows after 123500 new fixtures. [Calls: 123500]\n"
     ]
    },
    {
     "name": "stderr",
     "output_type": "stream",
     "text": [
      "Fetching stats:  85%|████████▍ | 123602/146085 [3:01:30<32:20, 11.58it/s]  "
     ]
    },
    {
     "name": "stdout",
     "output_type": "stream",
     "text": [
      "🔄 Autosaved 1398 rows after 123600 new fixtures. [Calls: 123600]\n"
     ]
    },
    {
     "name": "stderr",
     "output_type": "stream",
     "text": [
      "Fetching stats:  85%|████████▍ | 123702/146085 [3:01:39<32:02, 11.64it/s]"
     ]
    },
    {
     "name": "stdout",
     "output_type": "stream",
     "text": [
      "🔄 Autosaved 1400 rows after 123700 new fixtures. [Calls: 123700]\n"
     ]
    },
    {
     "name": "stderr",
     "output_type": "stream",
     "text": [
      "Fetching stats:  85%|████████▍ | 123802/146085 [3:01:50<32:39, 11.37it/s]  "
     ]
    },
    {
     "name": "stdout",
     "output_type": "stream",
     "text": [
      "🔄 Autosaved 1388 rows after 123800 new fixtures. [Calls: 123800]\n"
     ]
    },
    {
     "name": "stderr",
     "output_type": "stream",
     "text": [
      "Fetching stats:  85%|████████▍ | 123900/146085 [3:01:58<33:43, 10.97it/s]"
     ]
    },
    {
     "name": "stdout",
     "output_type": "stream",
     "text": [
      "🔄 Autosaved 1362 rows after 123900 new fixtures. [Calls: 123900]\n"
     ]
    },
    {
     "name": "stderr",
     "output_type": "stream",
     "text": [
      "Fetching stats:  85%|████████▍ | 124000/146085 [3:02:08<32:40, 11.27it/s]  "
     ]
    },
    {
     "name": "stdout",
     "output_type": "stream",
     "text": [
      "🔄 Autosaved 1480 rows after 124000 new fixtures. [Calls: 124000]\n"
     ]
    },
    {
     "name": "stderr",
     "output_type": "stream",
     "text": [
      "Fetching stats:  85%|████████▍ | 124102/146085 [3:02:17<33:38, 10.89it/s]"
     ]
    },
    {
     "name": "stdout",
     "output_type": "stream",
     "text": [
      "🔄 Autosaved 1528 rows after 124100 new fixtures. [Calls: 124100]\n"
     ]
    },
    {
     "name": "stderr",
     "output_type": "stream",
     "text": [
      "Fetching stats:  85%|████████▌ | 124201/146085 [3:02:27<36:50,  9.90it/s]  "
     ]
    },
    {
     "name": "stdout",
     "output_type": "stream",
     "text": [
      "🔄 Autosaved 1578 rows after 124200 new fixtures. [Calls: 124200]\n"
     ]
    },
    {
     "name": "stderr",
     "output_type": "stream",
     "text": [
      "Fetching stats:  85%|████████▌ | 124301/146085 [3:02:37<33:10, 10.94it/s]"
     ]
    },
    {
     "name": "stdout",
     "output_type": "stream",
     "text": [
      "🔄 Autosaved 1554 rows after 124300 new fixtures. [Calls: 124300]\n"
     ]
    },
    {
     "name": "stderr",
     "output_type": "stream",
     "text": [
      "Fetching stats:  85%|████████▌ | 124401/146085 [3:02:46<32:05, 11.26it/s]"
     ]
    },
    {
     "name": "stdout",
     "output_type": "stream",
     "text": [
      "🔄 Autosaved 1442 rows after 124400 new fixtures. [Calls: 124400]\n"
     ]
    },
    {
     "name": "stderr",
     "output_type": "stream",
     "text": [
      "Fetching stats:  85%|████████▌ | 124502/146085 [3:02:55<33:07, 10.86it/s]  "
     ]
    },
    {
     "name": "stdout",
     "output_type": "stream",
     "text": [
      "🔄 Autosaved 1568 rows after 124500 new fixtures. [Calls: 124500]\n"
     ]
    },
    {
     "name": "stderr",
     "output_type": "stream",
     "text": [
      "Fetching stats:  85%|████████▌ | 124602/146085 [3:03:04<33:22, 10.73it/s]"
     ]
    },
    {
     "name": "stdout",
     "output_type": "stream",
     "text": [
      "🔄 Autosaved 1560 rows after 124600 new fixtures. [Calls: 124600]\n"
     ]
    },
    {
     "name": "stderr",
     "output_type": "stream",
     "text": [
      "Fetching stats:  85%|████████▌ | 124702/146085 [3:03:14<31:09, 11.44it/s]  "
     ]
    },
    {
     "name": "stdout",
     "output_type": "stream",
     "text": [
      "🔄 Autosaved 1518 rows after 124700 new fixtures. [Calls: 124700]\n"
     ]
    },
    {
     "name": "stderr",
     "output_type": "stream",
     "text": [
      "Fetching stats:  85%|████████▌ | 124802/146085 [3:03:23<30:21, 11.68it/s]"
     ]
    },
    {
     "name": "stdout",
     "output_type": "stream",
     "text": [
      "🔄 Autosaved 1526 rows after 124800 new fixtures. [Calls: 124800]\n"
     ]
    },
    {
     "name": "stderr",
     "output_type": "stream",
     "text": [
      "Fetching stats:  85%|████████▌ | 124901/146085 [3:03:33<33:09, 10.65it/s]  "
     ]
    },
    {
     "name": "stdout",
     "output_type": "stream",
     "text": [
      "🔄 Autosaved 1570 rows after 124900 new fixtures. [Calls: 124900]\n"
     ]
    },
    {
     "name": "stderr",
     "output_type": "stream",
     "text": [
      "Fetching stats:  86%|████████▌ | 125001/146085 [3:03:42<36:27,  9.64it/s]"
     ]
    },
    {
     "name": "stdout",
     "output_type": "stream",
     "text": [
      "🔄 Autosaved 1574 rows after 125000 new fixtures. [Calls: 125000]\n"
     ]
    },
    {
     "name": "stderr",
     "output_type": "stream",
     "text": [
      "Fetching stats:  86%|████████▌ | 125102/146085 [3:03:52<34:56, 10.01it/s]  "
     ]
    },
    {
     "name": "stdout",
     "output_type": "stream",
     "text": [
      "🔄 Autosaved 1550 rows after 125100 new fixtures. [Calls: 125100]\n"
     ]
    },
    {
     "name": "stderr",
     "output_type": "stream",
     "text": [
      "Fetching stats:  86%|████████▌ | 125202/146085 [3:04:00<31:24, 11.08it/s]"
     ]
    },
    {
     "name": "stdout",
     "output_type": "stream",
     "text": [
      "🔄 Autosaved 1566 rows after 125200 new fixtures. [Calls: 125200]\n"
     ]
    },
    {
     "name": "stderr",
     "output_type": "stream",
     "text": [
      "Fetching stats:  86%|████████▌ | 125302/146085 [3:04:09<30:11, 11.47it/s]"
     ]
    },
    {
     "name": "stdout",
     "output_type": "stream",
     "text": [
      "🔄 Autosaved 1514 rows after 125300 new fixtures. [Calls: 125300]\n"
     ]
    },
    {
     "name": "stderr",
     "output_type": "stream",
     "text": [
      "Fetching stats:  86%|████████▌ | 125400/146085 [3:04:19<28:52, 11.94it/s]  "
     ]
    },
    {
     "name": "stdout",
     "output_type": "stream",
     "text": [
      "🔄 Autosaved 1508 rows after 125400 new fixtures. [Calls: 125400]\n"
     ]
    },
    {
     "name": "stderr",
     "output_type": "stream",
     "text": [
      "Fetching stats:  86%|████████▌ | 125502/146085 [3:04:28<31:44, 10.81it/s]"
     ]
    },
    {
     "name": "stdout",
     "output_type": "stream",
     "text": [
      "🔄 Autosaved 1444 rows after 125500 new fixtures. [Calls: 125500]\n"
     ]
    },
    {
     "name": "stderr",
     "output_type": "stream",
     "text": [
      "Fetching stats:  86%|████████▌ | 125601/146085 [3:04:38<33:07, 10.31it/s]  "
     ]
    },
    {
     "name": "stdout",
     "output_type": "stream",
     "text": [
      "🔄 Autosaved 1524 rows after 125600 new fixtures. [Calls: 125600]\n"
     ]
    },
    {
     "name": "stderr",
     "output_type": "stream",
     "text": [
      "Fetching stats:  86%|████████▌ | 125701/146085 [3:04:48<29:49, 11.39it/s]"
     ]
    },
    {
     "name": "stdout",
     "output_type": "stream",
     "text": [
      "🔄 Autosaved 1594 rows after 125700 new fixtures. [Calls: 125700]\n"
     ]
    },
    {
     "name": "stderr",
     "output_type": "stream",
     "text": [
      "Fetching stats:  86%|████████▌ | 125801/146085 [3:04:58<29:14, 11.56it/s]  "
     ]
    },
    {
     "name": "stdout",
     "output_type": "stream",
     "text": [
      "🔄 Autosaved 1318 rows after 125800 new fixtures. [Calls: 125800]\n"
     ]
    },
    {
     "name": "stderr",
     "output_type": "stream",
     "text": [
      "Fetching stats:  86%|████████▌ | 125901/146085 [3:05:06<28:21, 11.86it/s]"
     ]
    },
    {
     "name": "stdout",
     "output_type": "stream",
     "text": [
      "🔄 Autosaved 958 rows after 125900 new fixtures. [Calls: 125900]\n"
     ]
    },
    {
     "name": "stderr",
     "output_type": "stream",
     "text": [
      "Fetching stats:  86%|████████▋ | 126102/146085 [3:05:24<28:49, 11.55it/s]  "
     ]
    },
    {
     "name": "stdout",
     "output_type": "stream",
     "text": [
      "🔄 Autosaved 776 rows after 126100 new fixtures. [Calls: 126100]\n"
     ]
    },
    {
     "name": "stderr",
     "output_type": "stream",
     "text": [
      "Fetching stats:  86%|████████▋ | 126202/146085 [3:05:33<28:21, 11.68it/s]"
     ]
    },
    {
     "name": "stdout",
     "output_type": "stream",
     "text": [
      "🔄 Autosaved 1596 rows after 126200 new fixtures. [Calls: 126200]\n"
     ]
    },
    {
     "name": "stderr",
     "output_type": "stream",
     "text": [
      "Fetching stats:  86%|████████▋ | 126302/146085 [3:05:42<28:34, 11.54it/s]  "
     ]
    },
    {
     "name": "stdout",
     "output_type": "stream",
     "text": [
      "🔄 Autosaved 1596 rows after 126300 new fixtures. [Calls: 126300]\n"
     ]
    },
    {
     "name": "stderr",
     "output_type": "stream",
     "text": [
      "Fetching stats:  87%|████████▋ | 126402/146085 [3:05:51<28:13, 11.62it/s]"
     ]
    },
    {
     "name": "stdout",
     "output_type": "stream",
     "text": [
      "🔄 Autosaved 1550 rows after 126400 new fixtures. [Calls: 126400]\n"
     ]
    },
    {
     "name": "stderr",
     "output_type": "stream",
     "text": [
      "Fetching stats:  87%|████████▋ | 126502/146085 [3:06:00<26:51, 12.15it/s]  "
     ]
    },
    {
     "name": "stdout",
     "output_type": "stream",
     "text": [
      "🔄 Autosaved 760 rows after 126500 new fixtures. [Calls: 126500]\n"
     ]
    },
    {
     "name": "stderr",
     "output_type": "stream",
     "text": [
      "Fetching stats:  87%|████████▋ | 126602/146085 [3:06:08<25:31, 12.73it/s]"
     ]
    },
    {
     "name": "stdout",
     "output_type": "stream",
     "text": [
      "🔄 Autosaved 20 rows after 126600 new fixtures. [Calls: 126600]\n"
     ]
    },
    {
     "name": "stderr",
     "output_type": "stream",
     "text": [
      "Fetching stats:  87%|████████▋ | 126702/146085 [3:06:16<27:45, 11.64it/s]"
     ]
    },
    {
     "name": "stdout",
     "output_type": "stream",
     "text": [
      "🔄 Autosaved 554 rows after 126700 new fixtures. [Calls: 126700]\n"
     ]
    },
    {
     "name": "stderr",
     "output_type": "stream",
     "text": [
      "Fetching stats:  87%|████████▋ | 126801/146085 [3:06:25<27:28, 11.70it/s]  "
     ]
    },
    {
     "name": "stdout",
     "output_type": "stream",
     "text": [
      "🔄 Autosaved 1130 rows after 126800 new fixtures. [Calls: 126800]\n"
     ]
    },
    {
     "name": "stderr",
     "output_type": "stream",
     "text": [
      "Fetching stats:  87%|████████▋ | 126901/146085 [3:06:34<27:53, 11.46it/s]"
     ]
    },
    {
     "name": "stdout",
     "output_type": "stream",
     "text": [
      "🔄 Autosaved 1156 rows after 126900 new fixtures. [Calls: 126900]\n"
     ]
    },
    {
     "name": "stderr",
     "output_type": "stream",
     "text": [
      "Fetching stats:  87%|████████▋ | 127000/146085 [3:06:43<26:27, 12.03it/s]  "
     ]
    },
    {
     "name": "stdout",
     "output_type": "stream",
     "text": [
      "🔄 Autosaved 446 rows after 127000 new fixtures. [Calls: 127000]\n"
     ]
    },
    {
     "name": "stderr",
     "output_type": "stream",
     "text": [
      "Fetching stats:  87%|████████▋ | 127102/146085 [3:06:52<27:52, 11.35it/s]"
     ]
    },
    {
     "name": "stdout",
     "output_type": "stream",
     "text": [
      "🔄 Autosaved 528 rows after 127100 new fixtures. [Calls: 127100]\n"
     ]
    },
    {
     "name": "stderr",
     "output_type": "stream",
     "text": [
      "Fetching stats:  87%|████████▋ | 127201/146085 [3:07:03<31:31,  9.98it/s]  "
     ]
    },
    {
     "name": "stdout",
     "output_type": "stream",
     "text": [
      "🔄 Autosaved 576 rows after 127200 new fixtures. [Calls: 127200]\n"
     ]
    },
    {
     "name": "stderr",
     "output_type": "stream",
     "text": [
      "Fetching stats:  87%|████████▋ | 127302/146085 [3:07:12<28:13, 11.09it/s]"
     ]
    },
    {
     "name": "stdout",
     "output_type": "stream",
     "text": [
      "🔄 Autosaved 820 rows after 127300 new fixtures. [Calls: 127300]\n"
     ]
    },
    {
     "name": "stderr",
     "output_type": "stream",
     "text": [
      "Fetching stats:  87%|████████▋ | 127401/146085 [3:07:21<40:02,  7.78it/s]  "
     ]
    },
    {
     "name": "stdout",
     "output_type": "stream",
     "text": [
      "🔄 Autosaved 1298 rows after 127400 new fixtures. [Calls: 127400]\n"
     ]
    },
    {
     "name": "stderr",
     "output_type": "stream",
     "text": [
      "Fetching stats:  87%|████████▋ | 127501/146085 [3:07:31<28:24, 10.90it/s]"
     ]
    },
    {
     "name": "stdout",
     "output_type": "stream",
     "text": [
      "🔄 Autosaved 1476 rows after 127500 new fixtures. [Calls: 127500]\n"
     ]
    },
    {
     "name": "stderr",
     "output_type": "stream",
     "text": [
      "Fetching stats:  87%|████████▋ | 127601/146085 [3:07:40<29:51, 10.32it/s]"
     ]
    },
    {
     "name": "stdout",
     "output_type": "stream",
     "text": [
      "🔄 Autosaved 1558 rows after 127600 new fixtures. [Calls: 127600]\n"
     ]
    },
    {
     "name": "stderr",
     "output_type": "stream",
     "text": [
      "Fetching stats:  87%|████████▋ | 127701/146085 [3:07:51<30:38, 10.00it/s]  "
     ]
    },
    {
     "name": "stdout",
     "output_type": "stream",
     "text": [
      "🔄 Autosaved 1568 rows after 127700 new fixtures. [Calls: 127700]\n"
     ]
    },
    {
     "name": "stderr",
     "output_type": "stream",
     "text": [
      "Fetching stats:  87%|████████▋ | 127802/146085 [3:08:00<27:26, 11.10it/s]"
     ]
    },
    {
     "name": "stdout",
     "output_type": "stream",
     "text": [
      "🔄 Autosaved 1538 rows after 127800 new fixtures. [Calls: 127800]\n"
     ]
    },
    {
     "name": "stderr",
     "output_type": "stream",
     "text": [
      "Fetching stats:  88%|████████▊ | 127901/146085 [3:08:10<28:26, 10.65it/s]  "
     ]
    },
    {
     "name": "stdout",
     "output_type": "stream",
     "text": [
      "🔄 Autosaved 1568 rows after 127900 new fixtures. [Calls: 127900]\n"
     ]
    },
    {
     "name": "stderr",
     "output_type": "stream",
     "text": [
      "Fetching stats:  88%|████████▊ | 127999/146085 [3:08:19<26:11, 11.51it/s]"
     ]
    },
    {
     "name": "stdout",
     "output_type": "stream",
     "text": [
      "🔄 Autosaved 1554 rows after 128000 new fixtures. [Calls: 128000]\n"
     ]
    },
    {
     "name": "stderr",
     "output_type": "stream",
     "text": [
      "Fetching stats:  88%|████████▊ | 128101/146085 [3:08:29<26:41, 11.23it/s]"
     ]
    },
    {
     "name": "stdout",
     "output_type": "stream",
     "text": [
      "🔄 Autosaved 1464 rows after 128100 new fixtures. [Calls: 128100]\n"
     ]
    },
    {
     "name": "stderr",
     "output_type": "stream",
     "text": [
      "Fetching stats:  88%|████████▊ | 128201/146085 [3:08:38<26:37, 11.20it/s]"
     ]
    },
    {
     "name": "stdout",
     "output_type": "stream",
     "text": [
      "🔄 Autosaved 1552 rows after 128200 new fixtures. [Calls: 128200]\n"
     ]
    },
    {
     "name": "stderr",
     "output_type": "stream",
     "text": [
      "Fetching stats:  88%|████████▊ | 128301/146085 [3:08:46<25:05, 11.81it/s]"
     ]
    },
    {
     "name": "stdout",
     "output_type": "stream",
     "text": [
      "🔄 Autosaved 810 rows after 128300 new fixtures. [Calls: 128300]\n"
     ]
    },
    {
     "name": "stderr",
     "output_type": "stream",
     "text": [
      "Fetching stats:  88%|████████▊ | 128501/146085 [3:09:04<26:08, 11.21it/s]"
     ]
    },
    {
     "name": "stdout",
     "output_type": "stream",
     "text": [
      "🔄 Autosaved 1170 rows after 128500 new fixtures. [Calls: 128500]\n"
     ]
    },
    {
     "name": "stderr",
     "output_type": "stream",
     "text": [
      "Fetching stats:  88%|████████▊ | 128601/146085 [3:09:13<25:44, 11.32it/s]"
     ]
    },
    {
     "name": "stdout",
     "output_type": "stream",
     "text": [
      "🔄 Autosaved 1368 rows after 128600 new fixtures. [Calls: 128600]\n"
     ]
    },
    {
     "name": "stderr",
     "output_type": "stream",
     "text": [
      "Fetching stats:  88%|████████▊ | 128701/146085 [3:09:22<24:58, 11.60it/s]"
     ]
    },
    {
     "name": "stdout",
     "output_type": "stream",
     "text": [
      "🔄 Autosaved 1546 rows after 128700 new fixtures. [Calls: 128700]\n"
     ]
    },
    {
     "name": "stderr",
     "output_type": "stream",
     "text": [
      "Fetching stats:  88%|████████▊ | 128802/146085 [3:09:31<27:46, 10.37it/s]"
     ]
    },
    {
     "name": "stdout",
     "output_type": "stream",
     "text": [
      "🔄 Autosaved 1536 rows after 128800 new fixtures. [Calls: 128800]\n"
     ]
    },
    {
     "name": "stderr",
     "output_type": "stream",
     "text": [
      "Fetching stats:  88%|████████▊ | 128901/146085 [3:09:41<26:27, 10.82it/s]"
     ]
    },
    {
     "name": "stdout",
     "output_type": "stream",
     "text": [
      "🔄 Autosaved 1566 rows after 128900 new fixtures. [Calls: 128900]\n"
     ]
    },
    {
     "name": "stderr",
     "output_type": "stream",
     "text": [
      "Fetching stats:  88%|████████▊ | 129000/146085 [3:09:51<27:28, 10.36it/s]"
     ]
    },
    {
     "name": "stdout",
     "output_type": "stream",
     "text": [
      "🔄 Autosaved 1556 rows after 129000 new fixtures. [Calls: 129000]\n"
     ]
    },
    {
     "name": "stderr",
     "output_type": "stream",
     "text": [
      "Fetching stats:  88%|████████▊ | 129102/146085 [3:10:00<24:42, 11.46it/s]"
     ]
    },
    {
     "name": "stdout",
     "output_type": "stream",
     "text": [
      "🔄 Autosaved 1546 rows after 129100 new fixtures. [Calls: 129100]\n"
     ]
    },
    {
     "name": "stderr",
     "output_type": "stream",
     "text": [
      "Fetching stats:  88%|████████▊ | 129202/146085 [3:10:09<24:25, 11.52it/s]"
     ]
    },
    {
     "name": "stdout",
     "output_type": "stream",
     "text": [
      "🔄 Autosaved 1578 rows after 129200 new fixtures. [Calls: 129200]\n"
     ]
    },
    {
     "name": "stderr",
     "output_type": "stream",
     "text": [
      "Fetching stats:  89%|████████▊ | 129302/146085 [3:10:18<24:29, 11.42it/s]"
     ]
    },
    {
     "name": "stdout",
     "output_type": "stream",
     "text": [
      "🔄 Autosaved 1574 rows after 129300 new fixtures. [Calls: 129300]\n"
     ]
    },
    {
     "name": "stderr",
     "output_type": "stream",
     "text": [
      "Fetching stats:  89%|████████▊ | 129402/146085 [3:10:26<24:38, 11.29it/s]"
     ]
    },
    {
     "name": "stdout",
     "output_type": "stream",
     "text": [
      "🔄 Autosaved 1562 rows after 129400 new fixtures. [Calls: 129400]\n"
     ]
    },
    {
     "name": "stderr",
     "output_type": "stream",
     "text": [
      "Fetching stats:  89%|████████▊ | 129502/146085 [3:10:35<26:15, 10.53it/s]"
     ]
    },
    {
     "name": "stdout",
     "output_type": "stream",
     "text": [
      "🔄 Autosaved 1556 rows after 129500 new fixtures. [Calls: 129500]\n"
     ]
    },
    {
     "name": "stderr",
     "output_type": "stream",
     "text": [
      "Fetching stats:  89%|████████▊ | 129602/146085 [3:10:44<24:13, 11.34it/s]"
     ]
    },
    {
     "name": "stdout",
     "output_type": "stream",
     "text": [
      "🔄 Autosaved 1564 rows after 129600 new fixtures. [Calls: 129600]\n"
     ]
    },
    {
     "name": "stderr",
     "output_type": "stream",
     "text": [
      "Fetching stats:  89%|████████▉ | 129702/146085 [3:10:52<23:51, 11.44it/s]"
     ]
    },
    {
     "name": "stdout",
     "output_type": "stream",
     "text": [
      "🔄 Autosaved 1566 rows after 129700 new fixtures. [Calls: 129700]\n"
     ]
    },
    {
     "name": "stderr",
     "output_type": "stream",
     "text": [
      "Fetching stats:  89%|████████▉ | 129802/146085 [3:11:01<23:05, 11.75it/s]"
     ]
    },
    {
     "name": "stdout",
     "output_type": "stream",
     "text": [
      "🔄 Autosaved 1552 rows after 129800 new fixtures. [Calls: 129800]\n"
     ]
    },
    {
     "name": "stderr",
     "output_type": "stream",
     "text": [
      "Fetching stats:  89%|████████▉ | 129902/146085 [3:11:10<22:35, 11.94it/s]"
     ]
    },
    {
     "name": "stdout",
     "output_type": "stream",
     "text": [
      "🔄 Autosaved 1560 rows after 129900 new fixtures. [Calls: 129900]\n"
     ]
    },
    {
     "name": "stderr",
     "output_type": "stream",
     "text": [
      "Fetching stats:  89%|████████▉ | 130000/146085 [3:11:18<23:25, 11.44it/s]"
     ]
    },
    {
     "name": "stdout",
     "output_type": "stream",
     "text": [
      "🔄 Autosaved 1576 rows after 130000 new fixtures. [Calls: 130000]\n"
     ]
    },
    {
     "name": "stderr",
     "output_type": "stream",
     "text": [
      "Fetching stats:  89%|████████▉ | 130102/146085 [3:11:28<22:34, 11.80it/s]"
     ]
    },
    {
     "name": "stdout",
     "output_type": "stream",
     "text": [
      "🔄 Autosaved 1550 rows after 130100 new fixtures. [Calls: 130100]\n"
     ]
    },
    {
     "name": "stderr",
     "output_type": "stream",
     "text": [
      "Fetching stats:  89%|████████▉ | 130202/146085 [3:11:37<24:54, 10.63it/s]"
     ]
    },
    {
     "name": "stdout",
     "output_type": "stream",
     "text": [
      "🔄 Autosaved 1492 rows after 130200 new fixtures. [Calls: 130200]\n"
     ]
    },
    {
     "name": "stderr",
     "output_type": "stream",
     "text": [
      "Fetching stats:  89%|████████▉ | 130302/146085 [3:11:46<26:51,  9.80it/s]"
     ]
    },
    {
     "name": "stdout",
     "output_type": "stream",
     "text": [
      "🔄 Autosaved 1346 rows after 130300 new fixtures. [Calls: 130300]\n"
     ]
    },
    {
     "name": "stderr",
     "output_type": "stream",
     "text": [
      "Fetching stats:  89%|████████▉ | 130402/146085 [3:11:55<22:54, 11.41it/s]"
     ]
    },
    {
     "name": "stdout",
     "output_type": "stream",
     "text": [
      "🔄 Autosaved 1362 rows after 130400 new fixtures. [Calls: 130400]\n"
     ]
    },
    {
     "name": "stderr",
     "output_type": "stream",
     "text": [
      "Fetching stats:  89%|████████▉ | 130502/146085 [3:12:04<23:15, 11.17it/s]"
     ]
    },
    {
     "name": "stdout",
     "output_type": "stream",
     "text": [
      "🔄 Autosaved 1462 rows after 130500 new fixtures. [Calls: 130500]\n"
     ]
    },
    {
     "name": "stderr",
     "output_type": "stream",
     "text": [
      "Fetching stats:  89%|████████▉ | 130602/146085 [3:12:13<23:17, 11.08it/s]"
     ]
    },
    {
     "name": "stdout",
     "output_type": "stream",
     "text": [
      "🔄 Autosaved 1558 rows after 130600 new fixtures. [Calls: 130600]\n"
     ]
    },
    {
     "name": "stderr",
     "output_type": "stream",
     "text": [
      "Fetching stats:  89%|████████▉ | 130702/146085 [3:12:22<22:38, 11.33it/s]"
     ]
    },
    {
     "name": "stdout",
     "output_type": "stream",
     "text": [
      "🔄 Autosaved 1550 rows after 130700 new fixtures. [Calls: 130700]\n"
     ]
    },
    {
     "name": "stderr",
     "output_type": "stream",
     "text": [
      "Fetching stats:  90%|████████▉ | 130800/146085 [3:12:30<23:01, 11.06it/s]"
     ]
    },
    {
     "name": "stdout",
     "output_type": "stream",
     "text": [
      "🔄 Autosaved 1574 rows after 130800 new fixtures. [Calls: 130800]\n"
     ]
    },
    {
     "name": "stderr",
     "output_type": "stream",
     "text": [
      "Fetching stats:  90%|████████▉ | 130901/146085 [3:12:40<22:22, 11.31it/s]"
     ]
    },
    {
     "name": "stdout",
     "output_type": "stream",
     "text": [
      "🔄 Autosaved 1554 rows after 130900 new fixtures. [Calls: 130900]\n"
     ]
    },
    {
     "name": "stderr",
     "output_type": "stream",
     "text": [
      "Fetching stats:  90%|████████▉ | 131001/146085 [3:12:49<24:17, 10.35it/s]"
     ]
    },
    {
     "name": "stdout",
     "output_type": "stream",
     "text": [
      "🔄 Autosaved 1560 rows after 131000 new fixtures. [Calls: 131000]\n"
     ]
    },
    {
     "name": "stderr",
     "output_type": "stream",
     "text": [
      "Fetching stats:  90%|████████▉ | 131101/146085 [3:12:58<22:22, 11.16it/s]"
     ]
    },
    {
     "name": "stdout",
     "output_type": "stream",
     "text": [
      "🔄 Autosaved 1558 rows after 131100 new fixtures. [Calls: 131100]\n"
     ]
    },
    {
     "name": "stderr",
     "output_type": "stream",
     "text": [
      "Fetching stats:  90%|████████▉ | 131201/146085 [3:13:06<20:55, 11.85it/s]"
     ]
    },
    {
     "name": "stdout",
     "output_type": "stream",
     "text": [
      "🔄 Autosaved 1534 rows after 131200 new fixtures. [Calls: 131200]\n"
     ]
    },
    {
     "name": "stderr",
     "output_type": "stream",
     "text": [
      "Fetching stats:  90%|████████▉ | 131301/146085 [3:13:14<21:07, 11.66it/s]"
     ]
    },
    {
     "name": "stdout",
     "output_type": "stream",
     "text": [
      "🔄 Autosaved 1524 rows after 131300 new fixtures. [Calls: 131300]\n"
     ]
    },
    {
     "name": "stderr",
     "output_type": "stream",
     "text": [
      "Fetching stats:  90%|████████▉ | 131401/146085 [3:13:23<20:48, 11.76it/s]"
     ]
    },
    {
     "name": "stdout",
     "output_type": "stream",
     "text": [
      "🔄 Autosaved 1560 rows after 131400 new fixtures. [Calls: 131400]\n"
     ]
    },
    {
     "name": "stderr",
     "output_type": "stream",
     "text": [
      "Fetching stats:  90%|█████████ | 131501/146085 [3:13:31<20:39, 11.77it/s]"
     ]
    },
    {
     "name": "stdout",
     "output_type": "stream",
     "text": [
      "🔄 Autosaved 1550 rows after 131500 new fixtures. [Calls: 131500]\n"
     ]
    },
    {
     "name": "stderr",
     "output_type": "stream",
     "text": [
      "Fetching stats:  90%|█████████ | 131601/146085 [3:13:40<20:59, 11.50it/s]"
     ]
    },
    {
     "name": "stdout",
     "output_type": "stream",
     "text": [
      "🔄 Autosaved 1566 rows after 131600 new fixtures. [Calls: 131600]\n"
     ]
    },
    {
     "name": "stderr",
     "output_type": "stream",
     "text": [
      "Fetching stats:  90%|█████████ | 131701/146085 [3:13:49<20:10, 11.88it/s]"
     ]
    },
    {
     "name": "stdout",
     "output_type": "stream",
     "text": [
      "🔄 Autosaved 1528 rows after 131700 new fixtures. [Calls: 131700]\n"
     ]
    },
    {
     "name": "stderr",
     "output_type": "stream",
     "text": [
      "Fetching stats:  90%|█████████ | 131801/146085 [3:13:57<20:52, 11.41it/s]"
     ]
    },
    {
     "name": "stdout",
     "output_type": "stream",
     "text": [
      "🔄 Autosaved 1530 rows after 131800 new fixtures. [Calls: 131800]\n"
     ]
    },
    {
     "name": "stderr",
     "output_type": "stream",
     "text": [
      "Fetching stats:  90%|█████████ | 131901/146085 [3:14:06<20:07, 11.74it/s]"
     ]
    },
    {
     "name": "stdout",
     "output_type": "stream",
     "text": [
      "🔄 Autosaved 1554 rows after 131900 new fixtures. [Calls: 131900]\n"
     ]
    },
    {
     "name": "stderr",
     "output_type": "stream",
     "text": [
      "Fetching stats:  90%|█████████ | 132001/146085 [3:14:14<21:31, 10.91it/s]"
     ]
    },
    {
     "name": "stdout",
     "output_type": "stream",
     "text": [
      "🔄 Autosaved 1538 rows after 132000 new fixtures. [Calls: 132000]\n"
     ]
    },
    {
     "name": "stderr",
     "output_type": "stream",
     "text": [
      "Fetching stats:  90%|█████████ | 132101/146085 [3:14:23<21:34, 10.80it/s]"
     ]
    },
    {
     "name": "stdout",
     "output_type": "stream",
     "text": [
      "🔄 Autosaved 1550 rows after 132100 new fixtures. [Calls: 132100]\n"
     ]
    },
    {
     "name": "stderr",
     "output_type": "stream",
     "text": [
      "Fetching stats:  90%|█████████ | 132201/146085 [3:14:32<21:08, 10.94it/s]"
     ]
    },
    {
     "name": "stdout",
     "output_type": "stream",
     "text": [
      "🔄 Autosaved 1544 rows after 132200 new fixtures. [Calls: 132200]\n"
     ]
    },
    {
     "name": "stderr",
     "output_type": "stream",
     "text": [
      "Fetching stats:  91%|█████████ | 132301/146085 [3:14:41<21:25, 10.72it/s]"
     ]
    },
    {
     "name": "stdout",
     "output_type": "stream",
     "text": [
      "🔄 Autosaved 1396 rows after 132300 new fixtures. [Calls: 132300]\n"
     ]
    },
    {
     "name": "stderr",
     "output_type": "stream",
     "text": [
      "Fetching stats:  91%|█████████ | 132401/146085 [3:14:50<22:26, 10.17it/s]"
     ]
    },
    {
     "name": "stdout",
     "output_type": "stream",
     "text": [
      "🔄 Autosaved 1358 rows after 132400 new fixtures. [Calls: 132400]\n"
     ]
    },
    {
     "name": "stderr",
     "output_type": "stream",
     "text": [
      "Fetching stats:  91%|█████████ | 132501/146085 [3:14:59<19:58, 11.33it/s]"
     ]
    },
    {
     "name": "stdout",
     "output_type": "stream",
     "text": [
      "🔄 Autosaved 1536 rows after 132500 new fixtures. [Calls: 132500]\n"
     ]
    },
    {
     "name": "stderr",
     "output_type": "stream",
     "text": [
      "Fetching stats:  91%|█████████ | 132601/146085 [3:15:08<21:23, 10.51it/s]"
     ]
    },
    {
     "name": "stdout",
     "output_type": "stream",
     "text": [
      "🔄 Autosaved 1562 rows after 132600 new fixtures. [Calls: 132600]\n"
     ]
    },
    {
     "name": "stderr",
     "output_type": "stream",
     "text": [
      "Fetching stats:  91%|█████████ | 132701/146085 [3:15:17<19:41, 11.33it/s]"
     ]
    },
    {
     "name": "stdout",
     "output_type": "stream",
     "text": [
      "🔄 Autosaved 1558 rows after 132700 new fixtures. [Calls: 132700]\n"
     ]
    },
    {
     "name": "stderr",
     "output_type": "stream",
     "text": [
      "Fetching stats:  91%|█████████ | 132801/146085 [3:15:26<19:50, 11.16it/s]"
     ]
    },
    {
     "name": "stdout",
     "output_type": "stream",
     "text": [
      "🔄 Autosaved 1560 rows after 132800 new fixtures. [Calls: 132800]\n"
     ]
    },
    {
     "name": "stderr",
     "output_type": "stream",
     "text": [
      "Fetching stats:  91%|█████████ | 132901/146085 [3:15:35<21:43, 10.11it/s]"
     ]
    },
    {
     "name": "stdout",
     "output_type": "stream",
     "text": [
      "🔄 Autosaved 1544 rows after 132900 new fixtures. [Calls: 132900]\n"
     ]
    },
    {
     "name": "stderr",
     "output_type": "stream",
     "text": [
      "Fetching stats:  91%|█████████ | 133001/146085 [3:15:44<21:06, 10.33it/s]"
     ]
    },
    {
     "name": "stdout",
     "output_type": "stream",
     "text": [
      "🔄 Autosaved 1558 rows after 133000 new fixtures. [Calls: 133000]\n"
     ]
    },
    {
     "name": "stderr",
     "output_type": "stream",
     "text": [
      "Fetching stats:  91%|█████████ | 133101/146085 [3:15:53<18:54, 11.44it/s]"
     ]
    },
    {
     "name": "stdout",
     "output_type": "stream",
     "text": [
      "🔄 Autosaved 1482 rows after 133100 new fixtures. [Calls: 133100]\n"
     ]
    },
    {
     "name": "stderr",
     "output_type": "stream",
     "text": [
      "Fetching stats:  91%|█████████ | 133201/146085 [3:16:01<18:05, 11.87it/s]"
     ]
    },
    {
     "name": "stdout",
     "output_type": "stream",
     "text": [
      "🔄 Autosaved 1484 rows after 133200 new fixtures. [Calls: 133200]\n"
     ]
    },
    {
     "name": "stderr",
     "output_type": "stream",
     "text": [
      "Fetching stats:  91%|█████████ | 133301/146085 [3:16:10<19:09, 11.13it/s]"
     ]
    },
    {
     "name": "stdout",
     "output_type": "stream",
     "text": [
      "🔄 Autosaved 1510 rows after 133300 new fixtures. [Calls: 133300]\n"
     ]
    },
    {
     "name": "stderr",
     "output_type": "stream",
     "text": [
      "Fetching stats:  91%|█████████▏| 133401/146085 [3:16:18<18:35, 11.37it/s]"
     ]
    },
    {
     "name": "stdout",
     "output_type": "stream",
     "text": [
      "🔄 Autosaved 1544 rows after 133400 new fixtures. [Calls: 133400]\n"
     ]
    },
    {
     "name": "stderr",
     "output_type": "stream",
     "text": [
      "Fetching stats:  91%|█████████▏| 133501/146085 [3:16:27<17:27, 12.02it/s]"
     ]
    },
    {
     "name": "stdout",
     "output_type": "stream",
     "text": [
      "🔄 Autosaved 1268 rows after 133500 new fixtures. [Calls: 133500]\n"
     ]
    },
    {
     "name": "stderr",
     "output_type": "stream",
     "text": [
      "Fetching stats:  91%|█████████▏| 133601/146085 [3:16:35<18:25, 11.29it/s]"
     ]
    },
    {
     "name": "stdout",
     "output_type": "stream",
     "text": [
      "🔄 Autosaved 1338 rows after 133600 new fixtures. [Calls: 133600]\n"
     ]
    },
    {
     "name": "stderr",
     "output_type": "stream",
     "text": [
      "Fetching stats:  92%|█████████▏| 133701/146085 [3:16:44<17:29, 11.80it/s]"
     ]
    },
    {
     "name": "stdout",
     "output_type": "stream",
     "text": [
      "🔄 Autosaved 746 rows after 133700 new fixtures. [Calls: 133700]\n"
     ]
    },
    {
     "name": "stderr",
     "output_type": "stream",
     "text": [
      "Fetching stats:  92%|█████████▏| 133801/146085 [3:16:52<16:46, 12.21it/s]"
     ]
    },
    {
     "name": "stdout",
     "output_type": "stream",
     "text": [
      "🔄 Autosaved 228 rows after 133800 new fixtures. [Calls: 133800]\n"
     ]
    },
    {
     "name": "stderr",
     "output_type": "stream",
     "text": [
      "Fetching stats:  92%|█████████▏| 133901/146085 [3:17:01<17:12, 11.80it/s]"
     ]
    },
    {
     "name": "stdout",
     "output_type": "stream",
     "text": [
      "🔄 Autosaved 248 rows after 133900 new fixtures. [Calls: 133900]\n"
     ]
    },
    {
     "name": "stderr",
     "output_type": "stream",
     "text": [
      "Fetching stats:  92%|█████████▏| 134001/146085 [3:17:09<20:33,  9.79it/s]"
     ]
    },
    {
     "name": "stdout",
     "output_type": "stream",
     "text": [
      "🔄 Autosaved 340 rows after 134000 new fixtures. [Calls: 134000]\n"
     ]
    },
    {
     "name": "stderr",
     "output_type": "stream",
     "text": [
      "Fetching stats:  92%|█████████▏| 134101/146085 [3:17:18<17:12, 11.61it/s]"
     ]
    },
    {
     "name": "stdout",
     "output_type": "stream",
     "text": [
      "🔄 Autosaved 1542 rows after 134100 new fixtures. [Calls: 134100]\n"
     ]
    },
    {
     "name": "stderr",
     "output_type": "stream",
     "text": [
      "Fetching stats:  92%|█████████▏| 134201/146085 [3:17:27<17:02, 11.63it/s]"
     ]
    },
    {
     "name": "stdout",
     "output_type": "stream",
     "text": [
      "🔄 Autosaved 1568 rows after 134200 new fixtures. [Calls: 134200]\n"
     ]
    },
    {
     "name": "stderr",
     "output_type": "stream",
     "text": [
      "Fetching stats:  92%|█████████▏| 134301/146085 [3:17:35<18:12, 10.79it/s]"
     ]
    },
    {
     "name": "stdout",
     "output_type": "stream",
     "text": [
      "🔄 Autosaved 1554 rows after 134300 new fixtures. [Calls: 134300]\n"
     ]
    },
    {
     "name": "stderr",
     "output_type": "stream",
     "text": [
      "Fetching stats:  92%|█████████▏| 134401/146085 [3:17:44<16:10, 12.04it/s]"
     ]
    },
    {
     "name": "stdout",
     "output_type": "stream",
     "text": [
      "🔄 Autosaved 1536 rows after 134400 new fixtures. [Calls: 134400]\n"
     ]
    },
    {
     "name": "stderr",
     "output_type": "stream",
     "text": [
      "Fetching stats:  92%|█████████▏| 134501/146085 [3:17:53<16:20, 11.82it/s]"
     ]
    },
    {
     "name": "stdout",
     "output_type": "stream",
     "text": [
      "🔄 Autosaved 1534 rows after 134500 new fixtures. [Calls: 134500]\n"
     ]
    },
    {
     "name": "stderr",
     "output_type": "stream",
     "text": [
      "Fetching stats:  92%|█████████▏| 134601/146085 [3:18:01<15:55, 12.02it/s]"
     ]
    },
    {
     "name": "stdout",
     "output_type": "stream",
     "text": [
      "🔄 Autosaved 1552 rows after 134600 new fixtures. [Calls: 134600]\n"
     ]
    },
    {
     "name": "stderr",
     "output_type": "stream",
     "text": [
      "Fetching stats:  92%|█████████▏| 134701/146085 [3:18:10<17:49, 10.65it/s]"
     ]
    },
    {
     "name": "stdout",
     "output_type": "stream",
     "text": [
      "🔄 Autosaved 1552 rows after 134700 new fixtures. [Calls: 134700]\n"
     ]
    },
    {
     "name": "stderr",
     "output_type": "stream",
     "text": [
      "Fetching stats:  92%|█████████▏| 134801/146085 [3:18:19<15:38, 12.02it/s]"
     ]
    },
    {
     "name": "stdout",
     "output_type": "stream",
     "text": [
      "🔄 Autosaved 1350 rows after 134800 new fixtures. [Calls: 134800]\n"
     ]
    },
    {
     "name": "stderr",
     "output_type": "stream",
     "text": [
      "Fetching stats:  92%|█████████▏| 134901/146085 [3:18:27<16:17, 11.44it/s]"
     ]
    },
    {
     "name": "stdout",
     "output_type": "stream",
     "text": [
      "🔄 Autosaved 592 rows after 134900 new fixtures. [Calls: 134900]\n"
     ]
    },
    {
     "name": "stderr",
     "output_type": "stream",
     "text": [
      "Fetching stats:  92%|█████████▏| 135001/146085 [3:18:36<17:42, 10.44it/s]"
     ]
    },
    {
     "name": "stdout",
     "output_type": "stream",
     "text": [
      "🔄 Autosaved 396 rows after 135000 new fixtures. [Calls: 135000]\n"
     ]
    },
    {
     "name": "stderr",
     "output_type": "stream",
     "text": [
      "Fetching stats:  92%|█████████▏| 135101/146085 [3:18:44<15:02, 12.17it/s]"
     ]
    },
    {
     "name": "stdout",
     "output_type": "stream",
     "text": [
      "🔄 Autosaved 600 rows after 135100 new fixtures. [Calls: 135100]\n"
     ]
    },
    {
     "name": "stderr",
     "output_type": "stream",
     "text": [
      "Fetching stats:  93%|█████████▎| 135201/146085 [3:18:53<15:18, 11.85it/s]"
     ]
    },
    {
     "name": "stdout",
     "output_type": "stream",
     "text": [
      "🔄 Autosaved 846 rows after 135200 new fixtures. [Calls: 135200]\n"
     ]
    },
    {
     "name": "stderr",
     "output_type": "stream",
     "text": [
      "Fetching stats:  93%|█████████▎| 135301/146085 [3:19:01<14:53, 12.07it/s]"
     ]
    },
    {
     "name": "stdout",
     "output_type": "stream",
     "text": [
      "🔄 Autosaved 1206 rows after 135300 new fixtures. [Calls: 135300]\n"
     ]
    },
    {
     "name": "stderr",
     "output_type": "stream",
     "text": [
      "Fetching stats:  93%|█████████▎| 135401/146085 [3:19:10<14:36, 12.19it/s]"
     ]
    },
    {
     "name": "stdout",
     "output_type": "stream",
     "text": [
      "🔄 Autosaved 1376 rows after 135400 new fixtures. [Calls: 135400]\n"
     ]
    },
    {
     "name": "stderr",
     "output_type": "stream",
     "text": [
      "Fetching stats:  93%|█████████▎| 135501/146085 [3:19:18<15:08, 11.65it/s]"
     ]
    },
    {
     "name": "stdout",
     "output_type": "stream",
     "text": [
      "🔄 Autosaved 1476 rows after 135500 new fixtures. [Calls: 135500]\n"
     ]
    },
    {
     "name": "stderr",
     "output_type": "stream",
     "text": [
      "Fetching stats:  93%|█████████▎| 135601/146085 [3:19:26<14:49, 11.78it/s]"
     ]
    },
    {
     "name": "stdout",
     "output_type": "stream",
     "text": [
      "🔄 Autosaved 1562 rows after 135600 new fixtures. [Calls: 135600]\n"
     ]
    },
    {
     "name": "stderr",
     "output_type": "stream",
     "text": [
      "Fetching stats:  93%|█████████▎| 135701/146085 [3:19:35<21:46,  7.95it/s]"
     ]
    },
    {
     "name": "stdout",
     "output_type": "stream",
     "text": [
      "🔄 Autosaved 1544 rows after 135700 new fixtures. [Calls: 135700]\n"
     ]
    },
    {
     "name": "stderr",
     "output_type": "stream",
     "text": [
      "Fetching stats:  93%|█████████▎| 135801/146085 [3:19:44<14:33, 11.77it/s]"
     ]
    },
    {
     "name": "stdout",
     "output_type": "stream",
     "text": [
      "🔄 Autosaved 1562 rows after 135800 new fixtures. [Calls: 135800]\n"
     ]
    },
    {
     "name": "stderr",
     "output_type": "stream",
     "text": [
      "Fetching stats:  93%|█████████▎| 135901/146085 [3:19:52<14:26, 11.75it/s]"
     ]
    },
    {
     "name": "stdout",
     "output_type": "stream",
     "text": [
      "🔄 Autosaved 1552 rows after 135900 new fixtures. [Calls: 135900]\n"
     ]
    },
    {
     "name": "stderr",
     "output_type": "stream",
     "text": [
      "Fetching stats:  93%|█████████▎| 136001/146085 [3:20:01<16:20, 10.29it/s]"
     ]
    },
    {
     "name": "stdout",
     "output_type": "stream",
     "text": [
      "🔄 Autosaved 1548 rows after 136000 new fixtures. [Calls: 136000]\n"
     ]
    },
    {
     "name": "stderr",
     "output_type": "stream",
     "text": [
      "Fetching stats:  93%|█████████▎| 136101/146085 [3:20:10<13:54, 11.97it/s]"
     ]
    },
    {
     "name": "stdout",
     "output_type": "stream",
     "text": [
      "🔄 Autosaved 1514 rows after 136100 new fixtures. [Calls: 136100]\n"
     ]
    },
    {
     "name": "stderr",
     "output_type": "stream",
     "text": [
      "Fetching stats:  93%|█████████▎| 136202/146085 [3:20:18<13:50, 11.91it/s]"
     ]
    },
    {
     "name": "stdout",
     "output_type": "stream",
     "text": [
      "🔄 Autosaved 1406 rows after 136200 new fixtures. [Calls: 136200]\n"
     ]
    },
    {
     "name": "stderr",
     "output_type": "stream",
     "text": [
      "Fetching stats:  93%|█████████▎| 136302/146085 [3:20:27<13:13, 12.33it/s]"
     ]
    },
    {
     "name": "stdout",
     "output_type": "stream",
     "text": [
      "🔄 Autosaved 1488 rows after 136300 new fixtures. [Calls: 136300]\n"
     ]
    },
    {
     "name": "stderr",
     "output_type": "stream",
     "text": [
      "Fetching stats:  93%|█████████▎| 136402/146085 [3:20:35<15:19, 10.53it/s]"
     ]
    },
    {
     "name": "stdout",
     "output_type": "stream",
     "text": [
      "🔄 Autosaved 1530 rows after 136400 new fixtures. [Calls: 136400]\n"
     ]
    },
    {
     "name": "stderr",
     "output_type": "stream",
     "text": [
      "Fetching stats:  93%|█████████▎| 136502/146085 [3:20:44<13:36, 11.74it/s]"
     ]
    },
    {
     "name": "stdout",
     "output_type": "stream",
     "text": [
      "🔄 Autosaved 1550 rows after 136500 new fixtures. [Calls: 136500]\n"
     ]
    },
    {
     "name": "stderr",
     "output_type": "stream",
     "text": [
      "Fetching stats:  94%|█████████▎| 136602/146085 [3:20:52<13:21, 11.84it/s]"
     ]
    },
    {
     "name": "stdout",
     "output_type": "stream",
     "text": [
      "🔄 Autosaved 1220 rows after 136600 new fixtures. [Calls: 136600]\n"
     ]
    },
    {
     "name": "stderr",
     "output_type": "stream",
     "text": [
      "Fetching stats:  94%|█████████▎| 136702/146085 [3:21:00<12:59, 12.04it/s]"
     ]
    },
    {
     "name": "stdout",
     "output_type": "stream",
     "text": [
      "🔄 Autosaved 832 rows after 136700 new fixtures. [Calls: 136700]\n"
     ]
    },
    {
     "name": "stderr",
     "output_type": "stream",
     "text": [
      "Fetching stats:  94%|█████████▎| 136802/146085 [3:21:09<12:42, 12.17it/s]"
     ]
    },
    {
     "name": "stdout",
     "output_type": "stream",
     "text": [
      "🔄 Autosaved 1178 rows after 136800 new fixtures. [Calls: 136800]\n"
     ]
    },
    {
     "name": "stderr",
     "output_type": "stream",
     "text": [
      "Fetching stats:  94%|█████████▎| 136902/146085 [3:21:17<12:45, 12.00it/s]"
     ]
    },
    {
     "name": "stdout",
     "output_type": "stream",
     "text": [
      "🔄 Autosaved 1176 rows after 136900 new fixtures. [Calls: 136900]\n"
     ]
    },
    {
     "name": "stderr",
     "output_type": "stream",
     "text": [
      "Fetching stats:  94%|█████████▍| 137000/146085 [3:21:25<12:49, 11.80it/s]"
     ]
    },
    {
     "name": "stdout",
     "output_type": "stream",
     "text": [
      "🔄 Autosaved 1396 rows after 137000 new fixtures. [Calls: 137000]\n"
     ]
    },
    {
     "name": "stderr",
     "output_type": "stream",
     "text": [
      "Fetching stats:  94%|█████████▍| 137102/146085 [3:21:34<13:19, 11.24it/s]"
     ]
    },
    {
     "name": "stdout",
     "output_type": "stream",
     "text": [
      "🔄 Autosaved 1546 rows after 137100 new fixtures. [Calls: 137100]\n"
     ]
    },
    {
     "name": "stderr",
     "output_type": "stream",
     "text": [
      "Fetching stats:  94%|█████████▍| 137202/146085 [3:21:44<13:13, 11.19it/s]"
     ]
    },
    {
     "name": "stdout",
     "output_type": "stream",
     "text": [
      "🔄 Autosaved 1214 rows after 137200 new fixtures. [Calls: 137200]\n"
     ]
    },
    {
     "name": "stderr",
     "output_type": "stream",
     "text": [
      "Fetching stats:  94%|█████████▍| 137302/146085 [3:21:53<13:05, 11.19it/s]"
     ]
    },
    {
     "name": "stdout",
     "output_type": "stream",
     "text": [
      "🔄 Autosaved 1166 rows after 137300 new fixtures. [Calls: 137300]\n"
     ]
    },
    {
     "name": "stderr",
     "output_type": "stream",
     "text": [
      "Fetching stats:  94%|█████████▍| 137402/146085 [3:22:02<12:36, 11.47it/s]"
     ]
    },
    {
     "name": "stdout",
     "output_type": "stream",
     "text": [
      "🔄 Autosaved 1192 rows after 137400 new fixtures. [Calls: 137400]\n"
     ]
    },
    {
     "name": "stderr",
     "output_type": "stream",
     "text": [
      "Fetching stats:  94%|█████████▍| 137502/146085 [3:22:11<12:21, 11.58it/s]"
     ]
    },
    {
     "name": "stdout",
     "output_type": "stream",
     "text": [
      "🔄 Autosaved 1180 rows after 137500 new fixtures. [Calls: 137500]\n"
     ]
    },
    {
     "name": "stderr",
     "output_type": "stream",
     "text": [
      "Fetching stats:  94%|█████████▍| 137600/146085 [3:22:19<12:18, 11.49it/s]"
     ]
    },
    {
     "name": "stdout",
     "output_type": "stream",
     "text": [
      "🔄 Autosaved 784 rows after 137600 new fixtures. [Calls: 137600]\n"
     ]
    },
    {
     "name": "stderr",
     "output_type": "stream",
     "text": [
      "Fetching stats:  94%|█████████▍| 137702/146085 [3:22:29<12:23, 11.27it/s]"
     ]
    },
    {
     "name": "stdout",
     "output_type": "stream",
     "text": [
      "🔄 Autosaved 1532 rows after 137700 new fixtures. [Calls: 137700]\n"
     ]
    },
    {
     "name": "stderr",
     "output_type": "stream",
     "text": [
      "Fetching stats:  94%|█████████▍| 137802/146085 [3:22:38<12:12, 11.30it/s]"
     ]
    },
    {
     "name": "stdout",
     "output_type": "stream",
     "text": [
      "🔄 Autosaved 1542 rows after 137800 new fixtures. [Calls: 137800]\n"
     ]
    },
    {
     "name": "stderr",
     "output_type": "stream",
     "text": [
      "Fetching stats:  94%|█████████▍| 137902/146085 [3:22:47<12:11, 11.18it/s]"
     ]
    },
    {
     "name": "stdout",
     "output_type": "stream",
     "text": [
      "🔄 Autosaved 1256 rows after 137900 new fixtures. [Calls: 137900]\n"
     ]
    },
    {
     "name": "stderr",
     "output_type": "stream",
     "text": [
      "Fetching stats:  94%|█████████▍| 138000/146085 [3:22:55<12:26, 10.83it/s]"
     ]
    },
    {
     "name": "stdout",
     "output_type": "stream",
     "text": [
      "🔄 Autosaved 894 rows after 138000 new fixtures. [Calls: 138000]\n"
     ]
    },
    {
     "name": "stderr",
     "output_type": "stream",
     "text": [
      "Fetching stats:  95%|█████████▍| 138102/146085 [3:23:04<11:43, 11.35it/s]"
     ]
    },
    {
     "name": "stdout",
     "output_type": "stream",
     "text": [
      "🔄 Autosaved 1146 rows after 138100 new fixtures. [Calls: 138100]\n"
     ]
    },
    {
     "name": "stderr",
     "output_type": "stream",
     "text": [
      "Fetching stats:  95%|█████████▍| 138201/146085 [3:23:14<11:14, 11.69it/s]"
     ]
    },
    {
     "name": "stdout",
     "output_type": "stream",
     "text": [
      "🔄 Autosaved 1438 rows after 138200 new fixtures. [Calls: 138200]\n"
     ]
    },
    {
     "name": "stderr",
     "output_type": "stream",
     "text": [
      "Fetching stats:  95%|█████████▍| 138301/146085 [3:23:22<11:41, 11.09it/s]"
     ]
    },
    {
     "name": "stdout",
     "output_type": "stream",
     "text": [
      "🔄 Autosaved 1152 rows after 138300 new fixtures. [Calls: 138300]\n"
     ]
    },
    {
     "name": "stderr",
     "output_type": "stream",
     "text": [
      "Fetching stats:  95%|█████████▍| 138401/146085 [3:23:31<11:18, 11.33it/s]"
     ]
    },
    {
     "name": "stdout",
     "output_type": "stream",
     "text": [
      "🔄 Autosaved 1044 rows after 138400 new fixtures. [Calls: 138400]\n"
     ]
    },
    {
     "name": "stderr",
     "output_type": "stream",
     "text": [
      "Fetching stats:  95%|█████████▍| 138501/146085 [3:23:40<11:16, 11.21it/s]"
     ]
    },
    {
     "name": "stdout",
     "output_type": "stream",
     "text": [
      "🔄 Autosaved 1478 rows after 138500 new fixtures. [Calls: 138500]\n"
     ]
    },
    {
     "name": "stderr",
     "output_type": "stream",
     "text": [
      "Fetching stats:  95%|█████████▍| 138601/146085 [3:23:49<10:41, 11.66it/s]"
     ]
    },
    {
     "name": "stdout",
     "output_type": "stream",
     "text": [
      "🔄 Autosaved 936 rows after 138600 new fixtures. [Calls: 138600]\n"
     ]
    },
    {
     "name": "stderr",
     "output_type": "stream",
     "text": [
      "Fetching stats:  95%|█████████▍| 138701/146085 [3:23:58<11:21, 10.84it/s]"
     ]
    },
    {
     "name": "stdout",
     "output_type": "stream",
     "text": [
      "🔄 Autosaved 1556 rows after 138700 new fixtures. [Calls: 138700]\n"
     ]
    },
    {
     "name": "stderr",
     "output_type": "stream",
     "text": [
      "Fetching stats:  95%|█████████▌| 138801/146085 [3:24:07<10:31, 11.53it/s]"
     ]
    },
    {
     "name": "stdout",
     "output_type": "stream",
     "text": [
      "🔄 Autosaved 1254 rows after 138800 new fixtures. [Calls: 138800]\n"
     ]
    },
    {
     "name": "stderr",
     "output_type": "stream",
     "text": [
      "Fetching stats:  95%|█████████▌| 138901/146085 [3:24:16<10:18, 11.61it/s]"
     ]
    },
    {
     "name": "stdout",
     "output_type": "stream",
     "text": [
      "🔄 Autosaved 908 rows after 138900 new fixtures. [Calls: 138900]\n"
     ]
    },
    {
     "name": "stderr",
     "output_type": "stream",
     "text": [
      "Fetching stats:  95%|█████████▌| 139001/146085 [3:24:25<11:41, 10.09it/s]"
     ]
    },
    {
     "name": "stdout",
     "output_type": "stream",
     "text": [
      "🔄 Autosaved 1512 rows after 139000 new fixtures. [Calls: 139000]\n"
     ]
    },
    {
     "name": "stderr",
     "output_type": "stream",
     "text": [
      "Fetching stats:  95%|█████████▌| 139101/146085 [3:24:33<09:57, 11.69it/s]"
     ]
    },
    {
     "name": "stdout",
     "output_type": "stream",
     "text": [
      "🔄 Autosaved 1530 rows after 139100 new fixtures. [Calls: 139100]\n"
     ]
    },
    {
     "name": "stderr",
     "output_type": "stream",
     "text": [
      "Fetching stats:  95%|█████████▌| 139201/146085 [3:24:43<10:40, 10.75it/s]"
     ]
    },
    {
     "name": "stdout",
     "output_type": "stream",
     "text": [
      "🔄 Autosaved 1282 rows after 139200 new fixtures. [Calls: 139200]\n"
     ]
    },
    {
     "name": "stderr",
     "output_type": "stream",
     "text": [
      "Fetching stats:  95%|█████████▌| 139301/146085 [3:24:53<10:40, 10.59it/s]"
     ]
    },
    {
     "name": "stdout",
     "output_type": "stream",
     "text": [
      "🔄 Autosaved 1158 rows after 139300 new fixtures. [Calls: 139300]\n"
     ]
    },
    {
     "name": "stderr",
     "output_type": "stream",
     "text": [
      "Fetching stats:  95%|█████████▌| 139402/146085 [3:25:02<10:37, 10.48it/s]"
     ]
    },
    {
     "name": "stdout",
     "output_type": "stream",
     "text": [
      "🔄 Autosaved 1174 rows after 139400 new fixtures. [Calls: 139400]\n"
     ]
    },
    {
     "name": "stderr",
     "output_type": "stream",
     "text": [
      "Fetching stats:  95%|█████████▌| 139502/146085 [3:25:11<09:34, 11.46it/s]"
     ]
    },
    {
     "name": "stdout",
     "output_type": "stream",
     "text": [
      "🔄 Autosaved 1240 rows after 139500 new fixtures. [Calls: 139500]\n"
     ]
    },
    {
     "name": "stderr",
     "output_type": "stream",
     "text": [
      "Fetching stats:  96%|█████████▌| 139602/146085 [3:25:20<10:35, 10.20it/s]"
     ]
    },
    {
     "name": "stdout",
     "output_type": "stream",
     "text": [
      "🔄 Autosaved 1554 rows after 139600 new fixtures. [Calls: 139600]\n"
     ]
    },
    {
     "name": "stderr",
     "output_type": "stream",
     "text": [
      "Fetching stats:  96%|█████████▌| 139701/146085 [3:25:29<10:31, 10.10it/s]"
     ]
    },
    {
     "name": "stdout",
     "output_type": "stream",
     "text": [
      "🔄 Autosaved 1318 rows after 139700 new fixtures. [Calls: 139700]\n"
     ]
    },
    {
     "name": "stderr",
     "output_type": "stream",
     "text": [
      "Fetching stats:  96%|█████████▌| 139802/146085 [3:25:39<09:36, 10.90it/s]"
     ]
    },
    {
     "name": "stdout",
     "output_type": "stream",
     "text": [
      "🔄 Autosaved 1224 rows after 139800 new fixtures. [Calls: 139800]\n"
     ]
    },
    {
     "name": "stderr",
     "output_type": "stream",
     "text": [
      "Fetching stats:  96%|█████████▌| 139900/146085 [3:25:48<09:25, 10.94it/s]"
     ]
    },
    {
     "name": "stdout",
     "output_type": "stream",
     "text": [
      "🔄 Autosaved 566 rows after 139900 new fixtures. [Calls: 139900]\n"
     ]
    },
    {
     "name": "stderr",
     "output_type": "stream",
     "text": [
      "Fetching stats:  96%|█████████▌| 140000/146085 [3:25:57<09:21, 10.84it/s]"
     ]
    },
    {
     "name": "stdout",
     "output_type": "stream",
     "text": [
      "🔄 Autosaved 1448 rows after 140000 new fixtures. [Calls: 140000]\n"
     ]
    },
    {
     "name": "stderr",
     "output_type": "stream",
     "text": [
      "Fetching stats:  96%|█████████▌| 140102/146085 [3:26:06<08:44, 11.41it/s]"
     ]
    },
    {
     "name": "stdout",
     "output_type": "stream",
     "text": [
      "🔄 Autosaved 1256 rows after 140100 new fixtures. [Calls: 140100]\n"
     ]
    },
    {
     "name": "stderr",
     "output_type": "stream",
     "text": [
      "Fetching stats:  96%|█████████▌| 140202/146085 [3:26:15<08:17, 11.83it/s]"
     ]
    },
    {
     "name": "stdout",
     "output_type": "stream",
     "text": [
      "🔄 Autosaved 1466 rows after 140200 new fixtures. [Calls: 140200]\n"
     ]
    },
    {
     "name": "stderr",
     "output_type": "stream",
     "text": [
      "Fetching stats:  96%|█████████▌| 140302/146085 [3:26:23<08:06, 11.88it/s]"
     ]
    },
    {
     "name": "stdout",
     "output_type": "stream",
     "text": [
      "🔄 Autosaved 1258 rows after 140300 new fixtures. [Calls: 140300]\n"
     ]
    },
    {
     "name": "stderr",
     "output_type": "stream",
     "text": [
      "Fetching stats:  96%|█████████▌| 140402/146085 [3:26:32<08:17, 11.43it/s]"
     ]
    },
    {
     "name": "stdout",
     "output_type": "stream",
     "text": [
      "🔄 Autosaved 1066 rows after 140400 new fixtures. [Calls: 140400]\n"
     ]
    },
    {
     "name": "stderr",
     "output_type": "stream",
     "text": [
      "Fetching stats:  96%|█████████▌| 140502/146085 [3:26:41<07:58, 11.68it/s]"
     ]
    },
    {
     "name": "stdout",
     "output_type": "stream",
     "text": [
      "🔄 Autosaved 714 rows after 140500 new fixtures. [Calls: 140500]\n"
     ]
    },
    {
     "name": "stderr",
     "output_type": "stream",
     "text": [
      "Fetching stats:  96%|█████████▌| 140602/146085 [3:26:49<07:51, 11.63it/s]"
     ]
    },
    {
     "name": "stdout",
     "output_type": "stream",
     "text": [
      "🔄 Autosaved 1466 rows after 140600 new fixtures. [Calls: 140600]\n"
     ]
    },
    {
     "name": "stderr",
     "output_type": "stream",
     "text": [
      "Fetching stats:  96%|█████████▋| 140702/146085 [3:26:58<07:51, 11.42it/s]"
     ]
    },
    {
     "name": "stdout",
     "output_type": "stream",
     "text": [
      "🔄 Autosaved 1498 rows after 140700 new fixtures. [Calls: 140700]\n"
     ]
    },
    {
     "name": "stderr",
     "output_type": "stream",
     "text": [
      "Fetching stats:  96%|█████████▋| 140802/146085 [3:27:07<07:28, 11.79it/s]"
     ]
    },
    {
     "name": "stdout",
     "output_type": "stream",
     "text": [
      "🔄 Autosaved 1188 rows after 140800 new fixtures. [Calls: 140800]\n"
     ]
    },
    {
     "name": "stderr",
     "output_type": "stream",
     "text": [
      "Fetching stats:  96%|█████████▋| 140902/146085 [3:27:16<07:52, 10.96it/s]"
     ]
    },
    {
     "name": "stdout",
     "output_type": "stream",
     "text": [
      "🔄 Autosaved 978 rows after 140900 new fixtures. [Calls: 140900]\n"
     ]
    },
    {
     "name": "stderr",
     "output_type": "stream",
     "text": [
      "Fetching stats:  97%|█████████▋| 141000/146085 [3:27:24<07:34, 11.19it/s]"
     ]
    },
    {
     "name": "stdout",
     "output_type": "stream",
     "text": [
      "🔄 Autosaved 1542 rows after 141000 new fixtures. [Calls: 141000]\n"
     ]
    },
    {
     "name": "stderr",
     "output_type": "stream",
     "text": [
      "Fetching stats:  97%|█████████▋| 141102/146085 [3:27:33<06:59, 11.89it/s]"
     ]
    },
    {
     "name": "stdout",
     "output_type": "stream",
     "text": [
      "🔄 Autosaved 1296 rows after 141100 new fixtures. [Calls: 141100]\n"
     ]
    },
    {
     "name": "stderr",
     "output_type": "stream",
     "text": [
      "Fetching stats:  97%|█████████▋| 141202/146085 [3:27:41<06:59, 11.65it/s]"
     ]
    },
    {
     "name": "stdout",
     "output_type": "stream",
     "text": [
      "🔄 Autosaved 1154 rows after 141200 new fixtures. [Calls: 141200]\n"
     ]
    },
    {
     "name": "stderr",
     "output_type": "stream",
     "text": [
      "Fetching stats:  97%|█████████▋| 141300/146085 [3:27:49<06:22, 12.50it/s]"
     ]
    },
    {
     "name": "stdout",
     "output_type": "stream",
     "text": [
      "🔄 Autosaved 208 rows after 141300 new fixtures. [Calls: 141300]\n"
     ]
    },
    {
     "name": "stderr",
     "output_type": "stream",
     "text": [
      "Fetching stats:  97%|█████████▋| 141402/146085 [3:27:58<06:30, 12.00it/s]"
     ]
    },
    {
     "name": "stdout",
     "output_type": "stream",
     "text": [
      "🔄 Autosaved 216 rows after 141400 new fixtures. [Calls: 141400]\n"
     ]
    },
    {
     "name": "stderr",
     "output_type": "stream",
     "text": [
      "Fetching stats:  97%|█████████▋| 141502/146085 [3:28:06<06:05, 12.56it/s]"
     ]
    },
    {
     "name": "stdout",
     "output_type": "stream",
     "text": [
      "🔄 Autosaved 208 rows after 141500 new fixtures. [Calls: 141500]\n"
     ]
    },
    {
     "name": "stderr",
     "output_type": "stream",
     "text": [
      "Fetching stats:  97%|█████████▋| 141602/146085 [3:28:15<06:08, 12.16it/s]"
     ]
    },
    {
     "name": "stdout",
     "output_type": "stream",
     "text": [
      "🔄 Autosaved 200 rows after 141600 new fixtures. [Calls: 141600]\n"
     ]
    },
    {
     "name": "stderr",
     "output_type": "stream",
     "text": [
      "Fetching stats:  97%|█████████▋| 141702/146085 [3:28:23<06:11, 11.80it/s]"
     ]
    },
    {
     "name": "stdout",
     "output_type": "stream",
     "text": [
      "🔄 Autosaved 1366 rows after 141700 new fixtures. [Calls: 141700]\n"
     ]
    },
    {
     "name": "stderr",
     "output_type": "stream",
     "text": [
      "Fetching stats:  97%|█████████▋| 141802/146085 [3:28:32<06:06, 11.70it/s]"
     ]
    },
    {
     "name": "stdout",
     "output_type": "stream",
     "text": [
      "🔄 Autosaved 1438 rows after 141800 new fixtures. [Calls: 141800]\n"
     ]
    },
    {
     "name": "stderr",
     "output_type": "stream",
     "text": [
      "Fetching stats:  97%|█████████▋| 141902/146085 [3:28:40<05:48, 12.00it/s]"
     ]
    },
    {
     "name": "stdout",
     "output_type": "stream",
     "text": [
      "🔄 Autosaved 1234 rows after 141900 new fixtures. [Calls: 141900]\n"
     ]
    },
    {
     "name": "stderr",
     "output_type": "stream",
     "text": [
      "Fetching stats:  97%|█████████▋| 142000/146085 [3:28:49<06:02, 11.26it/s]"
     ]
    },
    {
     "name": "stdout",
     "output_type": "stream",
     "text": [
      "🔄 Autosaved 954 rows after 142000 new fixtures. [Calls: 142000]\n"
     ]
    },
    {
     "name": "stderr",
     "output_type": "stream",
     "text": [
      "Fetching stats:  97%|█████████▋| 142102/146085 [3:28:58<05:48, 11.42it/s]"
     ]
    },
    {
     "name": "stdout",
     "output_type": "stream",
     "text": [
      "🔄 Autosaved 1550 rows after 142100 new fixtures. [Calls: 142100]\n"
     ]
    },
    {
     "name": "stderr",
     "output_type": "stream",
     "text": [
      "Fetching stats:  97%|█████████▋| 142202/146085 [3:29:07<06:03, 10.69it/s]"
     ]
    },
    {
     "name": "stdout",
     "output_type": "stream",
     "text": [
      "🔄 Autosaved 1280 rows after 142200 new fixtures. [Calls: 142200]\n"
     ]
    },
    {
     "name": "stderr",
     "output_type": "stream",
     "text": [
      "Fetching stats:  97%|█████████▋| 142302/146085 [3:29:16<05:41, 11.09it/s]"
     ]
    },
    {
     "name": "stdout",
     "output_type": "stream",
     "text": [
      "🔄 Autosaved 1104 rows after 142300 new fixtures. [Calls: 142300]\n"
     ]
    },
    {
     "name": "stderr",
     "output_type": "stream",
     "text": [
      "Fetching stats:  97%|█████████▋| 142402/146085 [3:29:25<05:56, 10.32it/s]"
     ]
    },
    {
     "name": "stdout",
     "output_type": "stream",
     "text": [
      "🔄 Autosaved 1020 rows after 142400 new fixtures. [Calls: 142400]\n"
     ]
    },
    {
     "name": "stderr",
     "output_type": "stream",
     "text": [
      "Fetching stats:  98%|█████████▊| 142502/146085 [3:29:34<05:17, 11.27it/s]"
     ]
    },
    {
     "name": "stdout",
     "output_type": "stream",
     "text": [
      "🔄 Autosaved 1492 rows after 142500 new fixtures. [Calls: 142500]\n"
     ]
    },
    {
     "name": "stderr",
     "output_type": "stream",
     "text": [
      "Fetching stats:  98%|█████████▊| 142602/146085 [3:29:44<05:33, 10.46it/s]"
     ]
    },
    {
     "name": "stdout",
     "output_type": "stream",
     "text": [
      "🔄 Autosaved 1220 rows after 142600 new fixtures. [Calls: 142600]\n"
     ]
    },
    {
     "name": "stderr",
     "output_type": "stream",
     "text": [
      "Fetching stats:  98%|█████████▊| 142702/146085 [3:29:54<05:10, 10.90it/s]"
     ]
    },
    {
     "name": "stdout",
     "output_type": "stream",
     "text": [
      "🔄 Autosaved 446 rows after 142700 new fixtures. [Calls: 142700]\n"
     ]
    },
    {
     "name": "stderr",
     "output_type": "stream",
     "text": [
      "Fetching stats:  98%|█████████▊| 142802/146085 [3:30:03<04:54, 11.16it/s]"
     ]
    },
    {
     "name": "stdout",
     "output_type": "stream",
     "text": [
      "🔄 Autosaved 40 rows after 142800 new fixtures. [Calls: 142800]\n"
     ]
    },
    {
     "name": "stderr",
     "output_type": "stream",
     "text": [
      "Fetching stats:  98%|█████████▊| 143201/146085 [3:30:39<04:16, 11.24it/s]"
     ]
    },
    {
     "name": "stdout",
     "output_type": "stream",
     "text": [
      "🔄 Autosaved 2 rows after 143200 new fixtures. [Calls: 143200]\n"
     ]
    },
    {
     "name": "stderr",
     "output_type": "stream",
     "text": [
      "Fetching stats:  99%|█████████▉| 144701/146085 [3:32:48<01:52, 12.29it/s]"
     ]
    },
    {
     "name": "stdout",
     "output_type": "stream",
     "text": [
      "🔄 Autosaved 482 rows after 144700 new fixtures. [Calls: 144700]\n"
     ]
    },
    {
     "name": "stderr",
     "output_type": "stream",
     "text": [
      "Fetching stats:  99%|█████████▉| 144801/146085 [3:32:57<01:46, 12.11it/s]"
     ]
    },
    {
     "name": "stdout",
     "output_type": "stream",
     "text": [
      "🔄 Autosaved 420 rows after 144800 new fixtures. [Calls: 144800]\n"
     ]
    },
    {
     "name": "stderr",
     "output_type": "stream",
     "text": [
      "Fetching stats:  99%|█████████▉| 144901/146085 [3:33:05<01:44, 11.29it/s]"
     ]
    },
    {
     "name": "stdout",
     "output_type": "stream",
     "text": [
      "🔄 Autosaved 484 rows after 144900 new fixtures. [Calls: 144900]\n"
     ]
    },
    {
     "name": "stderr",
     "output_type": "stream",
     "text": [
      "Fetching stats:  99%|█████████▉| 145001/146085 [3:33:14<01:39, 10.85it/s]"
     ]
    },
    {
     "name": "stdout",
     "output_type": "stream",
     "text": [
      "🔄 Autosaved 696 rows after 145000 new fixtures. [Calls: 145000]\n"
     ]
    },
    {
     "name": "stderr",
     "output_type": "stream",
     "text": [
      "Fetching stats:  99%|█████████▉| 145101/146085 [3:33:22<01:22, 11.90it/s]"
     ]
    },
    {
     "name": "stdout",
     "output_type": "stream",
     "text": [
      "🔄 Autosaved 1170 rows after 145100 new fixtures. [Calls: 145100]\n"
     ]
    },
    {
     "name": "stderr",
     "output_type": "stream",
     "text": [
      "Fetching stats:  99%|█████████▉| 145201/146085 [3:33:30<01:12, 12.21it/s]"
     ]
    },
    {
     "name": "stdout",
     "output_type": "stream",
     "text": [
      "🔄 Autosaved 1324 rows after 145200 new fixtures. [Calls: 145200]\n"
     ]
    },
    {
     "name": "stderr",
     "output_type": "stream",
     "text": [
      "Fetching stats:  99%|█████████▉| 145301/146085 [3:33:39<01:04, 12.11it/s]"
     ]
    },
    {
     "name": "stdout",
     "output_type": "stream",
     "text": [
      "🔄 Autosaved 846 rows after 145300 new fixtures. [Calls: 145300]\n"
     ]
    },
    {
     "name": "stderr",
     "output_type": "stream",
     "text": [
      "Fetching stats: 100%|█████████▉| 145501/146085 [3:33:55<00:46, 12.44it/s]"
     ]
    },
    {
     "name": "stdout",
     "output_type": "stream",
     "text": [
      "🔄 Autosaved 440 rows after 145500 new fixtures. [Calls: 145500]\n"
     ]
    },
    {
     "name": "stderr",
     "output_type": "stream",
     "text": [
      "Fetching stats: 100%|█████████▉| 145601/146085 [3:34:04<00:39, 12.32it/s]"
     ]
    },
    {
     "name": "stdout",
     "output_type": "stream",
     "text": [
      "🔄 Autosaved 734 rows after 145600 new fixtures. [Calls: 145600]\n"
     ]
    },
    {
     "name": "stderr",
     "output_type": "stream",
     "text": [
      "Fetching stats: 100%|█████████▉| 145701/146085 [3:34:12<00:31, 12.28it/s]"
     ]
    },
    {
     "name": "stdout",
     "output_type": "stream",
     "text": [
      "🔄 Autosaved 36 rows after 145700 new fixtures. [Calls: 145700]\n"
     ]
    },
    {
     "name": "stderr",
     "output_type": "stream",
     "text": [
      "Fetching stats: 100%|█████████▉| 145801/146085 [3:34:20<00:26, 10.52it/s]"
     ]
    },
    {
     "name": "stdout",
     "output_type": "stream",
     "text": [
      "🔄 Autosaved 368 rows after 145800 new fixtures. [Calls: 145800]\n"
     ]
    },
    {
     "name": "stderr",
     "output_type": "stream",
     "text": [
      "Fetching stats: 100%|█████████▉| 145901/146085 [3:34:28<00:14, 12.53it/s]"
     ]
    },
    {
     "name": "stdout",
     "output_type": "stream",
     "text": [
      "🔄 Autosaved 834 rows after 145900 new fixtures. [Calls: 145900]\n"
     ]
    },
    {
     "name": "stderr",
     "output_type": "stream",
     "text": [
      "Fetching stats: 100%|█████████▉| 146000/146085 [3:34:36<00:07, 11.40it/s]"
     ]
    },
    {
     "name": "stdout",
     "output_type": "stream",
     "text": [
      "🔄 Autosaved 700 rows after 146000 new fixtures. [Calls: 146000]\n"
     ]
    },
    {
     "name": "stderr",
     "output_type": "stream",
     "text": [
      "Fetching stats: 100%|██████████| 146085/146085 [3:34:44<00:00, 11.34it/s]"
     ]
    },
    {
     "name": "stdout",
     "output_type": "stream",
     "text": [
      "✅ Final save: 214 rows.\n",
      "🎯 Done! Total API calls: 146085 | Stats saved to /Users/sebastianvinther/Desktop/Sportsmonks/fixture_statistics_parallel.csv\n"
     ]
    },
    {
     "name": "stderr",
     "output_type": "stream",
     "text": [
      "\n"
     ]
    }
   ],
   "source": [
    "import pandas as pd\n",
    "import requests\n",
    "import time\n",
    "import os\n",
    "from concurrent.futures import ThreadPoolExecutor, as_completed\n",
    "from tqdm import tqdm\n",
    "\n",
    "# === CONFIG ===\n",
    "API_TOKEN = \"oYeoAVFUTQpu7MfoFqbvyiYfgRRkuBWW0p2atkZnySe4X3xrHkjgGhOvI0pd\"\n",
    "FIXTURE_FILE = \"/Users/sebastianvinther/Desktop/Sportsmonks/fixtures_full.csv\"\n",
    "OUTPUT_FILE = \"/Users/sebastianvinther/Desktop/Sportsmonks/fixture_statistics_parallel.csv\"\n",
    "NUM_THREADS = 1\n",
    "SAVE_EVERY = 100  # fixtures\n",
    "MAX_CALLS_PER_HOUR = 53000\n",
    "MIN_SECONDS_BETWEEN_CALLS = 3600 / MAX_CALLS_PER_HOUR\n",
    "\n",
    "# === LOAD FIXTURE IDS ===\n",
    "all_fixture_ids = pd.read_csv(FIXTURE_FILE)['id'].dropna().astype(int).tolist()\n",
    "\n",
    "# === LOAD PROGRESS IF EXISTS ===\n",
    "if os.path.exists(OUTPUT_FILE):\n",
    "    done_ids = pd.read_csv(OUTPUT_FILE)['fixture_id'].dropna().unique().tolist()\n",
    "    remaining_ids = [fid for fid in all_fixture_ids if fid not in done_ids]\n",
    "    print(f\"🔁 Resuming: {len(done_ids)} done, {len(remaining_ids)} remaining.\")\n",
    "else:\n",
    "    done_ids = []\n",
    "    remaining_ids = all_fixture_ids\n",
    "    print(f\"🆕 Starting fresh with {len(remaining_ids)} fixtures.\")\n",
    "\n",
    "# === SHARED SESSION ===\n",
    "session = requests.Session()\n",
    "adapter = requests.adapters.HTTPAdapter(pool_connections=100, pool_maxsize=100)\n",
    "session.mount(\"https://\", adapter)\n",
    "\n",
    "# === FUNCTION TO FETCH STATS ===\n",
    "api_calls = 0\n",
    "start_time = time.time()\n",
    "\n",
    "def fetch_fixture_stats(fixture_id):\n",
    "    global api_calls, start_time\n",
    "    url = f\"https://api.sportmonks.com/v3/football/fixtures/{fixture_id}\"\n",
    "    params = {\"api_token\": API_TOKEN, \"include\": \"statistics\"}\n",
    "\n",
    "    # Rate-limiting delay\n",
    "    elapsed = time.time() - start_time\n",
    "    ideal_elapsed = api_calls * MIN_SECONDS_BETWEEN_CALLS\n",
    "    if elapsed < ideal_elapsed:\n",
    "        time.sleep(ideal_elapsed - elapsed)\n",
    "\n",
    "    try:\n",
    "        response = session.get(url, params=params, timeout=10)\n",
    "        api_calls += 1\n",
    "\n",
    "        if response.status_code != 200:\n",
    "            return []\n",
    "\n",
    "        stats = response.json().get(\"data\", {}).get(\"statistics\", [])\n",
    "        flat_stats = []\n",
    "        for stat in stats:\n",
    "            flat_stat = {\"fixture_id\": fixture_id}\n",
    "            for k, v in stat.items():\n",
    "                if isinstance(v, dict):\n",
    "                    for sub_k, sub_v in v.items():\n",
    "                        flat_stat[f\"{k}_{sub_k}\"] = sub_v\n",
    "                else:\n",
    "                    flat_stat[k] = v\n",
    "            flat_stats.append(flat_stat)\n",
    "        return flat_stats\n",
    "\n",
    "    except Exception as e:\n",
    "        print(f\"[{fixture_id}] Error: {e}\")\n",
    "        return []\n",
    "\n",
    "# === PARALLEL EXECUTION WITH PERIODIC SAVING ===\n",
    "all_stats = []\n",
    "completed = 0\n",
    "\n",
    "with ThreadPoolExecutor(max_workers=NUM_THREADS) as executor:\n",
    "    futures = {executor.submit(fetch_fixture_stats, fid): fid for fid in remaining_ids}\n",
    "    for future in tqdm(as_completed(futures), total=len(futures), desc=\"Fetching stats\"):\n",
    "        result = future.result()\n",
    "        if result:\n",
    "            all_stats.extend(result)\n",
    "        completed += 1\n",
    "\n",
    "        if completed % SAVE_EVERY == 0:\n",
    "            if all_stats:\n",
    "                df = pd.DataFrame(all_stats)\n",
    "                header = not os.path.exists(OUTPUT_FILE)\n",
    "                df.to_csv(OUTPUT_FILE, mode='a', header=header, index=False)\n",
    "                print(f\"🔄 Autosaved {len(all_stats)} rows after {completed} new fixtures. [Calls: {api_calls}]\")\n",
    "                all_stats = []\n",
    "\n",
    "# Final save\n",
    "if all_stats:\n",
    "    df = pd.DataFrame(all_stats)\n",
    "    header = not os.path.exists(OUTPUT_FILE)\n",
    "    df.to_csv(OUTPUT_FILE, mode='a', header=header, index=False)\n",
    "    print(f\"✅ Final save: {len(all_stats)} rows.\")\n",
    "\n",
    "print(f\"🎯 Done! Total API calls: {api_calls} | Stats saved to {OUTPUT_FILE}\")"
   ]
  },
  {
   "cell_type": "code",
   "execution_count": 6,
   "metadata": {},
   "outputs": [
    {
     "name": "stdout",
     "output_type": "stream",
     "text": [
      "Limit: None\n",
      "Remaining: None\n",
      "Reset: None\n"
     ]
    },
    {
     "name": "stdout",
     "output_type": "stream",
     "text": [
      "[302629] Error: ('Connection aborted.', RemoteDisconnected('Remote end closed connection without response'))\n"
     ]
    }
   ],
   "source": [
    "response = requests.get(\"https://api.sportmonks.com/v3/football/fixtures/1\", params={\n",
    "    \"api_token\": API_TOKEN,\n",
    "    \"include\": \"statistics\"\n",
    "})\n",
    "\n",
    "# Show usage\n",
    "print(\"Limit:\", response.headers.get(\"X-RateLimit-Limit\"))\n",
    "print(\"Remaining:\", response.headers.get(\"X-RateLimit-Remaining\"))\n",
    "print(\"Reset:\", response.headers.get(\"X-RateLimit-Reset\"))\n"
   ]
  },
  {
   "cell_type": "code",
   "execution_count": 4,
   "metadata": {},
   "outputs": [
    {
     "name": "stdout",
     "output_type": "stream",
     "text": [
      "✅ Loaded 76582 rows\n",
      "🔢 Columns: ['fixture_id', 'id', 'type_id', 'participant_id', 'data_value', 'location']\n",
      "\n",
      "📊 Stat type_id counts:\n",
      "type_id\n",
      "34      18902\n",
      "45      18640\n",
      "52      15056\n",
      "83       7834\n",
      "84      14048\n",
      "85        236\n",
      "1605     1866\n",
      "Name: count, dtype: int64\n",
      "\n",
      "📌 Example stat rows:\n",
      "       fixture_id        id  type_id  participant_id  data_value location\n",
      "3             486  17278082       34              26         3.0     away\n",
      "4             486  17278095       45              16        55.0     home\n",
      "0             468  22501328       52              13         2.0     away\n",
      "436           849  14959145       83              14         0.0     home\n",
      "8             486  52391006       84              26         2.0     away\n",
      "16192        6518  18617910       85              22         0.0     home\n",
      "2             486  17278081     1605              16        54.0     home\n"
     ]
    }
   ],
   "source": [
    "import pandas as pd\n",
    "\n",
    "# Load stats file\n",
    "stats_df = pd.read_csv(\"/Users/sebastianvinther/Desktop/Sportsmonks/fixture_statistics_parallel.csv\")\n",
    "\n",
    "# Show basic info\n",
    "print(f\"✅ Loaded {len(stats_df)} rows\")\n",
    "print(\"🔢 Columns:\", stats_df.columns.tolist())\n",
    "\n",
    "# Count unique type_ids\n",
    "type_counts = stats_df['type_id'].value_counts().sort_index()\n",
    "\n",
    "# Show summary of type_id usage\n",
    "print(\"\\n📊 Stat type_id counts:\")\n",
    "print(type_counts)\n",
    "\n",
    "# Optional: show sample rows per type_id\n",
    "print(\"\\n📌 Example stat rows:\")\n",
    "print(stats_df.groupby('type_id').head(1).sort_values('type_id'))\n"
   ]
  },
  {
   "cell_type": "code",
   "execution_count": null,
   "metadata": {},
   "outputs": [],
   "source": [
    "all_stats = []\n",
    "\n",
    "with ThreadPoolExecutor(max_workers=NUM_THREADS) as executor:\n",
    "    futures = {executor.submit(fetch_fixture_stats, fid): fid for fid in fixture_ids}\n",
    "    for future in tqdm(as_completed(futures), total=len(futures), desc=\"Fetching stats\"):\n",
    "        result = future.result()\n",
    "        if result:\n",
    "            all_stats.extend(result)\n",
    "\n",
    "# Save once all threads complete\n",
    "pd.DataFrame(all_stats).to_csv(OUTPUT_FILE, index=False)\n",
    "print(f\"✅ Done! Saved {len(all_stats)} rows to {OUTPUT_FILE}\")\n"
   ]
  }
 ],
 "metadata": {
  "kernelspec": {
   "display_name": "base",
   "language": "python",
   "name": "python3"
  },
  "language_info": {
   "codemirror_mode": {
    "name": "ipython",
    "version": 3
   },
   "file_extension": ".py",
   "mimetype": "text/x-python",
   "name": "python",
   "nbconvert_exporter": "python",
   "pygments_lexer": "ipython3",
   "version": "3.12.7"
  }
 },
 "nbformat": 4,
 "nbformat_minor": 2
}
